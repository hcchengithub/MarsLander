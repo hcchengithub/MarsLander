{
 "cells": [
  {
   "cell_type": "code",
   "execution_count": 1,
   "metadata": {},
   "outputs": [],
   "source": []
  },
  {
   "cell_type": "code",
   "execution_count": 1,
   "metadata": {},
   "outputs": [],
   "source": [
    "# path 太長好像 %run 不了，先到當地去 \"subst g: . \" 把整條 path 變成 x: 就好辦了\n",
    "!subst x: /d\n",
    "!subst x: \"c:\\Users\\8304018\\OneDrive\\文件\\Jupyter Notebooks\\Differences of np.dot and np.multiply\"\n",
    "%run x:\\How_to_check_if_two_line_segments_intersect.ipynb"
   ]
  },
  {
   "cell_type": "code",
   "execution_count": 2,
   "metadata": {},
   "outputs": [],
   "source": [
    "# A Python3 program to find if 2 given line segments intersect or not\n",
    "\n",
    "class Point:\n",
    "\tdef __init__(self, x, y):\n",
    "\t\tself.x = x\n",
    "\t\tself.y = y"
   ]
  },
  {
   "cell_type": "code",
   "execution_count": 3,
   "metadata": {},
   "outputs": [
    {
     "name": "stdout",
     "output_type": "stream",
     "text": [
      "No\n",
      "Yes\n",
      "No\n"
     ]
    }
   ],
   "source": [
    "# Driver program to test above functions:\n",
    "p1 = Point(1, 1)\n",
    "q1 = Point(10, 1)\n",
    "p2 = Point(1, 2)\n",
    "q2 = Point(10, 2)\n",
    "\n",
    "if doIntersect(p1, q1, p2, q2):\n",
    "\tprint(\"Yes\")\n",
    "else:\n",
    "\tprint(\"No\")\n",
    "\n",
    "p1 = Point(10, 0)\n",
    "q1 = Point(0, 10)\n",
    "p2 = Point(0, 0)\n",
    "q2 = Point(10,10)\n",
    "\n",
    "if doIntersect(p1, q1, p2, q2):\n",
    "\tprint(\"Yes\")\n",
    "else:\n",
    "\tprint(\"No\")\n",
    "\n",
    "p1 = Point(-5,-5)\n",
    "q1 = Point(0, 0)\n",
    "p2 = Point(1, 1)\n",
    "q2 = Point(10, 10)\n",
    "\n",
    "if doIntersect(p1, q1, p2, q2):\n",
    "\tprint(\"Yes\")\n",
    "else:\n",
    "\tprint(\"No\")\n",
    "\t\n",
    "# This code is contributed by Ansh Riyal"
   ]
  },
  {
   "cell_type": "code",
   "execution_count": 7,
   "metadata": {},
   "outputs": [
    {
     "name": "stdout",
     "output_type": "stream",
     "text": [
      "reDef unknown\n",
      "reDef -->\n",
      "p e f o r t h    v1.26\n",
      "source code http://github.com/hcchengithub/peforth\n",
      "Type 'peforth.ok()' to enter forth interpreter, 'exit' to come back.\n",
      "\n"
     ]
    }
   ],
   "source": [
    "%run forth.py"
   ]
  },
  {
   "cell_type": "code",
   "execution_count": 8,
   "metadata": {},
   "outputs": [
    {
     "name": "stdout",
     "output_type": "stream",
     "text": [
      "code end-code \\ # // <selftest> </selftest> bye /// unknown immediate stop compyle trim indent -indent <py> </py> </pyV> words . cr help interpret-only compile-only literal reveal privacy (create) : ; ( BL CR word ' , [compile] py: py> py:~ py>~ 0branch here! here swap ! @ ? >r r> r@ drop nip dup over 0< + * - / % 1+ 2+ 1- 2- compile if then compiling char last version execute cls private nonprivate (space) exit ret rescan-word-hash (') branch bool and or not (forget) AND OR NOT XOR true false \"\" [] {} none >> << 0= 0> 0<> 0<= 0>= = == > < != >= <= abs max min doVar doNext depth pick roll space [ ] colon-word create (marker) marker next abort alias <> public rot -rot 2drop 2dup slice invert negate within ['] allot for begin until again ahead never repeat aft else while ?stop ?dup variable +! chars spaces .( .\" .' s\" s' s` does> count accept <accept> nop </accept> \u0004 case of endof endcase refill [else] [if] [then] (::) (:>) :: :> ::~ :>~ \"msg\"abort abort\" \"msg\"?abort ?abort\" '<text> (<text>) <text> </text> <comment> </comment> (constant) constant value to --> >t t@ t> [begin] [again] [until] [for] [next] type list dict str set tuple dict>keys _dir_ dir keys __main__ (import) import module modules int float drops dropall char>ASCII ASCII>char CRLF ASCII .s (*debug*) *debug* readTextFile writeTextFile tib.insert dictate sinclude include break-include stringify toString .literal .function (dump) dump dump2ret d (see) see (cd) cd === (pyclude) pyclude .members .source sign round-off txt2json _locals_ debug unknown quit dos --> ==> paste path-to-find-modules bp bl bd be bd* be* xstack x@ x> >x .sx xdrop xdropall \n"
     ]
    }
   ],
   "source": [
    "%f words"
   ]
  },
  {
   "cell_type": "code",
   "execution_count": null,
   "metadata": {},
   "outputs": [],
   "source": []
  },
  {
   "cell_type": "code",
   "execution_count": null,
   "metadata": {},
   "outputs": [],
   "source": []
  }
 ],
 "metadata": {
  "kernelspec": {
   "display_name": "Python 3",
   "language": "python",
   "name": "python3"
  },
  "language_info": {
   "codemirror_mode": {
    "name": "ipython",
    "version": 3
   },
   "file_extension": ".py",
   "mimetype": "text/x-python",
   "name": "python",
   "nbconvert_exporter": "python",
   "pygments_lexer": "ipython3",
   "version": "3.7.5"
  }
 },
 "nbformat": 4,
 "nbformat_minor": 4
}
