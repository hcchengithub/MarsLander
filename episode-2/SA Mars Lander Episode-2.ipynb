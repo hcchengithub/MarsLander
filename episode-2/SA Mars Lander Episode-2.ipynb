{
 "cells": [
  {
   "cell_type": "markdown",
   "metadata": {},
   "source": [
    "# Episode-2\n",
    "\n",
    "    0 : land_x 0, land_y 100\n",
    "    1 : land_x 1000, land_y 500\n",
    "    2 : land_x 1500, land_y 1500\n",
    "    3 : land_x 3000, land_y 1000\n",
    "    4 : land_x 4000, land_y 150\n",
    "    5 : land_x 5500, land_y 150\n",
    "    6 : land_x 6999, land_y 800\n",
    "    "
   ]
  },
  {
   "cell_type": "code",
   "execution_count": 1,
   "metadata": {
    "tags": []
   },
   "outputs": [],
   "source": [
    "# 抓進 peforth 以及外加功能\n",
    "%run forth.py"
   ]
  },
  {
   "cell_type": "code",
   "execution_count": 2,
   "metadata": {
    "tags": []
   },
   "outputs": [
    {
     "name": "stdout",
     "output_type": "stream",
     "text": [
      "Using matplotlib backend: TkAgg\n",
      "Populating the interactive namespace from numpy and matplotlib\n"
     ]
    }
   ],
   "source": [
    "%pylab\n",
    "# import numpy as np\n",
    "from typing import List, Optional, Callable, Tuple, Dict, Union  # OneNote2021 #_python_ #_typing_\n",
    "GENE = List[int]  # (rotate (-15 ~ +15),power (-1, 0, +1)) 避免無用的值域，下給 Web site 的 command 要轉換成 (rotate(-90 ~ +90), power(0,1,2,3,4))\n",
    "GENOME = List[GENE]  # Genome 是一個 list 裡面都是 int\n",
    "STATE = Dict[str,Union[int,float,np.array]]  # x,y,hspeed,power,.. etc \n",
    "\n",
    "import random, json, math, copy\n",
    "from itertools import permutations  # permutations 數學「排列組合」中的「排列」\n",
    "import IPython"
   ]
  },
  {
   "cell_type": "markdown",
   "metadata": {},
   "source": [
    "### 兩線相交的偵測程式"
   ]
  },
  {
   "cell_type": "code",
   "execution_count": 3,
   "metadata": {},
   "outputs": [
    {
     "name": "stdout",
     "output_type": "stream",
     "text": [
      "磁碟已經執行過 SUBST\n"
     ]
    }
   ],
   "source": [
    "# path 太長好像 %run 不了，先到當地去 \"subst g: . \" 把整條 path 變成 x: 就好辦了\n",
    "# doIntersect(p1:Vector, q1:Vector, p2:Vector, q2:Vector) -> boolean\n",
    "\n",
    "# !subst x: /d\n",
    "\n",
    "# OA LPM2\n",
    "# !subst x: \"c:\\Users\\8304018\\OneDrive\\文件\\Jupyter Notebooks\\Differences of np.dot and np.multiply\"\n",
    "\n",
    "# Desktop @ home\n",
    "!subst x: \"c:\\Users\\User\\OneDrive\\文件\\Jupyter Notebooks\\Differences of np.dot and np.multiply\" \n",
    "\n",
    "%run x:\\How_to_check_if_two_line_segments_intersect.ipynb"
   ]
  },
  {
   "cell_type": "markdown",
   "metadata": {},
   "source": [
    "### 點到線段的距離"
   ]
  },
  {
   "cell_type": "code",
   "execution_count": 4,
   "metadata": {},
   "outputs": [
    {
     "name": "stdout",
     "output_type": "stream",
     "text": [
      "distance --> [0.70710678 0.70710678] (<class 'numpy.ndarray'>)\n",
      "distance --> [1.11803399 0.         0.5        0.5        0.         0.5\n",
      " 1.11803399] (<class 'numpy.ndarray'>)\n"
     ]
    }
   ],
   "source": [
    "# Calculate the euclidian distance between an array of points to a line segment in Python without for loop\n",
    "# https://stackoverflow.com/questions/54442057/calculate-the-euclidian-distance-between-an-array-of-points-to-a-line-segment-in\n",
    "# OneDrive/文件/Jupyter Notebooks/Differences of np.dot and np.multiply/intro_2_vector.ipynb\n",
    "# lineseg_dists(p:[Vector], a:Vector, b:Vector) -> [float]\n",
    "\n",
    "def lineseg_dists(p, a, b):\n",
    "    # where p is an array of points, a,b is the line segment\n",
    "    # lineseg_dists(p:[Vector], a:Vector, b:Vector) -> [float]\n",
    "    \n",
    "    if np.all(a == b):\n",
    "        return np.linalg.norm(p - a, axis=1)  # a-b 是一個點，直接取 p-a 就是答案。 p \n",
    "\n",
    "    # normalized tangent vector\n",
    "    d = np.divide(b - a, np.linalg.norm(b - a))\n",
    "\n",
    "    # signed parallel distance components\n",
    "    s = np.dot(a - p, d)  # a-p 在 d 上的投影\n",
    "    t = np.dot(p - b, d)  # p-b 在 d 上的投影\n",
    "\n",
    "    # clamped parallel distance\n",
    "    h = np.maximum.reduce([s, t, np.zeros(len(p))])  # h 是\n",
    "    \n",
    "    # perpendicular distance component, as before\n",
    "    # note that for the 3D case these will be vectors\n",
    "    c = np.cross(p - a, d)\n",
    "\n",
    "    # use hypot for Pythagoras to improve accuracy\n",
    "    result = np.hypot(h, c)\n",
    "    \n",
    "    return result\n",
    "\n",
    "# 點 [1,1] 在線的右上邊，距離是正的；點 [0,0] 在線的左下邊，距離也是正的，所以它沒有分正負。\n",
    "p = np.array([[1,1],[0,0]])  # the point\n",
    "a = np.array([1,0])  # the line start\n",
    "b = np.array([0,1])  # the line end\n",
    "distance = lineseg_dists(p, a, b)\n",
    "%f distance -->\n",
    "\n",
    "# 這組實驗證實 lineseg_dists() 無誤\n",
    "p = np.array([[-1,0.5],[0,0],[0,0.5],[0.5,0.5],[1,0],[1,0.5],[2,0.5]])  # the point\n",
    "a = np.array([0,0])  # the line start\n",
    "b = np.array([1,0])  # the line end\n",
    "distance = lineseg_dists(p, a, b)\n",
    "%f distance -->"
   ]
  },
  {
   "cell_type": "markdown",
   "metadata": {},
   "source": [
    "# 直接讀 log 檔\n",
    "So the `%store log` is from here"
   ]
  },
  {
   "cell_type": "code",
   "execution_count": 5,
   "metadata": {
    "scrolled": true,
    "tags": []
   },
   "outputs": [
    {
     "name": "stdout",
     "output_type": "stream",
     "text": [
      "log --> [{'step': 0, 'length': 73, 'x': 2500, 'y': 2700, 'hspeed': 0, 'vspeed': 0, 'fuel': 550, 'angle': 0, 'power': 0, 'cmd': [-99, -99]}, {'step': 1, 'length': 73, 'x': 2500, 'y': 2699, 'hspeed': 0, 'vspeed': -3, 'fuel': 549, 'angle': -15, 'power': 1, 'cmd': [-20, 3]}, {'step': 2, 'length': 73, 'x': 2501, 'y': 2695, 'hspeed': 1, 'vspeed': -5, 'fuel': 547, 'angle': -20, 'power': 2, 'cmd': [-20, 3]}, {'step': 3, 'length': 73, 'x': 2502, 'y': 2690, 'hspeed': 2, 'vspeed': -5, 'fuel': 544, 'angle': -20, 'power': 3, 'cmd': [-20, 3]}, {'step': 4, 'length': 73, 'x': 2505, 'y': 2684, 'hspeed': 3, 'vspeed': -6, 'fuel': 541, 'angle': -20, 'power': 3, 'cmd': [-20, 3]}, {'step': 5, 'length': 73, 'x': 2508, 'y': 2677, 'hspeed': 4, 'vspeed': -7, 'fuel': 538, 'angle': -20, 'power': 3, 'cmd': [-20, 3]}, {'step': 6, 'length': 73, 'x': 2513, 'y': 2670, 'hspeed': 5, 'vspeed': -8, 'fuel': 535, 'angle': -20, 'power': 3, 'cmd': [-20, 3]}, {'step': 7, 'length': 73, 'x': 2518, 'y': 2661, 'hspeed': 6, 'vspeed': -9, 'fuel': 532, 'angle': -20, 'power': 3, 'cmd': [-20, 3]}, {'step': 8, 'length': 73, 'x': 2525, 'y': 2651, 'hspeed': 7, 'vspeed': -10, 'fuel': 529, 'angle': -20, 'power': 3, 'cmd': [-20, 3]}, {'step': 9, 'length': 73, 'x': 2532, 'y': 2641, 'hspeed': 8, 'vspeed': -11, 'fuel': 526, 'angle': -20, 'power': 3, 'cmd': [-20, 3]}, {'step': 10, 'length': 73, 'x': 2541, 'y': 2630, 'hspeed': 9, 'vspeed': -12, 'fuel': 523, 'angle': -20, 'power': 3, 'cmd': [-20, 3]}, {'step': 11, 'length': 73, 'x': 2551, 'y': 2618, 'hspeed': 10, 'vspeed': -13, 'fuel': 520, 'angle': -20, 'power': 3, 'cmd': [-20, 3]}, {'step': 12, 'length': 73, 'x': 2561, 'y': 2605, 'hspeed': 11, 'vspeed': -13, 'fuel': 517, 'angle': -20, 'power': 3, 'cmd': [-20, 3]}, {'step': 13, 'length': 73, 'x': 2573, 'y': 2591, 'hspeed': 12, 'vspeed': -14, 'fuel': 514, 'angle': -20, 'power': 3, 'cmd': [-20, 3]}, {'step': 14, 'length': 73, 'x': 2586, 'y': 2576, 'hspeed': 13, 'vspeed': -15, 'fuel': 511, 'angle': -20, 'power': 3, 'cmd': [-20, 3]}, {'step': 15, 'length': 73, 'x': 2600, 'y': 2560, 'hspeed': 14, 'vspeed': -16, 'fuel': 508, 'angle': -20, 'power': 3, 'cmd': [-20, 3]}, {'step': 16, 'length': 73, 'x': 2614, 'y': 2543, 'hspeed': 15, 'vspeed': -17, 'fuel': 505, 'angle': -20, 'power': 3, 'cmd': [-20, 3]}, {'step': 17, 'length': 73, 'x': 2630, 'y': 2526, 'hspeed': 16, 'vspeed': -18, 'fuel': 502, 'angle': -20, 'power': 3, 'cmd': [-20, 3]}, {'step': 18, 'length': 73, 'x': 2647, 'y': 2508, 'hspeed': 17, 'vspeed': -19, 'fuel': 499, 'angle': -20, 'power': 3, 'cmd': [-20, 3]}, {'step': 19, 'length': 73, 'x': 2665, 'y': 2488, 'hspeed': 18, 'vspeed': -20, 'fuel': 496, 'angle': -20, 'power': 3, 'cmd': [-20, 3]}, {'step': 20, 'length': 73, 'x': 2684, 'y': 2468, 'hspeed': 19, 'vspeed': -21, 'fuel': 493, 'angle': -20, 'power': 3, 'cmd': [-20, 3]}, {'step': 21, 'length': 73, 'x': 2704, 'y': 2447, 'hspeed': 20, 'vspeed': -22, 'fuel': 490, 'angle': -20, 'power': 3, 'cmd': [-20, 3]}, {'step': 22, 'length': 73, 'x': 2725, 'y': 2425, 'hspeed': 21, 'vspeed': -22, 'fuel': 487, 'angle': -20, 'power': 3, 'cmd': [-20, 3]}, {'step': 23, 'length': 73, 'x': 2747, 'y': 2402, 'hspeed': 22, 'vspeed': -23, 'fuel': 484, 'angle': -20, 'power': 3, 'cmd': [-20, 3]}, {'step': 24, 'length': 73, 'x': 2770, 'y': 2378, 'hspeed': 24, 'vspeed': -24, 'fuel': 481, 'angle': -20, 'power': 3, 'cmd': [-20, 3]}, {'step': 25, 'length': 73, 'x': 2794, 'y': 2354, 'hspeed': 25, 'vspeed': -25, 'fuel': 478, 'angle': -20, 'power': 3, 'cmd': [-20, 3]}, {'step': 26, 'length': 73, 'x': 2819, 'y': 2328, 'hspeed': 26, 'vspeed': -26, 'fuel': 475, 'angle': -20, 'power': 3, 'cmd': [-20, 3]}, {'step': 27, 'length': 73, 'x': 2845, 'y': 2302, 'hspeed': 27, 'vspeed': -27, 'fuel': 472, 'angle': -20, 'power': 3, 'cmd': [-20, 3]}, {'step': 28, 'length': 73, 'x': 2872, 'y': 2275, 'hspeed': 28, 'vspeed': -28, 'fuel': 469, 'angle': -20, 'power': 3, 'cmd': [-20, 3]}, {'step': 29, 'length': 73, 'x': 2900, 'y': 2246, 'hspeed': 29, 'vspeed': -29, 'fuel': 466, 'angle': -20, 'power': 3, 'cmd': [-20, 3]}, {'step': 30, 'length': 73, 'x': 2929, 'y': 2217, 'hspeed': 30, 'vspeed': -30, 'fuel': 463, 'angle': -20, 'power': 3, 'cmd': [-20, 3]}, {'step': 31, 'length': 73, 'x': 2960, 'y': 2187, 'hspeed': 31, 'vspeed': -30, 'fuel': 460, 'angle': -20, 'power': 3, 'cmd': [-20, 3]}, {'step': 32, 'length': 73, 'x': 2991, 'y': 2156, 'hspeed': 32, 'vspeed': -31, 'fuel': 457, 'angle': -20, 'power': 3, 'cmd': [-20, 3]}, {'step': 33, 'length': 73, 'x': 3023, 'y': 2125, 'hspeed': 33, 'vspeed': -32, 'fuel': 454, 'angle': -20, 'power': 3, 'cmd': [-20, 3]}, {'step': 34, 'length': 73, 'x': 3056, 'y': 2092, 'hspeed': 34, 'vspeed': -33, 'fuel': 451, 'angle': -20, 'power': 3, 'cmd': [-20, 3]}, {'step': 35, 'length': 73, 'x': 3091, 'y': 2058, 'hspeed': 35, 'vspeed': -34, 'fuel': 448, 'angle': -20, 'power': 3, 'cmd': [-20, 3]}, {'step': 36, 'length': 73, 'x': 3126, 'y': 2024, 'hspeed': 36, 'vspeed': -35, 'fuel': 445, 'angle': -20, 'power': 3, 'cmd': [-20, 3]}, {'step': 37, 'length': 73, 'x': 3162, 'y': 1988, 'hspeed': 37, 'vspeed': -36, 'fuel': 442, 'angle': -20, 'power': 3, 'cmd': [-20, 3]}, {'step': 38, 'length': 73, 'x': 3200, 'y': 1952, 'hspeed': 38, 'vspeed': -37, 'fuel': 439, 'angle': -20, 'power': 3, 'cmd': [-20, 3]}, {'step': 39, 'length': 73, 'x': 3238, 'y': 1915, 'hspeed': 39, 'vspeed': -38, 'fuel': 436, 'angle': -20, 'power': 3, 'cmd': [-20, 3]}, {'step': 40, 'length': 73, 'x': 3277, 'y': 1877, 'hspeed': 40, 'vspeed': -38, 'fuel': 433, 'angle': -20, 'power': 3, 'cmd': [-20, 3]}, {'step': 41, 'length': 73, 'x': 3318, 'y': 1838, 'hspeed': 41, 'vspeed': -39, 'fuel': 430, 'angle': -20, 'power': 3, 'cmd': [-20, 3]}, {'step': 42, 'length': 73, 'x': 3359, 'y': 1798, 'hspeed': 42, 'vspeed': -40, 'fuel': 427, 'angle': -20, 'power': 3, 'cmd': [-20, 3]}, {'step': 43, 'length': 73, 'x': 3402, 'y': 1758, 'hspeed': 43, 'vspeed': -41, 'fuel': 424, 'angle': -20, 'power': 3, 'cmd': [-20, 3]}, {'step': 44, 'length': 73, 'x': 3445, 'y': 1716, 'hspeed': 44, 'vspeed': -42, 'fuel': 421, 'angle': -20, 'power': 3, 'cmd': [-20, 3]}, {'step': 45, 'length': 73, 'x': 3490, 'y': 1674, 'hspeed': 45, 'vspeed': -43, 'fuel': 418, 'angle': -20, 'power': 3, 'cmd': [-20, 3]}, {'step': 46, 'length': 73, 'x': 3535, 'y': 1630, 'hspeed': 46, 'vspeed': -44, 'fuel': 415, 'angle': -20, 'power': 3, 'cmd': [-20, 3]}, {'step': 47, 'length': 73, 'x': 3582, 'y': 1586, 'hspeed': 47, 'vspeed': -45, 'fuel': 412, 'angle': -20, 'power': 3, 'cmd': [-20, 3]}, {'step': 48, 'length': 73, 'x': 3630, 'y': 1541, 'hspeed': 48, 'vspeed': -46, 'fuel': 409, 'angle': -20, 'power': 3, 'cmd': [-20, 3]}, {'step': 49, 'length': 73, 'x': 3678, 'y': 1495, 'hspeed': 49, 'vspeed': -46, 'fuel': 406, 'angle': -20, 'power': 3, 'cmd': [-20, 3]}, {'step': 50, 'length': 73, 'x': 3728, 'y': 1448, 'hspeed': 50, 'vspeed': -47, 'fuel': 403, 'angle': -20, 'power': 3, 'cmd': [-20, 3]}, {'step': 51, 'length': 73, 'x': 3779, 'y': 1400, 'hspeed': 51, 'vspeed': -48, 'fuel': 400, 'angle': -20, 'power': 3, 'cmd': [-20, 3]}, {'step': 52, 'length': 73, 'x': 3830, 'y': 1351, 'hspeed': 52, 'vspeed': -49, 'fuel': 397, 'angle': -20, 'power': 3, 'cmd': [-20, 3]}, {'step': 53, 'length': 73, 'x': 3883, 'y': 1302, 'hspeed': 53, 'vspeed': -50, 'fuel': 394, 'angle': -20, 'power': 3, 'cmd': [-20, 3]}, {'step': 54, 'length': 73, 'x': 3937, 'y': 1251, 'hspeed': 54, 'vspeed': -51, 'fuel': 391, 'angle': -20, 'power': 3, 'cmd': [-20, 3]}, {'step': 55, 'length': 73, 'x': 3992, 'y': 1200, 'hspeed': 55, 'vspeed': -52, 'fuel': 388, 'angle': -20, 'power': 3, 'cmd': [-20, 3]}, {'step': 56, 'length': 73, 'x': 4048, 'y': 1147, 'hspeed': 56, 'vspeed': -53, 'fuel': 385, 'angle': -20, 'power': 3, 'cmd': [-20, 3]}, {'step': 57, 'length': 73, 'x': 4105, 'y': 1094, 'hspeed': 57, 'vspeed': -54, 'fuel': 382, 'angle': -20, 'power': 3, 'cmd': [-20, 3]}, {'step': 58, 'length': 73, 'x': 4162, 'y': 1040, 'hspeed': 58, 'vspeed': -55, 'fuel': 379, 'angle': -20, 'power': 3, 'cmd': [-20, 3]}, {'step': 59, 'length': 73, 'x': 4221, 'y': 985, 'hspeed': 59, 'vspeed': -55, 'fuel': 376, 'angle': -20, 'power': 3, 'cmd': [-20, 3]}, {'step': 60, 'length': 73, 'x': 4281, 'y': 929, 'hspeed': 60, 'vspeed': -56, 'fuel': 373, 'angle': -20, 'power': 3, 'cmd': [-20, 3]}, {'step': 61, 'length': 73, 'x': 4342, 'y': 873, 'hspeed': 61, 'vspeed': -57, 'fuel': 370, 'angle': -20, 'power': 3, 'cmd': [-20, 3]}, {'step': 62, 'length': 73, 'x': 4404, 'y': 815, 'hspeed': 63, 'vspeed': -58, 'fuel': 367, 'angle': -20, 'power': 3, 'cmd': [-20, 3]}, {'step': 63, 'length': 73, 'x': 4467, 'y': 756, 'hspeed': 64, 'vspeed': -59, 'fuel': 364, 'angle': -20, 'power': 3, 'cmd': [-20, 3]}, {'step': 64, 'length': 73, 'x': 4531, 'y': 697, 'hspeed': 65, 'vspeed': -60, 'fuel': 361, 'angle': -20, 'power': 3, 'cmd': [-20, 3]}, {'step': 65, 'length': 73, 'x': 4596, 'y': 637, 'hspeed': 66, 'vspeed': -61, 'fuel': 358, 'angle': -20, 'power': 3, 'cmd': [-20, 3]}, {'step': 66, 'length': 73, 'x': 4662, 'y': 575, 'hspeed': 67, 'vspeed': -62, 'fuel': 355, 'angle': -20, 'power': 3, 'cmd': [-20, 3]}, {'step': 67, 'length': 73, 'x': 4730, 'y': 513, 'hspeed': 68, 'vspeed': -63, 'fuel': 352, 'angle': -20, 'power': 3, 'cmd': [-20, 3]}, {'step': 68, 'length': 73, 'x': 4798, 'y': 450, 'hspeed': 69, 'vspeed': -63, 'fuel': 349, 'angle': -20, 'power': 3, 'cmd': [-20, 3]}, {'step': 69, 'length': 73, 'x': 4867, 'y': 386, 'hspeed': 70, 'vspeed': -64, 'fuel': 346, 'angle': -20, 'power': 3, 'cmd': [-20, 3]}, {'step': 70, 'length': 73, 'x': 4937, 'y': 322, 'hspeed': 71, 'vspeed': -65, 'fuel': 343, 'angle': -20, 'power': 3, 'cmd': [-20, 3]}, {'step': 71, 'length': 73, 'x': 5008, 'y': 256, 'hspeed': 72, 'vspeed': -66, 'fuel': 340, 'angle': -20, 'power': 3, 'cmd': [-20, 3]}, {'step': 72, 'length': 73, 'x': 5081, 'y': 189, 'hspeed': 73, 'vspeed': -67, 'fuel': 337, 'angle': -20, 'power': 3, 'cmd': [-20, 3]}, {'step': 73, 'length': 73, 'x': 5123, 'y': 150, 'hspeed': 74, 'vspeed': -68, 'fuel': 334, 'angle': -20, 'power': 3, 'cmd': [-20, 3]}] (<class 'list'>)\n",
      "Stored 'log' (list)\n"
     ]
    }
   ],
   "source": [
    "# Read back the json file which was saved by the above cell.\n",
    "%f s\" episode2-original.json\" readTextFile py> eval(pop()) constant log // ( -- json ) \"actual free fall.json\" log from Codingame > Mars Lander > episode-1 \n",
    "log = peforth.execute('log').pop()\n",
    "%f log -->\n",
    "%store log"
   ]
  },
  {
   "cell_type": "markdown",
   "metadata": {
    "tags": []
   },
   "source": [
    "# 最基本的定義 "
   ]
  },
  {
   "cell_type": "code",
   "execution_count": 6,
   "metadata": {
    "tags": []
   },
   "outputs": [],
   "source": [
    "Gravity = 3.711        # constant on Mars\n",
    "G = Gravity             # 到了二維以上，重力需轉成向量\n",
    "Altitude = 150          # altitude of the flat \n",
    "VSpeed = 40             # target virtical speed \n",
    "HSpeed = 20             # target horizental speed \n",
    "fuel0 = 550             # episode-2\n",
    "\n",
    "land = [\n",
    "  [   0, 100], # 0\n",
    "  [1000, 500], # 1\n",
    "  [1500,1500], # 2\n",
    "  [3000,1000], # 3\n",
    "  [4000, 150], # 4 flat ground\n",
    "  [5500, 150], # 5 flat ground\n",
    "  [6999, 800], # 6\n",
    "]    \n",
    "\n",
    "# Parameters\n",
    "\n",
    "round_off = 2           # 顯示到小數點以下兩位避免太長\n"
   ]
  },
  {
   "cell_type": "code",
   "execution_count": 7,
   "metadata": {},
   "outputs": [
    {
     "name": "stdout",
     "output_type": "stream",
     "text": [
      "Vector :> (3,4) --> Vec[3 4] (<class '__main__.Vector'>)\n",
      "Vector :> (3,4).v() --> [3 4] (<class 'numpy.ndarray'>)\n",
      "Vector :> (3,4).x --> 3 (<class 'int'>)\n",
      "Vector :> (3,4).y --> 4 (<class 'int'>)\n",
      "Vector :> (3,4).n() --> 5.0 (<class 'numpy.float64'>)\n",
      "Vector :> (3,4).u() --> [0.6 0.8] (<class 'numpy.ndarray'>)\n",
      "Vector :> (0.6,0.8).n() --> 1.0 (<class 'numpy.float64'>)\n",
      "Vector :> (0.6,0.8)*2 --> Vec[1.2 1.6] (<class '__main__.Vector'>)\n"
     ]
    }
   ],
   "source": [
    "\n",
    "# Vector 比 np.array 好一點在於有 __str__ 可以做 round-off 輸出。\n",
    "\n",
    "class Vector:\n",
    "    def __init__(self, x:float,y:float):\n",
    "        self.x = x\n",
    "        self.y = y\n",
    "\n",
    "    def __mul__(self, x:float):\n",
    "        m = self.v() * x \n",
    "        return Vector(*m)  # Vector(m[0], m[1])  np.array 也可以直接 unpack or distructing \n",
    "    \n",
    "    def __add__(self, x):\n",
    "        m = self.v() + x.v() \n",
    "        return Vector(*m)  # Vector(m[0], m[1])  np.array 也可以直接 unpack or distructing \n",
    "\n",
    "    def v(self) -> np.array:\n",
    "        # A vector is a np.array\n",
    "        return np.array([self.x,self.y])\n",
    "\n",
    "    def n(self) -> float:\n",
    "        # norm of a vector is its length\n",
    "        return np.linalg.norm(self.v())\n",
    "\n",
    "    def u(self) -> np.array:\n",
    "        # Shrink the given vector into an unit vector. https://stackoverflow.com/questions/21030391/how-to-normalize-an-array-in-numpy\n",
    "        return self if round(self.n(),6) == 0. else self.v()/self.n();  # 考慮周詳\n",
    "    \n",
    "    def __str__(self) -> str:\n",
    "        return 'Vec' + str(np.array([round(self.x,round_off),round(self.y,round_off)]))\n",
    "    \n",
    "%f Vector :> (3,4) -->\n",
    "%f Vector :> (3,4).v() -->\n",
    "%f Vector :> (3,4).x -->\n",
    "%f Vector :> (3,4).y -->\n",
    "%f Vector :> (3,4).n() -->\n",
    "%f Vector :> (3,4).u() -->\n",
    "%f Vector :> (0.6,0.8).n() -->\n",
    "%f Vector :> (0.6,0.8)*2 -->    "
   ]
  },
  {
   "cell_type": "code",
   "execution_count": 8,
   "metadata": {},
   "outputs": [
    {
     "name": "stdout",
     "output_type": "stream",
     "text": [
      "Angle :> (-180) :> v() --> [ 6.123234e-17 -1.000000e+00] (<class 'numpy.ndarray'>)\n",
      "Angle :> (-180) --> Vec[ 0. -1.] (<class '__main__.Angle'>)\n",
      "Angle :> (90)   --> Vec[-1.  0.] (<class '__main__.Angle'>)\n",
      "Angle :> (-90)  --> Vec[1. 0.] (<class '__main__.Angle'>)\n",
      "Angle :> (180)  --> Vec[-0. -1.] (<class '__main__.Angle'>)\n",
      "Angle :> (45)   --> Vec[-0.71  0.71] (<class '__main__.Angle'>)\n",
      "Angle :> (-45)  --> Vec[0.71 0.71] (<class '__main__.Angle'>)\n",
      "Angle :> (-45) type --> <class '__main__.Angle'> (<class 'type'>)\n"
     ]
    }
   ],
   "source": [
    "class Angle(Vector):\n",
    "    def __init__(self, an:float) -> Vector:\n",
    "        # Convert the given absolute angle in degrees to a unit vector that represents the angle\n",
    "        v = Vector(math.cos(np.deg2rad(an + 90)), math.sin(np.deg2rad(an + 90)))\n",
    "        self.x, self.y = v.x, v.y  # 已經是單位向量，無須這樣 v.u()[0], v.u()[1] \n",
    "\n",
    "%f Angle :> (-180) :> v() -->\n",
    "%f Angle :> (-180) -->\n",
    "%f Angle :> (90)   -->\n",
    "%f Angle :> (-90)  -->   \n",
    "%f Angle :> (180)  -->   \n",
    "%f Angle :> (45)   -->   \n",
    "%f Angle :> (-45)  -->   \n",
    "%f Angle :> (-45) type -->   \n",
    "    "
   ]
  },
  {
   "cell_type": "code",
   "execution_count": 9,
   "metadata": {},
   "outputs": [
    {
     "name": "stdout",
     "output_type": "stream",
     "text": [
      "G --> Vec[-0.   -3.71] (<class '__main__.Vector'>)\n",
      "G type --> <class '__main__.Vector'> (<class 'type'>)\n"
     ]
    }
   ],
   "source": [
    "G = Angle(180) * Gravity  # G = Vector(*(Angle(180).v() * Gravity)) 我有提供 __mul__ \n",
    "\n",
    "%f G -->\n",
    "%f G type --> \n"
   ]
  },
  {
   "cell_type": "code",
   "execution_count": 10,
   "metadata": {
    "tags": []
   },
   "outputs": [
    {
     "name": "stdout",
     "output_type": "stream",
     "text": [
      "state0 --> [{'step': 0}, {'x': 2500}, {'y': 2700}, {'hspeed': 0}, {'vspeed': 0}, {'fuel': 550}, {'angle': 0}, {'power': 0}, {'landed': 0}] (<class '__main__.State'>)\n"
     ]
    }
   ],
   "source": [
    "\n",
    "# State 的 properties 都用 python 的原型，不用 np.array 之類。原因，感覺較單純不會有意外。\n",
    "\n",
    "class State():\n",
    "\n",
    "    def __init__(self, step=0, x=2500, y=2700, hspeed=0, vspeed=0, \n",
    "                 fuel=550, angle=0, power=0, **kwargs):\n",
    "        self.step   = step\n",
    "        self.x      = x\n",
    "        self.y      = y\n",
    "        self.hspeed = hspeed\n",
    "        self.vspeed = vspeed\n",
    "        self.fuel   = fuel\n",
    "        self.angle  = angle\n",
    "        self.power  = power\n",
    "        self.trace  = [[x,y]]\n",
    "        self.landed = False\n",
    "        # self.force  = G + Angle(self.angle)*self.power\n",
    "\n",
    "    def next(self, angle:int, power:int):  \n",
    "        # input angle,power 都是 offset differential delta 分別屬 -15~15 以及 -1,0,+1 \n",
    "        assert power in [-1, 0, 1], 'expected input power [-1, 0, +1], given {}'.format(power)\n",
    "        assert angle in range(-15,16), 'input angle range [-15:16], given {}'.format(angle)\n",
    "        self.step   += 1\n",
    "        self.angle  += angle\n",
    "        self.angle   = -90 if self.angle < -90 else self.angle\n",
    "        self.angle   =  90 if self.angle > 90 else self.angle\n",
    "        self.power  += power\n",
    "        self.power   = 0 if self.power < 0 else self.power\n",
    "        self.power   = 4 if self.power > 4 else self.power\n",
    "        self.fuel   -= self.power\n",
    "     #  self.x       = self.x       # episode-1 不變\n",
    "     #  self.y       = self.y + self.vspeed + (1/2)*self.force\n",
    "     #  self.hspeed  = self.hspeed  # episode-1 不變\n",
    "     #  self.vspeed += self.force\n",
    "        force = G + Angle(self.angle)*self.power  # force on the ship during this step         \n",
    "        s0 = Vector(self.hspeed,self.vspeed)\n",
    "        p0 = Vector(self.x,self.y)\n",
    "        s1 = s0 + force \n",
    "        p1 = p0 + s0 + force*0.5\n",
    "        self.x, self.y = p1.x, p1.y\n",
    "        self.hspeed, self.vspeed = s1.x, s1.y\n",
    "        self.landed = doIntersect(p0,p1,Vector(4000,150),Vector(5500,150))\n",
    "        if self.landed : \n",
    "            peforth.bp(1,locals()) # <---------------------------------------------------------------------------------\n",
    "        self.trace.append([self.x,self.y])\n",
    "        return self  # 傳回值只是好測試，以便於可以這樣寫： %f state :> next(0,3.711) -->\n",
    "\n",
    "    def __str__(self):  \n",
    "        d = copy.deepcopy(self.__dict__)\n",
    "        return str([{k:int(round(v,0))} for k,v in d.items() if k != 'trace'])\n",
    "\n",
    "state0 = State(0,2500,2700,0,0,fuel0,0,0)  # episode-2 的起點 state\n",
    "%f state0 -->"
   ]
  },
  {
   "cell_type": "code",
   "execution_count": null,
   "metadata": {
    "tags": []
   },
   "outputs": [
    {
     "name": "stdout",
     "output_type": "stream",
     "text": [
      "1>1>"
     ]
    },
    {
     "name": "stdin",
     "output_type": "stream",
     "text": [
      " i -->\n"
     ]
    },
    {
     "name": "stdout",
     "output_type": "stream",
     "text": [
      "i --> 69 (<class 'int'>)\n",
      "1>"
     ]
    },
    {
     "name": "stdin",
     "output_type": "stream",
     "text": [
      " s0 -->\n"
     ]
    },
    {
     "name": "stdout",
     "output_type": "stream",
     "text": [
      "s0 --> Vec[ 72.77 -67.01] (<class '__main__.Vector'>)\n",
      "1>"
     ]
    },
    {
     "name": "stdin",
     "output_type": "stream",
     "text": [
      " s1 -->\n"
     ]
    },
    {
     "name": "stdout",
     "output_type": "stream",
     "text": [
      "s1 --> Vec[ 73.79 -67.9 ] (<class '__main__.Vector'>)\n",
      "1>"
     ]
    },
    {
     "name": "stdin",
     "output_type": "stream",
     "text": [
      " p0 -->\n"
     ]
    },
    {
     "name": "stdout",
     "output_type": "stream",
     "text": [
      "p0 --> Vec[5080.58  189.39] (<class '__main__.Vector'>)\n",
      "1>"
     ]
    },
    {
     "name": "stdin",
     "output_type": "stream",
     "text": [
      " p1 -->\n"
     ]
    },
    {
     "name": "stdout",
     "output_type": "stream",
     "text": [
      "p1 --> Vec[5153.86  121.93] (<class '__main__.Vector'>)\n",
      "1>"
     ]
    },
    {
     "name": "stdin",
     "output_type": "stream",
     "text": [
      " land -->\n"
     ]
    },
    {
     "name": "stdout",
     "output_type": "stream",
     "text": [
      "land --> [[0, 100], [1000, 500], [1500, 1500], [3000, 1000], [4000, 150], [5500, 150], [6999, 800]] (<class 'list'>)\n",
      "1>"
     ]
    },
    {
     "name": "stdin",
     "output_type": "stream",
     "text": [
      " doIntersect -->\n"
     ]
    },
    {
     "name": "stdout",
     "output_type": "stream",
     "text": [
      "doIntersect --> <function doIntersect at 0x000001DDB4E01318> (<class 'function'>)\n",
      "1>"
     ]
    },
    {
     "name": "stdin",
     "output_type": "stream",
     "text": [
      " paste\n"
     ]
    },
    {
     "name": "stdout",
     "output_type": "stream",
     "text": [
      "</py> --> True (<class 'bool'>)\n",
      "1>"
     ]
    },
    {
     "name": "stdin",
     "output_type": "stream",
     "text": [
      " paste\n"
     ]
    },
    {
     "name": "stdout",
     "output_type": "stream",
     "text": [
      "\n",
      "Failed in </py> (compiling=False): name 'i' is not defined\n",
      "Body:\n",
      "\n",
      "p0, p1, land, doIntersect, Vector = pop(4),pop(3),pop(2),pop(1),pop(0)\n",
      "def touchdown(p0, p1):\n",
      "    touched = False\n",
      "    for j in range(len(land)-1): # consider all surfaces\n",
      "        if doIntersect(p0,p1,Vector(*land[j]),Vector(*land[j+1])):\n",
      "            touched = True\n",
      "            break\n",
      "    return touched\n",
      "print(i, touchdown(p0, p1))\n",
      "\n",
      "1>"
     ]
    },
    {
     "name": "stdin",
     "output_type": "stream",
     "text": [
      " paste\n"
     ]
    },
    {
     "name": "stdout",
     "output_type": "stream",
     "text": [
      "\n",
      "Failed in </py> (compiling=False): name 'i' is not defined\n",
      "Body:\n",
      "\n",
      "p0, p1, land, doIntersect, Vector = pop(4),pop(3),pop(2),pop(1),pop(0)\n",
      "def touchdown(p0, p1):\n",
      "    touched = False\n",
      "    for j in range(len(land)-1): # consider all surfaces\n",
      "        if doIntersect(p0,p1,Vector(*land[j]),Vector(*land[j+1])):\n",
      "            touched = True\n",
      "            break\n",
      "    return i,touched\n",
      "print(touchdown(p0, p1))\n",
      "\n",
      "1>"
     ]
    },
    {
     "name": "stdin",
     "output_type": "stream",
     "text": [
      " paste\n"
     ]
    },
    {
     "name": "stdout",
     "output_type": "stream",
     "text": [
      "(4, True)\n",
      "1>"
     ]
    }
   ],
   "source": [
    "state = State(**state0.__dict__)\n",
    "%f state :: next(-15,1) state :: next(-5,1) state :: next(0,1)\n",
    "for i in range(100):  # 已知不到 100 用 while True 也行，用 for 比較保險\n",
    "    state.next(0,0)\n",
    "    if state.landed: \n",
    "        %f state -->\n",
    "        break       "
   ]
  },
  {
   "cell_type": "code",
   "execution_count": null,
   "metadata": {},
   "outputs": [],
   "source": [
    "%f state :> trace[:4] -->"
   ]
  },
  {
   "cell_type": "code",
   "execution_count": null,
   "metadata": {},
   "outputs": [],
   "source": [
    "_ = np.array(state.trace)[:4,1]\n",
    "%f _ -->\n",
    "_ = np.array(state.trace)[:4,0]\n",
    "%f _ -->"
   ]
  },
  {
   "cell_type": "code",
   "execution_count": null,
   "metadata": {},
   "outputs": [],
   "source": [
    "%matplotlib inline\n",
    "x = [0, 1000, 1500, 3000, 4000, 5500, 6999]\n",
    "y = [100, 500, 1500, 1000, 150, 150, 800]\n",
    "# plt.plot(x,y,'',thread[:,0],thread[:,1],'r',thread[-2:,0],thread[-2:,1],'rx');  # 這行等於以下三行，三個 args 一組。\n",
    "plt.plot(x,y,'')  # 地形\n",
    "plt.plot(np.array(state.trace)[:,0],np.array(state.trace)[:,1],'r')  # 整條 trace \n",
    "plt.plot(np.array(state.trace)[-2:,0],np.array(state.trace)[-2:,1],'rx');  # 最後兩點打上標記\n"
   ]
  },
  {
   "cell_type": "code",
   "execution_count": null,
   "metadata": {},
   "outputs": [],
   "source": [
    "assert False"
   ]
  },
  {
   "cell_type": "markdown",
   "metadata": {},
   "source": [
    "# 來到這裡，手動把 mars lander 的速度跟位置校正到符合標準"
   ]
  },
  {
   "cell_type": "code",
   "execution_count": null,
   "metadata": {
    "tags": []
   },
   "outputs": [],
   "source": [
    "state_a = copy.deepcopy(state)\n",
    "%f state_a --> # 這時候 vspeed -68 要調回 -40 以內； hspeed 74 要調回 20 以內"
   ]
  },
  {
   "cell_type": "code",
   "execution_count": null,
   "metadata": {
    "tags": []
   },
   "outputs": [],
   "source": [
    "# 水平位置可以了，不用罰\n",
    "%f state_a :> x -->\n",
    "%f land :> [4] Vector :> (*pop()).x  -->\n",
    "%f land :> [5] Vector :> (*pop()).x  -->\n",
    "state_a.x >= Vector(*land[4]).x and state_a.x <= Vector(*land[5]).x"
   ]
  },
  {
   "cell_type": "code",
   "execution_count": null,
   "metadata": {
    "tags": []
   },
   "outputs": [],
   "source": [
    "# 還在空中嗎？因為觸地是整條 genome 的停止條件，故不必重複考慮。\n",
    "%f state_a :> y -->\n",
    "%f land :> [4] Vector :> (*pop()).y  -->\n",
    "%f land :> [5] Vector :> (*pop()).y  -->\n",
    "state_a.y >= Vector(*land[4]).y and state_a.y >= Vector(*land[5]).y"
   ]
  },
  {
   "cell_type": "code",
   "execution_count": null,
   "metadata": {
    "tags": []
   },
   "outputs": [],
   "source": [
    "# 檢查 vspeed\n",
    "%f state_a :> vspeed dup -->\n",
    "%f VSpeed -->\n",
    "%f abs VSpeed <= --> # 一定是全力往上噴火降回 -VSpeed 以下 (>= -40) "
   ]
  },
  {
   "cell_type": "code",
   "execution_count": null,
   "metadata": {
    "tags": []
   },
   "outputs": [],
   "source": [
    "# 把垂直方向的 vspeed 修正到目標速度\\\n",
    "state_a = copy.deepcopy(state)\n",
    "%f state_a -->\n",
    "%f xdropall state_a :> fuel >x x@ --> \n",
    "while state_a.vspeed < -VSpeed:\n",
    "    a = 0 - state_a.angle\n",
    "    a = min(a,15) if a >= 0 else max(a,-15)\n",
    "    state_a.next(a,1)\n",
    "%f state_a -->\n",
    "%f state_a :> vspeed -->\n",
    "%f ( cost ) x> state_a :> fuel - >x x@ -->\n"
   ]
  },
  {
   "cell_type": "code",
   "execution_count": null,
   "metadata": {
    "tags": []
   },
   "outputs": [],
   "source": [
    "# 檢查 hspeed\n",
    "%f state_a :> hspeed dup -->\n",
    "%f HSpeed -->\n",
    "%f abs HSpeed <= --> # 往右太快要用 +90 度全力噴火減速"
   ]
  },
  {
   "cell_type": "code",
   "execution_count": null,
   "metadata": {
    "tags": []
   },
   "outputs": [],
   "source": [
    "# 把水平方向的 hspeed 修正到目標速度。正向速度過快要用 +90 角全力噴火減速，或反之。\n",
    "state_a = copy.deepcopy(state)\n",
    "%f state_a -->\n",
    "%f state_a :> fuel >x x@ --> \n",
    "while abs(state_a.hspeed) > HSpeed:\n",
    "    # a = 90 - state_a.angle\n",
    "    # a = min(a,15) if a >= 0 else max(a,-15)\n",
    "    state_a.next(15,1)\n",
    "%f state_a -->\n",
    "%f state_a :> hspeed -->\n",
    "%f ( cost ) x> state_a :> fuel - dup -->\n",
    "%f ( total cost ) x> + -->\n"
   ]
  },
  {
   "cell_type": "markdown",
   "metadata": {
    "tags": []
   },
   "source": [
    "# 算算看墜毀前一步的 cost "
   ]
  },
  {
   "cell_type": "code",
   "execution_count": null,
   "metadata": {
    "tags": []
   },
   "outputs": [],
   "source": [
    "state = State(**state0.__dict__)\n",
    "%f state :: next(-15,1) state :: next(-5,1) state :: next(0,1)\n",
    "for i in range(69):\n",
    "    state.next(0,0)\n",
    "    if state.landed: \n",
    "        break       \n",
    "%f state -->\n",
    "        "
   ]
  },
  {
   "cell_type": "code",
   "execution_count": null,
   "metadata": {
    "tags": []
   },
   "outputs": [],
   "source": [
    "state_a = copy.deepcopy(state)\n",
    "%f state_a --> # 這時候 vspeed -68 要調回 -40 以內； hspeed 74 要調回 20 以內"
   ]
  },
  {
   "cell_type": "code",
   "execution_count": null,
   "metadata": {
    "tags": []
   },
   "outputs": [],
   "source": [
    "# 水平位置可以了，不用罰\n",
    "%f state_a :> x -->\n",
    "%f land :> [4] Vector :> (*pop()).x  -->\n",
    "%f land :> [5] Vector :> (*pop()).x  -->\n",
    "state_a.x >= Vector(*land[4]).x and state_a.x <= Vector(*land[5]).x"
   ]
  },
  {
   "cell_type": "code",
   "execution_count": null,
   "metadata": {
    "tags": []
   },
   "outputs": [],
   "source": [
    "# 檢查 vspeed\n",
    "%f state_a :> vspeed dup -->\n",
    "%f VSpeed -->\n",
    "%f abs VSpeed <= --> # 一定是全力往上噴火降回 -VSpeed 以下 (>= -40) "
   ]
  },
  {
   "cell_type": "code",
   "execution_count": null,
   "metadata": {
    "tags": []
   },
   "outputs": [],
   "source": [
    "# 把垂直方向的 vspeed 修正到目標速度\\\n",
    "state_a = copy.deepcopy(state)\n",
    "%f state_a -->\n",
    "%f xdropall state_a :> fuel >x x@ --> \n",
    "while state_a.vspeed < -VSpeed:\n",
    "    a = 0 - state_a.angle\n",
    "    a = min(a,15) if a >= 0 else max(a,-15)\n",
    "    state_a.next(a,1)\n",
    "%f state_a -->\n",
    "%f state_a :> vspeed -->\n",
    "%f ( cost ) x> state_a :> fuel - >x x@ -->\n"
   ]
  },
  {
   "cell_type": "code",
   "execution_count": null,
   "metadata": {
    "tags": []
   },
   "outputs": [],
   "source": [
    "# 檢查 hspeed\n",
    "%f state_a :> hspeed dup -->\n",
    "%f HSpeed -->\n",
    "%f abs HSpeed <= --> # 往右太快要用 +90 度全力噴火減速"
   ]
  },
  {
   "cell_type": "code",
   "execution_count": null,
   "metadata": {
    "tags": []
   },
   "outputs": [],
   "source": [
    "# 把水平方向的 hspeed 修正到目標速度。正向速度過快要用 +90 角全力噴火減速，或反之。\n",
    "state_a = copy.deepcopy(state)\n",
    "%f state_a -->\n",
    "%f state_a :> fuel >x x@ --> \n",
    "while abs(state_a.hspeed) > HSpeed:\n",
    "    # a = 90 - state_a.angle\n",
    "    # a = min(a,15) if a >= 0 else max(a,-15)\n",
    "    state_a.next(15,1)\n",
    "%f state_a -->\n",
    "%f state_a :> hspeed -->\n",
    "%f ( cost ) x> state_a :> fuel - dup -->\n",
    "%f ( total cost ) x> + -->\n"
   ]
  },
  {
   "cell_type": "markdown",
   "metadata": {},
   "source": [
    "# 算算看墜毀前一步煞車的 cost\n",
    "臨時煞車對 round-off 取整數後的 hspeed vspeed 乍看沒有影響，其實 cost 還是有差，這表示 cost 算法好！"
   ]
  },
  {
   "cell_type": "code",
   "execution_count": null,
   "metadata": {
    "tags": []
   },
   "outputs": [],
   "source": [
    "state = State(**state0.__dict__)\n",
    "%f state :: next(-15,1) state :: next(-5,1) state :: next(0,1)\n",
    "for i in range(69):\n",
    "    state.next(0,0)\n",
    "%f ( 還在空中 ) state -->\n",
    "state.next(15,1)\n",
    "%f ( 墜毀了 ) state -->\n",
    "        "
   ]
  },
  {
   "cell_type": "code",
   "execution_count": null,
   "metadata": {
    "tags": []
   },
   "outputs": [],
   "source": [
    "state_a = copy.deepcopy(state)\n",
    "%f state_a --> # 這時候 vspeed -68 要調回 -40 以內； hspeed 74 要調回 20 以內"
   ]
  },
  {
   "cell_type": "code",
   "execution_count": null,
   "metadata": {
    "tags": []
   },
   "outputs": [],
   "source": [
    "# 水平位置可以了，不用罰\n",
    "%f state_a :> x -->\n",
    "%f land :> [4] Vector :> (*pop()).x  -->\n",
    "%f land :> [5] Vector :> (*pop()).x  -->\n",
    "state_a.x >= Vector(*land[4]).x and state_a.x <= Vector(*land[5]).x"
   ]
  },
  {
   "cell_type": "code",
   "execution_count": null,
   "metadata": {
    "tags": []
   },
   "outputs": [],
   "source": [
    "# 檢查 vspeed\n",
    "%f state_a :> vspeed dup -->\n",
    "%f VSpeed -->\n",
    "%f abs VSpeed <= --> # 一定是全力往上噴火降回 -VSpeed 以下 (>= -40) "
   ]
  },
  {
   "cell_type": "code",
   "execution_count": null,
   "metadata": {
    "tags": []
   },
   "outputs": [],
   "source": [
    "# 把垂直方向的 vspeed 修正到目標速度\n",
    "state_a = copy.deepcopy(state)\n",
    "%f state_a -->\n",
    "%f xdropall state_a :> fuel >x x@ --> \n",
    "while state_a.vspeed < -VSpeed:\n",
    "    a = 0 - state_a.angle\n",
    "    a = min(a,15) if a >= 0 else max(a,-15)\n",
    "    state_a.next(a,1)\n",
    "%f state_a -->\n",
    "%f state_a :> vspeed -->\n",
    "%f ( cost ) x> state_a :> fuel - >x x@ -->\n"
   ]
  },
  {
   "cell_type": "code",
   "execution_count": null,
   "metadata": {
    "tags": []
   },
   "outputs": [],
   "source": [
    "# 檢查 hspeed\n",
    "%f state_a :> hspeed dup -->\n",
    "%f HSpeed -->\n",
    "%f abs HSpeed <= --> # 往右太快要用 +90 度全力噴火減速"
   ]
  },
  {
   "cell_type": "code",
   "execution_count": null,
   "metadata": {
    "tags": []
   },
   "outputs": [],
   "source": [
    "# 把水平方向的 hspeed 修正到目標速度。正向速度過快要用 +90 角全力噴火減速，或反之。\n",
    "state_a = copy.deepcopy(state)\n",
    "%f state_a -->\n",
    "%f state_a :> fuel >x x@ --> \n",
    "while abs(state_a.hspeed) > HSpeed:\n",
    "    # a = 90 - state_a.angle\n",
    "    # a = min(a,15) if a >= 0 else max(a,-15)\n",
    "    state_a.next(15,1)\n",
    "%f state_a -->\n",
    "%f state_a :> hspeed -->\n",
    "%f ( cost ) x> state_a :> fuel - dup -->\n",
    "%f ( total cost ) x> + -->\n"
   ]
  },
  {
   "cell_type": "code",
   "execution_count": null,
   "metadata": {},
   "outputs": [],
   "source": []
  },
  {
   "cell_type": "code",
   "execution_count": null,
   "metadata": {},
   "outputs": [],
   "source": []
  },
  {
   "cell_type": "code",
   "execution_count": null,
   "metadata": {},
   "outputs": [],
   "source": []
  },
  {
   "cell_type": "code",
   "execution_count": null,
   "metadata": {},
   "outputs": [],
   "source": []
  },
  {
   "cell_type": "code",
   "execution_count": null,
   "metadata": {},
   "outputs": [],
   "source": []
  },
  {
   "cell_type": "code",
   "execution_count": null,
   "metadata": {},
   "outputs": [],
   "source": []
  },
  {
   "cell_type": "code",
   "execution_count": null,
   "metadata": {},
   "outputs": [],
   "source": []
  },
  {
   "cell_type": "code",
   "execution_count": null,
   "metadata": {},
   "outputs": [],
   "source": []
  },
  {
   "cell_type": "code",
   "execution_count": null,
   "metadata": {},
   "outputs": [],
   "source": []
  },
  {
   "cell_type": "code",
   "execution_count": null,
   "metadata": {},
   "outputs": [],
   "source": [
    "for i in range(9):\n",
    "    state.next(0,0);\n",
    "    sample_genomes[\"安全降落\"].append([0,0])\n",
    "for i in range(9,91):\n",
    "    state.next(0,1);\n",
    "    sample_genomes[\"安全降落\"].append([0,1])\n",
    "state_list[\"安全降落\"]=state"
   ]
  },
  {
   "cell_type": "code",
   "execution_count": null,
   "metadata": {},
   "outputs": [],
   "source": [
    "# 改寫 for Mars Lander 乍看以為要頭痛一會兒，其實 Mars Lander 的 genome 很簡單，就是一串 (int,int) \n",
    "# pairs 而已。前面基礎討論有提到，以 SA 而言就是 mutate 某一個 gene 也就是 command pair 而已。但是考慮 Mars\n",
    "# Lander 的限制條件，以 epidode-1 而言，command 的改變要做的決定是 -1 0 +1 其中之一才對，而非 0~4. \n",
    "\n",
    "# 長度的問題，\n",
    "# 太長而無效的 genes 要 cut 掉。\n",
    "# 長度不夠時直接 copy 最後一個 gene 頂替即可。\n",
    "# 會發現 genome 太長或不夠的是 simulator 那就是由它處理。\n",
    "\n",
    "# 1. 避免無效的 neighbour 例如前一 power 是 0 或 4 卻下 -1 或 1 就是無效的，這個 neighbour 就浪費了。 \n",
    "# 2. 第一個 gene 的 power 不能下 -1 只能下 0 或 +1 , 將來 angle 也有一樣的限制。\n",
    "\n",
    "def get_random_neighbour(genome: GENOME) -> None :\n",
    "    neighbour = copy.deepcopy(genome)  # 利用 [:] slice copy 不行！\n",
    "    commands = genome_to_command_list(neighbour)  # 絕對 command, 用來檢查前一狀態避免產生無效的 neighbour \n",
    "    \n",
    "    while True:  # 試到不一樣了才出來\n",
    "        idx = random.randint(0,len(genome)-1) # 選 1 個 gene \n",
    "        cmd = random.randint(-1, 1)  # -1, 0, +1 當中選 1 個 thrust command (episode-1)\n",
    "        if idx == 0 and cmd == -1 : continue  # 一開始的 power 就是 0 再下 -1 無效\n",
    "        if idx >= 1 and cmd == -1 and commands[idx-1][1] == 0: continue  # 前一個 power 就已經是 0 又下 -1 無效\n",
    "        if idx >= 1 and cmd ==  1 and commands[idx-1][1] == 4: continue  # 前一個 power 就已經是 4 又下 +1 無效\n",
    "        if neighbour[idx][1] == cmd: continue  # 沒有變化當然無效\n",
    "        else: \n",
    "            neighbour[idx][1] = cmd\n",
    "            break\n",
    "            \n",
    "    return neighbour\n",
    "%f get_random_neighbour :> ([[0,0],[0,0]]) ( 都不可能出現 -1 ) -->    \n",
    "%f get_random_neighbour :> ([[0,0],[0,1]]) ( 都不可能出現 -1 ) -->    \n",
    "%f get_random_neighbour :> ([[0,1],[0,1],[0,1],[0,1],[0,1]]) --> \\ gene0 只有 0 或 1 不會有 -1, gene1 視 gene0 而定     \n",
    "%f get_random_neighbour :> ([[0,1],[0,1],[0,1],[0,1],[0,1]]) --> \\ gene0 只有 0 或 1 不會有 -1, gene1 視 gene0 而定     \n",
    "%f get_random_neighbour :> ([[0,1],[0,1],[0,1],[0,1],[0,1]]) --> \\ gene0 只有 0 或 1 不會有 -1, gene1 視 gene0 而定     \n",
    "%f get_random_neighbour :> ([[0,1],[0,1],[0,1],[0,1],[0,1]]) --> \\ gene0 只有 0 或 1 不會有 -1, gene1 視 gene0 而定     \n",
    "                             "
   ]
  },
  {
   "cell_type": "code",
   "execution_count": null,
   "metadata": {},
   "outputs": [],
   "source": []
  },
  {
   "cell_type": "code",
   "execution_count": null,
   "metadata": {},
   "outputs": [],
   "source": []
  },
  {
   "cell_type": "code",
   "execution_count": null,
   "metadata": {},
   "outputs": [],
   "source": []
  },
  {
   "cell_type": "markdown",
   "metadata": {},
   "source": [
    "# Original sample code\n",
    "\n",
    "#### Surface landscape\n",
    "    <pre class=\"stderr\" ng-if=\"::subframe.stderr\" ng-bind-html=\"::subframe.stderr | secureOutput | promptOutput | trustHtml\">\n",
    "    <div class=\"outputLine\">i 0 : land_x 0, land_y 100</div>\n",
    "    <div class=\"outputLine\">i 1 : land_x 1000, land_y 500</div>\n",
    "    <div class=\"outputLine\">i 2 : land_x 1500, land_y 1500</div>\n",
    "    <div class=\"outputLine\">i 3 : land_x 3000, land_y 1000</div>\n",
    "    <div class=\"outputLine\">i 4 : land_x 4000, land_y 150</div>  取 5000,150 當作目標\n",
    "    <div class=\"outputLine\">i 5 : land_x 5500, land_y 150</div>\n",
    "    <div class=\"outputLine\">i 6 : land_x 6999, land_y 800</div>\n"
   ]
  },
  {
   "cell_type": "code",
   "execution_count": null,
   "metadata": {},
   "outputs": [],
   "source": [
    "import sys\n",
    "import math\n",
    "\n",
    "# Auto-generated code below aims at helping you parse\n",
    "# the standard input according to the problem statement.\n",
    "\n",
    "surface_n = int(input())  # the number of points used to draw the surface of Mars.\n",
    "for i in range(surface_n):\n",
    "    # land_x: X coordinate of a surface point. (0 to 6999)\n",
    "    # land_y: Y coordinate of a surface point. By linking all the points together in a sequential fashion, you form the surface of Mars.\n",
    "    land_x, land_y = [int(j) for j in input().split()]\n",
    "    print('i {} : land_x {}, land_y {}'.format(i, land_x, land_y), file=sys.stderr, flush=True)\n",
    "\n",
    "# game loop\n",
    "while True:\n",
    "    # h_speed: the horizontal speed (in m/s), can be negative.\n",
    "    # v_speed: the vertical speed (in m/s), can be negative.\n",
    "    # fuel: the quantity of remaining fuel in liters.\n",
    "    # rotate: the rotation angle in degrees (-90 to 90).\n",
    "    # power: the thrust power (0 to 4).\n",
    "    x, y, h_speed, v_speed, fuel, rotate, power = [int(i) for i in input().split()]\n",
    "\n",
    "    # Write an action using print\n",
    "    # To debug: print(\"Debug messages...\", file=sys.stderr, flush=True)\n",
    "\n",
    "\n",
    "    # rotate power. rotate is the desired rotation angle. power is the desired thrust power.\n",
    "    print(\"-20 3\")\n"
   ]
  },
  {
   "cell_type": "code",
   "execution_count": null,
   "metadata": {},
   "outputs": [],
   "source": []
  },
  {
   "cell_type": "code",
   "execution_count": null,
   "metadata": {},
   "outputs": [],
   "source": [
    "def combi(r, n):\n",
    "    return 1 if n == 0 else combi(r, n - 1) * (r - n + 1) // n\n",
    "\t\n",
    "height = 13\n",
    "c = [[combi(r, n) for n in range(r + 1)] for r in range(height)]\n",
    " \n",
    "for r in range(len(c)):\n",
    "    print((\"%\" + str((len(c) - r) * 3) + \"s\") % \"\", end = \"\")\n",
    "    for n in range(len(c[r])):\n",
    "\t    print(\"%6d\" % c[r][n], end = \"\");\n",
    "    print()"
   ]
  },
  {
   "cell_type": "code",
   "execution_count": null,
   "metadata": {},
   "outputs": [],
   "source": []
  },
  {
   "cell_type": "code",
   "execution_count": null,
   "metadata": {},
   "outputs": [],
   "source": []
  },
  {
   "cell_type": "code",
   "execution_count": null,
   "metadata": {},
   "outputs": [],
   "source": []
  },
  {
   "cell_type": "code",
   "execution_count": null,
   "metadata": {},
   "outputs": [],
   "source": []
  },
  {
   "cell_type": "code",
   "execution_count": null,
   "metadata": {},
   "outputs": [],
   "source": []
  },
  {
   "cell_type": "code",
   "execution_count": null,
   "metadata": {
    "tags": []
   },
   "outputs": [],
   "source": [
    "state = State(**state0.__dict__)\n",
    "%f state :: next(-15,1) state :: next(-5,1) state :: next(0,1)\n",
    "for i in range(100):  # 已知不到 100 用 while True 也行，用 for 比較保險\n",
    "    state.next(0,0)\n",
    "    %f state -->\n",
    "    if state.landed: \n",
    "        break       "
   ]
  },
  {
   "cell_type": "code",
   "execution_count": null,
   "metadata": {},
   "outputs": [],
   "source": []
  }
 ],
 "metadata": {
  "kernelspec": {
   "display_name": "Python 3",
   "language": "python",
   "name": "python3"
  },
  "language_info": {
   "codemirror_mode": {
    "name": "ipython",
    "version": 3
   },
   "file_extension": ".py",
   "mimetype": "text/x-python",
   "name": "python",
   "nbconvert_exporter": "python",
   "pygments_lexer": "ipython3",
   "version": "3.7.8"
  }
 },
 "nbformat": 4,
 "nbformat_minor": 4
}
