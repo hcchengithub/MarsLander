{
 "cells": [
  {
   "cell_type": "markdown",
   "metadata": {},
   "source": [
    "# Episode-2"
   ]
  },
  {
   "cell_type": "code",
   "execution_count": 1,
   "metadata": {
    "tags": []
   },
   "outputs": [
    {
     "name": "stdout",
     "output_type": "stream",
     "text": [
      "reDef unknown\n",
      "reDef -->\n",
      "p e f o r t h    v1.26\n",
      "source code http://github.com/hcchengithub/peforth\n",
      "Type 'peforth.ok()' to enter forth interpreter, 'exit' to come back.\n",
      "\n",
      "version ==>\n",
      " 1.26 (<class 'str'>)\n"
     ]
    }
   ],
   "source": [
    "import numpy as np\n",
    "from typing import List, Optional, Callable, Tuple, Dict, Union  # OneNote2021 #_python_ #_typing_\n",
    "GENE = List[int]  # (rotate (-15 ~ +15),power (-1, 0, +1)) 避免無用的值域，下給 Web site 的 command 要轉換成 (rotate(-90 ~ +90), power(0,1,2,3,4))\n",
    "GENOME = List[GENE]  # Genome 是一個 list 裡面都是 int\n",
    "STATE = Dict[str,Union[int,float,np.array]]  # x,y,hspeed,power,.. etc \n",
    "\n",
    "# Get modules and peforth tools\n",
    "import random, json, math\n",
    "from itertools import permutations  # permutations 數學「排列組合」中的「排列」\n",
    "import peforth\n",
    "peforth.bps = [i for i in range(100)]  # 預設有這麼多 Breakpoint ID\n",
    "def bp(id=None,locals=None):\n",
    "    # Breakpoint ID 不能超過 peforth.bps 保留，超過的無效。\n",
    "    if id==None: \n",
    "        id = 0\n",
    "        prompt='bp> '\n",
    "    else:\n",
    "        prompt=\"{}>\".format(id)\n",
    "    if id in peforth.bps: peforth.push(locals).ok(prompt, cmd=\"to _locals_\")\n",
    "peforth.bp = bp\n",
    "peforth.push(bp).dictate(\"py: vm.bp=pop()\")  # [ ] 忘了 vm.bp 有何用途？\n",
    "peforth.dictate('''\n",
    "    : path-to-find-modules ( <path> -- ) // Add path to sys.path so \"import module-name\" can find the module\n",
    "        CR word trim ( \"path\" ) py: sys.path.append(pop()) ;\n",
    "\n",
    "    \\ ------ breakpoint ------------------------------------------------------------\n",
    "    : bp .\" Usage: peforth.bp(11,locals())  # drop a breakpoint with ID=11\" cr ;\n",
    "    : bl // ( -- ) List all breakpoints\n",
    "        __main__ :> peforth.bps \n",
    "        <py>\n",
    "        bps = pop()\n",
    "        print('Disabled breakpoints:')\n",
    "        for i in range(len(bps)):\n",
    "            if not bps[i]: \n",
    "                print(i, end=' ')\n",
    "        print(); print('Enabled breakpoints:')\n",
    "        count = 0\n",
    "        for i in range(len(bps)):\n",
    "            if bps[i]: \n",
    "                print(i, end=' ')\n",
    "                count += 1\n",
    "        print(); print('Enabled breakpoints count: {}/{}'.format(count,len(bps)))\n",
    "        </py> cr ;\n",
    "        /// Breakpoint commands:\n",
    "        ///\t  bl  - list all breakpoints (capital BL is white space) \n",
    "        ///\t  be  - enable breakpoints, e.g. be 1 2 3 \n",
    "        ///\t  bd  - disable breakpoints, e.g. bd 1 2 3 \n",
    "        ///\t  be* - enable all breakpoints\n",
    "        ///\t  bd* - disable all breakpoints \n",
    "        /// Also: \n",
    "        ///   for i in [11,22,33]: peforth.bps[i]=0\t # disable breakpoints 11,22,33 \n",
    "        ///   for i in [11,22,33]: peforth.bps[i]=i\t # enable  breakpoints 11,22,33 \n",
    "    \n",
    "    : bd // ( <1 2 3 4...> -- ) Disable listed breakpoints \n",
    "        CR word ( line ) __main__ :> peforth.bps ( line bps )\n",
    "        <py>\n",
    "        line, bps = pop(1), pop(0)\n",
    "        points = map(int, line.split(' '))\n",
    "        for i in points: bps[i] = 0\n",
    "        </py> ; \n",
    "        ' bl :> comment last :: comment=pop(1)\n",
    "    \n",
    "    : be // ( <1 2 3 4...> -- ) Enable listed breakpoints \n",
    "        CR word ( line ) __main__ :> peforth.bps ( line bps ) \n",
    "        <py>\n",
    "        line, bps = pop(1), pop(0)\n",
    "        points = map(int, line.split(' '))\n",
    "        for i in points: bps[i] = i\n",
    "        </py> ; \n",
    "        ' bl :> comment last :: comment=pop(1)\n",
    "    \n",
    "    : bd* // ( -- ) Disable all breakpoints \n",
    "        __main__ :> peforth.bps\t ( bps ) \n",
    "        <py>\n",
    "        bps = pop()\n",
    "        for i in range(len(bps)): bps[i] = 0\n",
    "        </py> ;\n",
    "        ' bl :> comment last :: comment=pop(1)\n",
    "    \n",
    "    : be* // ( -- ) Enable all breakpoints \n",
    "        __main__ :> peforth.bps\t ( bps ) \n",
    "        <py>\n",
    "        bps = pop()\n",
    "        for i in range(len(bps)): bps[i] = i\n",
    "        </py> ;\n",
    "        ' bl :> comment last :: comment=pop(1)\n",
    "\n",
    "    \\ ------ xstack ------------------------------------------------------------\n",
    "    [] value xstack xstack py: vm.xstack=pop() // ( -- array ) The xstack. 掛進 vm 就可以直接以 py> xstack 取用。\n",
    "    : x@ xstack :> [-1] ; // ( -- n ) Get TOS of the xstack\n",
    "    : x> xstack :> pop() ; // ( -- n ) Pop the xstack\n",
    "    : >x xstack :: append(pop()) ; // ( n -- ) Push n into the xstack\n",
    "    : .sx xstack . ; // ( -- ) List xstack \n",
    "    : xdrop x> drop ; // ( X: ... a -- X: ... ) drop xstack \n",
    "    : xdropall [] to xstack ; // ( X: ... -- X: empty ) clear xstack \n",
    "    ''')\n",
    "%f version ==>\n"
   ]
  },
  {
   "cell_type": "markdown",
   "metadata": {},
   "source": [
    "# 直接讀 log 檔\n",
    "So the `%store log` is from here"
   ]
  },
  {
   "cell_type": "code",
   "execution_count": 2,
   "metadata": {
    "collapsed": true,
    "jupyter": {
     "outputs_hidden": true
    },
    "scrolled": true,
    "tags": []
   },
   "outputs": [
    {
     "name": "stdout",
     "output_type": "stream",
     "text": [
      "log --> [{'step': 0, 'length': 73, 'x': 2500, 'y': 2700, 'hspeed': 0, 'vspeed': 0, 'fuel': 550, 'angle': 0, 'power': 0, 'cmd': [-99, -99]}, {'step': 1, 'length': 73, 'x': 2500, 'y': 2699, 'hspeed': 0, 'vspeed': -3, 'fuel': 549, 'angle': -15, 'power': 1, 'cmd': [-20, 3]}, {'step': 2, 'length': 73, 'x': 2501, 'y': 2695, 'hspeed': 1, 'vspeed': -5, 'fuel': 547, 'angle': -20, 'power': 2, 'cmd': [-20, 3]}, {'step': 3, 'length': 73, 'x': 2502, 'y': 2690, 'hspeed': 2, 'vspeed': -5, 'fuel': 544, 'angle': -20, 'power': 3, 'cmd': [-20, 3]}, {'step': 4, 'length': 73, 'x': 2505, 'y': 2684, 'hspeed': 3, 'vspeed': -6, 'fuel': 541, 'angle': -20, 'power': 3, 'cmd': [-20, 3]}, {'step': 5, 'length': 73, 'x': 2508, 'y': 2677, 'hspeed': 4, 'vspeed': -7, 'fuel': 538, 'angle': -20, 'power': 3, 'cmd': [-20, 3]}, {'step': 6, 'length': 73, 'x': 2513, 'y': 2670, 'hspeed': 5, 'vspeed': -8, 'fuel': 535, 'angle': -20, 'power': 3, 'cmd': [-20, 3]}, {'step': 7, 'length': 73, 'x': 2518, 'y': 2661, 'hspeed': 6, 'vspeed': -9, 'fuel': 532, 'angle': -20, 'power': 3, 'cmd': [-20, 3]}, {'step': 8, 'length': 73, 'x': 2525, 'y': 2651, 'hspeed': 7, 'vspeed': -10, 'fuel': 529, 'angle': -20, 'power': 3, 'cmd': [-20, 3]}, {'step': 9, 'length': 73, 'x': 2532, 'y': 2641, 'hspeed': 8, 'vspeed': -11, 'fuel': 526, 'angle': -20, 'power': 3, 'cmd': [-20, 3]}, {'step': 10, 'length': 73, 'x': 2541, 'y': 2630, 'hspeed': 9, 'vspeed': -12, 'fuel': 523, 'angle': -20, 'power': 3, 'cmd': [-20, 3]}, {'step': 11, 'length': 73, 'x': 2551, 'y': 2618, 'hspeed': 10, 'vspeed': -13, 'fuel': 520, 'angle': -20, 'power': 3, 'cmd': [-20, 3]}, {'step': 12, 'length': 73, 'x': 2561, 'y': 2605, 'hspeed': 11, 'vspeed': -13, 'fuel': 517, 'angle': -20, 'power': 3, 'cmd': [-20, 3]}, {'step': 13, 'length': 73, 'x': 2573, 'y': 2591, 'hspeed': 12, 'vspeed': -14, 'fuel': 514, 'angle': -20, 'power': 3, 'cmd': [-20, 3]}, {'step': 14, 'length': 73, 'x': 2586, 'y': 2576, 'hspeed': 13, 'vspeed': -15, 'fuel': 511, 'angle': -20, 'power': 3, 'cmd': [-20, 3]}, {'step': 15, 'length': 73, 'x': 2600, 'y': 2560, 'hspeed': 14, 'vspeed': -16, 'fuel': 508, 'angle': -20, 'power': 3, 'cmd': [-20, 3]}, {'step': 16, 'length': 73, 'x': 2614, 'y': 2543, 'hspeed': 15, 'vspeed': -17, 'fuel': 505, 'angle': -20, 'power': 3, 'cmd': [-20, 3]}, {'step': 17, 'length': 73, 'x': 2630, 'y': 2526, 'hspeed': 16, 'vspeed': -18, 'fuel': 502, 'angle': -20, 'power': 3, 'cmd': [-20, 3]}, {'step': 18, 'length': 73, 'x': 2647, 'y': 2508, 'hspeed': 17, 'vspeed': -19, 'fuel': 499, 'angle': -20, 'power': 3, 'cmd': [-20, 3]}, {'step': 19, 'length': 73, 'x': 2665, 'y': 2488, 'hspeed': 18, 'vspeed': -20, 'fuel': 496, 'angle': -20, 'power': 3, 'cmd': [-20, 3]}, {'step': 20, 'length': 73, 'x': 2684, 'y': 2468, 'hspeed': 19, 'vspeed': -21, 'fuel': 493, 'angle': -20, 'power': 3, 'cmd': [-20, 3]}, {'step': 21, 'length': 73, 'x': 2704, 'y': 2447, 'hspeed': 20, 'vspeed': -22, 'fuel': 490, 'angle': -20, 'power': 3, 'cmd': [-20, 3]}, {'step': 22, 'length': 73, 'x': 2725, 'y': 2425, 'hspeed': 21, 'vspeed': -22, 'fuel': 487, 'angle': -20, 'power': 3, 'cmd': [-20, 3]}, {'step': 23, 'length': 73, 'x': 2747, 'y': 2402, 'hspeed': 22, 'vspeed': -23, 'fuel': 484, 'angle': -20, 'power': 3, 'cmd': [-20, 3]}, {'step': 24, 'length': 73, 'x': 2770, 'y': 2378, 'hspeed': 24, 'vspeed': -24, 'fuel': 481, 'angle': -20, 'power': 3, 'cmd': [-20, 3]}, {'step': 25, 'length': 73, 'x': 2794, 'y': 2354, 'hspeed': 25, 'vspeed': -25, 'fuel': 478, 'angle': -20, 'power': 3, 'cmd': [-20, 3]}, {'step': 26, 'length': 73, 'x': 2819, 'y': 2328, 'hspeed': 26, 'vspeed': -26, 'fuel': 475, 'angle': -20, 'power': 3, 'cmd': [-20, 3]}, {'step': 27, 'length': 73, 'x': 2845, 'y': 2302, 'hspeed': 27, 'vspeed': -27, 'fuel': 472, 'angle': -20, 'power': 3, 'cmd': [-20, 3]}, {'step': 28, 'length': 73, 'x': 2872, 'y': 2275, 'hspeed': 28, 'vspeed': -28, 'fuel': 469, 'angle': -20, 'power': 3, 'cmd': [-20, 3]}, {'step': 29, 'length': 73, 'x': 2900, 'y': 2246, 'hspeed': 29, 'vspeed': -29, 'fuel': 466, 'angle': -20, 'power': 3, 'cmd': [-20, 3]}, {'step': 30, 'length': 73, 'x': 2929, 'y': 2217, 'hspeed': 30, 'vspeed': -30, 'fuel': 463, 'angle': -20, 'power': 3, 'cmd': [-20, 3]}, {'step': 31, 'length': 73, 'x': 2960, 'y': 2187, 'hspeed': 31, 'vspeed': -30, 'fuel': 460, 'angle': -20, 'power': 3, 'cmd': [-20, 3]}, {'step': 32, 'length': 73, 'x': 2991, 'y': 2156, 'hspeed': 32, 'vspeed': -31, 'fuel': 457, 'angle': -20, 'power': 3, 'cmd': [-20, 3]}, {'step': 33, 'length': 73, 'x': 3023, 'y': 2125, 'hspeed': 33, 'vspeed': -32, 'fuel': 454, 'angle': -20, 'power': 3, 'cmd': [-20, 3]}, {'step': 34, 'length': 73, 'x': 3056, 'y': 2092, 'hspeed': 34, 'vspeed': -33, 'fuel': 451, 'angle': -20, 'power': 3, 'cmd': [-20, 3]}, {'step': 35, 'length': 73, 'x': 3091, 'y': 2058, 'hspeed': 35, 'vspeed': -34, 'fuel': 448, 'angle': -20, 'power': 3, 'cmd': [-20, 3]}, {'step': 36, 'length': 73, 'x': 3126, 'y': 2024, 'hspeed': 36, 'vspeed': -35, 'fuel': 445, 'angle': -20, 'power': 3, 'cmd': [-20, 3]}, {'step': 37, 'length': 73, 'x': 3162, 'y': 1988, 'hspeed': 37, 'vspeed': -36, 'fuel': 442, 'angle': -20, 'power': 3, 'cmd': [-20, 3]}, {'step': 38, 'length': 73, 'x': 3200, 'y': 1952, 'hspeed': 38, 'vspeed': -37, 'fuel': 439, 'angle': -20, 'power': 3, 'cmd': [-20, 3]}, {'step': 39, 'length': 73, 'x': 3238, 'y': 1915, 'hspeed': 39, 'vspeed': -38, 'fuel': 436, 'angle': -20, 'power': 3, 'cmd': [-20, 3]}, {'step': 40, 'length': 73, 'x': 3277, 'y': 1877, 'hspeed': 40, 'vspeed': -38, 'fuel': 433, 'angle': -20, 'power': 3, 'cmd': [-20, 3]}, {'step': 41, 'length': 73, 'x': 3318, 'y': 1838, 'hspeed': 41, 'vspeed': -39, 'fuel': 430, 'angle': -20, 'power': 3, 'cmd': [-20, 3]}, {'step': 42, 'length': 73, 'x': 3359, 'y': 1798, 'hspeed': 42, 'vspeed': -40, 'fuel': 427, 'angle': -20, 'power': 3, 'cmd': [-20, 3]}, {'step': 43, 'length': 73, 'x': 3402, 'y': 1758, 'hspeed': 43, 'vspeed': -41, 'fuel': 424, 'angle': -20, 'power': 3, 'cmd': [-20, 3]}, {'step': 44, 'length': 73, 'x': 3445, 'y': 1716, 'hspeed': 44, 'vspeed': -42, 'fuel': 421, 'angle': -20, 'power': 3, 'cmd': [-20, 3]}, {'step': 45, 'length': 73, 'x': 3490, 'y': 1674, 'hspeed': 45, 'vspeed': -43, 'fuel': 418, 'angle': -20, 'power': 3, 'cmd': [-20, 3]}, {'step': 46, 'length': 73, 'x': 3535, 'y': 1630, 'hspeed': 46, 'vspeed': -44, 'fuel': 415, 'angle': -20, 'power': 3, 'cmd': [-20, 3]}, {'step': 47, 'length': 73, 'x': 3582, 'y': 1586, 'hspeed': 47, 'vspeed': -45, 'fuel': 412, 'angle': -20, 'power': 3, 'cmd': [-20, 3]}, {'step': 48, 'length': 73, 'x': 3630, 'y': 1541, 'hspeed': 48, 'vspeed': -46, 'fuel': 409, 'angle': -20, 'power': 3, 'cmd': [-20, 3]}, {'step': 49, 'length': 73, 'x': 3678, 'y': 1495, 'hspeed': 49, 'vspeed': -46, 'fuel': 406, 'angle': -20, 'power': 3, 'cmd': [-20, 3]}, {'step': 50, 'length': 73, 'x': 3728, 'y': 1448, 'hspeed': 50, 'vspeed': -47, 'fuel': 403, 'angle': -20, 'power': 3, 'cmd': [-20, 3]}, {'step': 51, 'length': 73, 'x': 3779, 'y': 1400, 'hspeed': 51, 'vspeed': -48, 'fuel': 400, 'angle': -20, 'power': 3, 'cmd': [-20, 3]}, {'step': 52, 'length': 73, 'x': 3830, 'y': 1351, 'hspeed': 52, 'vspeed': -49, 'fuel': 397, 'angle': -20, 'power': 3, 'cmd': [-20, 3]}, {'step': 53, 'length': 73, 'x': 3883, 'y': 1302, 'hspeed': 53, 'vspeed': -50, 'fuel': 394, 'angle': -20, 'power': 3, 'cmd': [-20, 3]}, {'step': 54, 'length': 73, 'x': 3937, 'y': 1251, 'hspeed': 54, 'vspeed': -51, 'fuel': 391, 'angle': -20, 'power': 3, 'cmd': [-20, 3]}, {'step': 55, 'length': 73, 'x': 3992, 'y': 1200, 'hspeed': 55, 'vspeed': -52, 'fuel': 388, 'angle': -20, 'power': 3, 'cmd': [-20, 3]}, {'step': 56, 'length': 73, 'x': 4048, 'y': 1147, 'hspeed': 56, 'vspeed': -53, 'fuel': 385, 'angle': -20, 'power': 3, 'cmd': [-20, 3]}, {'step': 57, 'length': 73, 'x': 4105, 'y': 1094, 'hspeed': 57, 'vspeed': -54, 'fuel': 382, 'angle': -20, 'power': 3, 'cmd': [-20, 3]}, {'step': 58, 'length': 73, 'x': 4162, 'y': 1040, 'hspeed': 58, 'vspeed': -55, 'fuel': 379, 'angle': -20, 'power': 3, 'cmd': [-20, 3]}, {'step': 59, 'length': 73, 'x': 4221, 'y': 985, 'hspeed': 59, 'vspeed': -55, 'fuel': 376, 'angle': -20, 'power': 3, 'cmd': [-20, 3]}, {'step': 60, 'length': 73, 'x': 4281, 'y': 929, 'hspeed': 60, 'vspeed': -56, 'fuel': 373, 'angle': -20, 'power': 3, 'cmd': [-20, 3]}, {'step': 61, 'length': 73, 'x': 4342, 'y': 873, 'hspeed': 61, 'vspeed': -57, 'fuel': 370, 'angle': -20, 'power': 3, 'cmd': [-20, 3]}, {'step': 62, 'length': 73, 'x': 4404, 'y': 815, 'hspeed': 63, 'vspeed': -58, 'fuel': 367, 'angle': -20, 'power': 3, 'cmd': [-20, 3]}, {'step': 63, 'length': 73, 'x': 4467, 'y': 756, 'hspeed': 64, 'vspeed': -59, 'fuel': 364, 'angle': -20, 'power': 3, 'cmd': [-20, 3]}, {'step': 64, 'length': 73, 'x': 4531, 'y': 697, 'hspeed': 65, 'vspeed': -60, 'fuel': 361, 'angle': -20, 'power': 3, 'cmd': [-20, 3]}, {'step': 65, 'length': 73, 'x': 4596, 'y': 637, 'hspeed': 66, 'vspeed': -61, 'fuel': 358, 'angle': -20, 'power': 3, 'cmd': [-20, 3]}, {'step': 66, 'length': 73, 'x': 4662, 'y': 575, 'hspeed': 67, 'vspeed': -62, 'fuel': 355, 'angle': -20, 'power': 3, 'cmd': [-20, 3]}, {'step': 67, 'length': 73, 'x': 4730, 'y': 513, 'hspeed': 68, 'vspeed': -63, 'fuel': 352, 'angle': -20, 'power': 3, 'cmd': [-20, 3]}, {'step': 68, 'length': 73, 'x': 4798, 'y': 450, 'hspeed': 69, 'vspeed': -63, 'fuel': 349, 'angle': -20, 'power': 3, 'cmd': [-20, 3]}, {'step': 69, 'length': 73, 'x': 4867, 'y': 386, 'hspeed': 70, 'vspeed': -64, 'fuel': 346, 'angle': -20, 'power': 3, 'cmd': [-20, 3]}, {'step': 70, 'length': 73, 'x': 4937, 'y': 322, 'hspeed': 71, 'vspeed': -65, 'fuel': 343, 'angle': -20, 'power': 3, 'cmd': [-20, 3]}, {'step': 71, 'length': 73, 'x': 5008, 'y': 256, 'hspeed': 72, 'vspeed': -66, 'fuel': 340, 'angle': -20, 'power': 3, 'cmd': [-20, 3]}, {'step': 72, 'length': 73, 'x': 5081, 'y': 189, 'hspeed': 73, 'vspeed': -67, 'fuel': 337, 'angle': -20, 'power': 3, 'cmd': [-20, 3]}, {'step': 73, 'length': 73, 'x': 5123, 'y': 150, 'hspeed': 74, 'vspeed': -68, 'fuel': 334, 'angle': -20, 'power': 3, 'cmd': [-20, 3]}] (<class 'list'>)\n",
      "Stored 'log' (list)\n"
     ]
    }
   ],
   "source": [
    "# Read back the json file which was saved by the above cell.\n",
    "%f s\" episode2-original.json\" readTextFile py> eval(pop()) constant log // ( -- json ) \"actual free fall.json\" log from Codingame > Mars Lander > episode-1 \n",
    "log = peforth.execute('log').pop()\n",
    "%f log -->\n",
    "%store log"
   ]
  },
  {
   "cell_type": "code",
   "execution_count": null,
   "metadata": {},
   "outputs": [],
   "source": []
  },
  {
   "cell_type": "code",
   "execution_count": 2,
   "metadata": {
    "tags": []
   },
   "outputs": [],
   "source": [
    "# 最基本的定義 \n",
    "\n",
    "Gravity = -3.711        # constant on Mars\n",
    "G = Gravity             # 到了二維以上，重力需轉成向量\n",
    "Altitude = 150          # altitude of the flat \n",
    "VSpeed = 40             # target virtical speed \n",
    "HSpeed = 20             # target horizental speed \n",
    "fuel0 = 550             # episode-2\n"
   ]
  },
  {
   "cell_type": "code",
   "execution_count": 3,
   "metadata": {},
   "outputs": [
    {
     "name": "stdout",
     "output_type": "stream",
     "text": [
      "G --> [-0.    -3.711] (<class 'numpy.ndarray'>)\n",
      "G type --> <class 'numpy.ndarray'> (<class 'type'>)\n"
     ]
    }
   ],
   "source": [
    "G = np.array([0,1])-np.array([0,0])\n",
    "G = G / np.linalg.norm(np.array([0,1])-np.array([0,0]))\n",
    "G = G * Gravity\n",
    "\n",
    "%f G -->\n",
    "%f G type --> \n"
   ]
  },
  {
   "cell_type": "code",
   "execution_count": 34,
   "metadata": {},
   "outputs": [
    {
     "data": {
      "text/plain": [
       "array([1, 1])"
      ]
     },
     "execution_count": 34,
     "metadata": {},
     "output_type": "execute_result"
    }
   ],
   "source": [
    "np.array([1,1])"
   ]
  },
  {
   "cell_type": "code",
   "execution_count": 13,
   "metadata": {},
   "outputs": [],
   "source": [
    "class Vector(np.array):\n",
    "\n",
    "    def __init__(self, x:float,y:float) -> None:\n",
    "        self = np.array([x,y])\n",
    "\n",
    "    def unit(self) -> np.array:\n",
    "        # Shrink the given vector into an unit vector\n",
    "        # https://stackoverflow.com/questions/21030391/how-to-normalize-an-array-in-numpy\n",
    "        return self if round(self.norm(),4) == 0. else self/norm;  # 考慮周詳\n",
    "\n",
    "    def norm(self) -> float:\n",
    "        # length of a vector, where v (vector) is a np.array\n",
    "        return np.linalg.norm(v)\n",
    "\n",
    "    def Angle(an:float) -> np.ndarray:\n",
    "        # Convert the given absolute angle in degrees to a unit vector that represents the angle\n",
    "        if an == 0:\n",
    "            return np.array([0.,1.])\n",
    "        elif an == 90:\n",
    "            return np.array([-1.,0.])\n",
    "        elif an == -90:\n",
    "            return np.array([1.,0.])\n",
    "        else:\n",
    "            return Vu(Vec(math.cos(np.deg2rad(an + 90)), math.sin(np.deg2rad(an + 90)))) \n",
    "\n"
   ]
  },
  {
   "cell_type": "code",
   "execution_count": 23,
   "metadata": {},
   "outputs": [
    {
     "data": {
      "text/plain": [
       "1.55"
      ]
     },
     "execution_count": 23,
     "metadata": {},
     "output_type": "execute_result"
    }
   ],
   "source": [
    "round(1.5534,2)"
   ]
  },
  {
   "cell_type": "code",
   "execution_count": 15,
   "metadata": {},
   "outputs": [
    {
     "name": "stdout",
     "output_type": "stream",
     "text": [
      "Angle :> (0) --> [0. 1.] (<class 'numpy.ndarray'>)\n",
      "Angle :> (90) --> [-1.  0.] (<class 'numpy.ndarray'>)\n",
      "Angle :> (-90) --> [1. 0.] (<class 'numpy.ndarray'>)\n",
      "Angle :> (180) --> [-1.8369702e-16 -1.0000000e+00] (<class 'numpy.ndarray'>)\n"
     ]
    }
   ],
   "source": [
    "%f Angle :> (0) -->\n",
    "%f Angle :> (90) -->\n",
    "%f Angle :> (-90) -->\n",
    "%f Angle :> (180) -->\n",
    "    "
   ]
  },
  {
   "cell_type": "code",
   "execution_count": 9,
   "metadata": {
    "tags": []
   },
   "outputs": [],
   "source": [
    "class State(STATE):\n",
    "\n",
    "    def __init__(self,step=0,Position=Vec(0,0),Speed=Vec(0,0),fuel=0,angle=0,power=0):\n",
    "        self.step   = step\n",
    "        self.fuel   = fuel\n",
    "        self.angle  = angle\n",
    "        self.power  = power\n",
    "        # self.force  = G + Angle(self.angle)*self.power\n",
    "        self.speed  = Vec(hspeed,vspeed)  # self.hspeed = hspeed, self.vspeed = vspeed\n",
    "        self.position = Vec(x,y)          # self.x = x, self.y = y\n",
    "\n",
    "    def next(self, angle:int, power:int):  \n",
    "        # input angle,power 都是 offset 分別屬 -15~15 以及 -1,0,+1 \n",
    "        assert power in [-1, 0, 1], 'expected input power is an offset [-1, 0, +1], given {}'.format(power)\n",
    "        assert angle in range(-15,16), 'input angle range [-15:16], given {}'.format(angle)\n",
    "        self.step   += 1\n",
    "        self.angle  += angle\n",
    "        self.angle   = -90 if self.angle < -90 else self.angle\n",
    "        self.angle   =  90 if self.angle > 90 else self.angle\n",
    "        self.power  += power\n",
    "        self.power   = 0 if self.power < 0 else self.power\n",
    "        self.power   = 4 if self.power > 4 else self.power\n",
    "        self.fuel   -= self.power\n",
    "        self.force   = G + Angle(self.angle)*self.power  # force = g + angle2uv(a1) * pwr1   # force on the ship during this step         \n",
    "     #  self.x       = self.x       # episode-1 不變\n",
    "     #  self.y       = self.y + self.vspeed + (1/2)*self.force\n",
    "     #  self.hspeed  = self.hspeed  # episode-1 不變\n",
    "     #  self.vspeed += self.force\n",
    "        self.speed  += self.Force  # self.hspeed = hspeed, self.vspeed = vspeed\n",
    "        self.position = self.Position + self.Speec + (1/2)*self.Force  # self.x = x, self.y = y\n",
    "        return self  # 傳回值只是方便測試，可以這樣寫： %f state :> next(0,3.711) -->\n",
    "\n",
    "    def __str__(self):  \n",
    "        return str(self.__dict__)\n",
    "\n",
    "state0 = State(0,2500,2700,0,0,fuel0,0,0)  # episode-2 的起點 state"
   ]
  },
  {
   "cell_type": "code",
   "execution_count": 11,
   "metadata": {},
   "outputs": [
    {
     "data": {
      "text/plain": [
       "{'step': 0,\n",
       " 'fuel': 550,\n",
       " 'angle': 0,\n",
       " 'power': 0,\n",
       " 'speed': array([0, 0]),\n",
       " 'position': array([2500, 2700])}"
      ]
     },
     "execution_count": 11,
     "metadata": {},
     "output_type": "execute_result"
    }
   ],
   "source": [
    "state0.__dict__"
   ]
  },
  {
   "cell_type": "code",
   "execution_count": 10,
   "metadata": {},
   "outputs": [
    {
     "ename": "TypeError",
     "evalue": "__init__() got an unexpected keyword argument 'speed'",
     "output_type": "error",
     "traceback": [
      "\u001b[1;31m---------------------------------------------------------------------------\u001b[0m",
      "\u001b[1;31mTypeError\u001b[0m                                 Traceback (most recent call last)",
      "\u001b[1;32m<ipython-input-10-47f0bbb7515c>\u001b[0m in \u001b[0;36m<module>\u001b[1;34m\u001b[0m\n\u001b[1;32m----> 1\u001b[1;33m \u001b[0mstate\u001b[0m \u001b[1;33m=\u001b[0m \u001b[0mState\u001b[0m\u001b[1;33m(\u001b[0m\u001b[1;33m**\u001b[0m\u001b[0mstate0\u001b[0m\u001b[1;33m.\u001b[0m\u001b[0m__dict__\u001b[0m\u001b[1;33m)\u001b[0m\u001b[1;33m\u001b[0m\u001b[1;33m\u001b[0m\u001b[0m\n\u001b[0m",
      "\u001b[1;31mTypeError\u001b[0m: __init__() got an unexpected keyword argument 'speed'"
     ]
    }
   ],
   "source": [
    "state = State(**state0.__dict__)"
   ]
  },
  {
   "cell_type": "code",
   "execution_count": 5,
   "metadata": {},
   "outputs": [
    {
     "name": "stdout",
     "output_type": "stream",
     "text": [
      "sample_genomes :> [\"自由落體\"] --> [[0, 0], [0, 0], [0, 0], [0, 0], [0, 0], [0, 0], [0, 0], [0, 0], [0, 0], [0, 0], [0, 0], [0, 0], [0, 0], [0, 0], [0, 0], [0, 0], [0, 0], [0, 0], [0, 0], [0, 0], [0, 0], [0, 0], [0, 0], [0, 0], [0, 0], [0, 0], [0, 0], [0, 0], [0, 0], [0, 0], [0, 0], [0, 0], [0, 0], [0, 0], [0, 0], [0, 0]] (<class 'list'>)\n",
      "sample_genomes :> [\"安全降落\"] --> [[0, 0], [0, 0], [0, 0], [0, 0], [0, 0], [0, 0], [0, 0], [0, 0], [0, 0], [0, 1], [0, 1], [0, 1], [0, 1], [0, 1], [0, 1], [0, 1], [0, 1], [0, 1], [0, 1], [0, 1], [0, 1], [0, 1], [0, 1], [0, 1], [0, 1], [0, 1], [0, 1], [0, 1], [0, 1], [0, 1], [0, 1], [0, 1], [0, 1], [0, 1], [0, 1], [0, 1], [0, 1], [0, 1], [0, 1], [0, 1], [0, 1], [0, 1], [0, 1], [0, 1], [0, 1], [0, 1], [0, 1], [0, 1], [0, 1], [0, 1], [0, 1], [0, 1], [0, 1], [0, 1], [0, 1], [0, 1], [0, 1], [0, 1], [0, 1], [0, 1], [0, 1], [0, 1], [0, 1], [0, 1], [0, 1], [0, 1], [0, 1], [0, 1], [0, 1], [0, 1], [0, 1], [0, 1], [0, 1], [0, 1], [0, 1], [0, 1], [0, 1], [0, 1], [0, 1], [0, 1], [0, 1], [0, 1], [0, 1], [0, 1], [0, 1], [0, 1], [0, 1], [0, 1], [0, 1], [0, 1], [0, 1]] (<class 'list'>)\n",
      "sample_genomes :> [\"飛向太空\"] --> [[0, 1], [0, 1], [0, 1], [0, 1], [0, 1], [0, 1], [0, 1], [0, 1], [0, 1], [0, 1], [0, 1], [0, 1], [0, 1], [0, 1], [0, 1], [0, 1], [0, 1], [0, 1], [0, 1], [0, 1], [0, 1], [0, 1], [0, 1], [0, 1], [0, 1], [0, 1], [0, 1], [0, 1], [0, 1], [0, 1], [0, 1], [0, 1], [0, 1], [0, 1], [0, 1], [0, 1], [0, 1], [0, 1], [0, 1], [0, 1], [0, 1], [0, 1], [0, 1], [0, 1], [0, 1], [0, 1], [0, 1], [0, 1], [0, 1], [0, 1], [0, 1], [0, 1], [0, 1], [0, 1], [0, 1], [0, 1], [0, 1], [0, 1], [0, 1], [0, 1], [0, 1], [0, 1], [0, 1], [0, 1], [0, 1], [0, 1], [0, 1], [0, 1], [0, 1], [0, 1], [0, 1], [0, 1], [0, 1], [0, 1], [0, 1], [0, 1], [0, 1], [0, 1], [0, 1], [0, 1], [0, 1], [0, 1], [0, 1]] (<class 'list'>)\n",
      "sample_genomes :> [\"更成功\"]  --> [[0, 0], [0, 0], [0, 0], [0, 0], [0, 0], [0, 0], [0, 0], [0, 0], [0, 0], [0, 1], [0, 1], [0, 1], [0, 1], [0, 1], [0, 1], [0, 1], [0, 1], [0, 1], [0, 1], [0, 1], [0, 1], [0, 1], [0, 1], [0, 1], [0, 1], [0, 1], [0, 1], [0, 1], [0, 1], [0, 1], [0, 1], [0, 1], [0, 1], [0, 1], [0, 1], [0, 1], [0, 1], [0, 1], [0, 1], [0, 1], [0, 1], [0, 1], [0, 1], [0, 1], [0, 1], [0, 1], [0, 1], [0, 1], [0, 1], [0, 1], [0, 1], [0, 1], [0, 1], [0, 1], [0, 1], [0, 1], [0, 1], [0, 1], [0, 1], [0, 1], [0, 1], [0, 1], [0, 1], [0, 1], [0, 1], [0, 1], [0, 1], [0, 1], [0, 1], [0, 1], [0, 1], [0, 1], [0, 1], [0, 1], [0, 1], [0, 1], [0, 1], [0, 1], [0, 1], [0, 1], [0, 1], [0, -1], [0, -1], [0, -1], [0, -1], [0, -1], [0, -1], [0, -1]] (<class 'list'>)\n",
      "state_list :> [\"自由落體\"] --> {'step': 36, 'x': 0, 'y': 95.2720000000003, 'hspeed': 0, 'vspeed': -133.59599999999998, 'fuel': 500, 'angle': 0, 'power': 0, 'force': -3.711} (<class '__main__.State'>)\n",
      "state_list :> [\"安全降落\"] --> {'step': 91, 'x': 0, 'y': 97.6045000000063, 'hspeed': 0, 'vspeed': -15.700999999999876, 'fuel': 178, 'angle': 0, 'power': 4, 'force': 0.28900000000000015} (<class '__main__.State'>)\n",
      "state_list :> [\"飛向太空\"] --> {'step': 83, 'x': 0, 'y': 3004.4604999999906, 'hspeed': 0, 'vspeed': 17.987000000000002, 'fuel': 174, 'angle': 0, 'power': 4, 'force': 0.28900000000000015} (<class '__main__.State'>)\n",
      "state_list :> [\"更成功\"]   --> {'step': 88, 'x': 0, 'y': 83.00800000000595, 'hspeed': 0, 'vspeed': -38.56799999999988, 'fuel': 212, 'angle': 0, 'power': 0, 'force': -3.711} (<class '__main__.State'>)\n"
     ]
    }
   ],
   "source": [
    "# 建置 command lists 錄製好幾種狀況方便實驗\n",
    "\n",
    "sample_genomes = {\"自由落體\":[],\"安全降落\":[], \"飛向太空\":[], \"差點成功\":[], \"更成功\":[]}  \n",
    "state_list = {\"自由落體\":{},\"安全降落\":{}, \"飛向太空\":{}, \"差點成功\":{}, \"更成功\":{}}  \n",
    "\n",
    "# 自由落體\n",
    "state = State(**state0.__dict__)  # init for ecah genome \n",
    "for i in range(36):\n",
    "    state.next(0,0);\n",
    "    sample_genomes[\"自由落體\"].append([0,0])\n",
    "state_list[\"自由落體\"]=state  # state 是獨立的，不需要 deep copy \n",
    "\n",
    "# 安全降落\n",
    "state = State(**state0.__dict__)  # init for ecah genome \n",
    "for i in range(9):\n",
    "    state.next(0,0);\n",
    "    sample_genomes[\"安全降落\"].append([0,0])\n",
    "for i in range(9,91):\n",
    "    state.next(0,1);\n",
    "    sample_genomes[\"安全降落\"].append([0,1])\n",
    "state_list[\"安全降落\"]=state\n",
    "\n",
    "# 飛向太空\n",
    "state = State(**state0.__dict__)  # init for ecah genome \n",
    "for i in range(83):\n",
    "    state.next(0,1);\n",
    "    sample_genomes[\"飛向太空\"].append([0,1])\n",
    "state_list[\"飛向太空\"]=state\n",
    "\n",
    "# 更成功\n",
    "state = State(**state0.__dict__)  # init for ecah genome \n",
    "for i in range(9):\n",
    "    state.next(0,0);\n",
    "    sample_genomes[\"更成功\"].append([0,0])\n",
    "for i in range(9,81):\n",
    "    state.next(0,1);\n",
    "    sample_genomes[\"更成功\"].append([0,1])\n",
    "for i in range(7):\n",
    "    state.next(0,-1);\n",
    "    sample_genomes[\"更成功\"].append([0,-1])\n",
    "state_list[\"更成功\"]=state\n",
    "\n",
    "%f sample_genomes :> [\"自由落體\"] --> \\ genome_to_command_list :> (pop()) -->\n",
    "%f sample_genomes :> [\"安全降落\"] --> \\ genome_to_command_list :> (pop()) -->\n",
    "%f sample_genomes :> [\"飛向太空\"] --> \\ genome_to_command_list :> (pop()) -->\n",
    "%f sample_genomes :> [\"更成功\"]  -->  \\ genome_to_command_list :> (pop()) -->\n",
    "\n",
    "%f state_list :> [\"自由落體\"] -->  \n",
    "%f state_list :> [\"安全降落\"] -->  \n",
    "%f state_list :> [\"飛向太空\"] -->  \n",
    "%f state_list :> [\"更成功\"]   -->  \n"
   ]
  },
  {
   "cell_type": "code",
   "execution_count": 6,
   "metadata": {},
   "outputs": [
    {
     "name": "stdout",
     "output_type": "stream",
     "text": [
      "get_random_neighbour :> ([[0,0],[0,0]]) ( 都不可能出現 -1 ) --> [[0, 0], [0, 1]] (<class 'list'>)\n",
      "get_random_neighbour :> ([[0,0],[0,1]]) ( 都不可能出現 -1 ) --> [[0, 0], [0, 0]] (<class 'list'>)\n",
      "get_random_neighbour :> ([[0,1],[0,1],[0,1],[0,1],[0,1]]) --> [[0, 1], [0, 0], [0, 1], [0, 1], [0, 1]] (<class 'list'>)\n",
      "get_random_neighbour :> ([[0,1],[0,1],[0,1],[0,1],[0,1]]) --> [[0, 1], [0, 1], [0, 1], [0, 0], [0, 1]] (<class 'list'>)\n",
      "get_random_neighbour :> ([[0,1],[0,1],[0,1],[0,1],[0,1]]) --> [[0, 0], [0, 1], [0, 1], [0, 1], [0, 1]] (<class 'list'>)\n",
      "get_random_neighbour :> ([[0,1],[0,1],[0,1],[0,1],[0,1]]) --> [[0, 1], [0, 1], [0, 1], [0, 0], [0, 1]] (<class 'list'>)\n"
     ]
    }
   ],
   "source": [
    "# 改寫 for Mars Lander 乍看以為要頭痛一會兒，其實 Mars Lander 的 genome 很簡單，就是一串 (int,int) \n",
    "# pairs 而已。前面基礎討論有提到，以 SA 而言就是 mutate 某一個 gene 也就是 command pair 而已。但是考慮 Mars\n",
    "# Lander 的限制條件，以 epidode-1 而言，command 的改變要做的決定是 -1 0 +1 其中之一才對，而非 0~4. \n",
    "\n",
    "# 長度的問題，\n",
    "# 太長而無效的 genes 要 cut 掉。\n",
    "# 長度不夠時直接 copy 最後一個 gene 頂替即可。\n",
    "# 會發現 genome 太長或不夠的是 simulator 那就是由它處理。\n",
    "\n",
    "# 1. 避免無效的 neighbour 例如前一 power 是 0 或 4 卻下 -1 或 1 就是無效的，這個 neighbour 就浪費了。 \n",
    "# 2. 第一個 gene 的 power 不能下 -1 只能下 0 或 +1 , 將來 angle 也有一樣的限制。\n",
    "\n",
    "def get_random_neighbour(genome: GENOME) -> None :\n",
    "    neighbour = copy.deepcopy(genome)  # 利用 [:] slice copy 不行！\n",
    "    commands = genome_to_command_list(neighbour)  # 絕對 command, 用來檢查前一狀態避免產生無效的 neighbour \n",
    "    \n",
    "    while True:  # 試到不一樣了才出來\n",
    "        idx = random.randint(0,len(genome)-1) # 選 1 個 gene \n",
    "        cmd = random.randint(-1, 1)  # -1, 0, +1 當中選 1 個 thrust command (episode-1)\n",
    "        if idx == 0 and cmd == -1 : continue  # 一開始的 power 就是 0 再下 -1 無效\n",
    "        if idx >= 1 and cmd == -1 and commands[idx-1][1] == 0: continue  # 前一個 power 就已經是 0 又下 -1 無效\n",
    "        if idx >= 1 and cmd ==  1 and commands[idx-1][1] == 4: continue  # 前一個 power 就已經是 4 又下 +1 無效\n",
    "        if neighbour[idx][1] == cmd: continue  # 沒有變化當然無效\n",
    "        else: \n",
    "            neighbour[idx][1] = cmd\n",
    "            break\n",
    "            \n",
    "    return neighbour\n",
    "%f get_random_neighbour :> ([[0,0],[0,0]]) ( 都不可能出現 -1 ) -->    \n",
    "%f get_random_neighbour :> ([[0,0],[0,1]]) ( 都不可能出現 -1 ) -->    \n",
    "%f get_random_neighbour :> ([[0,1],[0,1],[0,1],[0,1],[0,1]]) --> \\ gene0 只有 0 或 1 不會有 -1, gene1 視 gene0 而定     \n",
    "%f get_random_neighbour :> ([[0,1],[0,1],[0,1],[0,1],[0,1]]) --> \\ gene0 只有 0 或 1 不會有 -1, gene1 視 gene0 而定     \n",
    "%f get_random_neighbour :> ([[0,1],[0,1],[0,1],[0,1],[0,1]]) --> \\ gene0 只有 0 或 1 不會有 -1, gene1 視 gene0 而定     \n",
    "%f get_random_neighbour :> ([[0,1],[0,1],[0,1],[0,1],[0,1]]) --> \\ gene0 只有 0 或 1 不會有 -1, gene1 視 gene0 而定     \n",
    "                             "
   ]
  },
  {
   "cell_type": "code",
   "execution_count": null,
   "metadata": {},
   "outputs": [],
   "source": []
  },
  {
   "cell_type": "code",
   "execution_count": null,
   "metadata": {},
   "outputs": [],
   "source": []
  },
  {
   "cell_type": "code",
   "execution_count": null,
   "metadata": {},
   "outputs": [],
   "source": []
  },
  {
   "cell_type": "markdown",
   "metadata": {},
   "source": [
    "# Original sample code\n",
    "\n",
    "#### Surface landscape\n",
    "    <pre class=\"stderr\" ng-if=\"::subframe.stderr\" ng-bind-html=\"::subframe.stderr | secureOutput | promptOutput | trustHtml\">\n",
    "    <div class=\"outputLine\">i 0 : land_x 0, land_y 100</div>\n",
    "    <div class=\"outputLine\">i 1 : land_x 1000, land_y 500</div>\n",
    "    <div class=\"outputLine\">i 2 : land_x 1500, land_y 1500</div>\n",
    "    <div class=\"outputLine\">i 3 : land_x 3000, land_y 1000</div>\n",
    "    <div class=\"outputLine\">i 4 : land_x 4000, land_y 150</div>  取 5000,150 當作目標\n",
    "    <div class=\"outputLine\">i 5 : land_x 5500, land_y 150</div>\n",
    "    <div class=\"outputLine\">i 6 : land_x 6999, land_y 800</div>\n"
   ]
  },
  {
   "cell_type": "code",
   "execution_count": null,
   "metadata": {},
   "outputs": [],
   "source": [
    "import sys\n",
    "import math\n",
    "\n",
    "# Auto-generated code below aims at helping you parse\n",
    "# the standard input according to the problem statement.\n",
    "\n",
    "surface_n = int(input())  # the number of points used to draw the surface of Mars.\n",
    "for i in range(surface_n):\n",
    "    # land_x: X coordinate of a surface point. (0 to 6999)\n",
    "    # land_y: Y coordinate of a surface point. By linking all the points together in a sequential fashion, you form the surface of Mars.\n",
    "    land_x, land_y = [int(j) for j in input().split()]\n",
    "    print('i {} : land_x {}, land_y {}'.format(i, land_x, land_y), file=sys.stderr, flush=True)\n",
    "\n",
    "# game loop\n",
    "while True:\n",
    "    # h_speed: the horizontal speed (in m/s), can be negative.\n",
    "    # v_speed: the vertical speed (in m/s), can be negative.\n",
    "    # fuel: the quantity of remaining fuel in liters.\n",
    "    # rotate: the rotation angle in degrees (-90 to 90).\n",
    "    # power: the thrust power (0 to 4).\n",
    "    x, y, h_speed, v_speed, fuel, rotate, power = [int(i) for i in input().split()]\n",
    "\n",
    "    # Write an action using print\n",
    "    # To debug: print(\"Debug messages...\", file=sys.stderr, flush=True)\n",
    "\n",
    "\n",
    "    # rotate power. rotate is the desired rotation angle. power is the desired thrust power.\n",
    "    print(\"-20 3\")\n"
   ]
  },
  {
   "cell_type": "code",
   "execution_count": null,
   "metadata": {},
   "outputs": [],
   "source": []
  },
  {
   "cell_type": "code",
   "execution_count": null,
   "metadata": {},
   "outputs": [],
   "source": []
  }
 ],
 "metadata": {
  "kernelspec": {
   "display_name": "Python 3",
   "language": "python",
   "name": "python3"
  },
  "language_info": {
   "codemirror_mode": {
    "name": "ipython",
    "version": 3
   },
   "file_extension": ".py",
   "mimetype": "text/x-python",
   "name": "python",
   "nbconvert_exporter": "python",
   "pygments_lexer": "ipython3",
   "version": "3.7.5"
  }
 },
 "nbformat": 4,
 "nbformat_minor": 4
}
