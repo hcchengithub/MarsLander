{
 "cells": [
  {
   "cell_type": "markdown",
   "metadata": {},
   "source": [
    "# Episode-2\n",
    "\n",
    "    0 : land_x 0, land_y 100\n",
    "    1 : land_x 1000, land_y 500\n",
    "    2 : land_x 1500, land_y 1500\n",
    "    3 : land_x 3000, land_y 1000\n",
    "    4 : land_x 4000, land_y 150\n",
    "    5 : land_x 5500, land_y 150\n",
    "    6 : land_x 6999, land_y 800\n",
    "    "
   ]
  },
  {
   "cell_type": "code",
   "execution_count": 1,
   "metadata": {
    "tags": []
   },
   "outputs": [
    {
     "name": "stdout",
     "output_type": "stream",
     "text": [
      "reDef unknown\n",
      "reDef -->\n",
      "p e f o r t h    v1.26\n",
      "source code http://github.com/hcchengithub/peforth\n",
      "Type 'peforth.ok()' to enter forth interpreter, 'exit' to come back.\n",
      "\n"
     ]
    }
   ],
   "source": [
    "# 抓進 peforth 以及外加功能\n",
    "%run forth.py"
   ]
  },
  {
   "cell_type": "code",
   "execution_count": 2,
   "metadata": {
    "tags": []
   },
   "outputs": [
    {
     "name": "stdout",
     "output_type": "stream",
     "text": [
      "Using matplotlib backend: Qt5Agg\n",
      "Populating the interactive namespace from numpy and matplotlib\n"
     ]
    }
   ],
   "source": [
    "%pylab\n",
    "# import numpy as np\n",
    "from typing import List, Optional, Callable, Tuple, Dict, Union  # OneNote2021 #_python_ #_typing_\n",
    "GENE = List[int]  # (rotate (-15 ~ +15),power (-1, 0, +1)) 避免無用的值域，下給 Web site 的 command 要轉換成 (rotate(-90 ~ +90), power(0,1,2,3,4))\n",
    "GENOME = List[GENE]  # Genome 是一個 list 裡面都是 int\n",
    "STATE = Dict[str,Union[int,float,np.array]]  # x,y,hspeed,power,.. etc \n",
    "\n",
    "import random, json, math, copy\n",
    "from itertools import permutations  # permutations 數學「排列組合」中的「排列」\n",
    "import IPython"
   ]
  },
  {
   "cell_type": "markdown",
   "metadata": {},
   "source": [
    "# How to check if two given line segments intersect?\n",
    "兩線相交的偵測程式。 A Python3 program to find if 2 given line segments intersect or not.\n",
    "\n",
    "https://www.geeksforgeeks.org/check-if-two-given-line-segments-intersect/"
   ]
  },
  {
   "cell_type": "code",
   "execution_count": 3,
   "metadata": {},
   "outputs": [],
   "source": [
    "# Given three colinear 共線 points p, q, r, 如果非共線就不準了，目的是看 q 是否在 p-r 之內，飛出 p-r 線外的不適用。\n",
    "# the function checks if point q lies on line segment 'pr'\n",
    "def onSegment(p, q, r):\n",
    "\tif ( (q.x <= max(p.x, r.x)) and (q.x >= min(p.x, r.x)) and\n",
    "\t\t(q.y <= max(p.y, r.y)) and (q.y >= min(p.y, r.y))):\n",
    "\t\treturn True\n",
    "\treturn False"
   ]
  },
  {
   "cell_type": "code",
   "execution_count": 4,
   "metadata": {},
   "outputs": [],
   "source": [
    "def orientation(p, q, r):\n",
    "\t# to find the orientation of an ordered triplet (p,q,r) 有序三元組\n",
    "\t# function returns the following values:\n",
    "\t# 0 : Colinear points 喔！共線靠這個也能界定。\n",
    "\t# 1 : Clockwise points\n",
    "\t# 2 : Counterclockwise\n",
    "\t\n",
    "\t# See https://www.geeksforgeeks.org/orientation-3-ordered-points/amp/\n",
    "\t# for details of below formula.\n",
    "\t\n",
    "\tval = (float(q.y - p.y) * (r.x - q.x)) - (float(q.x - p.x) * (r.y - q.y))\n",
    "\tif (val > 0):\n",
    "\t\t\n",
    "\t\t# Clockwise orientation\n",
    "\t\treturn 1\n",
    "\telif (val < 0):\n",
    "\t\t\n",
    "\t\t# Counterclockwise orientation\n",
    "\t\treturn 2\n",
    "\telse:\n",
    "\t\t\n",
    "\t\t# Colinear orientation\n",
    "\t\treturn 0"
   ]
  },
  {
   "cell_type": "code",
   "execution_count": 5,
   "metadata": {},
   "outputs": [],
   "source": [
    "# The main function that returns true if\n",
    "# the line segment 'p1q1' and 'p2q2' intersect.\n",
    "def doIntersect(p1,q1,p2,q2):\n",
    "\t\n",
    "\t# Find the 4 orientations required for\n",
    "\t# the general and special cases\n",
    "\to1 = orientation(p1, q1, p2)\n",
    "\to2 = orientation(p1, q1, q2)\n",
    "\to3 = orientation(p2, q2, p1)\n",
    "\to4 = orientation(p2, q2, q1)\n",
    "\n",
    "\t# General case\n",
    "\tif ((o1 != o2) and (o3 != o4)):\n",
    "\t\treturn True\n",
    "\n",
    "\t# Special Cases\n",
    "\n",
    "\t# p1 , q1 and p2 are colinear and p2 lies on segment p1q1\n",
    "\tif ((o1 == 0) and onSegment(p1, p2, q1)):\n",
    "\t\treturn True\n",
    "\n",
    "\t# p1 , q1 and q2 are colinear and q2 lies on segment p1q1\n",
    "\tif ((o2 == 0) and onSegment(p1, q2, q1)):\n",
    "\t\treturn True\n",
    "\n",
    "\t# p2 , q2 and p1 are colinear and p1 lies on segment p2q2\n",
    "\tif ((o3 == 0) and onSegment(p2, p1, q2)):\n",
    "\t\treturn True\n",
    "\n",
    "\t# p2 , q2 and q1 are colinear and q1 lies on segment p2q2\n",
    "\tif ((o4 == 0) and onSegment(p2, q1, q2)):\n",
    "\t\treturn True\n",
    "\n",
    "\t# If none of the cases\n",
    "\treturn False"
   ]
  },
  {
   "cell_type": "markdown",
   "metadata": {},
   "source": [
    "### 點到線段的距離"
   ]
  },
  {
   "cell_type": "code",
   "execution_count": 6,
   "metadata": {},
   "outputs": [
    {
     "name": "stdout",
     "output_type": "stream",
     "text": [
      "distance --> [0.70710678 0.70710678] (<class 'numpy.ndarray'>)\n",
      "distance --> [1.11803399 0.         0.5        0.5        0.         0.5\n",
      " 1.11803399] (<class 'numpy.ndarray'>)\n"
     ]
    }
   ],
   "source": [
    "# Calculate the euclidian distance between an array of points to a line segment in Python without for loop\n",
    "# https://stackoverflow.com/questions/54442057/calculate-the-euclidian-distance-between-an-array-of-points-to-a-line-segment-in\n",
    "# OneDrive/文件/Jupyter Notebooks/Differences of np.dot and np.multiply/intro_2_vector.ipynb\n",
    "# lineseg_dists(p:[Vector], a:Vector, b:Vector) -> [float]\n",
    "\n",
    "def lineseg_dists(p, a, b):\n",
    "    # where p is an array of points, a,b is the line segment\n",
    "    # lineseg_dists(p:[Vector], a:Vector, b:Vector) -> [float]\n",
    "    \n",
    "    if np.all(a == b):\n",
    "        return np.linalg.norm(p - a, axis=1)  # a-b 是一個點，直接取 p-a 就是答案。 p \n",
    "\n",
    "    # normalized tangent vector\n",
    "    d = np.divide(b - a, np.linalg.norm(b - a))\n",
    "\n",
    "    # signed parallel distance components\n",
    "    s = np.dot(a - p, d)  # a-p 在 d 上的投影\n",
    "    t = np.dot(p - b, d)  # p-b 在 d 上的投影\n",
    "\n",
    "    # clamped parallel distance\n",
    "    h = np.maximum.reduce([s, t, np.zeros(len(p))])  # h 是\n",
    "    \n",
    "    # perpendicular distance component, as before\n",
    "    # note that for the 3D case these will be vectors\n",
    "    c = np.cross(p - a, d)\n",
    "\n",
    "    # use hypot for Pythagoras to improve accuracy\n",
    "    result = np.hypot(h, c)\n",
    "    \n",
    "    return result\n",
    "\n",
    "# 點 [1,1] 在線的右上邊，距離是正的；點 [0,0] 在線的左下邊，距離也是正的，所以它沒有分正負。\n",
    "p = np.array([[1,1],[0,0]])  # the point\n",
    "a = np.array([1,0])  # the line start\n",
    "b = np.array([0,1])  # the line end\n",
    "distance = lineseg_dists(p, a, b)\n",
    "%f distance -->\n",
    "\n",
    "# 這組實驗證實 lineseg_dists() 無誤\n",
    "p = np.array([[-1,0.5],[0,0],[0,0.5],[0.5,0.5],[1,0],[1,0.5],[2,0.5]])  # the point\n",
    "a = np.array([0,0])  # the line start\n",
    "b = np.array([1,0])  # the line end\n",
    "distance = lineseg_dists(p, a, b)\n",
    "%f distance -->"
   ]
  },
  {
   "cell_type": "markdown",
   "metadata": {},
   "source": [
    "# 直接讀 log 檔\n",
    "So the `%store log` is from here"
   ]
  },
  {
   "cell_type": "raw",
   "metadata": {
    "jupyter": {
     "outputs_hidden": true
    },
    "tags": []
   },
   "source": [
    "# Read back the json file which was saved by the above cell.\n",
    "%f s\" episode2-original.json\" readTextFile py> eval(pop()) constant log // ( -- json ) \"actual free fall.json\" log from Codingame > Mars Lander > episode-1 \n",
    "log = peforth.execute('log').pop()\n",
    "%f log -->\n",
    "%store log"
   ]
  },
  {
   "cell_type": "markdown",
   "metadata": {
    "tags": []
   },
   "source": [
    "# 最基本的定義 "
   ]
  },
  {
   "cell_type": "code",
   "execution_count": 7,
   "metadata": {
    "tags": []
   },
   "outputs": [],
   "source": [
    "Gravity = 3.711        # constant on Mars\n",
    "G = Gravity             # 到了二維以上，重力需轉成向量\n",
    "Altitude = 150          # altitude of the flat \n",
    "VSpeed = 40             # target virtical speed \n",
    "HSpeed = 20             # target horizental speed \n",
    "Fuel0 = 550             # episode-2\n",
    "Flat_ground = 4\n",
    "Land = [\n",
    "  [   0, 100], # 0\n",
    "  [1000, 500], # 1\n",
    "  [1500,1500], # 2\n",
    "  [3000,1000], # 3\n",
    "  [4000, 150], # 4 flat ground\n",
    "  [5500, 150], # 5 flat ground\n",
    "  [6999, 800], # 6\n",
    "]    \n",
    "\n",
    "\n",
    "# Parameters\n",
    "Round_off = 2           # 顯示到小數點以下兩位避免太長\n"
   ]
  },
  {
   "cell_type": "code",
   "execution_count": 8,
   "metadata": {},
   "outputs": [
    {
     "name": "stdout",
     "output_type": "stream",
     "text": [
      "Vector :> (3,4) --> Vec[3 4] (<class '__main__.Vector'>)\n",
      "Vector :> (3,4).v() --> [3 4] (<class 'numpy.ndarray'>)\n",
      "Vector :> (3,4).x --> 3 (<class 'int'>)\n",
      "Vector :> (3,4).y --> 4 (<class 'int'>)\n",
      "Vector :> (3,4).n() --> 5.0 (<class 'numpy.float64'>)\n",
      "Vector :> (3,4).u() --> [0.6 0.8] (<class 'numpy.ndarray'>)\n",
      "Vector :> (0.6,0.8).n() --> 1.0 (<class 'numpy.float64'>)\n",
      "Vector :> (0.6,0.8)*2 --> Vec[1.2 1.6] (<class '__main__.Vector'>)\n"
     ]
    }
   ],
   "source": [
    "\n",
    "# Vector 比 np.array 好一點在於有 __str__ 可以做 round-off 輸出。\n",
    "\n",
    "class Vector:\n",
    "    def __init__(self, x:float,y:float):\n",
    "        self.x = x\n",
    "        self.y = y\n",
    "\n",
    "    def __mul__(self, x:float):\n",
    "        m = self.v() * x \n",
    "        return Vector(*m)  # Vector(m[0], m[1])  np.array 也可以直接 unpack or distructing \n",
    "    \n",
    "    def __add__(self, x):\n",
    "        m = self.v() + x.v() \n",
    "        return Vector(*m)  # Vector(m[0], m[1])  np.array 也可以直接 unpack or distructing \n",
    "\n",
    "    def v(self) -> np.array:\n",
    "        # A vector is a np.array\n",
    "        return np.array([self.x,self.y])\n",
    "\n",
    "    def n(self) -> float:\n",
    "        # norm of a vector is its length\n",
    "        return np.linalg.norm(self.v())\n",
    "\n",
    "    def u(self) -> np.array:\n",
    "        # Shrink the given vector into an unit vector. https://stackoverflow.com/questions/21030391/how-to-normalize-an-array-in-numpy\n",
    "        return self if round(self.n(),6) == 0. else self.v()/self.n();  # 考慮周詳\n",
    "    \n",
    "    def __str__(self) -> str:\n",
    "        return 'Vec' + str(np.array([round(self.x,Round_off),round(self.y,Round_off)]))\n",
    "    \n",
    "%f Vector :> (3,4) -->\n",
    "%f Vector :> (3,4).v() -->\n",
    "%f Vector :> (3,4).x -->\n",
    "%f Vector :> (3,4).y -->\n",
    "%f Vector :> (3,4).n() -->\n",
    "%f Vector :> (3,4).u() -->\n",
    "%f Vector :> (0.6,0.8).n() -->\n",
    "%f Vector :> (0.6,0.8)*2 -->    "
   ]
  },
  {
   "cell_type": "code",
   "execution_count": 9,
   "metadata": {},
   "outputs": [
    {
     "name": "stdout",
     "output_type": "stream",
     "text": [
      "Angle :> (-180) :> v() --> [ 6.123234e-17 -1.000000e+00] (<class 'numpy.ndarray'>)\n",
      "Angle :> (-180) --> Vec[ 0. -1.] (<class '__main__.Angle'>)\n",
      "Angle :> (90)   --> Vec[-1.  0.] (<class '__main__.Angle'>)\n",
      "Angle :> (-90)  --> Vec[1. 0.] (<class '__main__.Angle'>)\n",
      "Angle :> (180)  --> Vec[-0. -1.] (<class '__main__.Angle'>)\n",
      "Angle :> (45)   --> Vec[-0.71  0.71] (<class '__main__.Angle'>)\n",
      "Angle :> (-45)  --> Vec[0.71 0.71] (<class '__main__.Angle'>)\n",
      "Angle :> (-45) type --> <class '__main__.Angle'> (<class 'type'>)\n"
     ]
    }
   ],
   "source": [
    "class Angle(Vector):\n",
    "    def __init__(self, an:float) -> Vector:\n",
    "        # Convert the given absolute angle in degrees to a unit vector that represents the angle\n",
    "        v = Vector(math.cos(np.deg2rad(an + 90)), math.sin(np.deg2rad(an + 90)))\n",
    "        self.x, self.y = v.x, v.y  # 已經是單位向量，無須這樣 v.u()[0], v.u()[1] \n",
    "\n",
    "%f Angle :> (-180) :> v() -->\n",
    "%f Angle :> (-180) -->\n",
    "%f Angle :> (90)   -->\n",
    "%f Angle :> (-90)  -->   \n",
    "%f Angle :> (180)  -->   \n",
    "%f Angle :> (45)   -->   \n",
    "%f Angle :> (-45)  -->   \n",
    "%f Angle :> (-45) type -->   \n",
    "    "
   ]
  },
  {
   "cell_type": "code",
   "execution_count": 10,
   "metadata": {},
   "outputs": [
    {
     "name": "stdout",
     "output_type": "stream",
     "text": [
      "G --> Vec[-0.   -3.71] (<class '__main__.Vector'>)\n",
      "G type --> <class '__main__.Vector'> (<class 'type'>)\n"
     ]
    }
   ],
   "source": [
    "G = Angle(180) * Gravity  # G = Vector(*(Angle(180).v() * Gravity)) 我有提供 __mul__ \n",
    "\n",
    "%f G -->\n",
    "%f G type --> \n"
   ]
  },
  {
   "cell_type": "code",
   "execution_count": 11,
   "metadata": {},
   "outputs": [
    {
     "name": "stdout",
     "output_type": "stream",
     "text": [
      "{'surface': 5, 'landed': False}\n"
     ]
    }
   ],
   "source": [
    "# 最近兩個位置與 surface 比對看是否已經觸地\n",
    "def isLanded(p0, p1):\n",
    "    landed = False\n",
    "    for j in range(len(Land)-1): # consider all surfaces\n",
    "        if doIntersect(p0,p1,Vector(*Land[j]),Vector(*Land[j+1])):\n",
    "            landed = True\n",
    "            break\n",
    "    return {\"surface\":j,\"landed\":landed}  # 傳回 surface 方便 test and debug.\n",
    "\n",
    "p0 = Vector(2500,3000) # 試試看下一個 surface \n",
    "p1 = Vector(2500,3001) # 試試看下一個 surface \n",
    "print(isLanded(p0, p1))"
   ]
  },
  {
   "cell_type": "code",
   "execution_count": 12,
   "metadata": {
    "tags": []
   },
   "outputs": [
    {
     "name": "stdout",
     "output_type": "stream",
     "text": [
      "state0 --> [{'step': 0}, {'x': 2500}, {'y': 2700}, {'hspeed': 0}, {'vspeed': 0}, {'fuel': 550}, {'angle': 0}, {'power': 0}, {'landed': 0}] (<class '__main__.State'>)\n"
     ]
    }
   ],
   "source": [
    "\n",
    "# State 的 properties 都用 python 的原型，不用 np.array 之類。原因，感覺較單純不會有意外。\n",
    "\n",
    "class State():\n",
    "\n",
    "    def __init__(self, step=0, x=2500, y=2700, hspeed=0, vspeed=0, \n",
    "                 fuel=550, angle=0, power=0, **kwargs):\n",
    "        self.step   = step\n",
    "        self.x      = x\n",
    "        self.y      = y\n",
    "        self.hspeed = hspeed\n",
    "        self.vspeed = vspeed\n",
    "        self.fuel   = fuel\n",
    "        self.angle  = angle\n",
    "        self.power  = power\n",
    "        self.trace  = [[x,y]]\n",
    "        self.landed = False\n",
    "        # self.force  = G + Angle(self.angle)*self.power\n",
    "\n",
    "    def next(self, angle:int, power:int):  \n",
    "        # input angle,power 都是 offset differential delta 分別屬 -15~15 以及 -1,0,+1 \n",
    "        assert power in [-1, 0, 1], 'expected input power [-1, 0, +1], given {}'.format(power)\n",
    "        assert angle in range(-15,16), 'input angle range [-15:16], given {}'.format(angle)\n",
    "        self.step   += 1\n",
    "        self.angle  += angle\n",
    "        self.angle   = -90 if self.angle < -90 else self.angle\n",
    "        self.angle   =  90 if self.angle > 90 else self.angle\n",
    "        self.power  += power\n",
    "        self.power   = 0 if self.power < 0 else self.power\n",
    "        self.power   = 4 if self.power > 4 else self.power\n",
    "        self.fuel   -= self.power\n",
    "     #  self.x       = self.x       # episode-1 不變\n",
    "     #  self.y       = self.y + self.vspeed + (1/2)*self.force\n",
    "     #  self.hspeed  = self.hspeed  # episode-1 不變\n",
    "     #  self.vspeed += self.force\n",
    "        force = G + Angle(self.angle)*self.power  # force on the ship during this step         \n",
    "        s0 = Vector(self.hspeed,self.vspeed)\n",
    "        p0 = Vector(self.x,self.y)\n",
    "        s1 = s0 + force \n",
    "        p1 = p0 + s0 + force*0.5\n",
    "        self.x, self.y = p1.x, p1.y\n",
    "        self.hspeed, self.vspeed = s1.x, s1.y\n",
    "        self.landed = self.landed or isLanded(p0,p1)['landed']\n",
    "        self.trace.append([self.x,self.y])\n",
    "        return self  # 傳回值只是好測試，以便於可以這樣寫： %f state :> next(0,3.711) -->\n",
    "\n",
    "    def __str__(self):  \n",
    "        d = copy.deepcopy(self.__dict__)\n",
    "        return str([{k:int(round(v,0))} for k,v in d.items() if k != 'trace'])\n",
    "\n",
    "state0 = State(0,2500,2700,0,0,Fuel0,0,0)  # episode-2 的起點 state\n",
    "%f state0 -->"
   ]
  },
  {
   "cell_type": "code",
   "execution_count": 13,
   "metadata": {
    "tags": []
   },
   "outputs": [
    {
     "name": "stdout",
     "output_type": "stream",
     "text": [
      "state --> [{'step': 73}, {'x': 5154}, {'y': 122}, {'hspeed': 74}, {'vspeed': -68}, {'fuel': 334}, {'angle': -20}, {'power': 3}, {'landed': 1}] (<class '__main__.State'>)\n"
     ]
    }
   ],
   "source": [
    "# 弄出 genome0 跑去墜毀，試驗相關的 functions \n",
    "state = State(**state0.__dict__)\n",
    "genome0 = []\n",
    "genome0.append([-15,1]); state.next(*genome0[-1]) \n",
    "genome0.append([ -5,1]); state.next(*genome0[-1]) \n",
    "genome0.append([  0,1]); state.next(*genome0[-1]) \n",
    "for i in range(3,100):  # 已知不到 100 用 while True 也行，用 for 比較保險\n",
    "    genome0.append([0,0]);state.next(*genome0[-1])\n",
    "    if i == 71: state72 = copy.deepcopy(state)\n",
    "    if state.landed: \n",
    "        break       \n",
    "%f state -->\n",
    "%f \\ state72 -->\n",
    "%f \\ genome0 -->\n",
    "%f \\ state :> trace -->\n",
    "        "
   ]
  },
  {
   "cell_type": "raw",
   "metadata": {},
   "source": [
    "try: assert False\n",
    "except: pass"
   ]
  },
  {
   "cell_type": "code",
   "execution_count": 14,
   "metadata": {},
   "outputs": [
    {
     "data": {
      "image/png": "[encoded data removed]",
      "text/plain": [
       "<Figure size 432x288 with 1 Axes>"
      ]
     },
     "metadata": {
      "needs_background": "light"
     },
     "output_type": "display_data"
    }
   ],
   "source": [
    "%matplotlib inline\n",
    "x = [0, 1000, 1500, 3000, 4000, 5500, 6999]\n",
    "y = [100, 500, 1500, 1000, 150, 150, 800]\n",
    "# plt.plot(x,y,'',thread[:,0],thread[:,1],'r',thread[-2:,0],thread[-2:,1],'rx');  # 這行等於以下三行，三個 args 一組。\n",
    "plt.plot(x,y,'')  # 地形\n",
    "plt.plot(np.array(state.trace)[:,0],np.array(state.trace)[:,1],'r')  # 整條 trace \n",
    "plt.plot(np.array(state.trace)[-2:,0],np.array(state.trace)[-2:,1],'rx');  # 最後兩點打上標記\n"
   ]
  },
  {
   "cell_type": "markdown",
   "metadata": {},
   "source": [
    "# get_random_neighbour()\n",
    "\n",
    "Mars Lander 的 genome 很簡單，就是一串 (angle:int,power:int) pairs. 前面基礎討論有提到，以 SA 而言就是 mutate 某一個 gene 也就是 command pair 而已。Mutation 的改變要做的決定是 power `[-1 0 +1]`、angle `[-15 +15\n",
    "]` 而非 `0 ~ 4`、`-90 ~ +90` 以確保 mutating 有效。\n",
    "\n",
    "### 要點\n",
    "- 太長而無效的 genes 要 cut 掉。\n",
    "- 長度不夠時直接 copy 最後一個 gene 頂替即可。\n",
    "- 會發現 genome 太長或不夠的是 simulator 那就是由它處理。\n",
    "- 避免無效的 neighbour 例如前一 power 是 0 或 4 卻下 -1 或 1 就是無效的，這個 neighbour 就浪費了。 \n",
    "- 第一個 gene 的 power 不能下 -1 只能下 0 或 +1 , 將來 angle 也有一樣的限制。"
   ]
  },
  {
   "cell_type": "code",
   "execution_count": 15,
   "metadata": {},
   "outputs": [
    {
     "name": "stdout",
     "output_type": "stream",
     "text": [
      "genome0 genome_to_command_list :> (pop()) --> [[-15, 1], [-20, 2], [-20, 3], [-20, 3], [-20, 3], [-20, 3], [-20, 3], [-20, 3], [-20, 3], [-20, 3], [-20, 3], [-20, 3], [-20, 3], [-20, 3], [-20, 3], [-20, 3], [-20, 3], [-20, 3], [-20, 3], [-20, 3], [-20, 3], [-20, 3], [-20, 3], [-20, 3], [-20, 3], [-20, 3], [-20, 3], [-20, 3], [-20, 3], [-20, 3], [-20, 3], [-20, 3], [-20, 3], [-20, 3], [-20, 3], [-20, 3], [-20, 3], [-20, 3], [-20, 3], [-20, 3], [-20, 3], [-20, 3], [-20, 3], [-20, 3], [-20, 3], [-20, 3], [-20, 3], [-20, 3], [-20, 3], [-20, 3], [-20, 3], [-20, 3], [-20, 3], [-20, 3], [-20, 3], [-20, 3], [-20, 3], [-20, 3], [-20, 3], [-20, 3], [-20, 3], [-20, 3], [-20, 3], [-20, 3], [-20, 3], [-20, 3], [-20, 3], [-20, 3], [-20, 3], [-20, 3], [-20, 3], [-20, 3], [-20, 3]] (<class 'list'>)\n"
     ]
    }
   ],
   "source": [
    "# 把 genome 轉成 codingame web 接受的 command list \n",
    "def genome_to_command_list(genome:GENOME) -> List[List[int]] :\n",
    "    a,p,r = 0,0,[]  # declare angle, power, and results: command array of [angle,power] paris\n",
    "    for i in genome :\n",
    "        if i[0] >=0 : a = min(a+i[0], 90)  # angle 0~15 degree\n",
    "        else: a = max(a+i[0],-90)  # angle -15 ~ 0 degree\n",
    "        if i[1] == -1 : p = max(p-1, 0) \n",
    "        elif i [1] == 1 : p = min(p+1, 4) \n",
    "        r.append([a, p])\n",
    "    return r\n",
    "\n",
    "%f genome0 genome_to_command_list :> (pop()) -->\n"
   ]
  },
  {
   "cell_type": "code",
   "execution_count": 16,
   "metadata": {
    "tags": []
   },
   "outputs": [
    {
     "name": "stdout",
     "output_type": "stream",
     "text": [
      "get_random_neighbour :> ([[0,1],[0,1],[0,1],[0,1],[0,1]]) --> [[0, 1], [0, 1], [0, 1], [0, -1], [0, 1]] (<class 'list'>)\n",
      "get_random_neighbour :> ([[0,1],[0,1],[0,1],[0,1],[0,1]]) --> [[0, 1], [0, 1], [-10, 1], [0, 1], [0, 1]] (<class 'list'>)\n"
     ]
    }
   ],
   "source": [
    "def get_random_neighbour(genome: GENOME) -> GENOME :\n",
    "    neighbour = copy.deepcopy(genome)  # 利用 [:] slice copy 不行，因為 elements 又是 array！ \n",
    "    commands = genome_to_command_list(neighbour)  # 絕對 command, 用來檢查前一狀態避免產生無效的 neighbour \n",
    "    \n",
    "    while True:  # 試到不一樣了才出來\n",
    "        idx = random.randint(0,len(genome)-1) # 選 1 個 gene \n",
    "        cmd = random.randint(0,1) # pwr or ang 選 1 個\n",
    "        if cmd:\n",
    "            pwr = random.randint(-1, 1)  # -1, 0, +1 當中選 1 個 thrust command (episode-1)\n",
    "            if idx == 0 and pwr == -1 : continue  # 一開始的 power 就是 0 再下 -1 無效\n",
    "            if idx >= 1 and pwr == -1 and commands[idx-1][1] == 0: continue  # 前一個 power 就已經是 0 又下 -1 無效\n",
    "            if idx >= 1 and pwr ==  1 and commands[idx-1][1] == 4: continue  # 前一個 power 就已經是 4 又下 +1 無效\n",
    "            if neighbour[idx][1] == pwr : continue  # 沒有變化當然無效\n",
    "            else: \n",
    "                neighbour[idx][1] = pwr\n",
    "                break\n",
    "        else:\n",
    "            ang = random.randint(-15, 15)  # -15~+15 當中選 1 個 thrust command (episode-1)\n",
    "            if (commands[idx-1][0] + ang) > 90 or (commands[idx-1][0] + ang) < -90 : continue # angle0 + angle 超過限度\n",
    "            if neighbour[idx][0] == ang: continue  # 沒有變化當然無效\n",
    "            else: \n",
    "                neighbour[idx][0] = ang \n",
    "                break\n",
    "    return neighbour\n",
    "\n",
    "# 仔細檢查\n",
    "for i in range(2): # actually 500 以便觀察是否每種可能都有出現\n",
    "    %f get_random_neighbour :> ([[0,1],[0,1],[0,1],[0,1],[0,1]]) --> \\ gene0 pwr 只有 0 或 1 不會有 -1, gene1 視 gene0 而定     \n"
   ]
  },
  {
   "cell_type": "markdown",
   "metadata": {},
   "source": [
    "# cost_of_state(state: STATE)\n",
    "- 成功著陸的，油料剩越多的越好。\n",
    "- 根據我之前對 y=100 (flat ground 的海拔高度) 的研究 該 state 來自 log 的最後一 state. 當 Simulating 時，該 state 就是 y 首次跨越 flat ground 高度觸地著陸之時，跨越！僅用高度來判斷只有 episode-1 能用： round(state.y,0) < Altitude; 若 round(state.y,0) <= Altitude 則 100.45 也會被錯當成已著陸，錯誤。\n",
    "- 一個油料耗盡一個墜毀哪個好？墜毀時的速度減到+-40 (VSpeed) 以內需要多少油料？\n",
    "- 油料耗盡時的高度距離與速度以自由落體觸地 (垂直位置)，記錄觸地時的 state 分幾次重複模擬把 (垂直速度)、(水平速度)、(水平位置) 分別修正好所需的油料。\n",
    "    - 全力往 0 度方向噴火把 vspeed 速度調整到 +-VSpeed 以內需要多少油料？\n",
    "    - 全力往 +-90 度方向噴火把 hspeed 速度調整到 +-HSpeed 以內需要多少油料？\n",
    "    - 全力往 +-90 度方向噴火把 position 調整到 flat ground 境內需要多少油料？\n",
    "- 做實驗證實：在最後一步才突然下不同命令 (angle,power) 對以上方法所得到的分數有正確的差別。\n",
    "- cost 必大於 0。 Score 用油料剩餘量計算\n",
    "，由 fuel0 扣下來可到負值。換算成 cost 就是 cost = fuel0 - score. 核算，當 score 為 fuel0 時 cost 為 0 無誤； 當 score 為 -fuel0 時 cost 為 2fuel0\n",
    "  甚至更高，也無誤。 直接用這個數字，配合 SA 的 Temperature 設定要用 visualized graphs 來訂定 即可。\n"
   ]
  },
  {
   "cell_type": "code",
   "execution_count": 17,
   "metadata": {},
   "outputs": [
    {
     "name": "stdout",
     "output_type": "stream",
     "text": [
      "state cost_of_vspeed :> (pop()) --> {'cost': 388, 'state': <__main__.State object at 0x0000018D60882088>} (<class 'dict'>)\n"
     ]
    }
   ],
   "source": [
    "def cost_of_vspeed(state: STATE) -> int:\n",
    "    # 必須觸地了才 call 本 function，把垂直方向的 vspeed 修正到目標速度內，計算這部分成績。\n",
    "    state = copy.deepcopy(state)  # 不要去動到原來的\n",
    "    fuel0 = state.fuel;\n",
    "    while state.vspeed < -VSpeed: # 剛從空中下來觸地， vspeed 一定是負值；墜毀的一定比 -VSpeed 小\n",
    "        a = 0 - state.angle  # 目標角度是 0 度\n",
    "        a = min(a,15) if a >= 0 else max(a,-15)\n",
    "        state.next(a,1)  # 擺正全力噴火\n",
    "    cost = fuel0 - state.fuel\n",
    "    return {\"cost\":cost,\"state\":state}\n",
    "\n",
    "%f state cost_of_vspeed :> (pop()) -->\n"
   ]
  },
  {
   "cell_type": "code",
   "execution_count": 18,
   "metadata": {},
   "outputs": [
    {
     "name": "stdout",
     "output_type": "stream",
     "text": [
      "state cost_of_hspeed :> (pop()) --> {'cost': 68, 'state': <__main__.State object at 0x0000018D62FB7108>} (<class 'dict'>)\n"
     ]
    }
   ],
   "source": [
    "def cost_of_hspeed(state: STATE) -> int:\n",
    "    # 必須觸地了才 call 本 function，把水平方向的 hspeed 修正到目標速度內，計算這部分成績。\n",
    "    state = copy.deepcopy(state)  # 不要去動到原來的\n",
    "    fuel0 = state.fuel;\n",
    "    direction = 15 if state.hspeed >= 0 else -15  # 正向速度過快要用 +90 角全力噴火減速，反之則 -90 度角。\n",
    "    while abs(state.hspeed) > HSpeed:\n",
    "        state.next(direction,1)\n",
    "    cost = fuel0 - state.fuel\n",
    "    return  {\"cost\":cost,\"state\":state}\n",
    "\n",
    "%f state cost_of_hspeed :> (pop()) -->\n"
   ]
  },
  {
   "cell_type": "code",
   "execution_count": 19,
   "metadata": {},
   "outputs": [
    {
     "name": "stdout",
     "output_type": "stream",
     "text": [
      "state cost_of_hposition :> (pop()) --> {'cost': 0, 'state': <__main__.State object at 0x0000018D62FDCF88>} (<class 'dict'>)\n"
     ]
    }
   ],
   "source": [
    "def cost_of_hposition(state: STATE) -> int:\n",
    "    # 必須觸地了才 call 本 function，把水平位置修正到目標速度內，計算這部分成績。\n",
    "    state = copy.deepcopy(state)  # 不要去動到原來的\n",
    "    fuel0 = state.fuel;\n",
    "    # 正向速度過快要用 +90 角全力噴火減速，反之則 -90 度角。\n",
    "    direction = 0\n",
    "    if state.x < Land[Flat_ground][0]: direction = -15\n",
    "    if state.x > Land[Flat_ground+1][0]: direction = 15\n",
    "    while state.x < Land[Flat_ground][0] or state.x > Land[Flat_ground+1][0]:\n",
    "        state.next(direction,1)\n",
    "    cost = fuel0 - state.fuel\n",
    "    return  {\"cost\":cost,\"state\":state}\n",
    "\n",
    "%f state cost_of_hposition :> (pop()) -->\n"
   ]
  },
  {
   "cell_type": "code",
   "execution_count": 20,
   "metadata": {},
   "outputs": [
    {
     "name": "stdout",
     "output_type": "stream",
     "text": [
      "state --> [{'step': 73}, {'x': 5154}, {'y': 122}, {'hspeed': 74}, {'vspeed': -68}, {'fuel': 334}, {'angle': -20}, {'power': 3}, {'landed': 1}] (<class '__main__.State'>)\n",
      "state cost_of_state :> (pop()) >x x@ :> ['cost'] --> 122 (<class 'int'>)\n",
      "這個的 cost 是 122, state0 是 578 \n",
      "\n",
      "x@ :> ['costs']['vspeed']['state'] --> [{'step': 170}, {'x': 12345}, {'y': -5107}, {'hspeed': 74}, {'vspeed': -40}, {'fuel': -54}, {'angle': 0}, {'power': 4}, {'landed': 1}] (<class '__main__.State'>)\n",
      "x@ :> ['costs']['hspeed']['state'] --> [{'step': 90}, {'x': 6018}, {'y': -1300}, {'hspeed': 18}, {'vspeed': -112}, {'fuel': 266}, {'angle': 90}, {'power': 4}, {'landed': 1}] (<class '__main__.State'>)\n",
      "x@ :> ['costs']['hposition']['state'] --> [{'step': 73}, {'x': 5154}, {'y': 122}, {'hspeed': 74}, {'vspeed': -68}, {'fuel': 334}, {'angle': -20}, {'power': 3}, {'landed': 1}] (<class '__main__.State'>)\n"
     ]
    }
   ],
   "source": [
    "def cost_of_state(state: STATE) -> int:\n",
    "    state = copy.deepcopy(state)  # 不要去動到原來的\n",
    "    # 先給他觸地\n",
    "    while(not state.landed):\n",
    "        state.next(0,-1)  # 模擬 free fall, 小心別又錯了，不是直接填 0 ！！\n",
    "        if state.landed or \\\n",
    "           state.y >= 3000 or state.x >= 7000 or \\\n",
    "           state.y <= 0 or state.x <= 0: \n",
    "            break\n",
    "    costs = {\"vspeed\":cost_of_vspeed(state),\"hspeed\":cost_of_hspeed(state),\"hposition\":cost_of_hposition(state)}\n",
    "    cost = costs[\"vspeed\"][\"cost\"] +costs[\"hspeed\"][\"cost\"] + costs[\"hposition\"][\"cost\"] - state.fuel\n",
    "    return {\"cost\":cost,\"costs\":costs}\n",
    "\n",
    "%f state -->\n",
    "%f state cost_of_state :> (pop()) >x x@ :> ['cost'] --> # 這個的 cost 是 122, state0 是 578 \n",
    "%f x@ :> ['costs']['vspeed']['state'] -->\n",
    "%f x@ :> ['costs']['hspeed']['state'] -->\n",
    "%f x@ :> ['costs']['hposition']['state'] -->\n"
   ]
  },
  {
   "cell_type": "code",
   "execution_count": 21,
   "metadata": {},
   "outputs": [
    {
     "name": "stdout",
     "output_type": "stream",
     "text": [
      "state0 cost_of_state :> (pop()) >x x@ :> ['cost'] --> 578 (<class 'int'>)\n",
      "state0 是 578 \n",
      "\n"
     ]
    }
   ],
   "source": [
    "%f state0 cost_of_state :> (pop()) >x x@ :> ['cost'] --> # state0 是 578 \n",
    "       "
   ]
  },
  {
   "cell_type": "code",
   "execution_count": 22,
   "metadata": {},
   "outputs": [
    {
     "name": "stdout",
     "output_type": "stream",
     "text": [
      "state72 cost_of_state :> (pop()) >x x@ :> ['cost'] --> 147 (<class 'int'>)\n",
      "state72 是 147 果然不如 122 \n",
      "\n"
     ]
    }
   ],
   "source": [
    "%f state72 cost_of_state :> (pop()) >x x@ :> ['cost'] --> # state72 是 147 果然不如 122 "
   ]
  },
  {
   "cell_type": "markdown",
   "metadata": {},
   "source": [
    "# 演練手動產生 random neighbour 比分"
   ]
  },
  {
   "cell_type": "code",
   "execution_count": 23,
   "metadata": {},
   "outputs": [],
   "source": [
    "# 模擬試跑 genome. Genome 可能太長或不夠，傳回訂正好的 genome 以及最後 state  \n",
    "def simulate_of_genome(input_genome: GENOME) -> Tuple[GENOME,STATE]:\n",
    "    genome = copy.deepcopy(input_genome)  # make a copy to isolate the original\n",
    "    state = State(**state0.__dict__)  # init state for simulation\n",
    "    # 照 genome 跑到觸地、飛走、或油料耗盡時為止， genome 可能含有無效的長度要 cut 掉以免浪費時間嘗試。\n",
    "    for i in range(len(genome)): \n",
    "        state.next(*genome[i])  # run 1 step \n",
    "        if state.landed or \\\n",
    "           state.y >= 3000 or state.x >= 7000 or \\\n",
    "           state.y <= 0 or state.x <= 0 or \\\n",
    "           state.fuel <= 0: # 這高度、油料、位置不能再繼續了\n",
    "            genome = genome[:i+1]  # 太長的尾巴切掉\n",
    "            break\n",
    "        \n",
    "    # 接續以上跑完 input genome 之後的 state 看看 input genome 是否太短需要補綴 genes 讓 lander 觸地。\n",
    "    # 因為 genome 是 get_random_neighbour() 產生的，我們不想弄個沒意義的 neighbour 浪費時間，所以要盡\n",
    "    # 力把它補好。熄火或照抄？照抄，有作為比較符合需要。不怕 infinit loop 因為油料有限。\n",
    "    while not state.landed and state.fuel > 0 and \\\n",
    "           state.y < 3000 and state.x < 7000 and \\\n",
    "           state.y > 0 and state.x > 0 :\n",
    "        genome.append(genome[-1][:])  # 注意！若不用 [:] slice copy 則 append 進去的都是同一個。gene 是個 shallow array 無誤，可以用 slice copy.\n",
    "        state.next(*genome[-1])  # 簡單照抄最後一 step\n",
    "        \n",
    "    return genome,state  # 這個 return genome 是 input genome 的訂正版\n"
   ]
  },
  {
   "cell_type": "code",
   "execution_count": 24,
   "metadata": {},
   "outputs": [
    {
     "ename": "AssertionError",
     "evalue": "",
     "output_type": "error",
     "traceback": [
      "\u001b[1;31m---------------------------------------------------------------------------\u001b[0m",
      "\u001b[1;31mAssertionError\u001b[0m                            Traceback (most recent call last)",
      "\u001b[1;32m<ipython-input-24-a871fdc9ebee>\u001b[0m in \u001b[0;36m<module>\u001b[1;34m\u001b[0m\n\u001b[1;32m----> 1\u001b[1;33m \u001b[1;32massert\u001b[0m \u001b[1;32mFalse\u001b[0m\u001b[1;33m\u001b[0m\u001b[1;33m\u001b[0m\u001b[0m\n\u001b[0m",
      "\u001b[1;31mAssertionError\u001b[0m: "
     ]
    }
   ],
   "source": [
    "assert False"
   ]
  },
  {
   "cell_type": "code",
   "execution_count": 39,
   "metadata": {
    "tags": []
   },
   "outputs": [
    {
     "name": "stdout",
     "output_type": "stream",
     "text": [
      "s cost_of_state :> (pop())['cost'] dup --> 41 (<class 'int'>)\n",
      "s cost_of_state :> (pop())['cost'] dup --> 232 (<class 'int'>)\n",
      "s cost_of_state :> (pop())['cost'] dup --> 102 (<class 'int'>)\n",
      "s cost_of_state :> (pop())['cost'] dup --> 182 (<class 'int'>)\n",
      "s cost_of_state :> (pop())['cost'] dup --> -127 (<class 'int'>)\n",
      "s --> [{'step': 66}, {'x': 3064}, {'y': 930}, {'hspeed': 17}, {'vspeed': -51}, {'fuel': 355}, {'angle': -5}, {'power': 3}, {'landed': 1}] (<class '__main__.State'>)\n",
      "g --> [[-15, 1], [10, 1], [0, 1], [0, 0], [0, 0], [0, 0], [0, 0], [0, 0], [0, 0], [0, 0], [0, 0], [0, 0], [0, 0], [0, 0], [0, 0], [0, 0], [0, 0], [0, 0], [0, 0], [0, 0], [0, 0], [0, 0], [0, 0], [0, 0], [0, 0], [0, 0], [0, 0], [0, 0], [0, 0], [0, 0], [0, 0], [0, 0], [0, 0], [0, 0], [0, 0], [0, 0], [0, 0], [0, 0], [0, 0], [0, 0], [0, 0], [0, 0], [0, 0], [0, 0], [0, 0], [0, 0], [0, 0], [0, 0], [0, 0], [0, 0], [0, 0], [0, 0], [0, 0], [0, 0], [0, 0], [0, 0], [0, 0], [0, 0], [0, 0], [0, 0], [0, 0], [0, 0], [0, 0], [0, 0], [0, 0], [0, 0]] (<class 'list'>)\n",
      "s cost_of_state :> (pop())['cost'] dup --> 398 (<class 'int'>)\n",
      "s cost_of_state :> (pop())['cost'] dup --> 138 (<class 'int'>)\n",
      "s cost_of_state :> (pop())['cost'] dup --> 63 (<class 'int'>)\n",
      "s cost_of_state :> (pop())['cost'] dup --> 146 (<class 'int'>)\n",
      "s cost_of_state :> (pop())['cost'] dup --> 290 (<class 'int'>)\n"
     ]
    }
   ],
   "source": [
    "# 仔細檢查\n",
    "for i in range(10): # actually 500 以便觀察是否每種可能都有出現\n",
    "    n = get_random_neighbour(genome0)\n",
    "    g,s = simulate_of_genome(n)\n",
    "    %f s cost_of_state :> (pop())['cost'] dup -->\n",
    "    if peforth.pop() < 0 :\n",
    "        %f s -->\n",
    "        %f g -->\n",
    "        \n"
   ]
  },
  {
   "cell_type": "code",
   "execution_count": 40,
   "metadata": {},
   "outputs": [
    {
     "name": "stdout",
     "output_type": "stream",
     "text": [
      "_ --> [[-15, 1], [-5, 2], [-5, 3], [-5, 3], [-5, 3], [-5, 3], [-5, 3], [-5, 3], [-5, 3], [-5, 3], [-5, 3], [-5, 3], [-5, 3], [-5, 3], [-5, 3], [-5, 3], [-5, 3], [-5, 3], [-5, 3], [-5, 3], [-5, 3], [-5, 3], [-5, 3], [-5, 3], [-5, 3], [-5, 3], [-5, 3], [-5, 3], [-5, 3], [-5, 3], [-5, 3], [-5, 3], [-5, 3], [-5, 3], [-5, 3], [-5, 3], [-5, 3], [-5, 3], [-5, 3], [-5, 3], [-5, 3], [-5, 3], [-5, 3], [-5, 3], [-5, 3], [-5, 3], [-5, 3], [-5, 3], [-5, 3], [-5, 3], [-5, 3], [-5, 3], [-5, 3], [-5, 3], [-5, 3], [-5, 3], [-5, 3], [-5, 3], [-5, 3], [-5, 3], [-5, 3], [-5, 3], [-5, 3], [-5, 3], [-5, 3], [-5, 3]] (<class 'list'>)\n"
     ]
    }
   ],
   "source": [
    "_ = genome_to_command_list([[-15, 1], [10, 1], [0, 1], [0, 0], [0, 0], [0, 0], [0, 0], [0, 0], [0, 0], [0, 0], [0, 0], [0, 0], [0, 0], [0, 0], [0, 0], [0, 0], [0, 0], [0, 0], [0, 0], [0, 0], [0, 0], [0, 0], [0, 0], [0, 0], [0, 0], [0, 0], [0, 0], [0, 0], [0, 0], [0, 0], [0, 0], [0, 0], [0, 0], [0, 0], [0, 0], [0, 0], [0, 0], [0, 0], [0, 0], [0, 0], [0, 0], [0, 0], [0, 0], [0, 0], [0, 0], [0, 0], [0, 0], [0, 0], [0, 0], [0, 0], [0, 0], [0, 0], [0, 0], [0, 0], [0, 0], [0, 0], [0, 0], [0, 0], [0, 0], [0, 0], [0, 0], [0, 0], [0, 0], [0, 0], [0, 0], [0, 0]])\n",
    "%f _ -->"
   ]
  },
  {
   "cell_type": "code",
   "execution_count": 55,
   "metadata": {},
   "outputs": [
    {
     "name": "stdout",
     "output_type": "stream",
     "text": [
      "s --> [{'step': 66}, {'x': 3064}, {'y': 930}, {'hspeed': 17}, {'vspeed': -51}, {'fuel': 355}, {'angle': -5}, {'power': 3}, {'landed': 1}] (<class '__main__.State'>)\n"
     ]
    }
   ],
   "source": [
    "g,s = simulate_of_genome([[-15, 1], [10, 1], [0, 1], [0, 0], [0, 0], [0, 0], [0, 0], [0, 0], [0, 0], [0, 0], [0, 0], [0, 0], [0, 0], [0, 0], [0, 0], [0, 0], [0, 0], [0, 0], [0, 0], [0, 0], [0, 0], [0, 0], [0, 0], [0, 0], [0, 0], [0, 0], [0, 0], [0, 0], [0, 0], [0, 0], [0, 0], [0, 0], [0, 0], [0, 0], [0, 0], [0, 0], [0, 0], [0, 0], [0, 0], [0, 0], [0, 0], [0, 0], [0, 0], [0, 0], [0, 0], [0, 0], [0, 0], [0, 0], [0, 0], [0, 0], [0, 0], [0, 0], [0, 0], [0, 0], [0, 0], [0, 0], [0, 0], [0, 0], [0, 0], [0, 0], [0, 0], [0, 0], [0, 0], [0, 0], [0, 0], [0, 0]])\n",
    "%f s -->"
   ]
  },
  {
   "cell_type": "code",
   "execution_count": 57,
   "metadata": {},
   "outputs": [
    {
     "data": {
      "text/plain": [
       "1218"
      ]
     },
     "execution_count": 57,
     "metadata": {},
     "output_type": "execute_result"
    }
   ],
   "source": [
    "int(lineseg_dists([Vector(s.x,s.y).v()], Vector(*Land[Flat_ground]).v(), Vector(*Land[Flat_ground+1]).v())[0])"
   ]
  },
  {
   "cell_type": "code",
   "execution_count": 47,
   "metadata": {},
   "outputs": [
    {
     "data": {
      "text/plain": [
       "array([3063.68062171,  929.83948275])"
      ]
     },
     "execution_count": 47,
     "metadata": {},
     "output_type": "execute_result"
    }
   ],
   "source": [
    "Vector(s.x,s.y).v()"
   ]
  },
  {
   "cell_type": "code",
   "execution_count": null,
   "metadata": {},
   "outputs": [],
   "source": []
  },
  {
   "cell_type": "code",
   "execution_count": 49,
   "metadata": {},
   "outputs": [
    {
     "name": "stdout",
     "output_type": "stream",
     "text": [
      "s --> [{'step': 73}, {'x': 5154}, {'y': 122}, {'hspeed': 74}, {'vspeed': -68}, {'fuel': 334}, {'angle': -20}, {'power': 3}, {'landed': 1}] (<class '__main__.State'>)\n"
     ]
    }
   ],
   "source": [
    "g,s = simulate_of_genome(genome0)\n",
    "%f s -->"
   ]
  },
  {
   "cell_type": "code",
   "execution_count": 56,
   "metadata": {},
   "outputs": [
    {
     "name": "stdout",
     "output_type": "stream",
     "text": [
      "s cost_of_hposition :> (pop())['cost'] --> 76 (<class 'int'>)\n"
     ]
    }
   ],
   "source": [
    "%f s cost_of_hposition :> (pop())['cost'] -->"
   ]
  },
  {
   "cell_type": "code",
   "execution_count": null,
   "metadata": {},
   "outputs": [],
   "source": []
  },
  {
   "cell_type": "code",
   "execution_count": null,
   "metadata": {},
   "outputs": [],
   "source": []
  },
  {
   "cell_type": "code",
   "execution_count": null,
   "metadata": {},
   "outputs": [],
   "source": []
  },
  {
   "cell_type": "code",
   "execution_count": null,
   "metadata": {},
   "outputs": [],
   "source": [
    "# 模擬試跑 genome. Genome 可能太長或不夠，傳回訂正好的 genome 以及最後 state  \n",
    "def simulate_of_genome(input_genome: GENOME) -> Tuple[GENOME,STATE]:\n",
    "    genome = copy.deepcopy(input_genome)  # make a copy to isolate the original\n",
    "    state = State(**state0.__dict__)  # init state for simulation\n",
    "    # 照 genome 跑到觸地、飛走、或油料耗盡時為止， genome 可能含有無效的長度要 cut 掉以免浪費時間嘗試。\n",
    "    for i in range(len(genome)): \n",
    "        state.next(*genome[i])  # run 1 step \n",
    "        if round(state.y,0) < Altitude or state.y > 3000 or state.fuel <= 0:  # 這高度、油料不能再繼續了\n",
    "            genome = genome[:i+1]  # 太長的尾巴切掉\n",
    "            break\n",
    "        \n",
    "    # 接續以上跑完 input genome 之後的 state 看看 input genome 是否太短需要補綴 genes 讓 lander 觸地。\n",
    "    while round(state.y,0) >= Altitude and state.y <= 3000 and state.fuel > 0:\n",
    "        genome.append(genome[-1][:])  # 注意！若不用 [:] slice copy 則 append 進去的都是同一個。gene 是個 shallow array 無誤，可以用 slice copy.        \n",
    "        state.next(*genome[-1])  # 簡單照抄最後一 step\n",
    "        \n",
    "    return genome,state  # 這個 return genome 是 input genome 的訂正版\n",
    "\n",
    "# 很妙，這產生「自由落體」的 genome 與最後 state \n",
    "genome, last_state = simulate_of_genome([[0,0]])\n",
    "%f cr ( 「自由落體」 ) genome -->\n",
    "%f last_state -->\n",
    "%f last_state cost_of_state :> (pop()) -->\n",
    "    \n",
    "# 而這產生「全速飛走」的 genome 與最後 state \n",
    "genome, last_state = simulate_of_genome([[0,1]])\n",
    "%f cr ( 「全速飛走」 ) genome -->\n",
    "%f last_state -->\n",
    "%f last_state cost_of_state :> (pop()) --> cr"
   ]
  },
  {
   "cell_type": "code",
   "execution_count": null,
   "metadata": {},
   "outputs": [],
   "source": [
    "# fitness function \n",
    "# https://en.wikipedia.org/wiki/Hyperparameter_(machine_learning)   _*_\n",
    "verbose = False \n",
    "def sa(initial: GENOME) -> Tuple[GENOME,int,int] :\n",
    "    current = copy.deepcopy(initial)  # 咱 deep 不能用 [:]\n",
    "    current, current_last_state = simulate_of_genome(current)\n",
    "    current_cost = cost_of_state(current_last_state)\n",
    "    \n",
    "    temp = 17.0  # (1/50)*(2*fuel0)  # <---- [ ] Hyperparameter, 來自 Einstein's problem 的心得，取總分的 1/15 \n",
    "    num_iterations = 0\n",
    "\n",
    "    for i in range(1000):  # 若想安全降落為止，可能不如有限次數換個 epoch 試試運氣\n",
    "        neighbour = get_random_neighbour(current)\n",
    "        neighbour, neighbour_last_state = simulate_of_genome(neighbour)\n",
    "        neighbour_cost = cost_of_state(neighbour_last_state)\n",
    "        \n",
    "        cost_delta = neighbour_cost - current_cost\n",
    "        if cost_delta < 0:  # neighbour 較好，都接受。\n",
    "            current, current_cost, current_last_state = neighbour, neighbour_cost, neighbour_last_state\n",
    "            if verbose: print({\"cost\":current_cost, \"delta\":cost_delta, \"temperature\":round(temp,2), \"exp\": \"n/a\"})\n",
    "        elif cost_delta >= 0:  # 雖然 neighbour 不好，也偶而接受。\n",
    "            exp = math.exp(-cost_delta/temp) \n",
    "            if random.random() < exp:\n",
    "                current, current_cost, current_last_state = neighbour, neighbour_cost, neighbour_last_state\n",
    "                if verbose: print({\"cost\":current_cost, \"delta\":cost_delta, \"temperature\":round(temp,2), \"exp\": round(exp,2)})\n",
    "        else:  # 排除相等的狀況，不要浪費時間、debug 版面 <-- 錯！成績相等時 genome 不一定相等。\n",
    "               # 「相同」應該從 get_random_neighbour() 著手徹底排除。          \n",
    "            assert False, 'Impossible case' \n",
    "\n",
    "        num_iterations += 1\n",
    "        # if num_iterations % 10 == 0 and temp > 0.1:  # <---- [ ] Hyperparameter\n",
    "        #     temp -= 0.1  # <---- [ ] Hyperparameter\n",
    "        if abs(round(current_last_state.vspeed,0)) <= VSpeed and round(current_last_state.y,0) < Altitude:\n",
    "            temp = max(temp - 0.1,0) # 根據觀察 log 決定設計成約數十次到一百次之內降到零度\n",
    "            if verbose: print('B i n g o ! iterations:{} temperature:{} curent_cost:{}'.format(num_iterations, round(temp,3), current_cost))\n",
    "            if temp <= 0.01: break\n",
    "        \n",
    "    return current, num_iterations, current_cost, current_last_state"
   ]
  },
  {
   "cell_type": "code",
   "execution_count": null,
   "metadata": {},
   "outputs": [],
   "source": [
    "def epoch(initial: GENOME=None):\n",
    "\n",
    "    genome: GENOME = [];\n",
    "    \n",
    "    # 有指定就用指定的，否則就用亂數產生一組啟始 genome\n",
    "    # random.seed(100)\n",
    "    if initial:  \n",
    "        genome = copy.deepcopy(initial); \n",
    "    else:  \n",
    "        for i in range(random.randint(1,100)): # 沒看過 genome 長度超過 100 的，多了無所謂會被自動切掉。\n",
    "            genome.append([0,random.randint(-1, 1)]) \n",
    "\n",
    "    genome, iterations, cost, state = sa(genome)\n",
    "\n",
    "    return (genome, iterations, cost, state)"
   ]
  },
  {
   "cell_type": "code",
   "execution_count": null,
   "metadata": {
    "tags": []
   },
   "outputs": [],
   "source": [
    "%f [] constant history \n",
    "\n",
    "if __name__ == \"__main__\":\n",
    "    best = epoch([[0,0]])  # (genome, iterations, cost, state)\n",
    "    for i in range(100):\n",
    "        result = epoch(best[0])  # (genome, iterations, cost, state)\n",
    "        if result[2] < best[2]:\n",
    "            best = result\n",
    "        if i % 20 == 0 :\n",
    "            print('Epoch {} best cost {}'.format(i,best[2]))\n",
    "        %f best history :: append(pop())\n",
    "    print('Epoch {} best cost {}'.format(i,best[2]))\n",
    "    print('Done!')\n"
   ]
  },
  {
   "cell_type": "code",
   "execution_count": null,
   "metadata": {},
   "outputs": [],
   "source": [
    "# 取 best result 的絕對 genome 去 web site 跑跑看， 500 - 最佳 cost 175 = 325 與結果一致無誤。  \n",
    "%f best :> [0] genome_to_command_list :> (pop()) --> "
   ]
  },
  {
   "cell_type": "code",
   "execution_count": null,
   "metadata": {},
   "outputs": [],
   "source": [
    "%%f\n",
    "\\ 這個實驗看來成績 cost 相同的 genome 都一樣！\n",
    "history ( genome, iterations, cost, state ) <py>\n",
    "    history = pop()\n",
    "    distribution = {}\n",
    "    for i in history:\n",
    "        try:\n",
    "            distribution[i[2]] += 1\n",
    "        except:\n",
    "            distribution.update({i[2]: 1})\n",
    "    print(distribution)\n",
    "    assert False\n",
    "    print('220','-'*30)\n",
    "    for i in history:\n",
    "        if i[2] == 220:\n",
    "            print(i[0])\n",
    "    print('221','-'*30)\n",
    "    for i in history:\n",
    "        if i[2] == 201:\n",
    "            print(i[0])\n",
    "    print('198','-'*30)\n",
    "    for i in history:\n",
    "        if i[2] == 198:\n",
    "            print(i[0])\n",
    "    print('187','-'*30)\n",
    "    for i in history:\n",
    "        if i[2] == 187:\n",
    "            print(i[0])\n",
    "    print('186','-'*30)\n",
    "    for i in history:\n",
    "        if i[2] == 186:\n",
    "            print(i[0])\n",
    "    print('183','-'*30)\n",
    "    for i in history:\n",
    "        if i[2] == 183:\n",
    "            print(i[0])\n",
    "</py> \n"
   ]
  },
  {
   "cell_type": "code",
   "execution_count": null,
   "metadata": {},
   "outputs": [],
   "source": []
  },
  {
   "cell_type": "code",
   "execution_count": null,
   "metadata": {},
   "outputs": [],
   "source": []
  },
  {
   "cell_type": "code",
   "execution_count": null,
   "metadata": {},
   "outputs": [],
   "source": []
  },
  {
   "cell_type": "code",
   "execution_count": null,
   "metadata": {},
   "outputs": [],
   "source": []
  },
  {
   "cell_type": "code",
   "execution_count": null,
   "metadata": {},
   "outputs": [],
   "source": []
  },
  {
   "cell_type": "code",
   "execution_count": null,
   "metadata": {},
   "outputs": [],
   "source": []
  },
  {
   "cell_type": "code",
   "execution_count": null,
   "metadata": {},
   "outputs": [],
   "source": []
  },
  {
   "cell_type": "code",
   "execution_count": null,
   "metadata": {},
   "outputs": [],
   "source": []
  },
  {
   "cell_type": "code",
   "execution_count": null,
   "metadata": {},
   "outputs": [],
   "source": []
  }
 ],
 "metadata": {
  "kernelspec": {
   "display_name": "Python 3",
   "language": "python",
   "name": "python3"
  },
  "language_info": {
   "codemirror_mode": {
    "name": "ipython",
    "version": 3
   },
   "file_extension": ".py",
   "mimetype": "text/x-python",
   "name": "python",
   "nbconvert_exporter": "python",
   "pygments_lexer": "ipython3",
   "version": "3.7.5"
  }
 },
 "nbformat": 4,
 "nbformat_minor": 4
}
