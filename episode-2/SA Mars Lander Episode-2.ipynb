{
 "cells": [
  {
   "cell_type": "markdown",
   "metadata": {},
   "source": [
    "# Episode-2\n"
   ]
  },
  {
   "cell_type": "code",
   "execution_count": 1,
   "metadata": {
    "tags": []
   },
   "outputs": [
    {
     "name": "stdout",
     "output_type": "stream",
     "text": [
      "reDef unknown\n",
      "reDef -->\n",
      "p e f o r t h    v1.26\n",
      "source code http://github.com/hcchengithub/peforth\n",
      "Type 'peforth.ok()' to enter forth interpreter, 'exit' to come back.\n",
      "\n"
     ]
    }
   ],
   "source": [
    "# 抓進 peforth 以及外加功能\n",
    "%run forth.py"
   ]
  },
  {
   "cell_type": "code",
   "execution_count": 2,
   "metadata": {
    "tags": []
   },
   "outputs": [
    {
     "name": "stdout",
     "output_type": "stream",
     "text": [
      "Using matplotlib backend: Qt5Agg\n",
      "Populating the interactive namespace from numpy and matplotlib\n"
     ]
    }
   ],
   "source": [
    "%pylab\n",
    "# import numpy as np\n",
    "from typing import List, Optional, Callable, Tuple, Dict, Union  # OneNote2021 #_python_ #_typing_\n",
    "GENE = List[int]  # (rotate (-15 ~ +15),power (-1, 0, +1)) 避免無用的值域，下給 Web site 的 command 要轉換成 (rotate(-90 ~ +90), power(0,1,2,3,4))\n",
    "GENOME = List[GENE]  # Genome 是一個 list 裡面都是 int\n",
    "STATE = Dict[str,Union[int,float,np.array]]  # x,y,hspeed,power,.. etc \n",
    "\n",
    "import random, json, math, copy\n",
    "from itertools import permutations  # permutations 數學「排列組合」中的「排列」\n",
    "import IPython"
   ]
  },
  {
   "cell_type": "markdown",
   "metadata": {},
   "source": [
    "# How to check if two given line segments intersect?\n",
    "兩線相交的偵測程式。 A Python3 program to find if 2 given line segments intersect or not.\n",
    "\n",
    "https://www.geeksforgeeks.org/check-if-two-given-line-segments-intersect/"
   ]
  },
  {
   "cell_type": "code",
   "execution_count": 3,
   "metadata": {},
   "outputs": [],
   "source": [
    "# Given three colinear 共線 points p, q, r, 如果非共線就不準了，目的是看 q 是否在 p-r 之內，飛出 p-r 線外的不適用。\n",
    "# the function checks if point q lies on line segment 'pr'\n",
    "def onSegment(p, q, r):\n",
    "\tif ( (q.x <= max(p.x, r.x)) and (q.x >= min(p.x, r.x)) and\n",
    "\t\t(q.y <= max(p.y, r.y)) and (q.y >= min(p.y, r.y))):\n",
    "\t\treturn True\n",
    "\treturn False"
   ]
  },
  {
   "cell_type": "code",
   "execution_count": 4,
   "metadata": {},
   "outputs": [],
   "source": [
    "def orientation(p, q, r):\n",
    "\t# to find the orientation of an ordered triplet (p,q,r) 有序三元組\n",
    "\t# function returns the following values:\n",
    "\t# 0 : Colinear points 喔！共線靠這個也能界定。\n",
    "\t# 1 : Clockwise points\n",
    "\t# 2 : Counterclockwise\n",
    "\t\n",
    "\t# See https://www.geeksforgeeks.org/orientation-3-ordered-points/amp/\n",
    "\t# for details of below formula.\n",
    "\t\n",
    "\tval = (float(q.y - p.y) * (r.x - q.x)) - (float(q.x - p.x) * (r.y - q.y))\n",
    "\tif (val > 0):\n",
    "\t\t\n",
    "\t\t# Clockwise orientation\n",
    "\t\treturn 1\n",
    "\telif (val < 0):\n",
    "\t\t\n",
    "\t\t# Counterclockwise orientation\n",
    "\t\treturn 2\n",
    "\telse:\n",
    "\t\t\n",
    "\t\t# Colinear orientation\n",
    "\t\treturn 0"
   ]
  },
  {
   "cell_type": "code",
   "execution_count": 5,
   "metadata": {},
   "outputs": [],
   "source": [
    "# The main function that returns true if\n",
    "# the line segment 'p1q1' and 'p2q2' intersect.\n",
    "def doIntersect(p1,q1,p2,q2):\n",
    "\t\n",
    "\t# Find the 4 orientations required for\n",
    "\t# the general and special cases\n",
    "\to1 = orientation(p1, q1, p2)\n",
    "\to2 = orientation(p1, q1, q2)\n",
    "\to3 = orientation(p2, q2, p1)\n",
    "\to4 = orientation(p2, q2, q1)\n",
    "\n",
    "\t# General case\n",
    "\tif ((o1 != o2) and (o3 != o4)):\n",
    "\t\treturn True\n",
    "\n",
    "\t# Special Cases\n",
    "\n",
    "\t# p1 , q1 and p2 are colinear and p2 lies on segment p1q1\n",
    "\tif ((o1 == 0) and onSegment(p1, p2, q1)):\n",
    "\t\treturn True\n",
    "\n",
    "\t# p1 , q1 and q2 are colinear and q2 lies on segment p1q1\n",
    "\tif ((o2 == 0) and onSegment(p1, q2, q1)):\n",
    "\t\treturn True\n",
    "\n",
    "\t# p2 , q2 and p1 are colinear and p1 lies on segment p2q2\n",
    "\tif ((o3 == 0) and onSegment(p2, p1, q2)):\n",
    "\t\treturn True\n",
    "\n",
    "\t# p2 , q2 and q1 are colinear and q1 lies on segment p2q2\n",
    "\tif ((o4 == 0) and onSegment(p2, q1, q2)):\n",
    "\t\treturn True\n",
    "\n",
    "\t# If none of the cases\n",
    "\treturn False"
   ]
  },
  {
   "cell_type": "markdown",
   "metadata": {},
   "source": [
    "### 點到線段的距離"
   ]
  },
  {
   "cell_type": "code",
   "execution_count": 6,
   "metadata": {},
   "outputs": [
    {
     "name": "stdout",
     "output_type": "stream",
     "text": [
      "distance --> [0.70710678 0.70710678] (<class 'numpy.ndarray'>)\n",
      "distance --> [1.11803399 0.         0.5        0.5        0.         0.5\n",
      " 1.11803399] (<class 'numpy.ndarray'>)\n"
     ]
    }
   ],
   "source": [
    "# Calculate the euclidian distance between an array of points to a line segment in Python without for loop\n",
    "# https://stackoverflow.com/questions/54442057/calculate-the-euclidian-distance-between-an-array-of-points-to-a-line-segment-in\n",
    "# OneDrive/文件/Jupyter Notebooks/Differences of np.dot and np.multiply/intro_2_vector.ipynb\n",
    "# lineseg_dists(p:[Vector], a:Vector, b:Vector) -> [float]\n",
    "\n",
    "def lineseg_dists(p, a, b):\n",
    "    # where p is an array of points, a,b is the line segment\n",
    "    # lineseg_dists(p:[Vector], a:Vector, b:Vector) -> [float]\n",
    "    \n",
    "    if np.all(a == b):\n",
    "        return np.linalg.norm(p - a, axis=1)  # a-b 是一個點，直接取 p-a 就是答案。 p \n",
    "\n",
    "    # normalized tangent vector\n",
    "    d = np.divide(b - a, np.linalg.norm(b - a))\n",
    "\n",
    "    # signed parallel distance components\n",
    "    s = np.dot(a - p, d)  # a-p 在 d 上的投影\n",
    "    t = np.dot(p - b, d)  # p-b 在 d 上的投影\n",
    "\n",
    "    # clamped parallel distance\n",
    "    h = np.maximum.reduce([s, t, np.zeros(len(p))])  # h 是\n",
    "    \n",
    "    # perpendicular distance component, as before\n",
    "    # note that for the 3D case these will be vectors\n",
    "    c = np.cross(p - a, d)\n",
    "\n",
    "    # use hypot for Pythagoras to improve accuracy\n",
    "    result = np.hypot(h, c)\n",
    "    \n",
    "    return result\n",
    "\n",
    "# 點 [1,1] 在線的右上邊，距離是正的；點 [0,0] 在線的左下邊，距離也是正的，所以它沒有分正負。\n",
    "p = np.array([[1,1],[0,0]])  # the point\n",
    "a = np.array([1,0])  # the line start\n",
    "b = np.array([0,1])  # the line end\n",
    "distance = lineseg_dists(p, a, b)\n",
    "%f distance -->\n",
    "\n",
    "# 這組實驗證實 lineseg_dists() 無誤\n",
    "p = np.array([[-1,0.5],[0,0],[0,0.5],[0.5,0.5],[1,0],[1,0.5],[2,0.5]])  # the point\n",
    "a = np.array([0,0])  # the line start\n",
    "b = np.array([1,0])  # the line end\n",
    "distance = lineseg_dists(p, a, b)\n",
    "%f distance -->"
   ]
  },
  {
   "cell_type": "markdown",
   "metadata": {
    "tags": []
   },
   "source": [
    "# 最基本的定義 "
   ]
  },
  {
   "cell_type": "code",
   "execution_count": 7,
   "metadata": {
    "tags": []
   },
   "outputs": [],
   "source": [
    "Gravity = 3.711         # constant on Mars\n",
    "G = Gravity             # 到了二維以上，重力需轉成向量\n",
    "Altitude = 150          # altitude of the flat. Episode-1 用 hard coded. \n",
    "VSpeed = 40             # target virtical speed \n",
    "HSpeed = 20             # target horizental speed \n",
    "Round_off = 2           # 顯示到小數點以下兩位避免太長\n"
   ]
  },
  {
   "cell_type": "code",
   "execution_count": 8,
   "metadata": {},
   "outputs": [
    {
     "name": "stdout",
     "output_type": "stream",
     "text": [
      "Vector :> (3,4) --> Vec[3 4] (<class '__main__.Vector'>)\n",
      "Vector :> (3,4).v() --> [3 4] (<class 'numpy.ndarray'>)\n",
      "Vector :> (3,4).x --> 3 (<class 'int'>)\n",
      "Vector :> (3,4).y --> 4 (<class 'int'>)\n",
      "Vector :> (3,4).n() --> 5.0 (<class 'numpy.float64'>)\n",
      "Vector :> (3,4).u() --> [0.6 0.8] (<class 'numpy.ndarray'>)\n",
      "Vector :> (0.6,0.8).n() --> 1.0 (<class 'numpy.float64'>)\n",
      "Vector :> (0.6,0.8)*2 --> Vec[1.2 1.6] (<class '__main__.Vector'>)\n"
     ]
    }
   ],
   "source": [
    "\n",
    "# Vector 比 np.array 好一點在於有 __str__ 可以做 round-off 輸出。\n",
    "\n",
    "class Vector:\n",
    "    def __init__(self, x:float,y:float):\n",
    "        self.x = x\n",
    "        self.y = y\n",
    "\n",
    "    def __mul__(self, x:float):\n",
    "        m = self.v() * x \n",
    "        return Vector(*m)  # Vector(m[0], m[1])  np.array 也可以直接 unpack or distructing \n",
    "    \n",
    "    def __add__(self, x):\n",
    "        m = self.v() + x.v() \n",
    "        return Vector(*m)  # Vector(m[0], m[1])  np.array 也可以直接 unpack or distructing \n",
    "\n",
    "    def v(self) -> np.array:\n",
    "        # A vector is a np.array\n",
    "        return np.array([self.x,self.y])\n",
    "\n",
    "    def n(self) -> float:\n",
    "        # norm of a vector is its length\n",
    "        return np.linalg.norm(self.v())\n",
    "\n",
    "    def u(self) -> np.array:\n",
    "        # Shrink the given vector into an unit vector. https://stackoverflow.com/questions/21030391/how-to-normalize-an-array-in-numpy\n",
    "        return self if round(self.n(),6) == 0. else self.v()/self.n();  # 考慮周詳\n",
    "    \n",
    "    def __str__(self) -> str:\n",
    "        return 'Vec' + str(np.array([round(self.x,Round_off),round(self.y,Round_off)]))\n",
    "    \n",
    "%f Vector :> (3,4) -->\n",
    "%f Vector :> (3,4).v() -->\n",
    "%f Vector :> (3,4).x -->\n",
    "%f Vector :> (3,4).y -->\n",
    "%f Vector :> (3,4).n() -->\n",
    "%f Vector :> (3,4).u() -->\n",
    "%f Vector :> (0.6,0.8).n() -->\n",
    "%f Vector :> (0.6,0.8)*2 -->    "
   ]
  },
  {
   "cell_type": "code",
   "execution_count": 9,
   "metadata": {},
   "outputs": [
    {
     "name": "stdout",
     "output_type": "stream",
     "text": [
      "Angle :> (-180) :> v() --> [ 6.123234e-17 -1.000000e+00] (<class 'numpy.ndarray'>)\n",
      "Angle :> (-180) --> Vec[ 0. -1.] (<class '__main__.Angle'>)\n",
      "Angle :> (90)   --> Vec[-1.  0.] (<class '__main__.Angle'>)\n",
      "Angle :> (-90)  --> Vec[1. 0.] (<class '__main__.Angle'>)\n",
      "Angle :> (180)  --> Vec[-0. -1.] (<class '__main__.Angle'>)\n",
      "Angle :> (45)   --> Vec[-0.71  0.71] (<class '__main__.Angle'>)\n",
      "Angle :> (-45)  --> Vec[0.71 0.71] (<class '__main__.Angle'>)\n",
      "Angle :> (-45) type --> <class '__main__.Angle'> (<class 'type'>)\n"
     ]
    }
   ],
   "source": [
    "class Angle(Vector):\n",
    "    def __init__(self, an:float) -> Vector:\n",
    "        # Convert the given absolute angle in degrees to a unit vector that represents the angle\n",
    "        v = Vector(math.cos(np.deg2rad(an + 90)), math.sin(np.deg2rad(an + 90)))\n",
    "        self.x, self.y = v.x, v.y  # 已經是單位向量，無須這樣 v.u()[0], v.u()[1] \n",
    "\n",
    "%f Angle :> (-180) :> v() -->\n",
    "%f Angle :> (-180) -->\n",
    "%f Angle :> (90)   -->\n",
    "%f Angle :> (-90)  -->   \n",
    "%f Angle :> (180)  -->   \n",
    "%f Angle :> (45)   -->   \n",
    "%f Angle :> (-45)  -->   \n",
    "%f Angle :> (-45) type -->   \n",
    "    "
   ]
  },
  {
   "cell_type": "code",
   "execution_count": 10,
   "metadata": {},
   "outputs": [
    {
     "name": "stdout",
     "output_type": "stream",
     "text": [
      "G --> Vec[-0.   -3.71] (<class '__main__.Vector'>)\n",
      "G type --> <class '__main__.Vector'> (<class 'type'>)\n"
     ]
    }
   ],
   "source": [
    "G = Angle(180) * Gravity  # G = Vector(*(Angle(180).v() * Gravity)) 我有提供 __mul__ \n",
    "%f G -->\n",
    "%f G type --> \n"
   ]
  },
  {
   "cell_type": "code",
   "execution_count": 11,
   "metadata": {},
   "outputs": [
    {
     "data": {
      "text/plain": [
       "array([0.5, 0.5])"
      ]
     },
     "execution_count": 11,
     "metadata": {},
     "output_type": "execute_result"
    }
   ],
   "source": [
    "def line_line_intersection(a1:Vector,a2:Vector,b1:Vector,b2:Vector) -> np.array:\n",
    "    # https://stackoverflow.com/a/47823499/2179543 \n",
    "    A = np.array([a1.v(), a2.v()])\n",
    "    B = np.array([b1.v(), b2.v()])\n",
    "    t, s = np.linalg.solve(np.array([A[1]-A[0], B[0]-B[1]]).T, B[0]-A[0])\n",
    "    return (1-t)*A[0] + t*A[1]\n",
    "\n",
    "line_line_intersection(Vector(0,0),Vector(1,1),Vector(0,1),Vector(1,0))"
   ]
  },
  {
   "cell_type": "code",
   "execution_count": 12,
   "metadata": {
    "tags": []
   },
   "outputs": [],
   "source": [
    "\n",
    "# State 的 properties 都用 python 的原型，不用 np.array 之類。原因，感覺較單純不會有意外。\n",
    "\n",
    "class State():\n",
    "\n",
    "    def __init__(self, step=0, x=2500, y=2700, hspeed=0, vspeed=0, \n",
    "                 fuel=550, angle=0, power=0, **kwargs):\n",
    "        self.step   = step\n",
    "        self.x      = x\n",
    "        self.y      = y\n",
    "        self.hspeed = hspeed\n",
    "        self.vspeed = vspeed\n",
    "        self.fuel   = fuel\n",
    "        self.angle  = angle\n",
    "        self.power  = power\n",
    "        self.trace  = [[x,y]]\n",
    "        self.landed = False\n",
    "        # self.force  = G + Angle(self.angle)*self.power\n",
    "\n",
    "    def next(self, angle:int, power:int):  \n",
    "        # input angle,power 都是 offset differential delta 分別屬 -15~15 以及 -1,0,+1 \n",
    "        assert power in [-1, 0, 1], 'expected input power [-1, 0, +1], given {}'.format(power)\n",
    "        assert angle in range(-15,16), 'input angle range [-15:16], given {}'.format(angle)\n",
    "        self.step   += 1\n",
    "        self.angle  += angle\n",
    "        self.angle   = -90 if self.angle < -90 else self.angle\n",
    "        self.angle   =  90 if self.angle > 90 else self.angle\n",
    "        self.power  += power\n",
    "        self.power   = 0 if self.power < 0 else self.power\n",
    "        self.power   = 4 if self.power > 4 else self.power\n",
    "        self.fuel   -= self.power\n",
    "        force = G + Angle(self.angle)*self.power  # force on the ship during this step         \n",
    "        s0 = Vector(self.hspeed,self.vspeed)\n",
    "        p0 = Vector(self.x,self.y)\n",
    "        s1 = s0 + force \n",
    "        p1 = p0 + s0 + force*0.5\n",
    "        self.x, self.y = p1.x, p1.y\n",
    "        landed = isLanded(p0,p1)\n",
    "        if landed['landed']: # 觸地點\n",
    "            intersection = line_line_intersection(p0,p1,Vector(*Land[landed['surface']]),Vector(*Land[landed['surface']+1]))\n",
    "            self.landed_x, self.landed_y = intersection[0], intersection[1]\n",
    "        self.hspeed, self.vspeed = s1.x, s1.y\n",
    "        self.landed = self.landed or landed['landed']\n",
    "        self.trace.append([p1.x,p1.y])  # Trace 照模擬的，以便畫出軌跡。\n",
    "        return self  # 傳回值只是好測試，以便於可以這樣寫： %f state :> next(0,3.711) -->\n",
    "\n",
    "    def __str__(self):  \n",
    "        d = copy.deepcopy(self.__dict__)\n",
    "        return str([{k:int(round(v,0))} for k,v in d.items() if k != 'trace'])\n"
   ]
  },
  {
   "cell_type": "raw",
   "metadata": {},
   "source": [
    "# 第一關 Easy on the right\n",
    "Flat_ground = 4\n",
    "Land = [\n",
    "  [   0, 100], # 0\n",
    "  [1000, 500], # 1\n",
    "  [1500,1500], # 2\n",
    "  [3000,1000], # 3\n",
    "  [4000, 150], # 4 flat ground\n",
    "  [5500, 150], # 5 flat ground\n",
    "  [6999, 800], # 6\n",
    "]\n",
    "Fuel0 = 550\n",
    "State0 = State(0,2500,2700,0,0,Fuel0,0,0)  # episode-2 的起點 state\n",
    "%f State0 -->"
   ]
  },
  {
   "cell_type": "code",
   "execution_count": 13,
   "metadata": {},
   "outputs": [
    {
     "name": "stdout",
     "output_type": "stream",
     "text": [
      "State0 --> [{'step': 0}, {'x': 6500}, {'y': 2800}, {'hspeed': -100}, {'vspeed': 0}, {'fuel': 600}, {'angle': 90}, {'power': 0}, {'landed': 0}] (<class '__main__.State'>)\n"
     ]
    }
   ],
   "source": [
    "# 第二關 Initial speed, correct side\n",
    "\n",
    "# Parameters\n",
    "Temperature = 30       # 起始熱溫\n",
    "Anealing = 0.1          # 降溫幅度\n",
    "Iteration = 4000        # \n",
    "\n",
    "Flat_ground = 2\n",
    "Land = [\n",
    "  [   0,  100], # 0\n",
    "  [1000,  500], # 1\n",
    "  [1500,  100], # 2 flat ground\n",
    "  [3000,  100], # 3 flat ground\n",
    "  [3500,  500], # 4\n",
    "  [3700,  200], # 5\n",
    "  [5000, 1500], # 6\n",
    "  [5800,  300], # 7\n",
    "  [6000, 1000], # 8\n",
    "  [6999, 2000], # 9\n",
    "]    \n",
    "Fuel0 = 600\n",
    "State0 = State(0,6500,2800,-100,0,Fuel0,90,0)  # episode-2 的起點 state\n",
    "%f State0 -->"
   ]
  },
  {
   "cell_type": "code",
   "execution_count": 14,
   "metadata": {},
   "outputs": [
    {
     "name": "stdout",
     "output_type": "stream",
     "text": [
      "{'surface': 2, 'landed': True}\n"
     ]
    }
   ],
   "source": [
    "# 最近兩個位置與 surface 比對看是否已經觸地\n",
    "def isLanded(p0, p1):\n",
    "    landed = False\n",
    "    for j in range(len(Land)-1): # consider all surfaces\n",
    "        if doIntersect(p0,p1,Vector(*Land[j]),Vector(*Land[j+1])):\n",
    "            landed = True\n",
    "            break\n",
    "    return {\"surface\":j,\"landed\":landed}  # 傳回 surface 方便 test and debug.\n",
    "\n",
    "p0 = Vector(2000,200) # 試試看下一個 surface \n",
    "p1 = Vector(2500,50) # 試試看下一個 surface \n",
    "print(isLanded(p0, p1))"
   ]
  },
  {
   "cell_type": "code",
   "execution_count": 15,
   "metadata": {
    "tags": []
   },
   "outputs": [
    {
     "name": "stdout",
     "output_type": "stream",
     "text": [
      "state --> [{'step': 39}, {'x': 2600}, {'y': -22}, {'hspeed': -100}, {'vspeed': -145}, {'fuel': 600}, {'angle': 90}, {'power': 0}, {'landed': 1}, {'landed_x': 2686}, {'landed_y': 100}] (<class '__main__.State'>)\n"
     ]
    }
   ],
   "source": [
    "# 弄出 genome0 跑去墜毀，試驗相關的 functions \n",
    "state = State(**State0.__dict__)\n",
    "genome0 = []\n",
    "for i in range(3,100):  # 已知不到 100 用 while True 也行，用 for 比較保險\n",
    "    genome0.append([0,0]);state.next(*genome0[-1])\n",
    "    if i == 71: state72 = copy.deepcopy(state)\n",
    "    if state.landed: \n",
    "        break       \n",
    "%f state -->\n",
    "%f \\ state72 -->\n",
    "%f \\ genome0 -->\n",
    "%f \\ state :> trace -->\n",
    "        "
   ]
  },
  {
   "cell_type": "markdown",
   "metadata": {},
   "source": [
    "# get_random_neighbour()\n",
    "\n",
    "Mars Lander 的 genome 很簡單，就是一串 (angle:int,power:int) pairs. 前面基礎討論有提到，以 SA 而言就是 mutate 某一個 gene 也就是 command pair 而已。Mutation 的改變要做的決定是 power `[-1 0 +1]`、angle `[-15 +15\n",
    "]` 而非 `0 ~ 4`、`-90 ~ +90` 以確保 mutating 有效。\n",
    "\n",
    "### 要點\n",
    "- 太長而無效的 genes 要 cut 掉。\n",
    "- 長度不夠時直接 copy 最後一個 gene 頂替即可。\n",
    "- 會發現 genome 太長或不夠的是 simulator 那就是由它處理。\n",
    "- 避免無效的 neighbour 例如前一 power 是 0 或 4 卻下 -1 或 1 就是無效的，這個 neighbour 就浪費了。 \n",
    "- 第一個 gene 的 power 不能下 -1 只能下 0 或 +1 , 將來 angle 也有一樣的限制。"
   ]
  },
  {
   "cell_type": "code",
   "execution_count": 16,
   "metadata": {},
   "outputs": [
    {
     "name": "stdout",
     "output_type": "stream",
     "text": [
      "genome0 genome_to_command_list :> (pop()) --> [[90, 0], [90, 0], [90, 0], [90, 0], [90, 0], [90, 0], [90, 0], [90, 0], [90, 0], [90, 0], [90, 0], [90, 0], [90, 0], [90, 0], [90, 0], [90, 0], [90, 0], [90, 0], [90, 0], [90, 0], [90, 0], [90, 0], [90, 0], [90, 0], [90, 0], [90, 0], [90, 0], [90, 0], [90, 0], [90, 0], [90, 0], [90, 0], [90, 0], [90, 0], [90, 0], [90, 0], [90, 0], [90, 0], [90, 0]] (<class 'list'>)\n"
     ]
    }
   ],
   "source": [
    "# 把 genome 轉成 codingame web 接受的 command list \n",
    "def genome_to_command_list(genome:GENOME) -> List[List[int]] :\n",
    "    a,p,r = State0.angle,State0.power,[]  # declare angle, power, and results: command array of [angle,power] paris\n",
    "    for i in genome :\n",
    "        if i[0] >=0 : a = min(a+i[0], 90)  # angle 0~15 degree\n",
    "        else: a = max(a+i[0],-90)  # angle -15 ~ 0 degree\n",
    "        if i[1] == -1 : p = max(p-1, 0) \n",
    "        elif i [1] == 1 : p = min(p+1, 4) \n",
    "        r.append([a, p])\n",
    "    return r\n",
    "\n",
    "%f genome0 genome_to_command_list :> (pop()) -->\n"
   ]
  },
  {
   "cell_type": "code",
   "execution_count": 17,
   "metadata": {
    "tags": []
   },
   "outputs": [
    {
     "name": "stdout",
     "output_type": "stream",
     "text": [
      "get_random_neighbour :> ([[0,1],[0,1],[0,1],[0,1],[0,1]]) --> [[0, 1], [0, 1], [0, 1], [0, 1], [-12, 1]] (<class 'list'>)\n",
      "get_random_neighbour :> ([[0,1],[0,1],[0,1],[0,1],[0,1]]) --> [[0, 1], [0, 1], [-14, 1], [0, 1], [0, 1]] (<class 'list'>)\n"
     ]
    }
   ],
   "source": [
    "def get_random_neighbour(genome: GENOME) -> GENOME :\n",
    "    neighbour = copy.deepcopy(genome)  # 利用 [:] slice copy 不行，因為 elements 又是 array！ \n",
    "    commands = genome_to_command_list(neighbour)  # 絕對 command, 用來檢查前一狀態避免產生無效的 neighbour \n",
    "    \n",
    "    while True:  # 試到不一樣了才出來\n",
    "        idx = random.randint(0,len(genome)-1) # 選 1 個 gene \n",
    "        cmd = random.randint(0,1) # pwr or ang 選 1 個\n",
    "        if cmd:\n",
    "            pwr = random.randint(-1, 1)  # -1, 0, +1 當中選 1 個 thrust command (episode-1)\n",
    "            if idx == 0 and pwr == -1 : continue  # 一開始的 power 就是 0 再下 -1 無效\n",
    "            if idx >= 1 and pwr == -1 and commands[idx-1][1] == 0: continue  # 前一個 power 就已經是 0 又下 -1 無效\n",
    "            if idx >= 1 and pwr ==  1 and commands[idx-1][1] == 4: continue  # 前一個 power 就已經是 4 又下 +1 無效\n",
    "            if neighbour[idx][1] == pwr : continue  # 沒有變化當然無效\n",
    "            else: \n",
    "                neighbour[idx][1] = pwr\n",
    "                break\n",
    "        else:\n",
    "            ang = random.randint(-15, 15)  # -15~+15 當中選 1 個 thrust command (episode-1)\n",
    "            if (commands[idx-1][0] + ang) > 90 or (commands[idx-1][0] + ang) < -90 : continue # angle0 + angle 超過限度\n",
    "            if neighbour[idx][0] == ang: continue  # 沒有變化當然無效\n",
    "            else: \n",
    "                neighbour[idx][0] = ang \n",
    "                break\n",
    "    return neighbour\n",
    "\n",
    "# 仔細檢查\n",
    "for i in range(2): # actually 500 以便觀察是否每種可能都有出現\n",
    "    %f get_random_neighbour :> ([[0,1],[0,1],[0,1],[0,1],[0,1]]) --> \\ gene0 pwr 只有 0 或 1 不會有 -1, gene1 視 gene0 而定     \n"
   ]
  },
  {
   "cell_type": "markdown",
   "metadata": {},
   "source": [
    "# cost_of_state(state: STATE)\n",
    "- 成功著陸的，油料剩越多的越好。\n",
    "- 根據我之前對 y=100 (flat ground 的海拔高度) 的研究 該 state 來自 log 的最後一 state. 當 Simulating 時，該 state 就是 y 首次跨越 flat ground 高度觸地著陸之時，跨越！僅用高度來判斷只有 episode-1 能用： round(state.y,0) < Altitude; 若 round(state.y,0) <= Altitude 則 100.45 也會被錯當成已著陸，錯誤。\n",
    "- 一個油料耗盡一個墜毀哪個好？墜毀時的速度減到+-40 (VSpeed) 以內需要多少油料？\n",
    "- 油料耗盡時的高度距離與速度以自由落體觸地 (垂直位置)，記錄觸地時的 state 分幾次重複模擬把 (垂直速度)、(水平速度)、(水平位置) 分別修正好所需的油料。\n",
    "    - 全力往 0 度方向噴火把 vspeed 速度調整到 +-VSpeed 以內需要多少油料？\n",
    "    - 全力往 +-90 度方向噴火把 hspeed 速度調整到 +-HSpeed 以內需要多少油料？\n",
    "    - 全力往 +-90 度方向噴火把 position 調整到 flat ground 境內需要多少油料？\n",
    "- 做實驗證實：在最後一步才突然下不同命令 (angle,power) 對以上方法所得到的分數有正確的差別。\n",
    "- cost 必大於 0。 Score 用油料剩餘量計算\n",
    "，由 fuel0 扣下來可到負值。換算成 cost 就是 cost = fuel0 - score. 核算，當 score 為 fuel0 時 cost 為 0 無誤； 當 score 為 -fuel0 時 cost 為 2fuel0\n",
    "  甚至更高，也無誤。 直接用這個數字，配合 SA 的 Temperature 設定要用 visualized graphs 來訂定 即可。\n"
   ]
  },
  {
   "cell_type": "code",
   "execution_count": 18,
   "metadata": {},
   "outputs": [
    {
     "name": "stdout",
     "output_type": "stream",
     "text": [
      "state cost_of_vspeed :> (pop()) --> {'cost': 1574, 'state': <__main__.State object at 0x00000266632B1248>} (<class 'dict'>)\n"
     ]
    }
   ],
   "source": [
    "def cost_of_vspeed(state: STATE) -> int:\n",
    "    # 必須觸地了才 call 本 function，把垂直方向的 vspeed 修正到目標速度內，計算這部分成績。\n",
    "    state = copy.deepcopy(state)  # 不要去動到原來的\n",
    "    fuel0 = state.fuel;\n",
    "    while state.vspeed < -VSpeed: # 剛從空中下來觸地， vspeed 一定是負值；墜毀的一定比 -VSpeed 小\n",
    "        a = 0 - state.angle  # 目標角度是 0 度\n",
    "        a = min(a,15) if a >= 0 else max(a,-15)\n",
    "        state.next(a,1)  # 擺正全力噴火\n",
    "    cost = fuel0 - state.fuel\n",
    "    return {\"cost\":cost,\"state\":state}\n",
    "\n",
    "%f state cost_of_vspeed :> (pop()) -->\n"
   ]
  },
  {
   "cell_type": "code",
   "execution_count": 19,
   "metadata": {},
   "outputs": [
    {
     "name": "stdout",
     "output_type": "stream",
     "text": [
      "state cost_of_hspeed :> (pop()) --> {'cost': 114, 'state': <__main__.State object at 0x00000266632CB688>} (<class 'dict'>)\n"
     ]
    }
   ],
   "source": [
    "def cost_of_hspeed(state: STATE) -> int:\n",
    "    # 必須觸地了才 call 本 function，把水平方向的 hspeed 修正到目標速度內，計算這部分成績。\n",
    "    state = copy.deepcopy(state)  # 不要去動到原來的\n",
    "    fuel0 = state.fuel;\n",
    "    direction = 15 if state.hspeed >= 0 else -15  # 正向速度過快要用 +90 角全力噴火減速，反之則 -90 度角。\n",
    "    while abs(state.hspeed) > HSpeed:\n",
    "        state.next(direction,1)\n",
    "    cost = fuel0 - state.fuel\n",
    "    return  {\"cost\":cost,\"state\":state}\n",
    "\n",
    "%f state cost_of_hspeed :> (pop()) -->\n"
   ]
  },
  {
   "cell_type": "code",
   "execution_count": 20,
   "metadata": {},
   "outputs": [
    {
     "name": "stdout",
     "output_type": "stream",
     "text": [
      "state cost_of_hposition :> (pop()) --> {'cost': 0, 'state': <__main__.State object at 0x000002666328F3C8>} (<class 'dict'>)\n"
     ]
    }
   ],
   "source": [
    "def cost_of_hposition(state: STATE) -> int:\n",
    "    # 必須觸地了才 call 本 function，把水平位置修正到目標速度內，計算這部分成績。\n",
    "    s = copy.deepcopy(state)  # 不要去動到原來的\n",
    "    cost = 0 # 落在 flat ground 範圍內就不扣分。\n",
    "    if s.x < Land[Flat_ground][0] or s.x > Land[Flat_ground+1][0]:\n",
    "        # 不在目標 flat ground 範圍內就要算扣分 (到 flat ground 的距離)。\n",
    "        cost = int(lineseg_dists([Vector(s.x,s.y).v()], Vector(*Land[Flat_ground]).v(), Vector(*Land[Flat_ground+1]).v())[0])\n",
    "    return  {\"cost\":cost,\"state\":s}\n",
    "\n",
    "%f state cost_of_hposition :> (pop()) -->\n"
   ]
  },
  {
   "cell_type": "code",
   "execution_count": 21,
   "metadata": {},
   "outputs": [
    {
     "name": "stdout",
     "output_type": "stream",
     "text": [
      "state cost_of_angle :> (pop()) --> {'cost': 90, 'state': <__main__.State object at 0x00000266632DC948>} (<class 'dict'>)\n"
     ]
    }
   ],
   "source": [
    "def cost_of_angle(state: STATE) -> int:\n",
    "    # 必須觸地了才 call 本 function，角度非 0 都扣分。\n",
    "    return  {\"cost\":abs(state.angle),\"state\":state}\n",
    "\n",
    "%f state cost_of_angle :> (pop()) -->"
   ]
  },
  {
   "cell_type": "code",
   "execution_count": 22,
   "metadata": {},
   "outputs": [
    {
     "name": "stdout",
     "output_type": "stream",
     "text": [
      "state --> [{'step': 39}, {'x': 2600}, {'y': -22}, {'hspeed': -100}, {'vspeed': -145}, {'fuel': 600}, {'angle': 90}, {'power': 0}, {'landed': 1}, {'landed_x': 2686}, {'landed_y': 100}] (<class '__main__.State'>)\n",
      "state cost_of_state :> (pop()) >x x@ :> ['cost'] --> 1178 (<class 'int'>)\n",
      "這個的 cost 是 ???, State0 是 ??? \n",
      "\n",
      "x@ :> ['costs']['vspeed']['state'] --> [{'step': 434}, {'x': -39983}, {'y': -38301}, {'hspeed': -108}, {'vspeed': -40}, {'fuel': -974}, {'angle': 0}, {'power': 4}, {'landed': 1}, {'landed_x': 2686}, {'landed_y': 100}] (<class '__main__.State'>)\n",
      "x@ :> ['costs']['hspeed']['state'] --> [{'step': 69}, {'x': 383}, {'y': -5361}, {'hspeed': -19}, {'vspeed': -228}, {'fuel': 486}, {'angle': -90}, {'power': 4}, {'landed': 1}, {'landed_x': 2686}, {'landed_y': 100}] (<class '__main__.State'>)\n",
      "x@ :> ['costs']['hposition']['state'] --> [{'step': 39}, {'x': 2600}, {'y': -22}, {'hspeed': -100}, {'vspeed': -145}, {'fuel': 600}, {'angle': 90}, {'power': 0}, {'landed': 1}, {'landed_x': 2686}, {'landed_y': 100}] (<class '__main__.State'>)\n",
      "x@ :> ['costs']['angle']['state'] --> [{'step': 39}, {'x': 2600}, {'y': -22}, {'hspeed': -100}, {'vspeed': -145}, {'fuel': 600}, {'angle': 90}, {'power': 0}, {'landed': 1}, {'landed_x': 2686}, {'landed_y': 100}] (<class '__main__.State'>)\n",
      "x@ :> ['costs']['vspeed']['cost'] --> 1574 (<class 'int'>)\n",
      "x@ :> ['costs']['hspeed']['cost'] --> 114 (<class 'int'>)\n",
      "x@ :> ['costs']['hposition']['cost'] --> 0 (<class 'int'>)\n",
      "x@ :> ['costs']['angle']['cost'] --> 90 (<class 'int'>)\n"
     ]
    }
   ],
   "source": [
    "def cost_of_state(state: STATE) -> int:\n",
    "    state = copy.deepcopy(state)  # 不要去動到原來的\n",
    "    # 先給他觸地\n",
    "    while(not state.landed):\n",
    "        state.next(0,-1)  # 模擬 free fall, 小心別又錯了，不是直接填 0 ！！\n",
    "        if state.landed or \\\n",
    "           state.y >= 3000 or state.x >= 7000 or \\\n",
    "           state.y <= 0 or state.x <= 0: \n",
    "            break\n",
    "    costs = {\"vspeed\":cost_of_vspeed(state),\"hspeed\":cost_of_hspeed(state),\"hposition\":cost_of_hposition(state),\"angle\":cost_of_angle(state)}\n",
    "    cost = costs[\"vspeed\"][\"cost\"] +costs[\"hspeed\"][\"cost\"] + costs[\"hposition\"][\"cost\"] + costs[\"angle\"][\"cost\"] - state.fuel\n",
    "    return {\"cost\":cost,\"costs\":costs}\n",
    "\n",
    "%f state -->\n",
    "%f state cost_of_state :> (pop()) >x x@ :> ['cost'] --> # 這個的 cost 是 ???, State0 是 ??? \n",
    "%f x@ :> ['costs']['vspeed']['state'] -->\n",
    "%f x@ :> ['costs']['hspeed']['state'] -->\n",
    "%f x@ :> ['costs']['hposition']['state'] -->\n",
    "%f x@ :> ['costs']['angle']['state'] -->    \n",
    "%f x@ :> ['costs']['vspeed']['cost'] -->\n",
    "%f x@ :> ['costs']['hspeed']['cost'] -->\n",
    "%f x@ :> ['costs']['hposition']['cost'] -->\n",
    "%f x@ :> ['costs']['angle']['cost'] -->\n"
   ]
  },
  {
   "cell_type": "code",
   "execution_count": 23,
   "metadata": {},
   "outputs": [
    {
     "name": "stdout",
     "output_type": "stream",
     "text": [
      "State0 cost_of_state :> (pop()) >x x@ :> ['cost'] --> 1178 (<class 'int'>)\n",
      "State0 是 1178\n",
      "\n"
     ]
    }
   ],
   "source": [
    "%f State0 cost_of_state :> (pop()) >x x@ :> ['cost'] --> # State0 是 1178\n",
    "       "
   ]
  },
  {
   "cell_type": "markdown",
   "metadata": {},
   "source": [
    "# 演練手動產生 random neighbour 比分"
   ]
  },
  {
   "cell_type": "code",
   "execution_count": 24,
   "metadata": {},
   "outputs": [],
   "source": [
    "# 模擬試跑 genome. Genome 可能太長或不夠，傳回訂正好的 genome 以及最後 state  \n",
    "def simulate_of_genome(input_genome: GENOME) -> Tuple[GENOME,STATE]:\n",
    "    genome = copy.deepcopy(input_genome)  # make a copy to isolate the original\n",
    "    state = State(**State0.__dict__)  # init state for simulation\n",
    "    # 照 genome 跑到觸地、飛走、或油料耗盡時為止， genome 可能含有無效的長度要 cut 掉以免浪費時間嘗試。\n",
    "    for i in range(len(genome)): \n",
    "        state.next(*genome[i])  # run 1 step \n",
    "        if state.landed or \\\n",
    "           state.y >= 3000 or state.x >= 7000 or \\\n",
    "           state.y <= 0 or state.x <= 0 or \\\n",
    "           state.fuel <= 0: # 這高度、油料、位置不能再繼續了\n",
    "            genome = genome[:i+1]  # 太長的尾巴切掉\n",
    "            break\n",
    "        \n",
    "    # 接續以上跑完 input genome 之後的 state 看看 input genome 是否太短需要補綴 genes 讓 lander 觸地。\n",
    "    # 因為 genome 是 get_random_neighbour() 產生的，我們不想弄個沒意義的 neighbour 浪費時間，所以要盡\n",
    "    # 力把它補好。熄火或照抄？照抄，有作為比較符合需要。不怕 infinit loop 因為油料有限。\n",
    "    while not state.landed and state.fuel > 0 and \\\n",
    "           state.y < 3000 and state.x < 7000 and \\\n",
    "           state.y > 0 and state.x > 0 :\n",
    "        genome.append(genome[-1][:])  # 注意！若不用 [:] slice copy 則 append 進去的都是同一個。gene 是個 shallow array 無誤，可以用 slice copy.\n",
    "        state.next(*genome[-1])  # 簡單照抄最後一 step\n",
    "        \n",
    "    return genome,state  # 這個 return genome 是 input genome 的訂正版\n"
   ]
  },
  {
   "cell_type": "markdown",
   "metadata": {},
   "source": [
    "# Fitness Function - SA Simulated Anealing"
   ]
  },
  {
   "cell_type": "code",
   "execution_count": 25,
   "metadata": {},
   "outputs": [],
   "source": [
    "# fitness function \n",
    "# https://en.wikipedia.org/wiki/Hyperparameter_(machine_learning)   _*_\n",
    "verbose = False\n",
    "def sa(initial: GENOME) -> Tuple[GENOME,int,int] :\n",
    "    temp = Temperature  # initial temperature\n",
    "    current = copy.deepcopy(initial)  # 咱 deep 不能用 [:]\n",
    "    current, current_last_state = simulate_of_genome(current)\n",
    "    current_cost = cost_of_state(current_last_state) \n",
    "    \n",
    "    for i in range(Iteration):  # 與其安全降落為止，可能不如有限次數換個 epoch 試試運氣\n",
    "        neighbour = get_random_neighbour(current)\n",
    "        neighbour, neighbour_last_state = simulate_of_genome(neighbour)\n",
    "        neighbour_cost = cost_of_state(neighbour_last_state)\n",
    "\n",
    "        accepted = False  # accept new neighbour \n",
    "        cost_delta = neighbour_cost['cost'] - current_cost['cost']\n",
    "        if cost_delta < 0:  # neighbour 較好，都接受。\n",
    "            accepted = True\n",
    "            current, current_cost, current_last_state = neighbour, neighbour_cost, neighbour_last_state\n",
    "            if verbose: print({\"Iter\":i, \"cost\":current_cost['cost'], \"delta\":cost_delta, \"temperature\":round(temp,Round_off), \"exp\": \"n/a\"})\n",
    "        elif cost_delta >= 0:  # 雖然 neighbour 不好，也偶而接受。\n",
    "            exp = math.exp(-cost_delta/max(temp,0.001)) \n",
    "            if random.random() < exp:\n",
    "                accepted = True\n",
    "                current, current_cost, current_last_state = neighbour, neighbour_cost, neighbour_last_state\n",
    "                if verbose: print({\"Iter\":i, \"cost\":current_cost['cost'], \"delta\":cost_delta, \"temperature\":round(temp,Round_off), \"exp\": round(exp,Round_off)})\n",
    "\n",
    "        # 退火降溫\n",
    "        if accepted:\n",
    "            temp = max(temp - Anealing,0) # [ ] Hyperparameter, 根據觀察 log 決定設計成約達陣數十次到一百次之內降到零度\n",
    "            # 達陣\n",
    "            if current_last_state.landed \\\n",
    "               and not current_cost['costs']['vspeed']['cost'] \\\n",
    "               and not current_cost['costs']['hspeed']['cost'] \\\n",
    "               and not current_cost['costs']['hposition']['cost'] \\\n",
    "               and not current_cost['costs']['angle']['cost'] : # 達陣的條件\n",
    "                print('\\nB i n g o ! iterations:{} temperature:{} curent_cost:{}'.format(i, round(temp,3), current_cost['cost']))\n",
    "                print(\"Commands:{}\".format(genome_to_command_list(current)))\n",
    "                peforth.bp(99,locals())\n",
    "\n",
    "    return current, i, current_cost, current_last_state\n"
   ]
  },
  {
   "cell_type": "code",
   "execution_count": 26,
   "metadata": {},
   "outputs": [],
   "source": [
    "def epoch(initial: GENOME=None):\n",
    "\n",
    "    genome: GENOME = [];\n",
    "    \n",
    "    # 有指定就用指定的，否則就用亂數產生一組啟始 genome\n",
    "    # random.seed(100)\n",
    "    if initial:  \n",
    "        genome = copy.deepcopy(initial); \n",
    "    else:  \n",
    "        for i in range(random.randint(1,100)): # 沒看過 genome 長度超過 100 的，多了無所謂會被自動切掉。\n",
    "            genome.append([0,random.randint(-1, 1)]) \n",
    "\n",
    "    genome, iterations, cost, state = sa(genome)\n",
    "\n",
    "    return (genome, iterations, cost, state)"
   ]
  },
  {
   "cell_type": "code",
   "execution_count": null,
   "metadata": {
    "tags": []
   },
   "outputs": [],
   "source": [
    "%f [] constant history \n",
    "init = [[2, 1], [-8, 0], [-9, 0], [0, 0], [-15, 0], [-13, 0], [-13, 1], [-15, 0], [-3, -1], [-7, 1], [-14, 1], [9, 1], [-8, 0], [-2, 0], [-13, 0], [0, 0], [-6, 0], [-6, 0], [-10, 0], [5, 0], [13, 0], [1, 0], [-1, 0], [6, 0], [-4, 0], [-4, 0], [-1, 0], [3, 0], [-9, 0], [-3, 0], [-10, 0], [-2, 0], [-3, 0], [-9, 0], [-1, 0], [8, 0], [5, 0], [11, 0], [3, 0], [3, 0], [-14, 0], [7, 0], [12, 0], [-3, 0], [15, 0], [1, 0], [-3, 0], [7, 0], [-15, 0], [-4, 0], [-4, 0], [9, 0], [14, 0], [14, 0], [-6, 0], [-14, 0], [-12, 0], [3, 0], [11, 0], [-10, 0], [14, 0], [2, 0], [-4, 0], [6, 0], [3, 0], [-9, 0], [10, 0], [-12, 0], [-3, 0], [2, 0], [-1, 0], [-4, 0], [13, 0], [1, 0], [6, 0], [-6, 0], [6, 0]]\n",
    "if __name__ == \"__main__\":\n",
    "    best = epoch(init)  # (genome, iterations, cost, state)\n",
    "    for i in range(20):\n",
    "        result = epoch(best[0])  # (genome, iterations, cost, state)\n",
    "        if result[2]['cost'] < best[2]['cost']:\n",
    "            best = result\n",
    "        if i % 20 == 0 :\n",
    "            print('Epoch {} best cost {}'.format(i,best[2]))\n",
    "        %f best history :: append(pop())\n",
    "    print('Epoch {} best cost {}'.format(i,best[2]))\n",
    "    print('Done!')\n"
   ]
  },
  {
   "cell_type": "code",
   "execution_count": null,
   "metadata": {},
   "outputs": [],
   "source": [
    "%debug"
   ]
  },
  {
   "cell_type": "code",
   "execution_count": null,
   "metadata": {},
   "outputs": [],
   "source": [
    "%f best :> [3] --> # 最後狀態\n",
    "%f best :> [0] genome_to_command_list :> (pop()) --> # 取 best result 的絕對 genome 去 web site 跑跑看 \n",
    "%f best :> [2]['costs']['vspeed']['cost'] -->\n",
    "%f best :> [2]['costs']['hspeed']['cost'] -->\n",
    "%f best :> [2]['costs']['hposition']['cost'] -->\n",
    "%f best :> [2]['costs']['angle']['cost'] --> # 成績\n",
    "\n",
    "%f # 照 genome 跑一遍，取得整串 states 與 Web 比對\n",
    "state = State(**State0.__dict__)  # init state for simulation\n",
    "genome = best[0]\n",
    "%f state -->\n",
    "for i in range(len(genome)): \n",
    "    state.next(*genome[i])\n",
    "    %f state -->\n",
    "    "
   ]
  },
  {
   "cell_type": "code",
   "execution_count": null,
   "metadata": {},
   "outputs": [],
   "source": []
  },
  {
   "cell_type": "code",
   "execution_count": null,
   "metadata": {},
   "outputs": [],
   "source": [
    "%pylab\n",
    "%matplotlib inline\n",
    "max_cost = 200\n",
    "temp = 50.0  # 1.0 只是碰巧適合 Einstein's problem. 大的寬容，小的挑剔。\n",
    "x = [ i for i in range(max_cost)]  # 15 是 Einstein's problem 的 maximum score \n",
    "a = [ math.exp(-cost_delta/temp*3) for cost_delta in range(max_cost) ]  # 一開始較寬容  \n",
    "b = [ math.exp(-cost_delta/temp*2) for cost_delta in range(max_cost) ]  # Temperature 減低就越來越挑剔。 \n",
    "c = [ math.exp(-cost_delta/temp*1) for cost_delta in range(max_cost) ]  # Temperature 再減低就又更挑剔。 \n",
    "plt.plot(x,a,'r')\n",
    "plt.plot(x,b,'g')\n",
    "plt.plot(x,c,'b')\n",
    "plt.show()\n"
   ]
  },
  {
   "cell_type": "code",
   "execution_count": null,
   "metadata": {},
   "outputs": [],
   "source": []
  },
  {
   "cell_type": "code",
   "execution_count": null,
   "metadata": {},
   "outputs": [],
   "source": []
  },
  {
   "cell_type": "code",
   "execution_count": null,
   "metadata": {},
   "outputs": [],
   "source": [
    "%f # 取 best result 的絕對 genome 去 web site 跑跑看 \n",
    "genome333 = [[-1, 0], [-6, 0], [-9, 0], [-13, 0], [-12, 0], [-10, 1], [3, 1], [1, -1], [-14, 1], [-2, 1], [-7, 1], [-9, 0], [-2, -1], [-4, 1], [1, 0], [3, 0], [-14, 0], [-14, 0], [-6, 0], [-2, 0], [-11, 0], [-1, 0], [-12, 0], [-4, 0], [0, 0], [6, 0], [10, 0], [7, 0], [1, 0], [0, 0], [-12, 0], [-4, 0], [4, 0], [-7, 0], [-4, 0], [12, 0], [4, 0], [13, 0], [-11, 0], [15, 0], [-6, 0], [-1, 0], [-2, 0], [14, 0], [-3, 0], [-4, 0], [7, 0], [14, 0], [-11, 0], [12, 0], [-12, 0], [-1, 0], [0, 0], [5, 0], [-8, 0], [8, 0], [-1, 0], [-2, 0], [-10, 0], [-4, 0], [6, 0], [12, 0], [3, 0], [-3, -1], [-5, 1], [3, 0], [-2, 0], [9, 0], [-6, 0], [-11, 0], [9, 0], [-6, 0], [9, 0], [1, 0], [7, 0]]\n",
    "%f genome333 genome_to_command_list :> (pop()) -->\n"
   ]
  },
  {
   "cell_type": "code",
   "execution_count": null,
   "metadata": {},
   "outputs": [],
   "source": [
    "%f # 取 best result 的絕對 genome 去 web site 跑跑看 \n",
    "genome294 = [[-1, 0], [-6, 0], [-9, 0], [-13, 0], [-12, 1], [-10, 1], [3, 1], [1, -1], [-14, 1], [-2, 1], [-7, 1], [-9, 0], [-2, 0], [-4, 1], [1, 0], [3, 0], [-14, 0], [-14, 0], [-6, 0], [-2, 0], [-11, 0], [-1, 0], [-12, 0], [-4, 0], [0, 0], [6, 0], [10, 0], [7, 0], [1, 0], [0, 0], [-12, 0], [-4, 0], [4, 0], [-7, 0], [-4, 0], [12, 0], [4, 0], [13, 0], [-11, 0], [15, 0], [-6, 0], [-1, 0], [-2, 0], [14, 0], [-3, 0], [-4, 0], [7, 0], [4, 0], [-11, 0], [13, 0], [-12, 0], [-1, 0], [-2, 0], [5, 0], [-8, 0], [8, 0], [-1, 0], [-2, 0], [-10, 0], [-4, 0], [6, 0], [12, 0], [4, 0], [-5, -1], [-14, 1], [3, 0], [15, 0], [9, 0], [-3, 0], [-11, 0], [9, 0], [-15, 0], [13, 0], [0, 0], [1, 0], [1, 0], [1, 0], [1, 0], [1, 0], [6, 0], [1, 0], [1, 0], [1, 0]]\n",
    "%f genome294 genome_to_command_list :> (pop()) -->\n"
   ]
  },
  {
   "cell_type": "code",
   "execution_count": null,
   "metadata": {},
   "outputs": [],
   "source": []
  },
  {
   "cell_type": "code",
   "execution_count": null,
   "metadata": {},
   "outputs": [],
   "source": []
  },
  {
   "cell_type": "code",
   "execution_count": null,
   "metadata": {},
   "outputs": [],
   "source": []
  },
  {
   "cell_type": "code",
   "execution_count": null,
   "metadata": {},
   "outputs": [],
   "source": []
  },
  {
   "cell_type": "code",
   "execution_count": null,
   "metadata": {},
   "outputs": [],
   "source": []
  },
  {
   "cell_type": "code",
   "execution_count": null,
   "metadata": {},
   "outputs": [],
   "source": []
  },
  {
   "cell_type": "code",
   "execution_count": null,
   "metadata": {},
   "outputs": [],
   "source": []
  }
 ],
 "metadata": {
  "kernelspec": {
   "display_name": "Python 3",
   "language": "python",
   "name": "python3"
  },
  "language_info": {
   "codemirror_mode": {
    "name": "ipython",
    "version": 3
   },
   "file_extension": ".py",
   "mimetype": "text/x-python",
   "name": "python",
   "nbconvert_exporter": "python",
   "pygments_lexer": "ipython3",
   "version": "3.7.5"
  }
 },
 "nbformat": 4,
 "nbformat_minor": 4
}
