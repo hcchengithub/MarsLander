{
 "cells": [
  {
   "cell_type": "code",
   "execution_count": 1,
   "metadata": {},
   "outputs": [],
   "source": []
  },
  {
   "cell_type": "code",
   "execution_count": 1,
   "metadata": {},
   "outputs": [],
   "source": [
    "# path 太長好像 %run 不了，先到當地去 \"subst g: . \" 把整條 path 變成 x: 就好辦了\n",
    "!subst x: /d\n",
    "!subst x: \"c:\\Users\\8304018\\OneDrive\\文件\\Jupyter Notebooks\\Differences of np.dot and np.multiply\"\n",
    "%run x:\\How_to_check_if_two_line_segments_intersect.ipynb"
   ]
  },
  {
   "cell_type": "code",
   "execution_count": 2,
   "metadata": {},
   "outputs": [],
   "source": [
    "# A Python3 program to find if 2 given line segments intersect or not\n",
    "\n",
    "class Point:\n",
    "\tdef __init__(self, x, y):\n",
    "\t\tself.x = x\n",
    "\t\tself.y = y"
   ]
  },
  {
   "cell_type": "code",
   "execution_count": 3,
   "metadata": {},
   "outputs": [
    {
     "name": "stdout",
     "output_type": "stream",
     "text": [
      "No\n",
      "Yes\n",
      "No\n"
     ]
    }
   ],
   "source": [
    "# Driver program to test above functions:\n",
    "p1 = Point(1, 1)\n",
    "q1 = Point(10, 1)\n",
    "p2 = Point(1, 2)\n",
    "q2 = Point(10, 2)\n",
    "\n",
    "if doIntersect(p1, q1, p2, q2):\n",
    "\tprint(\"Yes\")\n",
    "else:\n",
    "\tprint(\"No\")\n",
    "\n",
    "p1 = Point(10, 0)\n",
    "q1 = Point(0, 10)\n",
    "p2 = Point(0, 0)\n",
    "q2 = Point(10,10)\n",
    "\n",
    "if doIntersect(p1, q1, p2, q2):\n",
    "\tprint(\"Yes\")\n",
    "else:\n",
    "\tprint(\"No\")\n",
    "\n",
    "p1 = Point(-5,-5)\n",
    "q1 = Point(0, 0)\n",
    "p2 = Point(1, 1)\n",
    "q2 = Point(10, 10)\n",
    "\n",
    "if doIntersect(p1, q1, p2, q2):\n",
    "\tprint(\"Yes\")\n",
    "else:\n",
    "\tprint(\"No\")\n",
    "\t\n",
    "# This code is contributed by Ansh Riyal"
   ]
  },
  {
   "cell_type": "code",
   "execution_count": null,
   "metadata": {},
   "outputs": [],
   "source": []
  },
  {
   "cell_type": "markdown",
   "metadata": {},
   "source": [
    "# 來到這裡，手動把 mars lander 的速度跟位置校正到符合標準"
   ]
  },
  {
   "cell_type": "code",
   "execution_count": 17,
   "metadata": {},
   "outputs": [
    {
     "name": "stdout",
     "output_type": "stream",
     "text": [
      "state_a --> [{'step': 73}, {'x': 5154}, {'y': 122}, {'hspeed': 74}, {'vspeed': -68}, {'fuel': 334}, {'angle': -20}, {'power': 3}, {'landed': 1}] (<class '__main__.State'>)\n",
      "這時候 vspeed -68 要調回 -40 以內； hspeed 74 要調回 20 以內\n",
      "\n"
     ]
    }
   ],
   "source": [
    "state_a = copy.deepcopy(state)\n",
    "%f state_a --> # 這時候 vspeed -68 要調回 -40 以內； hspeed 74 要調回 20 以內"
   ]
  },
  {
   "cell_type": "code",
   "execution_count": 18,
   "metadata": {},
   "outputs": [
    {
     "name": "stdout",
     "output_type": "stream",
     "text": [
      "state_a :> x --> 5153.858575022554 (<class 'numpy.float64'>)\n",
      "land :> [4] Vector :> (*pop()).x  --> 4000 (<class 'int'>)\n",
      "land :> [5] Vector :> (*pop()).x  --> 5500 (<class 'int'>)\n"
     ]
    },
    {
     "data": {
      "text/plain": [
       "True"
      ]
     },
     "execution_count": 18,
     "metadata": {},
     "output_type": "execute_result"
    }
   ],
   "source": [
    "# 水平位置可以了，不用罰\n",
    "%f state_a :> x -->\n",
    "%f land :> [4] Vector :> (*pop()).x  -->\n",
    "%f land :> [5] Vector :> (*pop()).x  -->\n",
    "state_a.x >= Vector(*land[4]).x and state_a.x <= Vector(*land[5]).x"
   ]
  },
  {
   "cell_type": "code",
   "execution_count": 19,
   "metadata": {},
   "outputs": [
    {
     "name": "stdout",
     "output_type": "stream",
     "text": [
      "state_a :> y --> 121.93191925097857 (<class 'numpy.float64'>)\n",
      "land :> [4] Vector :> (*pop()).y  --> 150 (<class 'int'>)\n",
      "land :> [5] Vector :> (*pop()).y  --> 150 (<class 'int'>)\n"
     ]
    },
    {
     "data": {
      "text/plain": [
       "False"
      ]
     },
     "execution_count": 19,
     "metadata": {},
     "output_type": "execute_result"
    }
   ],
   "source": [
    "# 還在空中嗎？因為觸地是整條 genome 的停止條件，故不必重複考慮。\n",
    "%f state_a :> y -->\n",
    "%f land :> [4] Vector :> (*pop()).y  -->\n",
    "%f land :> [5] Vector :> (*pop()).y  -->\n",
    "state_a.y >= Vector(*land[4]).y and state_a.y >= Vector(*land[5]).y"
   ]
  },
  {
   "cell_type": "code",
   "execution_count": 28,
   "metadata": {},
   "outputs": [
    {
     "name": "stdout",
     "output_type": "stream",
     "text": [
      "state_a :> vspeed dup --> -67.90316070474064 (<class 'numpy.float64'>)\n",
      "VSpeed --> 40 (<class 'int'>)\n",
      "abs VSpeed <= --> False (<class 'numpy.bool_'>)\n",
      "一定是全力往上噴火降回 -VSpeed 以下 (>= -40)\n",
      "\n"
     ]
    }
   ],
   "source": [
    "# 檢查 vspeed\n",
    "%f state_a :> vspeed dup -->\n",
    "%f VSpeed -->\n",
    "%f abs VSpeed <= --> # 一定是全力往上噴火降回 -VSpeed 以下 (>= -40) "
   ]
  },
  {
   "cell_type": "code",
   "execution_count": 49,
   "metadata": {},
   "outputs": [
    {
     "name": "stdout",
     "output_type": "stream",
     "text": [
      "state_a --> [{'step': 73}, {'x': 5154}, {'y': 122}, {'hspeed': 74}, {'vspeed': -68}, {'fuel': 334}, {'angle': -20}, {'power': 3}, {'landed': 1}] (<class '__main__.State'>)\n",
      "xdropall state_a :> fuel >x x@ --> 334 (<class 'int'>)\n",
      "state_a --> [{'step': 170}, {'x': 12345}, {'y': -5107}, {'hspeed': 74}, {'vspeed': -40}, {'fuel': -54}, {'angle': 0}, {'power': 4}, {'landed': 0}] (<class '__main__.State'>)\n",
      "state_a :> vspeed --> -39.88538191237352 (<class 'numpy.float64'>)\n",
      "( cost ) x> state_a :> fuel - >x x@ --> 388 (<class 'int'>)\n"
     ]
    }
   ],
   "source": [
    "# 把垂直方向的 vspeed 修正到目標速度\\\n",
    "state_a = copy.deepcopy(state)\n",
    "%f state_a -->\n",
    "%f xdropall state_a :> fuel >x x@ --> \n",
    "while state_a.vspeed < -VSpeed:\n",
    "    a = 0 - state_a.angle\n",
    "    a = min(a,15) if a >= 0 else max(a,-15)\n",
    "    state_a.next(a,1)\n",
    "%f state_a -->\n",
    "%f state_a :> vspeed -->\n",
    "%f ( cost ) x> state_a :> fuel - >x x@ -->\n"
   ]
  },
  {
   "cell_type": "code",
   "execution_count": 29,
   "metadata": {},
   "outputs": [
    {
     "name": "stdout",
     "output_type": "stream",
     "text": [
      "state_a :> hspeed dup --> 73.79314986012133 (<class 'numpy.float64'>)\n",
      "HSpeed --> 20 (<class 'int'>)\n",
      "abs HSpeed <= --> False (<class 'numpy.bool_'>)\n",
      "往右太快要用 +90 度全力噴火減速\n",
      "\n"
     ]
    }
   ],
   "source": [
    "# 檢查 hspeed\n",
    "%f state_a :> hspeed dup -->\n",
    "%f HSpeed -->\n",
    "%f abs HSpeed <= --> # 往右太快要用 +90 度全力噴火減速"
   ]
  },
  {
   "cell_type": "code",
   "execution_count": 50,
   "metadata": {},
   "outputs": [
    {
     "name": "stdout",
     "output_type": "stream",
     "text": [
      "state_a --> [{'step': 73}, {'x': 5154}, {'y': 122}, {'hspeed': 74}, {'vspeed': -68}, {'fuel': 334}, {'angle': -20}, {'power': 3}, {'landed': 1}] (<class '__main__.State'>)\n",
      "state_a :> fuel >x x@ --> 334 (<class 'int'>)\n",
      "state_a --> [{'step': 90}, {'x': 6018}, {'y': -1300}, {'hspeed': 18}, {'vspeed': -112}, {'fuel': 266}, {'angle': 90}, {'power': 4}, {'landed': 0}] (<class '__main__.State'>)\n",
      "state_a :> hspeed --> 18.16539918206871 (<class 'numpy.float64'>)\n",
      "( cost ) x> state_a :> fuel - dup --> 68 (<class 'int'>)\n",
      "( total cost ) x> + --> 456 (<class 'int'>)\n"
     ]
    }
   ],
   "source": [
    "# 把水平方向的 hspeed 修正到目標速度。正向速度過快要用 +90 角全力噴火減速，或反之。\n",
    "state_a = copy.deepcopy(state)\n",
    "%f state_a -->\n",
    "%f state_a :> fuel >x x@ --> \n",
    "while abs(state_a.hspeed) > HSpeed:\n",
    "    # a = 90 - state_a.angle\n",
    "    # a = min(a,15) if a >= 0 else max(a,-15)\n",
    "    state_a.next(15,1)\n",
    "%f state_a -->\n",
    "%f state_a :> hspeed -->\n",
    "%f ( cost ) x> state_a :> fuel - dup -->\n",
    "%f ( total cost ) x> + -->\n"
   ]
  },
  {
   "cell_type": "markdown",
   "metadata": {},
   "source": [
    "# 算算看墜毀前一步的 cost "
   ]
  },
  {
   "cell_type": "code",
   "execution_count": 60,
   "metadata": {
    "tags": []
   },
   "outputs": [
    {
     "name": "stdout",
     "output_type": "stream",
     "text": [
      "state --> [{'step': 72}, {'x': 5081}, {'y': 189}, {'hspeed': 73}, {'vspeed': -67}, {'fuel': 337}, {'angle': -20}, {'power': 3}, {'landed': 0}] (<class '__main__.State'>)\n"
     ]
    }
   ],
   "source": [
    "state = State(**state0.__dict__)\n",
    "%f state :: next(-15,1) state :: next(-5,1) state :: next(0,1)\n",
    "for i in range(69):\n",
    "    state.next(0,0)\n",
    "    if state.landed: \n",
    "        break       \n",
    "%f state -->\n",
    "        "
   ]
  },
  {
   "cell_type": "code",
   "execution_count": 61,
   "metadata": {},
   "outputs": [
    {
     "name": "stdout",
     "output_type": "stream",
     "text": [
      "state_a --> [{'step': 72}, {'x': 5081}, {'y': 189}, {'hspeed': 73}, {'vspeed': -67}, {'fuel': 337}, {'angle': -20}, {'power': 3}, {'landed': 0}] (<class '__main__.State'>)\n",
      "這時候 vspeed -68 要調回 -40 以內； hspeed 74 要調回 20 以內\n",
      "\n"
     ]
    }
   ],
   "source": [
    "state_a = copy.deepcopy(state)\n",
    "%f state_a --> # 這時候 vspeed -68 要調回 -40 以內； hspeed 74 要調回 20 以內"
   ]
  },
  {
   "cell_type": "code",
   "execution_count": 62,
   "metadata": {},
   "outputs": [
    {
     "name": "stdout",
     "output_type": "stream",
     "text": [
      "state_a :> x --> 5080.578455377421 (<class 'numpy.float64'>)\n",
      "land :> [4] Vector :> (*pop()).x  --> 4000 (<class 'int'>)\n",
      "land :> [5] Vector :> (*pop()).x  --> 5500 (<class 'int'>)\n"
     ]
    },
    {
     "data": {
      "text/plain": [
       "True"
      ]
     },
     "execution_count": 62,
     "metadata": {},
     "output_type": "execute_result"
    }
   ],
   "source": [
    "# 水平位置可以了，不用罰\n",
    "%f state_a :> x -->\n",
    "%f land :> [4] Vector :> (*pop()).x  -->\n",
    "%f land :> [5] Vector :> (*pop()).x  -->\n",
    "state_a.x >= Vector(*land[4]).x and state_a.x <= Vector(*land[5]).x"
   ]
  },
  {
   "cell_type": "code",
   "execution_count": 63,
   "metadata": {},
   "outputs": [
    {
     "name": "stdout",
     "output_type": "stream",
     "text": [
      "state_a :> vspeed dup --> -67.01123856709837 (<class 'numpy.float64'>)\n",
      "VSpeed --> 40 (<class 'int'>)\n",
      "abs VSpeed <= --> False (<class 'numpy.bool_'>)\n",
      "一定是全力往上噴火降回 -VSpeed 以下 (>= -40)\n",
      "\n"
     ]
    }
   ],
   "source": [
    "# 檢查 vspeed\n",
    "%f state_a :> vspeed dup -->\n",
    "%f VSpeed -->\n",
    "%f abs VSpeed <= --> # 一定是全力往上噴火降回 -VSpeed 以下 (>= -40) "
   ]
  },
  {
   "cell_type": "code",
   "execution_count": 64,
   "metadata": {},
   "outputs": [
    {
     "name": "stdout",
     "output_type": "stream",
     "text": [
      "state_a --> [{'step': 72}, {'x': 5081}, {'y': 189}, {'hspeed': 73}, {'vspeed': -67}, {'fuel': 337}, {'angle': -20}, {'power': 3}, {'landed': 0}] (<class '__main__.State'>)\n",
      "xdropall state_a :> fuel >x x@ --> 337 (<class 'int'>)\n",
      "state_a --> [{'step': 166}, {'x': 11953}, {'y': -4834}, {'hspeed': 73}, {'vspeed': -40}, {'fuel': -39}, {'angle': 0}, {'power': 4}, {'landed': 0}] (<class '__main__.State'>)\n",
      "state_a :> vspeed --> -39.860459774731254 (<class 'numpy.float64'>)\n",
      "( cost ) x> state_a :> fuel - >x x@ --> 376 (<class 'int'>)\n"
     ]
    }
   ],
   "source": [
    "# 把垂直方向的 vspeed 修正到目標速度\\\n",
    "state_a = copy.deepcopy(state)\n",
    "%f state_a -->\n",
    "%f xdropall state_a :> fuel >x x@ --> \n",
    "while state_a.vspeed < -VSpeed:\n",
    "    a = 0 - state_a.angle\n",
    "    a = min(a,15) if a >= 0 else max(a,-15)\n",
    "    state_a.next(a,1)\n",
    "%f state_a -->\n",
    "%f state_a :> vspeed -->\n",
    "%f ( cost ) x> state_a :> fuel - >x x@ -->\n"
   ]
  },
  {
   "cell_type": "code",
   "execution_count": 65,
   "metadata": {},
   "outputs": [
    {
     "name": "stdout",
     "output_type": "stream",
     "text": [
      "state_a :> hspeed dup --> 73.11571240113496 (<class 'numpy.float64'>)\n",
      "HSpeed --> 20 (<class 'int'>)\n",
      "abs HSpeed <= --> False (<class 'numpy.bool_'>)\n",
      "往右太快要用 +90 度全力噴火減速\n",
      "\n"
     ]
    }
   ],
   "source": [
    "# 檢查 hspeed\n",
    "%f state_a :> hspeed dup -->\n",
    "%f HSpeed -->\n",
    "%f abs HSpeed <= --> # 往右太快要用 +90 度全力噴火減速"
   ]
  },
  {
   "cell_type": "code",
   "execution_count": 66,
   "metadata": {},
   "outputs": [
    {
     "name": "stdout",
     "output_type": "stream",
     "text": [
      "state_a --> [{'step': 72}, {'x': 5081}, {'y': 189}, {'hspeed': 73}, {'vspeed': -67}, {'fuel': 337}, {'angle': -20}, {'power': 3}, {'landed': 0}] (<class '__main__.State'>)\n",
      "state_a :> fuel >x x@ --> 337 (<class 'int'>)\n",
      "state_a --> [{'step': 89}, {'x': 5927}, {'y': -1217}, {'hspeed': 17}, {'vspeed': -111}, {'fuel': 269}, {'angle': 90}, {'power': 4}, {'landed': 0}] (<class '__main__.State'>)\n",
      "state_a :> hspeed --> 17.139338752091703 (<class 'numpy.float64'>)\n",
      "( cost ) x> state_a :> fuel - dup --> 68 (<class 'int'>)\n",
      "( total cost ) x> + --> 444 (<class 'int'>)\n"
     ]
    }
   ],
   "source": [
    "# 把水平方向的 hspeed 修正到目標速度。正向速度過快要用 +90 角全力噴火減速，或反之。\n",
    "state_a = copy.deepcopy(state)\n",
    "%f state_a -->\n",
    "%f state_a :> fuel >x x@ --> \n",
    "while abs(state_a.hspeed) > HSpeed:\n",
    "    # a = 90 - state_a.angle\n",
    "    # a = min(a,15) if a >= 0 else max(a,-15)\n",
    "    state_a.next(15,1)\n",
    "%f state_a -->\n",
    "%f state_a :> hspeed -->\n",
    "%f ( cost ) x> state_a :> fuel - dup -->\n",
    "%f ( total cost ) x> + -->\n"
   ]
  },
  {
   "cell_type": "markdown",
   "metadata": {},
   "source": [
    "# 算算看墜毀前一步煞車的 cost\n",
    "臨時煞車對 round-off 取整數後的 hspeed vspeed 乍看沒有影響，其實 cost 還是有差，這表示 cost 算法好！"
   ]
  },
  {
   "cell_type": "code",
   "execution_count": 75,
   "metadata": {
    "tags": []
   },
   "outputs": [
    {
     "name": "stdout",
     "output_type": "stream",
     "text": [
      "( 還在空中 ) state --> [{'step': 72}, {'x': 5081}, {'y': 189}, {'hspeed': 73}, {'vspeed': -67}, {'fuel': 337}, {'angle': -20}, {'power': 3}, {'landed': 0}] (<class '__main__.State'>)\n",
      "( 墜毀了 ) state --> [{'step': 73}, {'x': 5154}, {'y': 123}, {'hspeed': 73}, {'vspeed': -67}, {'fuel': 333}, {'angle': -5}, {'power': 4}, {'landed': 1}] (<class '__main__.State'>)\n"
     ]
    }
   ],
   "source": [
    "state = State(**state0.__dict__)\n",
    "%f state :: next(-15,1) state :: next(-5,1) state :: next(0,1)\n",
    "for i in range(69):\n",
    "    state.next(0,0)\n",
    "%f ( 還在空中 ) state -->\n",
    "state.next(15,1)\n",
    "%f ( 墜毀了 ) state -->\n",
    "        "
   ]
  },
  {
   "cell_type": "code",
   "execution_count": 68,
   "metadata": {},
   "outputs": [
    {
     "name": "stdout",
     "output_type": "stream",
     "text": [
      "state_a --> [{'step': 73}, {'x': 5154}, {'y': 123}, {'hspeed': 73}, {'vspeed': -67}, {'fuel': 333}, {'angle': -5}, {'power': 4}, {'landed': 1}] (<class '__main__.State'>)\n",
      "這時候 vspeed -68 要調回 -40 以內； hspeed 74 要調回 20 以內\n",
      "\n"
     ]
    }
   ],
   "source": [
    "state_a = copy.deepcopy(state)\n",
    "%f state_a --> # 這時候 vspeed -68 要調回 -40 以內； hspeed 74 要調回 20 以內"
   ]
  },
  {
   "cell_type": "code",
   "execution_count": 69,
   "metadata": {},
   "outputs": [
    {
     "name": "stdout",
     "output_type": "stream",
     "text": [
      "state_a :> x --> 5153.519856293061 (<class 'numpy.float64'>)\n",
      "land :> [4] Vector :> (*pop()).x  --> 4000 (<class 'int'>)\n",
      "land :> [5] Vector :> (*pop()).x  --> 5500 (<class 'int'>)\n"
     ]
    },
    {
     "data": {
      "text/plain": [
       "True"
      ]
     },
     "execution_count": 69,
     "metadata": {},
     "output_type": "execute_result"
    }
   ],
   "source": [
    "# 水平位置可以了，不用罰\n",
    "%f state_a :> x -->\n",
    "%f land :> [4] Vector :> (*pop()).x  -->\n",
    "%f land :> [5] Vector :> (*pop()).x  -->\n",
    "state_a.x >= Vector(*land[4]).x and state_a.x <= Vector(*land[5]).x"
   ]
  },
  {
   "cell_type": "code",
   "execution_count": 70,
   "metadata": {},
   "outputs": [
    {
     "name": "stdout",
     "output_type": "stream",
     "text": [
      "state_a :> vspeed dup --> -66.73745977473139 (<class 'numpy.float64'>)\n",
      "VSpeed --> 40 (<class 'int'>)\n",
      "abs VSpeed <= --> False (<class 'numpy.bool_'>)\n",
      "一定是全力往上噴火降回 -VSpeed 以下 (>= -40)\n",
      "\n"
     ]
    }
   ],
   "source": [
    "# 檢查 vspeed\n",
    "%f state_a :> vspeed dup -->\n",
    "%f VSpeed -->\n",
    "%f abs VSpeed <= --> # 一定是全力往上噴火降回 -VSpeed 以下 (>= -40) "
   ]
  },
  {
   "cell_type": "code",
   "execution_count": 71,
   "metadata": {},
   "outputs": [
    {
     "name": "stdout",
     "output_type": "stream",
     "text": [
      "state_a --> [{'step': 73}, {'x': 5154}, {'y': 123}, {'hspeed': 73}, {'vspeed': -67}, {'fuel': 333}, {'angle': -5}, {'power': 4}, {'landed': 1}] (<class '__main__.State'>)\n",
      "xdropall state_a :> fuel >x x@ --> 333 (<class 'int'>)\n",
      "state_a --> [{'step': 166}, {'x': 11953}, {'y': -4834}, {'hspeed': 73}, {'vspeed': -40}, {'fuel': -39}, {'angle': 0}, {'power': 4}, {'landed': 0}] (<class '__main__.State'>)\n",
      "state_a :> vspeed --> -39.860459774731254 (<class 'numpy.float64'>)\n",
      "( cost ) x> state_a :> fuel - >x x@ --> 372 (<class 'int'>)\n"
     ]
    }
   ],
   "source": [
    "# 把垂直方向的 vspeed 修正到目標速度\n",
    "state_a = copy.deepcopy(state)\n",
    "%f state_a -->\n",
    "%f xdropall state_a :> fuel >x x@ --> \n",
    "while state_a.vspeed < -VSpeed:\n",
    "    a = 0 - state_a.angle\n",
    "    a = min(a,15) if a >= 0 else max(a,-15)\n",
    "    state_a.next(a,1)\n",
    "%f state_a -->\n",
    "%f state_a :> vspeed -->\n",
    "%f ( cost ) x> state_a :> fuel - >x x@ -->\n"
   ]
  },
  {
   "cell_type": "code",
   "execution_count": 72,
   "metadata": {},
   "outputs": [
    {
     "name": "stdout",
     "output_type": "stream",
     "text": [
      "state_a :> hspeed dup --> 73.11571240113496 (<class 'numpy.float64'>)\n",
      "HSpeed --> 20 (<class 'int'>)\n",
      "abs HSpeed <= --> False (<class 'numpy.bool_'>)\n",
      "往右太快要用 +90 度全力噴火減速\n",
      "\n"
     ]
    }
   ],
   "source": [
    "# 檢查 hspeed\n",
    "%f state_a :> hspeed dup -->\n",
    "%f HSpeed -->\n",
    "%f abs HSpeed <= --> # 往右太快要用 +90 度全力噴火減速"
   ]
  },
  {
   "cell_type": "code",
   "execution_count": 73,
   "metadata": {},
   "outputs": [
    {
     "name": "stdout",
     "output_type": "stream",
     "text": [
      "state_a --> [{'step': 73}, {'x': 5154}, {'y': 123}, {'hspeed': 73}, {'vspeed': -67}, {'fuel': 333}, {'angle': -5}, {'power': 4}, {'landed': 1}] (<class '__main__.State'>)\n",
      "state_a :> fuel >x x@ --> 333 (<class 'int'>)\n",
      "state_a --> [{'step': 89}, {'x': 5927}, {'y': -1217}, {'hspeed': 17}, {'vspeed': -111}, {'fuel': 269}, {'angle': 90}, {'power': 4}, {'landed': 0}] (<class '__main__.State'>)\n",
      "state_a :> hspeed --> 17.139338752091703 (<class 'numpy.float64'>)\n",
      "( cost ) x> state_a :> fuel - dup --> 64 (<class 'int'>)\n",
      "( total cost ) x> + --> 436 (<class 'int'>)\n"
     ]
    }
   ],
   "source": [
    "# 把水平方向的 hspeed 修正到目標速度。正向速度過快要用 +90 角全力噴火減速，或反之。\n",
    "state_a = copy.deepcopy(state)\n",
    "%f state_a -->\n",
    "%f state_a :> fuel >x x@ --> \n",
    "while abs(state_a.hspeed) > HSpeed:\n",
    "    # a = 90 - state_a.angle\n",
    "    # a = min(a,15) if a >= 0 else max(a,-15)\n",
    "    state_a.next(15,1)\n",
    "%f state_a -->\n",
    "%f state_a :> hspeed -->\n",
    "%f ( cost ) x> state_a :> fuel - dup -->\n",
    "%f ( total cost ) x> + -->\n"
   ]
  },
  {
   "cell_type": "code",
   "execution_count": null,
   "metadata": {},
   "outputs": [],
   "source": []
  },
  {
   "cell_type": "code",
   "execution_count": null,
   "metadata": {},
   "outputs": [],
   "source": []
  },
  {
   "cell_type": "code",
   "execution_count": null,
   "metadata": {},
   "outputs": [],
   "source": []
  },
  {
   "cell_type": "code",
   "execution_count": null,
   "metadata": {},
   "outputs": [],
   "source": []
  },
  {
   "cell_type": "code",
   "execution_count": null,
   "metadata": {},
   "outputs": [],
   "source": []
  },
  {
   "cell_type": "code",
   "execution_count": null,
   "metadata": {},
   "outputs": [],
   "source": []
  },
  {
   "cell_type": "code",
   "execution_count": null,
   "metadata": {},
   "outputs": [],
   "source": []
  },
  {
   "cell_type": "code",
   "execution_count": null,
   "metadata": {},
   "outputs": [],
   "source": []
  }
 ],
 "metadata": {
  "kernelspec": {
   "display_name": "Python 3",
   "language": "python",
   "name": "python3"
  },
  "language_info": {
   "codemirror_mode": {
    "name": "ipython",
    "version": 3
   },
   "file_extension": ".py",
   "mimetype": "text/x-python",
   "name": "python",
   "nbconvert_exporter": "python",
   "pygments_lexer": "ipython3",
   "version": "3.7.8"
  }
 },
 "nbformat": 4,
 "nbformat_minor": 4
}
