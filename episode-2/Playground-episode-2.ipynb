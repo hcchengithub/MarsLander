{
 "cells": [
  {
   "cell_type": "code",
   "execution_count": 1,
   "metadata": {},
   "outputs": [],
   "source": []
  },
  {
   "cell_type": "code",
   "execution_count": 14,
   "metadata": {},
   "outputs": [
    {
     "data": {
      "image/png": "[encoded data removed]",
      "text/plain": [
       "<Figure size 432x288 with 1 Axes>"
      ]
     },
     "metadata": {
      "needs_background": "light"
     },
     "output_type": "display_data"
    }
   ],
   "source": [
    "%matplotlib inline\n",
    "x = [0, 1000, 1500, 3000, 4000, 5500, 6999]\n",
    "y = [100, 500, 1500, 1000, 150, 150, 800]\n",
    "# plt.plot(x,y,'',thread[:,0],thread[:,1],'r',thread[-2:,0],thread[-2:,1],'rx');  # 這行等於以下三行，三個 args 一組。\n",
    "plt.plot(x,y,'')  # 地形\n",
    "plt.plot(np.array(state.trace)[:,0],np.array(state.trace)[:,1],'r')  # 整條 trace \n",
    "plt.plot(np.array(state.trace)[-2:,0],np.array(state.trace)[-2:,1],'rx');  # 最後兩點打上標記\n"
   ]
  },
  {
   "cell_type": "code",
   "execution_count": 1,
   "metadata": {},
   "outputs": [],
   "source": [
    "# path 太長好像 %run 不了，先到當地去 \"subst g: . \" 把整條 path 變成 x: 就好辦了\n",
    "!subst x: /d\n",
    "!subst x: \"c:\\Users\\8304018\\OneDrive\\文件\\Jupyter Notebooks\\Differences of np.dot and np.multiply\"\n",
    "%run x:\\How_to_check_if_two_line_segments_intersect.ipynb"
   ]
  },
  {
   "cell_type": "code",
   "execution_count": 2,
   "metadata": {},
   "outputs": [],
   "source": [
    "# A Python3 program to find if 2 given line segments intersect or not\n",
    "\n",
    "class Point:\n",
    "\tdef __init__(self, x, y):\n",
    "\t\tself.x = x\n",
    "\t\tself.y = y"
   ]
  },
  {
   "cell_type": "code",
   "execution_count": 3,
   "metadata": {},
   "outputs": [
    {
     "name": "stdout",
     "output_type": "stream",
     "text": [
      "No\n",
      "Yes\n",
      "No\n"
     ]
    }
   ],
   "source": [
    "# Driver program to test above functions:\n",
    "p1 = Point(1, 1)\n",
    "q1 = Point(10, 1)\n",
    "p2 = Point(1, 2)\n",
    "q2 = Point(10, 2)\n",
    "\n",
    "if doIntersect(p1, q1, p2, q2):\n",
    "\tprint(\"Yes\")\n",
    "else:\n",
    "\tprint(\"No\")\n",
    "\n",
    "p1 = Point(10, 0)\n",
    "q1 = Point(0, 10)\n",
    "p2 = Point(0, 0)\n",
    "q2 = Point(10,10)\n",
    "\n",
    "if doIntersect(p1, q1, p2, q2):\n",
    "\tprint(\"Yes\")\n",
    "else:\n",
    "\tprint(\"No\")\n",
    "\n",
    "p1 = Point(-5,-5)\n",
    "q1 = Point(0, 0)\n",
    "p2 = Point(1, 1)\n",
    "q2 = Point(10, 10)\n",
    "\n",
    "if doIntersect(p1, q1, p2, q2):\n",
    "\tprint(\"Yes\")\n",
    "else:\n",
    "\tprint(\"No\")\n",
    "\t\n",
    "# This code is contributed by Ansh Riyal"
   ]
  },
  {
   "cell_type": "code",
   "execution_count": null,
   "metadata": {},
   "outputs": [],
   "source": []
  },
  {
   "cell_type": "markdown",
   "metadata": {},
   "source": [
    "# 來到這裡，手動把 mars lander 的速度跟位置校正到符合標準"
   ]
  },
  {
   "cell_type": "code",
   "execution_count": 17,
   "metadata": {},
   "outputs": [
    {
     "name": "stdout",
     "output_type": "stream",
     "text": [
      "state_a --> [{'step': 73}, {'x': 5154}, {'y': 122}, {'hspeed': 74}, {'vspeed': -68}, {'fuel': 334}, {'angle': -20}, {'power': 3}, {'landed': 1}] (<class '__main__.State'>)\n",
      "這時候 vspeed -68 要調回 -40 以內； hspeed 74 要調回 20 以內\n",
      "\n"
     ]
    }
   ],
   "source": [
    "state_a = copy.deepcopy(state)\n",
    "%f state_a --> # 這時候 vspeed -68 要調回 -40 以內； hspeed 74 要調回 20 以內"
   ]
  },
  {
   "cell_type": "code",
   "execution_count": 18,
   "metadata": {},
   "outputs": [
    {
     "name": "stdout",
     "output_type": "stream",
     "text": [
      "state_a :> x --> 5153.858575022554 (<class 'numpy.float64'>)\n",
      "land :> [4] Vector :> (*pop()).x  --> 4000 (<class 'int'>)\n",
      "land :> [5] Vector :> (*pop()).x  --> 5500 (<class 'int'>)\n"
     ]
    },
    {
     "data": {
      "text/plain": [
       "True"
      ]
     },
     "execution_count": 18,
     "metadata": {},
     "output_type": "execute_result"
    }
   ],
   "source": [
    "# 水平位置可以了，不用罰\n",
    "%f state_a :> x -->\n",
    "%f land :> [4] Vector :> (*pop()).x  -->\n",
    "%f land :> [5] Vector :> (*pop()).x  -->\n",
    "state_a.x >= Vector(*land[4]).x and state_a.x <= Vector(*land[5]).x"
   ]
  },
  {
   "cell_type": "code",
   "execution_count": 19,
   "metadata": {},
   "outputs": [
    {
     "name": "stdout",
     "output_type": "stream",
     "text": [
      "state_a :> y --> 121.93191925097857 (<class 'numpy.float64'>)\n",
      "land :> [4] Vector :> (*pop()).y  --> 150 (<class 'int'>)\n",
      "land :> [5] Vector :> (*pop()).y  --> 150 (<class 'int'>)\n"
     ]
    },
    {
     "data": {
      "text/plain": [
       "False"
      ]
     },
     "execution_count": 19,
     "metadata": {},
     "output_type": "execute_result"
    }
   ],
   "source": [
    "# 還在空中嗎？因為觸地是整條 genome 的停止條件，故不必重複考慮。\n",
    "%f state_a :> y -->\n",
    "%f land :> [4] Vector :> (*pop()).y  -->\n",
    "%f land :> [5] Vector :> (*pop()).y  -->\n",
    "state_a.y >= Vector(*land[4]).y and state_a.y >= Vector(*land[5]).y"
   ]
  },
  {
   "cell_type": "code",
   "execution_count": 28,
   "metadata": {},
   "outputs": [
    {
     "name": "stdout",
     "output_type": "stream",
     "text": [
      "state_a :> vspeed dup --> -67.90316070474064 (<class 'numpy.float64'>)\n",
      "VSpeed --> 40 (<class 'int'>)\n",
      "abs VSpeed <= --> False (<class 'numpy.bool_'>)\n",
      "一定是全力往上噴火降回 -VSpeed 以下 (>= -40)\n",
      "\n"
     ]
    }
   ],
   "source": [
    "# 檢查 vspeed\n",
    "%f state_a :> vspeed dup -->\n",
    "%f VSpeed -->\n",
    "%f abs VSpeed <= --> # 一定是全力往上噴火降回 -VSpeed 以下 (>= -40) "
   ]
  },
  {
   "cell_type": "code",
   "execution_count": 49,
   "metadata": {},
   "outputs": [
    {
     "name": "stdout",
     "output_type": "stream",
     "text": [
      "state_a --> [{'step': 73}, {'x': 5154}, {'y': 122}, {'hspeed': 74}, {'vspeed': -68}, {'fuel': 334}, {'angle': -20}, {'power': 3}, {'landed': 1}] (<class '__main__.State'>)\n",
      "xdropall state_a :> fuel >x x@ --> 334 (<class 'int'>)\n",
      "state_a --> [{'step': 170}, {'x': 12345}, {'y': -5107}, {'hspeed': 74}, {'vspeed': -40}, {'fuel': -54}, {'angle': 0}, {'power': 4}, {'landed': 0}] (<class '__main__.State'>)\n",
      "state_a :> vspeed --> -39.88538191237352 (<class 'numpy.float64'>)\n",
      "( cost ) x> state_a :> fuel - >x x@ --> 388 (<class 'int'>)\n"
     ]
    }
   ],
   "source": [
    "# 把垂直方向的 vspeed 修正到目標速度\\\n",
    "state_a = copy.deepcopy(state)\n",
    "%f state_a -->\n",
    "%f xdropall state_a :> fuel >x x@ --> \n",
    "while state_a.vspeed < -VSpeed:\n",
    "    a = 0 - state_a.angle\n",
    "    a = min(a,15) if a >= 0 else max(a,-15)\n",
    "    state_a.next(a,1)\n",
    "%f state_a -->\n",
    "%f state_a :> vspeed -->\n",
    "%f ( cost ) x> state_a :> fuel - >x x@ -->\n"
   ]
  },
  {
   "cell_type": "code",
   "execution_count": 29,
   "metadata": {},
   "outputs": [
    {
     "name": "stdout",
     "output_type": "stream",
     "text": [
      "state_a :> hspeed dup --> 73.79314986012133 (<class 'numpy.float64'>)\n",
      "HSpeed --> 20 (<class 'int'>)\n",
      "abs HSpeed <= --> False (<class 'numpy.bool_'>)\n",
      "往右太快要用 +90 度全力噴火減速\n",
      "\n"
     ]
    }
   ],
   "source": [
    "# 檢查 hspeed\n",
    "%f state_a :> hspeed dup -->\n",
    "%f HSpeed -->\n",
    "%f abs HSpeed <= --> # 往右太快要用 +90 度全力噴火減速"
   ]
  },
  {
   "cell_type": "code",
   "execution_count": 50,
   "metadata": {},
   "outputs": [
    {
     "name": "stdout",
     "output_type": "stream",
     "text": [
      "state_a --> [{'step': 73}, {'x': 5154}, {'y': 122}, {'hspeed': 74}, {'vspeed': -68}, {'fuel': 334}, {'angle': -20}, {'power': 3}, {'landed': 1}] (<class '__main__.State'>)\n",
      "state_a :> fuel >x x@ --> 334 (<class 'int'>)\n",
      "state_a --> [{'step': 90}, {'x': 6018}, {'y': -1300}, {'hspeed': 18}, {'vspeed': -112}, {'fuel': 266}, {'angle': 90}, {'power': 4}, {'landed': 0}] (<class '__main__.State'>)\n",
      "state_a :> hspeed --> 18.16539918206871 (<class 'numpy.float64'>)\n",
      "( cost ) x> state_a :> fuel - dup --> 68 (<class 'int'>)\n",
      "( total cost ) x> + --> 456 (<class 'int'>)\n"
     ]
    }
   ],
   "source": [
    "# 把水平方向的 hspeed 修正到目標速度。正向速度過快要用 +90 角全力噴火減速，或反之。\n",
    "state_a = copy.deepcopy(state)\n",
    "%f state_a -->\n",
    "%f state_a :> fuel >x x@ --> \n",
    "while abs(state_a.hspeed) > HSpeed:\n",
    "    # a = 90 - state_a.angle\n",
    "    # a = min(a,15) if a >= 0 else max(a,-15)\n",
    "    state_a.next(15,1)\n",
    "%f state_a -->\n",
    "%f state_a :> hspeed -->\n",
    "%f ( cost ) x> state_a :> fuel - dup -->\n",
    "%f ( total cost ) x> + -->\n"
   ]
  },
  {
   "cell_type": "markdown",
   "metadata": {},
   "source": [
    "# 算算看墜毀前一步的 cost "
   ]
  },
  {
   "cell_type": "code",
   "execution_count": 60,
   "metadata": {
    "tags": []
   },
   "outputs": [
    {
     "name": "stdout",
     "output_type": "stream",
     "text": [
      "state --> [{'step': 72}, {'x': 5081}, {'y': 189}, {'hspeed': 73}, {'vspeed': -67}, {'fuel': 337}, {'angle': -20}, {'power': 3}, {'landed': 0}] (<class '__main__.State'>)\n"
     ]
    }
   ],
   "source": [
    "state = State(**state0.__dict__)\n",
    "%f state :: next(-15,1) state :: next(-5,1) state :: next(0,1)\n",
    "for i in range(69):\n",
    "    state.next(0,0)\n",
    "    if state.landed: \n",
    "        break       \n",
    "%f state -->\n",
    "        "
   ]
  },
  {
   "cell_type": "code",
   "execution_count": 61,
   "metadata": {},
   "outputs": [
    {
     "name": "stdout",
     "output_type": "stream",
     "text": [
      "state_a --> [{'step': 72}, {'x': 5081}, {'y': 189}, {'hspeed': 73}, {'vspeed': -67}, {'fuel': 337}, {'angle': -20}, {'power': 3}, {'landed': 0}] (<class '__main__.State'>)\n",
      "這時候 vspeed -68 要調回 -40 以內； hspeed 74 要調回 20 以內\n",
      "\n"
     ]
    }
   ],
   "source": [
    "state_a = copy.deepcopy(state)\n",
    "%f state_a --> # 這時候 vspeed -68 要調回 -40 以內； hspeed 74 要調回 20 以內"
   ]
  },
  {
   "cell_type": "code",
   "execution_count": 62,
   "metadata": {},
   "outputs": [
    {
     "name": "stdout",
     "output_type": "stream",
     "text": [
      "state_a :> x --> 5080.578455377421 (<class 'numpy.float64'>)\n",
      "land :> [4] Vector :> (*pop()).x  --> 4000 (<class 'int'>)\n",
      "land :> [5] Vector :> (*pop()).x  --> 5500 (<class 'int'>)\n"
     ]
    },
    {
     "data": {
      "text/plain": [
       "True"
      ]
     },
     "execution_count": 62,
     "metadata": {},
     "output_type": "execute_result"
    }
   ],
   "source": [
    "# 水平位置可以了，不用罰\n",
    "%f state_a :> x -->\n",
    "%f land :> [4] Vector :> (*pop()).x  -->\n",
    "%f land :> [5] Vector :> (*pop()).x  -->\n",
    "state_a.x >= Vector(*land[4]).x and state_a.x <= Vector(*land[5]).x"
   ]
  },
  {
   "cell_type": "code",
   "execution_count": 63,
   "metadata": {},
   "outputs": [
    {
     "name": "stdout",
     "output_type": "stream",
     "text": [
      "state_a :> vspeed dup --> -67.01123856709837 (<class 'numpy.float64'>)\n",
      "VSpeed --> 40 (<class 'int'>)\n",
      "abs VSpeed <= --> False (<class 'numpy.bool_'>)\n",
      "一定是全力往上噴火降回 -VSpeed 以下 (>= -40)\n",
      "\n"
     ]
    }
   ],
   "source": [
    "# 檢查 vspeed\n",
    "%f state_a :> vspeed dup -->\n",
    "%f VSpeed -->\n",
    "%f abs VSpeed <= --> # 一定是全力往上噴火降回 -VSpeed 以下 (>= -40) "
   ]
  },
  {
   "cell_type": "code",
   "execution_count": 64,
   "metadata": {},
   "outputs": [
    {
     "name": "stdout",
     "output_type": "stream",
     "text": [
      "state_a --> [{'step': 72}, {'x': 5081}, {'y': 189}, {'hspeed': 73}, {'vspeed': -67}, {'fuel': 337}, {'angle': -20}, {'power': 3}, {'landed': 0}] (<class '__main__.State'>)\n",
      "xdropall state_a :> fuel >x x@ --> 337 (<class 'int'>)\n",
      "state_a --> [{'step': 166}, {'x': 11953}, {'y': -4834}, {'hspeed': 73}, {'vspeed': -40}, {'fuel': -39}, {'angle': 0}, {'power': 4}, {'landed': 0}] (<class '__main__.State'>)\n",
      "state_a :> vspeed --> -39.860459774731254 (<class 'numpy.float64'>)\n",
      "( cost ) x> state_a :> fuel - >x x@ --> 376 (<class 'int'>)\n"
     ]
    }
   ],
   "source": [
    "# 把垂直方向的 vspeed 修正到目標速度\\\n",
    "state_a = copy.deepcopy(state)\n",
    "%f state_a -->\n",
    "%f xdropall state_a :> fuel >x x@ --> \n",
    "while state_a.vspeed < -VSpeed:\n",
    "    a = 0 - state_a.angle\n",
    "    a = min(a,15) if a >= 0 else max(a,-15)\n",
    "    state_a.next(a,1)\n",
    "%f state_a -->\n",
    "%f state_a :> vspeed -->\n",
    "%f ( cost ) x> state_a :> fuel - >x x@ -->\n"
   ]
  },
  {
   "cell_type": "code",
   "execution_count": 65,
   "metadata": {},
   "outputs": [
    {
     "name": "stdout",
     "output_type": "stream",
     "text": [
      "state_a :> hspeed dup --> 73.11571240113496 (<class 'numpy.float64'>)\n",
      "HSpeed --> 20 (<class 'int'>)\n",
      "abs HSpeed <= --> False (<class 'numpy.bool_'>)\n",
      "往右太快要用 +90 度全力噴火減速\n",
      "\n"
     ]
    }
   ],
   "source": [
    "# 檢查 hspeed\n",
    "%f state_a :> hspeed dup -->\n",
    "%f HSpeed -->\n",
    "%f abs HSpeed <= --> # 往右太快要用 +90 度全力噴火減速"
   ]
  },
  {
   "cell_type": "code",
   "execution_count": 66,
   "metadata": {},
   "outputs": [
    {
     "name": "stdout",
     "output_type": "stream",
     "text": [
      "state_a --> [{'step': 72}, {'x': 5081}, {'y': 189}, {'hspeed': 73}, {'vspeed': -67}, {'fuel': 337}, {'angle': -20}, {'power': 3}, {'landed': 0}] (<class '__main__.State'>)\n",
      "state_a :> fuel >x x@ --> 337 (<class 'int'>)\n",
      "state_a --> [{'step': 89}, {'x': 5927}, {'y': -1217}, {'hspeed': 17}, {'vspeed': -111}, {'fuel': 269}, {'angle': 90}, {'power': 4}, {'landed': 0}] (<class '__main__.State'>)\n",
      "state_a :> hspeed --> 17.139338752091703 (<class 'numpy.float64'>)\n",
      "( cost ) x> state_a :> fuel - dup --> 68 (<class 'int'>)\n",
      "( total cost ) x> + --> 444 (<class 'int'>)\n"
     ]
    }
   ],
   "source": [
    "# 把水平方向的 hspeed 修正到目標速度。正向速度過快要用 +90 角全力噴火減速，或反之。\n",
    "state_a = copy.deepcopy(state)\n",
    "%f state_a -->\n",
    "%f state_a :> fuel >x x@ --> \n",
    "while abs(state_a.hspeed) > HSpeed:\n",
    "    # a = 90 - state_a.angle\n",
    "    # a = min(a,15) if a >= 0 else max(a,-15)\n",
    "    state_a.next(15,1)\n",
    "%f state_a -->\n",
    "%f state_a :> hspeed -->\n",
    "%f ( cost ) x> state_a :> fuel - dup -->\n",
    "%f ( total cost ) x> + -->\n"
   ]
  },
  {
   "cell_type": "markdown",
   "metadata": {},
   "source": [
    "# 算算看墜毀前一步煞車的 cost\n",
    "臨時煞車對 round-off 取整數後的 hspeed vspeed 乍看沒有影響，其實 cost 還是有差，這表示 cost 算法好！"
   ]
  },
  {
   "cell_type": "code",
   "execution_count": 75,
   "metadata": {
    "tags": []
   },
   "outputs": [
    {
     "name": "stdout",
     "output_type": "stream",
     "text": [
      "( 還在空中 ) state --> [{'step': 72}, {'x': 5081}, {'y': 189}, {'hspeed': 73}, {'vspeed': -67}, {'fuel': 337}, {'angle': -20}, {'power': 3}, {'landed': 0}] (<class '__main__.State'>)\n",
      "( 墜毀了 ) state --> [{'step': 73}, {'x': 5154}, {'y': 123}, {'hspeed': 73}, {'vspeed': -67}, {'fuel': 333}, {'angle': -5}, {'power': 4}, {'landed': 1}] (<class '__main__.State'>)\n"
     ]
    }
   ],
   "source": [
    "state = State(**state0.__dict__)\n",
    "%f state :: next(-15,1) state :: next(-5,1) state :: next(0,1)\n",
    "for i in range(69):\n",
    "    state.next(0,0)\n",
    "%f ( 還在空中 ) state -->\n",
    "state.next(15,1)\n",
    "%f ( 墜毀了 ) state -->\n",
    "        "
   ]
  },
  {
   "cell_type": "code",
   "execution_count": 68,
   "metadata": {},
   "outputs": [
    {
     "name": "stdout",
     "output_type": "stream",
     "text": [
      "state_a --> [{'step': 73}, {'x': 5154}, {'y': 123}, {'hspeed': 73}, {'vspeed': -67}, {'fuel': 333}, {'angle': -5}, {'power': 4}, {'landed': 1}] (<class '__main__.State'>)\n",
      "這時候 vspeed -68 要調回 -40 以內； hspeed 74 要調回 20 以內\n",
      "\n"
     ]
    }
   ],
   "source": [
    "state_a = copy.deepcopy(state)\n",
    "%f state_a --> # 這時候 vspeed -68 要調回 -40 以內； hspeed 74 要調回 20 以內"
   ]
  },
  {
   "cell_type": "code",
   "execution_count": 69,
   "metadata": {},
   "outputs": [
    {
     "name": "stdout",
     "output_type": "stream",
     "text": [
      "state_a :> x --> 5153.519856293061 (<class 'numpy.float64'>)\n",
      "land :> [4] Vector :> (*pop()).x  --> 4000 (<class 'int'>)\n",
      "land :> [5] Vector :> (*pop()).x  --> 5500 (<class 'int'>)\n"
     ]
    },
    {
     "data": {
      "text/plain": [
       "True"
      ]
     },
     "execution_count": 69,
     "metadata": {},
     "output_type": "execute_result"
    }
   ],
   "source": [
    "# 水平位置可以了，不用罰\n",
    "%f state_a :> x -->\n",
    "%f land :> [4] Vector :> (*pop()).x  -->\n",
    "%f land :> [5] Vector :> (*pop()).x  -->\n",
    "state_a.x >= Vector(*land[4]).x and state_a.x <= Vector(*land[5]).x"
   ]
  },
  {
   "cell_type": "code",
   "execution_count": 70,
   "metadata": {},
   "outputs": [
    {
     "name": "stdout",
     "output_type": "stream",
     "text": [
      "state_a :> vspeed dup --> -66.73745977473139 (<class 'numpy.float64'>)\n",
      "VSpeed --> 40 (<class 'int'>)\n",
      "abs VSpeed <= --> False (<class 'numpy.bool_'>)\n",
      "一定是全力往上噴火降回 -VSpeed 以下 (>= -40)\n",
      "\n"
     ]
    }
   ],
   "source": [
    "# 檢查 vspeed\n",
    "%f state_a :> vspeed dup -->\n",
    "%f VSpeed -->\n",
    "%f abs VSpeed <= --> # 一定是全力往上噴火降回 -VSpeed 以下 (>= -40) "
   ]
  },
  {
   "cell_type": "code",
   "execution_count": 71,
   "metadata": {},
   "outputs": [
    {
     "name": "stdout",
     "output_type": "stream",
     "text": [
      "state_a --> [{'step': 73}, {'x': 5154}, {'y': 123}, {'hspeed': 73}, {'vspeed': -67}, {'fuel': 333}, {'angle': -5}, {'power': 4}, {'landed': 1}] (<class '__main__.State'>)\n",
      "xdropall state_a :> fuel >x x@ --> 333 (<class 'int'>)\n",
      "state_a --> [{'step': 166}, {'x': 11953}, {'y': -4834}, {'hspeed': 73}, {'vspeed': -40}, {'fuel': -39}, {'angle': 0}, {'power': 4}, {'landed': 0}] (<class '__main__.State'>)\n",
      "state_a :> vspeed --> -39.860459774731254 (<class 'numpy.float64'>)\n",
      "( cost ) x> state_a :> fuel - >x x@ --> 372 (<class 'int'>)\n"
     ]
    }
   ],
   "source": [
    "# 把垂直方向的 vspeed 修正到目標速度\n",
    "state_a = copy.deepcopy(state)\n",
    "%f state_a -->\n",
    "%f xdropall state_a :> fuel >x x@ --> \n",
    "while state_a.vspeed < -VSpeed:\n",
    "    a = 0 - state_a.angle\n",
    "    a = min(a,15) if a >= 0 else max(a,-15)\n",
    "    state_a.next(a,1)\n",
    "%f state_a -->\n",
    "%f state_a :> vspeed -->\n",
    "%f ( cost ) x> state_a :> fuel - >x x@ -->\n"
   ]
  },
  {
   "cell_type": "code",
   "execution_count": 72,
   "metadata": {},
   "outputs": [
    {
     "name": "stdout",
     "output_type": "stream",
     "text": [
      "state_a :> hspeed dup --> 73.11571240113496 (<class 'numpy.float64'>)\n",
      "HSpeed --> 20 (<class 'int'>)\n",
      "abs HSpeed <= --> False (<class 'numpy.bool_'>)\n",
      "往右太快要用 +90 度全力噴火減速\n",
      "\n"
     ]
    }
   ],
   "source": [
    "# 檢查 hspeed\n",
    "%f state_a :> hspeed dup -->\n",
    "%f HSpeed -->\n",
    "%f abs HSpeed <= --> # 往右太快要用 +90 度全力噴火減速"
   ]
  },
  {
   "cell_type": "code",
   "execution_count": 73,
   "metadata": {},
   "outputs": [
    {
     "name": "stdout",
     "output_type": "stream",
     "text": [
      "state_a --> [{'step': 73}, {'x': 5154}, {'y': 123}, {'hspeed': 73}, {'vspeed': -67}, {'fuel': 333}, {'angle': -5}, {'power': 4}, {'landed': 1}] (<class '__main__.State'>)\n",
      "state_a :> fuel >x x@ --> 333 (<class 'int'>)\n",
      "state_a --> [{'step': 89}, {'x': 5927}, {'y': -1217}, {'hspeed': 17}, {'vspeed': -111}, {'fuel': 269}, {'angle': 90}, {'power': 4}, {'landed': 0}] (<class '__main__.State'>)\n",
      "state_a :> hspeed --> 17.139338752091703 (<class 'numpy.float64'>)\n",
      "( cost ) x> state_a :> fuel - dup --> 64 (<class 'int'>)\n",
      "( total cost ) x> + --> 436 (<class 'int'>)\n"
     ]
    }
   ],
   "source": [
    "# 把水平方向的 hspeed 修正到目標速度。正向速度過快要用 +90 角全力噴火減速，或反之。\n",
    "state_a = copy.deepcopy(state)\n",
    "%f state_a -->\n",
    "%f state_a :> fuel >x x@ --> \n",
    "while abs(state_a.hspeed) > HSpeed:\n",
    "    # a = 90 - state_a.angle\n",
    "    # a = min(a,15) if a >= 0 else max(a,-15)\n",
    "    state_a.next(15,1)\n",
    "%f state_a -->\n",
    "%f state_a :> hspeed -->\n",
    "%f ( cost ) x> state_a :> fuel - dup -->\n",
    "%f ( total cost ) x> + -->\n"
   ]
  },
  {
   "cell_type": "code",
   "execution_count": null,
   "metadata": {},
   "outputs": [],
   "source": [
    "a = [1,2,3]\n"
   ]
  },
  {
   "cell_type": "code",
   "execution_count": 1,
   "metadata": {},
   "outputs": [
    {
     "name": "stdout",
     "output_type": "stream",
     "text": [
      "0\n",
      "1\n",
      "2\n",
      "3\n",
      "4\n"
     ]
    }
   ],
   "source": [
    "for i in range(5):\n",
    "    print(i)"
   ]
  },
  {
   "cell_type": "code",
   "execution_count": null,
   "metadata": {},
   "outputs": [],
   "source": []
  },
  {
   "cell_type": "code",
   "execution_count": 8,
   "metadata": {},
   "outputs": [
    {
     "name": "stdout",
     "output_type": "stream",
     "text": [
      "\n",
      "cr ( 「自由落體」 ) genome --> [[0, 0], [0, 0], [0, 0], [0, 0], [0, 0], [0, 0], [0, 0], [0, 0], [0, 0], [0, 0], [0, 0], [0, 0], [0, 0], [0, 0], [0, 0], [0, 0], [0, 0], [0, 0], [0, 0], [0, 0], [0, 0], [0, 0], [0, 0], [0, 0], [0, 0], [0, 0], [0, 0], [0, 0], [0, 0], [0, 0], [0, 0], [0, 0], [0, 0], [0, 0], [0, 0], [0, 0]] (<class 'list'>)\n",
      "last_state --> {'step': 36, 'x': 0, 'y': 95.2720000000003, 'hspeed': 0, 'vspeed': -133.59599999999998, 'fuel': 500, 'angle': 0, 'power': 0, 'force': -3.711} (<class '__main__.State'>)\n",
      "last_state cost_of_state :> (pop()) --> 1366 (<class 'int'>)\n",
      "\n",
      "cr ( 「全速飛走」 ) genome --> [[0, 1], [0, 1], [0, 1], [0, 1], [0, 1], [0, 1], [0, 1], [0, 1], [0, 1], [0, 1], [0, 1], [0, 1], [0, 1], [0, 1], [0, 1], [0, 1], [0, 1], [0, 1], [0, 1], [0, 1], [0, 1], [0, 1], [0, 1], [0, 1], [0, 1], [0, 1], [0, 1], [0, 1], [0, 1], [0, 1], [0, 1], [0, 1], [0, 1], [0, 1], [0, 1], [0, 1], [0, 1], [0, 1], [0, 1], [0, 1], [0, 1], [0, 1], [0, 1], [0, 1], [0, 1], [0, 1], [0, 1], [0, 1], [0, 1], [0, 1], [0, 1], [0, 1], [0, 1], [0, 1], [0, 1], [0, 1], [0, 1], [0, 1], [0, 1], [0, 1], [0, 1], [0, 1], [0, 1], [0, 1], [0, 1], [0, 1], [0, 1], [0, 1], [0, 1], [0, 1], [0, 1], [0, 1], [0, 1], [0, 1], [0, 1], [0, 1], [0, 1], [0, 1], [0, 1], [0, 1], [0, 1], [0, 1], [0, 1]] (<class 'list'>)\n",
      "last_state --> {'step': 83, 'x': 0, 'y': 3004.4604999999906, 'hspeed': 0, 'vspeed': 17.987000000000002, 'fuel': 174, 'angle': 0, 'power': 4, 'force': 0.28900000000000015} (<class '__main__.State'>)\n",
      "last_state cost_of_state :> (pop()) --> 1934 (<class 'int'>)\n",
      "\n"
     ]
    }
   ],
   "source": [
    "# 模擬試跑 genome. Genome 可能太長或不夠，傳回訂正好的 genome 以及最後 state  \n",
    "def simulate_of_genome(input_genome: GENOME) -> Tuple[GENOME,STATE]:\n",
    "    genome = copy.deepcopy(input_genome)  # make a copy to isolate the original\n",
    "    state = State(**state0.__dict__)  # init state for simulation\n",
    "    # 照 genome 跑到觸地、飛走、或油料耗盡時為止， genome 可能含有無效的長度要 cut 掉以免浪費時間嘗試。\n",
    "    for i in range(len(genome)): \n",
    "        state.next(*genome[i])  # run 1 step \n",
    "        if round(state.y,0) < Altitude or state.y > 3000 or state.fuel <= 0:  # 這高度、油料不能再繼續了\n",
    "            genome = genome[:i+1]  # 太長的尾巴切掉\n",
    "            break\n",
    "        \n",
    "    # 接續以上跑完 input genome 之後的 state 看看 input genome 是否太短需要補綴 genes 讓 lander 觸地。\n",
    "    while round(state.y,0) >= Altitude and state.y <= 3000 and state.fuel > 0:\n",
    "        genome.append(genome[-1][:])  # 注意！若不用 [:] slice copy 則 append 進去的都是同一個。gene 是個 shallow array 無誤，可以用 slice copy.        \n",
    "        state.next(*genome[-1])  # 簡單照抄最後一 step\n",
    "        \n",
    "    return genome,state  # 這個 return genome 是 input genome 的訂正版\n",
    "\n",
    "# 很妙，這產生「自由落體」的 genome 與最後 state \n",
    "genome, last_state = simulate_of_genome([[0,0]])\n",
    "%f cr ( 「自由落體」 ) genome -->\n",
    "%f last_state -->\n",
    "%f last_state cost_of_state :> (pop()) -->\n",
    "    \n",
    "# 而這產生「全速飛走」的 genome 與最後 state \n",
    "genome, last_state = simulate_of_genome([[0,1]])\n",
    "%f cr ( 「全速飛走」 ) genome -->\n",
    "%f last_state -->\n",
    "%f last_state cost_of_state :> (pop()) --> cr"
   ]
  },
  {
   "cell_type": "code",
   "execution_count": 9,
   "metadata": {},
   "outputs": [],
   "source": [
    "# fitness function \n",
    "# https://en.wikipedia.org/wiki/Hyperparameter_(machine_learning)   _*_\n",
    "verbose = False \n",
    "def sa(initial: GENOME) -> Tuple[GENOME,int,int] :\n",
    "    current = copy.deepcopy(initial)  # 咱 deep 不能用 [:]\n",
    "    current, current_last_state = simulate_of_genome(current)\n",
    "    current_cost = cost_of_state(current_last_state)\n",
    "    \n",
    "    temp = 17.0  # (1/50)*(2*fuel0)  # <---- [ ] Hyperparameter, 來自 Einstein's problem 的心得，取總分的 1/15 \n",
    "    num_iterations = 0\n",
    "\n",
    "    for i in range(1000):  # 若想安全降落為止，可能不如有限次數換個 epoch 試試運氣\n",
    "        neighbour = get_random_neighbour(current)\n",
    "        neighbour, neighbour_last_state = simulate_of_genome(neighbour)\n",
    "        neighbour_cost = cost_of_state(neighbour_last_state)\n",
    "        \n",
    "        cost_delta = neighbour_cost - current_cost\n",
    "        if cost_delta < 0:  # neighbour 較好，都接受。\n",
    "            current, current_cost, current_last_state = neighbour, neighbour_cost, neighbour_last_state\n",
    "            if verbose: print({\"cost\":current_cost, \"delta\":cost_delta, \"temperature\":round(temp,2), \"exp\": \"n/a\"})\n",
    "        elif cost_delta >= 0:  # 雖然 neighbour 不好，也偶而接受。\n",
    "            exp = math.exp(-cost_delta/temp) \n",
    "            if random.random() < exp:\n",
    "                current, current_cost, current_last_state = neighbour, neighbour_cost, neighbour_last_state\n",
    "                if verbose: print({\"cost\":current_cost, \"delta\":cost_delta, \"temperature\":round(temp,2), \"exp\": round(exp,2)})\n",
    "        else:  # 排除相等的狀況，不要浪費時間、debug 版面 <-- 錯！成績相等時 genome 不一定相等。\n",
    "               # 「相同」應該從 get_random_neighbour() 著手徹底排除。          \n",
    "            assert False, 'Impossible case' \n",
    "\n",
    "        num_iterations += 1\n",
    "        # if num_iterations % 10 == 0 and temp > 0.1:  # <---- [ ] Hyperparameter\n",
    "        #     temp -= 0.1  # <---- [ ] Hyperparameter\n",
    "        if abs(round(current_last_state.vspeed,0)) <= VSpeed and round(current_last_state.y,0) < Altitude:\n",
    "            temp = max(temp - 0.1,0) # 根據觀察 log 決定設計成約數十次到一百次之內降到零度\n",
    "            if verbose: print('B i n g o ! iterations:{} temperature:{} curent_cost:{}'.format(num_iterations, round(temp,3), current_cost))\n",
    "            if temp <= 0.01: break\n",
    "        \n",
    "    return current, num_iterations, current_cost, current_last_state"
   ]
  },
  {
   "cell_type": "code",
   "execution_count": 10,
   "metadata": {},
   "outputs": [],
   "source": [
    "def epoch(initial: GENOME=None):\n",
    "\n",
    "    genome: GENOME = [];\n",
    "    \n",
    "    # 有指定就用指定的，否則就用亂數產生一組啟始 genome\n",
    "    # random.seed(100)\n",
    "    if initial:  \n",
    "        genome = copy.deepcopy(initial); \n",
    "    else:  \n",
    "        for i in range(random.randint(1,100)): # 沒看過 genome 長度超過 100 的，多了無所謂會被自動切掉。\n",
    "            genome.append([0,random.randint(-1, 1)]) \n",
    "\n",
    "    genome, iterations, cost, state = sa(genome)\n",
    "\n",
    "    return (genome, iterations, cost, state)"
   ]
  },
  {
   "cell_type": "code",
   "execution_count": 11,
   "metadata": {
    "tags": []
   },
   "outputs": [
    {
     "name": "stdout",
     "output_type": "stream",
     "text": [
      "Epoch 0 best cost 231\n",
      "Epoch 20 best cost 186\n",
      "Epoch 40 best cost 175\n",
      "Epoch 60 best cost 175\n",
      "Epoch 80 best cost 175\n",
      "Epoch 99 best cost 175\n",
      "Done!\n"
     ]
    }
   ],
   "source": [
    "%f [] constant history \n",
    "\n",
    "if __name__ == \"__main__\":\n",
    "    best = epoch([[0,0]])  # (genome, iterations, cost, state)\n",
    "    for i in range(100):\n",
    "        result = epoch(best[0])  # (genome, iterations, cost, state)\n",
    "        if result[2] < best[2]:\n",
    "            best = result\n",
    "        if i % 20 == 0 :\n",
    "            print('Epoch {} best cost {}'.format(i,best[2]))\n",
    "        %f best history :: append(pop())\n",
    "    print('Epoch {} best cost {}'.format(i,best[2]))\n",
    "    print('Done!')\n"
   ]
  },
  {
   "cell_type": "code",
   "execution_count": null,
   "metadata": {},
   "outputs": [],
   "source": [
    "# 取 best result 的絕對 genome 去 web site 跑跑看， 500 - 最佳 cost 175 = 325 與結果一致無誤。  \n",
    "%f best :> [0] genome_to_command_list :> (pop()) --> "
   ]
  },
  {
   "cell_type": "code",
   "execution_count": null,
   "metadata": {},
   "outputs": [],
   "source": [
    "%%f\n",
    "\\ 這個實驗看來成績 cost 相同的 genome 都一樣！\n",
    "history ( genome, iterations, cost, state ) <py>\n",
    "    history = pop()\n",
    "    distribution = {}\n",
    "    for i in history:\n",
    "        try:\n",
    "            distribution[i[2]] += 1\n",
    "        except:\n",
    "            distribution.update({i[2]: 1})\n",
    "    print(distribution)\n",
    "    assert False\n",
    "    print('220','-'*30)\n",
    "    for i in history:\n",
    "        if i[2] == 220:\n",
    "            print(i[0])\n",
    "    print('221','-'*30)\n",
    "    for i in history:\n",
    "        if i[2] == 201:\n",
    "            print(i[0])\n",
    "    print('198','-'*30)\n",
    "    for i in history:\n",
    "        if i[2] == 198:\n",
    "            print(i[0])\n",
    "    print('187','-'*30)\n",
    "    for i in history:\n",
    "        if i[2] == 187:\n",
    "            print(i[0])\n",
    "    print('186','-'*30)\n",
    "    for i in history:\n",
    "        if i[2] == 186:\n",
    "            print(i[0])\n",
    "    print('183','-'*30)\n",
    "    for i in history:\n",
    "        if i[2] == 183:\n",
    "            print(i[0])\n",
    "</py> \n"
   ]
  },
  {
   "cell_type": "code",
   "execution_count": null,
   "metadata": {},
   "outputs": [],
   "source": []
  },
  {
   "cell_type": "code",
   "execution_count": null,
   "metadata": {},
   "outputs": [],
   "source": []
  },
  {
   "cell_type": "code",
   "execution_count": null,
   "metadata": {},
   "outputs": [],
   "source": []
  },
  {
   "cell_type": "code",
   "execution_count": null,
   "metadata": {},
   "outputs": [],
   "source": []
  },
  {
   "cell_type": "code",
   "execution_count": null,
   "metadata": {},
   "outputs": [],
   "source": []
  }
 ],
 "metadata": {
  "kernelspec": {
   "display_name": "Python 3",
   "language": "python",
   "name": "python3"
  },
  "language_info": {
   "codemirror_mode": {
    "name": "ipython",
    "version": 3
   },
   "file_extension": ".py",
   "mimetype": "text/x-python",
   "name": "python",
   "nbconvert_exporter": "python",
   "pygments_lexer": "ipython3",
   "version": "3.7.8"
  }
 },
 "nbformat": 4,
 "nbformat_minor": 4
}
