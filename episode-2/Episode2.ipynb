{
 "cells": [
  {
   "cell_type": "markdown",
   "metadata": {},
   "source": [
    "# [Mars Lander](https://www.codingame.com/ide/puzzle/mars-lander)\n",
    "\n",
    "My Ynote: \"Coding Games - Mars Lander\"<br>\n",
    "[Study \"Genetic Algorithm Implementation in Python\" with helps of peforth](https://github.com/hcchengithub/GeneticAlgorithmPython/blob/master/Genetic%20Algorithm%20Implementation%20in%20Python.ipynb)\n",
    "\n",
    "I didn't understand this game at first and that's a big concern to invest my time into developing the program. Thanks to [McKelian](https://www.codingame.com/forum/t/mars-the-game/756) and his [video game](http://www.mckelian.com/index.php/mars/choix) that mimics the Mars Lander puzzle.\n",
    "\n",
    "<img src=marslander.png>\n",
    "<img src=ControlPanel.png>\n",
    "\n",
    "### Goal \n",
    "- land on flat ground\n",
    "- land in a vertical position (tilt angle = 0°)\n",
    "- vertical speed must be limited ( ≤ 40m/s in absolute value)\n",
    "- horizontal speed must be limited ( ≤ 20m/s in absolute value)\n"
   ]
  },
  {
   "cell_type": "markdown",
   "metadata": {},
   "source": [
    "# 調製 Simulator 成功了！"
   ]
  },
  {
   "cell_type": "markdown",
   "metadata": {},
   "source": [
    "這套公式成功了。\n",
    "\n",
    "Initialize\n",
    "\n",
    "    thrust = 4    # the thrust command \n",
    "    rotate = 0    # the rotate command \n",
    "    a0 = 0        # absolute angle of the ship \n",
    "    pwr0 = 0      # 引擎出力\n",
    "    gravity = 3.711  # constant on Mars\n",
    "    p0 = v(2500, 2700)  # Initial position\n",
    "    s0 = v(0,0)     # Initial speed vector\n",
    "    g = angle2uv(-180) * gravity  # 重力向量\n",
    "    step = 0\n",
    "    \n",
    "Run\n",
    "\n",
    "    # f = m.a  因為 m 不變故當成 1 所以 f = a 也就是 force = g \n",
    "    # Duration t = 1 一步的時間都是 1 所以移動距離 s0 + (1/2)(force)(t^2) 變成 s0 + (1/2)*(force)\n",
    "    \n",
    "    step += 1\n",
    "\n",
    "    a1 = angle15(a0,rotate)  # 這一步的角度 \n",
    "    pwr1 = thrust_1(pwr0,thrust)  # 這一步的 引擎推力\n",
    "    force = g + angle2uv(a1) * pwr1   # force on the ship during this step \n",
    "    s1 = s0 + force  # 這一步將達到的速度 s0 + (delta time)(acceleration) \n",
    "                     # where delta time is 1, a is force as mentioned above.\n",
    "    p1 = p0 + s0 + (1/2)*(force)  # where \"s0 + (1/2)*(force)\" is position delta 這一步將到達的位置\n",
    "\n",
    "    %f step -->\n",
    "    %f a0 pwr0 -2 slice -->  # 上一步的 角度 與 引擎出力 0 1 2 3 4\n",
    "    %f a1 pwr1 -2 slice -->  # 作用在這一步上的 角度 與 引擎出力\n",
    "    %f force dup -->\n",
    "    %f ===>      # 重力 與 引擎出力 的合力向量\n",
    "    %f s1 ===>   # 這一步最後的速度\n",
    "    %f p1 ===>   # 這一步最後的位置\n",
    "\n",
    "    a0 = a1\n",
    "    pwr0 = pwr1\n",
    "    s0 = s1\n",
    "    p0 = p1"
   ]
  },
  {
   "cell_type": "markdown",
   "metadata": {},
   "source": [
    "# 寫出評分 function \n",
    "\n",
    "- 到達地表時的 位置、速度、角度、油料 決定得分。\n",
    "- 與平地的距離要越近越好。\n",
    "\n",
    "`[X]` 點到線的距離 `distance = np.cross(p2-p1,p3-p1)/np.linalg.norm(p2-p1)` where p2-p1 is the line and p3 is the point. \n",
    "\n",
    "`[ ]` 判斷著地的方法就很簡單了，用 ship 的位置來算與每個 surface 的距離，如果到了平地就是降落了，如果到了其他 surface 就是撞毀了。\n",
    "\n",
    "`[ ]` 降落平地還要看角度(0)、速度(20,40)，不對還是失敗。\n",
    "\n",
    "`[ ]` 降落平地之後，油料用得少決定勝負。\n",
    "\n",
    "1. Crashed 或 landed 得分都是與 flate ground 的直線距離 (越近越好) \n",
    "   與 B0 = np.linalg.norm(v(7000,3000)) 的差距，最高分就是這個值。\n",
    "\n",
    "2. landed 還有加分 bonus, 角度越接近 0 越好，Bonus 要比前一個分數高，使得 crash 完全沒得比。\n",
    "   角度是 -90~90 之間，故 +-90度得 B0 分，而 0度得 2B0 分，推導出: <br>\n",
    "    `bonus_angle(an) = 2B0 - (B0/90)*abs(an)`\n",
    "\n",
    "3. 水平速度要 20 以下，垂直速度要 40 以下。同上，水平速度 500 時得 B0 分，而 20 以下時得 2B0 分<br>\n",
    "    `bonus_sh(sh) = 2B0 - (B0/500)*abs(0 if sh<20 else sh)`<br>\n",
    "    `bonus_sv(sv) = 2B0 - (B0/500)*abs(0 if sv<40 else sv)`\n",
    "\n",
    "4. 如果三個都滿足，再加上 fuel 看剩多少。都用完了得 B0 分，都沒用得 2B0 分。\n",
    "\n",
    "    `bonus_fuel(fuel) = B0 + (B0/Fuel)*(fuel)`\n"
   ]
  },
  {
   "cell_type": "markdown",
   "metadata": {},
   "source": [
    "# Laboratory"
   ]
  },
  {
   "cell_type": "code",
   "execution_count": 1,
   "metadata": {},
   "outputs": [
    {
     "name": "stdout",
     "output_type": "stream",
     "text": [
      "reDef unknown\n",
      "reDef -->\n",
      "p e f o r t h    v1.24\n",
      "source code http://github.com/hcchengithub/peforth\n",
      "Type 'peforth.ok()' to enter forth interpreter, 'exit' to come back.\n",
      "\n"
     ]
    }
   ],
   "source": [
    "import numpy as np\n",
    "from typing import List, Optional, Callable, Tuple, Dict, Union  # OneNote2021 #_python_ #_typing_\n",
    "GENE = List[int]  # (rotate (-15 ~ +15),power (-1, 0, +1)) 避免無用的值域，下給 Web site 的 command 要轉換成 (rotate(-90 ~ +90), power(0,1,2,3,4))\n",
    "GENOME = List[GENE]  # Genome 是一個 list 裡面都是 int\n",
    "STATE = Dict[str,Union[int,float,np.array]]  # x,y,hspeed,power,.. etc \n",
    "\n",
    "# Get modules and peforth tools\n",
    "import random, json, math, copy, IPython\n",
    "from itertools import permutations  # permutations 數學「排列組合」中的「排列」\n",
    "\n",
    "%run forth.py"
   ]
  },
  {
   "cell_type": "code",
   "execution_count": 4,
   "metadata": {},
   "outputs": [],
   "source": [
    "\n",
    "# Mars Lander Episode-2\n",
    "\n",
    "import numpy as np\n",
    "import math, random\n",
    "\n",
    "\n",
    "# Utilities\n",
    "\n",
    "def v(x,y):\n",
    "    # vectorize to numpy array which is also a vector \n",
    "    return np.array([x,y])\n",
    "\n",
    "def uv(v):\n",
    "    # Normalize the given vector to an unit vector\n",
    "    # https://stackoverflow.com/questions/21030391/how-to-normalize-an-array-in-numpy\n",
    "    norm = np.linalg.norm(v)\n",
    "    return v if norm==0 else v/norm;\n",
    "\n",
    "def norm(v):\n",
    "    # length of a vector, where v (vector) is a np.array\n",
    "    return np.linalg.norm(v)\n",
    "\n",
    "def angle2uv(an):\n",
    "    # Convert the given absolute angle in degrees to a unit vector that represents the angle\n",
    "    an1 = np.deg2rad(an + 90)  # ? 90 ? Mars Lander ???????????????\n",
    "                               # ?? g ? Mars Lander ???????? -180 \n",
    "    return uv(v(math.cos(an1), math.sin(an1))) \n",
    "\n",
    "def angle15(a0,rotate):\n",
    "    # rotate command ??? absolute target angle ????? +-15??\n",
    "    if rotate > a0:\n",
    "        result = a0 + min(rotate-a0,15)\n",
    "    else :\n",
    "        result = a0 - min(a0-rotate,15)\n",
    "    return int(np.round(max(min(90,result),-90),0))\n",
    "\n",
    "def thrust_1(power,thrust):\n",
    "    # thrust_1 command ?? power ????? +1 or -1 \n",
    "    result = power\n",
    "    if thrust > power:\n",
    "        result += 1\n",
    "    if thrust < power:\n",
    "        result -= 1\n",
    "    return int(np.round(max(min(4,result),0),0))\n",
    "\n",
    "# Calculate the euclidian distance between an array of points to a line segment in Python without for loop\n",
    "# https://stackoverflow.com/questions/54442057/calculate-the-euclidian-distance-between-an-array-of-points-to-a-line-segment-in\n",
    "\n",
    "def lineseg_dists(p, a, b):\n",
    "    # where p is an array of points, a,b is the line segment\n",
    "    if np.all(a == b):\n",
    "        return np.linalg.norm(p - a, axis=1)\n",
    "\n",
    "    # normalized tangent vector\n",
    "    d = np.divide(b - a, np.linalg.norm(b - a))\n",
    "\n",
    "    # signed parallel distance components\n",
    "    s = np.dot(a - p, d)\n",
    "    t = np.dot(p - b, d)\n",
    "\n",
    "    # clamped parallel distance\n",
    "    h = np.maximum.reduce([s, t, np.zeros(len(p))])\n",
    "\n",
    "    # perpendicular distance component, as before\n",
    "    # note that for the 3D case these will be vectors\n",
    "    c = np.cross(p - a, d)\n",
    "\n",
    "    # use hypot for Pythagoras to improve accuracy\n",
    "    return np.hypot(h, c)\n",
    "\n",
    "\n",
    "# Constants \n",
    "\n",
    "land = [v(0,100), v(1000,500), v(1500,1500), v(3000,1000), \n",
    "        v(4000+500,150), v(5500-500,150),  # flate ground 要內縮一點，避免 ship 來到與相鄰 surface 的平分線上撞毀被誤判成降落到位。\n",
    "        v(6999,800)]\n",
    "\n",
    "flate = [i for i in range(len(land)-1) if land[i][1] == land[i+1][1]][0]  # flate ground left point index of land array \n",
    "fuel0 = 5501  # full tank \n",
    "p0 = v(2500, 2700)  # Initial position\n",
    "a0 = 0        # absolute angle of the ship \n",
    "pwr0 = 0      # 引擎出力\n",
    "s0 = v(0,0)   # Initial speed vector\n",
    "B0 = np.linalg.norm(v(7000,3000))  # bonus base \n",
    "gravity = 3.711  # constant on Mars\n",
    "g = angle2uv(-180) * gravity  # 重力向量\n",
    "\n",
    "    \n",
    "# Genetic Algorithm\n",
    "\n",
    "def crossover(spouse):\n",
    "    # spouse 有兩條 chromosome, 遍歷其中短的一條，輪流撿 gene 來組成子代，不夠的用長的續接。\n",
    "    # 傳回值是子代的 chromosome\n",
    "    if len(spouse[0][1]) >= len(spouse[1][1]): longer, shorter = spouse[0][1], spouse[1][1]\n",
    "    else: longer, shorter = spouse[1][1], spouse[0][1]\n",
    "    shorter_len = len(shorter)\n",
    "    cross = []\n",
    "    for i in range(shorter_len): \n",
    "        cross.append(spouse[i%2][1][i])\n",
    "    return cross + longer[i+1:]\n",
    "\n",
    "# 光用 crossover 才兩代就到了「高原」不會再進步了，這麼快！所以要加上 mutation 才行。參考 Study \"Genetic Algorithm Implementation in Python\" with helps of peforth 學到了這個方法\n",
    "# np.random.uniform(-15, 15, 1)  \n",
    "# np.random.uniform(-1, 1, 1)  \n",
    "# 本來的加上這個亂數就是 mutation 了！我想只給子代的加上 mutation 以防破壞到好的父代。\n",
    "\n",
    "# 基因突變 \n",
    "def mutation(gene):\n",
    "    # mutation happens on a gene\n",
    "    delta_rotate = np.random.uniform(-15, 15, 1)  \n",
    "    delta_power  = np.random.uniform(-1, 1, 1)  \n",
    "    return (gene[0] + delta_rotate, gene[1] + delta_power)\n",
    "\n",
    "\n",
    "# The Mars shuttle lander\n",
    "# 做出一個 class 叫作 Ship, 有油料、位置、速度、角度、引擎出力、軌跡、\n",
    "# 從開始到落地的一長串 chromosome 也就是一長串的基因 genes (rotate,power)、\n",
    "# 還有 score。\n",
    "\n",
    "class Ship:\n",
    "    def __init__(self, p0, s0, a0, pwr0, fuel0):\n",
    "        self.inTheAir = True\n",
    "        self.fuel0 = self.fuel = fuel0\n",
    "        self.p0 = p0\n",
    "        self.s0 = s0\n",
    "        self.a0 = a0\n",
    "        self.pwr0 = pwr0\n",
    "        self.trace = []\n",
    "        self.chromosome = []\n",
    "        self.score = 0\n",
    "        \n",
    "    def make_score(self):\n",
    "        distances = [lineseg_dists([self.p0], land[i], land[i+1])[0] for i in range(len(land)-1)]  # 與所有 surface 的距離\n",
    "        peforth.bp(1,locals())\n",
    "        shortest = np.argmin(distances)  # 最小的 index \n",
    "        self.inTheAir = (0 <= np.cross(land[shortest+1]-land[shortest],np.round(self.p0,0)-land[shortest+1]))\n",
    "                        # 這裡要 大於/等於 0 而不是只 大於 0 ，這純粹是看 CodinGame 怎麼寫法。\n",
    "        self.score = B0 - distances[flate]  # distance to target \n",
    "        # assert self.p0[1] > 200, \"close to the problem point\"\n",
    "        if not self.inTheAir:\n",
    "            if shortest != flate : self.score = -1  # 撞毀了\n",
    "            else:\n",
    "                # bonus1 已經降落目的地，通通有獎\n",
    "                self.score += B0 + 40000  # 速度各減 20000 假設最高速 200 的平方  \n",
    "                # bonus2 angle the smaller the better \n",
    "                self.score -= (B0/90)*abs(self.a0)\n",
    "                # bonus3 horizantal speed < 20, virtical speed < 40\n",
    "                self.score += B0 if abs(self.s0[0]) < 20 else -abs(self.s0[0])**2\n",
    "                self.score += B0 if abs(self.s0[1]) < 40 else -abs(self.s0[1])**2\n",
    "                assert self.score > 0 , \"Assertion error! too much speed penalty !\"\n",
    "                # bonus4 remaining fuel the more the better\n",
    "                self.score += self.fuel # 不到時候去太強調省油\n",
    "        \n",
    "    def move(self, rotate, thrust):\n",
    "        a1 = angle15(self.a0,rotate)  # 這一步的角度 \n",
    "        pwr1 = thrust_1(self.pwr0,thrust)  # 這一步的 引擎推力\n",
    "        force = g + angle2uv(a1) * pwr1   # force on the ship during this step \n",
    "        s1 = self.s0 + force  # 這一步將達到的速度\n",
    "        p1 = self.p0 + self.s0 + (1/2)*(force)  # where \"s0 + (1/2)*(force)\" is position delta 這一步將到達的位置\n",
    "        self.fuel -= pwr1\n",
    "        self.a0 = a1\n",
    "        self.pwr0 = pwr1\n",
    "        self.s0 = s1\n",
    "        self.p0 = p1\n",
    "        self.chromosome.append([a1,pwr1])  # 這一步的 command 就是這一步的 gene \n",
    "        self.trace.append(p1)  # 這一步走完到達的新位置\n",
    "        assert pwr1 <=4 and pwr1 >=0 , \"Assertion error! 引擎推力超過範圍了！(0~4 之間)\"\n",
    "        assert a1 <=90 and a1 >=-90 , \"Assertion error! 小艇角度超過範圍了！(-90~90度之間)\"\n",
    "    \n",
    "    def obsoleted_random_step(self):\n",
    "        # return the score after this step\n",
    "        a1 = angle15(self.a0, self.a0 + random.randint(-15, 15))  # 這一步的角度 0~15 之間亂轉\n",
    "        pwr1 = thrust_1(self.pwr0, self.pwr0 + random.randint(-1,1))  # 這一步的 引擎推力 -1 0 1 亂選\n",
    "        self.move(a1, pwr1)\n",
    "        # 結果 self.score = -1 表示已經飛出範圍。\n",
    "        if (self.p0[1] < 0) or (self.p0[0] < 0) or (self.p0[0] > 7000) :  # higher than 3000 is allowed\n",
    "            self.score = -1\n",
    "        else:\n",
    "            self.make_score()\n",
    "    \n",
    "    def explore(self):\n",
    "        # 用亂數摸索出到達 flate ground 的一條 chromosome\n",
    "        while(True):\n",
    "            a1 = angle15(self.a0, self.a0 + random.randint(-15, 15))  # 這一步的角度 0~15 之間亂轉\n",
    "            pwr1 = thrust_1(self.pwr0, self.pwr0 + random.randint(-1,1))  # 這一步的 引擎推力 -1 0 1 亂選\n",
    "            self.move(a1, pwr1)\n",
    "            if (self.p0[1] < 0) or (self.p0[0] < 0) or (self.p0[0] > 7000) :  # higher than 3000 is allowed\n",
    "                # 結果 self.score = -1 表示已經飛出範圍。\n",
    "                self.score = -1\n",
    "            else:\n",
    "                self.make_score()\n",
    "            if self.score < 0 or not self.inTheAir: \n",
    "                # 用亂數摸索出到達 flate ground 的一條 chromosome 為止。\n",
    "                break\n",
    "\n",
    "    def evaluate(self, chromosome):\n",
    "        # 給這條 chromosome 打分數\n",
    "        # 若怕用完了還在空中，可重複最後一個命令很多次，或用亂數先加很長很長再送進來試驗。\n",
    "        # 傳回值是這條 chromosome 的有效長度\n",
    "        \n",
    "        for i in range(len(chromosome)):\n",
    "            self.move(chromosome[i][0], chromosome[i][1])\n",
    "            if (self.p0[1] < 0) or (self.p0[0] < 0) or (self.p0[0] > 7000) :  # higher than 3000 is allowed\n",
    "                # 結果 self.score = -1 表示已經飛出範圍。\n",
    "                self.score = -1\n",
    "            else:\n",
    "                self.make_score()\n",
    "            if self.score < 0 or not self.inTheAir: \n",
    "                break\n",
    "        return i  # lengh of this chromosome\n"
   ]
  },
  {
   "cell_type": "markdown",
   "metadata": {},
   "source": [
    "### 做出一個 class 叫作 Ship \n",
    "有油料、位置、速度、角度、引擎出力、軌跡、從開始到落地的一長串 chromosome 也就是一長串的基因 genes (rotate,power) 、還有 score。\n",
    "\n",
    "先亂撒一組命令 > get the distance if alives then repeat else if crash then record the final distance (to the flate ground) as its score. 嘗試的過程不評分，要撞毀了或落地了才評分。\n",
    "如果 parent 都撞毀了，誰好? 簡化地形為 surface 一律朝上，則越接近 flate ground 的就是越好。若有凹洞, 也就是 surface 有朝下時，要另外想辦法。如果 parent 都撞毀了，但是其子代 gene 都用完了還 inTheAir 就要自己用亂數探索自己的前途，最終要撞毀了或落地了才評分這個子代。經過 crossover and mutation 或單純的 exploration 都一定會跑出雜枝，不影響評分與演化過程因為會被 ship.move() 修正好。\n"
   ]
  },
  {
   "cell_type": "code",
   "execution_count": 5,
   "metadata": {},
   "outputs": [
    {
     "name": "stdout",
     "output_type": "stream",
     "text": [
      "1>"
     ]
    },
    {
     "name": "stdin",
     "output_type": "stream",
     "text": [
      " distances -->\n"
     ]
    },
    {
     "name": "stdout",
     "output_type": "stream",
     "text": [
      "distances --> [2661.1725315883314, 1560.6249526648771, 1452.8874418179216, 1770.224489402474, 3239.2962805029506, 3569.739541322343] (<class 'list'>)\n",
      "1>"
     ]
    },
    {
     "name": "stdin",
     "output_type": "stream",
     "text": [
      " self :> p0 -->\n"
     ]
    },
    {
     "name": "stdout",
     "output_type": "stream",
     "text": [
      "self :> p0 --> [2500.     2698.1445] (<class 'numpy.ndarray'>)\n",
      "1>"
     ]
    },
    {
     "name": "stdin",
     "output_type": "stream",
     "text": [
      " land -->\n"
     ]
    },
    {
     "name": "stdout",
     "output_type": "stream",
     "text": [
      "land --> [array([  0, 100]), array([1000,  500]), array([1500, 1500]), array([3000, 1000]), array([4500,  150]), array([5000,  150]), array([6999,  800])] (<class 'list'>)\n",
      "1>"
     ]
    },
    {
     "name": "stdin",
     "output_type": "stream",
     "text": [
      " .s\n"
     ]
    },
    {
     "name": "stdout",
     "output_type": "stream",
     "text": [
      "empty\n",
      "\n",
      "1>"
     ]
    },
    {
     "name": "stdin",
     "output_type": "stream",
     "text": [
      " paste\n"
     ]
    },
    {
     "name": "stdout",
     "output_type": "stream",
     "text": [
      "\n",
      "Failed in compyle command : unexpected indent (<string>, line 3)\n",
      "Body:\n",
      "    np = pop()\n",
      "    \tp3 = np.array([2500,2698.1445])\n",
      "    p1 = np.array([0,100])\n",
      "    \tp2 = np.array([1000,500])\n",
      "    \tdistance = np.cross(p2-p1,p3-p1)/np.linalg.norm(p2-p1)\n",
      "    \tpush(distance)\n",
      "\n",
      "Failed in </py> (compiling=False): 'module' object is not callable\n",
      "Body:\n",
      "np = pop()\n",
      "\tp3 = np.array([2500,2698.1445])\n",
      "p1 = np.array([0,100])\n",
      "\tp2 = np.array([1000,500])\n",
      "\tdistance = np.cross(p2-p1,p3-p1)/np.linalg.norm(p2-p1) \n",
      "\tpush(distance)\n",
      "\n",
      "1>"
     ]
    },
    {
     "name": "stdin",
     "output_type": "stream",
     "text": [
      " paste\n"
     ]
    },
    {
     "name": "stdout",
     "output_type": "stream",
     "text": [
      "\n",
      "Failed in compyle command : unindent does not match any outer indentation level (<string>, line 4)\n",
      "Body:\n",
      "    \tnp = pop()\n",
      "    \tp3 = np.array([2500,2698.1445])\n",
      "    p1 = np.array([0,100])\n",
      "    \tp2 = np.array([1000,500])\n",
      "    \tdistance = np.cross(p2-p1,p3-p1)/np.linalg.norm(p2-p1)\n",
      "    \tpush(distance)\n",
      "\n",
      "Failed in </py> (compiling=False): 'module' object is not callable\n",
      "Body:\n",
      "\n",
      "\tnp = pop()\n",
      "\tp3 = np.array([2500,2698.1445])\n",
      "p1 = np.array([0,100])\n",
      "\tp2 = np.array([1000,500])\n",
      "\tdistance = np.cross(p2-p1,p3-p1)/np.linalg.norm(p2-p1) \n",
      "\tpush(distance)\n",
      "\t\n",
      "1>"
     ]
    },
    {
     "name": "stdin",
     "output_type": "stream",
     "text": [
      " \n"
     ]
    },
    {
     "name": "stdout",
     "output_type": "stream",
     "text": [
      "1>"
     ]
    },
    {
     "name": "stdin",
     "output_type": "stream",
     "text": [
      " \n"
     ]
    },
    {
     "name": "stdout",
     "output_type": "stream",
     "text": [
      "1>"
     ]
    },
    {
     "name": "stdin",
     "output_type": "stream",
     "text": [
      " \n"
     ]
    },
    {
     "name": "stdout",
     "output_type": "stream",
     "text": [
      "1>"
     ]
    },
    {
     "name": "stdin",
     "output_type": "stream",
     "text": [
      " \n"
     ]
    },
    {
     "name": "stdout",
     "output_type": "stream",
     "text": [
      "1>"
     ]
    },
    {
     "name": "stdin",
     "output_type": "stream",
     "text": [
      " paste\n"
     ]
    },
    {
     "name": "stdout",
     "output_type": "stream",
     "text": [
      "\n",
      "Failed in compyle command : unindent does not match any outer indentation level (<string>, line 4)\n",
      "Body:\n",
      "    \tnp = pop()\n",
      "    \tp3 = np.array([2500,2698.1445])\n",
      "    p1 = np.array([0,100])\n",
      "    \tp2 = np.array([1000,500])\n",
      "    \tdistance = np.cross(p2-p1,p3-p1)/np.linalg.norm(p2-p1)\n",
      "    \tpush(distance)\n",
      "\n",
      "Failed in </py> (compiling=False): 'module' object is not callable\n",
      "Body:\n",
      "\n",
      "\tnp = pop()\n",
      "\tp3 = np.array([2500,2698.1445])\n",
      "p1 = np.array([0,100])\n",
      "\tp2 = np.array([1000,500])\n",
      "\tdistance = np.cross(p2-p1,p3-p1)/np.linalg.norm(p2-p1) \n",
      "\tpush(distance)\n",
      "\t\n",
      "1>"
     ]
    },
    {
     "name": "stdin",
     "output_type": "stream",
     "text": [
      " paste\n"
     ]
    },
    {
     "name": "stdout",
     "output_type": "stream",
     "text": [
      "</py> --> 1483.8399169164773 (<class 'numpy.float64'>)\n",
      "1>"
     ]
    },
    {
     "name": "stdin",
     "output_type": "stream",
     "text": [
      " \n"
     ]
    },
    {
     "name": "stdout",
     "output_type": "stream",
     "text": [
      "1>"
     ]
    },
    {
     "name": "stdin",
     "output_type": "stream",
     "text": [
      " \n"
     ]
    },
    {
     "name": "stdout",
     "output_type": "stream",
     "text": [
      "1>"
     ]
    },
    {
     "name": "stdin",
     "output_type": "stream",
     "text": [
      " \n"
     ]
    },
    {
     "name": "stdout",
     "output_type": "stream",
     "text": [
      "1>"
     ]
    },
    {
     "name": "stdin",
     "output_type": "stream",
     "text": [
      " \n"
     ]
    },
    {
     "name": "stdout",
     "output_type": "stream",
     "text": [
      "1>"
     ]
    },
    {
     "name": "stdin",
     "output_type": "stream",
     "text": [
      " paste\n"
     ]
    },
    {
     "name": "stdout",
     "output_type": "stream",
     "text": [
      "0 443.23948466920734\n",
      "1>"
     ]
    },
    {
     "name": "stdin",
     "output_type": "stream",
     "text": [
      " \n"
     ]
    },
    {
     "name": "stdout",
     "output_type": "stream",
     "text": [
      "1>"
     ]
    },
    {
     "name": "stdin",
     "output_type": "stream",
     "text": [
      " \n"
     ]
    },
    {
     "name": "stdout",
     "output_type": "stream",
     "text": [
      "1>"
     ]
    },
    {
     "name": "stdin",
     "output_type": "stream",
     "text": [
      " \n"
     ]
    },
    {
     "name": "stdout",
     "output_type": "stream",
     "text": [
      "1>"
     ]
    },
    {
     "name": "stdin",
     "output_type": "stream",
     "text": [
      " paste\n"
     ]
    },
    {
     "name": "stdout",
     "output_type": "stream",
     "text": [
      "0 1483.8399169164773\n",
      "1 -358.6006812264165\n",
      "2 1452.8874418179216\n",
      "3 1230.9171037863587\n",
      "4 2548.1445\n",
      "5 3196.3211733320236\n",
      "\n",
      "Failed in </py> (compiling=False): list index out of range\n",
      "Body:\n",
      "\n",
      "np = pop()\n",
      "p0 = np.array([2500.,2698.1445])\n",
      "land = [np.array([  0, 100]), np.array([1000,  500]), np.array([1500, 1500]), np.array([3000, 1000]), np.array([4500,  150]), np.array([5000,  150]), np.array([6999,  800])]\n",
      "for i in range(len(land)):\n",
      "    p1 = land[i]\n",
      "    p2 = land[i+1]\n",
      "    distance = np.cross(p2-p1,p0-p1)/np.linalg.norm(p2-p1) \n",
      "    print(i, distance)\n",
      "\n",
      "1>"
     ]
    },
    {
     "name": "stdin",
     "output_type": "stream",
     "text": [
      " \n"
     ]
    },
    {
     "name": "stdout",
     "output_type": "stream",
     "text": [
      "1>"
     ]
    },
    {
     "name": "stdin",
     "output_type": "stream",
     "text": [
      " \n"
     ]
    },
    {
     "name": "stdout",
     "output_type": "stream",
     "text": [
      "1>"
     ]
    },
    {
     "name": "stdin",
     "output_type": "stream",
     "text": [
      " \n"
     ]
    },
    {
     "name": "stdout",
     "output_type": "stream",
     "text": [
      "1>"
     ]
    },
    {
     "name": "stdin",
     "output_type": "stream",
     "text": [
      " \n"
     ]
    },
    {
     "name": "stdout",
     "output_type": "stream",
     "text": [
      "1>"
     ]
    },
    {
     "name": "stdin",
     "output_type": "stream",
     "text": [
      " paste\n"
     ]
    },
    {
     "name": "stdout",
     "output_type": "stream",
     "text": [
      "0 1483.8399169164773\n",
      "1 -358.6006812264165\n",
      "2 1452.8874418179216\n",
      "3 1230.9171037863587\n",
      "4 2548.1445\n",
      "5 3196.3211733320236\n",
      "1>"
     ]
    },
    {
     "name": "stdin",
     "output_type": "stream",
     "text": [
      " \n"
     ]
    },
    {
     "name": "stdout",
     "output_type": "stream",
     "text": [
      "1>"
     ]
    },
    {
     "name": "stdin",
     "output_type": "stream",
     "text": [
      " \n"
     ]
    },
    {
     "name": "stdout",
     "output_type": "stream",
     "text": [
      "1>"
     ]
    },
    {
     "name": "stdin",
     "output_type": "stream",
     "text": [
      " \n"
     ]
    },
    {
     "name": "stdout",
     "output_type": "stream",
     "text": [
      "1>"
     ]
    },
    {
     "name": "stdin",
     "output_type": "stream",
     "text": [
      " \n"
     ]
    },
    {
     "name": "stdout",
     "output_type": "stream",
     "text": [
      "1>"
     ]
    },
    {
     "name": "stdin",
     "output_type": "stream",
     "text": [
      " paste\n"
     ]
    },
    {
     "name": "stdout",
     "output_type": "stream",
     "text": [
      "0 1576.6875860050034\n",
      "1 -1029.4210744763534\n",
      "2 3350.254037918949\n",
      "3 3579.977005577612\n",
      "4 2698.1445\n",
      "5 1792.8399091623655\n",
      "1>"
     ]
    },
    {
     "name": "stdin",
     "output_type": "stream",
     "text": [
      " paste\n"
     ]
    },
    {
     "name": "stdout",
     "output_type": "stream",
     "text": [
      "-3.0\n",
      "1>"
     ]
    },
    {
     "name": "stdin",
     "output_type": "stream",
     "text": [
      " paste\n"
     ]
    },
    {
     "name": "stdout",
     "output_type": "stream",
     "text": [
      "-3.0\n",
      "1>"
     ]
    },
    {
     "name": "stdin",
     "output_type": "stream",
     "text": [
      " paste\n"
     ]
    },
    {
     "name": "stdout",
     "output_type": "stream",
     "text": [
      "4.0\n",
      "1>"
     ]
    },
    {
     "name": "stdin",
     "output_type": "stream",
     "text": [
      " paste\n"
     ]
    },
    {
     "name": "stdout",
     "output_type": "stream",
     "text": [
      "4.0\n",
      "1>"
     ]
    },
    {
     "name": "stdin",
     "output_type": "stream",
     "text": [
      " paste\n"
     ]
    },
    {
     "name": "stdout",
     "output_type": "stream",
     "text": [
      "-3.0\n",
      "1>"
     ]
    },
    {
     "name": "stdin",
     "output_type": "stream",
     "text": [
      " paste\n"
     ]
    },
    {
     "name": "stdout",
     "output_type": "stream",
     "text": [
      "3.0\n",
      "1>"
     ]
    },
    {
     "name": "stdin",
     "output_type": "stream",
     "text": [
      " exit\n"
     ]
    },
    {
     "name": "stdout",
     "output_type": "stream",
     "text": [
      "1>1>"
     ]
    },
    {
     "name": "stdin",
     "output_type": "stream",
     "text": [
      " bd* exit\n"
     ]
    },
    {
     "name": "stdout",
     "output_type": "stream",
     "text": [
      "1>0 trial count 55\n",
      "[[-5, 1], [-11, 2], [-7, 1], [-22, 1], [-32, 2], [-26, 3], [-18, 3], [-22, 4], [-35, 4], [-50, 4], [-38, 4], [-45, 4], [-33, 4], [-43, 4], [-53, 3], [-64, 2], [-62, 2], [-59, 1], [-64, 1], [-71, 0], [-64, 1], [-71, 2], [-66, 3], [-66, 3], [-61, 3], [-67, 3], [-66, 2], [-71, 3], [-80, 4], [-90, 4], [-90, 3], [-90, 2], [-90, 3], [-90, 4], [-88, 4], [-83, 4], [-83, 4], [-73, 4], [-79, 4], [-90, 3], [-90, 2], [-80, 1], [-87, 2], [-74, 2], [-89, 2], [-86, 3], [-90, 3], [-90, 4], [-90, 3]]\n",
      "score 23303.153974419554\n",
      "\n",
      "1 trial count 15\n",
      "[[-10, 0], [-8, 1], [-11, 1], [-19, 1], [-23, 2], [-12, 1], [-26, 2], [-27, 3], [-41, 4], [-48, 4], [-56, 4], [-60, 4], [-47, 4], [-61, 4], [-48, 4], [-36, 3], [-37, 3], [-46, 3], [-32, 4], [-30, 4], [-31, 4], [-41, 4], [-49, 3], [-50, 2], [-63, 3], [-57, 2], [-46, 3], [-43, 2], [-35, 3], [-22, 3], [-13, 4], [-22, 4], [-26, 4], [-12, 3], [-7, 4], [-7, 3], [-11, 4], [-9, 4], [-9, 3], [1, 4], [-13, 4], [-19, 3], [-13, 3], [-8, 2], [-15, 1], [-12, 0], [0, 0], [4, 0], [3, 0], [15, 1], [21, 0], [26, 0], [41, 0], [33, 0], [27, 0], [37, 1], [25, 2], [33, 1]]\n",
      "score 43759.578592704886\n",
      "\n",
      "2 trial count 517\n",
      "[[14, 0], [2, 1], [-9, 2], [-3, 2], [-10, 2], [-8, 3], [-13, 2], [-11, 1], [-19, 2], [-26, 3], [-31, 4], [-39, 4], [-28, 4], [-20, 4], [-31, 4], [-24, 4], [-13, 4], [-9, 4], [-15, 4], [-18, 4], [-6, 4], [-6, 4], [-14, 4], [-9, 4], [-4, 4], [-19, 4], [-9, 4], [-7, 4], [-13, 4], [-28, 4], [-33, 4], [-38, 3], [-46, 4], [-52, 4], [-39, 4], [-44, 3], [-32, 3], [-39, 4], [-32, 4], [-23, 4], [-10, 3], [-18, 4], [-6, 3], [-2, 2], [-10, 3], [4, 3], [17, 4], [16, 4], [6, 4], [3, 4], [10, 4], [15, 3], [6, 2], [0, 3], [-4, 2], [-2, 1], [8, 2], [17, 2], [14, 1], [18, 1], [21, 0], [10, 0], [-3, 0], [-9, 0], [6, 0], [3, 0], [17, 0], [27, 0], [27, 1], [28, 2], [39, 1], [41, 2], [53, 1], [65, 1], [58, 2], [60, 3]]\n",
      "score 44490.90246497399\n",
      "\n",
      "3 trial count 51\n",
      "[[-9, 1], [-18, 2], [-16, 2], [-23, 2], [-26, 2], [-16, 1], [-28, 2], [-27, 3], [-37, 3], [-46, 2], [-49, 1], [-41, 2], [-49, 3], [-58, 3], [-57, 3], [-61, 2], [-57, 3], [-47, 3], [-56, 4], [-71, 4], [-58, 4], [-64, 4], [-69, 4], [-81, 4], [-76, 3], [-72, 2], [-59, 3], [-61, 3], [-71, 4], [-84, 3], [-87, 4], [-76, 3], [-77, 2], [-65, 3], [-73, 3], [-76, 3], [-77, 3], [-63, 4], [-49, 4], [-64, 3], [-51, 4], [-58, 3], [-64, 4], [-72, 4], [-76, 4], [-82, 4], [-77, 3], [-67, 3]]\n",
      "score 28151.282369009867\n",
      "\n",
      "4 trial count 65\n",
      "[[5, 1], [7, 2], [9, 1], [1, 2], [13, 1], [2, 2], [-2, 3], [-6, 4], [-6, 3], [-13, 3], [-25, 4], [-30, 4], [-37, 4], [-39, 4], [-32, 3], [-38, 2], [-29, 3], [-18, 4], [-22, 4], [-19, 4], [-15, 3], [-11, 3], [-13, 4], [-18, 3], [-20, 3], [-34, 4], [-25, 3], [-18, 2], [-30, 3], [-27, 3], [-32, 3], [-35, 2], [-35, 2], [-34, 2], [-29, 3], [-35, 2], [-49, 3], [-39, 2], [-38, 3], [-29, 3], [-32, 4], [-18, 4], [-22, 3], [-27, 3], [-35, 2], [-33, 2], [-38, 2], [-39, 1], [-48, 1], [-44, 0], [-33, 1], [-30, 2], [-26, 2], [-23, 3], [-18, 2], [-14, 2], [-9, 3], [-3, 3], [-18, 2], [-8, 3], [-3, 4], [11, 3], [4, 3], [-4, 4], [-17, 4]]\n",
      "score 48875.659016199395\n",
      "\n"
     ]
    }
   ],
   "source": [
    "# verification test \n",
    "for i in range(5):\n",
    "    trial_count = 0\n",
    "    while True:\n",
    "        p0 = v(2500, 2700)  # Initial position\n",
    "        a0 = 0        # absolute angle of the ship \n",
    "        pwr0 = 0      # 引擎出力\n",
    "        s0 = v(0,0)     # Initial speed vector\n",
    "        ship = Ship(p0, s0, a0, pwr0, fuel0)\n",
    "        ship.explore()\n",
    "        if ship.score > 0 : \n",
    "            print(f\"{i} trial count\",trial_count)\n",
    "            print(ship.chromosome)\n",
    "            print(\"score\", ship.score)\n",
    "            print()\n",
    "            break\n",
    "        trial_count += 1\n",
    "            "
   ]
  },
  {
   "cell_type": "markdown",
   "metadata": {},
   "source": [
    "## 用 Genetic Algorithm 先找出一條成功的路徑\n",
    "\n",
    "一見面先取 100 或 1K 或 1W 名烏合之眾的前 15 名，兩兩交配湊 105 個下一代，再取前 15 名兩兩配對又得 105 個子代。如此輾轉，看看結果。<br>\n",
    "一見面先取 100 或 1K 或 1W 名烏合之眾的前 15 名，兩兩交配湊 105 個下一代，再取前 15 名兩兩配對又得 105 個子代。如此輾轉，看看結果。<br>\n",
    "一見面先取 100 或 1K 或 1W 名烏合之眾的前 15 名，兩兩交配湊 105 個下一代，再取前 15 名兩兩配對又得 105 個子代。如此輾轉，看看結果。<br>\n",
    "一見面先取 5 名烏合之眾兩兩交配湊 10 個下一代，再取前 5 名兩兩配對又得 10 個子代。如此輾轉，看看結果。<br>"
   ]
  },
  {
   "cell_type": "code",
   "execution_count": 4,
   "metadata": {},
   "outputs": [],
   "source": [
    "# Get population\n",
    "# 一見面先取 5 名烏合之眾兩兩交配湊 10 個下一代，再取前 5 名兩兩配對又得 10 個子代。如此輾轉，看看結果。\n",
    "parents = []\n",
    "for i in range(5):\n",
    "    while True:\n",
    "        p0 = v(2500, 2700)  # Initial position\n",
    "        a0 = 0        # absolute angle of the ship \n",
    "        pwr0 = 0      # 引擎出力\n",
    "        s0 = v(0,0)     # Initial speed vector\n",
    "        ship = Ship(p0, s0, a0, pwr0, fuel0)\n",
    "        ship.explore()\n",
    "        if ship.score > 0 : \n",
    "            parents.append((ship.score, ship.chromosome))\n",
    "            break"
   ]
  },
  {
   "cell_type": "code",
   "execution_count": 5,
   "metadata": {},
   "outputs": [
    {
     "data": {
      "text/plain": [
       "[(54076.490997524554,\n",
       "  [[-11, 0],\n",
       "   [-9, 0],\n",
       "   [-23, 1],\n",
       "   [-38, 0],\n",
       "   [-43, 1],\n",
       "   [-34, 1],\n",
       "   [-24, 2],\n",
       "   [-29, 2],\n",
       "   [-44, 2],\n",
       "   [-52, 3],\n",
       "   [-61, 3],\n",
       "   [-56, 2],\n",
       "   [-42, 3],\n",
       "   [-38, 3],\n",
       "   [-44, 3],\n",
       "   [-56, 3],\n",
       "   [-57, 4],\n",
       "   [-58, 4],\n",
       "   [-51, 4],\n",
       "   [-45, 4],\n",
       "   [-38, 4],\n",
       "   [-30, 4],\n",
       "   [-17, 3],\n",
       "   [-15, 3],\n",
       "   [-5, 3],\n",
       "   [7, 3],\n",
       "   [11, 3],\n",
       "   [-2, 3],\n",
       "   [-16, 4],\n",
       "   [-2, 4],\n",
       "   [-17, 4],\n",
       "   [-13, 4],\n",
       "   [-13, 4],\n",
       "   [-16, 4],\n",
       "   [-22, 3],\n",
       "   [-21, 2],\n",
       "   [-10, 3],\n",
       "   [0, 3],\n",
       "   [11, 4],\n",
       "   [10, 4],\n",
       "   [-5, 4],\n",
       "   [-20, 4],\n",
       "   [-22, 4],\n",
       "   [-13, 3],\n",
       "   [-15, 3],\n",
       "   [-23, 3],\n",
       "   [-16, 3],\n",
       "   [-2, 4],\n",
       "   [-14, 4],\n",
       "   [-7, 4],\n",
       "   [7, 4],\n",
       "   [-6, 4],\n",
       "   [-12, 4],\n",
       "   [-21, 3],\n",
       "   [-15, 4],\n",
       "   [-9, 4],\n",
       "   [-10, 4],\n",
       "   [3, 4],\n",
       "   [-1, 4],\n",
       "   [-4, 4]]),\n",
       " (48092.81715492832,\n",
       "  [[14, 1],\n",
       "   [5, 2],\n",
       "   [-8, 1],\n",
       "   [-1, 1],\n",
       "   [4, 2],\n",
       "   [-8, 3],\n",
       "   [-4, 3],\n",
       "   [-3, 3],\n",
       "   [-2, 3],\n",
       "   [-12, 4],\n",
       "   [-20, 4],\n",
       "   [-22, 4],\n",
       "   [-20, 4],\n",
       "   [-18, 4],\n",
       "   [-6, 4],\n",
       "   [-6, 3],\n",
       "   [-7, 4],\n",
       "   [-12, 4],\n",
       "   [-21, 3],\n",
       "   [-23, 4],\n",
       "   [-34, 4],\n",
       "   [-27, 4],\n",
       "   [-19, 4],\n",
       "   [-17, 3],\n",
       "   [-22, 3],\n",
       "   [-17, 3],\n",
       "   [-26, 3],\n",
       "   [-41, 4],\n",
       "   [-38, 4],\n",
       "   [-48, 4],\n",
       "   [-46, 3],\n",
       "   [-32, 3],\n",
       "   [-46, 2],\n",
       "   [-54, 1],\n",
       "   [-43, 1],\n",
       "   [-39, 1],\n",
       "   [-37, 0],\n",
       "   [-39, 1],\n",
       "   [-25, 0],\n",
       "   [-35, 0],\n",
       "   [-23, 1],\n",
       "   [-24, 2],\n",
       "   [-36, 2],\n",
       "   [-32, 3],\n",
       "   [-29, 3],\n",
       "   [-14, 4],\n",
       "   [-2, 4],\n",
       "   [-11, 4],\n",
       "   [-19, 4],\n",
       "   [-30, 3],\n",
       "   [-45, 2],\n",
       "   [-53, 3],\n",
       "   [-41, 4],\n",
       "   [-47, 3],\n",
       "   [-35, 3],\n",
       "   [-38, 4],\n",
       "   [-23, 4],\n",
       "   [-11, 4],\n",
       "   [-20, 4],\n",
       "   [-21, 4],\n",
       "   [-12, 3],\n",
       "   [-11, 2],\n",
       "   [-19, 1],\n",
       "   [-7, 1],\n",
       "   [-2, 0],\n",
       "   [1, 1],\n",
       "   [-14, 0],\n",
       "   [-1, 0]]),\n",
       " (29945.95034976164,\n",
       "  [[-12, 0],\n",
       "   [-13, 1],\n",
       "   [-22, 2],\n",
       "   [-37, 3],\n",
       "   [-50, 4],\n",
       "   [-52, 3],\n",
       "   [-47, 2],\n",
       "   [-59, 2],\n",
       "   [-52, 1],\n",
       "   [-49, 2],\n",
       "   [-36, 3],\n",
       "   [-45, 4],\n",
       "   [-45, 3],\n",
       "   [-51, 2],\n",
       "   [-37, 3],\n",
       "   [-33, 4],\n",
       "   [-37, 4],\n",
       "   [-43, 4],\n",
       "   [-51, 4],\n",
       "   [-53, 4],\n",
       "   [-49, 4],\n",
       "   [-64, 3],\n",
       "   [-70, 2],\n",
       "   [-74, 2],\n",
       "   [-71, 3],\n",
       "   [-69, 2],\n",
       "   [-73, 3],\n",
       "   [-73, 2],\n",
       "   [-75, 2],\n",
       "   [-87, 3],\n",
       "   [-76, 2],\n",
       "   [-89, 2],\n",
       "   [-90, 1],\n",
       "   [-86, 1],\n",
       "   [-90, 1],\n",
       "   [-86, 1],\n",
       "   [-90, 1],\n",
       "   [-88, 2],\n",
       "   [-87, 1],\n",
       "   [-90, 2],\n",
       "   [-90, 2],\n",
       "   [-85, 1],\n",
       "   [-90, 0],\n",
       "   [-90, 0],\n",
       "   [-83, 0],\n",
       "   [-82, 0],\n",
       "   [-84, 1],\n",
       "   [-90, 1]]),\n",
       " (39375.03309326127,\n",
       "  [[-12, 0],\n",
       "   [-8, 1],\n",
       "   [-16, 2],\n",
       "   [-24, 1],\n",
       "   [-20, 1],\n",
       "   [-9, 1],\n",
       "   [-18, 2],\n",
       "   [-16, 2],\n",
       "   [-21, 2],\n",
       "   [-27, 2],\n",
       "   [-19, 3],\n",
       "   [-29, 4],\n",
       "   [-20, 3],\n",
       "   [-24, 3],\n",
       "   [-28, 4],\n",
       "   [-30, 4],\n",
       "   [-37, 4],\n",
       "   [-45, 4],\n",
       "   [-36, 4],\n",
       "   [-33, 4],\n",
       "   [-26, 3],\n",
       "   [-37, 2],\n",
       "   [-22, 3],\n",
       "   [-14, 4],\n",
       "   [-29, 4],\n",
       "   [-43, 4],\n",
       "   [-55, 4],\n",
       "   [-65, 3],\n",
       "   [-53, 3],\n",
       "   [-59, 3],\n",
       "   [-60, 4],\n",
       "   [-51, 3],\n",
       "   [-48, 3],\n",
       "   [-49, 3],\n",
       "   [-43, 2],\n",
       "   [-52, 2],\n",
       "   [-45, 2],\n",
       "   [-59, 2],\n",
       "   [-66, 3],\n",
       "   [-51, 2],\n",
       "   [-64, 3],\n",
       "   [-64, 2],\n",
       "   [-49, 1],\n",
       "   [-46, 1],\n",
       "   [-41, 0],\n",
       "   [-34, 0],\n",
       "   [-21, 0],\n",
       "   [-11, 1],\n",
       "   [-19, 1],\n",
       "   [-19, 2],\n",
       "   [-8, 1],\n",
       "   [-19, 1],\n",
       "   [-30, 1],\n",
       "   [-39, 2],\n",
       "   [-50, 2]]),\n",
       " (29682.41565118987,\n",
       "  [[-15, 1],\n",
       "   [-21, 1],\n",
       "   [-20, 0],\n",
       "   [-33, 0],\n",
       "   [-42, 1],\n",
       "   [-29, 2],\n",
       "   [-33, 3],\n",
       "   [-45, 4],\n",
       "   [-35, 4],\n",
       "   [-25, 4],\n",
       "   [-21, 3],\n",
       "   [-22, 2],\n",
       "   [-27, 2],\n",
       "   [-38, 3],\n",
       "   [-31, 2],\n",
       "   [-25, 3],\n",
       "   [-19, 4],\n",
       "   [-27, 3],\n",
       "   [-34, 3],\n",
       "   [-38, 3],\n",
       "   [-23, 3],\n",
       "   [-9, 2],\n",
       "   [-16, 3],\n",
       "   [-17, 4],\n",
       "   [-24, 4],\n",
       "   [-28, 3],\n",
       "   [-35, 2],\n",
       "   [-44, 3],\n",
       "   [-44, 4],\n",
       "   [-55, 4],\n",
       "   [-65, 4],\n",
       "   [-80, 4],\n",
       "   [-86, 3],\n",
       "   [-90, 4],\n",
       "   [-90, 4],\n",
       "   [-77, 3],\n",
       "   [-64, 3],\n",
       "   [-70, 4],\n",
       "   [-77, 3],\n",
       "   [-80, 4],\n",
       "   [-90, 4],\n",
       "   [-90, 3],\n",
       "   [-90, 4],\n",
       "   [-84, 4],\n",
       "   [-79, 4],\n",
       "   [-70, 3],\n",
       "   [-76, 4],\n",
       "   [-74, 4],\n",
       "   [-89, 4],\n",
       "   [-81, 4],\n",
       "   [-70, 3],\n",
       "   [-55, 3],\n",
       "   [-49, 2]])]"
      ]
     },
     "execution_count": 5,
     "metadata": {},
     "output_type": "execute_result"
    }
   ],
   "source": [
    "parents"
   ]
  },
  {
   "cell_type": "code",
   "execution_count": 6,
   "metadata": {},
   "outputs": [],
   "source": [
    "epoch = 0 "
   ]
  },
  {
   "cell_type": "code",
   "execution_count": 7,
   "metadata": {},
   "outputs": [],
   "source": [
    "# mating 用 parents 排列組合出下一代\n",
    "spouses = [c for c in combinations(parents, 2)]"
   ]
  },
  {
   "cell_type": "code",
   "execution_count": 8,
   "metadata": {},
   "outputs": [
    {
     "name": "stdout",
     "output_type": "stream",
     "text": [
      "spouses count --> 10 (<class 'int'>)\n",
      "spouses count --> :> [0] count --> 2 (<class 'int'>)\n",
      "spouses count --> :> [0] count --> --> ((54076.490997524554, [[-11, 0], [-9, 0], [-23, 1], [-38, 0], [-43, 1], [-34, 1], [-24, 2], [-29, 2], [-44, 2], [-52, 3], [-61, 3], [-56, 2], [-42, 3], [-38, 3], [-44, 3], [-56, 3], [-57, 4], [-58, 4], [-51, 4], [-45, 4], [-38, 4], [-30, 4], [-17, 3], [-15, 3], [-5, 3], [7, 3], [11, 3], [-2, 3], [-16, 4], [-2, 4], [-17, 4], [-13, 4], [-13, 4], [-16, 4], [-22, 3], [-21, 2], [-10, 3], [0, 3], [11, 4], [10, 4], [-5, 4], [-20, 4], [-22, 4], [-13, 3], [-15, 3], [-23, 3], [-16, 3], [-2, 4], [-14, 4], [-7, 4], [7, 4], [-6, 4], [-12, 4], [-21, 3], [-15, 4], [-9, 4], [-10, 4], [3, 4], [-1, 4], [-4, 4]]), (48092.81715492832, [[14, 1], [5, 2], [-8, 1], [-1, 1], [4, 2], [-8, 3], [-4, 3], [-3, 3], [-2, 3], [-12, 4], [-20, 4], [-22, 4], [-20, 4], [-18, 4], [-6, 4], [-6, 3], [-7, 4], [-12, 4], [-21, 3], [-23, 4], [-34, 4], [-27, 4], [-19, 4], [-17, 3], [-22, 3], [-17, 3], [-26, 3], [-41, 4], [-38, 4], [-48, 4], [-46, 3], [-32, 3], [-46, 2], [-54, 1], [-43, 1], [-39, 1], [-37, 0], [-39, 1], [-25, 0], [-35, 0], [-23, 1], [-24, 2], [-36, 2], [-32, 3], [-29, 3], [-14, 4], [-2, 4], [-11, 4], [-19, 4], [-30, 3], [-45, 2], [-53, 3], [-41, 4], [-47, 3], [-35, 3], [-38, 4], [-23, 4], [-11, 4], [-20, 4], [-21, 4], [-12, 3], [-11, 2], [-19, 1], [-7, 1], [-2, 0], [1, 1], [-14, 0], [-1, 0]])) (<class 'tuple'>)\n"
     ]
    }
   ],
   "source": [
    "# 查看這些配偶\n",
    "%f spouses count --> :> [0] count --> -->"
   ]
  },
  {
   "cell_type": "raw",
   "metadata": {},
   "source": [
    "# crossover 產生下一代，隨即令其突變 (全部一起都突變)\n",
    "offspring = []\n",
    "for i in range(len(spouses)):\n",
    "    offspring.append([0,list(map(mutation,crossover(spouses[i])))])  # _working_"
   ]
  },
  {
   "cell_type": "code",
   "execution_count": null,
   "metadata": {},
   "outputs": [],
   "source": [
    "# crossover 產生下一代，隨即令其突變 (從頭逐一 gene 依序突變)\n",
    "offspring = []\n",
    "for i in range(len(spouses)):  # 10 個子代都針對某一組 (epoch) gene 突變，大家來較量\n",
    "    offspring_crossover = crossover(spouses[i])\n",
    "    if len(offspring_crossover) >= epoch :\n",
    "        # 不一定 mutate 得到，看長度夠不夠\n",
    "        offspring_crossover[epoch] = mutation(offspring_crossover[epoch])  # 只 mutate 一個 gene\n",
    "    offspring.append([0,offspring_crossover])  # _working_"
   ]
  },
  {
   "cell_type": "raw",
   "metadata": {},
   "source": [
    "# 查看 \n",
    "%f offspring count --> :> [5] -->"
   ]
  },
  {
   "cell_type": "raw",
   "metadata": {},
   "source": [
    "# evaluate the offspring populataion\n",
    "p0 = v(2500, 2700)  # Initial position\n",
    "a0 = 0        # absolute angle of the ship \n",
    "pwr0 = 0      # 引擎出力\n",
    "s0 = v(0,0)     # Initial speed vector\n",
    "for i in range(len(offspring)):\n",
    "    offspring[i][1] = offspring[i][1] + [offspring[i][1][-1]]*200\n",
    "    ship = Ship(p0, s0, a0, pwr0, fuel0)\n",
    "    ship.evaluate(offspring[i][1])\n",
    "    offspring[i][0] = ship.score\n",
    "    %f i ship :> score -2 slice -->\n",
    "        "
   ]
  },
  {
   "cell_type": "code",
   "execution_count": null,
   "metadata": {},
   "outputs": [],
   "source": [
    "# 上下兩代組合成新一輪的 parents \n",
    "parents = sorted(offspring + parents, key=lambda x:x[0])[-5:]\n",
    "[row[0] for row in parents]    "
   ]
  },
  {
   "cell_type": "markdown",
   "metadata": {},
   "source": [
    "### 手動連續跌代 (舊版，全部 gene 一起 mutate)"
   ]
  },
  {
   "cell_type": "raw",
   "metadata": {},
   "source": [
    "# mating 用 parents 排列組合出成對的配偶\n",
    "spouses = [c for c in combinations(parents, 2)]\n",
    "\n",
    "# crossover 產生下一代，隨即令其突變\n",
    "offspring = []\n",
    "for i in range(len(spouses)):\n",
    "    offspring.append([0,list(map(mutation,crossover(spouses[i])))])\n",
    "\n",
    "# evaluate the offspring populataion\n",
    "p0 = v(2500, 2700)  # Initial position\n",
    "a0 = 0        # absolute angle of the ship \n",
    "pwr0 = 0      # 引擎出力\n",
    "s0 = v(0,0)     # Initial speed vector\n",
    "for i in range(len(offspring)):\n",
    "    offspring[i][1] = offspring[i][1] + [offspring[i][1][-1]]*200\n",
    "    ship = Ship(p0, s0, a0, pwr0, fuel0)\n",
    "    ship.evaluate(offspring[i][1])\n",
    "    offspring[i][0] = ship.score\n",
    "    %f i ship :> score -2 slice -->\n",
    "\n",
    "# 上下兩代組合成新一輪的 parents \n",
    "parents = sorted(offspring + parents, key=lambda x:x[0])[-5:]\n",
    "[row[0] for row in parents]    "
   ]
  },
  {
   "cell_type": "markdown",
   "metadata": {},
   "source": [
    "### 手動連續跌代 (新版，個別 gene 依序逐個 mutate)"
   ]
  },
  {
   "cell_type": "code",
   "execution_count": null,
   "metadata": {},
   "outputs": [],
   "source": [
    "# mating 用 parents 排列組合出成對的配偶\n",
    "spouses = [c for c in combinations(parents, 2)]\n",
    "\n",
    "# crossover 產生下一代，隨即令其突變\n",
    "offspring = []\n",
    "for i in range(len(spouses)):\n",
    "    offspring.append([0,list(map(mutation,crossover(spouses[i])))])\n",
    "\n",
    "# evaluate the offspring populataion\n",
    "p0 = v(2500, 2700)  # Initial position\n",
    "a0 = 0        # absolute angle of the ship \n",
    "pwr0 = 0      # 引擎出力\n",
    "s0 = v(0,0)     # Initial speed vector\n",
    "for i in range(len(offspring)):\n",
    "    offspring[i][1] = offspring[i][1] + [offspring[i][1][-1]]*200\n",
    "    ship = Ship(p0, s0, a0, pwr0, fuel0)\n",
    "    ship.evaluate(offspring[i][1])\n",
    "    offspring[i][0] = ship.score\n",
    "    %f i ship :> score -2 slice -->\n",
    "epoch += 1 \n",
    "# 上下兩代組合成新一輪的 parents \n",
    "parents = sorted(offspring + parents, key=lambda x:x[0])[-5:]\n",
    "[row[0] for row in parents]    "
   ]
  },
  {
   "cell_type": "markdown",
   "metadata": {},
   "source": [
    "### 自動連續跌代"
   ]
  },
  {
   "cell_type": "code",
   "execution_count": null,
   "metadata": {},
   "outputs": [],
   "source": [
    "import numpy as np\n",
    "import re, math, peforth, random, pdb\n",
    "from itertools import combinations  # combinations 數學「排列組合」中的「組合」\n",
    "%f version drop"
   ]
  },
  {
   "cell_type": "code",
   "execution_count": null,
   "metadata": {},
   "outputs": [],
   "source": [
    "%run mars.py\n",
    "\n",
    "# Get population \n",
    "# 一見面先取 5 名烏合之眾兩兩交配湊 10 個下一代，再取前 5 名兩兩配對又得 10 個子代。如此輾轉，看看結果。\n",
    "parents = []\n",
    "for i in range(5):\n",
    "    while True:\n",
    "        p0 = v(2500, 2700)  # Initial position\n",
    "        a0 = 0        # absolute angle of the ship \n",
    "        pwr0 = 0      # 引擎出力\n",
    "        s0 = v(0,0)     # Initial speed vector\n",
    "        ship = Ship(p0, s0, a0, pwr0, fuel0)\n",
    "        ship.explore()\n",
    "        if ship.score > 0 : \n",
    "            parents.append((ship.score, ship.chromosome))\n",
    "            break\n",
    "# 開始自動演化\n",
    "high0 = 0\n",
    "for j in range(1000):\n",
    "    # mating 用 parents 排列組合出成對的配偶\n",
    "    spouses = [c for c in combinations(parents, 2)]\n",
    "\n",
    "    # crossover 產生下一代，隨即令其突變\n",
    "    offspring = []\n",
    "    for i in range(len(spouses)):\n",
    "        offspring.append([0,list(map(mutation,crossover(spouses[i])))])\n",
    "\n",
    "    # evaluate the offspring populataion\n",
    "    p0 = v(2500, 2700)  # Initial position\n",
    "    a0 = 0        # absolute angle of the ship \n",
    "    pwr0 = 0      # 引擎出力\n",
    "    s0 = v(0,0)     # Initial speed vector\n",
    "    for i in range(len(offspring)):\n",
    "        offspring[i][1] = offspring[i][1] + [offspring[i][1][-1]]*200\n",
    "        ship = Ship(p0, s0, a0, pwr0, fuel0)\n",
    "        ship.evaluate(offspring[i][1])\n",
    "        offspring[i][0] = ship.score\n",
    "\n",
    "    # 上下兩代組合成新一輪的 parents \n",
    "    parents = sorted(offspring + parents, key=lambda x:x[0])[-5:]\n",
    "    high1 = [row[0] for row in parents][4]\n",
    "    if j%10 == 0 : print(f\"#{j}\", end=\" \") \n",
    "    if high0 != high1 : print(f\"{j}:{high1}\")\n",
    "    high0 = high1\n",
    "\n",
    "# evaluate a specific chromosome\n",
    "p0 = v(2500, 2700)  # Initial position\n",
    "a0 = 0        # absolute angle of the ship \n",
    "pwr0 = 0      # 引擎出力\n",
    "s0 = v(0,0)     # Initial speed vector\n",
    "ship = Ship(p0, s0, a0, pwr0, fuel0)\n",
    "ship.evaluate(parents[4][1])\n",
    "%f ship :> make_score() ship :> score -->\n",
    "%f ship :> chromosome -->\n"
   ]
  },
  {
   "cell_type": "markdown",
   "metadata": {},
   "source": [
    "# 修正 mutation 的方式\n",
    "_working_\n",
    "2019/06/13 17:41 Mutation 的方式不好，咱目前是一次所有的 gene 全部 mutate，可能是造成訓練效果不佳的原因！因為某個 gene 的 mutation 再怎麼好效果被沖淡了，無法彰顯。所以要一組一組從頭照順序來讓 Mutation 找出最佳組合。這樣看來，窮舉是 93 種組合 for 一組 gene (-15~15, -1~1)，我目前是 10 個 offspring 只有 1/9, 將來考慮改多點。窮舉可能不見得好，因為它假設後面的一長串都是對的才有意義，當然這大有疑問，所以要大家一起慢慢演化才好。從頭 mutation 到尾 (每條 chromosome 的長度不一樣，看哪一條最長都要涵蓋到) 就是一輪 epoch. "
   ]
  },
  {
   "cell_type": "markdown",
   "metadata": {},
   "source": [
    "### 手動連續跌代 (新版，個別 gene 依序逐個 mutate)"
   ]
  },
  {
   "cell_type": "code",
   "execution_count": null,
   "metadata": {},
   "outputs": [],
   "source": [
    "import numpy as np\n",
    "import re, math, peforth, random, pdb\n",
    "from itertools import combinations  # combinations 數學「排列組合」中的「組合」\n",
    "%f version drop"
   ]
  },
  {
   "cell_type": "code",
   "execution_count": null,
   "metadata": {},
   "outputs": [],
   "source": [
    "%run mars.py"
   ]
  },
  {
   "cell_type": "code",
   "execution_count": null,
   "metadata": {},
   "outputs": [],
   "source": [
    "epoch = 0 \n",
    "p0 = v(2500, 2700)  # Initial position\n",
    "a0 = 0        # absolute angle of the ship \n",
    "pwr0 = 0      # 引擎出力\n",
    "s0 = v(0,0)     # Initial speed vector"
   ]
  },
  {
   "cell_type": "code",
   "execution_count": null,
   "metadata": {},
   "outputs": [],
   "source": [
    "# Get population\n",
    "# 一見面先取 5 名烏合之眾兩兩交配湊 10 個下一代，再取前 5 名兩兩配對又得 10 個子代。如此輾轉，看看結果。\n",
    "parents = []\n",
    "for i in range(5):\n",
    "    while True:\n",
    "        ship = Ship(p0, s0, a0, pwr0, fuel0)\n",
    "        ship.explore()\n",
    "        if ship.score > 0 : \n",
    "            parents.append((ship.score, ship.chromosome))\n",
    "            break"
   ]
  },
  {
   "cell_type": "code",
   "execution_count": null,
   "metadata": {
    "scrolled": true
   },
   "outputs": [],
   "source": [
    "# mating 用 parents 交配出親代的排列組合\n",
    "spouses = [c for c in combinations(parents, 2)]\n",
    "\n",
    "# crossover 產生下一代，隨即令其突變 (從頭逐一 gene 依序突變)\n",
    "offspring = []\n",
    "for i in range(len(spouses)):  # 10 個子代都針對某一組 (epoch) gene 突變，大家來較量\n",
    "    offspring_crossover = crossover(spouses[i])\n",
    "    if len(offspring_crossover) >= epoch :\n",
    "        # 不一定 mutate 得到，看長度夠不夠\n",
    "        offspring_crossover[epoch] = mutation(offspring_crossover[epoch])  # 只 mutate 一個 gene\n",
    "    offspring.append([0,offspring_crossover])\n",
    "\n",
    "offspring_length = len(offspring)\n",
    "epoch_end = 0 # 如果 epoch count 大過所有的 chromosome_length 則 epoch 就該結束了\n",
    "for i in range(offspring_length):\n",
    "    offspring[i][1] = offspring[i][1] + [offspring[i][1][-1]]*200  # 重複最後一組 gene 保證使 ship 落地\n",
    "    ship = Ship(p0, s0, a0, pwr0, fuel0)\n",
    "    chromosome_length = ship.evaluate(offspring[i][1])\n",
    "    if epoch > chromosome_length : epoch_end += 1\n",
    "    offspring[i][0] = ship.score\n",
    "    %f i ship :> score -2 slice -->\n",
    "        \n",
    "if epoch_end >= offspring_length :\n",
    "    %f .\" End of epoch\"\n",
    "    epoch = 0\n",
    "else:\n",
    "    epoch += 1\n",
    "    %f epoch --> \n",
    "\n",
    "\n",
    "\n",
    "# 上下兩代組合成新一輪的 parents \n",
    "parents = sorted(offspring + parents, key=lambda x:x[0])[-5:]\n",
    "[row[0] for row in parents]    "
   ]
  },
  {
   "cell_type": "markdown",
   "metadata": {},
   "source": [
    "### 自動連續跌代 (新版，個別 gene 依序逐個 mutate)"
   ]
  },
  {
   "cell_type": "code",
   "execution_count": 10,
   "metadata": {
    "scrolled": true
   },
   "outputs": [
    {
     "name": "stdout",
     "output_type": "stream",
     "text": [
      "p e f o r t h    v1.24\n",
      "source code http://github.com/hcchengithub/peforth\n",
      "Type 'peforth.ok()' to enter forth interpreter, 'exit' to come back.\n",
      "\n",
      "cycle:0 epoch:0 highest score:51395.68879965464\n",
      "cycle:0 epoch:1 highest score:51468.26907458854\n",
      "cycle:0 epoch:4 highest score:51566.747607322664\n",
      "cycle:0 epoch:5 highest score:51628.600516725\n",
      "cycle:0 epoch:6 highest score:51810.218217285284\n",
      "cycle:0 epoch:10 highest score:51841.8404994814\n",
      "cycle:0 epoch:15 highest score:51856.89165178909\n",
      "cycle:0 epoch:16 highest score:51902.54248977718\n",
      "cycle:0 epoch:28 highest score:51903.65732226424\n",
      "cycle:0 epoch:29 highest score:51910.89756362877\n",
      "cycle:0 epoch:30 highest score:51920.46308408334\n",
      "cycle:0 epoch:48 highest score:51925.44303569189\n",
      "cycle:0 epoch:50 highest score:51953.890241171335\n",
      "cycle:0 epoch:58 highest score:51962.46761453559\n",
      "cycle:0 epoch:61 highest score:51971.54283705839\n",
      "cycle:0 epoch:63 highest score:51995.643615769164\n",
      "cycle:0 epoch:65 highest score:52006.38686305069\n",
      "cycle:0 epoch:66 highest score:52242.43503276967\n",
      "cycle:0 ~~~~ End of epoch ~~~~\n",
      "cycle:1 epoch:55 highest score:52245.26994611211\n",
      "cycle:1 epoch:57 highest score:52249.815319665526\n",
      "cycle:1 ~~~~ End of epoch ~~~~\n",
      "cycle:2 epoch:57 highest score:52277.8431729581\n",
      "cycle:2 epoch:58 highest score:52308.14935693757\n",
      "cycle:2 epoch:59 highest score:52338.34037656243\n",
      "cycle:2 epoch:60 highest score:52656.03417675343\n",
      "cycle:2 epoch:61 highest score:52681.90595075847\n",
      "cycle:2 epoch:62 highest score:52688.13600938155\n",
      "cycle:2 epoch:63 highest score:52852.66628522441\n",
      "cycle:2 epoch:65 highest score:53434.11826011912\n",
      "cycle:2 epoch:66 highest score:53620.61385334547\n",
      "cycle:2 ~~~~ End of epoch ~~~~\n",
      "cycle:3 epoch:2 highest score:53640.21103035083\n",
      "cycle:3 epoch:6 highest score:53641.619046979045\n",
      "cycle:3 epoch:10 highest score:53668.75061050037\n",
      "cycle:3 epoch:14 highest score:53674.930108140354\n",
      "cycle:3 epoch:21 highest score:53683.21680225445\n",
      "cycle:3 epoch:23 highest score:53686.95695032706\n",
      "cycle:3 epoch:40 highest score:53691.099050302124\n",
      "cycle:3 epoch:47 highest score:53776.280091435074\n",
      "cycle:3 epoch:54 highest score:53786.43610756156\n",
      "cycle:3 epoch:58 highest score:53790.41808676731\n",
      "cycle:3 epoch:60 highest score:53800.90322169857\n",
      "cycle:3 ~~~~ End of epoch ~~~~\n",
      "cycle:4 ~~~~ End of epoch ~~~~\n",
      "cycle:5 ~~~~ End of epoch ~~~~\n",
      "cycle:6 ~~~~ End of epoch ~~~~\n",
      "cycle:7 ~~~~ End of epoch ~~~~\n",
      "cycle:8 ~~~~ End of epoch ~~~~\n",
      "cycle:9 ~~~~ End of epoch ~~~~\n",
      "cycle:10 ~~~~ End of epoch ~~~~\n",
      "cycle:11 ~~~~ End of epoch ~~~~\n",
      "cycle:12 ~~~~ End of epoch ~~~~\n",
      "cycle:13 ~~~~ End of epoch ~~~~\n",
      "cycle:14 ~~~~ End of epoch ~~~~\n",
      "cycle:15 ~~~~ End of epoch ~~~~\n",
      "cycle:16 ~~~~ End of epoch ~~~~\n",
      "cycle:17 ~~~~ End of epoch ~~~~\n",
      "cycle:18 ~~~~ End of epoch ~~~~\n",
      "cycle:19 ~~~~ End of epoch ~~~~\n",
      "cycle:20 ~~~~ End of epoch ~~~~\n",
      "cycle:21 ~~~~ End of epoch ~~~~\n",
      "cycle:22 ~~~~ End of epoch ~~~~\n",
      "cycle:23 ~~~~ End of epoch ~~~~\n",
      "cycle:24 ~~~~ End of epoch ~~~~\n",
      "cycle:25 ~~~~ End of epoch ~~~~\n",
      "cycle:26 ~~~~ End of epoch ~~~~\n",
      "cycle:27 ~~~~ End of epoch ~~~~\n",
      "cycle:28 ~~~~ End of epoch ~~~~\n",
      "cycle:29 ~~~~ End of epoch ~~~~\n",
      "cycle:30 ~~~~ End of epoch ~~~~\n",
      "cycle:31 ~~~~ End of epoch ~~~~\n"
     ]
    },
    {
     "ename": "KeyboardInterrupt",
     "evalue": "",
     "output_type": "error",
     "traceback": [
      "\u001b[1;31m---------------------------------------------------------------------------\u001b[0m",
      "\u001b[1;31mKeyboardInterrupt\u001b[0m                         Traceback (most recent call last)",
      "\u001b[1;32m<ipython-input-10-2deda407275b>\u001b[0m in \u001b[0;36m<module>\u001b[1;34m()\u001b[0m\n\u001b[0;32m     38\u001b[0m             \u001b[0moffspring\u001b[0m\u001b[1;33m[\u001b[0m\u001b[0mi\u001b[0m\u001b[1;33m]\u001b[0m\u001b[1;33m[\u001b[0m\u001b[1;36m1\u001b[0m\u001b[1;33m]\u001b[0m \u001b[1;33m=\u001b[0m \u001b[0moffspring\u001b[0m\u001b[1;33m[\u001b[0m\u001b[0mi\u001b[0m\u001b[1;33m]\u001b[0m\u001b[1;33m[\u001b[0m\u001b[1;36m1\u001b[0m\u001b[1;33m]\u001b[0m \u001b[1;33m+\u001b[0m \u001b[1;33m[\u001b[0m\u001b[0moffspring\u001b[0m\u001b[1;33m[\u001b[0m\u001b[0mi\u001b[0m\u001b[1;33m]\u001b[0m\u001b[1;33m[\u001b[0m\u001b[1;36m1\u001b[0m\u001b[1;33m]\u001b[0m\u001b[1;33m[\u001b[0m\u001b[1;33m-\u001b[0m\u001b[1;36m1\u001b[0m\u001b[1;33m]\u001b[0m\u001b[1;33m]\u001b[0m\u001b[1;33m*\u001b[0m\u001b[1;36m200\u001b[0m  \u001b[1;31m# 重複最後一組 gene 保證使 ship 落地\u001b[0m\u001b[1;33m\u001b[0m\u001b[0m\n\u001b[0;32m     39\u001b[0m             \u001b[0mship\u001b[0m \u001b[1;33m=\u001b[0m \u001b[0mShip\u001b[0m\u001b[1;33m(\u001b[0m\u001b[0mp0\u001b[0m\u001b[1;33m,\u001b[0m \u001b[0ms0\u001b[0m\u001b[1;33m,\u001b[0m \u001b[0ma0\u001b[0m\u001b[1;33m,\u001b[0m \u001b[0mpwr0\u001b[0m\u001b[1;33m,\u001b[0m \u001b[0mfuel0\u001b[0m\u001b[1;33m)\u001b[0m\u001b[1;33m\u001b[0m\u001b[0m\n\u001b[1;32m---> 40\u001b[1;33m             \u001b[0mchromosome_length\u001b[0m \u001b[1;33m=\u001b[0m \u001b[0mship\u001b[0m\u001b[1;33m.\u001b[0m\u001b[0mevaluate\u001b[0m\u001b[1;33m(\u001b[0m\u001b[0moffspring\u001b[0m\u001b[1;33m[\u001b[0m\u001b[0mi\u001b[0m\u001b[1;33m]\u001b[0m\u001b[1;33m[\u001b[0m\u001b[1;36m1\u001b[0m\u001b[1;33m]\u001b[0m\u001b[1;33m)\u001b[0m\u001b[1;33m\u001b[0m\u001b[0m\n\u001b[0m\u001b[0;32m     41\u001b[0m             \u001b[1;32mif\u001b[0m \u001b[0mepoch\u001b[0m \u001b[1;33m>\u001b[0m \u001b[0mchromosome_length\u001b[0m \u001b[1;33m:\u001b[0m \u001b[0mepoch_end\u001b[0m \u001b[1;33m+=\u001b[0m \u001b[1;36m1\u001b[0m\u001b[1;33m\u001b[0m\u001b[0m\n\u001b[0;32m     42\u001b[0m             \u001b[0moffspring\u001b[0m\u001b[1;33m[\u001b[0m\u001b[0mi\u001b[0m\u001b[1;33m]\u001b[0m\u001b[1;33m[\u001b[0m\u001b[1;36m0\u001b[0m\u001b[1;33m]\u001b[0m \u001b[1;33m=\u001b[0m \u001b[0mship\u001b[0m\u001b[1;33m.\u001b[0m\u001b[0mscore\u001b[0m\u001b[1;33m\u001b[0m\u001b[0m\n",
      "\u001b[1;32m~\\OneDrive\\文件\\Jupyter Notebooks\\Codingame\\Mars Lander\\episode2.py\u001b[0m in \u001b[0;36mevaluate\u001b[1;34m(self, chromosome)\u001b[0m\n\u001b[0;32m    205\u001b[0m                 \u001b[0mself\u001b[0m\u001b[1;33m.\u001b[0m\u001b[0mscore\u001b[0m \u001b[1;33m=\u001b[0m \u001b[1;33m-\u001b[0m\u001b[1;36m1\u001b[0m\u001b[1;33m\u001b[0m\u001b[0m\n\u001b[0;32m    206\u001b[0m             \u001b[1;32melse\u001b[0m\u001b[1;33m:\u001b[0m\u001b[1;33m\u001b[0m\u001b[0m\n\u001b[1;32m--> 207\u001b[1;33m                 \u001b[0mself\u001b[0m\u001b[1;33m.\u001b[0m\u001b[0mmake_score\u001b[0m\u001b[1;33m(\u001b[0m\u001b[1;33m)\u001b[0m\u001b[1;33m\u001b[0m\u001b[0m\n\u001b[0m\u001b[0;32m    208\u001b[0m             \u001b[1;32mif\u001b[0m \u001b[0mself\u001b[0m\u001b[1;33m.\u001b[0m\u001b[0mscore\u001b[0m \u001b[1;33m<\u001b[0m \u001b[1;36m0\u001b[0m \u001b[1;32mor\u001b[0m \u001b[1;32mnot\u001b[0m \u001b[0mself\u001b[0m\u001b[1;33m.\u001b[0m\u001b[0minTheAir\u001b[0m\u001b[1;33m:\u001b[0m\u001b[1;33m\u001b[0m\u001b[0m\n\u001b[0;32m    209\u001b[0m                 \u001b[1;32mbreak\u001b[0m\u001b[1;33m\u001b[0m\u001b[0m\n",
      "\u001b[1;32m~\\OneDrive\\文件\\Jupyter Notebooks\\Codingame\\Mars Lander\\episode2.py\u001b[0m in \u001b[0;36mmake_score\u001b[1;34m(self)\u001b[0m\n\u001b[0;32m    132\u001b[0m \u001b[1;33m\u001b[0m\u001b[0m\n\u001b[0;32m    133\u001b[0m     \u001b[1;32mdef\u001b[0m \u001b[0mmake_score\u001b[0m\u001b[1;33m(\u001b[0m\u001b[0mself\u001b[0m\u001b[1;33m)\u001b[0m\u001b[1;33m:\u001b[0m\u001b[1;33m\u001b[0m\u001b[0m\n\u001b[1;32m--> 134\u001b[1;33m         \u001b[0mdistances\u001b[0m \u001b[1;33m=\u001b[0m \u001b[1;33m[\u001b[0m\u001b[0mlineseg_dists\u001b[0m\u001b[1;33m(\u001b[0m\u001b[1;33m[\u001b[0m\u001b[0mself\u001b[0m\u001b[1;33m.\u001b[0m\u001b[0mp0\u001b[0m\u001b[1;33m]\u001b[0m\u001b[1;33m,\u001b[0m \u001b[0mland\u001b[0m\u001b[1;33m[\u001b[0m\u001b[0mi\u001b[0m\u001b[1;33m]\u001b[0m\u001b[1;33m,\u001b[0m \u001b[0mland\u001b[0m\u001b[1;33m[\u001b[0m\u001b[0mi\u001b[0m\u001b[1;33m+\u001b[0m\u001b[1;36m1\u001b[0m\u001b[1;33m]\u001b[0m\u001b[1;33m)\u001b[0m\u001b[1;33m[\u001b[0m\u001b[1;36m0\u001b[0m\u001b[1;33m]\u001b[0m \u001b[1;32mfor\u001b[0m \u001b[0mi\u001b[0m \u001b[1;32min\u001b[0m \u001b[0mrange\u001b[0m\u001b[1;33m(\u001b[0m\u001b[0mlen\u001b[0m\u001b[1;33m(\u001b[0m\u001b[0mland\u001b[0m\u001b[1;33m)\u001b[0m\u001b[1;33m-\u001b[0m\u001b[1;36m1\u001b[0m\u001b[1;33m)\u001b[0m\u001b[1;33m]\u001b[0m  \u001b[1;31m# 與所有 surface 的距離\u001b[0m\u001b[1;33m\u001b[0m\u001b[0m\n\u001b[0m\u001b[0;32m    135\u001b[0m         \u001b[0mshortest\u001b[0m \u001b[1;33m=\u001b[0m \u001b[0mnp\u001b[0m\u001b[1;33m.\u001b[0m\u001b[0margmin\u001b[0m\u001b[1;33m(\u001b[0m\u001b[0mdistances\u001b[0m\u001b[1;33m)\u001b[0m  \u001b[1;31m# 最小的 index\u001b[0m\u001b[1;33m\u001b[0m\u001b[0m\n\u001b[0;32m    136\u001b[0m         \u001b[0mself\u001b[0m\u001b[1;33m.\u001b[0m\u001b[0minTheAir\u001b[0m \u001b[1;33m=\u001b[0m \u001b[1;33m(\u001b[0m\u001b[1;36m0\u001b[0m \u001b[1;33m<=\u001b[0m \u001b[0mnp\u001b[0m\u001b[1;33m.\u001b[0m\u001b[0mcross\u001b[0m\u001b[1;33m(\u001b[0m\u001b[0mland\u001b[0m\u001b[1;33m[\u001b[0m\u001b[0mshortest\u001b[0m\u001b[1;33m+\u001b[0m\u001b[1;36m1\u001b[0m\u001b[1;33m]\u001b[0m\u001b[1;33m-\u001b[0m\u001b[0mland\u001b[0m\u001b[1;33m[\u001b[0m\u001b[0mshortest\u001b[0m\u001b[1;33m]\u001b[0m\u001b[1;33m,\u001b[0m\u001b[0mnp\u001b[0m\u001b[1;33m.\u001b[0m\u001b[0mround\u001b[0m\u001b[1;33m(\u001b[0m\u001b[0mself\u001b[0m\u001b[1;33m.\u001b[0m\u001b[0mp0\u001b[0m\u001b[1;33m,\u001b[0m\u001b[1;36m0\u001b[0m\u001b[1;33m)\u001b[0m\u001b[1;33m-\u001b[0m\u001b[0mland\u001b[0m\u001b[1;33m[\u001b[0m\u001b[0mshortest\u001b[0m\u001b[1;33m+\u001b[0m\u001b[1;36m1\u001b[0m\u001b[1;33m]\u001b[0m\u001b[1;33m)\u001b[0m\u001b[1;33m)\u001b[0m\u001b[1;33m\u001b[0m\u001b[0m\n",
      "\u001b[1;32m~\\OneDrive\\文件\\Jupyter Notebooks\\Codingame\\Mars Lander\\episode2.py\u001b[0m in \u001b[0;36m<listcomp>\u001b[1;34m(.0)\u001b[0m\n\u001b[0;32m    132\u001b[0m \u001b[1;33m\u001b[0m\u001b[0m\n\u001b[0;32m    133\u001b[0m     \u001b[1;32mdef\u001b[0m \u001b[0mmake_score\u001b[0m\u001b[1;33m(\u001b[0m\u001b[0mself\u001b[0m\u001b[1;33m)\u001b[0m\u001b[1;33m:\u001b[0m\u001b[1;33m\u001b[0m\u001b[0m\n\u001b[1;32m--> 134\u001b[1;33m         \u001b[0mdistances\u001b[0m \u001b[1;33m=\u001b[0m \u001b[1;33m[\u001b[0m\u001b[0mlineseg_dists\u001b[0m\u001b[1;33m(\u001b[0m\u001b[1;33m[\u001b[0m\u001b[0mself\u001b[0m\u001b[1;33m.\u001b[0m\u001b[0mp0\u001b[0m\u001b[1;33m]\u001b[0m\u001b[1;33m,\u001b[0m \u001b[0mland\u001b[0m\u001b[1;33m[\u001b[0m\u001b[0mi\u001b[0m\u001b[1;33m]\u001b[0m\u001b[1;33m,\u001b[0m \u001b[0mland\u001b[0m\u001b[1;33m[\u001b[0m\u001b[0mi\u001b[0m\u001b[1;33m+\u001b[0m\u001b[1;36m1\u001b[0m\u001b[1;33m]\u001b[0m\u001b[1;33m)\u001b[0m\u001b[1;33m[\u001b[0m\u001b[1;36m0\u001b[0m\u001b[1;33m]\u001b[0m \u001b[1;32mfor\u001b[0m \u001b[0mi\u001b[0m \u001b[1;32min\u001b[0m \u001b[0mrange\u001b[0m\u001b[1;33m(\u001b[0m\u001b[0mlen\u001b[0m\u001b[1;33m(\u001b[0m\u001b[0mland\u001b[0m\u001b[1;33m)\u001b[0m\u001b[1;33m-\u001b[0m\u001b[1;36m1\u001b[0m\u001b[1;33m)\u001b[0m\u001b[1;33m]\u001b[0m  \u001b[1;31m# 與所有 surface 的距離\u001b[0m\u001b[1;33m\u001b[0m\u001b[0m\n\u001b[0m\u001b[0;32m    135\u001b[0m         \u001b[0mshortest\u001b[0m \u001b[1;33m=\u001b[0m \u001b[0mnp\u001b[0m\u001b[1;33m.\u001b[0m\u001b[0margmin\u001b[0m\u001b[1;33m(\u001b[0m\u001b[0mdistances\u001b[0m\u001b[1;33m)\u001b[0m  \u001b[1;31m# 最小的 index\u001b[0m\u001b[1;33m\u001b[0m\u001b[0m\n\u001b[0;32m    136\u001b[0m         \u001b[0mself\u001b[0m\u001b[1;33m.\u001b[0m\u001b[0minTheAir\u001b[0m \u001b[1;33m=\u001b[0m \u001b[1;33m(\u001b[0m\u001b[1;36m0\u001b[0m \u001b[1;33m<=\u001b[0m \u001b[0mnp\u001b[0m\u001b[1;33m.\u001b[0m\u001b[0mcross\u001b[0m\u001b[1;33m(\u001b[0m\u001b[0mland\u001b[0m\u001b[1;33m[\u001b[0m\u001b[0mshortest\u001b[0m\u001b[1;33m+\u001b[0m\u001b[1;36m1\u001b[0m\u001b[1;33m]\u001b[0m\u001b[1;33m-\u001b[0m\u001b[0mland\u001b[0m\u001b[1;33m[\u001b[0m\u001b[0mshortest\u001b[0m\u001b[1;33m]\u001b[0m\u001b[1;33m,\u001b[0m\u001b[0mnp\u001b[0m\u001b[1;33m.\u001b[0m\u001b[0mround\u001b[0m\u001b[1;33m(\u001b[0m\u001b[0mself\u001b[0m\u001b[1;33m.\u001b[0m\u001b[0mp0\u001b[0m\u001b[1;33m,\u001b[0m\u001b[1;36m0\u001b[0m\u001b[1;33m)\u001b[0m\u001b[1;33m-\u001b[0m\u001b[0mland\u001b[0m\u001b[1;33m[\u001b[0m\u001b[0mshortest\u001b[0m\u001b[1;33m+\u001b[0m\u001b[1;36m1\u001b[0m\u001b[1;33m]\u001b[0m\u001b[1;33m)\u001b[0m\u001b[1;33m)\u001b[0m\u001b[1;33m\u001b[0m\u001b[0m\n",
      "\u001b[1;32m~\\OneDrive\\文件\\Jupyter Notebooks\\Codingame\\Mars Lander\\episode2.py\u001b[0m in \u001b[0;36mlineseg_dists\u001b[1;34m(p, a, b)\u001b[0m\n\u001b[0;32m     54\u001b[0m \u001b[1;33m\u001b[0m\u001b[0m\n\u001b[0;32m     55\u001b[0m     \u001b[1;31m# normalized tangent vector\u001b[0m\u001b[1;33m\u001b[0m\u001b[1;33m\u001b[0m\u001b[0m\n\u001b[1;32m---> 56\u001b[1;33m     \u001b[0md\u001b[0m \u001b[1;33m=\u001b[0m \u001b[0mnp\u001b[0m\u001b[1;33m.\u001b[0m\u001b[0mdivide\u001b[0m\u001b[1;33m(\u001b[0m\u001b[0mb\u001b[0m \u001b[1;33m-\u001b[0m \u001b[0ma\u001b[0m\u001b[1;33m,\u001b[0m \u001b[0mnp\u001b[0m\u001b[1;33m.\u001b[0m\u001b[0mlinalg\u001b[0m\u001b[1;33m.\u001b[0m\u001b[0mnorm\u001b[0m\u001b[1;33m(\u001b[0m\u001b[0mb\u001b[0m \u001b[1;33m-\u001b[0m \u001b[0ma\u001b[0m\u001b[1;33m)\u001b[0m\u001b[1;33m)\u001b[0m\u001b[1;33m\u001b[0m\u001b[0m\n\u001b[0m\u001b[0;32m     57\u001b[0m \u001b[1;33m\u001b[0m\u001b[0m\n\u001b[0;32m     58\u001b[0m     \u001b[1;31m# signed parallel distance components\u001b[0m\u001b[1;33m\u001b[0m\u001b[1;33m\u001b[0m\u001b[0m\n",
      "\u001b[1;32mc:\\users\\hcche\\appdata\\local\\programs\\python\\python36\\lib\\site-packages\\numpy\\linalg\\linalg.py\u001b[0m in \u001b[0;36mnorm\u001b[1;34m(x, ord, axis, keepdims)\u001b[0m\n\u001b[0;32m   2241\u001b[0m \u001b[1;33m\u001b[0m\u001b[0m\n\u001b[0;32m   2242\u001b[0m     \u001b[1;32mif\u001b[0m \u001b[1;32mnot\u001b[0m \u001b[0missubclass\u001b[0m\u001b[1;33m(\u001b[0m\u001b[0mx\u001b[0m\u001b[1;33m.\u001b[0m\u001b[0mdtype\u001b[0m\u001b[1;33m.\u001b[0m\u001b[0mtype\u001b[0m\u001b[1;33m,\u001b[0m \u001b[1;33m(\u001b[0m\u001b[0minexact\u001b[0m\u001b[1;33m,\u001b[0m \u001b[0mobject_\u001b[0m\u001b[1;33m)\u001b[0m\u001b[1;33m)\u001b[0m\u001b[1;33m:\u001b[0m\u001b[1;33m\u001b[0m\u001b[0m\n\u001b[1;32m-> 2243\u001b[1;33m         \u001b[0mx\u001b[0m \u001b[1;33m=\u001b[0m \u001b[0mx\u001b[0m\u001b[1;33m.\u001b[0m\u001b[0mastype\u001b[0m\u001b[1;33m(\u001b[0m\u001b[0mfloat\u001b[0m\u001b[1;33m)\u001b[0m\u001b[1;33m\u001b[0m\u001b[0m\n\u001b[0m\u001b[0;32m   2244\u001b[0m \u001b[1;33m\u001b[0m\u001b[0m\n\u001b[0;32m   2245\u001b[0m     \u001b[1;31m# Immediately handle some default, simple, fast, and common cases.\u001b[0m\u001b[1;33m\u001b[0m\u001b[1;33m\u001b[0m\u001b[0m\n",
      "\u001b[1;31mKeyboardInterrupt\u001b[0m: "
     ]
    }
   ],
   "source": [
    "import numpy as np\n",
    "import re, math, peforth, random, pdb\n",
    "from itertools import combinations  # combinations 數學「排列組合」中的「組合」\n",
    "%f version drop\n",
    "# %run mars.py\n",
    "%run episode2.py\n",
    "\n",
    "# Get population\n",
    "# 一見面先取 5 名烏合之眾兩兩交配湊 10 個下一代，再取前 5 名兩兩配對又得 10 個子代。如此輾轉，看看結果。\n",
    "parents = []\n",
    "for i in range(5):\n",
    "    while True:\n",
    "        ship = Ship(p0, s0, a0, pwr0, fuel0)\n",
    "        ship.explore()\n",
    "        if ship.score > 0 : \n",
    "            parents.append((ship.score, ship.chromosome))\n",
    "            break\n",
    "high0 = 0            \n",
    "for cycle in range(1000):\n",
    "    epoch = 0  # a new cycle \n",
    "    while(True):\n",
    "        # mating 用 parents 交配出親代的排列組合\n",
    "        spouses = [c for c in combinations(parents, 2)]\n",
    "\n",
    "        # crossover 產生下一代，隨即令其突變 (從頭逐一 gene 依序突變)\n",
    "        offspring = []\n",
    "        for i in range(len(spouses)):  # 10 個子代都針對某一組 (epoch) gene 突變，大家來較量\n",
    "            offspring_crossover = crossover(spouses[i])\n",
    "            if len(offspring_crossover) >= epoch :\n",
    "                # 不一定 mutate 得到，看長度夠不夠\n",
    "                offspring_crossover[epoch] = mutation(offspring_crossover[epoch])  # 只 mutate 一個 gene\n",
    "            offspring.append([0,offspring_crossover])\n",
    "\n",
    "        # 為這些子代評分\n",
    "        offspring_length = len(offspring)\n",
    "        epoch_end = 0 # 如果 epoch count 大過所有的 chromosome_length 則 epoch 就該結束了\n",
    "        for i in range(offspring_length):\n",
    "            offspring[i][1] = offspring[i][1] + [offspring[i][1][-1]]*200  # 重複最後一組 gene 保證使 ship 落地\n",
    "            ship = Ship(p0, s0, a0, pwr0, fuel0)\n",
    "            chromosome_length = ship.evaluate(offspring[i][1])\n",
    "            if epoch > chromosome_length : epoch_end += 1\n",
    "            offspring[i][0] = ship.score\n",
    "                \n",
    "        # 上下兩代組合成新一輪的 parents \n",
    "        parents = sorted(offspring + parents, key=lambda x:x[0])[-5:]\n",
    "        high1 = parents[4][0]\n",
    "        if high0 != high1 :\n",
    "            print(f\"cycle:{cycle} epoch:{epoch} highest score:{high1}\") \n",
    "            high0 = high1\n",
    "\n",
    "        if epoch_end >= offspring_length :\n",
    "            print(f\"cycle:{cycle} ~~~~ End of epoch ~~~~\")\n",
    "            break\n",
    "        else:\n",
    "            epoch += 1"
   ]
  },
  {
   "cell_type": "code",
   "execution_count": 1,
   "metadata": {},
   "outputs": [
    {
     "ename": "NameError",
     "evalue": "name 'Ship' is not defined",
     "output_type": "error",
     "traceback": [
      "\u001b[1;31m---------------------------------------------------------------------------\u001b[0m",
      "\u001b[1;31mNameError\u001b[0m                                 Traceback (most recent call last)",
      "\u001b[1;32m<ipython-input-1-fcdc860d4e4f>\u001b[0m in \u001b[0;36m<module>\u001b[1;34m()\u001b[0m\n\u001b[0;32m      1\u001b[0m \u001b[1;31m# evaluate a specific chromosome\u001b[0m\u001b[1;33m\u001b[0m\u001b[1;33m\u001b[0m\u001b[0m\n\u001b[1;32m----> 2\u001b[1;33m \u001b[0mship\u001b[0m \u001b[1;33m=\u001b[0m \u001b[0mShip\u001b[0m\u001b[1;33m(\u001b[0m\u001b[0mp0\u001b[0m\u001b[1;33m,\u001b[0m \u001b[0ms0\u001b[0m\u001b[1;33m,\u001b[0m \u001b[0ma0\u001b[0m\u001b[1;33m,\u001b[0m \u001b[0mpwr0\u001b[0m\u001b[1;33m,\u001b[0m \u001b[0mfuel0\u001b[0m\u001b[1;33m)\u001b[0m\u001b[1;33m\u001b[0m\u001b[0m\n\u001b[0m\u001b[0;32m      3\u001b[0m \u001b[0mship\u001b[0m\u001b[1;33m.\u001b[0m\u001b[0mevaluate\u001b[0m\u001b[1;33m(\u001b[0m\u001b[0mparents\u001b[0m\u001b[1;33m[\u001b[0m\u001b[1;36m4\u001b[0m\u001b[1;33m]\u001b[0m\u001b[1;33m[\u001b[0m\u001b[1;36m1\u001b[0m\u001b[1;33m]\u001b[0m\u001b[1;33m)\u001b[0m\u001b[1;33m\u001b[0m\u001b[0m\n\u001b[0;32m      4\u001b[0m \u001b[0mget_ipython\u001b[0m\u001b[1;33m(\u001b[0m\u001b[1;33m)\u001b[0m\u001b[1;33m.\u001b[0m\u001b[0mrun_line_magic\u001b[0m\u001b[1;33m(\u001b[0m\u001b[1;34m'f'\u001b[0m\u001b[1;33m,\u001b[0m \u001b[1;34m'ship :> make_score() ship :> score -->'\u001b[0m\u001b[1;33m)\u001b[0m\u001b[1;33m\u001b[0m\u001b[0m\n\u001b[0;32m      5\u001b[0m \u001b[0mget_ipython\u001b[0m\u001b[1;33m(\u001b[0m\u001b[1;33m)\u001b[0m\u001b[1;33m.\u001b[0m\u001b[0mrun_line_magic\u001b[0m\u001b[1;33m(\u001b[0m\u001b[1;34m'f'\u001b[0m\u001b[1;33m,\u001b[0m \u001b[1;34m'ship :> chromosome -->'\u001b[0m\u001b[1;33m)\u001b[0m\u001b[1;33m\u001b[0m\u001b[0m\n",
      "\u001b[1;31mNameError\u001b[0m: name 'Ship' is not defined"
     ]
    }
   ],
   "source": [
    "# evaluate a specific chromosome\n",
    "ship = Ship(p0, s0, a0, pwr0, fuel0)\n",
    "ship.evaluate(parents[4][1])\n",
    "%f ship :> make_score() ship :> score -->\n",
    "%f ship :> chromosome -->\n",
    "[ np.round(i,0) for i in ship.trace]"
   ]
  },
  {
   "cell_type": "code",
   "execution_count": 2,
   "metadata": {},
   "outputs": [
    {
     "name": "stdout",
     "output_type": "stream",
     "text": [
      "code end-code \\ # // <selftest> </selftest> bye /// unknown immediate stop compyle trim indent -indent <py> </py> </pyV> words . cr help interpret-only compile-only literal reveal privacy (create) : ; ( BL CR word ' , [compile] py: py> py:~ py>~ 0branch here! here swap ! @ ? >r r> r@ drop nip dup over 0< + * - / % 1+ 2+ 1- 2- compile if then compiling char last version execute cls private nonprivate (space) exit ret rescan-word-hash (') branch bool and or not (forget) AND OR NOT XOR true false \"\" [] {} none >> << 0= 0> 0<> 0<= 0>= = == > < != >= <= abs max min doVar doNext depth pick roll space [ ] colon-word create (marker) marker next abort alias <> public rot -rot 2drop 2dup slice invert negate within ['] allot for begin until again ahead never repeat aft else while ?stop ?dup variable +! chars spaces .( .\" .' s\" s' s` does> count accept <accept> nop </accept> \u0004 case of endof endcase refill [else] [if] [then] (::) (:>) :: :> ::~ :>~ \"msg\"abort abort\" \"msg\"?abort ?abort\" '<text> (<text>) <text> </text> <comment> </comment> (constant) constant value to --> >t t@ t> [begin] [again] [until] [for] [next] type list dict str set tuple dict>keys _dir_ obj>keys dir __main__ (import) import module modules int float drops dropall char>ASCII ASCII>char CRLF ASCII .s (*debug*) *debug* readTextFile writeTextFile tib.insert dictate sinclude include break-include obj2dict stringify toString .literal .function (dump) dump dump2ret d (see) see (cd) cd === (pyclude) pyclude .members .source sign round-off txt2json _locals_ debug unknown quit dos --> ==> paste path-to-find-modules bp bl bd be bd* be* xstack x@ x> >x .sx xdrop xdropall \n"
     ]
    }
   ],
   "source": [
    "%f words"
   ]
  },
  {
   "cell_type": "code",
   "execution_count": null,
   "metadata": {},
   "outputs": [],
   "source": []
  }
 ],
 "metadata": {
  "kernelspec": {
   "display_name": "Python 3",
   "language": "python",
   "name": "python3"
  },
  "language_info": {
   "codemirror_mode": {
    "name": "ipython",
    "version": 3
   },
   "file_extension": ".py",
   "mimetype": "text/x-python",
   "name": "python",
   "nbconvert_exporter": "python",
   "pygments_lexer": "ipython3",
   "version": "3.7.8"
  }
 },
 "nbformat": 4,
 "nbformat_minor": 4
}
