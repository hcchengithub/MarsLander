{
 "cells": [
  {
   "cell_type": "markdown",
   "metadata": {
    "colab_type": "text",
    "id": "view-in-github"
   },
   "source": [
    "<a href=\"https://colab.research.google.com/github/hcchengithub/ACIMtoolbox/blob/master/intro_2_vector.ipynb\" target=\"_parent\"><img src=\"https://colab.research.google.com/assets/colab-badge.svg\" alt=\"Open In Colab\"/></a>"
   ]
  },
  {
   "cell_type": "markdown",
   "metadata": {
    "id": "sfura22-CeYh"
   },
   "source": [
    "## 向量（Vector）\n",
    "\n",
    "    #_vector_ #_python_ #_matplotlib_ #_seaborn_ #_向量繪圖_ #_numpy_ #_mars lander_ #_codingame_ #__ #__ "
   ]
  },
  {
   "cell_type": "code",
   "execution_count": 3,
   "metadata": {
    "id": "LLfhbQp_Bi3A"
   },
   "outputs": [],
   "source": [
    "import numpy as np\n",
    "import matplotlib.pyplot as plt\n",
    "import seaborn\n",
    "seaborn.reset_orig()"
   ]
  },
  {
   "cell_type": "code",
   "execution_count": 4,
   "metadata": {
    "colab": {
     "base_uri": "https://localhost:8080/"
    },
    "id": "I8xs80-pCcqv",
    "outputId": "83d76538-7bd0-47c8-cdcb-366562700729"
   },
   "outputs": [
    {
     "name": "stdout",
     "output_type": "stream",
     "text": [
      "[[ 3]\n",
      " [-1]]\n",
      "[[8]\n",
      " [4]\n",
      " [0]]\n",
      "[[-1]\n",
      " [ 0]\n",
      " [ 0]\n",
      " [ 3]]\n",
      "[[ 4]\n",
      " [ 0]\n",
      " [-3]\n",
      " [ 2]\n",
      " [ 1]]\n"
     ]
    }
   ],
   "source": [
    "u = np.array([3, -1]).reshape(2, 1)\n",
    "v = np.array([8, 4, 0]).reshape(3, 1)\n",
    "w = np.array([-1, 0, 0, 3]).reshape(4, 1)\n",
    "x = np.array([4, 0, -3, 2, 1]).reshape(5, 1)\n",
    "print(u)\n",
    "print(v)\n",
    "print(w)\n",
    "print(x)"
   ]
  },
  {
   "cell_type": "code",
   "execution_count": 5,
   "metadata": {
    "colab": {
     "base_uri": "https://localhost:8080/",
     "height": 51
    },
    "id": "Qf_SN7tZCwHQ",
    "outputId": "4027be75-b795-41b2-ffd8-67207b45dde8"
   },
   "outputs": [
    {
     "name": "stdout",
     "output_type": "stream",
     "text": [
      "[[ 3]\n",
      " [-1]]\n"
     ]
    }
   ],
   "source": [
    "print(u)"
   ]
  },
  {
   "cell_type": "code",
   "execution_count": 6,
   "metadata": {
    "colab": {
     "base_uri": "https://localhost:8080/",
     "height": 68
    },
    "id": "QmSljKjjC5lX",
    "outputId": "95cc8291-b8da-49f5-dd06-101a251b8647"
   },
   "outputs": [
    {
     "name": "stdout",
     "output_type": "stream",
     "text": [
      "[[8]\n",
      " [4]\n",
      " [0]]\n"
     ]
    }
   ],
   "source": [
    "print(v)"
   ]
  },
  {
   "cell_type": "code",
   "execution_count": 7,
   "metadata": {
    "colab": {
     "base_uri": "https://localhost:8080/",
     "height": 85
    },
    "id": "JdXvM58oC6HR",
    "outputId": "ccbbb54b-a5ec-4966-d1a4-4841cd1a8479"
   },
   "outputs": [
    {
     "name": "stdout",
     "output_type": "stream",
     "text": [
      "[[-1]\n",
      " [ 0]\n",
      " [ 0]\n",
      " [ 3]]\n"
     ]
    }
   ],
   "source": [
    "print(w)"
   ]
  },
  {
   "cell_type": "code",
   "execution_count": 8,
   "metadata": {
    "colab": {
     "base_uri": "https://localhost:8080/",
     "height": 102
    },
    "id": "i0rPyi4zC7Ce",
    "outputId": "06dc7c46-b4fd-4379-e04f-12088024f522"
   },
   "outputs": [
    {
     "name": "stdout",
     "output_type": "stream",
     "text": [
      "[[ 4]\n",
      " [ 0]\n",
      " [-3]\n",
      " [ 2]\n",
      " [ 1]]\n"
     ]
    }
   ],
   "source": [
    "print(x)"
   ]
  },
  {
   "cell_type": "code",
   "execution_count": 9,
   "metadata": {
    "colab": {
     "base_uri": "https://localhost:8080/",
     "height": 221
    },
    "id": "L1iKUVKlGyo-",
    "outputId": "0dbb11b8-5a09-4c14-d6c9-76bc4108017c"
   },
   "outputs": [
    {
     "name": "stdout",
     "output_type": "stream",
     "text": [
      "(2, 1)\n",
      "2\n",
      "---\n",
      "(3, 1)\n",
      "3\n",
      "---\n",
      "(4, 1)\n",
      "4\n",
      "---\n",
      "(5, 1)\n",
      "5\n",
      "---\n"
     ]
    }
   ],
   "source": [
    "vectors = [u, v, w, x]\n",
    "for vec in vectors:\n",
    "  print(vec.shape)\n",
    "  print(vec.size)\n",
    "  print(\"---\")"
   ]
  },
  {
   "cell_type": "markdown",
   "metadata": {
    "id": "OFDTByarMiFc"
   },
   "source": [
    "## 在平面上描繪向量"
   ]
  },
  {
   "cell_type": "code",
   "execution_count": 10,
   "metadata": {
    "id": "xv3k8EYiOwvt"
   },
   "outputs": [],
   "source": [
    "def plot_a_vector(x, y, tick = 2):  # tick 是 X-Y 座標上的刻度， tick=2 就是一跳差 2 \n",
    "  \"\"\"\n",
    "  描繪一個 (x, y) 的向量\n",
    "  \"\"\"\n",
    "  # 向量的起始點\n",
    "  x0 = 0\n",
    "  y0 = 0\n",
    "  # 指定向量的終點\n",
    "  dx = x\n",
    "  dy = y\n",
    "  # 指定座標軸的範圍\n",
    "  max_val = max(abs(dx), abs(dy)) + 2\n",
    "  plt.xlim(-max_val, max_val)\n",
    "  plt.ylim(-max_val, max_val)\n",
    "  ax = plt.gca()\n",
    "  # 外框隱藏掉兩邊\n",
    "  ax.spines['top'].set_color('none')\n",
    "  ax.spines['right'].set_color('none')\n",
    "  # 將剩餘的兩邊外框挪到原點\n",
    "  ax.xaxis.set_ticks_position('bottom')\n",
    "  ax.spines['bottom'].set_position(('data',0))\n",
    "  ax.yaxis.set_ticks_position('left')\n",
    "  ax.spines['left'].set_position(('data',0))\n",
    "  # 標註文字\n",
    "  if dx >= 0:\n",
    "    adjust = 0.5\n",
    "  else:\n",
    "    adjust = -3\n",
    "  ax.annotate('({}, {})'.format(dx, dy), xy=(dx, dy), xytext=(dx + adjust, dy))\n",
    "  # 畫出向量\n",
    "  plt.arrow(x0, y0, dx, dy, length_includes_head=True, head_width=0.3)\n",
    "  # 調整刻度標籤\n",
    "  plt.xticks(range(-max_val + 1, max_val - 1, tick))\n",
    "  plt.yticks(range(-max_val + 1, max_val - 1, tick))"
   ]
  },
  {
   "cell_type": "code",
   "execution_count": 12,
   "metadata": {
    "colab": {
     "base_uri": "https://localhost:8080/",
     "height": 364
    },
    "id": "UGWoS9GxNcS9",
    "outputId": "32a72bce-5f66-4dc0-8ed4-fcb2d9132a82"
   },
   "outputs": [
    {
     "data": {
      "image/png": "[encoded data removed]",
      "text/plain": [
       "<Figure size 864x432 with 4 Axes>"
      ]
     },
     "metadata": {
      "needs_background": "light"
     },
     "output_type": "display_data"
    }
   ],
   "source": [
    "plt.figure(figsize=(12,6))\n",
    "plt.subplot(2, 2, 1)  # subplot 指定 2X2 的第一個要畫在左上角 \n",
    "plot_a_vector(1, 4, 1)   # 畫出 vector (1,4) 刻度 1 跳 1 格 (default 2 格)\n",
    "plt.subplot(2, 2, 2)  # subplot 指定 2X2 的第二個要畫在右上角\n",
    "plot_a_vector(-5, 3)\n",
    "plt.subplot(2, 2, 3)\n",
    "plot_a_vector(-1, -5)\n",
    "plt.subplot(2, 2, 4)\n",
    "plot_a_vector(2, -3)"
   ]
  },
  {
   "cell_type": "markdown",
   "metadata": {
    "id": "3EX911Q5KHFg"
   },
   "source": [
    "## 向量運算"
   ]
  },
  {
   "cell_type": "code",
   "execution_count": null,
   "metadata": {
    "colab": {
     "base_uri": "https://localhost:8080/",
     "height": 204
    },
    "id": "_kClM8JRKJVi",
    "outputId": "93a395a9-d984-4bd0-cf32-cc455d0b5484"
   },
   "outputs": [
    {
     "name": "stdout",
     "output_type": "stream",
     "text": [
      "[[2]\n",
      " [4]]\n",
      "---\n",
      "[[ 6]\n",
      " [12]]\n",
      "---\n",
      "[[1]\n",
      " [2]]\n",
      "---\n",
      "[[-2]\n",
      " [-4]]\n"
     ]
    }
   ],
   "source": [
    "# 向量乘以純量\n",
    "arr = np.array([2, 4]).reshape(2, 1)\n",
    "print(arr)\n",
    "print(\"---\")\n",
    "print(3 * arr)\n",
    "print(\"---\")\n",
    "print((0.5 * arr).astype(int))\n",
    "print(\"---\")\n",
    "print(-1 * arr)"
   ]
  },
  {
   "cell_type": "code",
   "execution_count": null,
   "metadata": {
    "colab": {
     "base_uri": "https://localhost:8080/",
     "height": 255
    },
    "id": "7QS0dExELdpz",
    "outputId": "39847230-2d85-44df-daae-b06e53ee6c3d"
   },
   "outputs": [
    {
     "data": {
      "image/png": "[encoded data removed]",
      "text/plain": [
       "<matplotlib.figure.Figure at 0x7fa15d355e48>"
      ]
     },
     "metadata": {
      "tags": []
     },
     "output_type": "display_data"
    }
   ],
   "source": [
    "plt.figure(figsize=(16,4))\n",
    "plt.subplot(1, 4, 1)\n",
    "plot_a_vector(2, 4)   # 他這些 vector 都是抄上面下來手填的，倒也簡便，並無不可。\n",
    "plt.subplot(1, 4, 2)\n",
    "plot_a_vector(6, 12, 3)\n",
    "plt.subplot(1, 4, 3)\n",
    "plot_a_vector(1, 2, 1)\n",
    "plt.subplot(1, 4, 4)\n",
    "plot_a_vector(-2, -4)"
   ]
  },
  {
   "cell_type": "code",
   "execution_count": 13,
   "metadata": {
    "colab": {
     "base_uri": "https://localhost:8080/",
     "height": 51
    },
    "id": "9SW_hRPqA7Gg",
    "outputId": "c92a8002-49a5-4b22-cda3-1e44b1f7bcc8"
   },
   "outputs": [
    {
     "name": "stdout",
     "output_type": "stream",
     "text": [
      "[[5]\n",
      " [5]]\n"
     ]
    }
   ],
   "source": [
    "# 向量相加\n",
    "u = np.array([2, 4]).reshape(2, 1)\n",
    "v = np.array([3, 1]).reshape(2, 1)\n",
    "print(u + v)"
   ]
  },
  {
   "cell_type": "code",
   "execution_count": 17,
   "metadata": {
    "colab": {
     "base_uri": "https://localhost:8080/",
     "height": 51
    },
    "id": "9SW_hRPqA7Gg",
    "outputId": "c92a8002-49a5-4b22-cda3-1e44b1f7bcc8"
   },
   "outputs": [
    {
     "name": "stdout",
     "output_type": "stream",
     "text": [
      "[5 5]\n"
     ]
    }
   ],
   "source": [
    "# 向量相加。重複上 cell 但不要 reshape, 結果當然是橫的一列 vector 沒啥不同。我有上該頁問了：橫的好好的，為何要 reshape 成豎的？ \n",
    "u = np.array([2, 4])\n",
    "v = np.array([3, 1])\n",
    "print(u + v)"
   ]
  },
  {
   "cell_type": "code",
   "execution_count": 14,
   "metadata": {
    "id": "mP265h_OBdmE"
   },
   "outputs": [],
   "source": [
    "def plot_two_vectors():\n",
    "  # 向量的起始點\n",
    "  x0 = 0\n",
    "  y0 = 0\n",
    "  # 指定向量的終點\n",
    "  dx1 = 2\n",
    "  dy1 = 4\n",
    "  dx2 = 3\n",
    "  dy2 = 1\n",
    "  # 指定座標軸的範圍\n",
    "  plt.xlim(-3, 6)\n",
    "  plt.ylim(-3, 6)\n",
    "  ax = plt.gca()\n",
    "  # 外框隱藏掉兩邊\n",
    "  ax.spines['top'].set_color('none')\n",
    "  ax.spines['right'].set_color('none')\n",
    "  # 將剩餘的兩邊外框挪到原點\n",
    "  ax.xaxis.set_ticks_position('bottom')\n",
    "  ax.spines['bottom'].set_position(('data',0))\n",
    "  ax.yaxis.set_ticks_position('left')\n",
    "  ax.spines['left'].set_position(('data',0))\n",
    "  # 標註文字\n",
    "  adjust = 0.5\n",
    "  ax.annotate('({}, {})'.format(dx1, dy1), xy=(dx1, dy1), xytext=(dx1 + adjust, dy1))\n",
    "  ax.annotate('({}, {})'.format(dx2, dy2), xy=(dx2, dy2), xytext=(dx2 + adjust, dy2))\n",
    "  # 畫出向量\n",
    "  plt.arrow(x0, y0, dx1, dy1, length_includes_head=True, head_width=0.3)\n",
    "  plt.arrow(x0, y0, dx2, dy2, length_includes_head=True, head_width=0.3)"
   ]
  },
  {
   "cell_type": "code",
   "execution_count": 15,
   "metadata": {
    "id": "IonwtMUFChiJ"
   },
   "outputs": [],
   "source": [
    "def plot_adding_vectors():\n",
    "  # 向量的起始點\n",
    "  x0 = 0\n",
    "  y0 = 0\n",
    "  # 指定向量的終點\n",
    "  dx1 = 2\n",
    "  dy1 = 4\n",
    "  dx2 = 5\n",
    "  dy2 = 5\n",
    "  # 指定座標軸的範圍\n",
    "  plt.xlim(-3, 6)\n",
    "  plt.ylim(-3, 6)\n",
    "  ax = plt.gca()\n",
    "  # 外框隱藏掉兩邊\n",
    "  ax.spines['top'].set_color('none')\n",
    "  ax.spines['right'].set_color('none')\n",
    "  # 將剩餘的兩邊外框挪到原點\n",
    "  ax.xaxis.set_ticks_position('bottom')\n",
    "  ax.spines['bottom'].set_position(('data',0))\n",
    "  ax.yaxis.set_ticks_position('left')\n",
    "  ax.spines['left'].set_position(('data',0))\n",
    "  # 標註文字\n",
    "  adjust = 0.5\n",
    "  ax.annotate('({}, {})'.format(dx1, dy1), xy=(dx1, dy1), xytext=(dx1 - adjust*3, dy1 - adjust*2))\n",
    "  ax.annotate('({}, {})'.format(3, 1), xy=(dx2, dy2), xytext=(dx2 - adjust*4, dy2))\n",
    "  ax.annotate('({}, {})'.format(dx2, dy2), xy=(dx2, dy2), xytext=(dx2 + adjust, dy2))\n",
    "  # 畫出向量\n",
    "  plt.arrow(x0, y0, dx1, dy1, length_includes_head=True, head_width=0.2, ls='dotted')\n",
    "  plt.arrow(dx1, dy1, 3, 1, length_includes_head=True, head_width=0.2, ls = 'dotted')\n",
    "  plt.arrow(x0, y0, dx2, dy2, length_includes_head=True, head_width=0.3)"
   ]
  },
  {
   "cell_type": "code",
   "execution_count": 16,
   "metadata": {
    "colab": {
     "base_uri": "https://localhost:8080/",
     "height": 258
    },
    "id": "eNtFhEE2CUWy",
    "outputId": "665a4df2-ec22-4861-90da-2de1842f3e8a"
   },
   "outputs": [
    {
     "data": {
      "image/png": "[encoded data removed]",
      "text/plain": [
       "<Figure size 720x288 with 2 Axes>"
      ]
     },
     "metadata": {
      "needs_background": "light"
     },
     "output_type": "display_data"
    }
   ],
   "source": [
    "plt.figure(figsize=(10, 4))\n",
    "plt.subplot(1, 2, 1)\n",
    "plot_two_vectors()\n",
    "plt.subplot(1, 2, 2)\n",
    "plot_adding_vectors()"
   ]
  },
  {
   "cell_type": "code",
   "execution_count": null,
   "metadata": {
    "colab": {
     "base_uri": "https://localhost:8080/",
     "height": 34
    },
    "id": "pYvta6t0J-Qi",
    "outputId": "ee5597d6-c33c-461b-c9cd-82dbb6b9c1f4"
   },
   "outputs": [
    {
     "data": {
      "text/plain": [
       "7"
      ]
     },
     "execution_count": 29,
     "metadata": {
      "tags": []
     },
     "output_type": "execute_result"
    }
   ],
   "source": [
    "u = np.array([4, -2, 0, 1]).reshape(4, 1)\n",
    "v = np.array([-1, -3, 1, 5]).reshape(4, 1)\n",
    "uT = u.transpose()\n",
    "int(np.dot(uT, v))\n",
    "## 7"
   ]
  },
  {
   "cell_type": "markdown",
   "metadata": {
    "id": "scxrpCJYA0Ma"
   },
   "source": [
    "## 向量度量"
   ]
  },
  {
   "cell_type": "code",
   "execution_count": null,
   "metadata": {
    "colab": {
     "base_uri": "https://localhost:8080/",
     "height": 34
    },
    "id": "FB8oDCGdzqJo",
    "outputId": "2798d46d-bd21-4baa-fb4a-b4af678fa702"
   },
   "outputs": [
    {
     "name": "stdout",
     "output_type": "stream",
     "text": [
      "5.0\n"
     ]
    }
   ],
   "source": [
    "v = np.array([1, -4, -2, 2]).reshape(4, 1)\n",
    "print(np.linalg.norm(v))"
   ]
  }
 ],
 "metadata": {
  "colab": {
   "include_colab_link": true,
   "name": "intro_2_vector.ipynb",
   "provenance": []
  },
  "kernelspec": {
   "display_name": "Python 3",
   "language": "python",
   "name": "python3"
  },
  "language_info": {
   "codemirror_mode": {
    "name": "ipython",
    "version": 3
   },
   "file_extension": ".py",
   "mimetype": "text/x-python",
   "name": "python",
   "nbconvert_exporter": "python",
   "pygments_lexer": "ipython3",
   "version": "3.7.8"
  }
 },
 "nbformat": 4,
 "nbformat_minor": 4
}
