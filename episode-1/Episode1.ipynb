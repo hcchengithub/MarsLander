{
 "cells": [
  {
   "cell_type": "markdown",
   "metadata": {},
   "source": [
    "# [Mars Lander Episode-1](https://www.codingame.com/ide/puzzle/mars-lander-episode-1)\n",
    "\n",
    "My Ynote: \"Coding Games - Mars Lander\"<br>\n",
    "[Study \"Genetic Algorithm Implementation in Python\" with helps of peforth](https://github.com/hcchengithub/GeneticAlgorithmPython/blob/master/Genetic%20Algorithm%20Implementation%20in%20Python.ipynb)\n",
    "\n",
    "I didn't understand this game at first and that's a big concern to invest my time into developing the program. Thanks to [McKelian](https://www.codingame.com/forum/t/mars-the-game/756) and his [video game](http://www.mckelian.com/index.php/mars/choix) that mimics the Mars Lander puzzle.\n",
    "\n",
    "<img src=marslander.png>\n",
    "<img src=ControlPanel.png>\n",
    "\n",
    "### Goal \n",
    "- land on flat ground\n",
    "- land in a vertical position (tilt angle = 0°)\n",
    "- vertical speed must be limited ( ≤ 40m/s in absolute value)\n",
    "- horizontal speed must be limited ( ≤ 20m/s in absolute value)\n"
   ]
  },
  {
   "cell_type": "markdown",
   "metadata": {},
   "source": [
    "# 調製 Simulator 成功了！"
   ]
  },
  {
   "cell_type": "markdown",
   "metadata": {},
   "source": [
    "這套公式成功了。\n",
    "\n",
    "Initialize\n",
    "\n",
    "    thrust = 4    # the thrust command \n",
    "    rotate = 0    # the rotate command \n",
    "    a0 = 0        # absolute angle of the ship \n",
    "    pwr0 = 0      # 引擎出力\n",
    "    gravity = 3.711  # constant on Mars\n",
    "    p0 = v(2500, 2700)  # Initial position\n",
    "    s0 = v(0,0)     # Initial speed vector\n",
    "    g = angle2uv(-180) * gravity  # 重力向量\n",
    "    step = 0\n",
    "    \n",
    "Run\n",
    "\n",
    "    # f = m.a  因為 m 不變故當成 1 所以 f = a 也就是 force = g \n",
    "    # Duration t = 1 一步的時間都是 1 所以移動距離 s0 + (1/2)(force)(t^2) 變成 s0 + (1/2)*(force)\n",
    "    \n",
    "    step += 1\n",
    "\n",
    "    a1 = angle15(a0,rotate)  # 這一步的角度，最多 15 degree 故名之。\n",
    "    pwr1 = thrust_1(pwr0,thrust)  # 這一步的 引擎推力\n",
    "    force = g + angle2uv(a1) * pwr1   # force on the ship during this step \n",
    "    s1 = s0 + force  # 這一步將達到的速度 s0 + (delta time)(acceleration) \n",
    "                     # where delta time is 1, a is force as mentioned above.\n",
    "    p1 = p0 + s0 + (1/2)*(force)  # where \"s0 + (1/2)*(force)\" is position delta 這一步將到達的位置\n",
    "\n",
    "    %f step -->\n",
    "    %f a0 pwr0 -2 slice -->  # 上一步的 角度 與 引擎出力 0 1 2 3 4\n",
    "    %f a1 pwr1 -2 slice -->  # 作用在這一步上的 角度 與 引擎出力\n",
    "    %f force dup -->\n",
    "    %f ===>      # 重力 與 引擎出力 的合力向量\n",
    "    %f s1 ===>   # 這一步最後的速度\n",
    "    %f p1 ===>   # 這一步最後的位置\n",
    "\n",
    "    a0 = a1\n",
    "    pwr0 = pwr1\n",
    "    s0 = s1\n",
    "    p0 = p1"
   ]
  },
  {
   "cell_type": "markdown",
   "metadata": {},
   "source": [
    "# Laboratory"
   ]
  },
  {
   "cell_type": "code",
   "execution_count": 1,
   "metadata": {},
   "outputs": [
    {
     "name": "stdout",
     "output_type": "stream",
     "text": [
      "reDef unknown\n",
      "reDef -->\n",
      "p e f o r t h    v1.26\n",
      "source code http://github.com/hcchengithub/peforth\n",
      "Type 'peforth.ok()' to enter forth interpreter, 'exit' to come back.\n",
      "\n"
     ]
    }
   ],
   "source": [
    "import numpy as np\n",
    "import re, math, peforth, random, pdb\n",
    "from itertools import combinations  # combinations 數學「排列組合」中的「組合」\n",
    "%f version drop"
   ]
  },
  {
   "cell_type": "code",
   "execution_count": 2,
   "metadata": {},
   "outputs": [],
   "source": [
    "%run Episode1.py"
   ]
  },
  {
   "cell_type": "markdown",
   "metadata": {},
   "source": [
    "## 用 Genetic Algorithm 先找出一條成功的路徑\n",
    "\n",
    "一見面先取 100 或 1K 或 1W 名烏合之眾的前 15 名，兩兩交配湊 105 個下一代，再取前 15 名兩兩配對又得 105 個子代。如此輾轉，看看結果。<br>\n",
    "一見面先取 100 或 1K 或 1W 名烏合之眾的前 15 名，兩兩交配湊 105 個下一代，再取前 15 名兩兩配對又得 105 個子代。如此輾轉，看看結果。<br>\n",
    "一見面先取 100 或 1K 或 1W 名烏合之眾的前 15 名，兩兩交配湊 105 個下一代，再取前 15 名兩兩配對又得 105 個子代。如此輾轉，看看結果。<br>\n",
    "一見面先取 5 名烏合之眾兩兩交配湊 10 個下一代，再取前 5 名兩兩配對又得 10 個子代。如此輾轉，看看結果。<br>"
   ]
  },
  {
   "cell_type": "markdown",
   "metadata": {},
   "source": [
    "### 自動連續跌代"
   ]
  },
  {
   "cell_type": "code",
   "execution_count": 3,
   "metadata": {
    "scrolled": true
   },
   "outputs": [
    {
     "name": "stdout",
     "output_type": "stream",
     "text": [
      "#0 0:17525.926081591737\n",
      "2:18279.466533591734\n",
      "5:18401.516673591737\n",
      "8:18891.420673591736\n",
      "9:19198.690792591733\n",
      "#10 16:19223.574533591735\n",
      "18:19961.314176591735\n",
      "#20 25:20288.660088591736\n",
      "#30 30:20555.90659359174\n",
      "31:20614.570593591736\n",
      "34:20766.05330159173\n",
      "#40 41:20930.760456591735\n",
      "47:20935.711841591736\n",
      "#50 52:21078.546213591737\n",
      "#60 64:21187.088336591736\n",
      "#70 #80 #90 97:21210.55641759174\n",
      "98:21285.066048591736\n",
      "#100 #110 #120 #130 #140 #150 #160 #170 #180 #190 #200 #210 #220 #230 #240 #250 #260 #270 #280 #290 #300 305:21286.596417591736\n",
      "#310 #320 #330 #340 347:21343.324336591737\n",
      "#350 358:21353.324336591737\n",
      "#360 #370 #380 #390 391:21435.942336591736\n",
      "#400 #410 #420 427:21461.676417591738\n",
      "#430 #440 #450 #460 #470 #480 #490 495:21480.526213591736\n",
      "#500 #510 #520 #530 #540 542:21523.560336591734\n",
      "#550 #560 #570 571:30737.642423455636\n",
      "#580 #590 590:30742.142423455636\n",
      "#600 #610 #620 #630 #640 #650 #660 #670 #680 #690 #700 #710 #720 #730 #740 #750 #760 #770 #780 #790 #800 #810 #820 #830 #840 #850 #860 #870 #880 #890 #900 #910 #920 #930 #940 #950 #960 #970 #980 #990 "
     ]
    }
   ],
   "source": [
    "# Get population \n",
    "# 一見面先取 5 名烏合之眾兩兩交配湊 10 個下一代，再取前 5 名兩兩配對又得 10 個子代。如此輾轉，看看結果。\n",
    "parents = []\n",
    "for i in range(5):\n",
    "    while True:\n",
    "        ship = Ship(p0, s0, a0, pwr0, fuel0)\n",
    "        ship.explore()\n",
    "        if ship.score > 0 : \n",
    "            parents.append((ship.score, ship.chromosome))\n",
    "            break\n",
    "# 開始自動演化\n",
    "high0 = 0\n",
    "for j in range(1000):\n",
    "    # mating 用 parents 排列組合出成對的配偶\n",
    "    spouses = [c for c in combinations(parents, 2)]\n",
    "\n",
    "    # crossover 產生下一代，隨即令其突變\n",
    "    offspring = []\n",
    "    for i in range(len(spouses)):\n",
    "        offspring.append([0,list(map(mutation,crossover(spouses[i])))])\n",
    "\n",
    "    # evaluate the offspring populataion\n",
    "    for i in range(len(offspring)):\n",
    "        offspring[i][1] = offspring[i][1] + [offspring[i][1][-1]]*200\n",
    "        ship = Ship(p0, s0, a0, pwr0, fuel0)\n",
    "        ship.evaluate(offspring[i][1])\n",
    "        offspring[i][0] = ship.score\n",
    "\n",
    "    # 上下兩代組合成新一輪的 parents \n",
    "    parents = sorted(offspring + parents, key=lambda x:x[0])[-5:]\n",
    "    high1 = [row[0] for row in parents][4]\n",
    "    if j%10 == 0 : print(f\"#{j}\", end=\" \") \n",
    "    if high0 != high1 : print(f\"{j}:{high1}\")\n",
    "    high0 = high1"
   ]
  },
  {
   "cell_type": "code",
   "execution_count": 4,
   "metadata": {},
   "outputs": [
    {
     "name": "stdout",
     "output_type": "stream",
     "text": [
      "ship :> make_score() ship :> score --> 30742.142423455636 (<class 'numpy.float64'>)\n",
      "ship :> chromosome --> [[0, 0], [0, 1], [0, 0], [0, 1], [0, 2], [0, 1], [0, 0], [0, 1], [0, 0], [0, 1], [0, 2], [0, 3], [0, 4], [0, 4], [0, 3], [0, 2], [0, 1], [0, 2], [0, 3], [0, 4], [0, 4], [0, 4], [0, 4], [0, 3], [0, 4], [0, 4], [0, 4], [0, 3], [0, 4], [0, 3], [0, 4], [0, 4], [0, 4], [0, 4], [0, 3], [0, 4], [0, 3], [0, 4], [0, 4], [0, 4], [0, 4], [0, 4], [0, 3], [0, 4], [0, 4], [0, 3], [0, 4], [0, 4], [0, 4], [0, 4], [0, 4], [0, 4], [0, 4], [0, 4], [0, 4], [0, 4], [0, 3], [0, 4], [0, 4], [0, 3], [0, 4], [0, 4], [0, 3], [0, 2], [0, 3], [0, 4], [0, 4], [0, 3], [0, 4], [0, 3]] (<class 'list'>)\n"
     ]
    },
    {
     "data": {
      "text/plain": [
       "[array([2500., 2498.]),\n",
       " array([2500., 2493.]),\n",
       " array([2500., 2485.]),\n",
       " array([2500., 2473.]),\n",
       " array([2500., 2460.]),\n",
       " array([2500., 2444.]),\n",
       " array([2500., 2425.]),\n",
       " array([2500., 2402.]),\n",
       " array([2500., 2377.]),\n",
       " array([2500., 2348.]),\n",
       " array([2500., 2317.]),\n",
       " array([2500., 2285.]),\n",
       " array([2500., 2252.]),\n",
       " array([2500., 2220.]),\n",
       " array([2500., 2188.]),\n",
       " array([2500., 2154.]),\n",
       " array([2500., 2119.]),\n",
       " array([2500., 2081.]),\n",
       " array([2500., 2042.]),\n",
       " array([2500., 2002.]),\n",
       " array([2500., 1963.]),\n",
       " array([2500., 1924.]),\n",
       " array([2500., 1886.]),\n",
       " array([2500., 1847.]),\n",
       " array([2500., 1808.]),\n",
       " array([2500., 1770.]),\n",
       " array([2500., 1731.]),\n",
       " array([2500., 1693.]),\n",
       " array([2500., 1654.]),\n",
       " array([2500., 1615.]),\n",
       " array([2500., 1576.]),\n",
       " array([2500., 1537.]),\n",
       " array([2500., 1498.]),\n",
       " array([2500., 1460.]),\n",
       " array([2500., 1422.]),\n",
       " array([2500., 1383.]),\n",
       " array([2500., 1344.]),\n",
       " array([2500., 1305.]),\n",
       " array([2500., 1266.]),\n",
       " array([2500., 1227.]),\n",
       " array([2500., 1189.]),\n",
       " array([2500., 1151.]),\n",
       " array([2500., 1113.]),\n",
       " array([2500., 1074.]),\n",
       " array([2500., 1036.]),\n",
       " array([2500.,  998.]),\n",
       " array([2500.,  959.]),\n",
       " array([2500.,  921.]),\n",
       " array([2500.,  883.]),\n",
       " array([2500.,  845.]),\n",
       " array([2500.,  808.]),\n",
       " array([2500.,  771.]),\n",
       " array([2500.,  734.]),\n",
       " array([2500.,  697.]),\n",
       " array([2500.,  661.]),\n",
       " array([2500.,  625.]),\n",
       " array([2500.,  589.]),\n",
       " array([2500.,  553.]),\n",
       " array([2500.,  517.]),\n",
       " array([2500.,  480.]),\n",
       " array([2500.,  444.]),\n",
       " array([2500.,  407.]),\n",
       " array([2500.,  371.]),\n",
       " array([2500.,  333.]),\n",
       " array([2500.,  295.]),\n",
       " array([2500.,  255.]),\n",
       " array([2500.,  217.]),\n",
       " array([2500.,  178.]),\n",
       " array([2500.,  138.]),\n",
       " array([2500.,   99.])]"
      ]
     },
     "execution_count": 4,
     "metadata": {},
     "output_type": "execute_result"
    }
   ],
   "source": [
    "# evaluate a specific chromosome\n",
    "ship = Ship(p0, s0, a0, pwr0, fuel0)\n",
    "ship.evaluate(parents[4][1])\n",
    "%f ship :> make_score() ship :> score -->\n",
    "%f ship :> chromosome -->\n",
    "[ np.round(i,0) for i in ship.trace]"
   ]
  },
  {
   "cell_type": "code",
   "execution_count": 5,
   "metadata": {},
   "outputs": [
    {
     "name": "stdout",
     "output_type": "stream",
     "text": [
      "ship :> make_score() ship :> score --> 30742.142423455636 (<class 'numpy.float64'>)\n",
      "ship :> chromosome --> [[0, 0], [0, 1], [0, 0], [0, 1], [0, 2], [0, 1], [0, 0], [0, 1], [0, 0], [0, 1], [0, 2], [0, 3], [0, 4], [0, 4], [0, 3], [0, 2], [0, 1], [0, 2], [0, 3], [0, 4], [0, 4], [0, 4], [0, 4], [0, 3], [0, 4], [0, 4], [0, 4], [0, 3], [0, 4], [0, 3], [0, 4], [0, 4], [0, 4], [0, 4], [0, 3], [0, 4], [0, 3], [0, 4], [0, 4], [0, 4], [0, 4], [0, 4], [0, 3], [0, 4], [0, 4], [0, 3], [0, 4], [0, 4], [0, 4], [0, 4], [0, 4], [0, 4], [0, 4], [0, 4], [0, 4], [0, 4], [0, 3], [0, 4], [0, 4], [0, 3], [0, 4], [0, 4], [0, 3], [0, 2], [0, 3], [0, 4], [0, 4], [0, 3], [0, 4], [0, 3]] (<class 'list'>)\n"
     ]
    },
    {
     "data": {
      "text/plain": [
       "[array([2500., 2498.]),\n",
       " array([2500., 2493.]),\n",
       " array([2500., 2485.]),\n",
       " array([2500., 2473.]),\n",
       " array([2500., 2460.]),\n",
       " array([2500., 2444.]),\n",
       " array([2500., 2425.]),\n",
       " array([2500., 2402.]),\n",
       " array([2500., 2377.]),\n",
       " array([2500., 2348.]),\n",
       " array([2500., 2317.]),\n",
       " array([2500., 2285.]),\n",
       " array([2500., 2252.]),\n",
       " array([2500., 2220.]),\n",
       " array([2500., 2188.]),\n",
       " array([2500., 2154.]),\n",
       " array([2500., 2119.]),\n",
       " array([2500., 2081.]),\n",
       " array([2500., 2042.]),\n",
       " array([2500., 2002.]),\n",
       " array([2500., 1963.]),\n",
       " array([2500., 1924.]),\n",
       " array([2500., 1886.]),\n",
       " array([2500., 1847.]),\n",
       " array([2500., 1808.]),\n",
       " array([2500., 1770.]),\n",
       " array([2500., 1731.]),\n",
       " array([2500., 1693.]),\n",
       " array([2500., 1654.]),\n",
       " array([2500., 1615.]),\n",
       " array([2500., 1576.]),\n",
       " array([2500., 1537.]),\n",
       " array([2500., 1498.]),\n",
       " array([2500., 1460.]),\n",
       " array([2500., 1422.]),\n",
       " array([2500., 1383.]),\n",
       " array([2500., 1344.]),\n",
       " array([2500., 1305.]),\n",
       " array([2500., 1266.]),\n",
       " array([2500., 1227.]),\n",
       " array([2500., 1189.]),\n",
       " array([2500., 1151.]),\n",
       " array([2500., 1113.]),\n",
       " array([2500., 1074.]),\n",
       " array([2500., 1036.]),\n",
       " array([2500.,  998.]),\n",
       " array([2500.,  959.]),\n",
       " array([2500.,  921.]),\n",
       " array([2500.,  883.]),\n",
       " array([2500.,  845.]),\n",
       " array([2500.,  808.]),\n",
       " array([2500.,  771.]),\n",
       " array([2500.,  734.]),\n",
       " array([2500.,  697.]),\n",
       " array([2500.,  661.]),\n",
       " array([2500.,  625.]),\n",
       " array([2500.,  589.]),\n",
       " array([2500.,  553.]),\n",
       " array([2500.,  517.]),\n",
       " array([2500.,  480.]),\n",
       " array([2500.,  444.]),\n",
       " array([2500.,  407.]),\n",
       " array([2500.,  371.]),\n",
       " array([2500.,  333.]),\n",
       " array([2500.,  295.]),\n",
       " array([2500.,  255.]),\n",
       " array([2500.,  217.]),\n",
       " array([2500.,  178.]),\n",
       " array([2500.,  138.]),\n",
       " array([2500.,   99.])]"
      ]
     },
     "execution_count": 5,
     "metadata": {},
     "output_type": "execute_result"
    }
   ],
   "source": [
    "# evaluate a specific chromosome\n",
    "ship = Ship(p0, s0, a0, pwr0, fuel0)\n",
    "ship.evaluate(parents[0][1])\n",
    "%f ship :> make_score() ship :> score -->\n",
    "%f ship :> chromosome -->\n",
    "[ np.round(i,0) for i in ship.trace]"
   ]
  },
  {
   "cell_type": "raw",
   "metadata": {},
   "source": [
    "這組成績 283 remaining fuel (score 35246) 是跑到 #400 cycle 強迫停下來的成績， 先前 269 的我還以為很不錯了！\n",
    "[[0, 0], [0, 1], [0, 0], [0, 0], [0, 1], [0, 0], [0, 1], [0, 0], [0, 1], [0, 2], [0, 3], [0, 4], [0, 3], [0, 4], [0, 3], [0, 2], [0, 3], [0, 2], [0, 3], [0, 4], [0, 3], [0, 4], [0, 4], [0, 3], [0, 4], [0, 4], [0, 3], [0, 4], [0, 3], [0, 4], [0, 4], [0, 3], [0, 4], [0, 3], [0, 4], [0, 4], [0, 3], [0, 4], [0, 4], [0, 3], [0, 4], [0, 4], [0, 4], [0, 4], [0, 3], [0, 4], [0, 3], [0, 4], [0, 3], [0, 4], [0, 4], [0, 4], [0, 4], [0, 4], [0, 4], [0, 3], [0, 4], [0, 3], [0, 4], [0, 4], [0, 4], [0, 3], [0, 4], [0, 3], [0, 4], [0, 4], [0, 3], [0, 4], [0, 4]]"
   ]
  },
  {
   "cell_type": "code",
   "execution_count": 3,
   "metadata": {},
   "outputs": [
    {
     "data": {
      "text/plain": [
       "69"
      ]
     },
     "execution_count": 3,
     "metadata": {},
     "output_type": "execute_result"
    }
   ],
   "source": [
    "len([[0, 0], [0, 1], [0, 0], [0, 0], [0, 1], [0, 0], [0, 1], [0, 0], [0, 1], [0, 2], [0, 3], [0, 4], [0, 3], [0, 4], [0, 3], [0, 2], [0, 3], [0, 2], [0, 3], [0, 4], [0, 3], [0, 4], [0, 4], [0, 3], [0, 4], [0, 4], [0, 3], [0, 4], [0, 3], [0, 4], [0, 4], [0, 3], [0, 4], [0, 3], [0, 4], [0, 4], [0, 3], [0, 4], [0, 4], [0, 3], [0, 4], [0, 4], [0, 4], [0, 4], [0, 3], [0, 4], [0, 3], [0, 4], [0, 3], [0, 4], [0, 4], [0, 4], [0, 4], [0, 4], [0, 4], [0, 3], [0, 4], [0, 3], [0, 4], [0, 4], [0, 4], [0, 3], [0, 4], [0, 3], [0, 4], [0, 4], [0, 3], [0, 4], [0, 4]] )"
   ]
  },
  {
   "cell_type": "code",
   "execution_count": null,
   "metadata": {},
   "outputs": [],
   "source": []
  },
  {
   "cell_type": "code",
   "execution_count": null,
   "metadata": {},
   "outputs": [],
   "source": []
  },
  {
   "cell_type": "code",
   "execution_count": null,
   "metadata": {},
   "outputs": [],
   "source": []
  },
  {
   "cell_type": "code",
   "execution_count": null,
   "metadata": {},
   "outputs": [],
   "source": []
  },
  {
   "cell_type": "code",
   "execution_count": null,
   "metadata": {},
   "outputs": [],
   "source": []
  },
  {
   "cell_type": "markdown",
   "metadata": {},
   "source": [
    "# 修正 mutation 的方式\n",
    "_working_\n",
    "2019/06/13 17:41 Mutation 的方式不好，咱目前是一次所有的 gene 全部 mutate，可能是造成訓練效果不佳的原因！因為某個 gene 的 mutation 再怎麼好效果被沖淡了，無法彰顯。所以要一組一組從頭照順序來讓 Mutation 找出最佳組合。這樣看來，窮舉是 93 種組合 for 一組 gene (-15~15, -1~1)，我目前是 10 個 offspring 只有 1/9, 將來考慮改多點。窮舉可能不見得好，因為它假設後面的一長串都是對的才有意義，當然這大有疑問，所以要大家一起慢慢演化才好。從頭 mutation 到尾 (每條 chromosome 的長度不一樣，看哪一條最長都要涵蓋到) 就是一輪 epoch. "
   ]
  },
  {
   "cell_type": "markdown",
   "metadata": {},
   "source": [
    "### 手動連續跌代 (新版，個別 gene 依序逐個 mutate)"
   ]
  },
  {
   "cell_type": "code",
   "execution_count": null,
   "metadata": {},
   "outputs": [],
   "source": [
    "import numpy as np\n",
    "import re, math, peforth, random, pdb\n",
    "from itertools import combinations  # combinations 數學「排列組合」中的「組合」\n",
    "%f version drop"
   ]
  },
  {
   "cell_type": "code",
   "execution_count": null,
   "metadata": {},
   "outputs": [],
   "source": [
    "%run mars.py"
   ]
  },
  {
   "cell_type": "code",
   "execution_count": null,
   "metadata": {},
   "outputs": [],
   "source": [
    "epoch = 0 \n",
    "p0 = v(2500, 2700)  # Initial position\n",
    "a0 = 0        # absolute angle of the ship \n",
    "pwr0 = 0      # 引擎出力\n",
    "s0 = v(0,0)     # Initial speed vector"
   ]
  },
  {
   "cell_type": "code",
   "execution_count": null,
   "metadata": {},
   "outputs": [],
   "source": [
    "# Get population\n",
    "# 一見面先取 5 名烏合之眾兩兩交配湊 10 個下一代，再取前 5 名兩兩配對又得 10 個子代。如此輾轉，看看結果。\n",
    "parents = []\n",
    "for i in range(5):\n",
    "    while True:\n",
    "        ship = Ship(p0, s0, a0, pwr0, fuel0)\n",
    "        ship.explore()\n",
    "        if ship.score > 0 : \n",
    "            parents.append((ship.score, ship.chromosome))\n",
    "            break"
   ]
  },
  {
   "cell_type": "code",
   "execution_count": null,
   "metadata": {
    "scrolled": true
   },
   "outputs": [],
   "source": [
    "# mating 用 parents 交配出親代的排列組合\n",
    "spouses = [c for c in combinations(parents, 2)]\n",
    "\n",
    "# crossover 產生下一代，隨即令其突變 (從頭逐一 gene 依序突變)\n",
    "offspring = []\n",
    "for i in range(len(spouses)):  # 10 個子代都針對某一組 (epoch) gene 突變，大家來較量\n",
    "    offspring_crossover = crossover(spouses[i])\n",
    "    if len(offspring_crossover) >= epoch :\n",
    "        # 不一定 mutate 得到，看長度夠不夠\n",
    "        offspring_crossover[epoch] = mutation(offspring_crossover[epoch])  # 只 mutate 一個 gene\n",
    "    offspring.append([0,offspring_crossover])\n",
    "\n",
    "offspring_length = len(offspring)\n",
    "epoch_end = 0 # 如果 epoch count 大過所有的 chromosome_length 則 epoch 就該結束了\n",
    "for i in range(offspring_length):\n",
    "    offspring[i][1] = offspring[i][1] + [offspring[i][1][-1]]*200  # 重複最後一組 gene 保證使 ship 落地\n",
    "    ship = Ship(p0, s0, a0, pwr0, fuel0)\n",
    "    chromosome_length = ship.evaluate(offspring[i][1])\n",
    "    if epoch > chromosome_length : epoch_end += 1\n",
    "    offspring[i][0] = ship.score\n",
    "    %f i ship :> score -2 slice -->\n",
    "        \n",
    "if epoch_end >= offspring_length :\n",
    "    %f .\" End of epoch\"\n",
    "    epoch = 0\n",
    "else:\n",
    "    epoch += 1\n",
    "    %f epoch --> \n",
    "\n",
    "\n",
    "\n",
    "# 上下兩代組合成新一輪的 parents \n",
    "parents = sorted(offspring + parents, key=lambda x:x[0])[-5:]\n",
    "[row[0] for row in parents]    "
   ]
  },
  {
   "cell_type": "markdown",
   "metadata": {},
   "source": [
    "### 自動連續跌代 (新版，個別 gene 依序逐個 mutate)"
   ]
  },
  {
   "cell_type": "code",
   "execution_count": null,
   "metadata": {},
   "outputs": [],
   "source": [
    "import numpy as np\n",
    "import re, math, peforth, random, pdb\n",
    "from itertools import combinations  # combinations 數學「排列組合」中的「組合」\n",
    "%f version drop\n",
    "%run mars.py\n",
    "\n",
    "# constants of the game world \n",
    "p0 = v(2500, 2700)  # Initial position\n",
    "a0 = 0        # absolute angle of the ship \n",
    "pwr0 = 0      # 引擎出力\n",
    "s0 = v(0,0)     # Initial speed vector\n",
    "\n",
    "# Get population\n",
    "# 一見面先取 5 名烏合之眾兩兩交配湊 10 個下一代，再取前 5 名兩兩配對又得 10 個子代。如此輾轉，看看結果。\n",
    "parents = []\n",
    "for i in range(5):\n",
    "    while True:\n",
    "        ship = Ship(p0, s0, a0, pwr0, fuel0)\n",
    "        ship.explore()\n",
    "        if ship.score > 0 : \n",
    "            parents.append((ship.score, ship.chromosome))\n",
    "            break\n",
    "high0 = 0            \n",
    "for cycle in range(1000):\n",
    "    epoch = 0  # a new cycle \n",
    "    while(True):\n",
    "        # mating 用 parents 交配出親代的排列組合\n",
    "        spouses = [c for c in combinations(parents, 2)]\n",
    "\n",
    "        # crossover 產生下一代，隨即令其突變 (從頭逐一 gene 依序突變)\n",
    "        offspring = []\n",
    "        for i in range(len(spouses)):  # 10 個子代都針對某一組 (epoch) gene 突變，大家來較量\n",
    "            offspring_crossover = crossover(spouses[i])\n",
    "            if len(offspring_crossover) >= epoch :\n",
    "                # 不一定 mutate 得到，看長度夠不夠\n",
    "                offspring_crossover[epoch] = mutation(offspring_crossover[epoch])  # 只 mutate 一個 gene\n",
    "            offspring.append([0,offspring_crossover])\n",
    "\n",
    "        # 為這些子代評分\n",
    "        offspring_length = len(offspring)\n",
    "        epoch_end = 0 # 如果 epoch count 大過所有的 chromosome_length 則 epoch 就該結束了\n",
    "        for i in range(offspring_length):\n",
    "            offspring[i][1] = offspring[i][1] + [offspring[i][1][-1]]*200  # 重複最後一組 gene 保證使 ship 落地\n",
    "            ship = Ship(p0, s0, a0, pwr0, fuel0)\n",
    "            chromosome_length = ship.evaluate(offspring[i][1])\n",
    "            if epoch > chromosome_length : epoch_end += 1\n",
    "            offspring[i][0] = ship.score\n",
    "                \n",
    "        # 上下兩代組合成新一輪的 parents \n",
    "        parents = sorted(offspring + parents, key=lambda x:x[0])[-5:]\n",
    "        high1 = parents[4][0]\n",
    "        if high0 != high1 :\n",
    "            print(f\"cycle:{cycle} epoch:{epoch} highest score:{high1}\") \n",
    "            high0 = high1\n",
    "\n",
    "        if epoch_end >= offspring_length :\n",
    "            print(f\"cycle:{cycle} ~~~~ End of epoch ~~~~\")\n",
    "            break\n",
    "        else:\n",
    "            epoch += 1"
   ]
  },
  {
   "cell_type": "code",
   "execution_count": null,
   "metadata": {},
   "outputs": [],
   "source": [
    "# evaluate a specific chromosome\n",
    "p0 = v(2500, 2700)  # Initial position\n",
    "a0 = 0        # absolute angle of the ship \n",
    "pwr0 = 0      # 引擎出力\n",
    "s0 = v(0,0)     # Initial speed vector\n",
    "ship = Ship(p0, s0, a0, pwr0, fuel0)\n",
    "ship.evaluate(parents[4][1])\n",
    "%f ship :> make_score() ship :> score -->\n",
    "%f ship :> chromosome -->\n"
   ]
  },
  {
   "cell_type": "markdown",
   "metadata": {},
   "source": [
    "# 以前留在 Codingame 上的 code "
   ]
  },
  {
   "cell_type": "code",
   "execution_count": null,
   "metadata": {},
   "outputs": [],
   "source": [
    "# 以前留在 Codingame 上的 code \n",
    "import sys\n",
    "\n",
    "surface_n = int(input())  # the number of points used to draw the surface of Mars.\n",
    "\n",
    "land = []\n",
    "\n",
    "for i in range(surface_n):\n",
    "\n",
    "    land.append([int(j) for j in input().split()])\n",
    "\n",
    "print(f\"{land}\", file=sys.stderr)    \n",
    "\n",
    "chromosome = [[0, 0], [0, 1], [0, 0], [0, 0], [0, 1], [0, 0], [0, 1], [0, 0], [0, 1], [0, 2], [0, 3], [0, 4], [0, 3], [0, 4], [0, 3], [0, 2], [0, 3], [0, 2], [0, 3], [0, 4], [0, 3], [0, 4], [0, 4], [0, 3], [0, 4], [0, 4], [0, 3], [0, 4], [0, 3], [0, 4], [0, 4], [0, 3], [0, 4], [0, 3], [0, 4], [0, 4], [0, 3], [0, 4], [0, 4], [0, 3], [0, 4], [0, 4], [0, 4], [0, 4], [0, 3], [0, 4], [0, 3], [0, 4], [0, 3], [0, 4], [0, 4], [0, 4], [0, 4], [0, 4], [0, 4], [0, 3], [0, 4], [0, 3], [0, 4], [0, 4], [0, 4], [0, 3], [0, 4], [0, 3], [0, 4], [0, 4], [0, 3], [0, 4], [0, 4]] \n",
    "\n",
    "# chromosome=[[-15,4],[-15,4],[-15,4],[-15,4],[-15,4],[-15,4],[-15,4],[-15,4],[-15,4],[-15,4],[-15,4],[-15,4],[-15,4],[-15,4],[-15,4],[-15,4],[15,4],[15,4],[15,4],[15,4],[15,4],[15,4],[15,4],[15,4],[15,4],[15,4],[15,4],[15,4],[15,4],[15,4],[15,4],[15,4],[15,4],[15,4],[15,4],[15,4],[15,4],[15,4],[15,4],[15,4],[15,4],[0,4],[0,4],[0,4],[0,3],[0,4],[0,3],[0,4],[0,3],[0,4],[0,4],[0,4],[0,4],[0,4],[0,4],[0,3],[0,4],[0,3],[0,4],[0,4],[0,4],[0,3],[0,4],[0,3],[0,4],[0,4],[0,3],[0,4],[0,4]]\n",
    "\n",
    "# while True:\n",
    "\n",
    "#     x, y, h_speed, v_speed, fuel, rotate, power = [int(i) for i in input().split()]\n",
    "\n",
    "#     if v_speed < -30 : power = min(4,power+1)\n",
    "\n",
    "#     print(\"0 \" + str(power))\n",
    "\n",
    "round = 0\n",
    "\n",
    "while True:\n",
    "\n",
    "    x, y, h_speed, v_speed, fuel, rotate, power = [int(i) for i in input().split()]\n",
    "\n",
    "    print(f\"0 {str(chromosome[round][1])}\")\n",
    "\n",
    "    print(f\"command 0 {str(chromosome[round][1])}\", file=sys.stderr)\n",
    "\n",
    "    round += 1"
   ]
  },
  {
   "cell_type": "code",
   "execution_count": null,
   "metadata": {},
   "outputs": [],
   "source": []
  },
  {
   "cell_type": "code",
   "execution_count": 6,
   "metadata": {},
   "outputs": [],
   "source": [
    "%store -r data"
   ]
  },
  {
   "cell_type": "code",
   "execution_count": 7,
   "metadata": {},
   "outputs": [
    {
     "data": {
      "text/plain": [
       "{'a': 11, 'b': 22}"
      ]
     },
     "execution_count": 7,
     "metadata": {},
     "output_type": "execute_result"
    }
   ],
   "source": [
    "data"
   ]
  },
  {
   "cell_type": "code",
   "execution_count": null,
   "metadata": {},
   "outputs": [],
   "source": []
  },
  {
   "cell_type": "code",
   "execution_count": null,
   "metadata": {},
   "outputs": [],
   "source": []
  },
  {
   "cell_type": "code",
   "execution_count": null,
   "metadata": {},
   "outputs": [],
   "source": []
  }
 ],
 "metadata": {
  "kernelspec": {
   "display_name": "Python 3",
   "language": "python",
   "name": "python3"
  },
  "language_info": {
   "codemirror_mode": {
    "name": "ipython",
    "version": 3
   },
   "file_extension": ".py",
   "mimetype": "text/x-python",
   "name": "python",
   "nbconvert_exporter": "python",
   "pygments_lexer": "ipython3",
   "version": "3.7.5"
  }
 },
 "nbformat": 4,
 "nbformat_minor": 4
}
