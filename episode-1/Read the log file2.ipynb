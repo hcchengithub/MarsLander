{
 "cells": [
  {
   "cell_type": "markdown",
   "metadata": {},
   "source": [
    "# Read the log file 2\n",
    "\n",
    "Use F12 DevTools to read the Codingame Mars Lander's Console Output section in HTML text. Then we can use BeautifulSoup to parse the HTML text file.\n",
    "- Get the HTML source file '~\\GitHub\\MarsLander\\episode-1\\source.html'"
   ]
  },
  {
   "cell_type": "code",
   "execution_count": 1,
   "metadata": {},
   "outputs": [
    {
     "name": "stdout",
     "output_type": "stream",
     "text": [
      "reDef unknown\n",
      "reDef -->\n"
     ]
    }
   ],
   "source": [
    "from bs4 import BeautifulSoup\n",
    "import peforth, re\n",
    "import numpy as np\n",
    "from pandas.io import clipboard  # clipboard.copy('test) puts 'test' into clipboard "
   ]
  },
  {
   "cell_type": "code",
   "execution_count": 2,
   "metadata": {},
   "outputs": [],
   "source": [
    "# soup = BeautifulSoup(source,\"html.parser\")\n",
    "soup = BeautifulSoup(open(r\"source.html\"),\"html.parser\")"
   ]
  },
  {
   "cell_type": "markdown",
   "metadata": {},
   "source": [
    "# Parsing multiple phases"
   ]
  },
  {
   "cell_type": "code",
   "execution_count": 193,
   "metadata": {},
   "outputs": [
    {
     "name": "stdout",
     "output_type": "stream",
     "text": [
      "reDef phases\n",
      "phases count nip --> 70 (<class 'int'>)\n"
     ]
    }
   ],
   "source": [
    "%f soup :> find_all(class_='frame-players') value phases // ( -- soup ) Logs of all phases \n",
    "%f phases count nip -->"
   ]
  },
  {
   "cell_type": "code",
   "execution_count": 194,
   "metadata": {},
   "outputs": [
    {
     "name": "stdout",
     "output_type": "stream",
     "text": [
      "phases :> [9].find(class_='frame-number').string --> 09 (<class 'bs4.element.NavigableString'>)\n"
     ]
    }
   ],
   "source": [
    "%f phases :> [9].find(class_='frame-number').string -->"
   ]
  },
  {
   "cell_type": "code",
   "execution_count": 5,
   "metadata": {},
   "outputs": [
    {
     "name": "stdout",
     "output_type": "stream",
     "text": [
      "length --> 70 (<class 'int'>)\n"
     ]
    }
   ],
   "source": [
    "phases = soup.find_all(class_='frame-players');\n",
    "length = len(phases)\n",
    "%f length -->"
   ]
  },
  {
   "cell_type": "code",
   "execution_count": 8,
   "metadata": {},
   "outputs": [
    {
     "name": "stdout",
     "output_type": "stream",
     "text": [
      "phase --> <div class=\"frame-players\" ng-if=\"isSubframeValid(subframe)\" ng-repeat=\"subframe in frame.subframes\" style=\"\"> <!-- --><div class=\"errors-container without-error\" ng-class=\"::{'without-error': !subframe.error}\" ng-if=\"::(subframe.stderr || subframe.error)\"> <h3 class=\"title\" ng-style=\"::{color: subframe.agent.color}\" translate=\"ideConsole.stderr\">Standard Error Stream:</h3> <!-- --><pre class=\"stderr\" ng-bind-html=\"::subframe.stderr | secureOutput | promptOutput | trustHtml\" ng-if=\"::subframe.stderr\"><div class=\"outputLine\">command 0 4</div></pre><!-- --> <!-- --> </div><!-- --> <div class=\"frame-hover\" ng-style=\"::{'background-color': subframe.agent.color}\"></div> <!-- --><div class=\"stdout\" ng-if=\"::subframe.stdout\"> <h3 class=\"title\" ng-style=\"::{color: subframe.agent.color}\" translate=\"ideConsole.stdout\">Standard Output Stream:</h3> <pre ng-bind-html=\"::subframe.stdout | secureOutput | promptOutput | trustHtml\"><div class=\"outputLine\">0 4</div></pre> </div><!-- --> <!-- --><div class=\"game-info\" ng-if=\"::subframe.gameInformation\"> <h3 class=\"title\" ng-style=\"::{color: subframe.agent.color}\" translate=\"ideConsole.gameInfo\">Game information:</h3> <pre ng-bind-html=\"::subframe.gameInformation | formatConsole:agents | trustHtml\">Landing in progress...\n",
      "X=2500m, Y=139m, HSpeed=0m/s VSpeed=-39m/s\n",
      "Fuel=287l, Angle=0簞, Power=4 (4.0m/s2)\n",
      "</pre> </div><!-- --> <div class=\"frame-number-bloc\" ng-click=\"gotoFrame(frame.idx)\" ng-style=\"::{color: getFrameNumberBlockColor(frame)}\"> <span class=\"frame-number\" ng-bind=\"::frame.idx | zeroPad:(frames.length - 1).toString().length\">68</span> <span class=\"frame-count\" ng-bind=\"::frames.length - 1\">69</span> </div> </div> (<class 'str'>)\n"
     ]
    }
   ],
   "source": [
    "phase = str(phases[68])\n",
    "%f phase -->"
   ]
  },
  {
   "cell_type": "code",
   "execution_count": 6,
   "metadata": {},
   "outputs": [
    {
     "name": "stdout",
     "output_type": "stream",
     "text": [
      "phase --> <div class=\"game-info\" ng-if=\"::subframe.gameInformation\"> <h3 class=\"title\" ng-style=\"::{color: subframe.agent.color}\" translate=\"ideConsole.gameInfo\">Game information:</h3> <pre ng-bind-html=\"::subframe.gameInformation | formatConsole:agents | trustHtml\">Landing in progress...\n",
      "X=2500m, Y=139m, HSpeed=0m/s VSpeed=-39m/s\n",
      "Fuel=287l, Angle=0簞, Power=4 (4.0m/s2)\n",
      "</pre> </div> (<class 'str'>)\n"
     ]
    }
   ],
   "source": [
    "phase = str(phases[68].find(class_='game-info'))\n",
    "%f phase -->"
   ]
  },
  {
   "cell_type": "code",
   "execution_count": 9,
   "metadata": {},
   "outputs": [
    {
     "name": "stdout",
     "output_type": "stream",
     "text": [
      "phase --> <div class=\"frame-players\" ng-if=\"isSubframeValid(subframe)\" ng-repeat=\"subframe in frame.subframes\" style=\"\"> <!-- --><div class=\"errors-container without-error\" ng-class=\"::{'without-error': !subframe.error}\" ng-if=\"::(subframe.stderr || subframe.error)\"> <h3 class=\"title\" ng-style=\"::{color: subframe.agent.color}\" translate=\"ideConsole.stderr\">Standard Error Stream:</h3> <!-- --><pre class=\"stderr\" ng-bind-html=\"::subframe.stderr | secureOutput | promptOutput | trustHtml\" ng-if=\"::subframe.stderr\"><div class=\"outputLine\">command 0 4</div></pre><!-- --> <!-- --> </div><!-- --> <div class=\"frame-hover\" ng-style=\"::{'background-color': subframe.agent.color}\"></div> <!-- --><div class=\"stdout\" ng-if=\"::subframe.stdout\"> <h3 class=\"title\" ng-style=\"::{color: subframe.agent.color}\" translate=\"ideConsole.stdout\">Standard Output Stream:</h3> <pre ng-bind-html=\"::subframe.stdout | secureOutput | promptOutput | trustHtml\"><div class=\"outputLine\">0 4</div></pre> </div><!-- --> <!-- --><div class=\"game-info\" ng-if=\"::subframe.gameInformation\"> <h3 class=\"title\" ng-style=\"::{color: subframe.agent.color}\" translate=\"ideConsole.gameInfo\">Game information:</h3> <pre ng-bind-html=\"::subframe.gameInformation | formatConsole:agents | trustHtml\">Landing in progress... X=2500m, Y=139m, HSpeed=0m/s VSpeed=-39m/s Fuel=287l, Angle=0簞, Power=4 (4.0m/s2) </pre> </div><!-- --> <div class=\"frame-number-bloc\" ng-click=\"gotoFrame(frame.idx)\" ng-style=\"::{color: getFrameNumberBlockColor(frame)}\"> <span class=\"frame-number\" ng-bind=\"::frame.idx | zeroPad:(frames.length - 1).toString().length\">68</span> <span class=\"frame-count\" ng-bind=\"::frames.length - 1\">69</span> </div> </div> (<class 'str'>)\n"
     ]
    }
   ],
   "source": [
    "phase = re.sub('\\r|\\n',' ', phase)\n",
    "%f phase -->"
   ]
  },
  {
   "cell_type": "code",
   "execution_count": 13,
   "metadata": {},
   "outputs": [
    {
     "name": "stdout",
     "output_type": "stream",
     "text": [
      "m --> <re.Match object; span=(1315, 1323), match='Fuel=287'> (<class 're.Match'>)\n",
      "m :> groups() --> ('287',) (<class 'tuple'>)\n",
      "m :> group('Fuel') --> 287 (<class 'str'>)\n",
      "m :> groupdict() --> {'Fuel': '287'} (<class 'dict'>)\n"
     ]
    }
   ],
   "source": [
    "m = re.search(\"Fuel=(?P<Fuel>\\d+)\",phase)\n",
    "%f m -->\n",
    "%f m :> groups() -->\n",
    "%f m :> group('Fuel') -->\n",
    "%f m :> groupdict() -->"
   ]
  },
  {
   "cell_type": "code",
   "execution_count": 188,
   "metadata": {},
   "outputs": [
    {
     "data": {
      "text/plain": [
       "{'Fuel': '283'}"
      ]
     },
     "execution_count": 188,
     "metadata": {},
     "output_type": "execute_result"
    }
   ],
   "source": [
    "m.groupdict()"
   ]
  },
  {
   "cell_type": "code",
   "execution_count": 139,
   "metadata": {},
   "outputs": [],
   "source": [
    "_ = phases[68].find(class_='game-info').find('pre').string\n",
    "%f _ --> cr\n",
    "_ = phases[68].find(class_='game-info').find('pre').span\n",
    "%f _ --> cr"
   ]
  },
  {
   "cell_type": "code",
   "execution_count": 192,
   "metadata": {},
   "outputs": [
    {
     "name": "stdout",
     "output_type": "stream",
     "text": [
      "instruction --> <div class=\"outputLine\">command 0 4</div> (<class 'bs4.element.Tag'>)\n",
      "instruction :> string --> command 0 4 (<class 'bs4.element.NavigableString'>)\n",
      "\n",
      "Failed in </py> (compiling=False): push() got an unexpected keyword argument 's'\n",
      "Body:\n",
      "push(s=re.search(\".+(\\d+)\\s+(\\d+)\",pop()) )\n"
     ]
    }
   ],
   "source": [
    "instruction = phases[68].find(class_='outputLine')\n",
    "%f instruction -->\n",
    "%f instruction :> string -->\n",
    "%f instruction :> string <py> s=re.search(\".+(\\d+)\\s+(\\d+)\",pop()) </pyV> -->\n"
   ]
  },
  {
   "cell_type": "code",
   "execution_count": 144,
   "metadata": {},
   "outputs": [
    {
     "name": "stdout",
     "output_type": "stream",
     "text": [
      "_ --> [<pre ng-bind-html=\"::subframe.gameInformation | formatConsole:agents | trustHtml\">Landing in progress...\n",
      "X=2500m, Y=139m, HSpeed=0m/s VSpeed=-39m/s\n",
      "Fuel=287l, Angle=0簞, Power=4 (4.0m/s2)\n",
      "</pre>, <pre class=\"stderr\" ng-bind-html=\"::subframe.stderr | secureOutput | promptOutput | trustHtml\" ng-if=\"::subframe.stderr\"><div class=\"outputLine\">command 0 4</div></pre>, <pre ng-bind-html=\"::subframe.stdout | secureOutput | promptOutput | trustHtml\"><div class=\"outputLine\">0 4</div></pre>, <pre ng-bind-html=\"::subframe.gameInformation | formatConsole:agents | trustHtml\"><span class=\"consoleSuccess\">Success: Mars Lander landed hard but Opportunity is ok!</span>\n",
      "X=2500m, Y=100m, HSpeed=0m/s VSpeed=-39m/s\n",
      "Fuel=283l, Angle=0簞, Power=4 (4.0m/s2)\n",
      "</pre>] (<class 'bs4.element.ResultSet'>)\n",
      "\n",
      "_ count nip --> 4 (<class 'int'>)\n",
      "\n",
      "_ :> [0] --> <pre ng-bind-html=\"::subframe.gameInformation | formatConsole:agents | trustHtml\">Landing in progress...\n",
      "X=2500m, Y=139m, HSpeed=0m/s VSpeed=-39m/s\n",
      "Fuel=287l, Angle=0簞, Power=4 (4.0m/s2)\n",
      "</pre> (<class 'bs4.element.Tag'>)\n",
      "\n",
      "_ :> [1] --> <pre class=\"stderr\" ng-bind-html=\"::subframe.stderr | secureOutput | promptOutput | trustHtml\" ng-if=\"::subframe.stderr\"><div class=\"outputLine\">command 0 4</div></pre> (<class 'bs4.element.Tag'>)\n",
      "\n",
      "_ :> [2] --> <pre ng-bind-html=\"::subframe.stdout | secureOutput | promptOutput | trustHtml\"><div class=\"outputLine\">0 4</div></pre> (<class 'bs4.element.Tag'>)\n",
      "\n",
      "_ :> [3] --> <pre ng-bind-html=\"::subframe.gameInformation | formatConsole:agents | trustHtml\"><span class=\"consoleSuccess\">Success: Mars Lander landed hard but Opportunity is ok!</span>\n",
      "X=2500m, Y=100m, HSpeed=0m/s VSpeed=-39m/s\n",
      "Fuel=283l, Angle=0簞, Power=4 (4.0m/s2)\n",
      "</pre> (<class 'bs4.element.Tag'>)\n",
      "\n"
     ]
    }
   ],
   "source": [
    "_ = phases[68].find(class_='game-info').find_all_next('pre')\n",
    "%f _ --> cr\n",
    "%f _ count nip --> cr\n",
    "%f _ :> [0] --> cr\n",
    "%f _ :> [1] --> cr \n",
    "%f _ :> [2] --> cr\n",
    "%f _ :> [3] --> cr\n"
   ]
  },
  {
   "cell_type": "code",
   "execution_count": 147,
   "metadata": {},
   "outputs": [
    {
     "name": "stdout",
     "output_type": "stream",
     "text": [
      "_ --> [<pre ng-bind-html=\"::subframe.gameInformation | formatConsole:agents | trustHtml\"><span class=\"consoleSuccess\">Success: Mars Lander landed hard but Opportunity is ok!</span>\n",
      "X=2500m, Y=100m, HSpeed=0m/s VSpeed=-39m/s\n",
      "Fuel=283l, Angle=0簞, Power=4 (4.0m/s2)\n",
      "</pre>] (<class 'bs4.element.ResultSet'>)\n",
      "\n",
      "_ count nip --> 1 (<class 'int'>)\n",
      "\n",
      "_ :> [0] --> <pre ng-bind-html=\"::subframe.gameInformation | formatConsole:agents | trustHtml\"><span class=\"consoleSuccess\">Success: Mars Lander landed hard but Opportunity is ok!</span>\n",
      "X=2500m, Y=100m, HSpeed=0m/s VSpeed=-39m/s\n",
      "Fuel=283l, Angle=0簞, Power=4 (4.0m/s2)\n",
      "</pre> (<class 'bs4.element.Tag'>)\n",
      "\n",
      "\n",
      "Failed in </py> (compiling=False): list index out of range\n",
      "Body:\n",
      "push(pop()[1])\n",
      "\n",
      "Failed in </py> (compiling=False): list index out of range\n",
      "Body:\n",
      "push(pop()[2])\n",
      "\n",
      "Failed in </py> (compiling=False): list index out of range\n",
      "Body:\n",
      "push(pop()[3])\n"
     ]
    }
   ],
   "source": [
    "_ = phases[69].find(class_='game-info').find_all_next('pre')\n",
    "%f _ --> cr\n",
    "%f _ count nip --> cr\n",
    "%f _ :> [0] --> cr\n",
    "%f _ :> [1] --> cr \n",
    "%f _ :> [2] --> cr\n",
    "%f _ :> [3] --> cr\n"
   ]
  },
  {
   "cell_type": "code",
   "execution_count": 137,
   "metadata": {},
   "outputs": [
    {
     "name": "stdout",
     "output_type": "stream",
     "text": [
      "_ --> None (<class 'NoneType'>)\n",
      "\n",
      "_ --> <span class=\"consoleSuccess\">Success: Mars Lander landed hard but Opportunity is ok!</span> (<class 'bs4.element.Tag'>)\n",
      "\n"
     ]
    }
   ],
   "source": [
    "_ = phases[69].find(class_='game-info').find('pre').string\n",
    "%f _ --> cr\n",
    "\n",
    "_ = phases[69].find(class_='game-info').find('pre').span\n",
    "%f _ --> cr\n"
   ]
  },
  {
   "cell_type": "code",
   "execution_count": 123,
   "metadata": {},
   "outputs": [
    {
     "ename": "TypeError",
     "evalue": "expected string or bytes-like object",
     "output_type": "error",
     "traceback": [
      "\u001b[1;31m---------------------------------------------------------------------------\u001b[0m",
      "\u001b[1;31mTypeError\u001b[0m                                 Traceback (most recent call last)",
      "\u001b[1;32m<ipython-input-123-0bb5a01bb76c>\u001b[0m in \u001b[0;36m<module>\u001b[1;34m\u001b[0m\n\u001b[1;32m----> 1\u001b[1;33m \u001b[0mre\u001b[0m\u001b[1;33m.\u001b[0m\u001b[0msub\u001b[0m\u001b[1;33m(\u001b[0m\u001b[1;34m'\\r|\\n'\u001b[0m\u001b[1;33m,\u001b[0m\u001b[1;34m' '\u001b[0m\u001b[1;33m,\u001b[0m \u001b[0mphases\u001b[0m\u001b[1;33m[\u001b[0m\u001b[1;36m69\u001b[0m\u001b[1;33m]\u001b[0m\u001b[1;33m.\u001b[0m\u001b[0mfind\u001b[0m\u001b[1;33m(\u001b[0m\u001b[0mclass_\u001b[0m\u001b[1;33m=\u001b[0m\u001b[1;34m'game-info'\u001b[0m\u001b[1;33m)\u001b[0m\u001b[1;33m.\u001b[0m\u001b[0mfind\u001b[0m\u001b[1;33m(\u001b[0m\u001b[1;34m'pre'\u001b[0m\u001b[1;33m)\u001b[0m\u001b[1;33m.\u001b[0m\u001b[0mstring\u001b[0m\u001b[1;33m)\u001b[0m\u001b[1;33m\u001b[0m\u001b[1;33m\u001b[0m\u001b[0m\n\u001b[0m",
      "\u001b[1;32m~\\AppData\\Local\\Continuum\\anaconda3\\envs\\peforthDevelop\\lib\\re.py\u001b[0m in \u001b[0;36msub\u001b[1;34m(pattern, repl, string, count, flags)\u001b[0m\n\u001b[0;32m    190\u001b[0m     \u001b[0ma\u001b[0m \u001b[0mcallable\u001b[0m\u001b[1;33m,\u001b[0m \u001b[0mit\u001b[0m\u001b[0;31m'\u001b[0m\u001b[0ms\u001b[0m \u001b[0mpassed\u001b[0m \u001b[0mthe\u001b[0m \u001b[0mMatch\u001b[0m \u001b[0mobject\u001b[0m \u001b[1;32mand\u001b[0m \u001b[0mmust\u001b[0m \u001b[1;32mreturn\u001b[0m\u001b[1;33m\u001b[0m\u001b[1;33m\u001b[0m\u001b[0m\n\u001b[0;32m    191\u001b[0m     a replacement string to be used.\"\"\"\n\u001b[1;32m--> 192\u001b[1;33m     \u001b[1;32mreturn\u001b[0m \u001b[0m_compile\u001b[0m\u001b[1;33m(\u001b[0m\u001b[0mpattern\u001b[0m\u001b[1;33m,\u001b[0m \u001b[0mflags\u001b[0m\u001b[1;33m)\u001b[0m\u001b[1;33m.\u001b[0m\u001b[0msub\u001b[0m\u001b[1;33m(\u001b[0m\u001b[0mrepl\u001b[0m\u001b[1;33m,\u001b[0m \u001b[0mstring\u001b[0m\u001b[1;33m,\u001b[0m \u001b[0mcount\u001b[0m\u001b[1;33m)\u001b[0m\u001b[1;33m\u001b[0m\u001b[1;33m\u001b[0m\u001b[0m\n\u001b[0m\u001b[0;32m    193\u001b[0m \u001b[1;33m\u001b[0m\u001b[0m\n\u001b[0;32m    194\u001b[0m \u001b[1;32mdef\u001b[0m \u001b[0msubn\u001b[0m\u001b[1;33m(\u001b[0m\u001b[0mpattern\u001b[0m\u001b[1;33m,\u001b[0m \u001b[0mrepl\u001b[0m\u001b[1;33m,\u001b[0m \u001b[0mstring\u001b[0m\u001b[1;33m,\u001b[0m \u001b[0mcount\u001b[0m\u001b[1;33m=\u001b[0m\u001b[1;36m0\u001b[0m\u001b[1;33m,\u001b[0m \u001b[0mflags\u001b[0m\u001b[1;33m=\u001b[0m\u001b[1;36m0\u001b[0m\u001b[1;33m)\u001b[0m\u001b[1;33m:\u001b[0m\u001b[1;33m\u001b[0m\u001b[1;33m\u001b[0m\u001b[0m\n",
      "\u001b[1;31mTypeError\u001b[0m: expected string or bytes-like object"
     ]
    }
   ],
   "source": [
    "re.sub('\\r|\\n',' ', phases[69].find(class_='game-info').find('pre').string)"
   ]
  },
  {
   "cell_type": "code",
   "execution_count": 149,
   "metadata": {},
   "outputs": [
    {
     "name": "stdout",
     "output_type": "stream",
     "text": [
      "0 i . space p --> Landing phase starting X=2500m, Y=2500m, HSpeed=0m/s VSpeed=0m/s Fuel=500l, Angle=0簞, Power=0 (0.0m/s2)  (<class 'str'>)\n",
      "1 i . space p --> Landing in progress... X=2500m, Y=2498m, HSpeed=0m/s VSpeed=-4m/s Fuel=500l, Angle=0簞, Power=0 (0.0m/s2)  (<class 'str'>)\n",
      "2 i . space p --> Landing in progress... X=2500m, Y=2493m, HSpeed=0m/s VSpeed=-6m/s Fuel=499l, Angle=0簞, Power=1 (1.0m/s2)  (<class 'str'>)\n",
      "3 i . space p --> Landing in progress... X=2500m, Y=2485m, HSpeed=0m/s VSpeed=-10m/s Fuel=499l, Angle=0簞, Power=0 (0.0m/s2)  (<class 'str'>)\n",
      "4 i . space p --> Landing in progress... X=2500m, Y=2473m, HSpeed=0m/s VSpeed=-14m/s Fuel=499l, Angle=0簞, Power=0 (0.0m/s2)  (<class 'str'>)\n",
      "5 i . space p --> Landing in progress... X=2500m, Y=2458m, HSpeed=0m/s VSpeed=-17m/s Fuel=498l, Angle=0簞, Power=1 (1.0m/s2)  (<class 'str'>)\n",
      "6 i . space p --> Landing in progress... X=2500m, Y=2439m, HSpeed=0m/s VSpeed=-20m/s Fuel=498l, Angle=0簞, Power=0 (0.0m/s2)  (<class 'str'>)\n",
      "7 i . space p --> Landing in progress... X=2500m, Y=2418m, HSpeed=0m/s VSpeed=-23m/s Fuel=497l, Angle=0簞, Power=1 (1.0m/s2)  (<class 'str'>)\n",
      "8 i . space p --> Landing in progress... X=2500m, Y=2393m, HSpeed=0m/s VSpeed=-27m/s Fuel=497l, Angle=0簞, Power=0 (0.0m/s2)  (<class 'str'>)\n",
      "9 i . space p --> Landing in progress... X=2500m, Y=2365m, HSpeed=0m/s VSpeed=-29m/s Fuel=496l, Angle=0簞, Power=1 (1.0m/s2)  (<class 'str'>)\n",
      "10 i . space p --> Landing in progress... X=2500m, Y=2334m, HSpeed=0m/s VSpeed=-31m/s Fuel=494l, Angle=0簞, Power=2 (2.0m/s2)  (<class 'str'>)\n",
      "11 i . space p --> Landing in progress... X=2500m, Y=2303m, HSpeed=0m/s VSpeed=-32m/s Fuel=491l, Angle=0簞, Power=3 (3.0m/s2)  (<class 'str'>)\n",
      "12 i . space p --> Landing in progress... X=2500m, Y=2271m, HSpeed=0m/s VSpeed=-32m/s Fuel=487l, Angle=0簞, Power=4 (4.0m/s2)  (<class 'str'>)\n",
      "13 i . space p --> Landing in progress... X=2500m, Y=2239m, HSpeed=0m/s VSpeed=-32m/s Fuel=484l, Angle=0簞, Power=3 (3.0m/s2)  (<class 'str'>)\n",
      "14 i . space p --> Landing in progress... X=2500m, Y=2207m, HSpeed=0m/s VSpeed=-32m/s Fuel=480l, Angle=0簞, Power=4 (4.0m/s2)  (<class 'str'>)\n",
      "15 i . space p --> Landing in progress... X=2500m, Y=2175m, HSpeed=0m/s VSpeed=-33m/s Fuel=477l, Angle=0簞, Power=3 (3.0m/s2)  (<class 'str'>)\n",
      "16 i . space p --> Landing in progress... X=2500m, Y=2141m, HSpeed=0m/s VSpeed=-34m/s Fuel=475l, Angle=0簞, Power=2 (2.0m/s2)  (<class 'str'>)\n",
      "17 i . space p --> Landing in progress... X=2500m, Y=2107m, HSpeed=0m/s VSpeed=-35m/s Fuel=472l, Angle=0簞, Power=3 (3.0m/s2)  (<class 'str'>)\n",
      "18 i . space p --> Landing in progress... X=2500m, Y=2071m, HSpeed=0m/s VSpeed=-37m/s Fuel=470l, Angle=0簞, Power=2 (2.0m/s2)  (<class 'str'>)\n",
      "19 i . space p --> Landing in progress... X=2500m, Y=2034m, HSpeed=0m/s VSpeed=-38m/s Fuel=467l, Angle=0簞, Power=3 (3.0m/s2)  (<class 'str'>)\n",
      "20 i . space p --> Landing in progress... X=2500m, Y=1996m, HSpeed=0m/s VSpeed=-37m/s Fuel=463l, Angle=0簞, Power=4 (4.0m/s2)  (<class 'str'>)\n",
      "21 i . space p --> Landing in progress... X=2500m, Y=1959m, HSpeed=0m/s VSpeed=-38m/s Fuel=460l, Angle=0簞, Power=3 (3.0m/s2)  (<class 'str'>)\n",
      "22 i . space p --> Landing in progress... X=2500m, Y=1921m, HSpeed=0m/s VSpeed=-38m/s Fuel=456l, Angle=0簞, Power=4 (4.0m/s2)  (<class 'str'>)\n",
      "23 i . space p --> Landing in progress... X=2500m, Y=1883m, HSpeed=0m/s VSpeed=-37m/s Fuel=452l, Angle=0簞, Power=4 (4.0m/s2)  (<class 'str'>)\n",
      "24 i . space p --> Landing in progress... X=2500m, Y=1846m, HSpeed=0m/s VSpeed=-38m/s Fuel=449l, Angle=0簞, Power=3 (3.0m/s2)  (<class 'str'>)\n",
      "25 i . space p --> Landing in progress... X=2500m, Y=1808m, HSpeed=0m/s VSpeed=-38m/s Fuel=445l, Angle=0簞, Power=4 (4.0m/s2)  (<class 'str'>)\n",
      "26 i . space p --> Landing in progress... X=2500m, Y=1770m, HSpeed=0m/s VSpeed=-37m/s Fuel=441l, Angle=0簞, Power=4 (4.0m/s2)  (<class 'str'>)\n",
      "27 i . space p --> Landing in progress... X=2500m, Y=1732m, HSpeed=0m/s VSpeed=-38m/s Fuel=438l, Angle=0簞, Power=3 (3.0m/s2)  (<class 'str'>)\n",
      "28 i . space p --> Landing in progress... X=2500m, Y=1694m, HSpeed=0m/s VSpeed=-38m/s Fuel=434l, Angle=0簞, Power=4 (4.0m/s2)  (<class 'str'>)\n",
      "29 i . space p --> Landing in progress... X=2500m, Y=1656m, HSpeed=0m/s VSpeed=-39m/s Fuel=431l, Angle=0簞, Power=3 (3.0m/s2)  (<class 'str'>)\n",
      "30 i . space p --> Landing in progress... X=2500m, Y=1618m, HSpeed=0m/s VSpeed=-38m/s Fuel=427l, Angle=0簞, Power=4 (4.0m/s2)  (<class 'str'>)\n",
      "31 i . space p --> Landing in progress... X=2500m, Y=1579m, HSpeed=0m/s VSpeed=-38m/s Fuel=423l, Angle=0簞, Power=4 (4.0m/s2)  (<class 'str'>)\n",
      "32 i . space p --> Landing in progress... X=2500m, Y=1541m, HSpeed=0m/s VSpeed=-39m/s Fuel=420l, Angle=0簞, Power=3 (3.0m/s2)  (<class 'str'>)\n",
      "33 i . space p --> Landing in progress... X=2500m, Y=1502m, HSpeed=0m/s VSpeed=-38m/s Fuel=416l, Angle=0簞, Power=4 (4.0m/s2)  (<class 'str'>)\n",
      "34 i . space p --> Landing in progress... X=2500m, Y=1464m, HSpeed=0m/s VSpeed=-39m/s Fuel=413l, Angle=0簞, Power=3 (3.0m/s2)  (<class 'str'>)\n",
      "35 i . space p --> Landing in progress... X=2500m, Y=1425m, HSpeed=0m/s VSpeed=-39m/s Fuel=409l, Angle=0簞, Power=4 (4.0m/s2)  (<class 'str'>)\n",
      "36 i . space p --> Landing in progress... X=2500m, Y=1386m, HSpeed=0m/s VSpeed=-39m/s Fuel=405l, Angle=0簞, Power=4 (4.0m/s2)  (<class 'str'>)\n",
      "37 i . space p --> Landing in progress... X=2500m, Y=1347m, HSpeed=0m/s VSpeed=-39m/s Fuel=402l, Angle=0簞, Power=3 (3.0m/s2)  (<class 'str'>)\n",
      "38 i . space p --> Landing in progress... X=2500m, Y=1308m, HSpeed=0m/s VSpeed=-39m/s Fuel=398l, Angle=0簞, Power=4 (4.0m/s2)  (<class 'str'>)\n",
      "39 i . space p --> Landing in progress... X=2500m, Y=1269m, HSpeed=0m/s VSpeed=-39m/s Fuel=394l, Angle=0簞, Power=4 (4.0m/s2)  (<class 'str'>)\n",
      "40 i . space p --> Landing in progress... X=2500m, Y=1230m, HSpeed=0m/s VSpeed=-39m/s Fuel=391l, Angle=0簞, Power=3 (3.0m/s2)  (<class 'str'>)\n",
      "41 i . space p --> Landing in progress... X=2500m, Y=1190m, HSpeed=0m/s VSpeed=-39m/s Fuel=387l, Angle=0簞, Power=4 (4.0m/s2)  (<class 'str'>)\n",
      "42 i . space p --> Landing in progress... X=2500m, Y=1151m, HSpeed=0m/s VSpeed=-39m/s Fuel=383l, Angle=0簞, Power=4 (4.0m/s2)  (<class 'str'>)\n",
      "43 i . space p --> Landing in progress... X=2500m, Y=1113m, HSpeed=0m/s VSpeed=-39m/s Fuel=379l, Angle=0簞, Power=4 (4.0m/s2)  (<class 'str'>)\n",
      "44 i . space p --> Landing in progress... X=2500m, Y=1074m, HSpeed=0m/s VSpeed=-38m/s Fuel=375l, Angle=0簞, Power=4 (4.0m/s2)  (<class 'str'>)\n",
      "45 i . space p --> Landing in progress... X=2500m, Y=1036m, HSpeed=0m/s VSpeed=-39m/s Fuel=372l, Angle=0簞, Power=3 (3.0m/s2)  (<class 'str'>)\n",
      "46 i . space p --> Landing in progress... X=2500m, Y=997m, HSpeed=0m/s VSpeed=-39m/s Fuel=368l, Angle=0簞, Power=4 (4.0m/s2)  (<class 'str'>)\n",
      "47 i . space p --> Landing in progress... X=2500m, Y=958m, HSpeed=0m/s VSpeed=-39m/s Fuel=365l, Angle=0簞, Power=3 (3.0m/s2)  (<class 'str'>)\n",
      "48 i . space p --> Landing in progress... X=2500m, Y=918m, HSpeed=0m/s VSpeed=-39m/s Fuel=361l, Angle=0簞, Power=4 (4.0m/s2)  (<class 'str'>)\n",
      "49 i . space p --> Landing in progress... X=2500m, Y=879m, HSpeed=0m/s VSpeed=-40m/s Fuel=358l, Angle=0簞, Power=3 (3.0m/s2)  (<class 'str'>)\n",
      "50 i . space p --> Landing in progress... X=2500m, Y=839m, HSpeed=0m/s VSpeed=-40m/s Fuel=354l, Angle=0簞, Power=4 (4.0m/s2)  (<class 'str'>)\n",
      "51 i . space p --> Landing in progress... X=2500m, Y=800m, HSpeed=0m/s VSpeed=-39m/s Fuel=350l, Angle=0簞, Power=4 (4.0m/s2)  (<class 'str'>)\n",
      "52 i . space p --> Landing in progress... X=2500m, Y=761m, HSpeed=0m/s VSpeed=-39m/s Fuel=346l, Angle=0簞, Power=4 (4.0m/s2)  (<class 'str'>)\n",
      "53 i . space p --> Landing in progress... X=2500m, Y=722m, HSpeed=0m/s VSpeed=-39m/s Fuel=342l, Angle=0簞, Power=4 (4.0m/s2)  (<class 'str'>)\n",
      "54 i . space p --> Landing in progress... X=2500m, Y=683m, HSpeed=0m/s VSpeed=-38m/s Fuel=338l, Angle=0簞, Power=4 (4.0m/s2)  (<class 'str'>)\n",
      "55 i . space p --> Landing in progress... X=2500m, Y=645m, HSpeed=0m/s VSpeed=-38m/s Fuel=334l, Angle=0簞, Power=4 (4.0m/s2)  (<class 'str'>)\n",
      "56 i . space p --> Landing in progress... X=2500m, Y=607m, HSpeed=0m/s VSpeed=-39m/s Fuel=331l, Angle=0簞, Power=3 (3.0m/s2)  (<class 'str'>)\n",
      "57 i . space p --> Landing in progress... X=2500m, Y=568m, HSpeed=0m/s VSpeed=-39m/s Fuel=327l, Angle=0簞, Power=4 (4.0m/s2)  (<class 'str'>)\n",
      "58 i . space p --> Landing in progress... X=2500m, Y=529m, HSpeed=0m/s VSpeed=-39m/s Fuel=324l, Angle=0簞, Power=3 (3.0m/s2)  (<class 'str'>)\n",
      "59 i . space p --> Landing in progress... X=2500m, Y=490m, HSpeed=0m/s VSpeed=-39m/s Fuel=320l, Angle=0簞, Power=4 (4.0m/s2)  (<class 'str'>)\n",
      "60 i . space p --> Landing in progress... X=2500m, Y=451m, HSpeed=0m/s VSpeed=-39m/s Fuel=316l, Angle=0簞, Power=4 (4.0m/s2)  (<class 'str'>)\n",
      "61 i . space p --> Landing in progress... X=2500m, Y=413m, HSpeed=0m/s VSpeed=-38m/s Fuel=312l, Angle=0簞, Power=4 (4.0m/s2)  (<class 'str'>)\n",
      "62 i . space p --> Landing in progress... X=2500m, Y=374m, HSpeed=0m/s VSpeed=-39m/s Fuel=309l, Angle=0簞, Power=3 (3.0m/s2)  (<class 'str'>)\n",
      "63 i . space p --> Landing in progress... X=2500m, Y=335m, HSpeed=0m/s VSpeed=-39m/s Fuel=305l, Angle=0簞, Power=4 (4.0m/s2)  (<class 'str'>)\n",
      "64 i . space p --> Landing in progress... X=2500m, Y=296m, HSpeed=0m/s VSpeed=-40m/s Fuel=302l, Angle=0簞, Power=3 (3.0m/s2)  (<class 'str'>)\n",
      "65 i . space p --> Landing in progress... X=2500m, Y=257m, HSpeed=0m/s VSpeed=-39m/s Fuel=298l, Angle=0簞, Power=4 (4.0m/s2)  (<class 'str'>)\n",
      "66 i . space p --> Landing in progress... X=2500m, Y=217m, HSpeed=0m/s VSpeed=-39m/s Fuel=294l, Angle=0簞, Power=4 (4.0m/s2)  (<class 'str'>)\n",
      "67 i . space p --> Landing in progress... X=2500m, Y=178m, HSpeed=0m/s VSpeed=-40m/s Fuel=291l, Angle=0簞, Power=3 (3.0m/s2)  (<class 'str'>)\n",
      "68 i . space p --> Landing in progress... X=2500m, Y=139m, HSpeed=0m/s VSpeed=-39m/s Fuel=287l, Angle=0簞, Power=4 (4.0m/s2)  (<class 'str'>)\n"
     ]
    }
   ],
   "source": [
    "for i in range(len(phases)-1):\n",
    "    # phases[i].find(class_='game-info').find_all_next('pre')\n",
    "    p = re.sub('\\r|\\n',' ', phases[i].find(class_='game-info').find('pre').string)\n",
    "    %f i . space p -->"
   ]
  },
  {
   "cell_type": "code",
   "execution_count": 110,
   "metadata": {},
   "outputs": [
    {
     "ename": "SyntaxError",
     "evalue": "'return' outside function (<ipython-input-110-8490d2cc7479>, line 4)",
     "output_type": "error",
     "traceback": [
      "\u001b[1;36m  File \u001b[1;32m\"<ipython-input-110-8490d2cc7479>\"\u001b[1;36m, line \u001b[1;32m4\u001b[0m\n\u001b[1;33m    return\u001b[0m\n\u001b[1;37m    ^\u001b[0m\n\u001b[1;31mSyntaxError\u001b[0m\u001b[1;31m:\u001b[0m 'return' outside function\n"
     ]
    }
   ],
   "source": [
    "    regEx = re.compile(\"Landing phase starting.+X=(?P<X>\\d+).+Y=(?P<Y>\\d+).+HSpeed=(?P<HSpeed>\\d+).+VSpeed=(?P<VSpeed>\\d+).+Fuel=(?P<Fuel>\\d+).+Angle=(?P<Angle>\\d+).+Power=(?P<Power>\\d+)\")\n",
    "    m = re.match(regEx,phase)\n",
    "    %f m :> groups() -->\n",
    "    %f m :> group('X') -->\n",
    "    %f m :> group('Power') -->\n",
    "    %f m :> groupdict() -->"
   ]
  },
  {
   "cell_type": "code",
   "execution_count": 106,
   "metadata": {},
   "outputs": [
    {
     "name": "stdout",
     "output_type": "stream",
     "text": [
      "regEx --> re.compile('Landing phase starting.+X=(?P<X>\\\\d+).+Y=(?P<Y>\\\\d+).+HSpeed=(?P<HSpeed>\\\\d+).+VSpeed=(?P<VSpeed>\\\\d+).+Fuel=(?P<Fuel>\\\\d+).+Angle=(?P<Angle>\\\\d+).+Power=(?P<Power>\\\\d+)') (<class 're.Pattern'>)\n"
     ]
    }
   ],
   "source": [
    "regEx = re.compile(\"Landing phase starting.+X=(?P<X>\\d+).+Y=(?P<Y>\\d+).+HSpeed=(?P<HSpeed>\\d+).+VSpeed=(?P<VSpeed>\\d+).+Fuel=(?P<Fuel>\\d+).+Angle=(?P<Angle>\\d+).+Power=(?P<Power>\\d+)\")\n",
    "%f regEx -->    "
   ]
  },
  {
   "cell_type": "code",
   "execution_count": 92,
   "metadata": {},
   "outputs": [],
   "source": [
    "%f soup :> find(class_='frame-players').find(class_='frame-number').string -->\n",
    "%f soup :> find(class_='frame-players').find(class_='frame-count').string --> cr\n",
    "%f soup :> find(class_='frame-players').find(class_='game-info') ==> cr     \n",
    "\n",
    "%f \"\" value phase // ( -- str ) Log of a phase. \"Landing phase starting X=2500m, Y=2500m, HSpeed=0m/s VSpeed=0m/s ...\" \n",
    "\n",
    "%f soup :> find(class_='frame-players').find(class_='game-info').find('pre').string dup to phase -->\n",
    "\n",
    "%f ( Phase log data ) phase <py> re.sub('\\r|\\n',' ',pop())</pyV> dup to phase ==>\n",
    "\n",
    "%f dropall s\" Landing phase starting.+X=(?P<X>\\d+).+Y=(?P<Y>\\d+).+HSpeed=(?P<HSpeed>\\d+).+VSpeed=(?P<VSpeed>\\d+).+Fuel=(?P<Fuel>\\d+).+Angle=(?P<Angle>\\d+).+Power=(?P<Power>\\d+)\" \n",
    "\n",
    "%f \"\" value m // ( -- match ) re.match result\n",
    "\n",
    "%f s\" Landing.+\"\n",
    "%f s\" X=(?P<X>\\d+).+\" +\n",
    "%f s\" Y=(?P<Y>\\d+).+\" +\n",
    "%f s\" HSpeed=(?P<HSpeed>\\d+).+\" +\n",
    "%f s\" VSpeed=(?P<VSpeed>\\d+).+\" +\n",
    "%f s\" Fuel=(?P<Fuel>\\d+).+\" +\n",
    "%f s\" Angle=(?P<Angle>\\d+).+\" +\n",
    "%f s\" Power=(?P<Power>\\d+)\" +\n",
    "%f phase re :> match(pop(1),pop(0)) dup to m ==>\n",
    "%f m :> groups() -->\n",
    "%f m :> group('X') -->\n",
    "%f m :> group('Power') -->\n",
    "%f m :> groupdict() -->"
   ]
  },
  {
   "cell_type": "code",
   "execution_count": null,
   "metadata": {},
   "outputs": [],
   "source": []
  },
  {
   "cell_type": "code",
   "execution_count": null,
   "metadata": {},
   "outputs": [],
   "source": []
  },
  {
   "cell_type": "code",
   "execution_count": 7,
   "metadata": {},
   "outputs": [],
   "source": [
    "# 執行到此 cell 為止\n",
    "try: assert False\n",
    "except: pass"
   ]
  },
  {
   "cell_type": "markdown",
   "metadata": {},
   "source": [
    "# 筆記"
   ]
  },
  {
   "cell_type": "code",
   "execution_count": 1,
   "metadata": {},
   "outputs": [
    {
     "name": "stdout",
     "output_type": "stream",
     "text": [
      "# conda environments:\n",
      "#\n",
      "base                     C:\\Users\\8304018\\AppData\\Local\\Continuum\\anaconda3\n",
      "peforthDevelop        *  C:\\Users\\8304018\\AppData\\Local\\Continuum\\anaconda3\\envs\\peforthDevelop\n",
      "\n"
     ]
    }
   ],
   "source": [
    "!conda env list"
   ]
  },
  {
   "cell_type": "code",
   "execution_count": 5,
   "metadata": {},
   "outputs": [
    {
     "name": "stdout",
     "output_type": "stream",
     "text": [
      "soup :> prettify()[:500] ==>\n",
      " <p name=\"lalala\">\n",
      " I am lalala\n",
      "</p>\n",
      "<div class=\"left-bloc console-bloc bloc\" ng-class=\"{'with-leaderboard': !!apis.miniLeaderboard}\" style=\"right: calc(100% - (510px + 0.5 * (100% - 1020px)));\">\n",
      " <div class=\"bloc-header\">\n",
      "  <h3 cg-ide-console-title=\"\" class=\"console-left-header bloc-title\" translate=\"cgIde.console\">\n",
      "   Console output\n",
      "  </h3>\n",
      "  <div class=\"console-filter-selector\">\n",
      "   <div class=\"cg-ide-console-filter\" filter=\"consoleFilter\" ng-class=\"{open: isOpen}\" ng-show=\"apis.console\">\n",
      "    < (<class 'str'>)\n"
     ]
    }
   ],
   "source": [
    "%f soup :> prettify()[:500] ==>"
   ]
  },
  {
   "cell_type": "code",
   "execution_count": 9,
   "metadata": {},
   "outputs": [
    {
     "name": "stdout",
     "output_type": "stream",
     "text": [
      "( 沒有 title ) soup :> title --> None (<class 'NoneType'>)\n",
      "( 沒有 anchor ) soup :> a --> None (<class 'NoneType'>)\n",
      "( 這就是 Console Output 了 ) soup :> h3 --> <h3 cg-ide-console-title=\"\" class=\"console-left-header bloc-title\" translate=\"cgIde.console\">Console output</h3> (<class 'bs4.element.Tag'>)\n"
     ]
    }
   ],
   "source": [
    "# soup.<tag> 的用法\n",
    "%f ( 沒有 title ) soup :> title -->  \n",
    "%f ( 沒有 anchor ) soup :> a --> \n",
    "%f ( 這就是 Console Output 了 ) soup :> h3 -->"
   ]
  },
  {
   "cell_type": "code",
   "execution_count": 10,
   "metadata": {},
   "outputs": [
    {
     "name": "stdout",
     "output_type": "stream",
     "text": [
      "( 抓第一個 p tag ) soup :> p --> <p name=\"lalala\"> I am lalala</p> (<class 'bs4.element.Tag'>)\n",
      "( 這 name 指的是這個 tag 的 name ) soup :> p.parent.name --> [document] (<class 'str'>)\n",
      "( attributes 是個 dict ) soup :> p.attrs --> {'name': 'lalala'} (<class 'dict'>)\n",
      "\n",
      "Error! (innerText unknown.\n",
      "\n"
     ]
    }
   ],
   "source": [
    "# soup.<tag>.name 的用法\n",
    "%f ( 抓第一個 p tag ) soup :> p -->  \n",
    "%f ( 這 name 指的是這個 tag 的 name ) soup :> p.parent.name -->  \n",
    "%f ( attributes 是個 dict ) soup :> p.attrs -->  \n",
    "%f (innerText of the tag ) soup :> p.string -->  \n"
   ]
  },
  {
   "cell_type": "code",
   "execution_count": 11,
   "metadata": {},
   "outputs": [
    {
     "name": "stdout",
     "output_type": "stream",
     "text": [
      "soup :> div.div.div.div.div dup :> prettify() ==>\n",
      " <div class=\"selected-items\" ng-click=\"open()\">\n",
      " <!-- -->\n",
      " <!-- -->\n",
      " <span class=\"selected-item\" ng-if=\"selected\" ng-repeat=\"(name, selected) in filter\" translate=\"ideConsoleFilter.gameInfo\">\n",
      "  Game information\n",
      " </span>\n",
      " <!-- -->\n",
      " <!-- -->\n",
      " <!-- -->\n",
      " <span class=\"selected-item\" ng-if=\"selected\" ng-repeat=\"(name, selected) in filter\" translate=\"ideConsoleFilter.stdout\">\n",
      "  Action (Output Stream)\n",
      " </span>\n",
      " <!-- -->\n",
      " <!-- -->\n",
      " <!-- -->\n",
      " <span class=\"selected-item\" ng-if=\"selected\" ng-repeat=\"(name, selected) in filter\" translate=\"ideConsoleFilter.stderr\">\n",
      "  Debug (Errors Stream)\n",
      " </span>\n",
      " <!-- -->\n",
      " <!-- -->\n",
      "</div>\n",
      " (<class 'str'>)\n",
      "\n",
      "( .children 是沒有實體的 iterator ) cr dup :> children ==>\n",
      " <list_iterator object at 0x000001955F7F6EC8> (<class 'list_iterator'>)\n",
      "\n",
      "cr dup :> children list ==>\n",
      " [' ', ' ', ' ', <span class=\"selected-item\" ng-if=\"selected\" ng-repeat=\"(name, selected) in filter\" translate=\"ideConsoleFilter.gameInfo\">Game information</span>, ' ', ' ', ' ', <span class=\"selected-item\" ng-if=\"selected\" ng-repeat=\"(name, selected) in filter\" translate=\"ideConsoleFilter.stdout\">Action (Output Stream)</span>, ' ', ' ', ' ', <span class=\"selected-item\" ng-if=\"selected\" ng-repeat=\"(name, selected) in filter\" translate=\"ideConsoleFilter.stderr\">Debug (Errors Stream)</span>, ' ', ' ', ' '] (<class 'list'>)\n",
      "\n",
      "( .contents 其實就是 .children 的 list 實體 ) cr dup :> contents ==>\n",
      " [' ', ' ', ' ', <span class=\"selected-item\" ng-if=\"selected\" ng-repeat=\"(name, selected) in filter\" translate=\"ideConsoleFilter.gameInfo\">Game information</span>, ' ', ' ', ' ', <span class=\"selected-item\" ng-if=\"selected\" ng-repeat=\"(name, selected) in filter\" translate=\"ideConsoleFilter.stdout\">Action (Output Stream)</span>, ' ', ' ', ' ', <span class=\"selected-item\" ng-if=\"selected\" ng-repeat=\"(name, selected) in filter\" translate=\"ideConsoleFilter.stderr\">Debug (Errors Stream)</span>, ' ', ' ', ' '] (<class 'list'>)\n",
      "\n",
      "cr :> desendants ==>\n",
      " None (<class 'NoneType'>)\n",
      "empty\n",
      "\n"
     ]
    }
   ],
   "source": [
    "# 下行遍歷  tag.contents, tag.children, tag.desendants\n",
    "%f soup :> div.div.div.div.div dup :> prettify() ==>\n",
    "%f ( .children 是沒有實體的 iterator ) cr dup :> children ==>\n",
    "%f cr dup :> children list ==>\n",
    "%f ( .contents 其實就是 .children 的 list 實體 ) cr dup :> contents ==>\n",
    "%f cr :> desendants ==> .s   "
   ]
  },
  {
   "cell_type": "code",
   "execution_count": 12,
   "metadata": {},
   "outputs": [
    {
     "name": "stdout",
     "output_type": "stream",
     "text": [
      "dup :> parent --> <div class=\"cg-ide-console-filter\" filter=\"consoleFilter\" ng-class=\"{open: isOpen}\" ng-show=\"apis.console\"> <div class=\"selected-items\" ng-click=\"open()\"> <!-- --><!-- --><span class=\"selected-item\" ng-if=\"selected\" ng-repeat=\"(name, selected) in filter\" translate=\"ideConsoleFilter.gameInfo\">Game information</span><!-- --><!-- --><!-- --><span class=\"selected-item\" ng-if=\"selected\" ng-repeat=\"(name, selected) in filter\" translate=\"ideConsoleFilter.stdout\">Action (Output Stream)</span><!-- --><!-- --><!-- --><span class=\"selected-item\" ng-if=\"selected\" ng-repeat=\"(name, selected) in filter\" translate=\"ideConsoleFilter.stderr\">Debug (Errors Stream)</span><!-- --><!-- --> </div> <!-- --> </div> (<class 'bs4.element.Tag'>)\n",
      "\n",
      "dup :> parents --> <generator object PageElement.parents at 0x000001955EFD2AC8> (<class 'generator'>)\n",
      "\n",
      "( 上頭有 5 層 parents 核算無誤 ) dup :> parents list count nip --> 5 (<class 'int'>)\n"
     ]
    }
   ],
   "source": [
    "# 上行遍歷  tag.parent, tag.parents (iterator)\n",
    "%f ( Get a tag ) soup :> div.div.div.div.div ( -- tag )\n",
    "%f dup :> parent --> cr\n",
    "%f dup :> parents --> cr\n",
    "%f ( 上頭有 5 層 parents 核算無誤 ) dup :> parents list count nip -->\n",
    "    "
   ]
  },
  {
   "cell_type": "code",
   "execution_count": 14,
   "metadata": {},
   "outputs": [
    {
     "name": "stdout",
     "output_type": "stream",
     "text": [
      "dup :> next_siblings list --> [' ', ' ', ' '] (<class 'list'>)\n",
      "dup :> previous_siblings list --> [' '] (<class 'list'>)\n"
     ]
    }
   ],
   "source": [
    "# 平行遍歷 .next_sibling .previous_sibling .next_siblings .previous_siblings\n",
    "%f ( Get a tag ) soup :> div.div.div.div.div ( -- tag )\n",
    "%f dup :> next_siblings list -->\n",
    "%f dup :> previous_siblings list -->\n"
   ]
  },
  {
   "cell_type": "code",
   "execution_count": 22,
   "metadata": {},
   "outputs": [
    {
     "name": "stdout",
     "output_type": "stream",
     "text": [
      "<py> [ i.string for i in pop()][:10]</pyV> --> ['Game information', 'Action (Output Stream)', 'Debug (Errors Stream)', '00', '69', '01', '69', '02', '69', '03'] (<class 'list'>)\n",
      "\n",
      "( 從這裏面去爬 ) soup :> find('pre').string ==>\n",
      " Landing phase starting\n",
      "X=2500m, Y=2500m, HSpeed=0m/s VSpeed=0m/s\n",
      "Fuel=500l, Angle=0°, Power=0 (0.0m/s2)\n",
      " (<class 'bs4.element.NavigableString'>)\n"
     ]
    }
   ],
   "source": [
    "%f soup :> find_all('span') \\ ( -- list ) \n",
    "%f <py> [ i.string for i in pop()][:10]</pyV> --> cr\n",
    "%f \\ soup :> find_all('pre') \\ ( -- list ) \n",
    "%f \\ <py> [ i.string for i in pop()]</pyV> --> cr \n",
    "%f \\ soup :> find('pre') ==>\n",
    "%f ( 從這裏面去爬 ) soup :> find('pre').string ==>\n"
   ]
  },
  {
   "cell_type": "code",
   "execution_count": 15,
   "metadata": {},
   "outputs": [
    {
     "name": "stdout",
     "output_type": "stream",
     "text": [
      "soup type --> <class 'bs4.BeautifulSoup'> (<class 'type'>)\n",
      "\n",
      "soup :> find(class_='frame-players').find(class_='game-info') --> <div class=\"game-info\" ng-if=\"::subframe.gameInformation\"> <h3 class=\"title\" ng-style=\"::{color: subframe.agent.color}\" translate=\"ideConsole.gameInfo\">Game information:</h3> <pre ng-bind-html=\"::subframe.gameInformation | formatConsole:agents | trustHtml\">Landing phase starting\n",
      "X=2500m, Y=2500m, HSpeed=0m/s VSpeed=0m/s\n",
      "Fuel=500l, Angle=0簞, Power=0 (0.0m/s2)\n",
      "</pre> </div> (<class 'bs4.element.Tag'>)\n",
      "\n",
      "soup :> find(class_='frame-players').find(class_='game-info').find(class_='title').string --> Game information: (<class 'bs4.element.NavigableString'>)\n",
      "( Phase log data ) <py> re.sub('\\r|\\n',' ',pop())</pyV> --> Landing phase starting X=2500m, Y=2500m, HSpeed=0m/s VSpeed=0m/s Fuel=500l, Angle=0簞, Power=0 (0.0m/s2)  (<class 'str'>)\n",
      "soup :> find(class_='frame-players').find(class_='frame-number').string --> 00 (<class 'bs4.element.NavigableString'>)\n",
      "soup :> find(class_='frame-players').find(class_='frame-count').string --> 69 (<class 'bs4.element.NavigableString'>)\n",
      "\n",
      "soup :> find(class_='frame-players')  ( -- list )  <py> [ i for i in pop()]</pyV> ==>\n",
      " [' ', ' ', ' ', <div class=\"frame-hover\" ng-style=\"::{'background-color': subframe.agent.color}\"></div>, ' ', ' ', ' ', ' ', <div class=\"game-info\" ng-if=\"::subframe.gameInformation\"> <h3 class=\"title\" ng-style=\"::{color: subframe.agent.color}\" translate=\"ideConsole.gameInfo\">Game information:</h3> <pre ng-bind-html=\"::subframe.gameInformation | formatConsole:agents | trustHtml\">Landing phase starting\n",
      "X=2500m, Y=2500m, HSpeed=0m/s VSpeed=0m/s\n",
      "Fuel=500l, Angle=0簞, Power=0 (0.0m/s2)\n",
      "</pre> </div>, ' ', ' ', <div class=\"frame-number-bloc\" ng-click=\"gotoFrame(frame.idx)\" ng-style=\"::{color: getFrameNumberBlockColor(frame)}\"> <span class=\"frame-number\" ng-bind=\"::frame.idx | zeroPad:(frames.length - 1).toString().length\">00</span> <span class=\"frame-count\" ng-bind=\"::frames.length - 1\">69</span> </div>, ' '] (<class 'list'>)\n",
      "\n",
      "soup :> find(class_='frame-players')  ( -- list )  <py> [ i.string for i in pop()]</pyV> ==>\n",
      " [' ', ' ', ' ', None, ' ', ' ', ' ', ' ', None, ' ', ' ', None, ' '] (<class 'list'>)\n",
      "\n",
      "soup :> find_all(class_='frame-number') count --> 70 (<class 'int'>)\n",
      "soup :> find_all(class_='frame-number') count --> ( -- list )  <py> [ i.string for i in pop()]</pyV> ==>\n",
      " ['00', '01', '02', '03', '04', '05', '06', '07', '08', '09', '10', '11', '12', '13', '14', '15', '16', '17', '18', '19', '20', '21', '22', '23', '24', '25', '26', '27', '28', '29', '30', '31', '32', '33', '34', '35', '36', '37', '38', '39', '40', '41', '42', '43', '44', '45', '46', '47', '48', '49', '50', '51', '52', '53', '54', '55', '56', '57', '58', '59', '60', '61', '62', '63', '64', '65', '66', '67', '68', '69'] (<class 'list'>)\n",
      "\n",
      "soup :> find_all(class_='frame-count')  count --> 70 (<class 'int'>)\n",
      "soup :> find_all(class_='frame-count')  count --> ( -- list )  <py> [ i.string for i in pop()]</pyV> ==>\n",
      " ['69', '69', '69', '69', '69', '69', '69', '69', '69', '69', '69', '69', '69', '69', '69', '69', '69', '69', '69', '69', '69', '69', '69', '69', '69', '69', '69', '69', '69', '69', '69', '69', '69', '69', '69', '69', '69', '69', '69', '69', '69', '69', '69', '69', '69', '69', '69', '69', '69', '69', '69', '69', '69', '69', '69', '69', '69', '69', '69', '69', '69', '69', '69', '69', '69', '69', '69', '69', '69', '69'] (<class 'list'>)\n",
      "\n"
     ]
    }
   ],
   "source": [
    "%f cr\n",
    "%f soup :> find(class_='frame-players')  ( -- list )  <py> [ i for i in pop()]</pyV> ==> cr \n",
    "%f soup :> find(class_='frame-players')  ( -- list )  <py> [ i.string for i in pop()]</pyV> ==> cr \n",
    "%f soup :> find_all(class_='frame-number') count --> ( -- list )  <py> [ i.string for i in pop()]</pyV> ==> cr \n",
    "%f soup :> find_all(class_='frame-count')  count --> ( -- list )  <py> [ i.string for i in pop()]</pyV> ==> cr \n",
    "# %f soup :> find(class_='frame-players').find(class_='outputLine') type -->"
   ]
  },
  {
   "cell_type": "code",
   "execution_count": null,
   "metadata": {},
   "outputs": [],
   "source": []
  },
  {
   "cell_type": "markdown",
   "metadata": {},
   "source": [
    "# Parsing the first data"
   ]
  },
  {
   "cell_type": "code",
   "execution_count": 82,
   "metadata": {},
   "outputs": [
    {
     "name": "stdout",
     "output_type": "stream",
     "text": [
      "soup type --> <class 'bs4.BeautifulSoup'> (<class 'type'>)\n",
      "soup :> find(class_='frame-players').find(class_='game-info').find(class_='title').string --> Game information: (<class 'bs4.element.NavigableString'>)\n",
      "soup :> find(class_='frame-players').find(class_='frame-number').string --> 00 (<class 'bs4.element.NavigableString'>)\n",
      "soup :> find(class_='frame-players').find(class_='frame-count').string --> 69 (<class 'bs4.element.NavigableString'>)\n",
      "\n",
      "soup :> find(class_='frame-players').find(class_='game-info') ==>\n",
      " <div class=\"game-info\" ng-if=\"::subframe.gameInformation\"> <h3 class=\"title\" ng-style=\"::{color: subframe.agent.color}\" translate=\"ideConsole.gameInfo\">Game information:</h3> <pre ng-bind-html=\"::subframe.gameInformation | formatConsole:agents | trustHtml\">Landing phase starting\n",
      "X=2500m, Y=2500m, HSpeed=0m/s VSpeed=0m/s\n",
      "Fuel=500l, Angle=0簞, Power=0 (0.0m/s2)\n",
      "</pre> </div> (<class 'bs4.element.Tag'>)\n",
      "\n"
     ]
    }
   ],
   "source": [
    "%f soup type -->\n",
    "%f soup :> find(class_='frame-players').find(class_='game-info').find(class_='title').string -->\n",
    "%f soup :> find(class_='frame-players').find(class_='frame-number').string -->\n",
    "%f soup :> find(class_='frame-players').find(class_='frame-count').string --> cr\n",
    "%f soup :> find(class_='frame-players').find(class_='game-info') ==> cr     "
   ]
  },
  {
   "cell_type": "code",
   "execution_count": 15,
   "metadata": {},
   "outputs": [],
   "source": [
    "%f \"\" value phase // ( -- str ) Log of a phase. \"Landing phase starting X=2500m, Y=2500m, HSpeed=0m/s VSpeed=0m/s ...\" "
   ]
  },
  {
   "cell_type": "code",
   "execution_count": 35,
   "metadata": {},
   "outputs": [
    {
     "name": "stdout",
     "output_type": "stream",
     "text": [
      "soup :> find(class_='frame-players').find(class_='game-info').find('pre').string dup to phase --> Landing phase starting\n",
      "X=2500m, Y=2500m, HSpeed=0m/s VSpeed=0m/s\n",
      "Fuel=500l, Angle=0簞, Power=0 (0.0m/s2)\n",
      " (<class 'bs4.element.NavigableString'>)\n"
     ]
    }
   ],
   "source": [
    "%f soup :> find(class_='frame-players').find(class_='game-info').find('pre').string dup to phase -->"
   ]
  },
  {
   "cell_type": "code",
   "execution_count": 83,
   "metadata": {},
   "outputs": [
    {
     "name": "stdout",
     "output_type": "stream",
     "text": [
      "( Phase log data ) phase <py> re.sub('\\r|\\n',' ',pop())</pyV> dup to phase ==>\n",
      " Landing phase starting X=2500m, Y=2500m, HSpeed=0m/s VSpeed=0m/s Fuel=500l, Angle=0簞, Power=0 (0.0m/s2)  (<class 'str'>)\n"
     ]
    }
   ],
   "source": [
    "%f ( Phase log data ) phase <py> re.sub('\\r|\\n',' ',pop())</pyV> dup to phase ==>"
   ]
  },
  {
   "cell_type": "code",
   "execution_count": 50,
   "metadata": {},
   "outputs": [],
   "source": [
    "%f dropall s\" Landing phase starting.+X=(?P<X>\\d+).+Y=(?P<Y>\\d+).+HSpeed=(?P<HSpeed>\\d+).+VSpeed=(?P<VSpeed>\\d+).+Fuel=(?P<Fuel>\\d+).+Angle=(?P<Angle>\\d+).+Power=(?P<Power>\\d+)\" "
   ]
  },
  {
   "cell_type": "code",
   "execution_count": 87,
   "metadata": {},
   "outputs": [],
   "source": [
    "%f \"\" value m // ( -- match ) re.match result"
   ]
  },
  {
   "cell_type": "code",
   "execution_count": 132,
   "metadata": {},
   "outputs": [
    {
     "name": "stdout",
     "output_type": "stream",
     "text": [
      "phase re :> match(pop(1),pop(0)) dup to m ==>\n",
      " <re.Match object; span=(0, 93), match='Landing phase starting X=2500m, Y=2500m, HSpeed=0> (<class 're.Match'>)\n",
      "m :> groups() --> ('Landing phase starting ', '2500', '2500', '0', '0', '500', '0', '0') (<class 'tuple'>)\n",
      "m :> group('X') --> 2500 (<class 'str'>)\n",
      "m :> group('Power') --> 0 (<class 'str'>)\n",
      "m :> groupdict() --> {'X': '2500', 'Y': '2500', 'HSpeed': '0', 'VSpeed': '0', 'Fuel': '500', 'Angle': '0', 'Power': '0'} (<class 'dict'>)\n"
     ]
    }
   ],
   "source": [
    "%f s\" (.+)\"\n",
    "%f s\" X=(?P<X>\\d+).+\" +\n",
    "%f s\" Y=(?P<Y>\\d+).+\" +\n",
    "%f s\" HSpeed=(?P<HSpeed>\\d+).+\" +\n",
    "%f s\" VSpeed=(?P<VSpeed>\\d+).+\" +\n",
    "%f s\" Fuel=(?P<Fuel>\\d+).+\" +\n",
    "%f s\" Angle=(?P<Angle>\\d+).+\" +\n",
    "%f s\" Power=(?P<Power>\\d+)\" +\n",
    "%f phase re :> match(pop(1),pop(0)) dup to m ==>\n",
    "%f m :> groups() -->\n",
    "%f m :> group('X') -->\n",
    "%f m :> group('Power') -->\n",
    "%f m :> groupdict() -->"
   ]
  },
  {
   "cell_type": "code",
   "execution_count": null,
   "metadata": {},
   "outputs": [],
   "source": []
  },
  {
   "cell_type": "code",
   "execution_count": null,
   "metadata": {},
   "outputs": [],
   "source": []
  },
  {
   "cell_type": "code",
   "execution_count": null,
   "metadata": {},
   "outputs": [],
   "source": []
  },
  {
   "cell_type": "code",
   "execution_count": null,
   "metadata": {},
   "outputs": [],
   "source": []
  }
 ],
 "metadata": {
  "kernelspec": {
   "display_name": "Python 3",
   "language": "python",
   "name": "python3"
  },
  "language_info": {
   "codemirror_mode": {
    "name": "ipython",
    "version": 3
   },
   "file_extension": ".py",
   "mimetype": "text/x-python",
   "name": "python",
   "nbconvert_exporter": "python",
   "pygments_lexer": "ipython3",
   "version": "3.7.5"
  }
 },
 "nbformat": 4,
 "nbformat_minor": 4
}
