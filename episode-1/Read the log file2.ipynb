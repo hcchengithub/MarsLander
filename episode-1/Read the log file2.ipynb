{
 "cells": [
  {
   "cell_type": "markdown",
   "metadata": {},
   "source": [
    "# Read the log file 2\n",
    "\n",
    "Use F12 DevTools to read the Codingame Mars Lander's Console Output section in HTML text. Then we can use BeautifulSoup to parse the HTML text file.\n",
    "- Get the HTML source file '~\\GitHub\\MarsLander\\episode-1\\source.html'"
   ]
  },
  {
   "cell_type": "code",
   "execution_count": 8,
   "metadata": {},
   "outputs": [
    {
     "name": "stdout",
     "output_type": "stream",
     "text": [
      "reDef clipboard\n"
     ]
    }
   ],
   "source": [
    "from bs4 import BeautifulSoup\n",
    "import IPython, re\n",
    "import peforth\n",
    "%f : clipboard __main__ :> IPython.lib.clipboard.win32_clipboard_get() ; // ( -- str ) Get string from clipboard."
   ]
  },
  {
   "cell_type": "code",
   "execution_count": 17,
   "metadata": {},
   "outputs": [],
   "source": [
    "# 執行本 cell 之前先用 F12 DevTools 抓好 Target web page 的 HTML source code.\n",
    "source = peforth.dictate('clipboard').pop()    \n",
    "soup = BeautifulSoup(source,\"html.parser\")"
   ]
  },
  {
   "cell_type": "markdown",
   "metadata": {},
   "source": [
    "# Parsing multiple phases"
   ]
  },
  {
   "cell_type": "code",
   "execution_count": 23,
   "metadata": {},
   "outputs": [
    {
     "name": "stdout",
     "output_type": "stream",
     "text": [
      "length --> 0 (<class 'int'>)\n"
     ]
    }
   ],
   "source": [
    "phases = soup.find_all(class_='frame-players');\n",
    "length = len(phases)\n",
    "%f length -->"
   ]
  },
  {
   "cell_type": "code",
   "execution_count": 24,
   "metadata": {},
   "outputs": [],
   "source": [
    "log = []  # the entire records \n",
    "for phase in phases:\n",
    "    X = re.search(\"X=(?P<X>-?\\d+)\",str(phase))\n",
    "    Y = re.search(\"Y=(?P<Y>-?\\d+)\",str(phase))\n",
    "    HSpeed = re.search(\"HSpeed=(?P<HSpeed>-?\\d+)\",str(phase))\n",
    "    VSpeed = re.search(\"VSpeed=(?P<VSpeed>-?\\d+)\",str(phase))\n",
    "    Fuel = re.search(\"Fuel=(?P<Fuel>-?\\d+)\",str(phase))\n",
    "    Angle = re.search(\"Angle=(?P<Angle>-?\\d+)\",str(phase))\n",
    "    Power = re.search(\"Power=(?P<Power>-?\\d+)\",str(phase))\n",
    "    Step   = phase.find(class_='frame-number').string\n",
    "    Length = phase.find(class_='frame-count').string\n",
    "    try: \n",
    "        Cmd = phase.find(class_='stdout').find(class_='outputLine').string\n",
    "    except:\n",
    "        Cmd = '-99 -99'\n",
    "    log.append({\n",
    "        'step'  : int(Step),\n",
    "        'length': int(Length),\n",
    "        'x'     : int(X.groups()[0]),\n",
    "        'y'     : int(Y.groups()[0]),\n",
    "        'hspeed': int(HSpeed.groups()[0]),\n",
    "        'vspeed': int(VSpeed.groups()[0]),\n",
    "        'fuel'  : int(Fuel.groups()[0]),\n",
    "        'angle' : int(Angle.groups()[0]),\n",
    "        'power' : int(Power.groups()[0]),\n",
    "        'cmd'   : tuple(map(int,Cmd.split(' ')))  # command is a pair of (rotate,thrust)\n",
    "    })\n"
   ]
  },
  {
   "cell_type": "code",
   "execution_count": 26,
   "metadata": {},
   "outputs": [
    {
     "name": "stdout",
     "output_type": "stream",
     "text": [
      "log --> [] (<class 'list'>)\n",
      "Stored 'log' (list)\n"
     ]
    }
   ],
   "source": [
    "# 從 output 取得 log string 的方法既可以簡單直接 mark and ctrl-c \n",
    "# 也可以利用 F12 DevTools 的 select element 功能選取本 output 然後 copy > copy outerHTML 亦可。當內容很龐大時需要用這招。\n",
    "%f log -->\n",
    "%store log"
   ]
  },
  {
   "cell_type": "code",
   "execution_count": null,
   "metadata": {},
   "outputs": [],
   "source": [
    "# 執行到此 cell 為止\n",
    "try: assert False\n",
    "except: pass"
   ]
  },
  {
   "cell_type": "code",
   "execution_count": null,
   "metadata": {},
   "outputs": [],
   "source": []
  },
  {
   "cell_type": "code",
   "execution_count": null,
   "metadata": {},
   "outputs": [],
   "source": []
  },
  {
   "cell_type": "code",
   "execution_count": null,
   "metadata": {},
   "outputs": [],
   "source": []
  },
  {
   "cell_type": "code",
   "execution_count": null,
   "metadata": {},
   "outputs": [],
   "source": []
  },
  {
   "cell_type": "code",
   "execution_count": null,
   "metadata": {},
   "outputs": [],
   "source": []
  },
  {
   "cell_type": "code",
   "execution_count": null,
   "metadata": {},
   "outputs": [],
   "source": []
  },
  {
   "cell_type": "code",
   "execution_count": null,
   "metadata": {},
   "outputs": [],
   "source": []
  },
  {
   "cell_type": "code",
   "execution_count": null,
   "metadata": {},
   "outputs": [],
   "source": []
  },
  {
   "cell_type": "code",
   "execution_count": null,
   "metadata": {},
   "outputs": [],
   "source": []
  },
  {
   "cell_type": "markdown",
   "metadata": {},
   "source": [
    "# 筆記"
   ]
  },
  {
   "cell_type": "code",
   "execution_count": null,
   "metadata": {},
   "outputs": [],
   "source": [
    "for i in range(len(phases)-1):\n",
    "    # phases[i].find(class_='game-info').find_all_next('pre')\n",
    "    p = re.sub('\\r|\\n',' ', phases[i].find(class_='game-info').find('pre').string)\n",
    "    %f i . space p -->"
   ]
  },
  {
   "cell_type": "code",
   "execution_count": null,
   "metadata": {},
   "outputs": [],
   "source": [
    "    regEx = re.compile(\"Landing phase starting.+X=(?P<X>\\d+).+Y=(?P<Y>\\d+).+HSpeed=(?P<HSpeed>\\d+).+VSpeed=(?P<VSpeed>\\d+).+Fuel=(?P<Fuel>\\d+).+Angle=(?P<Angle>\\d+).+Power=(?P<Power>\\d+)\")\n",
    "    m = re.match(regEx,phase)\n",
    "    %f m :> groups() -->\n",
    "    %f m :> group('X') -->\n",
    "    %f m :> group('Power') -->\n",
    "    %f m :> groupdict() -->"
   ]
  },
  {
   "cell_type": "code",
   "execution_count": null,
   "metadata": {},
   "outputs": [],
   "source": [
    "regEx = re.compile(\"Landing phase starting.+X=(?P<X>\\d+).+Y=(?P<Y>\\d+).+HSpeed=(?P<HSpeed>\\d+).+VSpeed=(?P<VSpeed>\\d+).+Fuel=(?P<Fuel>\\d+).+Angle=(?P<Angle>\\d+).+Power=(?P<Power>\\d+)\")\n",
    "%f regEx -->    "
   ]
  },
  {
   "cell_type": "code",
   "execution_count": null,
   "metadata": {},
   "outputs": [],
   "source": [
    "%f soup :> find(class_='frame-players').find(class_='frame-number').string -->\n",
    "%f soup :> find(class_='frame-players').find(class_='frame-count').string --> cr\n",
    "%f soup :> find(class_='frame-players').find(class_='game-info') ==> cr     \n",
    "\n",
    "%f \"\" value phase // ( -- str ) Log of a phase. \"Landing phase starting X=2500m, Y=2500m, HSpeed=0m/s VSpeed=0m/s ...\" \n",
    "\n",
    "%f soup :> find(class_='frame-players').find(class_='game-info').find('pre').string dup to phase -->\n",
    "\n",
    "%f ( Phase log data ) phase <py> re.sub('\\r|\\n',' ',pop())</pyV> dup to phase ==>\n",
    "\n",
    "%f dropall s\" Landing phase starting.+X=(?P<X>\\d+).+Y=(?P<Y>\\d+).+HSpeed=(?P<HSpeed>\\d+).+VSpeed=(?P<VSpeed>\\d+).+Fuel=(?P<Fuel>\\d+).+Angle=(?P<Angle>\\d+).+Power=(?P<Power>\\d+)\" \n",
    "\n",
    "%f \"\" value m // ( -- match ) re.match result\n",
    "\n",
    "%f s\" Landing.+\"\n",
    "%f s\" X=(?P<X>\\d+).+\" +\n",
    "%f s\" Y=(?P<Y>\\d+).+\" +\n",
    "%f s\" HSpeed=(?P<HSpeed>\\d+).+\" +\n",
    "%f s\" VSpeed=(?P<VSpeed>\\d+).+\" +\n",
    "%f s\" Fuel=(?P<Fuel>\\d+).+\" +\n",
    "%f s\" Angle=(?P<Angle>\\d+).+\" +\n",
    "%f s\" Power=(?P<Power>\\d+)\" +\n",
    "%f phase re :> match(pop(1),pop(0)) dup to m ==>\n",
    "%f m :> groups() -->\n",
    "%f m :> group('X') -->\n",
    "%f m :> group('Power') -->\n",
    "%f m :> groupdict() -->"
   ]
  },
  {
   "cell_type": "code",
   "execution_count": null,
   "metadata": {},
   "outputs": [],
   "source": []
  },
  {
   "cell_type": "code",
   "execution_count": null,
   "metadata": {},
   "outputs": [],
   "source": []
  },
  {
   "cell_type": "code",
   "execution_count": null,
   "metadata": {},
   "outputs": [],
   "source": [
    "phase = phases[68]\n",
    "%f phase -->"
   ]
  },
  {
   "cell_type": "code",
   "execution_count": null,
   "metadata": {},
   "outputs": [],
   "source": [
    "%f dropall phase :> find(class_='stdout').find(class_='outputLine').string dup -->\n",
    "%f str :>~ split(' ')\n",
    "%f -->\n"
   ]
  },
  {
   "cell_type": "code",
   "execution_count": null,
   "metadata": {},
   "outputs": [],
   "source": []
  },
  {
   "cell_type": "code",
   "execution_count": null,
   "metadata": {},
   "outputs": [],
   "source": []
  },
  {
   "cell_type": "code",
   "execution_count": null,
   "metadata": {},
   "outputs": [],
   "source": [
    "m = re.search(\"Fuel=(?P<Fuel>\\d+)\",str(phase))\n",
    "%f m -->\n",
    "%f m :> groups() -->\n",
    "%f m :> group('Fuel') -->\n",
    "%f m :> groupdict() -->"
   ]
  },
  {
   "cell_type": "code",
   "execution_count": null,
   "metadata": {},
   "outputs": [],
   "source": [
    "X = re.search(\"X=(?P<X>-?\\d+)\",str(phase))\n",
    "Y = re.search(\"Y=(?P<Y>-?\\d+)\",str(phase))\n",
    "HSpeed = re.search(\"HSpeed=(?P<HSpeed>-?\\d+)\",str(phase))\n",
    "VSpeed = re.search(\"VSpeed=(?P<VSpeed>-?\\d+)\",str(phase))\n",
    "Fuel = re.search(\"Fuel=(?P<Fuel>-?\\d+)\",str(phase))\n",
    "Angle = re.search(\"Angle=(?P<Angle>-?\\d+)\",str(phase))\n",
    "Power = re.search(\"Power=(?P<Power>-?\\d+)\",str(phase))\n",
    "Step   = phase.find(class_='frame-number').string\n",
    "Length = phase.find(class_='frame-count').string\n",
    "Cmd    = phase.find(class_='stdout').find(class_='outputLine').string\n",
    "\n",
    "{\n",
    "'step'  : int(Step),\n",
    "'length': int(Length),\n",
    "'x'     : int(X.groups()[0]),\n",
    "'y'     : int(Y.groups()[0]),\n",
    "'hspeed': int(HSpeed.groups()[0]),\n",
    "'vspeed': int(VSpeed.groups()[0]),\n",
    "'fuel'  : int(Fuel.groups()[0]),\n",
    "'angle' : int(Angle.groups()[0]),\n",
    "'power' : int(Power.groups()[0]),\n",
    "'cmd'   : tuple(map(int,Cmd.split(' ')))  # command is a pair of (rotate,thrust)\n",
    "}\n",
    "\n"
   ]
  },
  {
   "cell_type": "code",
   "execution_count": null,
   "metadata": {},
   "outputs": [],
   "source": [
    "%f soup :> find_all(class_='frame-players') value phases // ( -- soup ) Logs of all phases \n",
    "%f phases count nip -->"
   ]
  },
  {
   "cell_type": "code",
   "execution_count": null,
   "metadata": {},
   "outputs": [],
   "source": [
    "%f phases :> [9].find(class_='frame-number').string -->\n",
    "%f phases :> [9].find(class_='frame-count').string -->"
   ]
  },
  {
   "cell_type": "code",
   "execution_count": null,
   "metadata": {},
   "outputs": [],
   "source": [
    "phase1 = str(phases[68].find(class_='game-info'))\n",
    "%f phase -->"
   ]
  },
  {
   "cell_type": "code",
   "execution_count": null,
   "metadata": {},
   "outputs": [],
   "source": [
    "m.groupdict()"
   ]
  },
  {
   "cell_type": "code",
   "execution_count": null,
   "metadata": {},
   "outputs": [],
   "source": [
    "_ = phases[68].find(class_='game-info').find('pre').string\n",
    "%f _ --> cr\n",
    "_ = phases[68].find(class_='game-info').find('pre').span\n",
    "%f _ --> cr"
   ]
  },
  {
   "cell_type": "code",
   "execution_count": null,
   "metadata": {},
   "outputs": [],
   "source": [
    "instruction = phases[68].find(class_='outputLine')\n",
    "%f instruction -->\n",
    "%f instruction :> string -->\n",
    "%f instruction :> string <py> s=re.search(\".+(\\d+)\\s+(\\d+)\",pop()) </pyV> -->\n"
   ]
  },
  {
   "cell_type": "code",
   "execution_count": null,
   "metadata": {},
   "outputs": [],
   "source": [
    "_ = phases[68].find(class_='game-info').find_all_next('pre')\n",
    "%f _ --> cr\n",
    "%f _ count nip --> cr\n",
    "%f _ :> [0] --> cr\n",
    "%f _ :> [1] --> cr \n",
    "%f _ :> [2] --> cr\n",
    "%f _ :> [3] --> cr\n"
   ]
  },
  {
   "cell_type": "code",
   "execution_count": null,
   "metadata": {},
   "outputs": [],
   "source": [
    "_ = phases[69].find(class_='game-info').find_all_next('pre')\n",
    "%f _ --> cr\n",
    "%f _ count nip --> cr\n",
    "%f _ :> [0] --> cr\n",
    "%f _ :> [1] --> cr \n",
    "%f _ :> [2] --> cr\n",
    "%f _ :> [3] --> cr\n"
   ]
  },
  {
   "cell_type": "code",
   "execution_count": null,
   "metadata": {},
   "outputs": [],
   "source": [
    "_ = phases[69].find(class_='game-info').find('pre').string\n",
    "%f _ --> cr\n",
    "\n",
    "_ = phases[69].find(class_='game-info').find('pre').span\n",
    "%f _ --> cr\n"
   ]
  },
  {
   "cell_type": "code",
   "execution_count": null,
   "metadata": {},
   "outputs": [],
   "source": [
    "re.sub('\\r|\\n',' ', phases[69].find(class_='game-info').find('pre').string)"
   ]
  },
  {
   "cell_type": "code",
   "execution_count": null,
   "metadata": {},
   "outputs": [],
   "source": [
    "# 當初還搞這麼麻煩是因為 re.match 似乎 default 不能處理 multiple lines. 其實改用 re.search 一個個找出來就沒這問題了。\n",
    "phase2 = re.sub('\\r|\\n',' ', phase1)\n",
    "%f phase2 -->\n",
    "# 若要用 re.match 則可考慮 re.MULTILINE flag \n",
    "# re.MULTILINE see https://stackoverflow.com/questions/587345/regular-expression-matching-a-multiline-block-of-text\n"
   ]
  },
  {
   "cell_type": "code",
   "execution_count": null,
   "metadata": {},
   "outputs": [],
   "source": [
    "!conda env list"
   ]
  },
  {
   "cell_type": "code",
   "execution_count": null,
   "metadata": {},
   "outputs": [],
   "source": [
    "%f soup :> find_all('span') \\ ( -- list ) \n",
    "%f <py> [ i.string for i in pop()][:10]</pyV> --> cr\n",
    "%f \\ soup :> find_all('pre') \\ ( -- list ) \n",
    "%f \\ <py> [ i.string for i in pop()]</pyV> --> cr \n",
    "%f \\ soup :> find('pre') ==>\n",
    "%f ( 從這裏面去爬 ) soup :> find('pre').string ==>\n"
   ]
  },
  {
   "cell_type": "code",
   "execution_count": null,
   "metadata": {},
   "outputs": [],
   "source": [
    "%f cr\n",
    "%f soup :> find(class_='frame-players')  ( -- list )  <py> [ i for i in pop()]</pyV> ==> cr \n",
    "%f soup :> find(class_='frame-players')  ( -- list )  <py> [ i.string for i in pop()]</pyV> ==> cr \n",
    "%f soup :> find_all(class_='frame-number') count --> ( -- list )  <py> [ i.string for i in pop()]</pyV> ==> cr \n",
    "%f soup :> find_all(class_='frame-count')  count --> ( -- list )  <py> [ i.string for i in pop()]</pyV> ==> cr \n",
    "# %f soup :> find(class_='frame-players').find(class_='outputLine') type -->"
   ]
  },
  {
   "cell_type": "code",
   "execution_count": null,
   "metadata": {},
   "outputs": [],
   "source": []
  },
  {
   "cell_type": "markdown",
   "metadata": {},
   "source": [
    "# Parsing the first data"
   ]
  },
  {
   "cell_type": "code",
   "execution_count": null,
   "metadata": {},
   "outputs": [],
   "source": [
    "%f soup type -->\n",
    "%f soup :> find(class_='frame-players').find(class_='game-info').find(class_='title').string -->\n",
    "%f soup :> find(class_='frame-players').find(class_='frame-number').string -->\n",
    "%f soup :> find(class_='frame-players').find(class_='frame-count').string --> cr\n",
    "%f soup :> find(class_='frame-players').find(class_='game-info') ==> cr     "
   ]
  },
  {
   "cell_type": "code",
   "execution_count": null,
   "metadata": {},
   "outputs": [],
   "source": [
    "%f \"\" value phase // ( -- str ) Log of a phase. \"Landing phase starting X=2500m, Y=2500m, HSpeed=0m/s VSpeed=0m/s ...\" "
   ]
  },
  {
   "cell_type": "code",
   "execution_count": null,
   "metadata": {},
   "outputs": [],
   "source": [
    "%f soup :> find(class_='frame-players').find(class_='game-info').find('pre').string dup to phase -->"
   ]
  },
  {
   "cell_type": "code",
   "execution_count": null,
   "metadata": {},
   "outputs": [],
   "source": [
    "%f ( Phase log data ) phase <py> re.sub('\\r|\\n',' ',pop())</pyV> dup to phase ==>"
   ]
  },
  {
   "cell_type": "code",
   "execution_count": null,
   "metadata": {},
   "outputs": [],
   "source": [
    "%f dropall s\" Landing phase starting.+X=(?P<X>\\d+).+Y=(?P<Y>\\d+).+HSpeed=(?P<HSpeed>\\d+).+VSpeed=(?P<VSpeed>\\d+).+Fuel=(?P<Fuel>\\d+).+Angle=(?P<Angle>\\d+).+Power=(?P<Power>\\d+)\" "
   ]
  },
  {
   "cell_type": "code",
   "execution_count": null,
   "metadata": {},
   "outputs": [],
   "source": [
    "%f \"\" value m // ( -- match ) re.match result"
   ]
  },
  {
   "cell_type": "code",
   "execution_count": null,
   "metadata": {},
   "outputs": [],
   "source": [
    "%f s\" (.+)\"\n",
    "%f s\" X=(?P<X>\\d+).+\" +\n",
    "%f s\" Y=(?P<Y>\\d+).+\" +\n",
    "%f s\" HSpeed=(?P<HSpeed>\\d+).+\" +\n",
    "%f s\" VSpeed=(?P<VSpeed>\\d+).+\" +\n",
    "%f s\" Fuel=(?P<Fuel>\\d+).+\" +\n",
    "%f s\" Angle=(?P<Angle>\\d+).+\" +\n",
    "%f s\" Power=(?P<Power>\\d+)\" +\n",
    "%f phase re :> match(pop(1),pop(0)) dup to m ==>\n",
    "%f m :> groups() -->\n",
    "%f m :> group('X') -->\n",
    "%f m :> group('Power') -->\n",
    "%f m :> groupdict() -->"
   ]
  },
  {
   "cell_type": "code",
   "execution_count": 16,
   "metadata": {},
   "outputs": [],
   "source": [
    "%%f\n",
    "import IPython\n",
    ": paste py> IPython.lib.clipboard.win32_clipboard_get() tib.insert ; // ( -- ... ) Execute the clipboard. Good for *debug* in Jupyternotebook.\n",
    "\n",
    "1 2 3 4 .s "
   ]
  },
  {
   "cell_type": "code",
   "execution_count": null,
   "metadata": {},
   "outputs": [],
   "source": [
    "source\n"
   ]
  },
  {
   "cell_type": "code",
   "execution_count": null,
   "metadata": {},
   "outputs": [],
   "source": [
    "a = []\n",
    "a.append(1)\n",
    "a.append('assdfs')\n",
    "a"
   ]
  },
  {
   "cell_type": "code",
   "execution_count": 27,
   "metadata": {},
   "outputs": [
    {
     "name": "stdout",
     "output_type": "stream",
     "text": [
      "Stored 'a' (int)\n"
     ]
    }
   ],
   "source": [
    "a=123\n",
    "%store a"
   ]
  },
  {
   "cell_type": "code",
   "execution_count": null,
   "metadata": {},
   "outputs": [],
   "source": []
  },
  {
   "cell_type": "code",
   "execution_count": null,
   "metadata": {},
   "outputs": [],
   "source": []
  },
  {
   "cell_type": "code",
   "execution_count": null,
   "metadata": {},
   "outputs": [],
   "source": []
  },
  {
   "cell_type": "code",
   "execution_count": null,
   "metadata": {},
   "outputs": [],
   "source": []
  }
 ],
 "metadata": {
  "kernelspec": {
   "display_name": "Python 3",
   "language": "python",
   "name": "python3"
  },
  "language_info": {
   "codemirror_mode": {
    "name": "ipython",
    "version": 3
   },
   "file_extension": ".py",
   "mimetype": "text/x-python",
   "name": "python",
   "nbconvert_exporter": "python",
   "pygments_lexer": "ipython3",
   "version": "3.7.5"
  }
 },
 "nbformat": 4,
 "nbformat_minor": 4
}
