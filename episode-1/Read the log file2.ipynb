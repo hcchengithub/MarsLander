{
 "cells": [
  {
   "cell_type": "markdown",
   "metadata": {
    "tags": []
   },
   "source": [
    "# Read the log file 2\n",
    "\n",
    "Use F12 DevTools to read the Codingame Mars Lander's Console Output section in HTML text. Then we can use BeautifulSoup to parse the HTML text file.\n",
    "- Get the HTML source file '~\\GitHub\\MarsLander\\episode-1\\source.html'"
   ]
  },
  {
   "cell_type": "code",
   "execution_count": 1,
   "metadata": {},
   "outputs": [
    {
     "name": "stdout",
     "output_type": "stream",
     "text": [
      "reDef unknown\n",
      "reDef -->\n"
     ]
    }
   ],
   "source": [
    "from bs4 import BeautifulSoup\n",
    "import IPython, re\n",
    "import peforth\n",
    "%f : clipboard __main__ :> IPython.lib.clipboard.win32_clipboard_get() ; // ( -- str ) Get string from clipboard."
   ]
  },
  {
   "cell_type": "markdown",
   "metadata": {},
   "source": [
    "# 直接讀 log 檔\n",
    "So the `%store log` is from here"
   ]
  },
  {
   "cell_type": "code",
   "execution_count": 2,
   "metadata": {
    "scrolled": true,
    "tags": []
   },
   "outputs": [
    {
     "name": "stdout",
     "output_type": "stream",
     "text": [
      "log --> [{'step': 0, 'length': 91, 'x': 2500, 'y': 2500, 'hspeed': 0, 'vspeed': 0, 'fuel': 500, 'angle': 0, 'power': 0, 'cmd': [-99, -99]}, {'step': 1, 'length': 91, 'x': 2500, 'y': 2498, 'hspeed': 0, 'vspeed': -4, 'fuel': 500, 'angle': 0, 'power': 0, 'cmd': [0, 0]}, {'step': 2, 'length': 91, 'x': 2500, 'y': 2493, 'hspeed': 0, 'vspeed': -7, 'fuel': 500, 'angle': 0, 'power': 0, 'cmd': [0, 0]}, {'step': 3, 'length': 91, 'x': 2500, 'y': 2483, 'hspeed': 0, 'vspeed': -11, 'fuel': 500, 'angle': 0, 'power': 0, 'cmd': [0, 0]}, {'step': 4, 'length': 91, 'x': 2500, 'y': 2470, 'hspeed': 0, 'vspeed': -15, 'fuel': 500, 'angle': 0, 'power': 0, 'cmd': [0, 0]}, {'step': 5, 'length': 91, 'x': 2500, 'y': 2454, 'hspeed': 0, 'vspeed': -19, 'fuel': 500, 'angle': 0, 'power': 0, 'cmd': [0, 0]}, {'step': 6, 'length': 91, 'x': 2500, 'y': 2433, 'hspeed': 0, 'vspeed': -22, 'fuel': 500, 'angle': 0, 'power': 0, 'cmd': [0, 0]}, {'step': 7, 'length': 91, 'x': 2500, 'y': 2409, 'hspeed': 0, 'vspeed': -26, 'fuel': 500, 'angle': 0, 'power': 0, 'cmd': [0, 0]}, {'step': 8, 'length': 91, 'x': 2500, 'y': 2381, 'hspeed': 0, 'vspeed': -30, 'fuel': 500, 'angle': 0, 'power': 0, 'cmd': [0, 0]}, {'step': 9, 'length': 91, 'x': 2500, 'y': 2350, 'hspeed': 0, 'vspeed': -33, 'fuel': 500, 'angle': 0, 'power': 0, 'cmd': [0, 0]}, {'step': 10, 'length': 91, 'x': 2500, 'y': 2315, 'hspeed': 0, 'vspeed': -36, 'fuel': 499, 'angle': 0, 'power': 1, 'cmd': [0, 4]}, {'step': 11, 'length': 91, 'x': 2500, 'y': 2278, 'hspeed': 0, 'vspeed': -38, 'fuel': 497, 'angle': 0, 'power': 2, 'cmd': [0, 4]}, {'step': 12, 'length': 91, 'x': 2500, 'y': 2240, 'hspeed': 0, 'vspeed': -39, 'fuel': 494, 'angle': 0, 'power': 3, 'cmd': [0, 4]}, {'step': 13, 'length': 91, 'x': 2500, 'y': 2201, 'hspeed': 0, 'vspeed': -38, 'fuel': 490, 'angle': 0, 'power': 4, 'cmd': [0, 4]}, {'step': 14, 'length': 91, 'x': 2500, 'y': 2163, 'hspeed': 0, 'vspeed': -38, 'fuel': 486, 'angle': 0, 'power': 4, 'cmd': [0, 4]}, {'step': 15, 'length': 91, 'x': 2500, 'y': 2126, 'hspeed': 0, 'vspeed': -38, 'fuel': 482, 'angle': 0, 'power': 4, 'cmd': [0, 4]}, {'step': 16, 'length': 91, 'x': 2500, 'y': 2088, 'hspeed': 0, 'vspeed': -37, 'fuel': 478, 'angle': 0, 'power': 4, 'cmd': [0, 4]}, {'step': 17, 'length': 91, 'x': 2500, 'y': 2051, 'hspeed': 0, 'vspeed': -37, 'fuel': 474, 'angle': 0, 'power': 4, 'cmd': [0, 4]}, {'step': 18, 'length': 91, 'x': 2500, 'y': 2014, 'hspeed': 0, 'vspeed': -37, 'fuel': 470, 'angle': 0, 'power': 4, 'cmd': [0, 4]}, {'step': 19, 'length': 91, 'x': 2500, 'y': 1977, 'hspeed': 0, 'vspeed': -37, 'fuel': 466, 'angle': 0, 'power': 4, 'cmd': [0, 4]}, {'step': 20, 'length': 91, 'x': 2500, 'y': 1941, 'hspeed': 0, 'vspeed': -36, 'fuel': 462, 'angle': 0, 'power': 4, 'cmd': [0, 4]}, {'step': 21, 'length': 91, 'x': 2500, 'y': 1905, 'hspeed': 0, 'vspeed': -36, 'fuel': 458, 'angle': 0, 'power': 4, 'cmd': [0, 4]}, {'step': 22, 'length': 91, 'x': 2500, 'y': 1869, 'hspeed': 0, 'vspeed': -36, 'fuel': 454, 'angle': 0, 'power': 4, 'cmd': [0, 4]}, {'step': 23, 'length': 91, 'x': 2500, 'y': 1833, 'hspeed': 0, 'vspeed': -35, 'fuel': 450, 'angle': 0, 'power': 4, 'cmd': [0, 4]}, {'step': 24, 'length': 91, 'x': 2500, 'y': 1798, 'hspeed': 0, 'vspeed': -35, 'fuel': 446, 'angle': 0, 'power': 4, 'cmd': [0, 4]}, {'step': 25, 'length': 91, 'x': 2500, 'y': 1763, 'hspeed': 0, 'vspeed': -35, 'fuel': 442, 'angle': 0, 'power': 4, 'cmd': [0, 4]}, {'step': 26, 'length': 91, 'x': 2500, 'y': 1729, 'hspeed': 0, 'vspeed': -34, 'fuel': 438, 'angle': 0, 'power': 4, 'cmd': [0, 4]}, {'step': 27, 'length': 91, 'x': 2500, 'y': 1694, 'hspeed': 0, 'vspeed': -34, 'fuel': 434, 'angle': 0, 'power': 4, 'cmd': [0, 4]}, {'step': 28, 'length': 91, 'x': 2500, 'y': 1660, 'hspeed': 0, 'vspeed': -34, 'fuel': 430, 'angle': 0, 'power': 4, 'cmd': [0, 4]}, {'step': 29, 'length': 91, 'x': 2500, 'y': 1627, 'hspeed': 0, 'vspeed': -34, 'fuel': 426, 'angle': 0, 'power': 4, 'cmd': [0, 4]}, {'step': 30, 'length': 91, 'x': 2500, 'y': 1593, 'hspeed': 0, 'vspeed': -33, 'fuel': 422, 'angle': 0, 'power': 4, 'cmd': [0, 4]}, {'step': 31, 'length': 91, 'x': 2500, 'y': 1560, 'hspeed': 0, 'vspeed': -33, 'fuel': 418, 'angle': 0, 'power': 4, 'cmd': [0, 4]}, {'step': 32, 'length': 91, 'x': 2500, 'y': 1527, 'hspeed': 0, 'vspeed': -33, 'fuel': 414, 'angle': 0, 'power': 4, 'cmd': [0, 4]}, {'step': 33, 'length': 91, 'x': 2500, 'y': 1494, 'hspeed': 0, 'vspeed': -32, 'fuel': 410, 'angle': 0, 'power': 4, 'cmd': [0, 4]}, {'step': 34, 'length': 91, 'x': 2500, 'y': 1462, 'hspeed': 0, 'vspeed': -32, 'fuel': 406, 'angle': 0, 'power': 4, 'cmd': [0, 4]}, {'step': 35, 'length': 91, 'x': 2500, 'y': 1430, 'hspeed': 0, 'vspeed': -32, 'fuel': 402, 'angle': 0, 'power': 4, 'cmd': [0, 4]}, {'step': 36, 'length': 91, 'x': 2500, 'y': 1398, 'hspeed': 0, 'vspeed': -32, 'fuel': 398, 'angle': 0, 'power': 4, 'cmd': [0, 4]}, {'step': 37, 'length': 91, 'x': 2500, 'y': 1367, 'hspeed': 0, 'vspeed': -31, 'fuel': 394, 'angle': 0, 'power': 4, 'cmd': [0, 4]}, {'step': 38, 'length': 91, 'x': 2500, 'y': 1336, 'hspeed': 0, 'vspeed': -31, 'fuel': 390, 'angle': 0, 'power': 4, 'cmd': [0, 4]}, {'step': 39, 'length': 91, 'x': 2500, 'y': 1305, 'hspeed': 0, 'vspeed': -31, 'fuel': 386, 'angle': 0, 'power': 4, 'cmd': [0, 4]}, {'step': 40, 'length': 91, 'x': 2500, 'y': 1274, 'hspeed': 0, 'vspeed': -30, 'fuel': 382, 'angle': 0, 'power': 4, 'cmd': [0, 4]}, {'step': 41, 'length': 91, 'x': 2500, 'y': 1244, 'hspeed': 0, 'vspeed': -30, 'fuel': 378, 'angle': 0, 'power': 4, 'cmd': [0, 4]}, {'step': 42, 'length': 91, 'x': 2500, 'y': 1214, 'hspeed': 0, 'vspeed': -30, 'fuel': 374, 'angle': 0, 'power': 4, 'cmd': [0, 4]}, {'step': 43, 'length': 91, 'x': 2500, 'y': 1184, 'hspeed': 0, 'vspeed': -30, 'fuel': 370, 'angle': 0, 'power': 4, 'cmd': [0, 4]}, {'step': 44, 'length': 91, 'x': 2500, 'y': 1155, 'hspeed': 0, 'vspeed': -29, 'fuel': 366, 'angle': 0, 'power': 4, 'cmd': [0, 4]}, {'step': 45, 'length': 91, 'x': 2500, 'y': 1126, 'hspeed': 0, 'vspeed': -29, 'fuel': 362, 'angle': 0, 'power': 4, 'cmd': [0, 4]}, {'step': 46, 'length': 91, 'x': 2500, 'y': 1097, 'hspeed': 0, 'vspeed': -29, 'fuel': 358, 'angle': 0, 'power': 4, 'cmd': [0, 4]}, {'step': 47, 'length': 91, 'x': 2500, 'y': 1068, 'hspeed': 0, 'vspeed': -28, 'fuel': 354, 'angle': 0, 'power': 4, 'cmd': [0, 4]}, {'step': 48, 'length': 91, 'x': 2500, 'y': 1040, 'hspeed': 0, 'vspeed': -28, 'fuel': 350, 'angle': 0, 'power': 4, 'cmd': [0, 4]}, {'step': 49, 'length': 91, 'x': 2500, 'y': 1012, 'hspeed': 0, 'vspeed': -28, 'fuel': 346, 'angle': 0, 'power': 4, 'cmd': [0, 4]}, {'step': 50, 'length': 91, 'x': 2500, 'y': 984, 'hspeed': 0, 'vspeed': -28, 'fuel': 342, 'angle': 0, 'power': 4, 'cmd': [0, 4]}, {'step': 51, 'length': 91, 'x': 2500, 'y': 957, 'hspeed': 0, 'vspeed': -27, 'fuel': 338, 'angle': 0, 'power': 4, 'cmd': [0, 4]}, {'step': 52, 'length': 91, 'x': 2500, 'y': 930, 'hspeed': 0, 'vspeed': -27, 'fuel': 334, 'angle': 0, 'power': 4, 'cmd': [0, 4]}, {'step': 53, 'length': 91, 'x': 2500, 'y': 903, 'hspeed': 0, 'vspeed': -27, 'fuel': 330, 'angle': 0, 'power': 4, 'cmd': [0, 4]}, {'step': 54, 'length': 91, 'x': 2500, 'y': 876, 'hspeed': 0, 'vspeed': -26, 'fuel': 326, 'angle': 0, 'power': 4, 'cmd': [0, 4]}, {'step': 55, 'length': 91, 'x': 2500, 'y': 850, 'hspeed': 0, 'vspeed': -26, 'fuel': 322, 'angle': 0, 'power': 4, 'cmd': [0, 4]}, {'step': 56, 'length': 91, 'x': 2500, 'y': 824, 'hspeed': 0, 'vspeed': -26, 'fuel': 318, 'angle': 0, 'power': 4, 'cmd': [0, 4]}, {'step': 57, 'length': 91, 'x': 2500, 'y': 798, 'hspeed': 0, 'vspeed': -26, 'fuel': 314, 'angle': 0, 'power': 4, 'cmd': [0, 4]}, {'step': 58, 'length': 91, 'x': 2500, 'y': 773, 'hspeed': 0, 'vspeed': -25, 'fuel': 310, 'angle': 0, 'power': 4, 'cmd': [0, 4]}, {'step': 59, 'length': 91, 'x': 2500, 'y': 748, 'hspeed': 0, 'vspeed': -25, 'fuel': 306, 'angle': 0, 'power': 4, 'cmd': [0, 4]}, {'step': 60, 'length': 91, 'x': 2500, 'y': 723, 'hspeed': 0, 'vspeed': -25, 'fuel': 302, 'angle': 0, 'power': 4, 'cmd': [0, 4]}, {'step': 61, 'length': 91, 'x': 2500, 'y': 699, 'hspeed': 0, 'vspeed': -24, 'fuel': 298, 'angle': 0, 'power': 4, 'cmd': [0, 4]}, {'step': 62, 'length': 91, 'x': 2500, 'y': 674, 'hspeed': 0, 'vspeed': -24, 'fuel': 294, 'angle': 0, 'power': 4, 'cmd': [0, 4]}, {'step': 63, 'length': 91, 'x': 2500, 'y': 651, 'hspeed': 0, 'vspeed': -24, 'fuel': 290, 'angle': 0, 'power': 4, 'cmd': [0, 4]}, {'step': 64, 'length': 91, 'x': 2500, 'y': 627, 'hspeed': 0, 'vspeed': -24, 'fuel': 286, 'angle': 0, 'power': 4, 'cmd': [0, 4]}, {'step': 65, 'length': 91, 'x': 2500, 'y': 604, 'hspeed': 0, 'vspeed': -23, 'fuel': 282, 'angle': 0, 'power': 4, 'cmd': [0, 4]}, {'step': 66, 'length': 91, 'x': 2500, 'y': 580, 'hspeed': 0, 'vspeed': -23, 'fuel': 278, 'angle': 0, 'power': 4, 'cmd': [0, 4]}, {'step': 67, 'length': 91, 'x': 2500, 'y': 558, 'hspeed': 0, 'vspeed': -23, 'fuel': 274, 'angle': 0, 'power': 4, 'cmd': [0, 4]}, {'step': 68, 'length': 91, 'x': 2500, 'y': 535, 'hspeed': 0, 'vspeed': -22, 'fuel': 270, 'angle': 0, 'power': 4, 'cmd': [0, 4]}, {'step': 69, 'length': 91, 'x': 2500, 'y': 513, 'hspeed': 0, 'vspeed': -22, 'fuel': 266, 'angle': 0, 'power': 4, 'cmd': [0, 4]}, {'step': 70, 'length': 91, 'x': 2500, 'y': 491, 'hspeed': 0, 'vspeed': -22, 'fuel': 262, 'angle': 0, 'power': 4, 'cmd': [0, 4]}, {'step': 71, 'length': 91, 'x': 2500, 'y': 469, 'hspeed': 0, 'vspeed': -21, 'fuel': 258, 'angle': 0, 'power': 4, 'cmd': [0, 4]}, {'step': 72, 'length': 91, 'x': 2500, 'y': 448, 'hspeed': 0, 'vspeed': -21, 'fuel': 254, 'angle': 0, 'power': 4, 'cmd': [0, 4]}, {'step': 73, 'length': 91, 'x': 2500, 'y': 427, 'hspeed': 0, 'vspeed': -21, 'fuel': 250, 'angle': 0, 'power': 4, 'cmd': [0, 4]}, {'step': 74, 'length': 91, 'x': 2500, 'y': 406, 'hspeed': 0, 'vspeed': -21, 'fuel': 246, 'angle': 0, 'power': 4, 'cmd': [0, 4]}, {'step': 75, 'length': 91, 'x': 2500, 'y': 386, 'hspeed': 0, 'vspeed': -20, 'fuel': 242, 'angle': 0, 'power': 4, 'cmd': [0, 4]}, {'step': 76, 'length': 91, 'x': 2500, 'y': 366, 'hspeed': 0, 'vspeed': -20, 'fuel': 238, 'angle': 0, 'power': 4, 'cmd': [0, 4]}, {'step': 77, 'length': 91, 'x': 2500, 'y': 346, 'hspeed': 0, 'vspeed': -20, 'fuel': 234, 'angle': 0, 'power': 4, 'cmd': [0, 4]}, {'step': 78, 'length': 91, 'x': 2500, 'y': 326, 'hspeed': 0, 'vspeed': -19, 'fuel': 230, 'angle': 0, 'power': 4, 'cmd': [0, 4]}, {'step': 79, 'length': 91, 'x': 2500, 'y': 307, 'hspeed': 0, 'vspeed': -19, 'fuel': 226, 'angle': 0, 'power': 4, 'cmd': [0, 4]}, {'step': 80, 'length': 91, 'x': 2500, 'y': 288, 'hspeed': 0, 'vspeed': -19, 'fuel': 222, 'angle': 0, 'power': 4, 'cmd': [0, 4]}, {'step': 81, 'length': 91, 'x': 2500, 'y': 269, 'hspeed': 0, 'vspeed': -19, 'fuel': 218, 'angle': 0, 'power': 4, 'cmd': [0, 4]}, {'step': 82, 'length': 91, 'x': 2500, 'y': 251, 'hspeed': 0, 'vspeed': -18, 'fuel': 214, 'angle': 0, 'power': 4, 'cmd': [0, 4]}, {'step': 83, 'length': 91, 'x': 2500, 'y': 232, 'hspeed': 0, 'vspeed': -18, 'fuel': 210, 'angle': 0, 'power': 4, 'cmd': [0, 4]}, {'step': 84, 'length': 91, 'x': 2500, 'y': 215, 'hspeed': 0, 'vspeed': -18, 'fuel': 206, 'angle': 0, 'power': 4, 'cmd': [0, 4]}, {'step': 85, 'length': 91, 'x': 2500, 'y': 197, 'hspeed': 0, 'vspeed': -17, 'fuel': 202, 'angle': 0, 'power': 4, 'cmd': [0, 4]}, {'step': 86, 'length': 91, 'x': 2500, 'y': 180, 'hspeed': 0, 'vspeed': -17, 'fuel': 198, 'angle': 0, 'power': 4, 'cmd': [0, 4]}, {'step': 87, 'length': 91, 'x': 2500, 'y': 163, 'hspeed': 0, 'vspeed': -17, 'fuel': 194, 'angle': 0, 'power': 4, 'cmd': [0, 4]}, {'step': 88, 'length': 91, 'x': 2500, 'y': 146, 'hspeed': 0, 'vspeed': -17, 'fuel': 190, 'angle': 0, 'power': 4, 'cmd': [0, 4]}, {'step': 89, 'length': 91, 'x': 2500, 'y': 130, 'hspeed': 0, 'vspeed': -16, 'fuel': 186, 'angle': 0, 'power': 4, 'cmd': [0, 4]}, {'step': 90, 'length': 91, 'x': 2500, 'y': 113, 'hspeed': 0, 'vspeed': -16, 'fuel': 182, 'angle': 0, 'power': 4, 'cmd': [0, 4]}, {'step': 91, 'length': 91, 'x': 2500, 'y': 100, 'hspeed': 0, 'vspeed': -16, 'fuel': 178, 'angle': 0, 'power': 4, 'cmd': [0, 4]}] (<class 'list'>)\n",
      "Stored 'log' (list)\n"
     ]
    }
   ],
   "source": [
    "# Read back the json file which was saved by the above cell.\n",
    "%f char 先掉10步然後狂噴.json readTextFile py> eval(pop()) constant log // ( -- json ) \"先掉10步然後狂噴.json\" log from Codingame > Mars Lander > episode-1 \n",
    "%f \\ s\" actual free fall.json\" readTextFile py> eval(pop()) constant log // ( -- json ) \"actual free fall.json\" log from Codingame > Mars Lander > episode-1 \n",
    "log = peforth.execute('log').pop()\n",
    "%f log -->\n",
    "%store log"
   ]
  },
  {
   "cell_type": "markdown",
   "metadata": {},
   "source": [
    "# Parse the clipboard \n",
    ". . . which was copied from the Mars Lander whole web page by F12 DevTools"
   ]
  },
  {
   "cell_type": "code",
   "execution_count": 24,
   "metadata": {},
   "outputs": [],
   "source": [
    "# 執行本 cell 之前先用 F12 DevTools 抓好 Target web page 的 HTML source code.\n",
    "source = peforth.dictate('clipboard').pop()    \n",
    "soup = BeautifulSoup(source,\"html.parser\")"
   ]
  },
  {
   "cell_type": "code",
   "execution_count": 25,
   "metadata": {},
   "outputs": [
    {
     "name": "stdout",
     "output_type": "stream",
     "text": [
      "length --> 55 (<class 'int'>)\n"
     ]
    }
   ],
   "source": [
    "phases = soup.find_all(class_='frame-players');\n",
    "length = len(phases)\n",
    "%f length -->"
   ]
  },
  {
   "cell_type": "code",
   "execution_count": 26,
   "metadata": {},
   "outputs": [],
   "source": [
    "log = []  # the entire records \n",
    "for phase in phases:\n",
    "    X = re.search(\"X=(?P<X>-?\\d+)\",str(phase))\n",
    "    Y = re.search(\"Y=(?P<Y>-?\\d+)\",str(phase))\n",
    "    HSpeed = re.search(\"HSpeed=(?P<HSpeed>-?\\d+)\",str(phase))\n",
    "    VSpeed = re.search(\"VSpeed=(?P<VSpeed>-?\\d+)\",str(phase))\n",
    "    Fuel = re.search(\"Fuel=(?P<Fuel>-?\\d+)\",str(phase))\n",
    "    Angle = re.search(\"Angle=(?P<Angle>-?\\d+)\",str(phase))\n",
    "    Power = re.search(\"Power=(?P<Power>-?\\d+)\",str(phase))\n",
    "    Step   = phase.find(class_='frame-number').string\n",
    "    Length = phase.find(class_='frame-count').string\n",
    "    try: \n",
    "        Cmd = phase.find(class_='stdout').find(class_='outputLine').string\n",
    "    except:\n",
    "        Cmd = '-99 -99'\n",
    "    log.append({\n",
    "        'step'  : int(Step),\n",
    "        'length': int(Length),\n",
    "        'x'     : int(X.groups()[0]),\n",
    "        'y'     : int(Y.groups()[0]),\n",
    "        'hspeed': int(HSpeed.groups()[0]),\n",
    "        'vspeed': int(VSpeed.groups()[0]),\n",
    "        'fuel'  : int(Fuel.groups()[0]),\n",
    "        'angle' : int(Angle.groups()[0]),\n",
    "        'power' : int(Power.groups()[0]),\n",
    "        'cmd'   : tuple(map(int,Cmd.split(' ')))  # command is a pair of (rotate,thrust) 注意，json 沒有 tuple 顧 save 成 json 還是又變成 array.\n",
    "    })\n"
   ]
  },
  {
   "cell_type": "code",
   "execution_count": 27,
   "metadata": {
    "tags": []
   },
   "outputs": [
    {
     "name": "stdout",
     "output_type": "stream",
     "text": [
      "log --> [{'step': 0, 'length': 54, 'x': 6500, 'y': 2800, 'hspeed': -100, 'vspeed': 0, 'fuel': 600, 'angle': 90, 'power': 0, 'cmd': (-99, -99)}, {'step': 1, 'length': 54, 'x': 6400, 'y': 2798, 'hspeed': -100, 'vspeed': -4, 'fuel': 600, 'angle': 90, 'power': 0, 'cmd': (90, 0)}, {'step': 2, 'length': 54, 'x': 6300, 'y': 2793, 'hspeed': -100, 'vspeed': -7, 'fuel': 600, 'angle': 89, 'power': 0, 'cmd': (89, 0)}, {'step': 3, 'length': 54, 'x': 6200, 'y': 2783, 'hspeed': -100, 'vspeed': -11, 'fuel': 600, 'angle': 83, 'power': 0, 'cmd': (83, 0)}, {'step': 4, 'length': 54, 'x': 6100, 'y': 2770, 'hspeed': -100, 'vspeed': -15, 'fuel': 600, 'angle': 68, 'power': 0, 'cmd': (68, 0)}, {'step': 5, 'length': 54, 'x': 6000, 'y': 2754, 'hspeed': -100, 'vspeed': -19, 'fuel': 600, 'angle': 59, 'power': 0, 'cmd': (59, 0)}, {'step': 6, 'length': 54, 'x': 5900, 'y': 2733, 'hspeed': -100, 'vspeed': -22, 'fuel': 600, 'angle': 59, 'power': 0, 'cmd': (59, 0)}, {'step': 7, 'length': 54, 'x': 5800, 'y': 2709, 'hspeed': -100, 'vspeed': -26, 'fuel': 600, 'angle': 58, 'power': 0, 'cmd': (58, 0)}, {'step': 8, 'length': 54, 'x': 5700, 'y': 2681, 'hspeed': -100, 'vspeed': -30, 'fuel': 600, 'angle': 58, 'power': 0, 'cmd': (58, 0)}, {'step': 9, 'length': 54, 'x': 5600, 'y': 2650, 'hspeed': -100, 'vspeed': -33, 'fuel': 600, 'angle': 44, 'power': 0, 'cmd': (44, 0)}, {'step': 10, 'length': 54, 'x': 5500, 'y': 2614, 'hspeed': -100, 'vspeed': -37, 'fuel': 600, 'angle': 38, 'power': 0, 'cmd': (38, 0)}, {'step': 11, 'length': 54, 'x': 5400, 'y': 2575, 'hspeed': -100, 'vspeed': -41, 'fuel': 600, 'angle': 31, 'power': 0, 'cmd': (31, 0)}, {'step': 12, 'length': 54, 'x': 5300, 'y': 2533, 'hspeed': -100, 'vspeed': -45, 'fuel': 600, 'angle': 27, 'power': 0, 'cmd': (27, 0)}, {'step': 13, 'length': 54, 'x': 5200, 'y': 2486, 'hspeed': -100, 'vspeed': -48, 'fuel': 600, 'angle': 27, 'power': 0, 'cmd': (27, 0)}, {'step': 14, 'length': 54, 'x': 5100, 'y': 2437, 'hspeed': -100, 'vspeed': -51, 'fuel': 599, 'angle': 23, 'power': 1, 'cmd': (23, 1)}, {'step': 15, 'length': 54, 'x': 4999, 'y': 2384, 'hspeed': -101, 'vspeed': -54, 'fuel': 598, 'angle': 21, 'power': 1, 'cmd': (21, 1)}, {'step': 16, 'length': 54, 'x': 4898, 'y': 2329, 'hspeed': -101, 'vspeed': -57, 'fuel': 597, 'angle': 22, 'power': 1, 'cmd': (22, 1)}, {'step': 17, 'length': 54, 'x': 4797, 'y': 2271, 'hspeed': -101, 'vspeed': -59, 'fuel': 596, 'angle': 17, 'power': 1, 'cmd': (17, 1)}, {'step': 18, 'length': 54, 'x': 4695, 'y': 2211, 'hspeed': -102, 'vspeed': -61, 'fuel': 594, 'angle': 8, 'power': 2, 'cmd': (8, 2)}, {'step': 19, 'length': 54, 'x': 4594, 'y': 2150, 'hspeed': -102, 'vspeed': -62, 'fuel': 591, 'angle': 8, 'power': 3, 'cmd': (8, 3)}, {'step': 20, 'length': 54, 'x': 4491, 'y': 2088, 'hspeed': -103, 'vspeed': -62, 'fuel': 587, 'angle': 9, 'power': 4, 'cmd': (9, 4)}, {'step': 21, 'length': 54, 'x': 4388, 'y': 2026, 'hspeed': -103, 'vspeed': -61, 'fuel': 583, 'angle': -1, 'power': 4, 'cmd': (-1, 4)}, {'step': 22, 'length': 54, 'x': 4286, 'y': 1965, 'hspeed': -103, 'vspeed': -61, 'fuel': 579, 'angle': -1, 'power': 4, 'cmd': (-1, 4)}, {'step': 23, 'length': 54, 'x': 4184, 'y': 1904, 'hspeed': -102, 'vspeed': -61, 'fuel': 575, 'angle': -15, 'power': 4, 'cmd': (-15, 4)}, {'step': 24, 'length': 54, 'x': 4083, 'y': 1844, 'hspeed': -101, 'vspeed': -61, 'fuel': 571, 'angle': -15, 'power': 4, 'cmd': (-15, 4)}, {'step': 25, 'length': 54, 'x': 3983, 'y': 1783, 'hspeed': -99, 'vspeed': -61, 'fuel': 567, 'angle': -26, 'power': 4, 'cmd': (-26, 4)}, {'step': 26, 'length': 54, 'x': 3885, 'y': 1722, 'hspeed': -98, 'vspeed': -61, 'fuel': 563, 'angle': -17, 'power': 4, 'cmd': (-17, 4)}, {'step': 27, 'length': 54, 'x': 3788, 'y': 1661, 'hspeed': -97, 'vspeed': -60, 'fuel': 559, 'angle': -8, 'power': 4, 'cmd': (-8, 4)}, {'step': 28, 'length': 54, 'x': 3691, 'y': 1601, 'hspeed': -96, 'vspeed': -60, 'fuel': 555, 'angle': -11, 'power': 4, 'cmd': (-11, 4)}, {'step': 29, 'length': 54, 'x': 3595, 'y': 1541, 'hspeed': -96, 'vspeed': -60, 'fuel': 551, 'angle': -10, 'power': 4, 'cmd': (-10, 4)}, {'step': 30, 'length': 54, 'x': 3500, 'y': 1481, 'hspeed': -95, 'vspeed': -60, 'fuel': 547, 'angle': -10, 'power': 4, 'cmd': (-10, 4)}, {'step': 31, 'length': 54, 'x': 3405, 'y': 1421, 'hspeed': -94, 'vspeed': -60, 'fuel': 543, 'angle': -19, 'power': 4, 'cmd': (-19, 4)}, {'step': 32, 'length': 54, 'x': 3312, 'y': 1362, 'hspeed': -92, 'vspeed': -60, 'fuel': 539, 'angle': -19, 'power': 4, 'cmd': (-19, 4)}, {'step': 33, 'length': 54, 'x': 3221, 'y': 1302, 'hspeed': -91, 'vspeed': -60, 'fuel': 535, 'angle': -23, 'power': 4, 'cmd': (-23, 4)}, {'step': 34, 'length': 54, 'x': 3131, 'y': 1242, 'hspeed': -89, 'vspeed': -60, 'fuel': 531, 'angle': -23, 'power': 4, 'cmd': (-23, 4)}, {'step': 35, 'length': 54, 'x': 3043, 'y': 1183, 'hspeed': -88, 'vspeed': -60, 'fuel': 527, 'angle': -22, 'power': 4, 'cmd': (-22, 4)}, {'step': 36, 'length': 54, 'x': 2955, 'y': 1123, 'hspeed': -87, 'vspeed': -60, 'fuel': 523, 'angle': -13, 'power': 4, 'cmd': (-13, 4)}, {'step': 37, 'length': 54, 'x': 2869, 'y': 1064, 'hspeed': -86, 'vspeed': -59, 'fuel': 519, 'angle': -9, 'power': 4, 'cmd': (-9, 4)}, {'step': 38, 'length': 54, 'x': 2783, 'y': 1005, 'hspeed': -86, 'vspeed': -59, 'fuel': 515, 'angle': -4, 'power': 4, 'cmd': (-4, 4)}, {'step': 39, 'length': 54, 'x': 2698, 'y': 946, 'hspeed': -85, 'vspeed': -59, 'fuel': 511, 'angle': -13, 'power': 4, 'cmd': (-13, 4)}, {'step': 40, 'length': 54, 'x': 2613, 'y': 887, 'hspeed': -84, 'vspeed': -59, 'fuel': 507, 'angle': -18, 'power': 4, 'cmd': (-18, 4)}, {'step': 41, 'length': 54, 'x': 2530, 'y': 828, 'hspeed': -83, 'vspeed': -58, 'fuel': 503, 'angle': -9, 'power': 4, 'cmd': (-9, 4)}, {'step': 42, 'length': 54, 'x': 2447, 'y': 770, 'hspeed': -82, 'vspeed': -58, 'fuel': 499, 'angle': -12, 'power': 4, 'cmd': (-12, 4)}, {'step': 43, 'length': 54, 'x': 2365, 'y': 712, 'hspeed': -81, 'vspeed': -58, 'fuel': 495, 'angle': -17, 'power': 4, 'cmd': (-17, 4)}, {'step': 44, 'length': 54, 'x': 2285, 'y': 654, 'hspeed': -80, 'vspeed': -58, 'fuel': 491, 'angle': -11, 'power': 4, 'cmd': (-11, 4)}, {'step': 45, 'length': 54, 'x': 2204, 'y': 596, 'hspeed': -80, 'vspeed': -58, 'fuel': 487, 'angle': -4, 'power': 4, 'cmd': (-4, 4)}, {'step': 46, 'length': 54, 'x': 2125, 'y': 538, 'hspeed': -80, 'vspeed': -57, 'fuel': 483, 'angle': -5, 'power': 4, 'cmd': (-5, 4)}, {'step': 47, 'length': 54, 'x': 2045, 'y': 481, 'hspeed': -79, 'vspeed': -57, 'fuel': 479, 'angle': -7, 'power': 4, 'cmd': (-7, 4)}, {'step': 48, 'length': 54, 'x': 1966, 'y': 424, 'hspeed': -79, 'vspeed': -57, 'fuel': 475, 'angle': -1, 'power': 4, 'cmd': (-1, 4)}, {'step': 49, 'length': 54, 'x': 1887, 'y': 367, 'hspeed': -79, 'vspeed': -57, 'fuel': 471, 'angle': -3, 'power': 4, 'cmd': (-3, 4)}, {'step': 50, 'length': 54, 'x': 1808, 'y': 311, 'hspeed': -78, 'vspeed': -56, 'fuel': 467, 'angle': -10, 'power': 4, 'cmd': (-10, 4)}, {'step': 51, 'length': 54, 'x': 1730, 'y': 255, 'hspeed': -78, 'vspeed': -56, 'fuel': 463, 'angle': -9, 'power': 4, 'cmd': (-9, 4)}, {'step': 52, 'length': 54, 'x': 1653, 'y': 199, 'hspeed': -76, 'vspeed': -56, 'fuel': 459, 'angle': -19, 'power': 4, 'cmd': (-19, 4)}, {'step': 53, 'length': 54, 'x': 1578, 'y': 143, 'hspeed': -75, 'vspeed': -56, 'fuel': 455, 'angle': -15, 'power': 4, 'cmd': (-15, 4)}, {'step': 54, 'length': 54, 'x': 1519, 'y': 100, 'hspeed': -75, 'vspeed': -56, 'fuel': 451, 'angle': 0, 'power': 4, 'cmd': (0, 4)}] (<class 'list'>)\n",
      "Stored 'log' (list)\n"
     ]
    }
   ],
   "source": [
    "# 從 output 取得 log string 的方法既可以簡單直接 mark and ctrl-c \n",
    "# 也可以利用 F12 DevTools 的 select element 功能選取本 output 然後 copy > copy outerHTML 亦可。當內容很龐大時需要用這招。\n",
    "# Jupyternotebook %store magic 可以用來跨 notebook 傳 data, 他端用 %sotre -r log 讀取這裡 store 進去的 data.\n",
    "%f log -->\n",
    "%store log"
   ]
  },
  {
   "cell_type": "code",
   "execution_count": null,
   "metadata": {},
   "outputs": [],
   "source": [
    "# 執行到此 cell 為止\n",
    "try: assert False\n",
    "except: pass"
   ]
  },
  {
   "cell_type": "markdown",
   "metadata": {},
   "source": [
    "# log 寫成 json 檔\n",
    "Avoid from needing the codingame web page "
   ]
  },
  {
   "cell_type": "code",
   "execution_count": 18,
   "metadata": {},
   "outputs": [],
   "source": [
    "%%f\n",
    "\\ 上面辛苦得到的 log dict 存成 json 檔需要的 command \n",
    ": json2file // ( json pathname -- ) Save josn to text file \n",
    "    py> open(pop(),'w') ( json file ) >r ( json R: file )\n",
    "    py: json.dump(pop(),rtos()) ( does jaosn.dump return anything? ) \n",
    "    r> :: close() ;\n",
    "    /// Usage: dictJson char aa.json json2file \\ to save file\n",
    "    /// but: \"pathname\" readTextFile py> eval(pop()) \\ to read back is more reliable than using txt2json"
   ]
  },
  {
   "cell_type": "code",
   "execution_count": 19,
   "metadata": {},
   "outputs": [
    {
     "name": "stdout",
     "output_type": "stream",
     "text": [
      "empty\n",
      "\n"
     ]
    }
   ],
   "source": [
    "%f dropall log s\" episode2-02-Initial-speed-correct-side.json\" json2file .s"
   ]
  },
  {
   "cell_type": "code",
   "execution_count": null,
   "metadata": {},
   "outputs": [],
   "source": []
  },
  {
   "cell_type": "code",
   "execution_count": null,
   "metadata": {},
   "outputs": [],
   "source": []
  },
  {
   "cell_type": "code",
   "execution_count": null,
   "metadata": {},
   "outputs": [],
   "source": []
  },
  {
   "cell_type": "code",
   "execution_count": null,
   "metadata": {},
   "outputs": [],
   "source": []
  },
  {
   "cell_type": "code",
   "execution_count": null,
   "metadata": {},
   "outputs": [],
   "source": []
  },
  {
   "cell_type": "code",
   "execution_count": null,
   "metadata": {},
   "outputs": [],
   "source": []
  },
  {
   "cell_type": "code",
   "execution_count": null,
   "metadata": {},
   "outputs": [],
   "source": []
  },
  {
   "cell_type": "code",
   "execution_count": null,
   "metadata": {},
   "outputs": [],
   "source": []
  },
  {
   "cell_type": "code",
   "execution_count": null,
   "metadata": {},
   "outputs": [],
   "source": []
  },
  {
   "cell_type": "code",
   "execution_count": null,
   "metadata": {},
   "outputs": [],
   "source": []
  },
  {
   "cell_type": "code",
   "execution_count": null,
   "metadata": {},
   "outputs": [],
   "source": []
  },
  {
   "cell_type": "markdown",
   "metadata": {},
   "source": [
    "# 筆記"
   ]
  },
  {
   "cell_type": "code",
   "execution_count": null,
   "metadata": {},
   "outputs": [],
   "source": [
    "for i in range(len(phases)-1):\n",
    "    # phases[i].find(class_='game-info').find_all_next('pre')\n",
    "    p = re.sub('\\r|\\n',' ', phases[i].find(class_='game-info').find('pre').string)\n",
    "    %f i . space p -->"
   ]
  },
  {
   "cell_type": "code",
   "execution_count": null,
   "metadata": {},
   "outputs": [],
   "source": [
    "    regEx = re.compile(\"Landing phase starting.+X=(?P<X>\\d+).+Y=(?P<Y>\\d+).+HSpeed=(?P<HSpeed>\\d+).+VSpeed=(?P<VSpeed>\\d+).+Fuel=(?P<Fuel>\\d+).+Angle=(?P<Angle>\\d+).+Power=(?P<Power>\\d+)\")\n",
    "    m = re.match(regEx,phase)\n",
    "    %f m :> groups() -->\n",
    "    %f m :> group('X') -->\n",
    "    %f m :> group('Power') -->\n",
    "    %f m :> groupdict() -->"
   ]
  },
  {
   "cell_type": "code",
   "execution_count": null,
   "metadata": {},
   "outputs": [],
   "source": [
    "regEx = re.compile(\"Landing phase starting.+X=(?P<X>\\d+).+Y=(?P<Y>\\d+).+HSpeed=(?P<HSpeed>\\d+).+VSpeed=(?P<VSpeed>\\d+).+Fuel=(?P<Fuel>\\d+).+Angle=(?P<Angle>\\d+).+Power=(?P<Power>\\d+)\")\n",
    "%f regEx -->    "
   ]
  },
  {
   "cell_type": "code",
   "execution_count": null,
   "metadata": {},
   "outputs": [],
   "source": [
    "%f soup :> find(class_='frame-players').find(class_='frame-number').string -->\n",
    "%f soup :> find(class_='frame-players').find(class_='frame-count').string --> cr\n",
    "%f soup :> find(class_='frame-players').find(class_='game-info') ==> cr     \n",
    "\n",
    "%f \"\" value phase // ( -- str ) Log of a phase. \"Landing phase starting X=2500m, Y=2500m, HSpeed=0m/s VSpeed=0m/s ...\" \n",
    "\n",
    "%f soup :> find(class_='frame-players').find(class_='game-info').find('pre').string dup to phase -->\n",
    "\n",
    "%f ( Phase log data ) phase <py> re.sub('\\r|\\n',' ',pop())</pyV> dup to phase ==>\n",
    "\n",
    "%f dropall s\" Landing phase starting.+X=(?P<X>\\d+).+Y=(?P<Y>\\d+).+HSpeed=(?P<HSpeed>\\d+).+VSpeed=(?P<VSpeed>\\d+).+Fuel=(?P<Fuel>\\d+).+Angle=(?P<Angle>\\d+).+Power=(?P<Power>\\d+)\" \n",
    "\n",
    "%f \"\" value m // ( -- match ) re.match result\n",
    "\n",
    "%f s\" Landing.+\"\n",
    "%f s\" X=(?P<X>\\d+).+\" +\n",
    "%f s\" Y=(?P<Y>\\d+).+\" +\n",
    "%f s\" HSpeed=(?P<HSpeed>\\d+).+\" +\n",
    "%f s\" VSpeed=(?P<VSpeed>\\d+).+\" +\n",
    "%f s\" Fuel=(?P<Fuel>\\d+).+\" +\n",
    "%f s\" Angle=(?P<Angle>\\d+).+\" +\n",
    "%f s\" Power=(?P<Power>\\d+)\" +\n",
    "%f phase re :> match(pop(1),pop(0)) dup to m ==>\n",
    "%f m :> groups() -->\n",
    "%f m :> group('X') -->\n",
    "%f m :> group('Power') -->\n",
    "%f m :> groupdict() -->"
   ]
  },
  {
   "cell_type": "code",
   "execution_count": null,
   "metadata": {},
   "outputs": [],
   "source": []
  },
  {
   "cell_type": "code",
   "execution_count": null,
   "metadata": {},
   "outputs": [],
   "source": []
  },
  {
   "cell_type": "code",
   "execution_count": null,
   "metadata": {},
   "outputs": [],
   "source": [
    "phase = phases[68]\n",
    "%f phase -->"
   ]
  },
  {
   "cell_type": "code",
   "execution_count": null,
   "metadata": {},
   "outputs": [],
   "source": [
    "%f dropall phase :> find(class_='stdout').find(class_='outputLine').string dup -->\n",
    "%f str :>~ split(' ')\n",
    "%f -->\n"
   ]
  },
  {
   "cell_type": "code",
   "execution_count": null,
   "metadata": {},
   "outputs": [],
   "source": []
  },
  {
   "cell_type": "code",
   "execution_count": null,
   "metadata": {},
   "outputs": [],
   "source": []
  },
  {
   "cell_type": "code",
   "execution_count": null,
   "metadata": {},
   "outputs": [],
   "source": [
    "m = re.search(\"Fuel=(?P<Fuel>\\d+)\",str(phase))\n",
    "%f m -->\n",
    "%f m :> groups() -->\n",
    "%f m :> group('Fuel') -->\n",
    "%f m :> groupdict() -->"
   ]
  },
  {
   "cell_type": "code",
   "execution_count": null,
   "metadata": {},
   "outputs": [],
   "source": [
    "X = re.search(\"X=(?P<X>-?\\d+)\",str(phase))\n",
    "Y = re.search(\"Y=(?P<Y>-?\\d+)\",str(phase))\n",
    "HSpeed = re.search(\"HSpeed=(?P<HSpeed>-?\\d+)\",str(phase))\n",
    "VSpeed = re.search(\"VSpeed=(?P<VSpeed>-?\\d+)\",str(phase))\n",
    "Fuel = re.search(\"Fuel=(?P<Fuel>-?\\d+)\",str(phase))\n",
    "Angle = re.search(\"Angle=(?P<Angle>-?\\d+)\",str(phase))\n",
    "Power = re.search(\"Power=(?P<Power>-?\\d+)\",str(phase))\n",
    "Step   = phase.find(class_='frame-number').string\n",
    "Length = phase.find(class_='frame-count').string\n",
    "Cmd    = phase.find(class_='stdout').find(class_='outputLine').string\n",
    "\n",
    "{\n",
    "'step'  : int(Step),\n",
    "'length': int(Length),\n",
    "'x'     : int(X.groups()[0]),\n",
    "'y'     : int(Y.groups()[0]),\n",
    "'hspeed': int(HSpeed.groups()[0]),\n",
    "'vspeed': int(VSpeed.groups()[0]),\n",
    "'fuel'  : int(Fuel.groups()[0]),\n",
    "'angle' : int(Angle.groups()[0]),\n",
    "'power' : int(Power.groups()[0]),\n",
    "'cmd'   : tuple(map(int,Cmd.split(' ')))  # command is a pair of (rotate,thrust)\n",
    "}\n",
    "\n"
   ]
  },
  {
   "cell_type": "code",
   "execution_count": null,
   "metadata": {},
   "outputs": [],
   "source": [
    "%f soup :> find_all(class_='frame-players') value phases // ( -- soup ) Logs of all phases \n",
    "%f phases count nip -->"
   ]
  },
  {
   "cell_type": "code",
   "execution_count": null,
   "metadata": {},
   "outputs": [],
   "source": [
    "%f phases :> [9].find(class_='frame-number').string -->\n",
    "%f phases :> [9].find(class_='frame-count').string -->"
   ]
  },
  {
   "cell_type": "code",
   "execution_count": null,
   "metadata": {},
   "outputs": [],
   "source": [
    "phase1 = str(phases[68].find(class_='game-info'))\n",
    "%f phase -->"
   ]
  },
  {
   "cell_type": "code",
   "execution_count": null,
   "metadata": {},
   "outputs": [],
   "source": [
    "m.groupdict()"
   ]
  },
  {
   "cell_type": "code",
   "execution_count": null,
   "metadata": {},
   "outputs": [],
   "source": [
    "_ = phases[68].find(class_='game-info').find('pre').string\n",
    "%f _ --> cr\n",
    "_ = phases[68].find(class_='game-info').find('pre').span\n",
    "%f _ --> cr"
   ]
  },
  {
   "cell_type": "code",
   "execution_count": null,
   "metadata": {},
   "outputs": [],
   "source": [
    "instruction = phases[68].find(class_='outputLine')\n",
    "%f instruction -->\n",
    "%f instruction :> string -->\n",
    "%f instruction :> string <py> s=re.search(\".+(\\d+)\\s+(\\d+)\",pop()) </pyV> -->\n"
   ]
  },
  {
   "cell_type": "code",
   "execution_count": null,
   "metadata": {},
   "outputs": [],
   "source": [
    "_ = phases[68].find(class_='game-info').find_all_next('pre')\n",
    "%f _ --> cr\n",
    "%f _ count nip --> cr\n",
    "%f _ :> [0] --> cr\n",
    "%f _ :> [1] --> cr \n",
    "%f _ :> [2] --> cr\n",
    "%f _ :> [3] --> cr\n"
   ]
  },
  {
   "cell_type": "code",
   "execution_count": null,
   "metadata": {},
   "outputs": [],
   "source": [
    "_ = phases[69].find(class_='game-info').find_all_next('pre')\n",
    "%f _ --> cr\n",
    "%f _ count nip --> cr\n",
    "%f _ :> [0] --> cr\n",
    "%f _ :> [1] --> cr \n",
    "%f _ :> [2] --> cr\n",
    "%f _ :> [3] --> cr\n"
   ]
  },
  {
   "cell_type": "code",
   "execution_count": null,
   "metadata": {},
   "outputs": [],
   "source": [
    "_ = phases[69].find(class_='game-info').find('pre').string\n",
    "%f _ --> cr\n",
    "\n",
    "_ = phases[69].find(class_='game-info').find('pre').span\n",
    "%f _ --> cr\n"
   ]
  },
  {
   "cell_type": "code",
   "execution_count": null,
   "metadata": {},
   "outputs": [],
   "source": [
    "re.sub('\\r|\\n',' ', phases[69].find(class_='game-info').find('pre').string)"
   ]
  },
  {
   "cell_type": "code",
   "execution_count": null,
   "metadata": {},
   "outputs": [],
   "source": [
    "# 當初還搞這麼麻煩是因為 re.match 似乎 default 不能處理 multiple lines. 其實改用 re.search 一個個找出來就沒這問題了。\n",
    "phase2 = re.sub('\\r|\\n',' ', phase1)\n",
    "%f phase2 -->\n",
    "# 若要用 re.match 則可考慮 re.MULTILINE flag \n",
    "# re.MULTILINE see https://stackoverflow.com/questions/587345/regular-expression-matching-a-multiline-block-of-text\n"
   ]
  },
  {
   "cell_type": "code",
   "execution_count": null,
   "metadata": {},
   "outputs": [],
   "source": [
    "!conda env list"
   ]
  },
  {
   "cell_type": "code",
   "execution_count": null,
   "metadata": {},
   "outputs": [],
   "source": [
    "%f soup :> find_all('span') \\ ( -- list ) \n",
    "%f <py> [ i.string for i in pop()][:10]</pyV> --> cr\n",
    "%f \\ soup :> find_all('pre') \\ ( -- list ) \n",
    "%f \\ <py> [ i.string for i in pop()]</pyV> --> cr \n",
    "%f \\ soup :> find('pre') ==>\n",
    "%f ( 從這裏面去爬 ) soup :> find('pre').string ==>\n"
   ]
  },
  {
   "cell_type": "code",
   "execution_count": null,
   "metadata": {},
   "outputs": [],
   "source": [
    "%f cr\n",
    "%f soup :> find(class_='frame-players')  ( -- list )  <py> [ i for i in pop()]</pyV> ==> cr \n",
    "%f soup :> find(class_='frame-players')  ( -- list )  <py> [ i.string for i in pop()]</pyV> ==> cr \n",
    "%f soup :> find_all(class_='frame-number') count --> ( -- list )  <py> [ i.string for i in pop()]</pyV> ==> cr \n",
    "%f soup :> find_all(class_='frame-count')  count --> ( -- list )  <py> [ i.string for i in pop()]</pyV> ==> cr \n",
    "# %f soup :> find(class_='frame-players').find(class_='outputLine') type -->"
   ]
  },
  {
   "cell_type": "code",
   "execution_count": null,
   "metadata": {},
   "outputs": [],
   "source": []
  },
  {
   "cell_type": "markdown",
   "metadata": {},
   "source": [
    "# Parsing the first data"
   ]
  },
  {
   "cell_type": "code",
   "execution_count": null,
   "metadata": {},
   "outputs": [],
   "source": [
    "%f soup type -->\n",
    "%f soup :> find(class_='frame-players').find(class_='game-info').find(class_='title').string -->\n",
    "%f soup :> find(class_='frame-players').find(class_='frame-number').string -->\n",
    "%f soup :> find(class_='frame-players').find(class_='frame-count').string --> cr\n",
    "%f soup :> find(class_='frame-players').find(class_='game-info') ==> cr     "
   ]
  },
  {
   "cell_type": "code",
   "execution_count": null,
   "metadata": {},
   "outputs": [],
   "source": [
    "%f \"\" value phase // ( -- str ) Log of a phase. \"Landing phase starting X=2500m, Y=2500m, HSpeed=0m/s VSpeed=0m/s ...\" "
   ]
  },
  {
   "cell_type": "code",
   "execution_count": null,
   "metadata": {},
   "outputs": [],
   "source": [
    "%f soup :> find(class_='frame-players').find(class_='game-info').find('pre').string dup to phase -->"
   ]
  },
  {
   "cell_type": "code",
   "execution_count": null,
   "metadata": {},
   "outputs": [],
   "source": [
    "%f ( Phase log data ) phase <py> re.sub('\\r|\\n',' ',pop())</pyV> dup to phase ==>"
   ]
  },
  {
   "cell_type": "code",
   "execution_count": null,
   "metadata": {},
   "outputs": [],
   "source": [
    "%f dropall s\" Landing phase starting.+X=(?P<X>\\d+).+Y=(?P<Y>\\d+).+HSpeed=(?P<HSpeed>\\d+).+VSpeed=(?P<VSpeed>\\d+).+Fuel=(?P<Fuel>\\d+).+Angle=(?P<Angle>\\d+).+Power=(?P<Power>\\d+)\" "
   ]
  },
  {
   "cell_type": "code",
   "execution_count": null,
   "metadata": {},
   "outputs": [],
   "source": [
    "%f \"\" value m // ( -- match ) re.match result"
   ]
  },
  {
   "cell_type": "code",
   "execution_count": null,
   "metadata": {},
   "outputs": [],
   "source": [
    "%f s\" (.+)\"\n",
    "%f s\" X=(?P<X>\\d+).+\" +\n",
    "%f s\" Y=(?P<Y>\\d+).+\" +\n",
    "%f s\" HSpeed=(?P<HSpeed>\\d+).+\" +\n",
    "%f s\" VSpeed=(?P<VSpeed>\\d+).+\" +\n",
    "%f s\" Fuel=(?P<Fuel>\\d+).+\" +\n",
    "%f s\" Angle=(?P<Angle>\\d+).+\" +\n",
    "%f s\" Power=(?P<Power>\\d+)\" +\n",
    "%f phase re :> match(pop(1),pop(0)) dup to m ==>\n",
    "%f m :> groups() -->\n",
    "%f m :> group('X') -->\n",
    "%f m :> group('Power') -->\n",
    "%f m :> groupdict() -->"
   ]
  },
  {
   "cell_type": "code",
   "execution_count": 16,
   "metadata": {},
   "outputs": [],
   "source": [
    "%%f\n",
    "import IPython\n",
    ": paste py> IPython.lib.clipboard.win32_clipboard_get() tib.insert ; // ( -- ... ) Execute the clipboard. Good for *debug* in Jupyternotebook.\n",
    "\n",
    "1 2 3 4 .s "
   ]
  },
  {
   "cell_type": "code",
   "execution_count": null,
   "metadata": {},
   "outputs": [],
   "source": [
    "source\n"
   ]
  },
  {
   "cell_type": "code",
   "execution_count": null,
   "metadata": {},
   "outputs": [],
   "source": [
    "a = []\n",
    "a.append(1)\n",
    "a.append('assdfs')\n",
    "a"
   ]
  },
  {
   "cell_type": "code",
   "execution_count": 27,
   "metadata": {},
   "outputs": [
    {
     "name": "stdout",
     "output_type": "stream",
     "text": [
      "Stored 'a' (int)\n"
     ]
    }
   ],
   "source": [
    "a=123\n",
    "%store a"
   ]
  },
  {
   "cell_type": "code",
   "execution_count": null,
   "metadata": {},
   "outputs": [],
   "source": []
  },
  {
   "cell_type": "code",
   "execution_count": null,
   "metadata": {},
   "outputs": [],
   "source": []
  },
  {
   "cell_type": "code",
   "execution_count": null,
   "metadata": {},
   "outputs": [],
   "source": []
  },
  {
   "cell_type": "code",
   "execution_count": null,
   "metadata": {},
   "outputs": [],
   "source": []
  }
 ],
 "metadata": {
  "kernelspec": {
   "display_name": "Python 3",
   "language": "python",
   "name": "python3"
  },
  "language_info": {
   "codemirror_mode": {
    "name": "ipython",
    "version": 3
   },
   "file_extension": ".py",
   "mimetype": "text/x-python",
   "name": "python",
   "nbconvert_exporter": "python",
   "pygments_lexer": "ipython3",
   "version": "3.7.5"
  }
 },
 "nbformat": 4,
 "nbformat_minor": 4
}
