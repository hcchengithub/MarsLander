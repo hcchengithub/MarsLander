{
 "cells": [
  {
   "cell_type": "markdown",
   "metadata": {},
   "source": [
    "# Simulated Annealing for Mars Lander Episode-1 "
   ]
  },
  {
   "cell_type": "markdown",
   "metadata": {},
   "source": [
    "### Import modules and Utilities"
   ]
  },
  {
   "cell_type": "code",
   "execution_count": 1,
   "metadata": {
    "tags": []
   },
   "outputs": [
    {
     "name": "stdout",
     "output_type": "stream",
     "text": [
      "reDef unknown\n",
      "reDef -->\n",
      "p e f o r t h    v1.26\n",
      "source code http://github.com/hcchengithub/peforth\n",
      "Type 'peforth.ok()' to enter forth interpreter, 'exit' to come back.\n",
      "\n",
      "version ==>\n",
      " 1.26 (<class 'str'>)\n"
     ]
    }
   ],
   "source": [
    "from typing import List, Optional, Callable, Tuple, Dict, Union  # OneNote2021 #_python_ #_typing_\n",
    "GENE = List[int]  # (rotate (-15 ~ +15),power (-1, 0, +1)) 避免無用的值域，下給 Web site 的 command 要轉換成 (rotate(-90 ~ +90), power(0,1,2,3,4))\n",
    "GENOME = List[GENE]  # Genome 是一個 list 裡面都是 int\n",
    "STATE = Dict[str,Union[int,float]]  # x,y,hspeed,power,.. etc \n",
    "\n",
    "import numpy as np\n",
    "import re, math, random, pdb, json, copy\n",
    "import peforth\n",
    "peforth.bps = [i for i in range(100)]  # 預設有這麼多 Breakpoint ID\n",
    "def bp(id=None,locals=None):\n",
    "    # Breakpoint ID 不能超過 peforth.bps 保留，超過的無效。\n",
    "    if id==None: \n",
    "        id = 0\n",
    "        prompt='bp> '\n",
    "    else:\n",
    "        prompt=\"{}>\".format(id)\n",
    "    if id in peforth.bps: peforth.push(locals).ok(prompt, cmd=\"to _locals_\")\n",
    "peforth.bp = bp\n",
    "peforth.push(bp).dictate(\"py: vm.bp=pop()\")  # [ ] 忘了 vm.bp 有何用途？\n",
    "peforth.dictate('''\n",
    "    \\ ------ breakpoint ------------------------------------------------------------\n",
    "    : bp .\" Usage: peforth.bp(11,locals())  # drop a breakpoint with ID=11\" cr ;\n",
    "    : bl // ( -- ) List all breakpoints\n",
    "        __main__ :> peforth.bps \n",
    "        <py>\n",
    "        bps = pop()\n",
    "        print('Disabled breakpoints:')\n",
    "        for i in range(len(bps)):\n",
    "            if not bps[i]: \n",
    "                print(i, end=' ')\n",
    "        print(); print('Enabled breakpoints:')\n",
    "        count = 0\n",
    "        for i in range(len(bps)):\n",
    "            if bps[i]: \n",
    "                print(i, end=' ')\n",
    "                count += 1\n",
    "        print(); print('Enabled breakpoints count: {}/{}'.format(count,len(bps)))\n",
    "        </py> cr ;\n",
    "        /// Breakpoint commands:\n",
    "        ///\t  bl  - list all breakpoints (capital BL is white space) \n",
    "        ///\t  be  - enable breakpoints, e.g. be 1 2 3 \n",
    "        ///\t  bd  - disable breakpoints, e.g. bd 1 2 3 \n",
    "        ///\t  be* - enable all breakpoints\n",
    "        ///\t  bd* - disable all breakpoints \n",
    "        /// Also: \n",
    "        ///   for i in [11,22,33]: peforth.bps[i]=0\t # disable breakpoints 11,22,33 \n",
    "        ///   for i in [11,22,33]: peforth.bps[i]=i\t # enable  breakpoints 11,22,33 \n",
    "    \n",
    "    : bd // ( <1 2 3 4...> -- ) Disable listed breakpoints \n",
    "        CR word ( line ) __main__ :> peforth.bps ( line bps )\n",
    "        <py>\n",
    "        line, bps = pop(1), pop(0)\n",
    "        points = map(int, line.split(' '))\n",
    "        for i in points: bps[i] = 0\n",
    "        </py> ; \n",
    "        ' bl :> comment last :: comment=pop(1)\n",
    "    \n",
    "    : be // ( <1 2 3 4...> -- ) Enable listed breakpoints \n",
    "        CR word ( line ) __main__ :> peforth.bps ( line bps ) \n",
    "        <py>\n",
    "        line, bps = pop(1), pop(0)\n",
    "        points = map(int, line.split(' '))\n",
    "        for i in points: bps[i] = i\n",
    "        </py> ; \n",
    "        ' bl :> comment last :: comment=pop(1)\n",
    "    \n",
    "    : bd* // ( -- ) Disable all breakpoints \n",
    "        __main__ :> peforth.bps\t ( bps ) \n",
    "        <py>\n",
    "        bps = pop()\n",
    "        for i in range(len(bps)): bps[i] = 0\n",
    "        </py> ;\n",
    "        ' bl :> comment last :: comment=pop(1)\n",
    "    \n",
    "    : be* // ( -- ) Enable all breakpoints \n",
    "        __main__ :> peforth.bps\t ( bps ) \n",
    "        <py>\n",
    "        bps = pop()\n",
    "        for i in range(len(bps)): bps[i] = i\n",
    "        </py> ;\n",
    "        ' bl :> comment last :: comment=pop(1)\n",
    "    \\ ------ xtack ------------------------------------------------------------\n",
    "    [] value xstack xstack py: vm.xstack=pop() // ( -- array ) The xstack. 掛進 vm 就可以直接以 py> xstack 取用。\n",
    "    : x@ xstack :> [-1] ; // ( -- n ) Get TOS of the xstack\n",
    "    : x> xstack :> pop() ; // ( -- n ) Pop the xstack\n",
    "    : >x xstack :: append(pop()) ; // ( n -- ) Push n into the xstack\n",
    "    : .sx xstack . ; // ( -- ) List xstack \n",
    "    : xdrop x> drop ; // ( X: ... a -- X: ... ) drop xstack \n",
    "    : xdropall [] to xstack ; // ( X: ... -- X: empty ) clear xstack \n",
    "    ''')\n",
    "%f version ==>\n"
   ]
  },
  {
   "cell_type": "code",
   "execution_count": 2,
   "metadata": {},
   "outputs": [
    {
     "name": "stdout",
     "output_type": "stream",
     "text": [
      "genome_to_command_list :> ([[0,1],[0,1],[0,1],[0,1],[0,1],[0,1],[0,-1],[0,-1],[0,-1],[0,-1],[0,-1]]) --> [[0, 1], [0, 2], [0, 3], [0, 4], [0, 4], [0, 4], [0, 3], [0, 2], [0, 1], [0, 0], [0, 0]] (<class 'list'>)\n"
     ]
    }
   ],
   "source": [
    "# 把 genome 轉成 Web 接受的 command list \n",
    "def genome_to_command_list(genome:GENOME) -> List[List[int]] :\n",
    "    p = 0  # initial power is always 0 \n",
    "    a = [] # result command array of [rotate, thrust] paris \n",
    "    for i in genome :\n",
    "        if i[1] == -1 :\n",
    "            p = max(p-1, 0) \n",
    "            a.append([0, p])\n",
    "            pass\n",
    "        elif i[1] == 0 :\n",
    "            a.append([0, p])\n",
    "            pass\n",
    "        elif i [1] == 1 :\n",
    "            p = min(p+1, 4) \n",
    "            a.append([0, p])\n",
    "            pass\n",
    "        else:\n",
    "            pass\n",
    "    return a\n",
    "\n",
    "%f genome_to_command_list :> ([[0,1],[0,1],[0,1],[0,1],[0,1],[0,1],[0,-1],[0,-1],[0,-1],[0,-1],[0,-1]]) -->"
   ]
  },
  {
   "cell_type": "markdown",
   "metadata": {},
   "source": [
    "# Episode-1 "
   ]
  },
  {
   "cell_type": "code",
   "execution_count": 3,
   "metadata": {
    "tags": []
   },
   "outputs": [],
   "source": [
    "# 最基本的定義 \n",
    "\n",
    "gravity = -3.711        # constant on Mars\n",
    "g = gravity             # 到了二維以上，重力需轉成向量\n",
    "\n",
    "class State(STATE):\n",
    "\n",
    "    def __init__(self,step=0,x=0,y=0,hspeed=0,\n",
    "            vspeed=0,fuel=0,angle=0,power=0,force=0):\n",
    "        self.step   = step\n",
    "        self.x      = x\n",
    "        self.y      = y\n",
    "        self.hspeed = hspeed\n",
    "        self.vspeed = vspeed\n",
    "        self.fuel   = fuel\n",
    "        self.angle  = angle\n",
    "        self.power  = power\n",
    "        self.force  = force\n",
    "\n",
    "    def next(self, angle:int, power:int):  \n",
    "        # input angle,power 都是 offset 分別屬 -15~15 以及 -1,0,+1 \n",
    "        assert power in [-1, 0, 1], 'expected input power is an offset [-1, 0, +1], given {}'.format(power)\n",
    "        assert angle in range(-15,16), 'input angle range [-15:16], given {}'.format(angle)\n",
    "        self.step   += 1\n",
    "        self.angle  += angle\n",
    "        self.angle   = -90 if self.angle < -90 else self.angle\n",
    "        self.angle   =  90 if self.angle > 90 else self.angle\n",
    "        self.power  += power\n",
    "        self.power   = 0 if self.power < 0 else self.power\n",
    "        self.power   = 4 if self.power > 4 else self.power\n",
    "        self.fuel   -= self.power\n",
    "        self.x       = self.x       # episode-1 不變\n",
    "        self.hspeed  = self.hspeed  # episode-1 不變\n",
    "        self.force   = g + self.power\n",
    "        self.y       = self.y + self.vspeed + (1/2)*self.force\n",
    "        self.vspeed += self.force\n",
    "        return self  # 傳回值只是方便測試，可以這樣寫： %f state :> next(0,3.711) -->\n",
    "\n",
    "    def __str__(self):  \n",
    "        return str(self.__dict__)\n",
    "\n",
    "fuel0 = 500             # episode-1 \n",
    "state0 = State(0,0,2500,0,0,fuel0,0,0,0)  # episode-1 的起點 state\n"
   ]
  },
  {
   "cell_type": "code",
   "execution_count": 4,
   "metadata": {},
   "outputs": [
    {
     "name": "stdout",
     "output_type": "stream",
     "text": [
      "sample_genomes :> [\"自由落體\"] genome_to_command_list :> (pop()) --> [[0, 0], [0, 0], [0, 0], [0, 0], [0, 0], [0, 0], [0, 0], [0, 0], [0, 0], [0, 0], [0, 0], [0, 0], [0, 0], [0, 0], [0, 0], [0, 0], [0, 0], [0, 0], [0, 0], [0, 0], [0, 0], [0, 0], [0, 0], [0, 0], [0, 0], [0, 0], [0, 0], [0, 0], [0, 0], [0, 0], [0, 0], [0, 0], [0, 0], [0, 0], [0, 0], [0, 0]] (<class 'list'>)\n",
      "sample_genomes :> [\"安全降落\"] genome_to_command_list :> (pop()) --> [[0, 0], [0, 0], [0, 0], [0, 0], [0, 0], [0, 0], [0, 0], [0, 0], [0, 0], [0, 1], [0, 2], [0, 3], [0, 4], [0, 4], [0, 4], [0, 4], [0, 4], [0, 4], [0, 4], [0, 4], [0, 4], [0, 4], [0, 4], [0, 4], [0, 4], [0, 4], [0, 4], [0, 4], [0, 4], [0, 4], [0, 4], [0, 4], [0, 4], [0, 4], [0, 4], [0, 4], [0, 4], [0, 4], [0, 4], [0, 4], [0, 4], [0, 4], [0, 4], [0, 4], [0, 4], [0, 4], [0, 4], [0, 4], [0, 4], [0, 4], [0, 4], [0, 4], [0, 4], [0, 4], [0, 4], [0, 4], [0, 4], [0, 4], [0, 4], [0, 4], [0, 4], [0, 4], [0, 4], [0, 4], [0, 4], [0, 4], [0, 4], [0, 4], [0, 4], [0, 4], [0, 4], [0, 4], [0, 4], [0, 4], [0, 4], [0, 4], [0, 4], [0, 4], [0, 4], [0, 4], [0, 4], [0, 4], [0, 4], [0, 4], [0, 4], [0, 4], [0, 4], [0, 4], [0, 4], [0, 4], [0, 4]] (<class 'list'>)\n",
      "sample_genomes :> [\"飛向太空\"] genome_to_command_list :> (pop()) --> [[0, 1], [0, 2], [0, 3], [0, 4], [0, 4], [0, 4], [0, 4], [0, 4], [0, 4], [0, 4], [0, 4], [0, 4], [0, 4], [0, 4], [0, 4], [0, 4], [0, 4], [0, 4], [0, 4], [0, 4], [0, 4], [0, 4], [0, 4], [0, 4], [0, 4], [0, 4], [0, 4], [0, 4], [0, 4], [0, 4], [0, 4], [0, 4], [0, 4], [0, 4], [0, 4], [0, 4], [0, 4], [0, 4], [0, 4], [0, 4], [0, 4], [0, 4], [0, 4], [0, 4], [0, 4], [0, 4], [0, 4], [0, 4], [0, 4], [0, 4], [0, 4], [0, 4], [0, 4], [0, 4], [0, 4], [0, 4], [0, 4], [0, 4], [0, 4], [0, 4], [0, 4], [0, 4], [0, 4], [0, 4], [0, 4], [0, 4], [0, 4], [0, 4], [0, 4], [0, 4], [0, 4], [0, 4], [0, 4], [0, 4], [0, 4], [0, 4], [0, 4], [0, 4], [0, 4], [0, 4], [0, 4], [0, 4], [0, 4]] (<class 'list'>)\n",
      "sample_genomes :> [\"更成功\"] genome_to_command_list :> (pop()) --> [[0, 0], [0, 0], [0, 0], [0, 0], [0, 0], [0, 0], [0, 0], [0, 0], [0, 0], [0, 1], [0, 2], [0, 3], [0, 4], [0, 4], [0, 4], [0, 4], [0, 4], [0, 4], [0, 4], [0, 4], [0, 4], [0, 4], [0, 4], [0, 4], [0, 4], [0, 4], [0, 4], [0, 4], [0, 4], [0, 4], [0, 4], [0, 4], [0, 4], [0, 4], [0, 4], [0, 4], [0, 4], [0, 4], [0, 4], [0, 4], [0, 4], [0, 4], [0, 4], [0, 4], [0, 4], [0, 4], [0, 4], [0, 4], [0, 4], [0, 4], [0, 4], [0, 4], [0, 4], [0, 4], [0, 4], [0, 4], [0, 4], [0, 4], [0, 4], [0, 4], [0, 4], [0, 4], [0, 4], [0, 4], [0, 4], [0, 4], [0, 4], [0, 4], [0, 4], [0, 4], [0, 4], [0, 4], [0, 4], [0, 4], [0, 4], [0, 4], [0, 4], [0, 4], [0, 4], [0, 4], [0, 4], [0, 3], [0, 2], [0, 1], [0, 0], [0, 0], [0, 0], [0, 0]] (<class 'list'>)\n",
      "state_list :> [\"自由落體\"] --> {'step': 36, 'x': 0, 'y': 95.2720000000003, 'hspeed': 0, 'vspeed': -133.59599999999998, 'fuel': 500, 'angle': 0, 'power': 0, 'force': -3.711} (<class '__main__.State'>)\n",
      "state_list :> [\"安全降落\"] --> {'step': 91, 'x': 0, 'y': 97.6045000000063, 'hspeed': 0, 'vspeed': -15.700999999999876, 'fuel': 178, 'angle': 0, 'power': 4, 'force': 0.28900000000000015} (<class '__main__.State'>)\n",
      "state_list :> [\"飛向太空\"] --> {'step': 83, 'x': 0, 'y': 3004.4604999999906, 'hspeed': 0, 'vspeed': 17.987000000000002, 'fuel': 174, 'angle': 0, 'power': 4, 'force': 0.28900000000000015} (<class '__main__.State'>)\n",
      "state_list :> [\"更成功\"]   --> {'step': 88, 'x': 0, 'y': 83.00800000000595, 'hspeed': 0, 'vspeed': -38.56799999999988, 'fuel': 212, 'angle': 0, 'power': 0, 'force': -3.711} (<class '__main__.State'>)\n"
     ]
    }
   ],
   "source": [
    "# 建置 command lists 錄製好幾種狀況方便實驗\n",
    "\n",
    "sample_genomes = {\"自由落體\":[],\"安全降落\":[], \"飛向太空\":[], \"差點成功\":[], \"更成功\":[]}  \n",
    "state_list = {\"自由落體\":{},\"安全降落\":{}, \"飛向太空\":{}, \"差點成功\":{}, \"更成功\":{}}  \n",
    "\n",
    "# 自由落體\n",
    "state = State(**state0.__dict__)  # init for ecah genome \n",
    "for i in range(36):\n",
    "    state.next(0,0);\n",
    "    sample_genomes[\"自由落體\"].append([0,0])\n",
    "state_list[\"自由落體\"]=state  # state 是獨立的，不需要 deep copy \n",
    "\n",
    "# 安全降落\n",
    "state = State(**state0.__dict__)  # init for ecah genome \n",
    "for i in range(9):\n",
    "    state.next(0,0);\n",
    "    sample_genomes[\"安全降落\"].append([0,0])\n",
    "for i in range(9,91):\n",
    "    state.next(0,1);\n",
    "    sample_genomes[\"安全降落\"].append([0,1])\n",
    "state_list[\"安全降落\"]=state\n",
    "\n",
    "# 飛向太空\n",
    "state = State(**state0.__dict__)  # init for ecah genome \n",
    "for i in range(83):\n",
    "    state.next(0,1);\n",
    "    sample_genomes[\"飛向太空\"].append([0,1])\n",
    "state_list[\"飛向太空\"]=state\n",
    "\n",
    "# 更成功\n",
    "state = State(**state0.__dict__)  # init for ecah genome \n",
    "for i in range(9):\n",
    "    state.next(0,0);\n",
    "    sample_genomes[\"更成功\"].append([0,0])\n",
    "for i in range(9,81):\n",
    "    state.next(0,1);\n",
    "    sample_genomes[\"更成功\"].append([0,1])\n",
    "for i in range(7):\n",
    "    state.next(0,-1);\n",
    "    sample_genomes[\"更成功\"].append([0,-1])\n",
    "state_list[\"更成功\"]=state\n",
    "\n",
    "%f sample_genomes :> [\"自由落體\"] genome_to_command_list :> (pop()) -->\n",
    "%f sample_genomes :> [\"安全降落\"] genome_to_command_list :> (pop()) -->\n",
    "%f sample_genomes :> [\"飛向太空\"] genome_to_command_list :> (pop()) -->\n",
    "%f sample_genomes :> [\"更成功\"] genome_to_command_list :> (pop()) -->\n",
    "\n",
    "%f state_list :> [\"自由落體\"] -->  \n",
    "%f state_list :> [\"安全降落\"] -->  \n",
    "%f state_list :> [\"飛向太空\"] -->  \n",
    "%f state_list :> [\"更成功\"]   -->  \n"
   ]
  },
  {
   "cell_type": "code",
   "execution_count": 5,
   "metadata": {},
   "outputs": [],
   "source": [
    "# 改寫 for Mars Lander 乍看以為要頭痛一會兒，其實 Mars Lander 的 genome 很簡單，就是一串 (int,int) \n",
    "# pairs 而已。前面基礎討論有提到，以 SA 而言就是 mutate 某一個 gene 也就是 command pair 而已。但是考慮 Mars\n",
    "# Lander 的限制條件，以 epidode-1 而言，command 的改變要做的決定是 -1 0 +1 其中之一才對，而非 0~4. \n",
    "\n",
    "# 長度的問題，\n",
    "# 我想的是需要另一個 function 不夠時直接 copy 最後一個 gene 頂替即可。\n",
    "# 會發現不夠的是 call fitness function 的人，那就是由它處理。\n",
    "\n",
    "def get_random_neighbour(genome: GENOME) -> None :\n",
    "    neighbour = genome[:]  # Deep copy 利用 [:] slice copy, 若用 list(state) 不行！\n",
    "\n",
    "    idx = random.randint(0,len(genome)-1) # 選 1 個 gene \n",
    "    cmd = random.randint(-1, 1)  # -1, 0, +1 當中選 1 個 thrust command (episode-1)\n",
    "\n",
    "    neighbour[idx][1] = cmd\n",
    "    return neighbour"
   ]
  },
  {
   "cell_type": "code",
   "execution_count": 6,
   "metadata": {},
   "outputs": [
    {
     "name": "stdout",
     "output_type": "stream",
     "text": [
      "state_list :> [\"自由落體\"]  cost_of_state :> (pop()) --> 1366 (<class 'int'>)\n",
      "state_list :> [\"飛向太空\"]  cost_of_state :> (pop()) --> 1934 (<class 'int'>)\n",
      "state_list :> [\"安全降落\"]  cost_of_state :> (pop()) --> 322 (<class 'int'>)\n",
      "state_list :> [\"更成功\"]   cost_of_state :> (pop()) --> 288 (<class 'int'>)\n",
      "\n"
     ]
    }
   ],
   "source": [
    "# ○ 成功著陸的，油料剩越多的越好。\n",
    "# ○ 一個油料耗盡一個墜毀哪個好？墜毀時的速度減到+-40 以內需要多少油料？\n",
    "# ○ 油料耗盡時的高度距離與速度以自由落體觸地，然後把速度調整到+-40 以內需要多少油料？\n",
    "# ○ 根據我之前對 y=100 (flat ground 的海拔高度) 的研究 該 state 來自 log 的最後一 state. \n",
    "#   當 Simulating 時，該 state 就是 y 首次跨越 flat ground 高度觸地著陸之時。\n",
    "# ○ cost 必大於 0。 Score 用油料剩餘量計算，由 fuel0 扣下來可到負值。換算成 cost 就是 \n",
    "#      cost = fuel0 - score\n",
    "#   核算，當 score 為 fuel0 時 cost 為 0 無誤； 當 score 為 -fuel0 時 cost 為 2fuel0\n",
    "#   甚至更高，也無誤。 直接用這個數字，配合 SA 的 Temperature 設定要用 visualized \n",
    "#   graphs 來訂定 即可。\n",
    "\n",
    "def cost_of_state(state: STATE) -> int:\n",
    "    # state = State(**state_all_power.__dict__) \n",
    "    score = None  # 有可能是負的，先給個看得出異常的初值。\n",
    "\n",
    "    # 先判斷是否觸地。若觸地進一步查看速度合格是否合格。若未觸地就是飛走了或油料耗盡。\n",
    "    if round(state.y,0) < 100:  # 若僅 state.y <= 100 則 100.45 也會被錯當成已著陸。\n",
    "        # 觸地了，進一步查看速度是否合格\n",
    "        if round(state.vspeed,0) >= -40 : # 剛從空中下來觸地， vspeed 一定是負值；墜毀的一定比 -40 小\n",
    "            # 安全降落\n",
    "            score = state.fuel\n",
    "        else:  # 墜毀\n",
    "            # 模擬噴火把速度降到合格範圍內。所剩油料就是成績。\n",
    "            while True:\n",
    "                state.next(0,1)  # 有個調整的過程，不是直接填 4 ！\n",
    "                if round(state.vspeed,0) >= -40:\n",
    "                    score = state.fuel\n",
    "                    break\n",
    "    else:  # 還在空中，飛走了或油料耗盡。\n",
    "        # 先模擬 free fall 觸地。\n",
    "        while True: \n",
    "            state.next(0,-1)  # 半空中開始模擬 free fall 小心別又錯了，不是直接填 0 ！！\n",
    "            if round(state.y,0) < 100: break\n",
    "        # 然後噴火把速度降到合格範圍內，所剩油料就是成績。\n",
    "        while True:\n",
    "            if round(state.vspeed,0) >= -40: # 剛從空中下來觸地， vspeed 一定是負值；墜毀的一定比 -40 小。\n",
    "                # 達標了\n",
    "                score = state.fuel\n",
    "                break\n",
    "            else: # 未達標，繼續噴火把負的 vspeed 速度降到合格範圍內\n",
    "                state.next(0,1)\n",
    "    cost = fuel0 - score\n",
    "    return cost \n",
    "\n",
    "%f state_list :> [\"自由落體\"]  cost_of_state :> (pop()) -->\n",
    "%f state_list :> [\"飛向太空\"]  cost_of_state :> (pop()) -->\n",
    "%f state_list :> [\"安全降落\"]  cost_of_state :> (pop()) -->\n",
    "%f state_list :> [\"更成功\"]   cost_of_state :> (pop()) --> cr\n",
    "        "
   ]
  },
  {
   "cell_type": "code",
   "execution_count": 7,
   "metadata": {},
   "outputs": [
    {
     "name": "stdout",
     "output_type": "stream",
     "text": [
      "\n",
      "cr ( 「自由落體」 ) genome --> [[0, 0], [0, 0], [0, 0], [0, 0], [0, 0], [0, 0], [0, 0], [0, 0], [0, 0], [0, 0], [0, 0], [0, 0], [0, 0], [0, 0], [0, 0], [0, 0], [0, 0], [0, 0], [0, 0], [0, 0], [0, 0], [0, 0], [0, 0], [0, 0], [0, 0], [0, 0], [0, 0], [0, 0], [0, 0], [0, 0], [0, 0], [0, 0], [0, 0], [0, 0], [0, 0], [0, 0]] (<class 'list'>)\n",
      "last_state --> {'step': 36, 'x': 0, 'y': 95.2720000000003, 'hspeed': 0, 'vspeed': -133.59599999999998, 'fuel': 500, 'angle': 0, 'power': 0, 'force': -3.711} (<class '__main__.State'>)\n",
      "last_state cost_of_state :> (pop()) --> 1366 (<class 'int'>)\n",
      "\n",
      "cr ( 「全速飛走」 ) genome --> [[0, 1], [0, 1], [0, 1], [0, 1], [0, 1], [0, 1], [0, 1], [0, 1], [0, 1], [0, 1], [0, 1], [0, 1], [0, 1], [0, 1], [0, 1], [0, 1], [0, 1], [0, 1], [0, 1], [0, 1], [0, 1], [0, 1], [0, 1], [0, 1], [0, 1], [0, 1], [0, 1], [0, 1], [0, 1], [0, 1], [0, 1], [0, 1], [0, 1], [0, 1], [0, 1], [0, 1], [0, 1], [0, 1], [0, 1], [0, 1], [0, 1], [0, 1], [0, 1], [0, 1], [0, 1], [0, 1], [0, 1], [0, 1], [0, 1], [0, 1], [0, 1], [0, 1], [0, 1], [0, 1], [0, 1], [0, 1], [0, 1], [0, 1], [0, 1], [0, 1], [0, 1], [0, 1], [0, 1], [0, 1], [0, 1], [0, 1], [0, 1], [0, 1], [0, 1], [0, 1], [0, 1], [0, 1], [0, 1], [0, 1], [0, 1], [0, 1], [0, 1], [0, 1], [0, 1], [0, 1], [0, 1], [0, 1], [0, 1]] (<class 'list'>)\n",
      "last_state --> {'step': 83, 'x': 0, 'y': 3004.4604999999906, 'hspeed': 0, 'vspeed': 17.987000000000002, 'fuel': 174, 'angle': 0, 'power': 4, 'force': 0.28900000000000015} (<class '__main__.State'>)\n",
      "last_state cost_of_state :> (pop()) --> 1934 (<class 'int'>)\n",
      "\n"
     ]
    }
   ],
   "source": [
    "# 模擬試跑 genome. Genome 可能太長或不夠，傳回訂正好的 genome 以及最後 state  \n",
    "def simulate_of_genome(input_genome: GENOME) -> Tuple[GENOME,STATE]:\n",
    "    genome = input_genome[:]  # make a copy to isolate the original\n",
    "    state = State(**state0.__dict__)  # init state for simulation\n",
    "    # 照 genome 跑到觸地、飛走、或油料耗盡時為止， genome 可能含有無效的長度要 cut 掉以免浪費時間嘗試。\n",
    "    for i in range(len(genome)): \n",
    "        state.next(*genome[i])  # run 1 step \n",
    "        if round(state.y,0) < 100 or state.y > 3000 or state.fuel <= 0:  # 這高度、油料不能再繼續了\n",
    "            genome = genome[:i+1]  # 太長的尾巴切掉\n",
    "            break\n",
    "        \n",
    "    # 接續以上跑完 input genome 之後的 state 看看 input genome 是否太短需要補綴 genes 讓 lander 觸地。\n",
    "    while round(state.y,0) >= 100 and state.y <= 3000 and state.fuel > 0:\n",
    "        genome.append(genome[-1][:])  # 注意！若不用 [:] slice copy 則 append 進去的都是同一個。\n",
    "        state.next(*genome[-1])  # 簡單照抄最後一 step\n",
    "        \n",
    "    return genome,state  # 這個 return genome 是 input genome 的訂正版\n",
    "\n",
    "# 很妙，這產生「自由落體」的 genome 與最後 state \n",
    "genome, last_state = simulate_of_genome([[0,0]])\n",
    "%f cr ( 「自由落體」 ) genome -->\n",
    "%f last_state -->\n",
    "%f last_state cost_of_state :> (pop()) -->\n",
    "    \n",
    "# 而這產生「全速飛走」的 genome 與最後 state \n",
    "genome, last_state = simulate_of_genome([[0,1]])\n",
    "%f cr ( 「全速飛走」 ) genome -->\n",
    "%f last_state -->\n",
    "%f last_state cost_of_state :> (pop()) --> cr"
   ]
  },
  {
   "cell_type": "code",
   "execution_count": 110,
   "metadata": {},
   "outputs": [],
   "source": [
    "# fitness function \n",
    "# https://en.wikipedia.org/wiki/Hyperparameter_(machine_learning)\n",
    "def sa(initial: GENOME) -> Tuple[GENOME,int,int] :\n",
    "    current = initial[:]\n",
    "    current, current_last_state = simulate_of_genome(current)\n",
    "    current_cost = cost_of_state(current_last_state)\n",
    "    \n",
    "    temp = 1.0  # (1/50)*(2*fuel0)  # <---- [ ] Hyperparameter, 來自 Einstein's problem 的心得，取總分的 1/15 \n",
    "    num_iterations = 0\n",
    "\n",
    "    i = 0\n",
    "    while i < 2000:  # 若想安全降落為止，可能不如有限次數換個 epoch 試試運氣\n",
    "        neighbour = get_random_neighbour(current)\n",
    "        neighbour, neighbour_last_state = simulate_of_genome(neighbour)\n",
    "        neighbour_cost = cost_of_state(neighbour_last_state)\n",
    "        assert not (current is initial)\n",
    "        assert not (current is neighbour)\n",
    "        \n",
    "        cost_delta = neighbour_cost - current_cost\n",
    "        if cost_delta < 0:  # neighbour 較好，都接受。\n",
    "            peforth.bp(7,locals())  # <--------- \n",
    "            current, current_cost = neighbour, neighbour_cost\n",
    "            i = 0  # 有希望，繼續延長\n",
    "            print({\"cost\":current_cost, \"delta\":cost_delta, \"temperature\":round(temp,2), \"exp\": \"n/a\"})\n",
    "            if abs(round(neighbour_last_state.vspeed,0)) <= 40 and round(neighbour_last_state.y,0) < 100:\n",
    "                print('B i n g o !')\n",
    "                break;\n",
    "        elif cost_delta > 0:  # 雖然 neighbour 不好，也偶而接受。\n",
    "            exp = math.exp(-cost_delta/temp) \n",
    "            if random.random() < exp:\n",
    "                current, current_cost = neighbour, neighbour_cost\n",
    "                i = 0  # 有希望，繼續延長\n",
    "                print({\"cost\":current_cost, \"delta\":cost_delta, \"temperature\":round(temp,2), \"exp\": round(exp,2)})\n",
    "                peforth.bp(8,locals())  # <--------- \n",
    "        else:  # 排除相等的狀況，不要浪費時間、debug 版面 \n",
    "            pass\n",
    "\n",
    "        num_iterations += 1\n",
    "        if num_iterations % 10 == 0 and temp > 0.10:  # <---- [ ] Hyperparameter\n",
    "            temp -= 0.05  # <---- [ ] Hyperparameter\n",
    "\n",
    "        i += 1\n",
    "        \n",
    "    return current, num_iterations, current_cost, neighbour_last_state"
   ]
  },
  {
   "cell_type": "code",
   "execution_count": null,
   "metadata": {},
   "outputs": [],
   "source": []
  },
  {
   "cell_type": "code",
   "execution_count": null,
   "metadata": {},
   "outputs": [],
   "source": []
  },
  {
   "cell_type": "code",
   "execution_count": null,
   "metadata": {},
   "outputs": [],
   "source": []
  },
  {
   "cell_type": "code",
   "execution_count": null,
   "metadata": {},
   "outputs": [],
   "source": [
    "def epoch(state=None):\n",
    "    nationalities = [ 'dane',      'brit',   'swede',       'norwegian', 'german'    ]\n",
    "    colours       = [ 'yellow',    'red',    'white',       'green',     'blue'      ]\n",
    "    animals       = [ 'horse',     'cat',    'bird',        'fish',      'dog'       ]\n",
    "    beverages     = [ 'water',     'tea',    'milk',        'coffee',    'root beer' ]\n",
    "    cigars        = [ 'pall mall', 'prince', 'blue master', 'dunhill',   'blends'    ]\n",
    "\n",
    "    random.shuffle(nationalities)\n",
    "    random.shuffle(colours      )\n",
    "    random.shuffle(animals      )\n",
    "    random.shuffle(beverages    )\n",
    "    random.shuffle(cigars       )\n",
    "    \n",
    "    attributes = [colours, nationalities, beverages, cigars, animals]\n",
    "\n",
    "    NUM_HOUSES = 5\n",
    "    initial = []\n",
    "    s = '['\n",
    "    \n",
    "    if state: \n",
    "        initial = state; \n",
    "    else:\n",
    "        for i in range(NUM_HOUSES):\n",
    "            initial.append([attr[i] for attr in attributes])\n",
    "    \n",
    "    \n",
    "    # random.seed(100)\n",
    "\n",
    "    solution, iterations = sa(initial)\n",
    "\n",
    "    for house in solution:\n",
    "        s += str(house) + ',';\n",
    "    s = s[:-1] + ']';\n",
    "    return s,iterations"
   ]
  },
  {
   "cell_type": "code",
   "execution_count": null,
   "metadata": {
    "tags": []
   },
   "outputs": [],
   "source": [
    "if __name__ == \"__main__\":\n",
    "    ss = '';\n",
    "    for i in range(10000):\n",
    "        s, iter = epoch()\n",
    "        ss += \"{} Number of iterations:{}\\n\".format(s, iter)\n",
    "        print('.', end=\"\")\n",
    "    %f ss char results.txt writeTextFile \n",
    "    %f .( Done !!! ) cr"
   ]
  },
  {
   "cell_type": "markdown",
   "metadata": {},
   "source": [
    "### SA tested with a given genome"
   ]
  },
  {
   "cell_type": "code",
   "execution_count": 9,
   "metadata": {},
   "outputs": [
    {
     "name": "stdout",
     "output_type": "stream",
     "text": [
      "B i n g o !\n",
      "6>6>"
     ]
    },
    {
     "name": "stdin",
     "output_type": "stream",
     "text": [
      " neighbour_last_state . cr\n"
     ]
    },
    {
     "name": "stdout",
     "output_type": "stream",
     "text": [
      "{'step': 91, 'x': 0, 'y': 97.6045000000063, 'hspeed': 0, 'vspeed': -15.700999999999876, 'fuel': 178, 'angle': 0, 'power': 4, 'force': 0.28900000000000015}\n",
      "6>"
     ]
    },
    {
     "name": "stdin",
     "output_type": "stream",
     "text": [
      " exit\n"
     ]
    },
    {
     "name": "stdout",
     "output_type": "stream",
     "text": [
      "iterations --> 1 (<class 'int'>)\n",
      "cost --> 322 (<class 'int'>)\n",
      "state --> {'step': 91, 'x': 0, 'y': 97.6045000000063, 'hspeed': 0, 'vspeed': -15.700999999999876, 'fuel': 178, 'angle': 0, 'power': 4, 'force': 0.28900000000000015} (<class '__main__.State'>)\n"
     ]
    },
    {
     "data": {
      "text/plain": [
       "322"
      ]
     },
     "execution_count": 9,
     "metadata": {},
     "output_type": "execute_result"
    }
   ],
   "source": [
    "%f bd* be 6\n",
    "%f sample_genomes :> [\"安全降落\"]\n",
    "random.seed(100)\n",
    "genome, iterations, cost, state = sa(peforth.pop())\n",
    "\n",
    "%f \\ genome count --> ==>\n",
    "%f iterations -->\n",
    "%f cost -->\n",
    "%f state -->\n",
    "cost_of_state(state)"
   ]
  },
  {
   "cell_type": "code",
   "execution_count": null,
   "metadata": {},
   "outputs": [],
   "source": [
    "%f genome -->\n",
    "genome , state = simulate_of_genome(genome)\n",
    "%f genome -->\n",
    "%f state -->\n",
    "cost_of_state(state)"
   ]
  },
  {
   "cell_type": "code",
   "execution_count": 19,
   "metadata": {},
   "outputs": [
    {
     "name": "stdout",
     "output_type": "stream",
     "text": [
      "sample_genomes :> [\"安全降落\"] count nip --> 91 (<class 'int'>)\n"
     ]
    }
   ],
   "source": [
    "%f sample_genomes :> [\"安全降落\"] count nip -->"
   ]
  },
  {
   "cell_type": "code",
   "execution_count": 117,
   "metadata": {},
   "outputs": [
    {
     "name": "stdout",
     "output_type": "stream",
     "text": [
      "{'cost': 442, 'delta': -15, 'temperature': 1.0, 'exp': 'n/a'}\n",
      "B i n g o !\n",
      "iterations --> 3 (<class 'int'>)\n",
      "cost --> 442 (<class 'int'>)\n",
      "state --> {'step': 130, 'x': 0, 'y': -4019.949999999992, 'hspeed': 0, 'vspeed': -40.429999999999815, 'fuel': 58, 'angle': 0, 'power': 4, 'force': 0.28900000000000015} (<class '__main__.State'>)\n"
     ]
    },
    {
     "data": {
      "text/plain": [
       "442"
      ]
     },
     "execution_count": 117,
     "metadata": {},
     "output_type": "execute_result"
    }
   ],
   "source": [
    "# 擾動【安全降落】用來測試 sa() 的容忍度，也就是【局部最佳】的範圍。\n",
    "# 發現 'y': -1180.6079999999897 也 bingo <--- 有問題\n",
    "%f bd*\n",
    "random.seed(0)\n",
    "_ = sample_genomes[\"安全降落\"][:-11]\n",
    "_.append([0,-1])\n",
    "genome, iterations, cost, state = sa(_)\n",
    "%f \\ genome count --> ==>\n",
    "%f iterations -->\n",
    "%f cost -->\n",
    "%f state -->\n",
    "cost_of_state(state)"
   ]
  },
  {
   "cell_type": "code",
   "execution_count": null,
   "metadata": {},
   "outputs": [],
   "source": []
  },
  {
   "cell_type": "code",
   "execution_count": null,
   "metadata": {},
   "outputs": [],
   "source": []
  }
 ],
 "metadata": {
  "kernelspec": {
   "display_name": "Python 3",
   "language": "python",
   "name": "python3"
  },
  "language_info": {
   "codemirror_mode": {
    "name": "ipython",
    "version": 3
   },
   "file_extension": ".py",
   "mimetype": "text/x-python",
   "name": "python",
   "nbconvert_exporter": "python",
   "pygments_lexer": "ipython3",
   "version": "3.7.5"
  }
 },
 "nbformat": 4,
 "nbformat_minor": 4
}
