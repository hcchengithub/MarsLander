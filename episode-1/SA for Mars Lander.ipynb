{
 "cells": [
  {
   "cell_type": "markdown",
   "metadata": {},
   "source": [
    "# Simulated Annealing for Mars Lander"
   ]
  },
  {
   "cell_type": "code",
   "execution_count": 1,
   "metadata": {},
   "outputs": [],
   "source": [
    "import numpy as np\n",
    "import re, math, random, pdb, json "
   ]
  },
  {
   "cell_type": "code",
   "execution_count": 2,
   "metadata": {
    "tags": []
   },
   "outputs": [
    {
     "name": "stdout",
     "output_type": "stream",
     "text": [
      "reDef unknown\n",
      "reDef -->\n",
      "p e f o r t h    v1.24\n",
      "source code http://github.com/hcchengithub/peforth\n",
      "Type 'peforth.ok()' to enter forth interpreter, 'exit' to come back.\n",
      "\n",
      "version ==>\n",
      " 1.24 (<class 'str'>)\n"
     ]
    }
   ],
   "source": [
    "import peforth\n",
    "peforth.bps = [i for i in range(100)]  # 預設有這麼多 Breakpoint ID\n",
    "def bp(id=None,locals=None):\n",
    "    # Breakpoint ID 不能超過 peforth.bps 保留，超過的無效。\n",
    "    if id==None: \n",
    "        id = 0\n",
    "        prompt='bp> '\n",
    "    else:\n",
    "        prompt=\"{}>\".format(id)\n",
    "    if id in peforth.bps: peforth.push(locals).ok(prompt, cmd=\"to _locals_\")\n",
    "peforth.bp = bp\n",
    "peforth.push(bp).dictate(\"py: vm.bp=pop()\")  # [ ] 忘了 vm.bp 有何用途？\n",
    "peforth.dictate('''\n",
    "    \\ ------ breakpoint ------------------------------------------------------------\n",
    "    : bp .\" Usage: peforth.bp(11,locals())  # drop a breakpoint with ID=11\" cr ;\n",
    "    : bl // ( -- ) List all breakpoints\n",
    "        __main__ :> peforth.bps \n",
    "        <py>\n",
    "        bps = pop()\n",
    "        print('Disabled breakpoints:')\n",
    "        for i in range(len(bps)):\n",
    "            if not bps[i]: \n",
    "                print(i, end=' ')\n",
    "        print(); print('Enabled breakpoints:')\n",
    "        count = 0\n",
    "        for i in range(len(bps)):\n",
    "            if bps[i]: \n",
    "                print(i, end=' ')\n",
    "                count += 1\n",
    "        print(); print('Enabled breakpoints count: {}/{}'.format(count,len(bps)))\n",
    "        </py> cr ;\n",
    "        /// Breakpoint commands:\n",
    "        ///\t  bl  - list all breakpoints (capital BL is white space) \n",
    "        ///\t  be  - enable breakpoints, e.g. be 1 2 3 \n",
    "        ///\t  bd  - disable breakpoints, e.g. bd 1 2 3 \n",
    "        ///\t  be* - enable all breakpoints\n",
    "        ///\t  bd* - disable all breakpoints \n",
    "        /// Also: \n",
    "        ///   for i in [11,22,33]: peforth.bps[i]=0\t # disable breakpoints 11,22,33 \n",
    "        ///   for i in [11,22,33]: peforth.bps[i]=i\t # enable  breakpoints 11,22,33 \n",
    "    \n",
    "    : bd // ( <1 2 3 4...> -- ) Disable listed breakpoints \n",
    "        CR word ( line ) __main__ :> peforth.bps ( line bps )\n",
    "        <py>\n",
    "        line, bps = pop(1), pop(0)\n",
    "        points = map(int, line.split(' '))\n",
    "        for i in points: bps[i] = 0\n",
    "        </py> ; \n",
    "        ' bl :> comment last :: comment=pop(1)\n",
    "    \n",
    "    : be // ( <1 2 3 4...> -- ) Enable listed breakpoints \n",
    "        CR word ( line ) __main__ :> peforth.bps ( line bps ) \n",
    "        <py>\n",
    "        line, bps = pop(1), pop(0)\n",
    "        points = map(int, line.split(' '))\n",
    "        for i in points: bps[i] = i\n",
    "        </py> ; \n",
    "        ' bl :> comment last :: comment=pop(1)\n",
    "    \n",
    "    : bd* // ( -- ) Disable all breakpoints \n",
    "        __main__ :> peforth.bps\t ( bps ) \n",
    "        <py>\n",
    "        bps = pop()\n",
    "        for i in range(len(bps)): bps[i] = 0\n",
    "        </py> ;\n",
    "        ' bl :> comment last :: comment=pop(1)\n",
    "    \n",
    "    : be* // ( -- ) Enable all breakpoints \n",
    "        __main__ :> peforth.bps\t ( bps ) \n",
    "        <py>\n",
    "        bps = pop()\n",
    "        for i in range(len(bps)): bps[i] = i\n",
    "        </py> ;\n",
    "        ' bl :> comment last :: comment=pop(1)\n",
    "    \\ ------ xtack ------------------------------------------------------------\n",
    "    [] value xstack xstack py: vm.xstack=pop() // ( -- array ) The xstack. 掛進 vm 就可以直接以 py> xstack 取用。\n",
    "    : x@ xstack :> [-1] ; // ( -- n ) Get TOS of the xstack\n",
    "    : x> xstack :> pop() ; // ( -- n ) Pop the xstack\n",
    "    : >x xstack :: append(pop()) ; // ( n -- ) Push n into the xstack\n",
    "    : .sx xstack . ; // ( -- ) List xstack \n",
    "    : xdrop x> drop ; // ( X: ... a -- X: ... ) drop xstack \n",
    "    : xdropall [] to xstack ; // ( X: ... -- X: empty ) clear xstack \n",
    "    ''')\n",
    "%f version ==>\n"
   ]
  },
  {
   "cell_type": "code",
   "execution_count": 20,
   "metadata": {
    "jupyter": {
     "source_hidden": true
    },
    "tags": []
   },
   "outputs": [
    {
     "name": "stdout",
     "output_type": "stream",
     "text": [
      "( Free fall 墜毀 at step 36 ) state --> {'step': 36, 'x': 0, 'y': 95.2720000000003, 'hspeed': 0, 'vspeed': -133.59599999999998, 'fuel': 500, 'angle': 0, 'power': 0, 'force': -3.711} (<class '__main__.State'>)\n",
      "\n",
      "state --> {'step': 91, 'x': 0, 'y': 97.6045000000063, 'hspeed': 0, 'vspeed': -15.700999999999876, 'fuel': 178, 'angle': 0, 'power': 4, 'force': 0.28900000000000015} (<class '__main__.State'>)\n",
      "\n",
      "state --> {'step': 83, 'x': 0, 'y': 3004.4604999999906, 'hspeed': 0, 'vspeed': 17.987000000000002, 'fuel': 174, 'angle': 0, 'power': 4, 'force': 0.28900000000000015} (<class '__main__.State'>)\n"
     ]
    }
   ],
   "source": [
    "gravity = -3.711        # constant on Mars\n",
    "g = gravity             # 到了二維以上，重力需轉成向量\n",
    "\n",
    "class State:\n",
    "\n",
    "    def __init__(self,step=0,x=0,y=0,hspeed=0,\n",
    "            vspeed=0,fuel=0,angle=0,power=0,force=0):\n",
    "        self.step   = step\n",
    "        self.x      = x\n",
    "        self.y      = y\n",
    "        self.hspeed = hspeed\n",
    "        self.vspeed = vspeed\n",
    "        self.fuel   = fuel\n",
    "        self.angle  = angle\n",
    "        self.power  = power\n",
    "        self.force  = force\n",
    "\n",
    "    def next(self,angle,power):  \n",
    "        # input angle,power 都是 offset 分別屬 -15~15 以及 -1,0,+1 \n",
    "        self.step   += 1\n",
    "        self.angle  += angle         # 記錄這步的 command \n",
    "        self.power  += power         # 記錄這步的 command \n",
    "        self.fuel   -= self.power\n",
    "        self.x       = self.x       # episode-1 不變\n",
    "        self.hspeed  = self.hspeed  # episode-1 不變\n",
    "        self.force   = g + self.power\n",
    "        self.y       = self.y + self.vspeed + (1/2)*self.force\n",
    "        self.vspeed += self.force\n",
    "        assert power in [-1, 0, 1], 'expected input power is an offset [-1, 0, +1], given {}'.format(power)\n",
    "        assert angle in range(-15,16), 'input angle range [-15:16], given {}'.format(angle)\n",
    "        assert self.power in range(5), \"power value {} out of range\".format(self.power)\n",
    "        assert self.angle in range(-90,91), \"angle value {} out of range\".format(self.angle)\n",
    "        return self  # 傳回值只是方便測試，可以這樣寫： %f state :> next(0,3.711) -->\n",
    "\n",
    "    def __str__(self):  \n",
    "        return str(self.__dict__)\n",
    "\n",
    "# 測試兼範例\n",
    "# 模擬自由落體\n",
    "state = State(0,0,2500,0,0,500,0,0,0)\n",
    "%f 36 [for] state :> next(0,0) [next] \n",
    "%f ( Free fall 墜毀 at step 36 ) state --> cr \n",
    "# 模擬安全降落\n",
    "state = State(0,0,2500,0,0,500,0,0,0)\n",
    "%f 9 [for] state :> next(0,0) [next] \n",
    "%f 4 [for] state :> next(0,1) [next] \n",
    "%f 91 13 - [for] state :> next(0,0) [next] \n",
    "%f state --> cr \n",
    "# 模擬飛向太空\n",
    "state = State(0,0,2500,0,0,500,0,0,0)\n",
    "%f 4 [for] state :> next(0,1) [next] \n",
    "%f 83 4 - [for] state :> next(0,0) [next] \n",
    "%f state -->"
   ]
  },
  {
   "cell_type": "code",
   "execution_count": 2,
   "metadata": {},
   "outputs": [],
   "source": [
    "# 改寫 for Mars Lander 乍看以為要頭痛一會兒，其實 Mars Lander 的 genome 很簡單，就是一串 (int,int) \n",
    "# pairs 而已。前面基礎討論有提到，以 SA 而言就是 mutate 某一個 gene 也就是 command pair 而已。但是考慮 Mars\n",
    "# Lander 的限制條件，以 epidode-1 而言，command 的改變要做的決定是 -1 0 +1 其中之一才對，而非 0~4. \n",
    "\n",
    "# 長度的問題，\n",
    "# 我想的是需要另一個 function 不夠時直接 copy 最後一個 gene 頂替即可。\n",
    "# 會發現不夠的是 call fitness function 的人，那就是由它處理。\n",
    "\n",
    "def get_random_neighbour(state):\n",
    "    \n",
    "    neighbour = state[:]  # Deep copy 利用 [:] slice copy, 若用 list(state) 不行！\n",
    "\n",
    "    idx = random.randint(0,len(state)-1) # 選 1 個 gene \n",
    "    cmd = random.randint(-1, 1)  # -1, 0, +1 當中選 1 個 command \n",
    "\n",
    "    neighbour[idx][1] = cmd\n",
    "    \n",
    "    return neighbour"
   ]
  },
  {
   "cell_type": "code",
   "execution_count": 3,
   "metadata": {},
   "outputs": [],
   "source": [
    "# ○ 成功著陸的，油料剩越多的越好。\n",
    "# ○ 一個油料耗盡一個墜毀哪個好？墜毀時的速度減到+-40 以內需要多少油料？\n",
    "# ○ 油料耗盡時的高度距離與速度以自由落體觸地，然後把速度調整到+-40 以內需要多少油料？\n",
    "# ○ 由以上三點分析看來， cost_of_state(state) where \n",
    "#       state = ( step, x, [y], hspeed, [vspeed], [fuel], rotate, power ) 只參考 state 裡的三項 data. \n",
    "# ○ 根據我之前對 y=100 的研究 該 state 來自 log 的最後一筆 state. Simulation 時，該 state 就是 y 首次跨\n",
    "#   越 flat ground 高度的該 step, 也就是觸地著陸之時. 這個 cost_of_state() 不用管，它只管算出分數即可。\n",
    "# ○ cost 以 0 為目標。Score 用油料剩餘量計算，由 fuel0 扣下來可到負值，推估範圍是：[-fuel : fuel0]。換算\n",
    "#   成 cost 就是 cost = fuel0 - score. 核算，當 score 為 fuel0 時 cost 為 0 無誤； 當 score 為 -fuel0\n",
    "#   時 cost 為 2fuel0 -- 好高，也無誤。 直接用這個數字，配合 SA 的 Temperature 設定要用 visualized \n",
    "#   graphs 來訂定 即可。\n",
    "\n",
    "def cost_of_state(state):\n",
    "    state = State(**state_all_power.__dict__)  #\n",
    "    score = None  # 有可能是負的，先給個看得出異常的初值。\n",
    "\n",
    "    # 先判斷是否觸地。若觸地進一步查看速度合格是否合格。若未觸地就是飛走了或油料耗盡。\n",
    "    if state.y <= 100:\n",
    "        # 觸地了，進一步查看速度是否合格\n",
    "        if state.vspeed >= -40 : # 剛從空中下來觸地， vspeed 一定是負值；墜毀的一定比 -40 小\n",
    "            # 安全降落\n",
    "            score = state.fuel\n",
    "        else:  # 墜毀\n",
    "            # 模擬噴火把速度降到合格範圍內。所剩油料就是成績。\n",
    "            while True:\n",
    "                state.next(0,min(state.power + 1, 4))  # 有個調整的過程，不是直接填 4 ！\n",
    "                if state.vspeed >= -40:\n",
    "                    score = state.fuel\n",
    "                    break\n",
    "    else:  # 還在空中，飛走了或油料耗盡。\n",
    "        # 先模擬 free fall 觸地。\n",
    "        while True: \n",
    "            state.next(0,max(state.power-1,0))  # 半空中開始模擬 free fall 小心別又錯了，不是直接填 0 ！！\n",
    "            if state.y <= 100: break\n",
    "        # 然後噴火把速度降到合格範圍內，所剩油料就是成績。\n",
    "        while True:\n",
    "            if state.vspeed >= -40: # 剛從空中下來觸地， vspeed 一定是負值；墜毀的一定比 -40 小。\n",
    "                # 達標了\n",
    "                score = state.fuel\n",
    "                break\n",
    "            else: # 未達標，繼續噴火把負的 vspeed 速度降到合格範圍內\n",
    "                state.next(0,min(state.power + 1, 4))\n",
    "\n",
    "    %f score -->\n",
    "\n",
    "    \n",
    "    \n",
    "    cost = fuel0  # 初始油料\n",
    "    \n",
    "    return lost - sum(clue)\n"
   ]
  },
  {
   "cell_type": "code",
   "execution_count": 97,
   "metadata": {},
   "outputs": [
    {
     "name": "stdout",
     "output_type": "stream",
     "text": [
      "11>"
     ]
    },
    {
     "name": "stdin",
     "output_type": "stream",
     "text": [
      " state -->\n"
     ]
    },
    {
     "name": "stdout",
     "output_type": "stream",
     "text": [
      "state --> {'step': 130, 'x': 2500, 'y': 26.049999999989105, 'hspeed': 0, 'vspeed': -150.43000000000004, 'fuel': 168, 'angle': 0, 'power': 0, 'force': -3.711} (<class '__main__.State'>)\n",
      "11>"
     ]
    },
    {
     "name": "stdin",
     "output_type": "stream",
     "text": [
      " exit\n"
     ]
    },
    {
     "name": "stdout",
     "output_type": "stream",
     "text": [
      "11>22>"
     ]
    },
    {
     "name": "stdin",
     "output_type": "stream",
     "text": [
      " state -->\n"
     ]
    },
    {
     "name": "stdout",
     "output_type": "stream",
     "text": [
      "state --> {'step': 530, 'x': 2500, 'y': -39418.95000000036, 'hspeed': 0, 'vspeed': -40.83000000000084, 'fuel': -1426, 'angle': 0, 'power': 4, 'force': 0.28900000000000015} (<class '__main__.State'>)\n",
      "22>"
     ]
    },
    {
     "name": "stdin",
     "output_type": "stream",
     "text": [
      " exit\n"
     ]
    },
    {
     "name": "stdout",
     "output_type": "stream",
     "text": [
      "22>22>"
     ]
    },
    {
     "name": "stdin",
     "output_type": "stream",
     "text": [
      " state -->\n"
     ]
    },
    {
     "name": "stdout",
     "output_type": "stream",
     "text": [
      "state --> {'step': 531, 'x': 2500, 'y': -39459.63550000036, 'hspeed': 0, 'vspeed': -40.541000000000835, 'fuel': -1430, 'angle': 0, 'power': 4, 'force': 0.28900000000000015} (<class '__main__.State'>)\n",
      "22>"
     ]
    },
    {
     "name": "stdin",
     "output_type": "stream",
     "text": [
      " exit\n"
     ]
    },
    {
     "name": "stdout",
     "output_type": "stream",
     "text": [
      "22>22>"
     ]
    },
    {
     "name": "stdin",
     "output_type": "stream",
     "text": [
      " state -->\n"
     ]
    },
    {
     "name": "stdout",
     "output_type": "stream",
     "text": [
      "state --> {'step': 532, 'x': 2500, 'y': -39500.032000000356, 'hspeed': 0, 'vspeed': -40.252000000000834, 'fuel': -1434, 'angle': 0, 'power': 4, 'force': 0.28900000000000015} (<class '__main__.State'>)\n",
      "22>"
     ]
    },
    {
     "name": "stdin",
     "output_type": "stream",
     "text": [
      " exit\n"
     ]
    },
    {
     "name": "stdout",
     "output_type": "stream",
     "text": [
      "22>22>"
     ]
    },
    {
     "name": "stdin",
     "output_type": "stream",
     "text": [
      " state -->\n"
     ]
    },
    {
     "name": "stdout",
     "output_type": "stream",
     "text": [
      "state --> {'step': 533, 'x': 2500, 'y': -39540.139500000354, 'hspeed': 0, 'vspeed': -39.96300000000083, 'fuel': -1438, 'angle': 0, 'power': 4, 'force': 0.28900000000000015} (<class '__main__.State'>)\n",
      "22>"
     ]
    },
    {
     "name": "stdin",
     "output_type": "stream",
     "text": [
      " bd* exit\n"
     ]
    },
    {
     "name": "stdout",
     "output_type": "stream",
     "text": [
      "22>score --> -1438 (<class 'int'>)\n"
     ]
    }
   ],
   "source": [
    "state = State(**state_all_power.__dict__)  #\n",
    "score = None  # 有可能是負的，先給個看得出異常的初值。\n",
    "\n",
    "# 先判斷是否觸地。若觸地進一步查看速度合格是否合格。若未觸地就是飛走了或油料耗盡。\n",
    "if state.y <= 100:\n",
    "    # 觸地了，進一步查看速度是否合格\n",
    "    if state.vspeed >= -40 : # 剛從空中下來觸地， vspeed 一定是負值；墜毀的一定比 -40 小\n",
    "        # 安全降落\n",
    "        score = state.fuel\n",
    "    else:  # 墜毀\n",
    "        # 模擬噴火把速度降到合格範圍內。所剩油料就是成績。\n",
    "        while True:\n",
    "            state.next(0,min(state.power + 1, 4))  # 有個調整的過程，不是直接填 4 ！\n",
    "            if state.vspeed >= -40:\n",
    "                score = state.fuel\n",
    "                break\n",
    "else:  # 還在空中，飛走了或油料耗盡。\n",
    "    # 先模擬 free fall 觸地。\n",
    "    while True: \n",
    "        state.next(0,max(state.power-1,0))  # 半空中開始模擬 free fall 小心別又錯了，不是直接填 0 ！！\n",
    "        if state.y <= 100: break\n",
    "    # 然後噴火把速度降到合格範圍內，所剩油料就是成績。\n",
    "    while True:\n",
    "        if state.vspeed >= -40: # 剛從空中下來觸地， vspeed 一定是負值；墜毀的一定比 -40 小。\n",
    "            # 達標了\n",
    "            score = state.fuel\n",
    "            break\n",
    "        else: # 未達標，繼續噴火把負的 vspeed 速度降到合格範圍內\n",
    "            state.next(0,min(state.power + 1, 4))\n",
    "    \n",
    "%f score -->\n",
    "\n"
   ]
  },
  {
   "cell_type": "code",
   "execution_count": 4,
   "metadata": {},
   "outputs": [],
   "source": [
    "# fitness function \n",
    "# https://en.wikipedia.org/wiki/Hyperparameter_(machine_learning)\n",
    "def sa(initial):\n",
    "    current = initial\n",
    "    current_cost = cost_of_state(current)\n",
    "    temp = 1.0  # <---- [ ] Hyperparameter\n",
    "    num_iterations = 0\n",
    "\n",
    "    while current_cost > 0:\n",
    "        neighbour = get_random_neighbour(current)\n",
    "        neighbour_cost = cost_of_state(neighbour)\n",
    "\n",
    "        cost_delta = neighbour_cost - current_cost\n",
    "\n",
    "        if cost_delta <= 0 or random.random() < math.exp(-cost_delta/temp):\n",
    "            current, current_cost = neighbour, neighbour_cost\n",
    "\n",
    "        num_iterations += 1\n",
    "        if num_iterations % 500 == 0 and temp > 0.20:  # <---- [ ] Hyperparameter\n",
    "            temp -= 0.05  # <---- [ ] Hyperparameter\n",
    "\n",
    "    return current, num_iterations"
   ]
  },
  {
   "cell_type": "code",
   "execution_count": 5,
   "metadata": {},
   "outputs": [],
   "source": [
    "def epoch(state=None):\n",
    "    nationalities = [ 'dane',      'brit',   'swede',       'norwegian', 'german'    ]\n",
    "    colours       = [ 'yellow',    'red',    'white',       'green',     'blue'      ]\n",
    "    animals       = [ 'horse',     'cat',    'bird',        'fish',      'dog'       ]\n",
    "    beverages     = [ 'water',     'tea',    'milk',        'coffee',    'root beer' ]\n",
    "    cigars        = [ 'pall mall', 'prince', 'blue master', 'dunhill',   'blends'    ]\n",
    "\n",
    "    random.shuffle(nationalities)\n",
    "    random.shuffle(colours      )\n",
    "    random.shuffle(animals      )\n",
    "    random.shuffle(beverages    )\n",
    "    random.shuffle(cigars       )\n",
    "    \n",
    "    attributes = [colours, nationalities, beverages, cigars, animals]\n",
    "\n",
    "    NUM_HOUSES = 5\n",
    "    initial = []\n",
    "    s = '['\n",
    "    \n",
    "    if state: \n",
    "        initial = state; \n",
    "    else:\n",
    "        for i in range(NUM_HOUSES):\n",
    "            initial.append([attr[i] for attr in attributes])\n",
    "    \n",
    "    \n",
    "    # random.seed(100)\n",
    "\n",
    "    solution, iterations = sa(initial)\n",
    "\n",
    "    for house in solution:\n",
    "        s += str(house) + ',';\n",
    "    s = s[:-1] + ']';\n",
    "    return s,iterations"
   ]
  },
  {
   "cell_type": "code",
   "execution_count": 6,
   "metadata": {
    "collapsed": true,
    "jupyter": {
     "outputs_hidden": true
    },
    "tags": []
   },
   "outputs": [
    {
     "name": "stdout",
     "output_type": "stream",
     "text": [
      "................................................................................................................................................................................................................................................................................................................................................................................................................................................................................................................................................................................................................................................................................................................................................................................................................................................................................................................................................................................................................................................................................................................................................................................................................................................................................................................................................................................................................................................................................................................................................................................................................................................................................................................................................................................................................................................................................................................................................................................................................................................................................................................................................................................................................................................................................................................................................................................................................................................................................................................................................................................................................................................................................................................................................................................................................................................................................................................................................................................................................................................................................................................................................................................................................................................................................................................................................................................................................................................................................................................................................................................................................................................................................................................................................................................................................................................................................................................................................................................................................................................................................................................................................................................................................................................................................................................................................................................................................................................................................................................................................................................................................................................................................................................................................................................................................................................................................................................................................................................................................................................................................................................................................................................................................................................................................................................................................................................................................................................................................................................................................................................................................................................................................................................................................................................................................................................................................................................................................................................................................................................................................................................................................................................................................................................................................................................................................................................................................................................................................................................................................................................................................................................................................................................................................................................................................................................................................................................................................................................................................................................................................................................................................................................................................................................................................................................................................................................................................................................................................................................................................................................................................................................................................................................................................................................................................................................................................................................................................................................................................................................................................................................................................................................................................................................................................................................................................................................................................................................................................................................................................................................................................................................................................................................................................................................................................................................................................................................................................................................................................................................................................................................................................................................................................................................................................................................................................................................................................................................................................................................................................................................................................................................................................................................................................................................................................................................................................................................................................................................................................................................................................................................................................................................................................................................................................................................................................................................................................Done !!! \n"
     ]
    }
   ],
   "source": [
    "if __name__ == \"__main__\":\n",
    "    ss = '';\n",
    "    for i in range(10000):\n",
    "        s, iter = epoch()\n",
    "        ss += \"{} Number of iterations:{}\\n\".format(s, iter)\n",
    "        print('.', end=\"\")\n",
    "    %f ss char results.txt writeTextFile \n",
    "    %f .( Done !!! ) cr"
   ]
  },
  {
   "cell_type": "markdown",
   "metadata": {},
   "source": [
    "http://localhost:8888/lab/workspaces/auto-m/tree/OneDrive/%E6%96%87%E4%BB%B6/Jupyter%20Notebooks/I%20study%20Pandas.ipynb"
   ]
  },
  {
   "cell_type": "code",
   "execution_count": 7,
   "metadata": {},
   "outputs": [],
   "source": [
    "import pandas as pd"
   ]
  },
  {
   "cell_type": "markdown",
   "metadata": {},
   "source": [
    "## 研究 pandas read data 的眾多方法\n",
    "\n",
    "我看其中就是 pd.read_clipboard() 好用。先把資料抓進 clipboard 然後執行之即得。\n",
    "研究 iterations 數的分布的目的是想藉以調整 Annealing Algorithm 的 hyper-parameter "
   ]
  },
  {
   "cell_type": "code",
   "execution_count": 8,
   "metadata": {},
   "outputs": [
    {
     "data": {
      "text/html": [
       "<div>\n",
       "<style scoped>\n",
       "    .dataframe tbody tr th:only-of-type {\n",
       "        vertical-align: middle;\n",
       "    }\n",
       "\n",
       "    .dataframe tbody tr th {\n",
       "        vertical-align: top;\n",
       "    }\n",
       "\n",
       "    .dataframe thead th {\n",
       "        text-align: right;\n",
       "    }\n",
       "</style>\n",
       "<table border=\"1\" class=\"dataframe\">\n",
       "  <thead>\n",
       "    <tr style=\"text-align: right;\">\n",
       "      <th></th>\n",
       "      <th>Data</th>\n",
       "    </tr>\n",
       "  </thead>\n",
       "  <tbody>\n",
       "    <tr>\n",
       "      <th>0</th>\n",
       "      <td>8910</td>\n",
       "    </tr>\n",
       "    <tr>\n",
       "      <th>1</th>\n",
       "      <td>9532</td>\n",
       "    </tr>\n",
       "    <tr>\n",
       "      <th>2</th>\n",
       "      <td>6423</td>\n",
       "    </tr>\n",
       "    <tr>\n",
       "      <th>3</th>\n",
       "      <td>6776</td>\n",
       "    </tr>\n",
       "    <tr>\n",
       "      <th>4</th>\n",
       "      <td>22155</td>\n",
       "    </tr>\n",
       "    <tr>\n",
       "      <th>...</th>\n",
       "      <td>...</td>\n",
       "    </tr>\n",
       "    <tr>\n",
       "      <th>995</th>\n",
       "      <td>13802</td>\n",
       "    </tr>\n",
       "    <tr>\n",
       "      <th>996</th>\n",
       "      <td>6385</td>\n",
       "    </tr>\n",
       "    <tr>\n",
       "      <th>997</th>\n",
       "      <td>7525</td>\n",
       "    </tr>\n",
       "    <tr>\n",
       "      <th>998</th>\n",
       "      <td>8103</td>\n",
       "    </tr>\n",
       "    <tr>\n",
       "      <th>999</th>\n",
       "      <td>48192</td>\n",
       "    </tr>\n",
       "  </tbody>\n",
       "</table>\n",
       "<p>1000 rows × 1 columns</p>\n",
       "</div>"
      ],
      "text/plain": [
       "      Data\n",
       "0     8910\n",
       "1     9532\n",
       "2     6423\n",
       "3     6776\n",
       "4    22155\n",
       "..     ...\n",
       "995  13802\n",
       "996   6385\n",
       "997   7525\n",
       "998   8103\n",
       "999  48192\n",
       "\n",
       "[1000 rows x 1 columns]"
      ]
     },
     "execution_count": 8,
     "metadata": {},
     "output_type": "execute_result"
    }
   ],
   "source": [
    "data = pd.read_clipboard()\n",
    "data"
   ]
  },
  {
   "cell_type": "code",
   "execution_count": 41,
   "metadata": {},
   "outputs": [
    {
     "name": "stdout",
     "output_type": "stream",
     "text": [
      "data :> describe() ==>\n",
      "                 Data\n",
      "count    1000.000000\n",
      "mean    13933.352000\n",
      "std     13448.507494\n",
      "min      1242.000000\n",
      "25%      6925.250000\n",
      "50%      8452.000000\n",
      "75%     15068.000000\n",
      "max    113487.000000 (<class 'pandas.core.frame.DataFrame'>)\n",
      "data :> Data.median() --> 8452.0 (<class 'numpy.float64'>)\n"
     ]
    }
   ],
   "source": [
    "%f data :> describe() ==>\n",
    "%f data :> Data.median() --> "
   ]
  },
  {
   "cell_type": "code",
   "execution_count": 45,
   "metadata": {},
   "outputs": [
    {
     "data": {
      "text/html": [
       "<div>\n",
       "<style scoped>\n",
       "    .dataframe tbody tr th:only-of-type {\n",
       "        vertical-align: middle;\n",
       "    }\n",
       "\n",
       "    .dataframe tbody tr th {\n",
       "        vertical-align: top;\n",
       "    }\n",
       "\n",
       "    .dataframe thead th {\n",
       "        text-align: right;\n",
       "    }\n",
       "</style>\n",
       "<table border=\"1\" class=\"dataframe\">\n",
       "  <thead>\n",
       "    <tr style=\"text-align: right;\">\n",
       "      <th></th>\n",
       "      <th>Iterations</th>\n",
       "    </tr>\n",
       "  </thead>\n",
       "  <tbody>\n",
       "    <tr>\n",
       "      <th>0</th>\n",
       "      <td>4851</td>\n",
       "    </tr>\n",
       "    <tr>\n",
       "      <th>1</th>\n",
       "      <td>6097</td>\n",
       "    </tr>\n",
       "    <tr>\n",
       "      <th>2</th>\n",
       "      <td>20168</td>\n",
       "    </tr>\n",
       "    <tr>\n",
       "      <th>3</th>\n",
       "      <td>10302</td>\n",
       "    </tr>\n",
       "    <tr>\n",
       "      <th>4</th>\n",
       "      <td>27273</td>\n",
       "    </tr>\n",
       "    <tr>\n",
       "      <th>...</th>\n",
       "      <td>...</td>\n",
       "    </tr>\n",
       "    <tr>\n",
       "      <th>9995</th>\n",
       "      <td>6986</td>\n",
       "    </tr>\n",
       "    <tr>\n",
       "      <th>9996</th>\n",
       "      <td>9056</td>\n",
       "    </tr>\n",
       "    <tr>\n",
       "      <th>9997</th>\n",
       "      <td>18983</td>\n",
       "    </tr>\n",
       "    <tr>\n",
       "      <th>9998</th>\n",
       "      <td>7096</td>\n",
       "    </tr>\n",
       "    <tr>\n",
       "      <th>9999</th>\n",
       "      <td>8205</td>\n",
       "    </tr>\n",
       "  </tbody>\n",
       "</table>\n",
       "<p>10000 rows × 1 columns</p>\n",
       "</div>"
      ],
      "text/plain": [
       "      Iterations\n",
       "0           4851\n",
       "1           6097\n",
       "2          20168\n",
       "3          10302\n",
       "4          27273\n",
       "...          ...\n",
       "9995        6986\n",
       "9996        9056\n",
       "9997       18983\n",
       "9998        7096\n",
       "9999        8205\n",
       "\n",
       "[10000 rows x 1 columns]"
      ]
     },
     "execution_count": 45,
     "metadata": {},
     "output_type": "execute_result"
    }
   ],
   "source": [
    "data = pd.read_clipboard()\n",
    "data"
   ]
  },
  {
   "cell_type": "code",
   "execution_count": 47,
   "metadata": {},
   "outputs": [
    {
     "name": "stdout",
     "output_type": "stream",
     "text": [
      "data :> describe() ==>\n",
      "          Iterations\n",
      "count   10000.00000\n",
      "mean    13178.39830\n",
      "std     12065.95423\n",
      "min        45.00000\n",
      "25%      6995.75000\n",
      "50%      8426.00000\n",
      "75%     14400.25000\n",
      "max    152908.00000 (<class 'pandas.core.frame.DataFrame'>)\n",
      "data :> Iterations.median() --> 8426.0 (<class 'numpy.float64'>)\n"
     ]
    }
   ],
   "source": [
    "%f data :> describe() ==>\n",
    "%f data :> Iterations.median() --> "
   ]
  }
 ],
 "metadata": {
  "kernelspec": {
   "display_name": "Python 3",
   "language": "python",
   "name": "python3"
  },
  "language_info": {
   "codemirror_mode": {
    "name": "ipython",
    "version": 3
   },
   "file_extension": ".py",
   "mimetype": "text/x-python",
   "name": "python",
   "nbconvert_exporter": "python",
   "pygments_lexer": "ipython3",
   "version": "3.7.8"
  }
 },
 "nbformat": 4,
 "nbformat_minor": 4
}
