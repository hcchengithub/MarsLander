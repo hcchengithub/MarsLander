{
 "cells": [
  {
   "cell_type": "markdown",
   "metadata": {},
   "source": [
    "# Simulated Annealing for Mars Lander Episode-1 "
   ]
  },
  {
   "cell_type": "markdown",
   "metadata": {},
   "source": [
    "### Import modules and Utilities"
   ]
  },
  {
   "cell_type": "code",
   "execution_count": 1,
   "metadata": {
    "tags": []
   },
   "outputs": [
    {
     "name": "stdout",
     "output_type": "stream",
     "text": [
      "reDef unknown\n",
      "reDef -->\n",
      "p e f o r t h    v1.24\n",
      "source code http://github.com/hcchengithub/peforth\n",
      "Type 'peforth.ok()' to enter forth interpreter, 'exit' to come back.\n",
      "\n",
      "version ==>\n",
      " 1.24 (<class 'str'>)\n"
     ]
    }
   ],
   "source": [
    "from typing import List, Optional, Callable, Tuple, Dict, Union  # OneNote2021 #_python_ #_typing_\n",
    "GENE = List[int]  # (rotate (-15 ~ +15),power (-1, 0, +1)) 避免無用的值域，下給 Web site 的 command 要轉換成 (rotate(-90 ~ +90), power(0,1,2,3,4))\n",
    "GENOME = List[GENE]  # Genome 是一個 list 裡面都是 int\n",
    "STATE = Dict[str,Union[int,float]]  # x,y,hspeed,power,.. etc \n",
    "\n",
    "import numpy as np\n",
    "import re, math, random, pdb, json, copy\n",
    "import peforth, IPython\n",
    "peforth.bps = [i for i in range(100)]  # 預設有這麼多 Breakpoint ID\n",
    "def bp(id=None,locals=None):\n",
    "    # Breakpoint ID 不能超過 peforth.bps 保留，超過的無效。\n",
    "    if id==None: \n",
    "        id = 0\n",
    "        prompt='bp> '\n",
    "    else:\n",
    "        prompt=\"{}>\".format(id)\n",
    "    if id in peforth.bps: peforth.push(locals).ok(prompt, cmd=\"to _locals_\")\n",
    "peforth.bp = bp\n",
    "peforth.push(bp).dictate(\"py: vm.bp=pop()\")  # [ ] 忘了 vm.bp 有何用途？\n",
    "peforth.dictate('''\n",
    "    import IPython\n",
    "    : paste py> IPython.lib.clipboard.win32_clipboard_get() tib.insert ;\n",
    "        // ( ... -- ... ) 執行 clipboard 裡的內容，jupyternotebook 進了 peforth prompt 特別需要此功能。\n",
    "    \\ ------ breakpoint ------------------------------------------------------------\n",
    "    : bp .\" Usage: peforth.bp(11,locals())  # drop a breakpoint with ID=11\" cr ;\n",
    "    : bl // ( -- ) List all breakpoints\n",
    "        __main__ :> peforth.bps \n",
    "        <py>\n",
    "        bps = pop()\n",
    "        print('Disabled breakpoints:')\n",
    "        for i in range(len(bps)):\n",
    "            if not bps[i]: \n",
    "                print(i, end=' ')\n",
    "        print(); print('Enabled breakpoints:')\n",
    "        count = 0\n",
    "        for i in range(len(bps)):\n",
    "            if bps[i]: \n",
    "                print(i, end=' ')\n",
    "                count += 1\n",
    "        print(); print('Enabled breakpoints count: {}/{}'.format(count,len(bps)))\n",
    "        </py> cr ;\n",
    "        /// Breakpoint commands:\n",
    "        ///\t  bl  - list all breakpoints (capital BL is white space) \n",
    "        ///\t  be  - enable breakpoints, e.g. be 1 2 3 \n",
    "        ///\t  bd  - disable breakpoints, e.g. bd 1 2 3 \n",
    "        ///\t  be* - enable all breakpoints\n",
    "        ///\t  bd* - disable all breakpoints \n",
    "        /// Also: \n",
    "        ///   for i in [11,22,33]: peforth.bps[i]=0\t # disable breakpoints 11,22,33 \n",
    "        ///   for i in [11,22,33]: peforth.bps[i]=i\t # enable  breakpoints 11,22,33 \n",
    "    \n",
    "    : bd // ( <1 2 3 4...> -- ) Disable listed breakpoints \n",
    "        CR word ( line ) __main__ :> peforth.bps ( line bps )\n",
    "        <py>\n",
    "        line, bps = pop(1), pop(0)\n",
    "        points = map(int, line.split(' '))\n",
    "        for i in points: bps[i] = 0\n",
    "        </py> ; \n",
    "        ' bl :> comment last :: comment=pop(1)\n",
    "    \n",
    "    : be // ( <1 2 3 4...> -- ) Enable listed breakpoints \n",
    "        CR word ( line ) __main__ :> peforth.bps ( line bps ) \n",
    "        <py>\n",
    "        line, bps = pop(1), pop(0)\n",
    "        points = map(int, line.split(' '))\n",
    "        for i in points: bps[i] = i\n",
    "        </py> ; \n",
    "        ' bl :> comment last :: comment=pop(1)\n",
    "    \n",
    "    : bd* // ( -- ) Disable all breakpoints \n",
    "        __main__ :> peforth.bps\t ( bps ) \n",
    "        <py>\n",
    "        bps = pop()\n",
    "        for i in range(len(bps)): bps[i] = 0\n",
    "        </py> ;\n",
    "        ' bl :> comment last :: comment=pop(1)\n",
    "    \n",
    "    : be* // ( -- ) Enable all breakpoints \n",
    "        __main__ :> peforth.bps\t ( bps ) \n",
    "        <py>\n",
    "        bps = pop()\n",
    "        for i in range(len(bps)): bps[i] = i\n",
    "        </py> ;\n",
    "        ' bl :> comment last :: comment=pop(1)\n",
    "    \\ ------ xtack ------------------------------------------------------------\n",
    "    [] value xstack xstack py: vm.xstack=pop() // ( -- array ) The xstack. 掛進 vm 就可以直接以 py> xstack 取用。\n",
    "    : x@ xstack :> [-1] ; // ( -- n ) Get TOS of the xstack\n",
    "    : x> xstack :> pop() ; // ( -- n ) Pop the xstack\n",
    "    : >x xstack :: append(pop()) ; // ( n -- ) Push n into the xstack\n",
    "    : .sx xstack . ; // ( -- ) List xstack \n",
    "    : xdrop x> drop ; // ( X: ... a -- X: ... ) drop xstack \n",
    "    : xdropall [] to xstack ; // ( X: ... -- X: empty ) clear xstack \n",
    "    ''')\n",
    "%f version ==>\n"
   ]
  },
  {
   "cell_type": "code",
   "execution_count": 2,
   "metadata": {},
   "outputs": [
    {
     "name": "stdout",
     "output_type": "stream",
     "text": [
      "genome_to_command_list :> ([[0,1],[0,1],[0,1],[0,1],[0,1],[0,1],[0,-1],[0,-1],[0,-1],[0,-1],[0,-1]]) --> [[0, 1], [0, 2], [0, 3], [0, 4], [0, 4], [0, 4], [0, 3], [0, 2], [0, 1], [0, 0], [0, 0]] (<class 'list'>)\n"
     ]
    }
   ],
   "source": [
    "# 把 genome 轉成 Web 接受的 command list \n",
    "def genome_to_command_list(genome:GENOME) -> List[List[int]] :\n",
    "    p = 0  # initial power is always 0 \n",
    "    a = [] # result command array of [rotate, thrust] paris \n",
    "    for i in genome :\n",
    "        if i[1] == -1 :\n",
    "            p = max(p-1, 0) \n",
    "            a.append([0, p])\n",
    "            pass\n",
    "        elif i[1] == 0 :\n",
    "            a.append([0, p])\n",
    "            pass\n",
    "        elif i [1] == 1 :\n",
    "            p = min(p+1, 4) \n",
    "            a.append([0, p])\n",
    "            pass\n",
    "        else:\n",
    "            pass\n",
    "    return a\n",
    "\n",
    "%f genome_to_command_list :> ([[0,1],[0,1],[0,1],[0,1],[0,1],[0,1],[0,-1],[0,-1],[0,-1],[0,-1],[0,-1]]) -->"
   ]
  },
  {
   "cell_type": "code",
   "execution_count": 3,
   "metadata": {},
   "outputs": [
    {
     "name": "stdout",
     "output_type": "stream",
     "text": [
      "distance :> ([[0,0],[0,0]],[[0,1],[0,1]]) --> 1.4142135623730951 (<class 'numpy.float64'>)\n"
     ]
    }
   ],
   "source": [
    "# Get distance of two genomes where genomes are vectors  \n",
    "def distance(g1:GENOME, g2:GENOME):\n",
    "    def vector(genome): \n",
    "        a = [i[1] for i in genome]\n",
    "        assert len(a)<=200, 'Input genome length too long {}'.format(len(a))\n",
    "        for i in range(200-len(a)):\n",
    "            a.append(0)\n",
    "        return np.array(a)\n",
    "    return np.linalg.norm(vector(g1)-vector(g2))\n",
    "\n",
    "%f distance :> ([[0,0],[0,0]],[[0,1],[0,1]]) -->"
   ]
  },
  {
   "cell_type": "markdown",
   "metadata": {},
   "source": [
    "# Episode-1 "
   ]
  },
  {
   "cell_type": "code",
   "execution_count": 4,
   "metadata": {
    "tags": []
   },
   "outputs": [],
   "source": [
    "# 最基本的定義 \n",
    "\n",
    "Gravity = -3.711        # constant on Mars\n",
    "G = Gravity             # 到了二維以上，重力需轉成向量\n",
    "Altitude = 100          # altitude of the flat \n",
    "VSpeed = 40             # target virtical speed \n",
    "\n",
    "# class State(STATE): 我以為 (STATE) 是 constructor 的 arguments 錯！是要繼承的 parent objects!\n",
    "class State:\n",
    "\n",
    "    def __init__(self,step=0,x=0,y=0,hspeed=0,\n",
    "            vspeed=0,fuel=0,angle=0,power=0,force=0):\n",
    "        self.step   = step\n",
    "        self.x      = x\n",
    "        self.y      = y\n",
    "        self.hspeed = hspeed\n",
    "        self.vspeed = vspeed\n",
    "        self.fuel   = fuel\n",
    "        self.angle  = angle\n",
    "        self.power  = power\n",
    "        self.force  = force\n",
    "\n",
    "    def next(self, angle:int, power:int):  \n",
    "        # input angle,power 都是 offset 分別屬 -15~15 以及 -1,0,+1 \n",
    "        assert power in [-1, 0, 1], 'expected input power is an offset [-1, 0, +1], given {}'.format(power)\n",
    "        assert angle in range(-15,16), 'input angle range [-15:16], given {}'.format(angle)\n",
    "        self.step   += 1\n",
    "        self.angle  += angle\n",
    "        self.angle   = -90 if self.angle < -90 else self.angle\n",
    "        self.angle   =  90 if self.angle > 90 else self.angle\n",
    "        self.power  += power\n",
    "        self.power   = 0 if self.power < 0 else self.power\n",
    "        self.power   = 4 if self.power > 4 else self.power\n",
    "        self.fuel   -= self.power\n",
    "        self.x       = self.x       # episode-1 不變\n",
    "        self.hspeed  = self.hspeed  # episode-1 不變\n",
    "        self.force   = G + self.power\n",
    "        self.y       = self.y + self.vspeed + (1/2)*self.force\n",
    "        self.vspeed += self.force\n",
    "        return self  # 傳回值只是方便測試，可以這樣寫： %f state :> next(0,3.711) -->\n",
    "\n",
    "    def __str__(self):  \n",
    "        return str(self.__dict__)\n",
    "\n",
    "fuel0 = 500             # episode-1 \n",
    "state0 = State(0,0,2500,0,0,fuel0,0,0,0)  # episode-1 的起點 state\n"
   ]
  },
  {
   "cell_type": "code",
   "execution_count": 5,
   "metadata": {},
   "outputs": [
    {
     "name": "stdout",
     "output_type": "stream",
     "text": [
      "sample_genomes :> [\"自由落體\"] --> [[0, 0], [0, 0], [0, 0], [0, 0], [0, 0], [0, 0], [0, 0], [0, 0], [0, 0], [0, 0], [0, 0], [0, 0], [0, 0], [0, 0], [0, 0], [0, 0], [0, 0], [0, 0], [0, 0], [0, 0], [0, 0], [0, 0], [0, 0], [0, 0], [0, 0], [0, 0], [0, 0], [0, 0], [0, 0], [0, 0], [0, 0], [0, 0], [0, 0], [0, 0], [0, 0], [0, 0]] (<class 'list'>)\n",
      "sample_genomes :> [\"安全降落\"] --> [[0, 0], [0, 0], [0, 0], [0, 0], [0, 0], [0, 0], [0, 0], [0, 0], [0, 0], [0, 1], [0, 1], [0, 1], [0, 1], [0, 1], [0, 1], [0, 1], [0, 1], [0, 1], [0, 1], [0, 1], [0, 1], [0, 1], [0, 1], [0, 1], [0, 1], [0, 1], [0, 1], [0, 1], [0, 1], [0, 1], [0, 1], [0, 1], [0, 1], [0, 1], [0, 1], [0, 1], [0, 1], [0, 1], [0, 1], [0, 1], [0, 1], [0, 1], [0, 1], [0, 1], [0, 1], [0, 1], [0, 1], [0, 1], [0, 1], [0, 1], [0, 1], [0, 1], [0, 1], [0, 1], [0, 1], [0, 1], [0, 1], [0, 1], [0, 1], [0, 1], [0, 1], [0, 1], [0, 1], [0, 1], [0, 1], [0, 1], [0, 1], [0, 1], [0, 1], [0, 1], [0, 1], [0, 1], [0, 1], [0, 1], [0, 1], [0, 1], [0, 1], [0, 1], [0, 1], [0, 1], [0, 1], [0, 1], [0, 1], [0, 1], [0, 1], [0, 1], [0, 1], [0, 1], [0, 1], [0, 1], [0, 1]] (<class 'list'>)\n",
      "sample_genomes :> [\"飛向太空\"] --> [[0, 1], [0, 1], [0, 1], [0, 1], [0, 1], [0, 1], [0, 1], [0, 1], [0, 1], [0, 1], [0, 1], [0, 1], [0, 1], [0, 1], [0, 1], [0, 1], [0, 1], [0, 1], [0, 1], [0, 1], [0, 1], [0, 1], [0, 1], [0, 1], [0, 1], [0, 1], [0, 1], [0, 1], [0, 1], [0, 1], [0, 1], [0, 1], [0, 1], [0, 1], [0, 1], [0, 1], [0, 1], [0, 1], [0, 1], [0, 1], [0, 1], [0, 1], [0, 1], [0, 1], [0, 1], [0, 1], [0, 1], [0, 1], [0, 1], [0, 1], [0, 1], [0, 1], [0, 1], [0, 1], [0, 1], [0, 1], [0, 1], [0, 1], [0, 1], [0, 1], [0, 1], [0, 1], [0, 1], [0, 1], [0, 1], [0, 1], [0, 1], [0, 1], [0, 1], [0, 1], [0, 1], [0, 1], [0, 1], [0, 1], [0, 1], [0, 1], [0, 1], [0, 1], [0, 1], [0, 1], [0, 1], [0, 1], [0, 1]] (<class 'list'>)\n",
      "sample_genomes :> [\"更成功\"]  --> [[0, 0], [0, 0], [0, 0], [0, 0], [0, 0], [0, 0], [0, 0], [0, 0], [0, 0], [0, 1], [0, 1], [0, 1], [0, 1], [0, 1], [0, 1], [0, 1], [0, 1], [0, 1], [0, 1], [0, 1], [0, 1], [0, 1], [0, 1], [0, 1], [0, 1], [0, 1], [0, 1], [0, 1], [0, 1], [0, 1], [0, 1], [0, 1], [0, 1], [0, 1], [0, 1], [0, 1], [0, 1], [0, 1], [0, 1], [0, 1], [0, 1], [0, 1], [0, 1], [0, 1], [0, 1], [0, 1], [0, 1], [0, 1], [0, 1], [0, 1], [0, 1], [0, 1], [0, 1], [0, 1], [0, 1], [0, 1], [0, 1], [0, 1], [0, 1], [0, 1], [0, 1], [0, 1], [0, 1], [0, 1], [0, 1], [0, 1], [0, 1], [0, 1], [0, 1], [0, 1], [0, 1], [0, 1], [0, 1], [0, 1], [0, 1], [0, 1], [0, 1], [0, 1], [0, 1], [0, 1], [0, 1], [0, -1], [0, -1], [0, -1], [0, -1], [0, -1], [0, -1], [0, -1]] (<class 'list'>)\n",
      "state_list :> [\"自由落體\"] --> {'step': 36, 'x': 0, 'y': 95.2720000000003, 'hspeed': 0, 'vspeed': -133.59599999999998, 'fuel': 500, 'angle': 0, 'power': 0, 'force': -3.711} (<class '__main__.State'>)\n",
      "state_list :> [\"安全降落\"] --> {'step': 91, 'x': 0, 'y': 97.6045000000063, 'hspeed': 0, 'vspeed': -15.700999999999876, 'fuel': 178, 'angle': 0, 'power': 4, 'force': 0.28900000000000015} (<class '__main__.State'>)\n",
      "state_list :> [\"飛向太空\"] --> {'step': 83, 'x': 0, 'y': 3004.4604999999906, 'hspeed': 0, 'vspeed': 17.987000000000002, 'fuel': 174, 'angle': 0, 'power': 4, 'force': 0.28900000000000015} (<class '__main__.State'>)\n",
      "state_list :> [\"更成功\"]   --> {'step': 88, 'x': 0, 'y': 83.00800000000595, 'hspeed': 0, 'vspeed': -38.56799999999988, 'fuel': 212, 'angle': 0, 'power': 0, 'force': -3.711} (<class '__main__.State'>)\n"
     ]
    }
   ],
   "source": [
    "# 建置 command lists 錄製好幾種狀況方便實驗\n",
    "\n",
    "sample_genomes = {\"自由落體\":[],\"安全降落\":[], \"飛向太空\":[], \"差點成功\":[], \"更成功\":[]}  \n",
    "state_list = {\"自由落體\":{},\"安全降落\":{}, \"飛向太空\":{}, \"差點成功\":{}, \"更成功\":{}}  \n",
    "\n",
    "# 自由落體\n",
    "state = State(**state0.__dict__)  # init for ecah genome \n",
    "for i in range(36):\n",
    "    state.next(0,0);\n",
    "    sample_genomes[\"自由落體\"].append([0,0])\n",
    "state_list[\"自由落體\"]=state  # state 是獨立的，不需要 deep copy \n",
    "\n",
    "# 安全降落\n",
    "state = State(**state0.__dict__)  # init for ecah genome \n",
    "for i in range(9):\n",
    "    state.next(0,0);\n",
    "    sample_genomes[\"安全降落\"].append([0,0])\n",
    "for i in range(9,91):\n",
    "    state.next(0,1);\n",
    "    sample_genomes[\"安全降落\"].append([0,1])\n",
    "state_list[\"安全降落\"]=state\n",
    "\n",
    "# 飛向太空\n",
    "state = State(**state0.__dict__)  # init for ecah genome \n",
    "for i in range(83):\n",
    "    state.next(0,1);\n",
    "    sample_genomes[\"飛向太空\"].append([0,1])\n",
    "state_list[\"飛向太空\"]=state\n",
    "\n",
    "# 更成功\n",
    "state = State(**state0.__dict__)  # init for ecah genome \n",
    "for i in range(9):\n",
    "    state.next(0,0);\n",
    "    sample_genomes[\"更成功\"].append([0,0])\n",
    "for i in range(9,81):\n",
    "    state.next(0,1);\n",
    "    sample_genomes[\"更成功\"].append([0,1])\n",
    "for i in range(7):\n",
    "    state.next(0,-1);\n",
    "    sample_genomes[\"更成功\"].append([0,-1])\n",
    "state_list[\"更成功\"]=state\n",
    "\n",
    "%f sample_genomes :> [\"自由落體\"] --> \\ genome_to_command_list :> (pop()) -->\n",
    "%f sample_genomes :> [\"安全降落\"] --> \\ genome_to_command_list :> (pop()) -->\n",
    "%f sample_genomes :> [\"飛向太空\"] --> \\ genome_to_command_list :> (pop()) -->\n",
    "%f sample_genomes :> [\"更成功\"]  -->  \\ genome_to_command_list :> (pop()) -->\n",
    "\n",
    "%f state_list :> [\"自由落體\"] -->  \n",
    "%f state_list :> [\"安全降落\"] -->  \n",
    "%f state_list :> [\"飛向太空\"] -->  \n",
    "%f state_list :> [\"更成功\"]   -->  \n"
   ]
  },
  {
   "cell_type": "code",
   "execution_count": 6,
   "metadata": {},
   "outputs": [
    {
     "name": "stdout",
     "output_type": "stream",
     "text": [
      "get_random_neighbour :> ([[0,0],[0,0]]) ( 都不可能出現 -1 ) --> [[0, 0], [0, 1]] (<class 'list'>)\n",
      "get_random_neighbour :> ([[0,0],[0,1]]) ( 都不可能出現 -1 ) --> [[0, 0], [0, 0]] (<class 'list'>)\n",
      "get_random_neighbour :> ([[0,1],[0,1],[0,1],[0,1],[0,1]]) --> [[0, 1], [0, 0], [0, 1], [0, 1], [0, 1]] (<class 'list'>)\n",
      "get_random_neighbour :> ([[0,1],[0,1],[0,1],[0,1],[0,1]]) --> [[0, 1], [0, 1], [0, 1], [0, 0], [0, 1]] (<class 'list'>)\n",
      "get_random_neighbour :> ([[0,1],[0,1],[0,1],[0,1],[0,1]]) --> [[0, 0], [0, 1], [0, 1], [0, 1], [0, 1]] (<class 'list'>)\n",
      "get_random_neighbour :> ([[0,1],[0,1],[0,1],[0,1],[0,1]]) --> [[0, 1], [0, 1], [0, 1], [0, 0], [0, 1]] (<class 'list'>)\n"
     ]
    }
   ],
   "source": [
    "# 改寫 for Mars Lander 乍看以為要頭痛一會兒，其實 Mars Lander 的 genome 很簡單，就是一串 (int,int) \n",
    "# pairs 而已。前面基礎討論有提到，以 SA 而言就是 mutate 某一個 gene 也就是 command pair 而已。但是考慮 Mars\n",
    "# Lander 的限制條件，以 epidode-1 而言，command 的改變要做的決定是 -1 0 +1 其中之一才對，而非 0~4. \n",
    "\n",
    "# 長度的問題，\n",
    "# 太長而無效的 genes 要 cut 掉。\n",
    "# 長度不夠時直接 copy 最後一個 gene 頂替即可。\n",
    "# 會發現 genome 太長或不夠的是 simulator 那就是由它處理。\n",
    "\n",
    "# 1. 避免無效的 neighbour 例如前一 power 是 0 或 4 卻下 -1 或 1 就是無效的，這個 neighbour 就浪費了。 \n",
    "# 2. 第一個 gene 的 power 不能下 -1 只能下 0 或 +1 , 將來 angle 也有一樣的限制。\n",
    "\n",
    "def get_random_neighbour(genome: GENOME) -> None :\n",
    "    neighbour = copy.deepcopy(genome)  # 利用 [:] slice copy 不行！\n",
    "    commands = genome_to_command_list(neighbour)  # 絕對 command, 用來檢查前一狀態避免產生無效的 neighbour \n",
    "    \n",
    "    while True:  # 試到不一樣了才出來\n",
    "        idx = random.randint(0,len(genome)-1) # 選 1 個 gene \n",
    "        cmd = random.randint(-1, 1)  # -1, 0, +1 當中選 1 個 thrust command (episode-1)\n",
    "        if idx == 0 and cmd == -1 : continue  # 一開始的 power 就是 0 再下 -1 無效\n",
    "        if idx >= 1 and cmd == -1 and commands[idx-1][1] == 0: continue  # 前一個 power 就已經是 0 又下 -1 無效\n",
    "        if idx >= 1 and cmd ==  1 and commands[idx-1][1] == 4: continue  # 前一個 power 就已經是 4 又下 +1 無效\n",
    "        if neighbour[idx][1] == cmd: continue  # 沒有變化當然無效\n",
    "        else: \n",
    "            neighbour[idx][1] = cmd\n",
    "            break\n",
    "            \n",
    "    return neighbour\n",
    "%f get_random_neighbour :> ([[0,0],[0,0]]) ( 都不可能出現 -1 ) -->    \n",
    "%f get_random_neighbour :> ([[0,0],[0,1]]) ( 都不可能出現 -1 ) -->    \n",
    "%f get_random_neighbour :> ([[0,1],[0,1],[0,1],[0,1],[0,1]]) --> \\ gene0 只有 0 或 1 不會有 -1, gene1 視 gene0 而定     \n",
    "%f get_random_neighbour :> ([[0,1],[0,1],[0,1],[0,1],[0,1]]) --> \\ gene0 只有 0 或 1 不會有 -1, gene1 視 gene0 而定     \n",
    "%f get_random_neighbour :> ([[0,1],[0,1],[0,1],[0,1],[0,1]]) --> \\ gene0 只有 0 或 1 不會有 -1, gene1 視 gene0 而定     \n",
    "%f get_random_neighbour :> ([[0,1],[0,1],[0,1],[0,1],[0,1]]) --> \\ gene0 只有 0 或 1 不會有 -1, gene1 視 gene0 而定     \n",
    "                             "
   ]
  },
  {
   "cell_type": "code",
   "execution_count": 7,
   "metadata": {},
   "outputs": [
    {
     "name": "stdout",
     "output_type": "stream",
     "text": [
      "state_list :> [\"自由落體\"]  cost_of_state :> (pop()) --> 1366 (<class 'int'>)\n",
      "state_list :> [\"飛向太空\"]  cost_of_state :> (pop()) --> 1934 (<class 'int'>)\n",
      "state_list :> [\"安全降落\"]  cost_of_state :> (pop()) --> 322 (<class 'int'>)\n",
      "state_list :> [\"更成功\"]   cost_of_state :> (pop()) --> 288 (<class 'int'>)\n",
      "\n"
     ]
    }
   ],
   "source": [
    "# ○ 成功著陸的，油料剩越多的越好。\n",
    "# ○ 一個油料耗盡一個墜毀哪個好？墜毀時的速度減到+-40 (VSpeed) 以內需要多少油料？\n",
    "# ○ 油料耗盡時的高度距離與速度以自由落體觸地，然後把速度調整到+-40 以內需要多少油料？\n",
    "# ○ 根據我之前對 y=100 (flat ground 的海拔高度) 的研究 該 state 來自 log 的最後一 state. \n",
    "#   當 Simulating 時，該 state 就是 y 首次跨越 flat ground 高度觸地著陸之時。\n",
    "# ○ cost 必大於 0。 Score 用油料剩餘量計算，由 fuel0 扣下來可到負值。換算成 cost 就是 \n",
    "#      cost = fuel0 - score\n",
    "#   核算，當 score 為 fuel0 時 cost 為 0 無誤； 當 score 為 -fuel0 時 cost 為 2fuel0\n",
    "#   甚至更高，也無誤。 直接用這個數字，配合 SA 的 Temperature 設定要用 visualized \n",
    "#   graphs 來訂定 即可。\n",
    "\n",
    "def cost_of_state(state: STATE) -> int:\n",
    "    state = copy.deepcopy(state)  # 不要去動到原來的\n",
    "    score = None  # 有可能是負的，先給個看得出異常的初值。\n",
    "\n",
    "    # 先判斷是否觸地。若觸地進一步查看速度合格是否合格。若未觸地就是飛走了或油料耗盡。\n",
    "    if round(state.y,0) < Altitude:  # 若僅 state.y <= 100 則 100.45 也會被錯當成已著陸。 [ ] 奇怪，何必用 round(state.y,0) 找麻煩？\n",
    "        # 觸地了，進一步查看速度是否合格\n",
    "        if round(state.vspeed,0) >= -VSpeed : # 剛從空中下來觸地， vspeed 一定是負值；墜毀的一定比 -40 小\n",
    "            # 安全降落\n",
    "            score = state.fuel\n",
    "        else:  # 墜毀\n",
    "            # 模擬噴火把速度降到合格範圍內。所剩油料就是成績。\n",
    "            while True:\n",
    "                state.next(0,1)  # 有個調整的過程，不是直接填 4 ！\n",
    "                if round(state.vspeed,0) >= -VSpeed:\n",
    "                    score = state.fuel\n",
    "                    break\n",
    "    else:  # 還在空中，飛走了或油料耗盡。\n",
    "        # 先模擬 free fall 觸地。\n",
    "        while True: \n",
    "            state.next(0,-1)  # 半空中開始模擬 free fall 小心別又錯了，不是直接填 0 ！！\n",
    "            if round(state.y,0) < Altitude: break\n",
    "        # 然後噴火把速度降到合格範圍內，所剩油料就是成績。\n",
    "        while True:\n",
    "            if round(state.vspeed,0) >= -VSpeed: # 剛從空中下來觸地， vspeed 一定是負值；墜毀的一定比 -40 小。\n",
    "                # 達標了\n",
    "                score = state.fuel\n",
    "                break\n",
    "            else: # 未達標，繼續噴火把負的 vspeed 速度降到合格範圍內\n",
    "                state.next(0,1)\n",
    "    cost = fuel0 - score\n",
    "    return cost \n",
    "\n",
    "%f state_list :> [\"自由落體\"]  cost_of_state :> (pop()) -->\n",
    "%f state_list :> [\"飛向太空\"]  cost_of_state :> (pop()) -->\n",
    "%f state_list :> [\"安全降落\"]  cost_of_state :> (pop()) -->\n",
    "%f state_list :> [\"更成功\"]   cost_of_state :> (pop()) --> cr\n",
    "        "
   ]
  },
  {
   "cell_type": "code",
   "execution_count": 8,
   "metadata": {},
   "outputs": [
    {
     "name": "stdout",
     "output_type": "stream",
     "text": [
      "\n",
      "cr ( 「自由落體」 ) genome --> [[0, 0], [0, 0], [0, 0], [0, 0], [0, 0], [0, 0], [0, 0], [0, 0], [0, 0], [0, 0], [0, 0], [0, 0], [0, 0], [0, 0], [0, 0], [0, 0], [0, 0], [0, 0], [0, 0], [0, 0], [0, 0], [0, 0], [0, 0], [0, 0], [0, 0], [0, 0], [0, 0], [0, 0], [0, 0], [0, 0], [0, 0], [0, 0], [0, 0], [0, 0], [0, 0], [0, 0]] (<class 'list'>)\n",
      "last_state --> {'step': 36, 'x': 0, 'y': 95.2720000000003, 'hspeed': 0, 'vspeed': -133.59599999999998, 'fuel': 500, 'angle': 0, 'power': 0, 'force': -3.711} (<class '__main__.State'>)\n",
      "last_state cost_of_state :> (pop()) --> 1366 (<class 'int'>)\n",
      "\n",
      "cr ( 「全速飛走」 ) genome --> [[0, 1], [0, 1], [0, 1], [0, 1], [0, 1], [0, 1], [0, 1], [0, 1], [0, 1], [0, 1], [0, 1], [0, 1], [0, 1], [0, 1], [0, 1], [0, 1], [0, 1], [0, 1], [0, 1], [0, 1], [0, 1], [0, 1], [0, 1], [0, 1], [0, 1], [0, 1], [0, 1], [0, 1], [0, 1], [0, 1], [0, 1], [0, 1], [0, 1], [0, 1], [0, 1], [0, 1], [0, 1], [0, 1], [0, 1], [0, 1], [0, 1], [0, 1], [0, 1], [0, 1], [0, 1], [0, 1], [0, 1], [0, 1], [0, 1], [0, 1], [0, 1], [0, 1], [0, 1], [0, 1], [0, 1], [0, 1], [0, 1], [0, 1], [0, 1], [0, 1], [0, 1], [0, 1], [0, 1], [0, 1], [0, 1], [0, 1], [0, 1], [0, 1], [0, 1], [0, 1], [0, 1], [0, 1], [0, 1], [0, 1], [0, 1], [0, 1], [0, 1], [0, 1], [0, 1], [0, 1], [0, 1], [0, 1], [0, 1]] (<class 'list'>)\n",
      "last_state --> {'step': 83, 'x': 0, 'y': 3004.4604999999906, 'hspeed': 0, 'vspeed': 17.987000000000002, 'fuel': 174, 'angle': 0, 'power': 4, 'force': 0.28900000000000015} (<class '__main__.State'>)\n",
      "last_state cost_of_state :> (pop()) --> 1934 (<class 'int'>)\n",
      "\n"
     ]
    }
   ],
   "source": [
    "# 模擬試跑 genome. Genome 可能太長或不夠，傳回訂正好的 genome 以及最後 state  \n",
    "def simulate_of_genome(input_genome: GENOME) -> Tuple[GENOME,STATE]:\n",
    "    genome = copy.deepcopy(input_genome)  # make a copy to isolate the original\n",
    "    state = State(**state0.__dict__)  # init state for simulation\n",
    "    # 照 genome 跑到觸地、飛走、或油料耗盡時為止， genome 可能含有無效的長度要 cut 掉以免浪費時間嘗試。\n",
    "    for i in range(len(genome)): \n",
    "        state.next(*genome[i])  # run 1 step \n",
    "        if round(state.y,0) < Altitude or state.y > 3000 or state.fuel <= 0:  # 這高度、油料不能再繼續了\n",
    "            genome = genome[:i+1]  # 太長的尾巴切掉\n",
    "            break\n",
    "        \n",
    "    # 接續以上跑完 input genome 之後的 state 看看 input genome 是否太短需要補綴 genes 讓 lander 觸地。\n",
    "    while round(state.y,0) >= Altitude and state.y <= 3000 and state.fuel > 0:\n",
    "        genome.append(genome[-1][:])  # 注意！若不用 [:] slice copy 則 append 進去的都是同一個。gene 是個 shallow array 無誤，可以用 slice copy.        \n",
    "        state.next(*genome[-1])  # 簡單照抄最後一 step\n",
    "        \n",
    "    return genome,state  # 這個 return genome 是 input genome 的訂正版\n",
    "\n",
    "# 很妙，這產生「自由落體」的 genome 與最後 state \n",
    "genome, last_state = simulate_of_genome([[0,0]])\n",
    "%f cr ( 「自由落體」 ) genome -->\n",
    "%f last_state -->\n",
    "%f last_state cost_of_state :> (pop()) -->\n",
    "    \n",
    "# 而這產生「全速飛走」的 genome 與最後 state \n",
    "genome, last_state = simulate_of_genome([[0,1]])\n",
    "%f cr ( 「全速飛走」 ) genome -->\n",
    "%f last_state -->\n",
    "%f last_state cost_of_state :> (pop()) --> cr"
   ]
  },
  {
   "cell_type": "code",
   "execution_count": 9,
   "metadata": {},
   "outputs": [],
   "source": [
    "# fitness function \n",
    "# https://en.wikipedia.org/wiki/Hyperparameter_(machine_learning)   _*_\n",
    "verbose = False \n",
    "def sa(initial: GENOME) -> Tuple[GENOME,int,int] :\n",
    "    current = copy.deepcopy(initial)  # 咱 deep 不能用 [:]\n",
    "    current, current_last_state = simulate_of_genome(current)\n",
    "    current_cost = cost_of_state(current_last_state)\n",
    "    \n",
    "    temp = 17.0  # (1/50)*(2*fuel0)  # <---- [ ] Hyperparameter, 來自 Einstein's problem 的心得，取總分的 1/15 \n",
    "    num_iterations = 0\n",
    "\n",
    "    for i in range(1000):  # 若想安全降落為止，可能不如有限次數換個 epoch 試試運氣\n",
    "        neighbour = get_random_neighbour(current)\n",
    "        neighbour, neighbour_last_state = simulate_of_genome(neighbour)\n",
    "        neighbour_cost = cost_of_state(neighbour_last_state)\n",
    "        \n",
    "        cost_delta = neighbour_cost - current_cost\n",
    "        if cost_delta < 0:  # neighbour 較好，都接受。\n",
    "            current, current_cost, current_last_state = neighbour, neighbour_cost, neighbour_last_state\n",
    "            if verbose: print({\"cost\":current_cost, \"delta\":cost_delta, \"temperature\":round(temp,2), \"exp\": \"n/a\"})\n",
    "        elif cost_delta >= 0:  # 雖然 neighbour 不好，也偶而接受。\n",
    "            exp = math.exp(-cost_delta/temp) \n",
    "            if random.random() < exp:\n",
    "                current, current_cost, current_last_state = neighbour, neighbour_cost, neighbour_last_state\n",
    "                if verbose: print({\"cost\":current_cost, \"delta\":cost_delta, \"temperature\":round(temp,2), \"exp\": round(exp,2)})\n",
    "        else:  # 排除相等的狀況，不要浪費時間、debug 版面 <-- 錯！成績相等時 genome 不一定相等。\n",
    "               # 「相同」應該從 get_random_neighbour() 著手徹底排除。          \n",
    "            assert False, 'Impossible case' \n",
    "\n",
    "        num_iterations += 1\n",
    "        # if num_iterations % 10 == 0 and temp > 0.1:  # <---- [ ] Hyperparameter\n",
    "        #     temp -= 0.1  # <---- [ ] Hyperparameter\n",
    "        if abs(round(current_last_state.vspeed,0)) <= VSpeed and round(current_last_state.y,0) < Altitude:\n",
    "            temp = max(temp - 0.1,0) # 根據觀察 log 決定設計成約數十次到一百次之內降到零度\n",
    "            if verbose: print('B i n g o ! iterations:{} temperature:{} curent_cost:{}'.format(num_iterations, round(temp,3), current_cost))\n",
    "            if temp <= 0.01: break\n",
    "        \n",
    "    return current, num_iterations, current_cost, current_last_state"
   ]
  },
  {
   "cell_type": "code",
   "execution_count": 10,
   "metadata": {},
   "outputs": [],
   "source": [
    "def epoch(initial: GENOME=None):\n",
    "\n",
    "    genome: GENOME = [];\n",
    "    \n",
    "    # 有指定就用指定的，否則就用亂數產生一組啟始 genome\n",
    "    # random.seed(100)\n",
    "    if initial:  \n",
    "        genome = copy.deepcopy(initial); \n",
    "    else:  \n",
    "        for i in range(random.randint(1,100)): # 沒看過 genome 長度超過 100 的，多了無所謂會被自動切掉。\n",
    "            genome.append([0,random.randint(-1, 1)]) \n",
    "\n",
    "    genome, iterations, cost, state = sa(genome)\n",
    "\n",
    "    return (genome, iterations, cost, state)"
   ]
  },
  {
   "cell_type": "code",
   "execution_count": 11,
   "metadata": {
    "tags": []
   },
   "outputs": [
    {
     "name": "stdout",
     "output_type": "stream",
     "text": [
      "Epoch 0 best cost 231\n",
      "Epoch 20 best cost 186\n",
      "Epoch 40 best cost 175\n",
      "Epoch 60 best cost 175\n",
      "Epoch 80 best cost 175\n",
      "Epoch 99 best cost 175\n",
      "Done!\n"
     ]
    }
   ],
   "source": [
    "%f [] constant history \n",
    "\n",
    "if __name__ == \"__main__\":\n",
    "    best = epoch([[0,0]])  # (genome, iterations, cost, state)\n",
    "    for i in range(100):\n",
    "        result = epoch(best[0])  # (genome, iterations, cost, state)\n",
    "        if result[2] < best[2]:\n",
    "            best = result\n",
    "        if i % 20 == 0 :\n",
    "            print('Epoch {} best cost {}'.format(i,best[2]))\n",
    "        %f best history :: append(pop())\n",
    "    print('Epoch {} best cost {}'.format(i,best[2]))\n",
    "    print('Done!')\n"
   ]
  },
  {
   "cell_type": "code",
   "execution_count": null,
   "metadata": {},
   "outputs": [],
   "source": [
    "# 取 best result 的絕對 genome 去 web site 跑跑看， 500 - 最佳 cost 175 = 325 與結果一致無誤。  \n",
    "%f best :> [0] genome_to_command_list :> (pop()) --> "
   ]
  },
  {
   "cell_type": "code",
   "execution_count": null,
   "metadata": {},
   "outputs": [],
   "source": [
    "%%f\n",
    "\\ 這個實驗看來成績 cost 相同的 genome 都一樣！\n",
    "history ( genome, iterations, cost, state ) <py>\n",
    "    history = pop()\n",
    "    distribution = {}\n",
    "    for i in history:\n",
    "        try:\n",
    "            distribution[i[2]] += 1\n",
    "        except:\n",
    "            distribution.update({i[2]: 1})\n",
    "    print(distribution)\n",
    "    assert False\n",
    "    print('220','-'*30)\n",
    "    for i in history:\n",
    "        if i[2] == 220:\n",
    "            print(i[0])\n",
    "    print('221','-'*30)\n",
    "    for i in history:\n",
    "        if i[2] == 201:\n",
    "            print(i[0])\n",
    "    print('198','-'*30)\n",
    "    for i in history:\n",
    "        if i[2] == 198:\n",
    "            print(i[0])\n",
    "    print('187','-'*30)\n",
    "    for i in history:\n",
    "        if i[2] == 187:\n",
    "            print(i[0])\n",
    "    print('186','-'*30)\n",
    "    for i in history:\n",
    "        if i[2] == 186:\n",
    "            print(i[0])\n",
    "    print('183','-'*30)\n",
    "    for i in history:\n",
    "        if i[2] == 183:\n",
    "            print(i[0])\n",
    "</py> \n"
   ]
  },
  {
   "cell_type": "code",
   "execution_count": null,
   "metadata": {},
   "outputs": [],
   "source": []
  },
  {
   "cell_type": "code",
   "execution_count": null,
   "metadata": {},
   "outputs": [],
   "source": []
  },
  {
   "cell_type": "code",
   "execution_count": null,
   "metadata": {
    "tags": []
   },
   "outputs": [],
   "source": [
    "\n",
    "if __name__ == \"__main__\":\n",
    "    history = []\n",
    "    for i in range(5000):\n",
    "        result = epoch()  # (genome, iterations, cost, state)\n",
    "        history.append(result)\n",
    "        if i % 100 == 0 : print(i, end=\" \")\n",
    "    print('Done!')\n",
    "    distribution = {}\n",
    "    for i in history:\n",
    "        try:\n",
    "            distribution[i[2]] += 1\n",
    "        except:\n",
    "            distribution.update({i[2]: 1})\n",
    "    print(distribution)\n"
   ]
  },
  {
   "cell_type": "code",
   "execution_count": null,
   "metadata": {},
   "outputs": [],
   "source": []
  },
  {
   "cell_type": "code",
   "execution_count": null,
   "metadata": {
    "tags": []
   },
   "outputs": [],
   "source": []
  },
  {
   "cell_type": "code",
   "execution_count": null,
   "metadata": {},
   "outputs": [],
   "source": [
    "commands = genome_to_command_list(best[0])\n",
    "%f commands --> \\ 這組是 vspeed 20 "
   ]
  },
  {
   "cell_type": "code",
   "execution_count": null,
   "metadata": {},
   "outputs": [],
   "source": [
    "commands = genome_to_command_list(best[0])\n",
    "%f commands --> \\ 這組是 vspeed 0 "
   ]
  },
  {
   "cell_type": "code",
   "execution_count": null,
   "metadata": {},
   "outputs": [],
   "source": [
    "commands = genome_to_command_list(best[0])\n",
    "%f commands --> \\ 這組是 vspeed 21"
   ]
  },
  {
   "cell_type": "code",
   "execution_count": 12,
   "metadata": {},
   "outputs": [
    {
     "name": "stdout",
     "output_type": "stream",
     "text": [
      "commands --> [[0, 0], [0, 0], [0, 0], [0, 0], [0, 0], [0, 0], [0, 0], [0, 0], [0, 0], [0, 0], [0, 0], [0, 0], [0, 1], [0, 1], [0, 2], [0, 3], [0, 4], [0, 4], [0, 4], [0, 4], [0, 4], [0, 4], [0, 4], [0, 4], [0, 4], [0, 4], [0, 4], [0, 4], [0, 4], [0, 4], [0, 4], [0, 4], [0, 4], [0, 4], [0, 4], [0, 4], [0, 4], [0, 4], [0, 4], [0, 4], [0, 4], [0, 4], [0, 4], [0, 4], [0, 4], [0, 4], [0, 4], [0, 4], [0, 4], [0, 4], [0, 4], [0, 4], [0, 4], [0, 4], [0, 4], [0, 4], [0, 4], [0, 4]] (<class 'list'>)\n"
     ]
    }
   ],
   "source": [
    "commands = genome_to_command_list(best[0])\n",
    "%f commands --> \\ 這組是 vspeed 40"
   ]
  },
  {
   "cell_type": "code",
   "execution_count": null,
   "metadata": {},
   "outputs": [],
   "source": []
  },
  {
   "cell_type": "code",
   "execution_count": null,
   "metadata": {},
   "outputs": [],
   "source": []
  }
 ],
 "metadata": {
  "kernelspec": {
   "display_name": "Python 3",
   "language": "python",
   "name": "python3"
  },
  "language_info": {
   "codemirror_mode": {
    "name": "ipython",
    "version": 3
   },
   "file_extension": ".py",
   "mimetype": "text/x-python",
   "name": "python",
   "nbconvert_exporter": "python",
   "pygments_lexer": "ipython3",
   "version": "3.7.8"
  }
 },
 "nbformat": 4,
 "nbformat_minor": 4
}
