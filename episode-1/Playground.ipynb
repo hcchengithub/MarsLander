{
 "cells": [
  {
   "cell_type": "markdown",
   "metadata": {
    "tags": []
   },
   "source": [
    "# [Mars Lander](https://www.codingame.com/ide/puzzle/mars-lander)\n",
    "\n",
    "My Ynote: \"Coding Games - Mars Lander\"<br>\n",
    "[Study \"Genetic Algorithm Implementation in Python\" with helps of peforth](https://github.com/hcchengithub/GeneticAlgorithmPython/blob/master/Genetic%20Algorithm%20Implementation%20in%20Python.ipynb)\n",
    "\n",
    "I didn't understand this game at first and that's a big concern to invest my time into developing the program. Thanks to [McKelian](https://www.codingame.com/forum/t/mars-the-game/756) and his [video game](http://www.mckelian.com/index.php/mars/choix) that mimics the Mars Lander puzzle.\n",
    "\n",
    "<img src=marslander.png>\n",
    "<img src=ControlPanel.png>\n",
    "\n",
    "### Goal \n",
    "- land on flat ground\n",
    "- land in a vertical position (tilt angle = 0°)\n",
    "- vertical speed must be limited ( ≤ 40m/s in absolute value)\n",
    "- horizontal speed must be limited ( ≤ 20m/s in absolute value)\n"
   ]
  },
  {
   "cell_type": "markdown",
   "metadata": {
    "tags": []
   },
   "source": [
    "# 調製 Simulator 成功了！"
   ]
  },
  {
   "cell_type": "markdown",
   "metadata": {
    "tags": []
   },
   "source": [
    "這套公式成功了。\n",
    "\n",
    "Initialize\n",
    "\n",
    "    thrust = 4    # the thrust command \n",
    "    rotate = 0    # the rotate command \n",
    "    a0 = 0        # absolute angle of the ship \n",
    "    pwr0 = 0      # 引擎出力\n",
    "    gravity = 3.711  # constant on Mars\n",
    "    p0 = v(2500, 2700)  # Initial position\n",
    "    s0 = v(0,0)     # Initial speed vector\n",
    "    g = angle2uv(-180) * gravity  # 重力向量\n",
    "    step = 0\n",
    "    \n",
    "Run\n",
    "\n",
    "    # f = m.a  因為 m 不變故當成 1 所以 f = a 也就是 force = g \n",
    "    # Duration t = 1 一步的時間都是 1 所以移動距離 s0 + (1/2)(force)(t^2) 變成 s0 + (1/2)*(force)\n",
    "    \n",
    "    step += 1\n",
    "\n",
    "    a1 = angle15(a0,rotate)  # 這一步的角度 \n",
    "    pwr1 = thrust_1(pwr0,thrust)  # 這一步的 引擎推力\n",
    "    force = g + angle2uv(a1) * pwr1   # force on the ship during this step \n",
    "    s1 = s0 + force  # 這一步將達到的速度 s0 + (delta time)(acceleration) \n",
    "                     # where delta time is 1, a is force as mentioned above.\n",
    "    p1 = p0 + s0 + (1/2)*(force)  # where \"s0 + (1/2)*(force)\" is position delta 這一步將到達的位置\n",
    "\n",
    "    %f step -->\n",
    "    %f a0 pwr0 -2 slice -->  # 上一步的 角度 與 引擎出力 0 1 2 3 4\n",
    "    %f a1 pwr1 -2 slice -->  # 作用在這一步上的 角度 與 引擎出力\n",
    "    %f force dup -->\n",
    "    %f ===>      # 重力 與 引擎出力 的合力向量\n",
    "    %f s1 ===>   # 這一步最後的速度\n",
    "    %f p1 ===>   # 這一步最後的位置\n",
    "\n",
    "    a0 = a1\n",
    "    pwr0 = pwr1\n",
    "    s0 = s1\n",
    "    p0 = p1"
   ]
  },
  {
   "cell_type": "markdown",
   "metadata": {
    "tags": []
   },
   "source": [
    "# 寫出評分 function \n",
    "\n",
    "- 到達地表時的 位置、速度、角度、油料 決定得分。\n"
   ]
  },
  {
   "cell_type": "markdown",
   "metadata": {},
   "source": [
    "# Laboratory"
   ]
  },
  {
   "cell_type": "code",
   "execution_count": 1,
   "metadata": {
    "tags": []
   },
   "outputs": [
    {
     "name": "stdout",
     "output_type": "stream",
     "text": [
      "reDef unknown\n",
      "reDef -->\n",
      "p e f o r t h    v1.24\n",
      "source code http://github.com/hcchengithub/peforth\n",
      "Type 'peforth.ok()' to enter forth interpreter, 'exit' to come back.\n",
      "\n",
      "version ==>\n",
      " 1.24 (<class 'str'>)\n"
     ]
    }
   ],
   "source": [
    "import peforth\n",
    "peforth.bps = [i for i in range(100)]  # 預設有這麼多 Breakpoint ID\n",
    "def bp(id=None,locals=None):\n",
    "    # Breakpoint ID 不能超過 peforth.bps 保留，超過的無效。\n",
    "    if id==None: \n",
    "        id = 0\n",
    "        prompt='bp> '\n",
    "    else:\n",
    "        prompt=\"{}>\".format(id)\n",
    "    if id in peforth.bps: peforth.push(locals).ok(prompt, cmd=\"to _locals_\")\n",
    "peforth.bp = bp\n",
    "peforth.push(bp).dictate(\"py: vm.bp=pop()\")  # [ ] 忘了 vm.bp 有何用途？\n",
    "peforth.dictate('''\n",
    "    \\ ------ breakpoint ------------------------------------------------------------\n",
    "    : bp .\" Usage: peforth.bp(11,locals())  # drop a breakpoint with ID=11\" cr ;\n",
    "    : bl // ( -- ) List all breakpoints\n",
    "        __main__ :> peforth.bps \n",
    "        <py>\n",
    "        bps = pop()\n",
    "        print('Disabled breakpoints:')\n",
    "        for i in range(len(bps)):\n",
    "            if not bps[i]: \n",
    "                print(i, end=' ')\n",
    "        print(); print('Enabled breakpoints:')\n",
    "        count = 0\n",
    "        for i in range(len(bps)):\n",
    "            if bps[i]: \n",
    "                print(i, end=' ')\n",
    "                count += 1\n",
    "        print(); print('Enabled breakpoints count: {}/{}'.format(count,len(bps)))\n",
    "        </py> cr ;\n",
    "        /// Breakpoint commands:\n",
    "        ///\t  bl  - list all breakpoints (capital BL is white space) \n",
    "        ///\t  be  - enable breakpoints, e.g. be 1 2 3 \n",
    "        ///\t  bd  - disable breakpoints, e.g. bd 1 2 3 \n",
    "        ///\t  be* - enable all breakpoints\n",
    "        ///\t  bd* - disable all breakpoints \n",
    "        /// Also: \n",
    "        ///   for i in [11,22,33]: peforth.bps[i]=0\t # disable breakpoints 11,22,33 \n",
    "        ///   for i in [11,22,33]: peforth.bps[i]=i\t # enable  breakpoints 11,22,33 \n",
    "    \n",
    "    : bd // ( <1 2 3 4...> -- ) Disable listed breakpoints \n",
    "        CR word ( line ) __main__ :> peforth.bps ( line bps )\n",
    "        <py>\n",
    "        line, bps = pop(1), pop(0)\n",
    "        points = map(int, line.split(' '))\n",
    "        for i in points: bps[i] = 0\n",
    "        </py> ; \n",
    "        ' bl :> comment last :: comment=pop(1)\n",
    "    \n",
    "    : be // ( <1 2 3 4...> -- ) Enable listed breakpoints \n",
    "        CR word ( line ) __main__ :> peforth.bps ( line bps ) \n",
    "        <py>\n",
    "        line, bps = pop(1), pop(0)\n",
    "        points = map(int, line.split(' '))\n",
    "        for i in points: bps[i] = i\n",
    "        </py> ; \n",
    "        ' bl :> comment last :: comment=pop(1)\n",
    "    \n",
    "    : bd* // ( -- ) Disable all breakpoints \n",
    "        __main__ :> peforth.bps\t ( bps ) \n",
    "        <py>\n",
    "        bps = pop()\n",
    "        for i in range(len(bps)): bps[i] = 0\n",
    "        </py> ;\n",
    "        ' bl :> comment last :: comment=pop(1)\n",
    "    \n",
    "    : be* // ( -- ) Enable all breakpoints \n",
    "        __main__ :> peforth.bps\t ( bps ) \n",
    "        <py>\n",
    "        bps = pop()\n",
    "        for i in range(len(bps)): bps[i] = i\n",
    "        </py> ;\n",
    "        ' bl :> comment last :: comment=pop(1)\n",
    "    \\ ------ xtack ------------------------------------------------------------\n",
    "    [] value xstack xstack py: vm.xstack=pop() // ( -- array ) The xstack. 掛進 vm 就可以直接以 py> xstack 取用。\n",
    "    : x@ xstack :> [-1] ; // ( -- n ) Get TOS of the xstack\n",
    "    : x> xstack :> pop() ; // ( -- n ) Pop the xstack\n",
    "    : >x xstack :: append(pop()) ; // ( n -- ) Push n into the xstack\n",
    "    : .sx xstack . ; // ( -- ) List xstack \n",
    "    : xdrop x> drop ; // ( X: ... a -- X: ... ) drop xstack \n",
    "    : xdropall [] to xstack ; // ( X: ... -- X: empty ) clear xstack \n",
    "    ''')\n",
    "%f version ==>\n"
   ]
  },
  {
   "cell_type": "code",
   "execution_count": 2,
   "metadata": {},
   "outputs": [
    {
     "name": "stdout",
     "output_type": "stream",
     "text": [
      "p e f o r t h    v1.24\n",
      "source code http://github.com/hcchengithub/peforth\n",
      "Type 'peforth.ok()' to enter forth interpreter, 'exit' to come back.\n",
      "\n"
     ]
    }
   ],
   "source": [
    "import numpy as np\n",
    "import re, math, random, pdb, json \n",
    "from itertools import combinations  # combinations 數學「排列組合」中的「組合」\n",
    "%f version drop"
   ]
  },
  {
   "cell_type": "markdown",
   "metadata": {},
   "source": [
    "### Read log file "
   ]
  },
  {
   "cell_type": "code",
   "execution_count": 40,
   "metadata": {
    "collapsed": true,
    "jupyter": {
     "outputs_hidden": true
    },
    "scrolled": true,
    "tags": []
   },
   "outputs": [
    {
     "data": {
      "text/plain": [
       "[{'step': 0,\n",
       "  'length': 91,\n",
       "  'x': 2500,\n",
       "  'y': 2500,\n",
       "  'hspeed': 0,\n",
       "  'vspeed': 0,\n",
       "  'fuel': 500,\n",
       "  'angle': 0,\n",
       "  'power': 0,\n",
       "  'cmd': (-99, -99)},\n",
       " {'step': 1,\n",
       "  'length': 91,\n",
       "  'x': 2500,\n",
       "  'y': 2498,\n",
       "  'hspeed': 0,\n",
       "  'vspeed': -4,\n",
       "  'fuel': 500,\n",
       "  'angle': 0,\n",
       "  'power': 0,\n",
       "  'cmd': (0, 0)},\n",
       " {'step': 2,\n",
       "  'length': 91,\n",
       "  'x': 2500,\n",
       "  'y': 2493,\n",
       "  'hspeed': 0,\n",
       "  'vspeed': -7,\n",
       "  'fuel': 500,\n",
       "  'angle': 0,\n",
       "  'power': 0,\n",
       "  'cmd': (0, 0)},\n",
       " {'step': 3,\n",
       "  'length': 91,\n",
       "  'x': 2500,\n",
       "  'y': 2483,\n",
       "  'hspeed': 0,\n",
       "  'vspeed': -11,\n",
       "  'fuel': 500,\n",
       "  'angle': 0,\n",
       "  'power': 0,\n",
       "  'cmd': (0, 0)},\n",
       " {'step': 4,\n",
       "  'length': 91,\n",
       "  'x': 2500,\n",
       "  'y': 2470,\n",
       "  'hspeed': 0,\n",
       "  'vspeed': -15,\n",
       "  'fuel': 500,\n",
       "  'angle': 0,\n",
       "  'power': 0,\n",
       "  'cmd': (0, 0)},\n",
       " {'step': 5,\n",
       "  'length': 91,\n",
       "  'x': 2500,\n",
       "  'y': 2454,\n",
       "  'hspeed': 0,\n",
       "  'vspeed': -19,\n",
       "  'fuel': 500,\n",
       "  'angle': 0,\n",
       "  'power': 0,\n",
       "  'cmd': (0, 0)},\n",
       " {'step': 6,\n",
       "  'length': 91,\n",
       "  'x': 2500,\n",
       "  'y': 2433,\n",
       "  'hspeed': 0,\n",
       "  'vspeed': -22,\n",
       "  'fuel': 500,\n",
       "  'angle': 0,\n",
       "  'power': 0,\n",
       "  'cmd': (0, 0)},\n",
       " {'step': 7,\n",
       "  'length': 91,\n",
       "  'x': 2500,\n",
       "  'y': 2409,\n",
       "  'hspeed': 0,\n",
       "  'vspeed': -26,\n",
       "  'fuel': 500,\n",
       "  'angle': 0,\n",
       "  'power': 0,\n",
       "  'cmd': (0, 0)},\n",
       " {'step': 8,\n",
       "  'length': 91,\n",
       "  'x': 2500,\n",
       "  'y': 2381,\n",
       "  'hspeed': 0,\n",
       "  'vspeed': -30,\n",
       "  'fuel': 500,\n",
       "  'angle': 0,\n",
       "  'power': 0,\n",
       "  'cmd': (0, 0)},\n",
       " {'step': 9,\n",
       "  'length': 91,\n",
       "  'x': 2500,\n",
       "  'y': 2350,\n",
       "  'hspeed': 0,\n",
       "  'vspeed': -33,\n",
       "  'fuel': 500,\n",
       "  'angle': 0,\n",
       "  'power': 0,\n",
       "  'cmd': (0, 0)},\n",
       " {'step': 10,\n",
       "  'length': 91,\n",
       "  'x': 2500,\n",
       "  'y': 2315,\n",
       "  'hspeed': 0,\n",
       "  'vspeed': -36,\n",
       "  'fuel': 499,\n",
       "  'angle': 0,\n",
       "  'power': 1,\n",
       "  'cmd': (0, 4)},\n",
       " {'step': 11,\n",
       "  'length': 91,\n",
       "  'x': 2500,\n",
       "  'y': 2278,\n",
       "  'hspeed': 0,\n",
       "  'vspeed': -38,\n",
       "  'fuel': 497,\n",
       "  'angle': 0,\n",
       "  'power': 2,\n",
       "  'cmd': (0, 4)},\n",
       " {'step': 12,\n",
       "  'length': 91,\n",
       "  'x': 2500,\n",
       "  'y': 2240,\n",
       "  'hspeed': 0,\n",
       "  'vspeed': -39,\n",
       "  'fuel': 494,\n",
       "  'angle': 0,\n",
       "  'power': 3,\n",
       "  'cmd': (0, 4)},\n",
       " {'step': 13,\n",
       "  'length': 91,\n",
       "  'x': 2500,\n",
       "  'y': 2201,\n",
       "  'hspeed': 0,\n",
       "  'vspeed': -38,\n",
       "  'fuel': 490,\n",
       "  'angle': 0,\n",
       "  'power': 4,\n",
       "  'cmd': (0, 4)},\n",
       " {'step': 14,\n",
       "  'length': 91,\n",
       "  'x': 2500,\n",
       "  'y': 2163,\n",
       "  'hspeed': 0,\n",
       "  'vspeed': -38,\n",
       "  'fuel': 486,\n",
       "  'angle': 0,\n",
       "  'power': 4,\n",
       "  'cmd': (0, 4)},\n",
       " {'step': 15,\n",
       "  'length': 91,\n",
       "  'x': 2500,\n",
       "  'y': 2126,\n",
       "  'hspeed': 0,\n",
       "  'vspeed': -38,\n",
       "  'fuel': 482,\n",
       "  'angle': 0,\n",
       "  'power': 4,\n",
       "  'cmd': (0, 4)},\n",
       " {'step': 16,\n",
       "  'length': 91,\n",
       "  'x': 2500,\n",
       "  'y': 2088,\n",
       "  'hspeed': 0,\n",
       "  'vspeed': -37,\n",
       "  'fuel': 478,\n",
       "  'angle': 0,\n",
       "  'power': 4,\n",
       "  'cmd': (0, 4)},\n",
       " {'step': 17,\n",
       "  'length': 91,\n",
       "  'x': 2500,\n",
       "  'y': 2051,\n",
       "  'hspeed': 0,\n",
       "  'vspeed': -37,\n",
       "  'fuel': 474,\n",
       "  'angle': 0,\n",
       "  'power': 4,\n",
       "  'cmd': (0, 4)},\n",
       " {'step': 18,\n",
       "  'length': 91,\n",
       "  'x': 2500,\n",
       "  'y': 2014,\n",
       "  'hspeed': 0,\n",
       "  'vspeed': -37,\n",
       "  'fuel': 470,\n",
       "  'angle': 0,\n",
       "  'power': 4,\n",
       "  'cmd': (0, 4)},\n",
       " {'step': 19,\n",
       "  'length': 91,\n",
       "  'x': 2500,\n",
       "  'y': 1977,\n",
       "  'hspeed': 0,\n",
       "  'vspeed': -37,\n",
       "  'fuel': 466,\n",
       "  'angle': 0,\n",
       "  'power': 4,\n",
       "  'cmd': (0, 4)},\n",
       " {'step': 20,\n",
       "  'length': 91,\n",
       "  'x': 2500,\n",
       "  'y': 1941,\n",
       "  'hspeed': 0,\n",
       "  'vspeed': -36,\n",
       "  'fuel': 462,\n",
       "  'angle': 0,\n",
       "  'power': 4,\n",
       "  'cmd': (0, 4)},\n",
       " {'step': 21,\n",
       "  'length': 91,\n",
       "  'x': 2500,\n",
       "  'y': 1905,\n",
       "  'hspeed': 0,\n",
       "  'vspeed': -36,\n",
       "  'fuel': 458,\n",
       "  'angle': 0,\n",
       "  'power': 4,\n",
       "  'cmd': (0, 4)},\n",
       " {'step': 22,\n",
       "  'length': 91,\n",
       "  'x': 2500,\n",
       "  'y': 1869,\n",
       "  'hspeed': 0,\n",
       "  'vspeed': -36,\n",
       "  'fuel': 454,\n",
       "  'angle': 0,\n",
       "  'power': 4,\n",
       "  'cmd': (0, 4)},\n",
       " {'step': 23,\n",
       "  'length': 91,\n",
       "  'x': 2500,\n",
       "  'y': 1833,\n",
       "  'hspeed': 0,\n",
       "  'vspeed': -35,\n",
       "  'fuel': 450,\n",
       "  'angle': 0,\n",
       "  'power': 4,\n",
       "  'cmd': (0, 4)},\n",
       " {'step': 24,\n",
       "  'length': 91,\n",
       "  'x': 2500,\n",
       "  'y': 1798,\n",
       "  'hspeed': 0,\n",
       "  'vspeed': -35,\n",
       "  'fuel': 446,\n",
       "  'angle': 0,\n",
       "  'power': 4,\n",
       "  'cmd': (0, 4)},\n",
       " {'step': 25,\n",
       "  'length': 91,\n",
       "  'x': 2500,\n",
       "  'y': 1763,\n",
       "  'hspeed': 0,\n",
       "  'vspeed': -35,\n",
       "  'fuel': 442,\n",
       "  'angle': 0,\n",
       "  'power': 4,\n",
       "  'cmd': (0, 4)},\n",
       " {'step': 26,\n",
       "  'length': 91,\n",
       "  'x': 2500,\n",
       "  'y': 1729,\n",
       "  'hspeed': 0,\n",
       "  'vspeed': -34,\n",
       "  'fuel': 438,\n",
       "  'angle': 0,\n",
       "  'power': 4,\n",
       "  'cmd': (0, 4)},\n",
       " {'step': 27,\n",
       "  'length': 91,\n",
       "  'x': 2500,\n",
       "  'y': 1694,\n",
       "  'hspeed': 0,\n",
       "  'vspeed': -34,\n",
       "  'fuel': 434,\n",
       "  'angle': 0,\n",
       "  'power': 4,\n",
       "  'cmd': (0, 4)},\n",
       " {'step': 28,\n",
       "  'length': 91,\n",
       "  'x': 2500,\n",
       "  'y': 1660,\n",
       "  'hspeed': 0,\n",
       "  'vspeed': -34,\n",
       "  'fuel': 430,\n",
       "  'angle': 0,\n",
       "  'power': 4,\n",
       "  'cmd': (0, 4)},\n",
       " {'step': 29,\n",
       "  'length': 91,\n",
       "  'x': 2500,\n",
       "  'y': 1627,\n",
       "  'hspeed': 0,\n",
       "  'vspeed': -34,\n",
       "  'fuel': 426,\n",
       "  'angle': 0,\n",
       "  'power': 4,\n",
       "  'cmd': (0, 4)},\n",
       " {'step': 30,\n",
       "  'length': 91,\n",
       "  'x': 2500,\n",
       "  'y': 1593,\n",
       "  'hspeed': 0,\n",
       "  'vspeed': -33,\n",
       "  'fuel': 422,\n",
       "  'angle': 0,\n",
       "  'power': 4,\n",
       "  'cmd': (0, 4)},\n",
       " {'step': 31,\n",
       "  'length': 91,\n",
       "  'x': 2500,\n",
       "  'y': 1560,\n",
       "  'hspeed': 0,\n",
       "  'vspeed': -33,\n",
       "  'fuel': 418,\n",
       "  'angle': 0,\n",
       "  'power': 4,\n",
       "  'cmd': (0, 4)},\n",
       " {'step': 32,\n",
       "  'length': 91,\n",
       "  'x': 2500,\n",
       "  'y': 1527,\n",
       "  'hspeed': 0,\n",
       "  'vspeed': -33,\n",
       "  'fuel': 414,\n",
       "  'angle': 0,\n",
       "  'power': 4,\n",
       "  'cmd': (0, 4)},\n",
       " {'step': 33,\n",
       "  'length': 91,\n",
       "  'x': 2500,\n",
       "  'y': 1494,\n",
       "  'hspeed': 0,\n",
       "  'vspeed': -32,\n",
       "  'fuel': 410,\n",
       "  'angle': 0,\n",
       "  'power': 4,\n",
       "  'cmd': (0, 4)},\n",
       " {'step': 34,\n",
       "  'length': 91,\n",
       "  'x': 2500,\n",
       "  'y': 1462,\n",
       "  'hspeed': 0,\n",
       "  'vspeed': -32,\n",
       "  'fuel': 406,\n",
       "  'angle': 0,\n",
       "  'power': 4,\n",
       "  'cmd': (0, 4)},\n",
       " {'step': 35,\n",
       "  'length': 91,\n",
       "  'x': 2500,\n",
       "  'y': 1430,\n",
       "  'hspeed': 0,\n",
       "  'vspeed': -32,\n",
       "  'fuel': 402,\n",
       "  'angle': 0,\n",
       "  'power': 4,\n",
       "  'cmd': (0, 4)},\n",
       " {'step': 36,\n",
       "  'length': 91,\n",
       "  'x': 2500,\n",
       "  'y': 1398,\n",
       "  'hspeed': 0,\n",
       "  'vspeed': -32,\n",
       "  'fuel': 398,\n",
       "  'angle': 0,\n",
       "  'power': 4,\n",
       "  'cmd': (0, 4)},\n",
       " {'step': 37,\n",
       "  'length': 91,\n",
       "  'x': 2500,\n",
       "  'y': 1367,\n",
       "  'hspeed': 0,\n",
       "  'vspeed': -31,\n",
       "  'fuel': 394,\n",
       "  'angle': 0,\n",
       "  'power': 4,\n",
       "  'cmd': (0, 4)},\n",
       " {'step': 38,\n",
       "  'length': 91,\n",
       "  'x': 2500,\n",
       "  'y': 1336,\n",
       "  'hspeed': 0,\n",
       "  'vspeed': -31,\n",
       "  'fuel': 390,\n",
       "  'angle': 0,\n",
       "  'power': 4,\n",
       "  'cmd': (0, 4)},\n",
       " {'step': 39,\n",
       "  'length': 91,\n",
       "  'x': 2500,\n",
       "  'y': 1305,\n",
       "  'hspeed': 0,\n",
       "  'vspeed': -31,\n",
       "  'fuel': 386,\n",
       "  'angle': 0,\n",
       "  'power': 4,\n",
       "  'cmd': (0, 4)},\n",
       " {'step': 40,\n",
       "  'length': 91,\n",
       "  'x': 2500,\n",
       "  'y': 1274,\n",
       "  'hspeed': 0,\n",
       "  'vspeed': -30,\n",
       "  'fuel': 382,\n",
       "  'angle': 0,\n",
       "  'power': 4,\n",
       "  'cmd': (0, 4)},\n",
       " {'step': 41,\n",
       "  'length': 91,\n",
       "  'x': 2500,\n",
       "  'y': 1244,\n",
       "  'hspeed': 0,\n",
       "  'vspeed': -30,\n",
       "  'fuel': 378,\n",
       "  'angle': 0,\n",
       "  'power': 4,\n",
       "  'cmd': (0, 4)},\n",
       " {'step': 42,\n",
       "  'length': 91,\n",
       "  'x': 2500,\n",
       "  'y': 1214,\n",
       "  'hspeed': 0,\n",
       "  'vspeed': -30,\n",
       "  'fuel': 374,\n",
       "  'angle': 0,\n",
       "  'power': 4,\n",
       "  'cmd': (0, 4)},\n",
       " {'step': 43,\n",
       "  'length': 91,\n",
       "  'x': 2500,\n",
       "  'y': 1184,\n",
       "  'hspeed': 0,\n",
       "  'vspeed': -30,\n",
       "  'fuel': 370,\n",
       "  'angle': 0,\n",
       "  'power': 4,\n",
       "  'cmd': (0, 4)},\n",
       " {'step': 44,\n",
       "  'length': 91,\n",
       "  'x': 2500,\n",
       "  'y': 1155,\n",
       "  'hspeed': 0,\n",
       "  'vspeed': -29,\n",
       "  'fuel': 366,\n",
       "  'angle': 0,\n",
       "  'power': 4,\n",
       "  'cmd': (0, 4)},\n",
       " {'step': 45,\n",
       "  'length': 91,\n",
       "  'x': 2500,\n",
       "  'y': 1126,\n",
       "  'hspeed': 0,\n",
       "  'vspeed': -29,\n",
       "  'fuel': 362,\n",
       "  'angle': 0,\n",
       "  'power': 4,\n",
       "  'cmd': (0, 4)},\n",
       " {'step': 46,\n",
       "  'length': 91,\n",
       "  'x': 2500,\n",
       "  'y': 1097,\n",
       "  'hspeed': 0,\n",
       "  'vspeed': -29,\n",
       "  'fuel': 358,\n",
       "  'angle': 0,\n",
       "  'power': 4,\n",
       "  'cmd': (0, 4)},\n",
       " {'step': 47,\n",
       "  'length': 91,\n",
       "  'x': 2500,\n",
       "  'y': 1068,\n",
       "  'hspeed': 0,\n",
       "  'vspeed': -28,\n",
       "  'fuel': 354,\n",
       "  'angle': 0,\n",
       "  'power': 4,\n",
       "  'cmd': (0, 4)},\n",
       " {'step': 48,\n",
       "  'length': 91,\n",
       "  'x': 2500,\n",
       "  'y': 1040,\n",
       "  'hspeed': 0,\n",
       "  'vspeed': -28,\n",
       "  'fuel': 350,\n",
       "  'angle': 0,\n",
       "  'power': 4,\n",
       "  'cmd': (0, 4)},\n",
       " {'step': 49,\n",
       "  'length': 91,\n",
       "  'x': 2500,\n",
       "  'y': 1012,\n",
       "  'hspeed': 0,\n",
       "  'vspeed': -28,\n",
       "  'fuel': 346,\n",
       "  'angle': 0,\n",
       "  'power': 4,\n",
       "  'cmd': (0, 4)},\n",
       " {'step': 50,\n",
       "  'length': 91,\n",
       "  'x': 2500,\n",
       "  'y': 984,\n",
       "  'hspeed': 0,\n",
       "  'vspeed': -28,\n",
       "  'fuel': 342,\n",
       "  'angle': 0,\n",
       "  'power': 4,\n",
       "  'cmd': (0, 4)},\n",
       " {'step': 51,\n",
       "  'length': 91,\n",
       "  'x': 2500,\n",
       "  'y': 957,\n",
       "  'hspeed': 0,\n",
       "  'vspeed': -27,\n",
       "  'fuel': 338,\n",
       "  'angle': 0,\n",
       "  'power': 4,\n",
       "  'cmd': (0, 4)},\n",
       " {'step': 52,\n",
       "  'length': 91,\n",
       "  'x': 2500,\n",
       "  'y': 930,\n",
       "  'hspeed': 0,\n",
       "  'vspeed': -27,\n",
       "  'fuel': 334,\n",
       "  'angle': 0,\n",
       "  'power': 4,\n",
       "  'cmd': (0, 4)},\n",
       " {'step': 53,\n",
       "  'length': 91,\n",
       "  'x': 2500,\n",
       "  'y': 903,\n",
       "  'hspeed': 0,\n",
       "  'vspeed': -27,\n",
       "  'fuel': 330,\n",
       "  'angle': 0,\n",
       "  'power': 4,\n",
       "  'cmd': (0, 4)},\n",
       " {'step': 54,\n",
       "  'length': 91,\n",
       "  'x': 2500,\n",
       "  'y': 876,\n",
       "  'hspeed': 0,\n",
       "  'vspeed': -26,\n",
       "  'fuel': 326,\n",
       "  'angle': 0,\n",
       "  'power': 4,\n",
       "  'cmd': (0, 4)},\n",
       " {'step': 55,\n",
       "  'length': 91,\n",
       "  'x': 2500,\n",
       "  'y': 850,\n",
       "  'hspeed': 0,\n",
       "  'vspeed': -26,\n",
       "  'fuel': 322,\n",
       "  'angle': 0,\n",
       "  'power': 4,\n",
       "  'cmd': (0, 4)},\n",
       " {'step': 56,\n",
       "  'length': 91,\n",
       "  'x': 2500,\n",
       "  'y': 824,\n",
       "  'hspeed': 0,\n",
       "  'vspeed': -26,\n",
       "  'fuel': 318,\n",
       "  'angle': 0,\n",
       "  'power': 4,\n",
       "  'cmd': (0, 4)},\n",
       " {'step': 57,\n",
       "  'length': 91,\n",
       "  'x': 2500,\n",
       "  'y': 798,\n",
       "  'hspeed': 0,\n",
       "  'vspeed': -26,\n",
       "  'fuel': 314,\n",
       "  'angle': 0,\n",
       "  'power': 4,\n",
       "  'cmd': (0, 4)},\n",
       " {'step': 58,\n",
       "  'length': 91,\n",
       "  'x': 2500,\n",
       "  'y': 773,\n",
       "  'hspeed': 0,\n",
       "  'vspeed': -25,\n",
       "  'fuel': 310,\n",
       "  'angle': 0,\n",
       "  'power': 4,\n",
       "  'cmd': (0, 4)},\n",
       " {'step': 59,\n",
       "  'length': 91,\n",
       "  'x': 2500,\n",
       "  'y': 748,\n",
       "  'hspeed': 0,\n",
       "  'vspeed': -25,\n",
       "  'fuel': 306,\n",
       "  'angle': 0,\n",
       "  'power': 4,\n",
       "  'cmd': (0, 4)},\n",
       " {'step': 60,\n",
       "  'length': 91,\n",
       "  'x': 2500,\n",
       "  'y': 723,\n",
       "  'hspeed': 0,\n",
       "  'vspeed': -25,\n",
       "  'fuel': 302,\n",
       "  'angle': 0,\n",
       "  'power': 4,\n",
       "  'cmd': (0, 4)},\n",
       " {'step': 61,\n",
       "  'length': 91,\n",
       "  'x': 2500,\n",
       "  'y': 699,\n",
       "  'hspeed': 0,\n",
       "  'vspeed': -24,\n",
       "  'fuel': 298,\n",
       "  'angle': 0,\n",
       "  'power': 4,\n",
       "  'cmd': (0, 4)},\n",
       " {'step': 62,\n",
       "  'length': 91,\n",
       "  'x': 2500,\n",
       "  'y': 674,\n",
       "  'hspeed': 0,\n",
       "  'vspeed': -24,\n",
       "  'fuel': 294,\n",
       "  'angle': 0,\n",
       "  'power': 4,\n",
       "  'cmd': (0, 4)},\n",
       " {'step': 63,\n",
       "  'length': 91,\n",
       "  'x': 2500,\n",
       "  'y': 651,\n",
       "  'hspeed': 0,\n",
       "  'vspeed': -24,\n",
       "  'fuel': 290,\n",
       "  'angle': 0,\n",
       "  'power': 4,\n",
       "  'cmd': (0, 4)},\n",
       " {'step': 64,\n",
       "  'length': 91,\n",
       "  'x': 2500,\n",
       "  'y': 627,\n",
       "  'hspeed': 0,\n",
       "  'vspeed': -24,\n",
       "  'fuel': 286,\n",
       "  'angle': 0,\n",
       "  'power': 4,\n",
       "  'cmd': (0, 4)},\n",
       " {'step': 65,\n",
       "  'length': 91,\n",
       "  'x': 2500,\n",
       "  'y': 604,\n",
       "  'hspeed': 0,\n",
       "  'vspeed': -23,\n",
       "  'fuel': 282,\n",
       "  'angle': 0,\n",
       "  'power': 4,\n",
       "  'cmd': (0, 4)},\n",
       " {'step': 66,\n",
       "  'length': 91,\n",
       "  'x': 2500,\n",
       "  'y': 580,\n",
       "  'hspeed': 0,\n",
       "  'vspeed': -23,\n",
       "  'fuel': 278,\n",
       "  'angle': 0,\n",
       "  'power': 4,\n",
       "  'cmd': (0, 4)},\n",
       " {'step': 67,\n",
       "  'length': 91,\n",
       "  'x': 2500,\n",
       "  'y': 558,\n",
       "  'hspeed': 0,\n",
       "  'vspeed': -23,\n",
       "  'fuel': 274,\n",
       "  'angle': 0,\n",
       "  'power': 4,\n",
       "  'cmd': (0, 4)},\n",
       " {'step': 68,\n",
       "  'length': 91,\n",
       "  'x': 2500,\n",
       "  'y': 535,\n",
       "  'hspeed': 0,\n",
       "  'vspeed': -22,\n",
       "  'fuel': 270,\n",
       "  'angle': 0,\n",
       "  'power': 4,\n",
       "  'cmd': (0, 4)},\n",
       " {'step': 69,\n",
       "  'length': 91,\n",
       "  'x': 2500,\n",
       "  'y': 513,\n",
       "  'hspeed': 0,\n",
       "  'vspeed': -22,\n",
       "  'fuel': 266,\n",
       "  'angle': 0,\n",
       "  'power': 4,\n",
       "  'cmd': (0, 4)},\n",
       " {'step': 70,\n",
       "  'length': 91,\n",
       "  'x': 2500,\n",
       "  'y': 491,\n",
       "  'hspeed': 0,\n",
       "  'vspeed': -22,\n",
       "  'fuel': 262,\n",
       "  'angle': 0,\n",
       "  'power': 4,\n",
       "  'cmd': (0, 4)},\n",
       " {'step': 71,\n",
       "  'length': 91,\n",
       "  'x': 2500,\n",
       "  'y': 469,\n",
       "  'hspeed': 0,\n",
       "  'vspeed': -21,\n",
       "  'fuel': 258,\n",
       "  'angle': 0,\n",
       "  'power': 4,\n",
       "  'cmd': (0, 4)},\n",
       " {'step': 72,\n",
       "  'length': 91,\n",
       "  'x': 2500,\n",
       "  'y': 448,\n",
       "  'hspeed': 0,\n",
       "  'vspeed': -21,\n",
       "  'fuel': 254,\n",
       "  'angle': 0,\n",
       "  'power': 4,\n",
       "  'cmd': (0, 4)},\n",
       " {'step': 73,\n",
       "  'length': 91,\n",
       "  'x': 2500,\n",
       "  'y': 427,\n",
       "  'hspeed': 0,\n",
       "  'vspeed': -21,\n",
       "  'fuel': 250,\n",
       "  'angle': 0,\n",
       "  'power': 4,\n",
       "  'cmd': (0, 4)},\n",
       " {'step': 74,\n",
       "  'length': 91,\n",
       "  'x': 2500,\n",
       "  'y': 406,\n",
       "  'hspeed': 0,\n",
       "  'vspeed': -21,\n",
       "  'fuel': 246,\n",
       "  'angle': 0,\n",
       "  'power': 4,\n",
       "  'cmd': (0, 4)},\n",
       " {'step': 75,\n",
       "  'length': 91,\n",
       "  'x': 2500,\n",
       "  'y': 386,\n",
       "  'hspeed': 0,\n",
       "  'vspeed': -20,\n",
       "  'fuel': 242,\n",
       "  'angle': 0,\n",
       "  'power': 4,\n",
       "  'cmd': (0, 4)},\n",
       " {'step': 76,\n",
       "  'length': 91,\n",
       "  'x': 2500,\n",
       "  'y': 366,\n",
       "  'hspeed': 0,\n",
       "  'vspeed': -20,\n",
       "  'fuel': 238,\n",
       "  'angle': 0,\n",
       "  'power': 4,\n",
       "  'cmd': (0, 4)},\n",
       " {'step': 77,\n",
       "  'length': 91,\n",
       "  'x': 2500,\n",
       "  'y': 346,\n",
       "  'hspeed': 0,\n",
       "  'vspeed': -20,\n",
       "  'fuel': 234,\n",
       "  'angle': 0,\n",
       "  'power': 4,\n",
       "  'cmd': (0, 4)},\n",
       " {'step': 78,\n",
       "  'length': 91,\n",
       "  'x': 2500,\n",
       "  'y': 326,\n",
       "  'hspeed': 0,\n",
       "  'vspeed': -19,\n",
       "  'fuel': 230,\n",
       "  'angle': 0,\n",
       "  'power': 4,\n",
       "  'cmd': (0, 4)},\n",
       " {'step': 79,\n",
       "  'length': 91,\n",
       "  'x': 2500,\n",
       "  'y': 307,\n",
       "  'hspeed': 0,\n",
       "  'vspeed': -19,\n",
       "  'fuel': 226,\n",
       "  'angle': 0,\n",
       "  'power': 4,\n",
       "  'cmd': (0, 4)},\n",
       " {'step': 80,\n",
       "  'length': 91,\n",
       "  'x': 2500,\n",
       "  'y': 288,\n",
       "  'hspeed': 0,\n",
       "  'vspeed': -19,\n",
       "  'fuel': 222,\n",
       "  'angle': 0,\n",
       "  'power': 4,\n",
       "  'cmd': (0, 4)},\n",
       " {'step': 81,\n",
       "  'length': 91,\n",
       "  'x': 2500,\n",
       "  'y': 269,\n",
       "  'hspeed': 0,\n",
       "  'vspeed': -19,\n",
       "  'fuel': 218,\n",
       "  'angle': 0,\n",
       "  'power': 4,\n",
       "  'cmd': (0, 4)},\n",
       " {'step': 82,\n",
       "  'length': 91,\n",
       "  'x': 2500,\n",
       "  'y': 251,\n",
       "  'hspeed': 0,\n",
       "  'vspeed': -18,\n",
       "  'fuel': 214,\n",
       "  'angle': 0,\n",
       "  'power': 4,\n",
       "  'cmd': (0, 4)},\n",
       " {'step': 83,\n",
       "  'length': 91,\n",
       "  'x': 2500,\n",
       "  'y': 232,\n",
       "  'hspeed': 0,\n",
       "  'vspeed': -18,\n",
       "  'fuel': 210,\n",
       "  'angle': 0,\n",
       "  'power': 4,\n",
       "  'cmd': (0, 4)},\n",
       " {'step': 84,\n",
       "  'length': 91,\n",
       "  'x': 2500,\n",
       "  'y': 215,\n",
       "  'hspeed': 0,\n",
       "  'vspeed': -18,\n",
       "  'fuel': 206,\n",
       "  'angle': 0,\n",
       "  'power': 4,\n",
       "  'cmd': (0, 4)},\n",
       " {'step': 85,\n",
       "  'length': 91,\n",
       "  'x': 2500,\n",
       "  'y': 197,\n",
       "  'hspeed': 0,\n",
       "  'vspeed': -17,\n",
       "  'fuel': 202,\n",
       "  'angle': 0,\n",
       "  'power': 4,\n",
       "  'cmd': (0, 4)},\n",
       " {'step': 86,\n",
       "  'length': 91,\n",
       "  'x': 2500,\n",
       "  'y': 180,\n",
       "  'hspeed': 0,\n",
       "  'vspeed': -17,\n",
       "  'fuel': 198,\n",
       "  'angle': 0,\n",
       "  'power': 4,\n",
       "  'cmd': (0, 4)},\n",
       " {'step': 87,\n",
       "  'length': 91,\n",
       "  'x': 2500,\n",
       "  'y': 163,\n",
       "  'hspeed': 0,\n",
       "  'vspeed': -17,\n",
       "  'fuel': 194,\n",
       "  'angle': 0,\n",
       "  'power': 4,\n",
       "  'cmd': (0, 4)},\n",
       " {'step': 88,\n",
       "  'length': 91,\n",
       "  'x': 2500,\n",
       "  'y': 146,\n",
       "  'hspeed': 0,\n",
       "  'vspeed': -17,\n",
       "  'fuel': 190,\n",
       "  'angle': 0,\n",
       "  'power': 4,\n",
       "  'cmd': (0, 4)},\n",
       " {'step': 89,\n",
       "  'length': 91,\n",
       "  'x': 2500,\n",
       "  'y': 130,\n",
       "  'hspeed': 0,\n",
       "  'vspeed': -16,\n",
       "  'fuel': 186,\n",
       "  'angle': 0,\n",
       "  'power': 4,\n",
       "  'cmd': (0, 4)},\n",
       " {'step': 90,\n",
       "  'length': 91,\n",
       "  'x': 2500,\n",
       "  'y': 113,\n",
       "  'hspeed': 0,\n",
       "  'vspeed': -16,\n",
       "  'fuel': 182,\n",
       "  'angle': 0,\n",
       "  'power': 4,\n",
       "  'cmd': (0, 4)},\n",
       " {'step': 91,\n",
       "  'length': 91,\n",
       "  'x': 2500,\n",
       "  'y': 100,\n",
       "  'hspeed': 0,\n",
       "  'vspeed': -16,\n",
       "  'fuel': 178,\n",
       "  'angle': 0,\n",
       "  'power': 4,\n",
       "  'cmd': (0, 4)}]"
      ]
     },
     "execution_count": 40,
     "metadata": {},
     "output_type": "execute_result"
    }
   ],
   "source": [
    "# Method 1, from another notebook\n",
    "%store -r log\n",
    "log"
   ]
  },
  {
   "cell_type": "code",
   "execution_count": 5,
   "metadata": {},
   "outputs": [],
   "source": [
    "# Method 2, Read back the json file\n",
    "%f \\ s\" actual free fall.json\" readTextFile py> eval(pop()) constant log // ( -- json ) \"actual free fall.json\" log from Codingame > Mars Lander > episode-1 \n",
    "%f s\" all power.json\" readTextFile py> eval(pop()) constant log // ( -- json ) \"actual free fall.json\" log from Codingame > Mars Lander > episode-1 \n",
    "log = peforth.execute('log').pop()"
   ]
  },
  {
   "cell_type": "code",
   "execution_count": 123,
   "metadata": {},
   "outputs": [
    {
     "name": "stdout",
     "output_type": "stream",
     "text": [
      "( Free fall 墜毀 at step 36 ) state --> {'step': 36, 'x': 0, 'y': 95.2720000000003, 'hspeed': 0, 'vspeed': -133.59599999999998, 'fuel': 500, 'angle': 0, 'power': 0, 'force': -3.711} (<class '__main__.State'>)\n",
      "\n",
      "( 9 步以後狂噴到 91 步安全著陸 ) state --> {'step': 91, 'x': 0, 'y': 97.6045000000063, 'hspeed': 0, 'vspeed': -15.700999999999876, 'fuel': 178, 'angle': 0, 'power': 4, 'force': 0.28900000000000015} (<class '__main__.State'>)\n",
      "\n",
      "( 83 步被判逸失 ) state --> {'step': 83, 'x': 0, 'y': 3004.4604999999906, 'hspeed': 0, 'vspeed': 17.987000000000002, 'fuel': 174, 'angle': 0, 'power': 4, 'force': 0.28900000000000015} (<class '__main__.State'>)\n"
     ]
    }
   ],
   "source": [
    "gravity = -3.711        # constant on Mars\n",
    "g = gravity             # 到了二維以上，重力需轉成向量\n",
    "\n",
    "class State:\n",
    "\n",
    "    def __init__(self,step=0,x=0,y=0,hspeed=0,\n",
    "            vspeed=0,fuel=0,angle=0,power=0,force=0):\n",
    "        self.step   = step\n",
    "        self.x      = x\n",
    "        self.y      = y\n",
    "        self.hspeed = hspeed\n",
    "        self.vspeed = vspeed\n",
    "        self.fuel   = fuel\n",
    "        self.angle  = angle\n",
    "        self.power  = power\n",
    "        self.force  = force\n",
    "\n",
    "    def next(self,angle,power):  \n",
    "        # input angle,power 都是 offset 分別屬 -15~15 以及 -1,0,+1 \n",
    "        assert power in [-1, 0, 1], 'expected input power is an offset [-1, 0, +1], given {}'.format(power)\n",
    "        assert angle in range(-15,16), 'input angle range [-15:16], given {}'.format(angle)\n",
    "        self.step   += 1\n",
    "        self.angle  += angle\n",
    "        self.angle   = -90 if self.angle < -90 else self.angle\n",
    "        self.angle   =  90 if self.angle > 90 else self.angle\n",
    "        self.power  += power\n",
    "        self.power   = 0 if self.power < 0 else self.power\n",
    "        self.power   = 4 if self.power > 4 else self.power\n",
    "        self.fuel   -= self.power\n",
    "        self.x       = self.x       # episode-1 不變\n",
    "        self.hspeed  = self.hspeed  # episode-1 不變\n",
    "        self.force   = g + self.power\n",
    "        self.y       = self.y + self.vspeed + (1/2)*self.force\n",
    "        self.vspeed += self.force\n",
    "        return self  # 傳回值只是方便測試，可以這樣寫： %f state :> next(0,3.711) -->\n",
    "\n",
    "    def __str__(self):  \n",
    "        return str(self.__dict__)\n",
    "\n",
    "# 測試兼範例\n",
    "# 模擬自由落體\n",
    "state = State(0,0,2500,0,0,500,0,0,0)\n",
    "%f 36 [for] state :> next(0,0) [next] \n",
    "%f ( Free fall 墜毀 at step 36 ) state --> cr \n",
    "# 模擬安全降落\n",
    "state = State(0,0,2500,0,0,500,0,0,0)\n",
    "%f 9 [for] state :> next(0,0) [next] \n",
    "%f 91 9 - [for] state :> next(0,1) [next] \n",
    "%f ( 9 步以後狂噴到 91 步安全著陸 ) state --> cr \n",
    "# 模擬飛向太空\n",
    "state = State(0,0,2500,0,0,500,0,0,0)\n",
    "%f 83 [for] state :> next(0,1) [next] \n",
    "%f ( 83 步被判逸失 ) state -->"
   ]
  },
  {
   "cell_type": "code",
   "execution_count": 126,
   "metadata": {},
   "outputs": [
    {
     "name": "stdout",
     "output_type": "stream",
     "text": [
      "( 83 步被判逸失 ) state --> {'step': 83, 'x': 0, 'y': 3004.4604999999906, 'hspeed': 0, 'vspeed': 17.987000000000002, 'fuel': 174, 'angle': 0, 'power': 4, 'force': 0.28900000000000015} (<class '__main__.State'>)\n",
      "score --> -1438 (<class 'int'>)\n"
     ]
    }
   ],
   "source": [
    "# 模擬飛向太空\n",
    "state = State(0,0,2500,0,0,500,0,0,0)\n",
    "%f 83 [for] state :> next(0,1) [next] \n",
    "%f ( 83 步被判逸失 ) state -->\n",
    "score = None  # 有可能是負的，先給個看得出異常的初值。\n",
    "\n",
    "# 先判斷是否觸地。若觸地進一步查看速度合格是否合格。若未觸地就是飛走了或油料耗盡。\n",
    "if state.y <= 100:\n",
    "    # 觸地了，進一步查看速度是否合格\n",
    "    if state.vspeed >= -40 : # 剛從空中下來觸地， vspeed 一定是負值；墜毀的一定比 -40 小\n",
    "        # 安全降落\n",
    "        score = state.fuel\n",
    "    else:  # 墜毀\n",
    "        # 模擬噴火把速度降到合格範圍內。所剩油料就是成績。\n",
    "        while True:\n",
    "            state.next(0,1)\n",
    "            if state.vspeed >= -40:\n",
    "                score = state.fuel\n",
    "                break\n",
    "else:  # 還在空中，飛走了或油料耗盡。\n",
    "    # 先模擬 free fall 觸地。\n",
    "    while True: \n",
    "        state.next(0,-1)  # 半空中開始模擬 free fall 小心別又錯了，不是直接填 0 ！！\n",
    "        if state.y <= 100: break\n",
    "    # 然後噴火把速度降到合格範圍內，所剩油料就是成績。\n",
    "    while True:\n",
    "        if state.vspeed >= -40: # 剛從空中下來觸地， vspeed 一定是負值；墜毀的一定比 -40 小。\n",
    "            # 達標了\n",
    "            score = state.fuel\n",
    "            break\n",
    "        else: # 未達標，繼續噴火把負的 vspeed 速度降到合格範圍內\n",
    "            state.next(0,1)\n",
    "    \n",
    "%f score -->\n",
    "\n"
   ]
  },
  {
   "cell_type": "markdown",
   "metadata": {},
   "source": [
    "### Free Fall simulatin is ok "
   ]
  },
  {
   "cell_type": "code",
   "execution_count": 5,
   "metadata": {},
   "outputs": [],
   "source": [
    "# Read log json file\n",
    "%f s\" actual free fall.json\" readTextFile py> eval(pop()) constant log // ( -- json ) \"actual free fall.json\" log from Codingame > Mars Lander > episode-1 \n",
    "log = peforth.execute('log').pop()"
   ]
  },
  {
   "cell_type": "code",
   "execution_count": 28,
   "metadata": {},
   "outputs": [
    {
     "ename": "NameError",
     "evalue": "name 'log' is not defined",
     "output_type": "error",
     "traceback": [
      "\u001b[1;31m---------------------------------------------------------------------------\u001b[0m",
      "\u001b[1;31mNameError\u001b[0m                                 Traceback (most recent call last)",
      "\u001b[1;32m<ipython-input-28-3b3f2d263d22>\u001b[0m in \u001b[0;36m<module>\u001b[1;34m\u001b[0m\n\u001b[0;32m      1\u001b[0m \u001b[1;31m# Initial state of the game\u001b[0m\u001b[1;33m\u001b[0m\u001b[1;33m\u001b[0m\u001b[1;33m\u001b[0m\u001b[0m\n\u001b[0;32m      2\u001b[0m \u001b[1;31m# Run once for a specific experiment e.g. free fall because Log files are different for each experiment.\u001b[0m\u001b[1;33m\u001b[0m\u001b[1;33m\u001b[0m\u001b[1;33m\u001b[0m\u001b[0m\n\u001b[1;32m----> 3\u001b[1;33m \u001b[0mlog0\u001b[0m \u001b[1;33m=\u001b[0m \u001b[0mlog\u001b[0m\u001b[1;33m[\u001b[0m\u001b[1;36m0\u001b[0m\u001b[1;33m]\u001b[0m\u001b[1;33m.\u001b[0m\u001b[0mcopy\u001b[0m\u001b[1;33m(\u001b[0m\u001b[1;33m)\u001b[0m\u001b[1;33m;\u001b[0m\u001b[1;33m\u001b[0m\u001b[1;33m\u001b[0m\u001b[0m\n\u001b[0m\u001b[0;32m      4\u001b[0m \u001b[1;32mdel\u001b[0m \u001b[0mlog0\u001b[0m\u001b[1;33m[\u001b[0m\u001b[1;34m'length'\u001b[0m\u001b[1;33m]\u001b[0m\u001b[1;33m;\u001b[0m  \u001b[1;31m# 剃除 web 上 log 到多的東西\u001b[0m\u001b[1;33m\u001b[0m\u001b[1;33m\u001b[0m\u001b[0m\n\u001b[0;32m      5\u001b[0m \u001b[1;32mdel\u001b[0m \u001b[0mlog0\u001b[0m\u001b[1;33m[\u001b[0m\u001b[1;34m'cmd'\u001b[0m\u001b[1;33m]\u001b[0m      \u001b[1;31m# 剃除 web 上 log 到多的東西\u001b[0m\u001b[1;33m\u001b[0m\u001b[1;33m\u001b[0m\u001b[0m\n",
      "\u001b[1;31mNameError\u001b[0m: name 'log' is not defined"
     ]
    }
   ],
   "source": [
    "# Initial state of the game\n",
    "# Run once for a specific experiment e.g. free fall because Log files are different for each experiment.\n",
    "log0 = log[0].copy();\n",
    "del log0['length'];  # 剃除 web 上 log 到多的東西\n",
    "del log0['cmd']      # 剃除 web 上 log 到多的東西\n",
    "state0 = State(**log0)  # 取 log 轉成 state object \n",
    "%f log :> [0] -->\n",
    "%f state0 -->"
   ]
  },
  {
   "cell_type": "code",
   "execution_count": 1316,
   "metadata": {},
   "outputs": [
    {
     "name": "stdout",
     "output_type": "stream",
     "text": [
      "reDef log\n"
     ]
    }
   ],
   "source": [
    "# Initialize the free fall simulation \n",
    "state = State(**state0.__dict__)  # Initial state of the game\n",
    "\n",
    "# Read log file for comparison\n",
    "%f s\" actual free fall.json\" readTextFile py> eval(pop()) constant log // ( -- json ) \"actual free fall.json\" log from Codingame > Mars Lander > episode-1 \n",
    "log = peforth.execute('log').pop()"
   ]
  },
  {
   "cell_type": "code",
   "execution_count": 1352,
   "metadata": {},
   "outputs": [
    {
     "name": "stdout",
     "output_type": "stream",
     "text": [
      "['step', 'x', 'y', 'hspeed', 'vspeed', 'fuel', 'angle', 'power', 'force']\n",
      "[36, 2500, 95, 0, -134, 500, 0, 0, -4]\n",
      "['step', 'length', 'x', 'y', 'hspeed', 'vspeed', 'fuel', 'angle', 'power', 'cmd']\n",
      "[36, 36, 2500, 100, 0, -134, 500, 0, 0, [0, 0]]\n"
     ]
    }
   ],
   "source": [
    "# Ctrl-Enter repeatedly to compare state of each step with the log \n",
    "state.next(0,0)  # 自由落體 free fall power 總是 0  \n",
    "%f state :> __dict__.keys() list . cr\n",
    "_ = map(lambda x: int(round(x,0)), state.__dict__.values())  # 四捨五入\n",
    "%f _ list . cr \n",
    "print(list(log[state.step].keys()))\n",
    "print(list(log[state.step].values()))  # 對照 log 到的 data"
   ]
  },
  {
   "cell_type": "code",
   "execution_count": 1353,
   "metadata": {},
   "outputs": [],
   "source": [
    "# 保留 free fall 最後結果方便驗算 scoring function \n",
    "state_free_fall = State(**state.__dict__)  # copy the last state from the end of the free fall"
   ]
  },
  {
   "cell_type": "code",
   "execution_count": 1354,
   "metadata": {},
   "outputs": [
    {
     "name": "stdout",
     "output_type": "stream",
     "text": [
      "state_free_fall :> y --> 95.2720000000003 (<class 'float'>)\n",
      "( 觸地了嗎？ ) state_free_fall :> y 100 <= --> True (<class 'bool'>)\n",
      "state_free_fall :> vspeed --> -133.59599999999998 (<class 'float'>)\n",
      "( 安全著陸嗎？ ) state_free_fall :> vspeed abs 40 <= --> False (<class 'bool'>)\n",
      "( 若安全著陸，所剩油料就是分數 ) state_free_fall :> fuel --> 500 (<class 'int'>)\n",
      "( 觸地時的 power ) state_free_fall :> power --> 0 (<class 'int'>)\n",
      "\n",
      "cr ( 察覺以上結果失敗，準備按墜毀方式計算分數 ) state_scoring --> {'step': 36, 'x': 2500, 'y': 95.2720000000003, 'hspeed': 0, 'vspeed': -133.59599999999998, 'fuel': 500, 'angle': 0, 'power': 0, 'force': -3.711} (<class '__main__.State'>)\n"
     ]
    }
   ],
   "source": [
    "# Scoring and get the cost\n",
    "%f state_free_fall :> y -->\n",
    "%f ( 觸地了嗎？ ) state_free_fall :> y 100 <= -->\n",
    "%f state_free_fall :> vspeed -->\n",
    "%f ( 安全著陸嗎？ ) state_free_fall :> vspeed abs 40 <= -->\n",
    "%f ( 若安全著陸，所剩油料就是分數 ) state_free_fall :> fuel -->\n",
    "%f ( 觸地時的 power ) state_free_fall :> power -->\n",
    "state_scoring = State(**state_free_fall.__dict__)\n",
    "%f cr ( 察覺以上結果失敗，準備按墜毀方式計算分數 ) state_scoring -->"
   ]
  },
  {
   "cell_type": "code",
   "execution_count": 1697,
   "metadata": {},
   "outputs": [
    {
     "name": "stdout",
     "output_type": "stream",
     "text": [
      "['step', 'x', 'y', 'hspeed', 'vspeed', 'fuel', 'angle', 'power', 'force']\n",
      "[379, 2500, -30779, 0, -40, -866, 0, 4, 0]\n"
     ]
    }
   ],
   "source": [
    "# 墜毀時的速度減到+-40 以內需要多少油料？ 從當時的 power 開始要用力噴火減速。\n",
    "# 修正自由落體墜毀需要的油料繼續從 fuel 裡扣除，\n",
    "# 最後修正到 vspeed = -40 時 step = 379, fuel = -866 此即這個 genome 的分數了。\n",
    "\n",
    "power = min(state_scoring.power + 1, 4)\n",
    "state_scoring.next(0,power)\n",
    "%f state_scoring :> __dict__.keys() list . cr\n",
    "_ = map(lambda x: int(round(x,0)), state_scoring.__dict__.values())\n",
    "%f _ list . cr \n"
   ]
  },
  {
   "cell_type": "code",
   "execution_count": null,
   "metadata": {},
   "outputs": [],
   "source": []
  },
  {
   "cell_type": "markdown",
   "metadata": {},
   "source": [
    "## Free fall 9 steps and then thrust with all power\n",
    "這是個會安全著陸的 genome."
   ]
  },
  {
   "cell_type": "raw",
   "metadata": {
    "tags": []
   },
   "source": [
    "# This code can only be run on Mars Lander due to the I/O\n",
    "# This is the episode-1 original sample code\n",
    "\n",
    "import sys\n",
    "import math\n",
    "\n",
    "# Auto-generated code below aims at helping you parse\n",
    "# the standard input according to the problem statement.\n",
    "\n",
    "surface_n = int(input())  # the number of points used to draw the surface of Mars.\n",
    "for i in range(surface_n):\n",
    "    # land_x: X coordinate of a surface point. (0 to 6999)\n",
    "    # land_y: Y coordinate of a surface point. By linking all the points together in a sequential fashion, you form the surface of Mars.\n",
    "    land_x, land_y = [int(j) for j in input().split()]\n",
    "\n",
    "# game loop\n",
    "while True:\n",
    "    # h_speed: the horizontal speed (in m/s), can be negative.\n",
    "    # v_speed: the vertical speed (in m/s), can be negative.\n",
    "    # fuel: the quantity of remaining fuel in liters.\n",
    "    # rotate: the rotation angle in degrees (-90 to 90).\n",
    "    # power: the thrust power (0 to 4).\n",
    "    x, y, h_speed, v_speed, fuel, rotate, power = [int(i) for i in input().split()]\n",
    "\n",
    "    # Write an action using print\n",
    "    # To debug: print(\"Debug messages...\", file=sys.stderr, flush=True)\n",
    "\n",
    "\n",
    "    # 2 integers: rotate power. rotate is the desired rotation angle (should be 0 for level 1), power is the desired thrust power (0 to 4).\n",
    "    print(\"0 0\")\n"
   ]
  },
  {
   "cell_type": "raw",
   "metadata": {
    "tags": []
   },
   "source": [
    "# This code can only be run on Mars Lander due to the I/O\n",
    "# Free Fall \n",
    "# This is my study for the experiment. Print inputs of system constants \n",
    "# and data update of each step/frame. \n",
    "\n",
    "import sys\n",
    "import math\n",
    "\n",
    "# Auto-generated code below aims at helping you parse\n",
    "# the standard input according to the problem statement.\n",
    "\n",
    "surface_n = int(input())  # the number of points used to draw the surface of Mars.\n",
    "print('surface_n',surface_n,file=sys.stderr)\n",
    "for i in range(surface_n):\n",
    "    # land_x: X coordinate of a surface point. (0 to 6999)\n",
    "    # land_y: Y coordinate of a surface point. By linking all the points together in a sequential fashion, you form the surface of Mars.\n",
    "    land_x, land_y = [int(j) for j in input().split()]\n",
    "    print('land_x, land_y',land_x, land_y,file=sys.stderr)\n",
    "\n",
    "# game loop\n",
    "while True:\n",
    "    # h_speed: the horizontal speed (in m/s), can be negative.\n",
    "    # v_speed: the vertical speed (in m/s), can be negative.\n",
    "    # fuel: the quantity of remaining fuel in liters.\n",
    "    # rotate: the rotation angle in degrees (-90 to 90).\n",
    "    # power: the thrust power (0 to 4).\n",
    "    x, y, h_speed, v_speed, fuel, rotate, power = [int(i) for i in input().split()]\n",
    "    print('x, y, h_speed, v_speed, fuel, rotate, power', x, y, h_speed, v_speed, fuel, rotate, power,file=sys.stderr)\n",
    "\n",
    "    # Write an action using print\n",
    "    # To debug: print(\"Debug messages...\", file=sys.stderr, flush=True)\n",
    "\n",
    "    # 2 integers: rotate power. rotate is the desired rotation angle (should be 0 for level 1), power is the desired thrust power (0 to 4).\n",
    "    print(\"0 0\")\n",
    "\n",
    "\n",
    "# 讀到的結果，這些資料是打印前必須去讀取的。\n",
    "# Standard Error Stream:\n",
    "# surface_n 6\n",
    "# land_x, land_y 0 100\n",
    "# land_x, land_y 1000 500\n",
    "# land_x, land_y 1500 100\n",
    "# land_x, land_y 3000 100\n",
    "# land_x, land_y 5000 1500\n",
    "# land_x, land_y 6999 1000\n",
    "# x, y, h_speed, v_speed, fuel, rotate, power 2500 2500 0 0 500 0 0\n",
    "    "
   ]
  },
  {
   "cell_type": "raw",
   "metadata": {
    "tags": []
   },
   "source": [
    "# This code can only be run on Mars Lander due to the I/O\n",
    "# 2021/04/22 10:48  接下來模擬有噴火的情形。先掉一點距離然後狂噴看看。\n",
    "# This is my study for the experiment. Print inputs of system constants \n",
    "# and data update of each step/frame. \n",
    "\n",
    "import sys\n",
    "import math\n",
    "\n",
    "# Auto-generated code below aims at helping you parse\n",
    "# the standard input according to the problem statement.\n",
    "\n",
    "surface_n = int(input())  # the number of points used to draw the surface of Mars.\n",
    "print('surface_n',surface_n,file=sys.stderr)\n",
    "for i in range(surface_n):\n",
    "    # land_x: X coordinate of a surface point. (0 to 6999)\n",
    "    # land_y: Y coordinate of a surface point. By linking all the points together in a sequential fashion, you form the surface of Mars.\n",
    "    land_x, land_y = [int(j) for j in input().split()]\n",
    "    print('land_x, land_y',land_x, land_y,file=sys.stderr)\n",
    "\n",
    "# game loop\n",
    "i = 0\n",
    "while True:\n",
    "    i += 1\n",
    "    # h_speed: the horizontal speed (in m/s), can be negative.\n",
    "    # v_speed: the vertical speed (in m/s), can be negative.\n",
    "    # fuel: the quantity of remaining fuel in liters.\n",
    "    # rotate: the rotation angle in degrees (-90 to 90).\n",
    "    # power: the thrust power (0 to 4).\n",
    "    x, y, h_speed, v_speed, fuel, rotate, power = [int(i) for i in input().split()]\n",
    "    print('x, y, h_speed, v_speed, fuel, rotate, power', x, y, h_speed, v_speed, fuel, rotate, power,file=sys.stderr)\n",
    "\n",
    "    # Write an action using print\n",
    "    # To debug: print(\"Debug messages...\", file=sys.stderr, flush=True)\n",
    "\n",
    "    # 2 integers: rotate power. rotate is the desired rotation angle (should be 0 for level 1), power is the desired thrust power (0 to 4).\n",
    "    if i<10 : print(\"0 0\")  # 先試 18 結果墜毀，再試 10 竟然就成功了！ Again, I only wanted to log the data and confirm the simulation. \n",
    "    else: print(\"0 4\")\n",
    "\n",
    "# This is the log from if i<10 : print(\"0 0\")\n",
    "'''\n",
    "'''"
   ]
  },
  {
   "cell_type": "code",
   "execution_count": 1698,
   "metadata": {},
   "outputs": [
    {
     "name": "stdout",
     "output_type": "stream",
     "text": [
      "reDef log\n"
     ]
    }
   ],
   "source": [
    "# Initialize this simulation \n",
    "state = State(**state0.__dict__)  # copy the last state from the end of the free fall\n",
    "\n",
    "# Read log file for comparison\n",
    "%f s\" 先掉10步然後狂噴.json\" readTextFile py> eval(pop()) constant log // ( -- json ) \"actual free fall.json\" log from Codingame > Mars Lander > episode-1 \n",
    "log = peforth.execute('log').pop()"
   ]
  },
  {
   "cell_type": "code",
   "execution_count": 1789,
   "metadata": {},
   "outputs": [
    {
     "name": "stdout",
     "output_type": "stream",
     "text": [
      "['step', 'x', 'y', 'hspeed', 'vspeed', 'fuel', 'angle', 'power', 'force']\n",
      "[91, 2500, 98, 0, -16, 178, 0, 4, 0]\n",
      "['step', 'length', 'x', 'y', 'hspeed', 'vspeed', 'fuel', 'angle', 'power', 'cmd']\n",
      "[91, 91, 2500, 100, 0, -16, 178, 0, 4, [0, 4]]\n"
     ]
    }
   ],
   "source": [
    "# Ctrl-Enter repeatedly to compare state of each step with the log \n",
    "power = 0 if state.step < 9 else min(state.power+1,4)  # 本實驗專用 \n",
    "state.next(0,power)  # Free fall 9 steps and then thrust with all power\n",
    "%f state :> __dict__.keys() list . cr\n",
    "_ = map(lambda x: int(round(x,0)), state.__dict__.values())\n",
    "%f _ list . cr \n",
    "print(list(log[state.step].keys()))\n",
    "print(list(log[state.step].values()))"
   ]
  },
  {
   "cell_type": "code",
   "execution_count": 1790,
   "metadata": {},
   "outputs": [],
   "source": [
    "# 保留最後結果方便驗算 scoring function \n",
    "state_ok = State(**state.__dict__)  # copy the last state"
   ]
  },
  {
   "cell_type": "code",
   "execution_count": 1792,
   "metadata": {},
   "outputs": [
    {
     "name": "stdout",
     "output_type": "stream",
     "text": [
      "state_ok :> y --> 97.6045000000063 (<class 'float'>)\n",
      "( 觸地了嗎？ ) state_ok :> y 100 <= --> True (<class 'bool'>)\n",
      "state_ok :> vspeed --> -15.700999999999876 (<class 'float'>)\n",
      "( 安全著陸嗎？ ) state_ok :> vspeed abs 40 <= --> True (<class 'bool'>)\n",
      "( 若安全著陸，所剩油料就是分數 ) state_ok :> fuel --> 178 (<class 'int'>)\n",
      "( 觸地時的 power ) state_ok :> power --> 4 (<class 'int'>)\n",
      "\n",
      "cr ( 察覺以上結果成功 ，無須另外計算分數 ) \"\" -->  (<class 'str'>)\n"
     ]
    }
   ],
   "source": [
    "# Scoring and get the cost\n",
    "%f state_ok :> y -->\n",
    "%f ( 觸地了嗎？ ) state_ok :> y 100 <= -->\n",
    "%f state_ok :> vspeed -->\n",
    "%f ( 安全著陸嗎？ ) state_ok :> vspeed abs 40 <= -->\n",
    "%f ( 若安全著陸，所剩油料就是分數 ) state_ok :> fuel -->\n",
    "%f ( 觸地時的 power ) state_ok :> power -->\n",
    "%f cr ( 察覺以上結果成功 ，無須另外計算分數 ) \"\" -->"
   ]
  },
  {
   "cell_type": "code",
   "execution_count": null,
   "metadata": {},
   "outputs": [],
   "source": []
  },
  {
   "cell_type": "markdown",
   "metadata": {},
   "source": [
    "## Thrust with all power 直到油料耗盡\n",
    "\n",
    "油料耗盡時的高度距離與速度以自由落體觸地 (期間沒有耗用油料)，然後把速度調整到+-40 以內需要多少油料？這時候從空中 free fall 下來的 vspeed 一定是負的，只有 -40 以下才需要噴火調整，故只有一個方向 (不用考慮有另一方向也需要調整的可能)。\n",
    "\n",
    "從頭到尾全速噴火直到油料耗盡 web 端的程式很簡單，只改一行：\n",
    "\n",
    "    # 2 integers: rotate power. rotate is the desired ......\n",
    "    print(\"0 4\")  # 0 0 改成 0 4 \n",
    "\n",
    "結果 the lander 飛走了 (y > 3000) 而被判 failed. Log 檔 \"all power.json\". 這組 log 有高度、速度、推力、油料等數據，照樣可以用來練習油料耗盡的狀況，因此時油料並未耗盡，故反而更周延。"
   ]
  },
  {
   "cell_type": "code",
   "execution_count": 3,
   "metadata": {},
   "outputs": [],
   "source": [
    "# Read log json file\n",
    "%f s\" all power.json\" readTextFile py> eval(pop()) constant log // ( -- json ) \"actual free fall.json\" log from Codingame > Mars Lander > episode-1 \n",
    "log = peforth.execute('log').pop()"
   ]
  },
  {
   "cell_type": "code",
   "execution_count": 27,
   "metadata": {},
   "outputs": [
    {
     "ename": "NameError",
     "evalue": "name 'log' is not defined",
     "output_type": "error",
     "traceback": [
      "\u001b[1;31m---------------------------------------------------------------------------\u001b[0m",
      "\u001b[1;31mNameError\u001b[0m                                 Traceback (most recent call last)",
      "\u001b[1;32m<ipython-input-27-3b3f2d263d22>\u001b[0m in \u001b[0;36m<module>\u001b[1;34m\u001b[0m\n\u001b[0;32m      1\u001b[0m \u001b[1;31m# Initial state of the game\u001b[0m\u001b[1;33m\u001b[0m\u001b[1;33m\u001b[0m\u001b[1;33m\u001b[0m\u001b[0m\n\u001b[0;32m      2\u001b[0m \u001b[1;31m# Run once for a specific experiment e.g. free fall because Log files are different for each experiment.\u001b[0m\u001b[1;33m\u001b[0m\u001b[1;33m\u001b[0m\u001b[1;33m\u001b[0m\u001b[0m\n\u001b[1;32m----> 3\u001b[1;33m \u001b[0mlog0\u001b[0m \u001b[1;33m=\u001b[0m \u001b[0mlog\u001b[0m\u001b[1;33m[\u001b[0m\u001b[1;36m0\u001b[0m\u001b[1;33m]\u001b[0m\u001b[1;33m.\u001b[0m\u001b[0mcopy\u001b[0m\u001b[1;33m(\u001b[0m\u001b[1;33m)\u001b[0m\u001b[1;33m;\u001b[0m\u001b[1;33m\u001b[0m\u001b[1;33m\u001b[0m\u001b[0m\n\u001b[0m\u001b[0;32m      4\u001b[0m \u001b[1;32mdel\u001b[0m \u001b[0mlog0\u001b[0m\u001b[1;33m[\u001b[0m\u001b[1;34m'length'\u001b[0m\u001b[1;33m]\u001b[0m\u001b[1;33m;\u001b[0m  \u001b[1;31m# 剃除 web 上 log 到多的東西\u001b[0m\u001b[1;33m\u001b[0m\u001b[1;33m\u001b[0m\u001b[0m\n\u001b[0;32m      5\u001b[0m \u001b[1;32mdel\u001b[0m \u001b[0mlog0\u001b[0m\u001b[1;33m[\u001b[0m\u001b[1;34m'cmd'\u001b[0m\u001b[1;33m]\u001b[0m      \u001b[1;31m# 剃除 web 上 log 到多的東西\u001b[0m\u001b[1;33m\u001b[0m\u001b[1;33m\u001b[0m\u001b[0m\n",
      "\u001b[1;31mNameError\u001b[0m: name 'log' is not defined"
     ]
    }
   ],
   "source": [
    "# Initial state of the game\n",
    "# Run once for a specific experiment e.g. free fall because Log files are different for each experiment.\n",
    "log0 = log[0].copy();\n",
    "del log0['length'];  # 剃除 web 上 log 到多的東西\n",
    "del log0['cmd']      # 剃除 web 上 log 到多的東西\n",
    "state0 = State(**log0)  # 取 log 轉成 state object \n",
    "%f log :> [0] -->\n",
    "%f state0 -->"
   ]
  },
  {
   "cell_type": "code",
   "execution_count": 7,
   "metadata": {},
   "outputs": [
    {
     "name": "stdout",
     "output_type": "stream",
     "text": [
      "reDef log\n"
     ]
    }
   ],
   "source": [
    "# Initialize this simulation \n",
    "state = State(**state0.__dict__)  # copy the initial state of the game\n",
    "\n",
    "# Read the log json file\n",
    "%f s\" all power.json\" readTextFile py> eval(pop()) constant log // ( -- json ) \"actual free fall.json\" log from Codingame > Mars Lander > episode-1 \n",
    "log = peforth.execute('log').pop()"
   ]
  },
  {
   "cell_type": "code",
   "execution_count": 90,
   "metadata": {},
   "outputs": [
    {
     "name": "stdout",
     "output_type": "stream",
     "text": [
      "['step', 'x', 'y', 'hspeed', 'vspeed', 'fuel', 'angle', 'power', 'force']\n",
      "[83, 2500, 3004, 0, 18, 174, 0, 4, 0]\n",
      "['step', 'length', 'x', 'y', 'hspeed', 'vspeed', 'fuel', 'angle', 'power', 'cmd']\n",
      "[83, 83, 2500, 3004, 0, 18, 174, 0, 4, [0, 4]]\n"
     ]
    }
   ],
   "source": [
    "# Ctrl-Enter repeatedly to compare state of each step with the log \n",
    "power = min(state.power+1,4)  # all power 實驗專用。這裡一開始搞錯了！不是直接放 4 !!!\n",
    "state.next(0,power) \n",
    "%f state :> __dict__.keys() list . cr\n",
    "_ = map(lambda x: int(round(x,0)), state.__dict__.values())\n",
    "%f _ list . cr \n",
    "print(list(log[state.step].keys()))\n",
    "print(list(log[state.step].values()))"
   ]
  },
  {
   "cell_type": "code",
   "execution_count": 91,
   "metadata": {},
   "outputs": [],
   "source": [
    "# 保留最後結果方便驗算 scoring function \n",
    "state_all_power = State(**state.__dict__)  # copy the last state"
   ]
  },
  {
   "cell_type": "code",
   "execution_count": 190,
   "metadata": {},
   "outputs": [
    {
     "name": "stdout",
     "output_type": "stream",
     "text": [
      "state_all_power :> y --> 3004.4604999999906 (<class 'float'>)\n",
      "( 觸地了嗎？ ) state_all_power :> y 100 <= --> False (<class 'bool'>)\n",
      "state_all_power :> vspeed --> 17.987000000000002 (<class 'float'>)\n",
      "( 安全著陸嗎？ ) state_all_power :> vspeed abs 40 <= --> True (<class 'bool'>)\n",
      "( 若安全著陸，所剩油料就是分數 ) state_all_power :> fuel --> 174 (<class 'int'>)\n",
      "( 觸地時的 power ) state_all_power :> power --> 4 (<class 'int'>)\n",
      "\n",
      "cr ( 察覺以上結果失敗，準備按墜毀方式計算分數 ) state_scoring --> {'step': 83, 'x': 2500, 'y': 3004.4604999999906, 'hspeed': 0, 'vspeed': 17.987000000000002, 'fuel': 174, 'angle': 0, 'power': 4, 'force': 0.28900000000000015} (<class '__main__.State'>)\n"
     ]
    }
   ],
   "source": [
    "# Scoring and get the cost\n",
    "%f state_all_power :> y -->\n",
    "%f ( 觸地了嗎？ ) state_all_power :> y 100 <= -->\n",
    "%f state_all_power :> vspeed -->\n",
    "%f ( 安全著陸嗎？ ) state_all_power :> vspeed abs 40 <= -->\n",
    "%f ( 若安全著陸，所剩油料就是分數 ) state_all_power :> fuel -->\n",
    "%f ( 觸地時的 power ) state_all_power :> power -->\n",
    "state_scoring = State(**state_all_power.__dict__)\n",
    "%f cr ( 察覺以上結果失敗，準備按墜毀方式計算分數 ) state_scoring -->"
   ]
  },
  {
   "cell_type": "raw",
   "metadata": {},
   "source": [
    "有趣的是此時速度合格但未觸地、且油料也未用罄，表示飛走了！\n",
    "先判斷是否觸地。若觸地進一步查看速度合格是否合格。若未觸地就是飛走了或油料耗盡。\n",
    "本例屬於後者，接下來先 free fall 觸地。\n",
    "然後噴火把速度降到合格範圍內。\n",
    "所剩油料就是成績。"
   ]
  },
  {
   "cell_type": "code",
   "execution_count": null,
   "metadata": {},
   "outputs": [],
   "source": []
  },
  {
   "cell_type": "code",
   "execution_count": 891,
   "metadata": {},
   "outputs": [],
   "source": [
    "state = State(**state_all_power.__dict__)  #"
   ]
  },
  {
   "cell_type": "code",
   "execution_count": 892,
   "metadata": {},
   "outputs": [
    {
     "name": "stdout",
     "output_type": "stream",
     "text": [
      "state :> __dict__ --> {'step': 83, 'x': 2500, 'y': 3004.4604999999906, 'hspeed': 0, 'vspeed': 17.987000000000002, 'fuel': 174, 'angle': 0, 'power': 4, 'force': 0.28900000000000015} (<class 'dict'>)\n"
     ]
    }
   ],
   "source": [
    "%f state :> __dict__ -->"
   ]
  },
  {
   "cell_type": "code",
   "execution_count": 937,
   "metadata": {},
   "outputs": [
    {
     "name": "stdout",
     "output_type": "stream",
     "text": [
      "['step', 'x', 'y', 'hspeed', 'vspeed', 'fuel', 'angle', 'power', 'force']\n",
      "[128, 2500, 56, 0, -149, 174, 0, 0, -4]\n"
     ]
    }
   ],
   "source": [
    "# Ctrl-Enter repeatedly to compare state of each step with the log \n",
    "# 小心！ 又錯了，不是直接填 0 ！！ state.next(0,0)  # 自由落體 free fall power 總是 0  \n",
    "%f state :> __dict__.keys() list . cr\n",
    "_ = map(lambda x: int(round(x,0)), state.__dict__.values())  # 四捨五入\n",
    "%f _ list . cr \n",
    "# print(list(log[state.step].keys()))\n",
    "# print(list(log[state.step].values()))  # 對照 log 到的 data"
   ]
  },
  {
   "cell_type": "code",
   "execution_count": 441,
   "metadata": {},
   "outputs": [],
   "source": [
    "state_scoring = State(**state.__dict__)  #"
   ]
  },
  {
   "cell_type": "code",
   "execution_count": 841,
   "metadata": {},
   "outputs": [
    {
     "name": "stdout",
     "output_type": "stream",
     "text": [
      "['step', 'x', 'y', 'hspeed', 'vspeed', 'fuel', 'angle', 'power', 'force']\n",
      "[528, 2500, -38820, 0, -39, -1420, 0, 4, 0]\n"
     ]
    }
   ],
   "source": [
    "power = min(state_scoring.power + 1, 4)\n",
    "state_scoring.next(0,power)\n",
    "%f state_scoring :> __dict__.keys() list . cr\n",
    "_ = map(lambda x: int(round(x,0)), state_scoring.__dict__.values())\n",
    "%f _ list . cr \n"
   ]
  },
  {
   "cell_type": "raw",
   "metadata": {},
   "source": [
    "vspeed 回到 -40 \n",
    "[525, 2500, -38700, 0, -40, -1408, 0, 4, 0]\n",
    "[526, 2500, -38740, 0, -40, -1412, 0, 4, 0]\n",
    "[527, 2500, -38780, 0, -40, -1416, 0, 4, 0]\n",
    "[528, 2500, -38820, 0, -39, -1420, 0, 4, 0]"
   ]
  },
  {
   "cell_type": "code",
   "execution_count": null,
   "metadata": {},
   "outputs": [],
   "source": []
  },
  {
   "cell_type": "code",
   "execution_count": null,
   "metadata": {},
   "outputs": [],
   "source": []
  },
  {
   "cell_type": "code",
   "execution_count": 1321,
   "metadata": {},
   "outputs": [
    {
     "name": "stdout",
     "output_type": "stream",
     "text": [
      "log :> [0] --> {'step': 0, 'length': 83, 'x': 2500, 'y': 2500, 'hspeed': 0, 'vspeed': 0, 'fuel': 500, 'angle': 0, 'power': 0, 'cmd': [-99, -99]} (<class 'dict'>)\n",
      "state0 --> (0, 2500, 0, 500, 0, 0, (0, 0)) (<class 'tuple'>)\n",
      "log0 --> (0, 2500, 0, 500, 0, 0, [-99, -99]) (<class 'tuple'>)\n"
     ]
    }
   ],
   "source": [
    "# Run once for initial state \n",
    "gravity = -3.711        # constant on Mars\n",
    "g = gravity            # 重力轉成向量\n",
    "step = 0 \n",
    "gene = log[step]\n",
    "p0 = gene['y']\n",
    "s0 = gene['vspeed']\n",
    "fuel0 = gene['fuel']\n",
    "a0 = gene['angle']    # 這一步的角度 \n",
    "powr0 = gene['power']  # 這一步的 引擎推力\n",
    "cmd0 = (0,0)\n",
    "state0 = (step ,p0 ,s0 ,fuel0 ,a0 ,powr0 ,cmd0)\n",
    "log0 = (log[0]['step'] ,log[0]['y'] ,log[0]['vspeed'] ,log[0]['fuel'] ,log[0]['angle'] ,log[0]['power'] ,log[0]['cmd'])\n",
    "\n",
    "%f log :> [0] -->\n",
    "%f state0 -->\n",
    "%f log0 -->\n"
   ]
  },
  {
   "cell_type": "code",
   "execution_count": 1404,
   "metadata": {},
   "outputs": [
    {
     "name": "stdout",
     "output_type": "stream",
     "text": [
      "( log-length ) log :> [0]['length'] --> 83 (<class 'int'>)\n",
      "state1 --> (83, 3004, 18, 174, 0, 4, (0, 4)) (<class 'tuple'>)\n",
      "log1 --> (83, 3004, 18, 174, 0, 4, [0, 4]) (<class 'tuple'>)\n"
     ]
    }
   ],
   "source": [
    "# run multiple times to see if the simulation match with the log, it does!!\n",
    "step += 1\n",
    "a1 = 0\n",
    "powr1 = min(powr0+1,4)  # all power 實驗專用。這裡一開始搞錯了！不是直接放 4 !!!\n",
    "fuel1 = fuel0 - powr1\n",
    "force = g + powr1   # force on the lander ship during this step \n",
    "s1 = s0 + force  # 這一步將達到的速度 s0 + (delta time)(acceleration)  # where delta time is 1, a is force as mentioned above.\n",
    "p1 = p0 + s0 + (1/2)*(force)  # where \"s0 + (1/2)*(force)\" is position delta 這一步將到達的位置\n",
    "state1 = (step ,int(round(p1,0)) ,int(round(s1,0)) ,fuel1 ,a1 ,powr1 ,(a1,powr1))\n",
    "\n",
    "p0, s0, fuel0, powr0 = p1, s1, fuel1, powr1\n",
    "try:\n",
    "    log1 = (step ,log[step]['y'] ,log[step]['vspeed'] ,log[step]['fuel'] ,log[step]['angle'] ,log[step]['power'] ,log[step]['cmd'])\n",
    "except:\n",
    "    pass\n",
    "%f ( log-length ) log :> [0]['length'] -->\n",
    "%f state1 -->\n",
    "%f log1 -->\n",
    "\n",
    "# 結果到了 step 83 lander 高度超過 3000 被判定為飛走了 \n",
    "# ( log-length ) log :> [0]['length'] --> 83 (<class 'int'>)\n",
    "# state1 --> (83, 3004, 18, 174, 0, 4, (0, 4)) (<class 'tuple'>)\n",
    "# log1 --> (83, 3004, 18, 174, 0, 4, [0, 4]) (<class 'tuple'>)"
   ]
  },
  {
   "cell_type": "code",
   "execution_count": 1459,
   "metadata": {},
   "outputs": [
    {
     "name": "stdout",
     "output_type": "stream",
     "text": [
      "log1 --> (83, 3004, 18, 174, 0, 4, [0, 4]) (<class 'tuple'>)\n",
      "state0 --> (83, 3004, 18, 174, 0, 4) (<class 'tuple'>)\n"
     ]
    }
   ],
   "source": [
    "# Initialize \n",
    "# 從被判 fail 的狀態開始模擬自由落體到觸地為止\n",
    "step, p0, s0, fuel0, powr0 = log1[0], log1[1], log1[2], log1[3], log1[5]\n",
    "state0 = (step ,p0 ,s0 ,fuel0 ,log1[4] ,powr0 )\n",
    "%f log1 -->\n",
    "%f state0 -->"
   ]
  },
  {
   "cell_type": "code",
   "execution_count": 1506,
   "metadata": {},
   "outputs": [
    {
     "name": "stdout",
     "output_type": "stream",
     "text": [
      "state1 --> (130, 26, -150, 168, 0, 0, (0, 0)) (<class 'tuple'>)\n"
     ]
    }
   ],
   "source": [
    "# run multiple times to simulate free fall \n",
    "step += 1\n",
    "a1 = 0\n",
    "powr1 = max(powr0-1,0)  # 半途開始模擬 free fall \n",
    "fuel1 = fuel0 - powr1\n",
    "force = g + powr1 \n",
    "s1 = s0 + force \n",
    "p1 = p0 + s0 + (1/2)*(force)\n",
    "state1 = (step ,int(round(p1,0)) ,int(round(s1,0)) ,fuel1 ,a1 ,powr1 ,(a1,powr1))\n",
    "p0, s0, fuel0, powr0 = p1, s1, fuel1, powr1\n",
    "%f state1 -->\n",
    "\n",
    "# free fall 到 step 130 觸地，這時 vspeed -150 準備用來換算成修正所需的油料。\n",
    "# state1 --> (130, 26, -150, 168, 0, 0, (0, 0)) (<class 'tuple'>)"
   ]
  },
  {
   "cell_type": "code",
   "execution_count": 1507,
   "metadata": {},
   "outputs": [
    {
     "name": "stdout",
     "output_type": "stream",
     "text": [
      "p1 --> 26.200499999998563 (<class 'float'>)\n",
      "( 觸地了嗎？ ) p1 100 <= --> True (<class 'bool'>)\n",
      "s1 --> -150.41700000000003 (<class 'float'>)\n",
      "( 安全著陸嗎？ ) s1 abs 40 <= --> False (<class 'bool'>)\n",
      "( 若安全著陸，所剩油料就是分數 ) fuel1 --> 168 (<class 'int'>)\n",
      "( 觸地時的 power ) powr0 --> 0 (<class 'int'>)\n"
     ]
    }
   ],
   "source": [
    "# Scoring and get the cost\n",
    "%f p1 -->\n",
    "%f ( 觸地了嗎？ ) p1 100 <= -->\n",
    "%f s1 -->\n",
    "%f ( 安全著陸嗎？ ) s1 abs 40 <= -->\n",
    "%f ( 若安全著陸，所剩油料就是分數 ) fuel1 -->\n",
    "%f ( 觸地時的 power ) powr0 -->"
   ]
  },
  {
   "cell_type": "code",
   "execution_count": 1910,
   "metadata": {},
   "outputs": [
    {
     "name": "stdout",
     "output_type": "stream",
     "text": [
      "( 前 ) state1 --> (531, -39454, -41, -1430, 0, 4, (0, 4)) (<class 'tuple'>)\n",
      "( 後 ) state1 --> (532, -39495, -40, -1434, 0, 4, (0, 4)) (<class 'tuple'>)\n"
     ]
    }
   ],
   "source": [
    "# 墜毀時的速度減到 +-40 以內需要多少油料？ 從當時的 power 開始要用力噴火減速。\n",
    "# 結果發現，修正自由落體墜毀需要的油料繼續從 fuel 裡扣除，\n",
    "# 最後修正到 vspeed = -40 時 fuel = -1438 此即這個 genome 的分數了。\n",
    "%f ( 前 ) state1 -->\n",
    "step += 1\n",
    "a1 = 0\n",
    "powr1 = min(powr0 + 1, 4)\n",
    "fuel1 = fuel0 - powr1\n",
    "force = g + powr1\n",
    "s1 = s0 + force\n",
    "p1 = p0 + s0 + (1/2)*(force)  # where \"s0 + (1/2)*(force)\" is position delta 這一步將到達的位置\n",
    "state1 = (step ,int(round(p1,0)) ,int(round(s1,0)) ,fuel1 ,a1 ,powr1 ,(a1,powr1))\n",
    "p0, s0, fuel0, powr0 = p1, s1, fuel1, powr1\n",
    "%f ( 後 ) state1 -->\n",
    "\n",
    "# 最終把 vspeed 調整回到 -40 所剩油料是 -1438\n",
    "# ( 前 ) state1 --> (531, -39454, -41, -1430, 0, 4, (0, 4)) (<class 'tuple'>)\n",
    "# ( 後 ) state1 --> (532, -39495, -40, -1434, 0, 4, (0, 4)) (<class 'tuple'>)\n",
    "# 以上是 round-off error, 再下一步 step 533 才是真的在 +-40之內，fuel -1438 才對。"
   ]
  },
  {
   "cell_type": "code",
   "execution_count": null,
   "metadata": {},
   "outputs": [],
   "source": []
  },
  {
   "cell_type": "code",
   "execution_count": null,
   "metadata": {},
   "outputs": [],
   "source": []
  },
  {
   "cell_type": "code",
   "execution_count": null,
   "metadata": {},
   "outputs": [],
   "source": []
  },
  {
   "cell_type": "markdown",
   "metadata": {},
   "source": [
    "# 筆記"
   ]
  },
  {
   "cell_type": "code",
   "execution_count": null,
   "metadata": {},
   "outputs": [],
   "source": []
  },
  {
   "cell_type": "code",
   "execution_count": null,
   "metadata": {},
   "outputs": [],
   "source": []
  },
  {
   "cell_type": "code",
   "execution_count": null,
   "metadata": {},
   "outputs": [],
   "source": []
  },
  {
   "cell_type": "markdown",
   "metadata": {
    "tags": []
   },
   "source": [
    "\n",
    "2021.4.24 05:43 Scoring 要有一套客觀的計算方式. I have a much better idea now, finally. See [OneNote2021 >> Mars Lander - Episode 1](https://onedrive.live.com/view.aspx?resid=A796EA18AC8C1DA9%2115651&id=documents&wd=target%28Genetic%20Algorithm.one%7C3D994361-3562-4730-99E4-DAC83DAD73F2%2FMars%20Lander%20-%20Episode%201%7C156EADBB-D6A0-4C92-8BDD-043C48CC8271%2F%29)\n",
    "# 寫出評分 function \n",
    "\n",
    "- 到達地表時的 位置、速度、角度、油料 決定得分。\n",
    "- 與平地的距離要越近越好。\n",
    "\n",
    "`[X]` 點到線的距離 `distance = np.cross(p2-p1,p3-p1)/np.linalg.norm(p2-p1)` where p2-p1 is the line and p3 is the point. \n",
    "\n",
    "`[ ]` 判斷著地的方法就很簡單了，用 ship 的位置來算與每個 surface 的距離，如果到了平地就是降落了，如果到了其他 surface 就是撞毀了。\n",
    "\n",
    "`[ ]` 降落平地還要看角度(0)、速度(20,40)，不對還是失敗。\n",
    "\n",
    "`[ ]` 降落平地之後，油料用得少決定勝負。\n",
    "\n",
    "1. Crashed 或 landed 得分都是與 flate ground 的直線距離 (越近越好) \n",
    "   與 B0 = np.linalg.norm(v(7000,3000)) 的差距，最高分就是這個值。\n",
    "\n",
    "2. landed 還有加分 bonus, 角度越接近 0 越好，Bonus 要比前一個分數高，使得 crash 完全沒得比。\n",
    "   角度是 -90~90 之間，故 +-90度得 B0 分，而 0度得 2B0 分，推導出: <br>\n",
    "    `bonus_angle(an) = 2B0 - (B0/90)*abs(an)`\n",
    "\n",
    "3. 水平速度要 20 以下，垂直速度要 40 以下。同上，水平速度 500 時得 B0 分，而 20 以下時得 2B0 分<br>\n",
    "    `bonus_sh(sh) = 2B0 - (B0/500)*abs(0 if sh<20 else sh)`<br>\n",
    "    `bonus_sv(sv) = 2B0 - (B0/500)*abs(0 if sv<40 else sv)`\n",
    "\n",
    "4. 如果三個都滿足，再加上 fuel 看剩多少。都用完了得 B0 分，都沒用得 2B0 分。\n",
    "\n",
    "    `bonus_fuel(fuel) = B0 + (B0/Fuel)*(fuel)`\n"
   ]
  },
  {
   "cell_type": "markdown",
   "metadata": {},
   "source": [
    "### 做出一個 class 叫作 Ship \n",
    "有油料、位置、速度、角度、引擎出力、軌跡、從開始到落地的一長串 chromosome 也就是一長串的基因 genes (rotate,power) 、還有 score。\n",
    "\n",
    "先亂撒一組命令 > get the distance if alives then repeat else if crash then record the final distance (to the flate ground) as its score. 嘗試的過程不評分，要撞毀了或落地了才評分。\n",
    "如果 parent 都撞毀了，誰好? 簡化地形為 surface 一律朝上，則越接近 flate ground 的就是越好。若有凹洞, 也就是 surface 有朝下時，要另外想辦法。如果 parent 都撞毀了，但是其子代 gene 都用完了還 inTheAir 就要自己用亂數探索自己的前途，最終要撞毀了或落地了才評分這個子代。經過 crossover and mutation 或單純的 exploration 都一定會跑出雜枝，不影響評分與演化過程因為會被 ship.move() 修正好。\n"
   ]
  },
  {
   "cell_type": "raw",
   "metadata": {},
   "source": [
    "# verification test \n",
    "for i in range(5):\n",
    "    trial_count = 0\n",
    "    while True:\n",
    "        p0 = v(2500, 2700)  # Initial position\n",
    "        a0 = 0        # absolute angle of the ship \n",
    "        pwr0 = 0      # 引擎出力\n",
    "        s0 = v(0,0)     # Initial speed vector\n",
    "        ship = Ship(p0, s0, a0, pwr0, fuel0)\n",
    "        ship.explore()\n",
    "        if ship.score > 0 : \n",
    "            print(f\"{i} trial count\",trial_count)\n",
    "            print(ship.chromosome)\n",
    "            print(\"score\", ship.score)\n",
    "            print()\n",
    "            break\n",
    "        trial_count += 1\n",
    "            "
   ]
  },
  {
   "cell_type": "markdown",
   "metadata": {},
   "source": [
    "## 用 Genetic Algorithm 先找出一條成功的路徑\n",
    "\n",
    "一見面先取 100 或 1K 或 1W 名烏合之眾的前 15 名，兩兩交配湊 105 個下一代，再取前 15 名兩兩配對又得 105 個子代。如此輾轉，看看結果。<br>\n",
    "一見面先取 100 或 1K 或 1W 名烏合之眾的前 15 名，兩兩交配湊 105 個下一代，再取前 15 名兩兩配對又得 105 個子代。如此輾轉，看看結果。<br>\n",
    "一見面先取 100 或 1K 或 1W 名烏合之眾的前 15 名，兩兩交配湊 105 個下一代，再取前 15 名兩兩配對又得 105 個子代。如此輾轉，看看結果。<br>\n",
    "一見面先取 5 名烏合之眾兩兩交配湊 10 個下一代，再取前 5 名兩兩配對又得 10 個子代。如此輾轉，看看結果。<br>"
   ]
  },
  {
   "cell_type": "code",
   "execution_count": null,
   "metadata": {},
   "outputs": [],
   "source": [
    "# Get population\n",
    "# 一見面先取 5 名烏合之眾兩兩交配湊 10 個下一代，再取前 5 名兩兩配對又得 10 個子代。如此輾轉，看看結果。\n",
    "parents = []\n",
    "for i in range(5):\n",
    "    while True:\n",
    "        p0 = v(2500, 2700)  # Initial position\n",
    "        a0 = 0        # absolute angle of the ship \n",
    "        pwr0 = 0      # 引擎出力\n",
    "        s0 = v(0,0)     # Initial speed vector\n",
    "        ship = Ship(p0, s0, a0, pwr0, fuel0)\n",
    "        ship.explore()\n",
    "        if ship.score > 0 : \n",
    "            parents.append((ship.score, ship.chromosome))\n",
    "            break"
   ]
  },
  {
   "cell_type": "code",
   "execution_count": null,
   "metadata": {},
   "outputs": [],
   "source": [
    "epoch = 0 "
   ]
  },
  {
   "cell_type": "code",
   "execution_count": null,
   "metadata": {},
   "outputs": [],
   "source": [
    "# mating 用 parents 排列組合出下一代\n",
    "spouses = [c for c in combinations(parents, 2)]"
   ]
  },
  {
   "cell_type": "raw",
   "metadata": {},
   "source": [
    "# 查看這些配偶\n",
    "%f spouses count --> :> [0] count --> -->"
   ]
  },
  {
   "cell_type": "raw",
   "metadata": {},
   "source": [
    "# crossover 產生下一代，隨即令其突變 (全部一起都突變)\n",
    "offspring = []\n",
    "for i in range(len(spouses)):\n",
    "    offspring.append([0,list(map(mutation,crossover(spouses[i])))])  # _working_"
   ]
  },
  {
   "cell_type": "code",
   "execution_count": null,
   "metadata": {},
   "outputs": [],
   "source": [
    "# crossover 產生下一代，隨即令其突變 (從頭逐一 gene 依序突變)\n",
    "offspring = []\n",
    "for i in range(len(spouses)):  # 10 個子代都針對某一組 (epoch) gene 突變，大家來較量\n",
    "    offspring_crossover = crossover(spouses[i])\n",
    "    if len(offspring_crossover) >= epoch :\n",
    "        # 不一定 mutate 得到，看長度夠不夠\n",
    "        offspring_crossover[epoch] = mutation(offspring_crossover[epoch])  # 只 mutate 一個 gene\n",
    "    offspring.append([0,offspring_crossover])  # _working_"
   ]
  },
  {
   "cell_type": "raw",
   "metadata": {},
   "source": [
    "# 查看 \n",
    "%f offspring count --> :> [5] -->"
   ]
  },
  {
   "cell_type": "raw",
   "metadata": {},
   "source": [
    "# evaluate the offspring populataion\n",
    "p0 = v(2500, 2700)  # Initial position\n",
    "a0 = 0        # absolute angle of the ship \n",
    "pwr0 = 0      # 引擎出力\n",
    "s0 = v(0,0)     # Initial speed vector\n",
    "for i in range(len(offspring)):\n",
    "    offspring[i][1] = offspring[i][1] + [offspring[i][1][-1]]*200\n",
    "    ship = Ship(p0, s0, a0, pwr0, fuel0)\n",
    "    ship.evaluate(offspring[i][1])\n",
    "    offspring[i][0] = ship.score\n",
    "    %f i ship :> score -2 slice -->\n",
    "        "
   ]
  },
  {
   "cell_type": "code",
   "execution_count": null,
   "metadata": {},
   "outputs": [],
   "source": [
    "# 上下兩代組合成新一輪的 parents \n",
    "parents = sorted(offspring + parents, key=lambda x:x[0])[-5:]\n",
    "[row[0] for row in parents]    "
   ]
  },
  {
   "cell_type": "markdown",
   "metadata": {},
   "source": [
    "### 手動連續跌代 (舊版，全部 gene 一起 mutate)"
   ]
  },
  {
   "cell_type": "raw",
   "metadata": {},
   "source": [
    "# mating 用 parents 排列組合出成對的配偶\n",
    "spouses = [c for c in combinations(parents, 2)]\n",
    "\n",
    "# crossover 產生下一代，隨即令其突變\n",
    "offspring = []\n",
    "for i in range(len(spouses)):\n",
    "    offspring.append([0,list(map(mutation,crossover(spouses[i])))])\n",
    "\n",
    "# evaluate the offspring populataion\n",
    "p0 = v(2500, 2700)  # Initial position\n",
    "a0 = 0        # absolute angle of the ship \n",
    "pwr0 = 0      # 引擎出力\n",
    "s0 = v(0,0)     # Initial speed vector\n",
    "for i in range(len(offspring)):\n",
    "    offspring[i][1] = offspring[i][1] + [offspring[i][1][-1]]*200\n",
    "    ship = Ship(p0, s0, a0, pwr0, fuel0)\n",
    "    ship.evaluate(offspring[i][1])\n",
    "    offspring[i][0] = ship.score\n",
    "    %f i ship :> score -2 slice -->\n",
    "\n",
    "# 上下兩代組合成新一輪的 parents \n",
    "parents = sorted(offspring + parents, key=lambda x:x[0])[-5:]\n",
    "[row[0] for row in parents]    "
   ]
  },
  {
   "cell_type": "markdown",
   "metadata": {},
   "source": [
    "### 手動連續跌代 (新版，個別 gene 依序逐個 mutate)"
   ]
  },
  {
   "cell_type": "code",
   "execution_count": null,
   "metadata": {},
   "outputs": [],
   "source": [
    "# mating 用 parents 排列組合出成對的配偶\n",
    "spouses = [c for c in combinations(parents, 2)]\n",
    "\n",
    "# crossover 產生下一代，隨即令其突變\n",
    "offspring = []\n",
    "for i in range(len(spouses)):\n",
    "    offspring.append([0,list(map(mutation,crossover(spouses[i])))])\n",
    "\n",
    "# evaluate the offspring populataion\n",
    "p0 = v(2500, 2700)  # Initial position\n",
    "a0 = 0        # absolute angle of the ship \n",
    "pwr0 = 0      # 引擎出力\n",
    "s0 = v(0,0)     # Initial speed vector\n",
    "for i in range(len(offspring)):\n",
    "    offspring[i][1] = offspring[i][1] + [offspring[i][1][-1]]*200\n",
    "    ship = Ship(p0, s0, a0, pwr0, fuel0)\n",
    "    ship.evaluate(offspring[i][1])\n",
    "    offspring[i][0] = ship.score\n",
    "    %f i ship :> score -2 slice -->\n",
    "epoch += 1 \n",
    "# 上下兩代組合成新一輪的 parents \n",
    "parents = sorted(offspring + parents, key=lambda x:x[0])[-5:]\n",
    "[row[0] for row in parents]    "
   ]
  },
  {
   "cell_type": "markdown",
   "metadata": {},
   "source": [
    "### 自動連續跌代"
   ]
  },
  {
   "cell_type": "code",
   "execution_count": null,
   "metadata": {},
   "outputs": [],
   "source": [
    "import numpy as np\n",
    "import re, math, peforth, random, pdb\n",
    "from itertools import combinations  # combinations 數學「排列組合」中的「組合」\n",
    "%f version drop"
   ]
  },
  {
   "cell_type": "code",
   "execution_count": null,
   "metadata": {},
   "outputs": [],
   "source": [
    "%run mars.py\n",
    "\n",
    "# Get population \n",
    "# 一見面先取 5 名烏合之眾兩兩交配湊 10 個下一代，再取前 5 名兩兩配對又得 10 個子代。如此輾轉，看看結果。\n",
    "parents = []\n",
    "for i in range(5):\n",
    "    while True:\n",
    "        p0 = v(2500, 2700)  # Initial position\n",
    "        a0 = 0        # absolute angle of the ship \n",
    "        pwr0 = 0      # 引擎出力\n",
    "        s0 = v(0,0)     # Initial speed vector\n",
    "        ship = Ship(p0, s0, a0, pwr0, fuel0)\n",
    "        ship.explore()\n",
    "        if ship.score > 0 : \n",
    "            parents.append((ship.score, ship.chromosome))\n",
    "            break\n",
    "# 開始自動演化\n",
    "high0 = 0\n",
    "for j in range(1000):\n",
    "    # mating 用 parents 排列組合出成對的配偶\n",
    "    spouses = [c for c in combinations(parents, 2)]\n",
    "\n",
    "    # crossover 產生下一代，隨即令其突變\n",
    "    offspring = []\n",
    "    for i in range(len(spouses)):\n",
    "        offspring.append([0,list(map(mutation,crossover(spouses[i])))])\n",
    "\n",
    "    # evaluate the offspring populataion\n",
    "    p0 = v(2500, 2700)  # Initial position\n",
    "    a0 = 0        # absolute angle of the ship \n",
    "    pwr0 = 0      # 引擎出力\n",
    "    s0 = v(0,0)     # Initial speed vector\n",
    "    for i in range(len(offspring)):\n",
    "        offspring[i][1] = offspring[i][1] + [offspring[i][1][-1]]*200\n",
    "        ship = Ship(p0, s0, a0, pwr0, fuel0)\n",
    "        ship.evaluate(offspring[i][1])\n",
    "        offspring[i][0] = ship.score\n",
    "\n",
    "    # 上下兩代組合成新一輪的 parents \n",
    "    parents = sorted(offspring + parents, key=lambda x:x[0])[-5:]\n",
    "    high1 = [row[0] for row in parents][4]\n",
    "    if j%10 == 0 : print(f\"#{j}\", end=\" \") \n",
    "    if high0 != high1 : print(f\"{j}:{high1}\")\n",
    "    high0 = high1\n",
    "\n",
    "# evaluate a specific chromosome\n",
    "p0 = v(2500, 2700)  # Initial position\n",
    "a0 = 0        # absolute angle of the ship \n",
    "pwr0 = 0      # 引擎出力\n",
    "s0 = v(0,0)     # Initial speed vector\n",
    "ship = Ship(p0, s0, a0, pwr0, fuel0)\n",
    "ship.evaluate(parents[4][1])\n",
    "%f ship :> make_score() ship :> score -->\n",
    "%f ship :> chromosome -->\n"
   ]
  },
  {
   "cell_type": "markdown",
   "metadata": {},
   "source": [
    "# 修正 mutation 的方式\n",
    "_working_\n",
    "2019/06/13 17:41 Mutation 的方式不好，咱目前是一次所有的 gene 全部 mutate，可能是造成訓練效果不佳的原因！因為某個 gene 的 mutation 再怎麼好效果被沖淡了，無法彰顯。所以要一組一組從頭照順序來讓 Mutation 找出最佳組合。這樣看來，窮舉是 93 種組合 for 一組 gene (-15~15, -1~1)，我目前是 10 個 offspring 只有 1/9, 將來考慮改多點。窮舉可能不見得好，因為它假設後面的一長串都是對的才有意義，當然這大有疑問，所以要大家一起慢慢演化才好。從頭 mutation 到尾 (每條 chromosome 的長度不一樣，看哪一條最長都要涵蓋到) 就是一輪 epoch. "
   ]
  },
  {
   "cell_type": "markdown",
   "metadata": {},
   "source": [
    "### 手動連續跌代 (新版，個別 gene 依序逐個 mutate)"
   ]
  },
  {
   "cell_type": "code",
   "execution_count": null,
   "metadata": {},
   "outputs": [],
   "source": [
    "import numpy as np\n",
    "import re, math, peforth, random, pdb\n",
    "from itertools import combinations  # combinations 數學「排列組合」中的「組合」\n",
    "%f version drop"
   ]
  },
  {
   "cell_type": "code",
   "execution_count": null,
   "metadata": {},
   "outputs": [],
   "source": [
    "%run mars.py"
   ]
  },
  {
   "cell_type": "code",
   "execution_count": null,
   "metadata": {},
   "outputs": [],
   "source": [
    "epoch = 0 \n",
    "p0 = v(2500, 2700)  # Initial position\n",
    "a0 = 0        # absolute angle of the ship \n",
    "pwr0 = 0      # 引擎出力\n",
    "s0 = v(0,0)     # Initial speed vector"
   ]
  },
  {
   "cell_type": "code",
   "execution_count": null,
   "metadata": {},
   "outputs": [],
   "source": [
    "# Get population\n",
    "# 一見面先取 5 名烏合之眾兩兩交配湊 10 個下一代，再取前 5 名兩兩配對又得 10 個子代。如此輾轉，看看結果。\n",
    "parents = []\n",
    "for i in range(5):\n",
    "    while True:\n",
    "        ship = Ship(p0, s0, a0, pwr0, fuel0)\n",
    "        ship.explore()\n",
    "        if ship.score > 0 : \n",
    "            parents.append((ship.score, ship.chromosome))\n",
    "            break"
   ]
  },
  {
   "cell_type": "code",
   "execution_count": null,
   "metadata": {
    "scrolled": true
   },
   "outputs": [],
   "source": [
    "# mating 用 parents 交配出親代的排列組合\n",
    "spouses = [c for c in combinations(parents, 2)]\n",
    "\n",
    "# crossover 產生下一代，隨即令其突變 (從頭逐一 gene 依序突變)\n",
    "offspring = []\n",
    "for i in range(len(spouses)):  # 10 個子代都針對某一組 (epoch) gene 突變，大家來較量\n",
    "    offspring_crossover = crossover(spouses[i])\n",
    "    if len(offspring_crossover) >= epoch :\n",
    "        # 不一定 mutate 得到，看長度夠不夠\n",
    "        offspring_crossover[epoch] = mutation(offspring_crossover[epoch])  # 只 mutate 一個 gene\n",
    "    offspring.append([0,offspring_crossover])\n",
    "\n",
    "offspring_length = len(offspring)\n",
    "epoch_end = 0 # 如果 epoch count 大過所有的 chromosome_length 則 epoch 就該結束了\n",
    "for i in range(offspring_length):\n",
    "    offspring[i][1] = offspring[i][1] + [offspring[i][1][-1]]*200  # 重複最後一組 gene 保證使 ship 落地\n",
    "    ship = Ship(p0, s0, a0, pwr0, fuel0)\n",
    "    chromosome_length = ship.evaluate(offspring[i][1])\n",
    "    if epoch > chromosome_length : epoch_end += 1\n",
    "    offspring[i][0] = ship.score\n",
    "    %f i ship :> score -2 slice -->\n",
    "        \n",
    "if epoch_end >= offspring_length :\n",
    "    %f .\" End of epoch\"\n",
    "    epoch = 0\n",
    "else:\n",
    "    epoch += 1\n",
    "    %f epoch --> \n",
    "\n",
    "\n",
    "\n",
    "# 上下兩代組合成新一輪的 parents \n",
    "parents = sorted(offspring + parents, key=lambda x:x[0])[-5:]\n",
    "[row[0] for row in parents]    "
   ]
  },
  {
   "cell_type": "markdown",
   "metadata": {},
   "source": [
    "### 自動連續跌代 (新版，個別 gene 依序逐個 mutate)"
   ]
  },
  {
   "cell_type": "code",
   "execution_count": null,
   "metadata": {},
   "outputs": [],
   "source": [
    "import numpy as np\n",
    "import re, math, peforth, random, pdb\n",
    "from itertools import combinations  # combinations 數學「排列組合」中的「組合」\n",
    "%f version drop\n",
    "%run mars.py\n",
    "\n",
    "# constants of the game world \n",
    "p0 = v(2500, 2700)  # Initial position\n",
    "a0 = 0        # absolute angle of the ship \n",
    "pwr0 = 0      # 引擎出力\n",
    "s0 = v(0,0)     # Initial speed vector\n",
    "\n",
    "# Get population\n",
    "# 一見面先取 5 名烏合之眾兩兩交配湊 10 個下一代，再取前 5 名兩兩配對又得 10 個子代。如此輾轉，看看結果。\n",
    "parents = []\n",
    "for i in range(5):\n",
    "    while True:\n",
    "        ship = Ship(p0, s0, a0, pwr0, fuel0)\n",
    "        ship.explore()\n",
    "        if ship.score > 0 : \n",
    "            parents.append((ship.score, ship.chromosome))\n",
    "            break\n",
    "high0 = 0            \n",
    "for cycle in range(1000):\n",
    "    epoch = 0  # a new cycle \n",
    "    while(True):\n",
    "        # mating 用 parents 交配出親代的排列組合\n",
    "        spouses = [c for c in combinations(parents, 2)]\n",
    "\n",
    "        # crossover 產生下一代，隨即令其突變 (從頭逐一 gene 依序突變)\n",
    "        offspring = []\n",
    "        for i in range(len(spouses)):  # 10 個子代都針對某一組 (epoch) gene 突變，大家來較量\n",
    "            offspring_crossover = crossover(spouses[i])\n",
    "            if len(offspring_crossover) >= epoch :\n",
    "                # 不一定 mutate 得到，看長度夠不夠\n",
    "                offspring_crossover[epoch] = mutation(offspring_crossover[epoch])  # 只 mutate 一個 gene\n",
    "            offspring.append([0,offspring_crossover])\n",
    "\n",
    "        # 為這些子代評分\n",
    "        offspring_length = len(offspring)\n",
    "        epoch_end = 0 # 如果 epoch count 大過所有的 chromosome_length 則 epoch 就該結束了\n",
    "        for i in range(offspring_length):\n",
    "            offspring[i][1] = offspring[i][1] + [offspring[i][1][-1]]*200  # 重複最後一組 gene 保證使 ship 落地\n",
    "            ship = Ship(p0, s0, a0, pwr0, fuel0)\n",
    "            chromosome_length = ship.evaluate(offspring[i][1])\n",
    "            if epoch > chromosome_length : epoch_end += 1\n",
    "            offspring[i][0] = ship.score\n",
    "                \n",
    "        # 上下兩代組合成新一輪的 parents \n",
    "        parents = sorted(offspring + parents, key=lambda x:x[0])[-5:]\n",
    "        high1 = parents[4][0]\n",
    "        if high0 != high1 :\n",
    "            print(f\"cycle:{cycle} epoch:{epoch} highest score:{high1}\") \n",
    "            high0 = high1\n",
    "\n",
    "        if epoch_end >= offspring_length :\n",
    "            print(f\"cycle:{cycle} ~~~~ End of epoch ~~~~\")\n",
    "            break\n",
    "        else:\n",
    "            epoch += 1"
   ]
  },
  {
   "cell_type": "code",
   "execution_count": null,
   "metadata": {},
   "outputs": [],
   "source": [
    "parents[4][0]"
   ]
  },
  {
   "cell_type": "markdown",
   "metadata": {},
   "source": [
    "# evaluate a specific chromosome"
   ]
  },
  {
   "cell_type": "code",
   "execution_count": 6,
   "metadata": {
    "scrolled": true,
    "tags": []
   },
   "outputs": [
    {
     "name": "stdout",
     "output_type": "stream",
     "text": [
      "ship :> score --> 63531.77246565923 (<class 'numpy.float64'>)\n",
      "ship :> chromosome --> [[-15, 0], [0, 1], [-1, 2], [6, 1], [20, 0], [5, 1], [17, 0], [2, 1], [-12, 2], [-1, 3], [14, 4], [8, 4], [-3, 4], [-14, 3], [-26, 3], [-11, 3], [0, 4], [4, 3], [-11, 3], [-5, 4], [10, 3], [8, 2], [-7, 1], [-14, 2], [-20, 3], [-22, 4], [-7, 3], [-17, 4], [-17, 4], [-14, 3], [-29, 4], [-44, 4], [-35, 3], [-20, 4], [-35, 4], [-48, 4], [-46, 4], [-42, 4], [-27, 4], [-15, 4], [-19, 3], [-22, 4], [-25, 4], [-25, 3], [-19, 3], [-26, 3], [-24, 4], [-34, 4], [-49, 4], [-34, 3], [-49, 4], [-34, 3], [-49, 4], [-42, 4], [-33, 4], [-41, 3], [-42, 3], [-41, 2], [-26, 3], [-11, 2], [4, 1], [-11, 0], [-1, 1], [-15, 0], [0, 1], [0, 0]] (<class 'list'>)\n",
      "ship :> inTheAir --> False (<class 'numpy.bool_'>)\n",
      "ship :> p0 --> [4066.25684777   69.90764574] (<class 'numpy.ndarray'>)\n",
      "trace --> [array([2500., 2698.]), array([2500., 2693.]), array([2500., 2686.]), array([2500., 2676.]), array([2500., 2664.]), array([2500., 2648.]), array([2500., 2629.]), array([2499., 2606.]), array([2500., 2582.]), array([2500., 2556.]), array([2500., 2530.]), array([2499., 2504.]), array([2497., 2478.]), array([2497., 2452.]), array([2497., 2426.]), array([2498., 2398.]), array([2500., 2370.]), array([2501., 2342.]), array([2503., 2313.]), array([2505., 2284.]), array([2507., 2255.]), array([2509., 2224.]), array([2510., 2191.]), array([2512., 2156.]), array([2515., 2120.]), array([2519., 2083.]), array([2524., 2046.]), array([2529., 2008.]), array([2536., 1971.]), array([2544., 1933.]), array([2553., 1895.]), array([2564., 1856.]), array([2578., 1816.]), array([2593., 1776.]), array([2610., 1735.]), array([2629., 1694.]), array([2652., 1652.]), array([2677., 1609.]), array([2705., 1565.]), array([2734., 1521.]), array([2764., 1477.]), array([2795., 1433.]), array([2828., 1388.]), array([2862., 1344.]), array([2898., 1298.]), array([2934., 1251.]), array([2972., 1203.]), array([3012., 1156.]), array([3055., 1107.]), array([3100., 1058.]), array([3147., 1007.]), array([3197.,  955.]), array([3249.,  902.]), array([3304.,  848.]), array([3361.,  794.]), array([3421.,  739.]), array([3482.,  682.]), array([3545.,  623.]), array([3609.,  563.]), array([3674.,  501.]), array([3740.,  437.]), array([3805.,  370.]), array([3870.,  300.]), array([3936.,  227.]), array([4001.,  150.]), array([4066.,   70.])] (<class 'list'>)\n",
      "ship :> trace --> [array([2500.    , 2698.1445]), array([2500.   , 2693.078]), array([2500.01745241, 2685.8003477 ]), array([2500.00009299, 2676.30880403]), array([2499.93046934, 2663.60352132]), array([2499.81726782, 2647.68533595]), array([2499.66048842, 2628.55424794]), array([2499.48625928, 2606.21185533]), array([2499.50249208, 2581.63630575]), array([2499.75281518, 2555.8276753 ]), array([2499.5454731 , 2529.74840785]), array([2498.57594103, 2503.87926799]), array([2497.43273467, 2478.27692334]), array([2496.75708306, 2452.41628135]), array([2497.10187102, 2425.64827401]), array([2498.39042919, 2397.98989852]), array([2499.96520085, 2370.0929638 ]), array([2501.4353378 , 2341.98137517]), array([2503.08705354, 2313.12757338]), array([2505.19929425, 2284.02760176]), array([2507.22537418, 2254.68623117]), array([2508.85180875, 2224.10134027]), array([2510.40000488, 2191.29199052]), array([2512.25105759, 2156.23820958]), array([2514.8570624 , 2119.85326329]), array([2518.72531062, 2083.02122364]), array([2523.52557603, 2045.82137092]), array([2529.09338888, 2008.31194695]), array([2535.83068854, 1970.916742  ]), array([2543.51561445, 1933.17859015]), array([2552.53304245, 1894.93412131]), array([2563.90940643, 1856.16657148]), array([2577.5354518 , 1816.35542932]), array([2592.70590212, 1775.94140046]), array([2609.70754559, 1735.33406094]), array([2629.34263159, 1693.99228671]), array([2651.90268684, 1651.66709044]), array([2677.23968291, 1608.50650057]), array([2704.82292118, 1564.90321339]), array([2733.83177855, 1521.30279091]), array([2763.84662623, 1477.34149795]), array([2795.09903934, 1432.94185056]), array([2827.94590216, 1388.49818646]), array([2862.27192889, 1343.51559961]), array([2897.72023525, 1297.5997523 ]), array([2934.31445055, 1250.73937392]), array([2972.37969587, 1203.34327753]), array([3012.37680028, 1155.72134721]), array([3055.00170965, 1107.35861008]), array([3099.97482754, 1057.84054737]), array([3147.29615395, 1007.16715908]), array([3196.96568887,  955.3384452 ]), array([3248.98343231,  902.35440574]), array([3303.84885612,  848.457774  ]), array([3361.14181922,  794.01377303]), array([3420.50814892,  738.66817758]), array([3481.86226308,  681.85836373]), array([3544.87613218,  623.2069767 ]), array([3609.20361703,  562.94749032]), array([3674.37946759,  501.30682219]), array([3739.71124892,  437.43556327]), array([3805.008152  ,  370.35208638]), array([3870.31378129,  300.05753333]), array([3935.62813678,  226.55190414]), array([4000.94249227,  149.83527494]), array([4066.25684777,   69.90764574])] (<class 'list'>)\n"
     ]
    }
   ],
   "source": [
    "# evaluate a specific chromosome\n",
    "chromosome = [[-15, 0], [0, 1], [-1, 2], [6, 1], [20, 0], [5, 1], [17, 0], [2, 1], [-12, 2], [-1, 3], [14, 4], [8, 4], [-3, 4], [-14, 3], [-26, 3], [-11, 3], [0, 4], [4, 3], [-11, 3], [-5, 4], [10, 3], [8, 2], [-7, 1], [-14, 2], [-20, 3], [-22, 4], [-7, 3], [-17, 4], [-17, 4], [-14, 3], [-29, 4], [-44, 4], [-35, 3], [-20, 4], [-35, 4], [-48, 4], [-46, 4], [-42, 4], [-27, 4], [-15, 4], [-19, 3], [-22, 4], [-25, 4], [-25, 3], [-19, 3], [-26, 3], [-24, 4], [-34, 4], [-49, 4], [-34, 3], [-49, 4], [-34, 3], [-49, 4], [-42, 4], [-33, 4], [-41, 3], [-42, 3], [-41, 2], [-26, 3], [-11, 2], [4, 1], [-11, 0], [-1, 1], [-15, 0], [0, 1],[0,0]] \n",
    "p0 = v(2500, 2700)  # Initial position\n",
    "a0 = 0        # absolute angle of the ship \n",
    "pwr0 = 0      # 引擎出力\n",
    "s0 = v(0,0)     # Initial speed vector\n",
    "ship = Ship(p0, s0, a0, pwr0, fuel0)\n",
    "ship.evaluate(chromosome)\n",
    "%f ship :> score -->\n",
    "%f ship :> chromosome -->\n",
    "%f ship :> inTheAir -->\n",
    "%f ship :> p0 -->     \n",
    "trace = list(map(lambda x:np.round(x,0), ship.trace))\n",
    "%f trace -->\n",
    "%f ship :> trace -->\n",
    "\n"
   ]
  },
  {
   "cell_type": "code",
   "execution_count": 26,
   "metadata": {},
   "outputs": [
    {
     "ename": "NameError",
     "evalue": "name 'State' is not defined",
     "output_type": "error",
     "traceback": [
      "\u001b[1;31m---------------------------------------------------------------------------\u001b[0m",
      "\u001b[1;31mNameError\u001b[0m                                 Traceback (most recent call last)",
      "\u001b[1;32m<ipython-input-26-f5f0c71dac10>\u001b[0m in \u001b[0;36m<module>\u001b[1;34m\u001b[0m\n\u001b[0;32m      1\u001b[0m \u001b[1;31m# Run once for initial state\u001b[0m\u001b[1;33m\u001b[0m\u001b[1;33m\u001b[0m\u001b[1;33m\u001b[0m\u001b[0m\n\u001b[0;32m      2\u001b[0m \u001b[0mstep\u001b[0m \u001b[1;33m=\u001b[0m \u001b[1;36m0\u001b[0m\u001b[1;33m\u001b[0m\u001b[1;33m\u001b[0m\u001b[0m\n\u001b[1;32m----> 3\u001b[1;33m state0 = State(\n\u001b[0m\u001b[0;32m      4\u001b[0m     \u001b[0mstep\u001b[0m   \u001b[1;33m=\u001b[0m \u001b[0mlog\u001b[0m\u001b[1;33m[\u001b[0m\u001b[0mstep\u001b[0m\u001b[1;33m]\u001b[0m\u001b[1;33m[\u001b[0m\u001b[1;34m'step'\u001b[0m\u001b[1;33m]\u001b[0m\u001b[1;33m,\u001b[0m\u001b[1;33m\u001b[0m\u001b[1;33m\u001b[0m\u001b[0m\n\u001b[0;32m      5\u001b[0m     \u001b[0mx\u001b[0m      \u001b[1;33m=\u001b[0m \u001b[0mlog\u001b[0m\u001b[1;33m[\u001b[0m\u001b[0mstep\u001b[0m\u001b[1;33m]\u001b[0m\u001b[1;33m[\u001b[0m\u001b[1;34m'x'\u001b[0m\u001b[1;33m]\u001b[0m\u001b[1;33m,\u001b[0m\u001b[1;33m\u001b[0m\u001b[1;33m\u001b[0m\u001b[0m\n",
      "\u001b[1;31mNameError\u001b[0m: name 'State' is not defined"
     ]
    }
   ],
   "source": [
    "# Run once for initial state \n",
    "step = 0 \n",
    "state0 = State(\n",
    "    step   = log[step]['step'],\n",
    "    x      = log[step]['x'],\n",
    "    y      = log[step]['y'],\n",
    "    hspeed = log[step]['hspeed'],\n",
    "    vspeed = log[step]['vspeed'],\n",
    "    fuel   = log[step]['fuel'],\n",
    "    angle  = log[step]['angle'],\n",
    "    power  = log[step]['power'])\n",
    "\n",
    "%f log :> [0] -->\n",
    "%f state0 -->\n",
    "%f log :> [0].values() list -->\n",
    "%f state0 :> __dict__.values() list -->    "
   ]
  },
  {
   "cell_type": "code",
   "execution_count": 16,
   "metadata": {},
   "outputs": [],
   "source": [
    "from typing import List, Optional, Callable, Tuple, Dict, Union  # OneNote2021 #_python_ #_typing_\n",
    "GENE = Tuple[int,int]\n",
    "GENOME = List[Gene]  # Genome 是一個 list 裡面都是 int\n",
    "STATE = Dict[str,Union[int,float]]  # x,y,hspeed,power,.. etc \n",
    "\n",
    "Population = List[Genome]  # Population 是一個 list 裡面都是 Genome\n",
    "PopulateFunc = Callable[[], Population]  # PopulateFunc() input nothing, output Population\n",
    "FitnessFunc = Callable[[Genome], int]  # FitnessFunc() input a Genome, output an int value \n",
    "SelectionFunc = Callable[[Population, FitnessFunc], Tuple[Genome, Genome]]  # SelectionFunc() input Population and FitnessFunc, output a tuple of two Genomes\n",
    "CrossoverFunc = Callable[[Genome, Genome], Tuple[Genome, Genome]]\n",
    "MutationFunc = Callable[[Genome], Genome]  # 這裡宣告了 MutationFunc 用 =  \n",
    "PrinterFunc = Callable[[Population, int, FitnessFunc], None]\n"
   ]
  },
  {
   "cell_type": "code",
   "execution_count": 6,
   "metadata": {},
   "outputs": [
    {
     "data": {
      "text/plain": [
       "typing.List[typing.Tuple[int, int]]"
      ]
     },
     "execution_count": 6,
     "metadata": {},
     "output_type": "execute_result"
    }
   ],
   "source": [
    "Genome"
   ]
  },
  {
   "cell_type": "code",
   "execution_count": 3,
   "metadata": {},
   "outputs": [
    {
     "data": {
      "text/plain": [
       "typing.Callable[[typing.List[int]], int]"
      ]
     },
     "execution_count": 3,
     "metadata": {},
     "output_type": "execute_result"
    }
   ],
   "source": [
    "FitnessFunc"
   ]
  },
  {
   "cell_type": "code",
   "execution_count": 17,
   "metadata": {},
   "outputs": [
    {
     "data": {
      "text/plain": [
       "typing.Dict[str, typing.Union[int, float]]"
      ]
     },
     "execution_count": 17,
     "metadata": {},
     "output_type": "execute_result"
    }
   ],
   "source": [
    "ATTR"
   ]
  },
  {
   "cell_type": "code",
   "execution_count": 18,
   "metadata": {},
   "outputs": [
    {
     "data": {
      "text/plain": [
       "typing.Dict[str, typing.Union[int, float]]"
      ]
     },
     "execution_count": 18,
     "metadata": {},
     "output_type": "execute_result"
    }
   ],
   "source": [
    "STATE"
   ]
  },
  {
   "cell_type": "code",
   "execution_count": 24,
   "metadata": {},
   "outputs": [],
   "source": [
    "a : GENE = (1,2)"
   ]
  },
  {
   "cell_type": "code",
   "execution_count": 25,
   "metadata": {},
   "outputs": [
    {
     "data": {
      "text/plain": [
       "tuple"
      ]
     },
     "execution_count": 25,
     "metadata": {},
     "output_type": "execute_result"
    }
   ],
   "source": [
    "type(a)"
   ]
  },
  {
   "cell_type": "code",
   "execution_count": 9,
   "metadata": {},
   "outputs": [
    {
     "data": {
      "text/plain": [
       "['AbstractSet',\n",
       " 'Any',\n",
       " 'AnyStr',\n",
       " 'AsyncContextManager',\n",
       " 'AsyncGenerator',\n",
       " 'AsyncIterable',\n",
       " 'AsyncIterator',\n",
       " 'Awaitable',\n",
       " 'BinaryIO',\n",
       " 'ByteString',\n",
       " 'CT_co',\n",
       " 'Callable',\n",
       " 'ChainMap',\n",
       " 'ClassVar',\n",
       " 'Collection',\n",
       " 'Container',\n",
       " 'ContextManager',\n",
       " 'Coroutine',\n",
       " 'Counter',\n",
       " 'DefaultDict',\n",
       " 'Deque',\n",
       " 'Dict',\n",
       " 'ForwardRef',\n",
       " 'FrozenSet',\n",
       " 'Generator',\n",
       " 'Generic',\n",
       " 'Hashable',\n",
       " 'IO',\n",
       " 'ItemsView',\n",
       " 'Iterable',\n",
       " 'Iterator',\n",
       " 'KT',\n",
       " 'KeysView',\n",
       " 'List',\n",
       " 'Mapping',\n",
       " 'MappingView',\n",
       " 'Match',\n",
       " 'MethodDescriptorType',\n",
       " 'MethodWrapperType',\n",
       " 'MutableMapping',\n",
       " 'MutableSequence',\n",
       " 'MutableSet',\n",
       " 'NamedTuple',\n",
       " 'NamedTupleMeta',\n",
       " 'NewType',\n",
       " 'NoReturn',\n",
       " 'Optional',\n",
       " 'OrderedDict',\n",
       " 'Pattern',\n",
       " 'Reversible',\n",
       " 'Sequence',\n",
       " 'Set',\n",
       " 'Sized',\n",
       " 'SupportsAbs',\n",
       " 'SupportsBytes',\n",
       " 'SupportsComplex',\n",
       " 'SupportsFloat',\n",
       " 'SupportsInt',\n",
       " 'SupportsRound',\n",
       " 'T',\n",
       " 'TYPE_CHECKING',\n",
       " 'T_co',\n",
       " 'T_contra',\n",
       " 'Text',\n",
       " 'TextIO',\n",
       " 'Tuple',\n",
       " 'Type',\n",
       " 'TypeVar',\n",
       " 'Union',\n",
       " 'VT',\n",
       " 'VT_co',\n",
       " 'V_co',\n",
       " 'ValuesView',\n",
       " 'WrapperDescriptorType',\n",
       " '_Final',\n",
       " '_GenericAlias',\n",
       " '_Immutable',\n",
       " '_Protocol',\n",
       " '_ProtocolMeta',\n",
       " '_SpecialForm',\n",
       " '_TypingEllipsis',\n",
       " '_TypingEmpty',\n",
       " '_VariadicGenericAlias',\n",
       " '__all__',\n",
       " '__builtins__',\n",
       " '__cached__',\n",
       " '__doc__',\n",
       " '__file__',\n",
       " '__loader__',\n",
       " '__name__',\n",
       " '__package__',\n",
       " '__spec__',\n",
       " '_alias',\n",
       " '_allowed_types',\n",
       " '_check_generic',\n",
       " '_cleanups',\n",
       " '_collect_type_vars',\n",
       " '_eval_type',\n",
       " '_get_defaults',\n",
       " '_is_dunder',\n",
       " '_make_nmtuple',\n",
       " '_normalize_alias',\n",
       " '_overload_dummy',\n",
       " '_prohibited',\n",
       " '_remove_dups_flatten',\n",
       " '_special',\n",
       " '_subs_tvars',\n",
       " '_tp_cache',\n",
       " '_type_check',\n",
       " '_type_repr',\n",
       " 'abc',\n",
       " 'abstractmethod',\n",
       " 'abstractproperty',\n",
       " 'cast',\n",
       " 'collections',\n",
       " 'contextlib',\n",
       " 'functools',\n",
       " 'get_type_hints',\n",
       " 'io',\n",
       " 'no_type_check',\n",
       " 'no_type_check_decorator',\n",
       " 'operator',\n",
       " 'overload',\n",
       " 're',\n",
       " 'stdlib_re',\n",
       " 'sys',\n",
       " 'types']"
      ]
     },
     "execution_count": 9,
     "metadata": {},
     "output_type": "execute_result"
    }
   ],
   "source": [
    "import typing\n",
    "dir(typing)"
   ]
  },
  {
   "cell_type": "code",
   "execution_count": null,
   "metadata": {},
   "outputs": [],
   "source": []
  },
  {
   "cell_type": "markdown",
   "metadata": {},
   "source": [
    "http://localhost:8888/lab/workspaces/auto-m/tree/OneDrive/%E6%96%87%E4%BB%B6/Jupyter%20Notebooks/I%20study%20Pandas.ipynb"
   ]
  },
  {
   "cell_type": "code",
   "execution_count": null,
   "metadata": {},
   "outputs": [],
   "source": [
    "import pandas as pd"
   ]
  },
  {
   "cell_type": "markdown",
   "metadata": {},
   "source": [
    "## 研究 pandas read data 的眾多方法\n",
    "\n",
    "我看其中就是 pd.read_clipboard() 好用。先把資料抓進 clipboard 然後執行之即得。\n",
    "研究 iterations 數的分布的目的是想藉以調整 Annealing Algorithm 的 hyper-parameter "
   ]
  },
  {
   "cell_type": "code",
   "execution_count": null,
   "metadata": {},
   "outputs": [],
   "source": [
    "data = pd.read_clipboard()\n",
    "data"
   ]
  },
  {
   "cell_type": "code",
   "execution_count": null,
   "metadata": {},
   "outputs": [],
   "source": [
    "%f data :> describe() ==>\n",
    "%f data :> Data.median() --> "
   ]
  },
  {
   "cell_type": "code",
   "execution_count": null,
   "metadata": {},
   "outputs": [],
   "source": [
    "data = pd.read_clipboard()\n",
    "data"
   ]
  },
  {
   "cell_type": "code",
   "execution_count": null,
   "metadata": {},
   "outputs": [],
   "source": [
    "%f data :> describe() ==>\n",
    "%f data :> Iterations.median() --> "
   ]
  },
  {
   "cell_type": "markdown",
   "metadata": {},
   "source": [
    "### 調出 vspeed -40.2 看這樣算不算通過？算。但 Y=99.5 還不算觸地！\n",
    "\n",
    "2021/04/28 21:04 咱的模擬完全正確，但是他的觸地標準出乎意外： Y 高度「四捨五入之後」 小於地平線 100 所以 Y=99.72 還不算觸地！ \n",
    "\n",
    "    state --> {'step': 86, 'x': 0, 'y': 136.72, 'hspeed': 0, 'vspeed': -35.14, 'fuel': 216, 'angle': 0, 'power': 0, 'force': -3.711}\n",
    "\n",
    "    state --> {'step': 87, 'x': 0, 'y': 99.72, 'hspeed': 0, 'vspeed': -38.85, 'fuel': 216, 'angle': 0, 'power': 0, 'force': -3.711} <== 我認為這時候就安全降落了，但還沒。\n",
    "\n",
    "    state --> {'step': 88, 'x': 0, 'y': 59.00, 'hspeed': 0, 'vspeed': -42.56, 'fuel': 216, 'angle': 0, 'power': 0, 'force': -3.711} <== 他到這時才算觸地，已經超速了。\n",
    "\n",
    "2021/04/28 21:18 想想他是對的，因為 四捨五入 之故也要考慮不能讓 100.49  算作觸地，故然。但是 vspeed -40.2 算通過。所以只有 Y 高度挑剔。\n",
    "\t\t2021/04/28 21:20 承上，cost_of_state() 要改寫。\n"
   ]
  },
  {
   "cell_type": "code",
   "execution_count": 167,
   "metadata": {},
   "outputs": [
    {
     "name": "stdout",
     "output_type": "stream",
     "text": [
      "genome count --> 110 (<class 'int'>)\n",
      "genome_to_command_list :> (pop()) --> [[0, 0], [0, 0], [0, 0], [0, 0], [0, 0], [0, 0], [0, 0], [0, 0], [0, 1], [0, 2], [0, 3], [0, 4], [0, 4], [0, 4], [0, 4], [0, 4], [0, 4], [0, 4], [0, 4], [0, 4], [0, 4], [0, 4], [0, 4], [0, 4], [0, 4], [0, 4], [0, 4], [0, 4], [0, 4], [0, 4], [0, 4], [0, 4], [0, 4], [0, 4], [0, 4], [0, 4], [0, 4], [0, 4], [0, 4], [0, 4], [0, 4], [0, 4], [0, 4], [0, 4], [0, 4], [0, 4], [0, 4], [0, 4], [0, 4], [0, 4], [0, 4], [0, 4], [0, 4], [0, 4], [0, 4], [0, 4], [0, 4], [0, 4], [0, 4], [0, 4], [0, 4], [0, 4], [0, 4], [0, 4], [0, 4], [0, 4], [0, 4], [0, 4], [0, 4], [0, 4], [0, 4], [0, 4], [0, 4], [0, 4], [0, 4], [0, 4], [0, 4], [0, 4], [0, 4], [0, 4], [0, 4], [0, 4], [0, 4], [0, 4], [0, 4], [0, 4], [0, 4], [0, 4], [0, 4], [0, 4], [0, 4], [0, 4], [0, 4], [0, 4], [0, 4], [0, 4], [0, 4], [0, 4], [0, 4], [0, 3], [0, 2], [0, 2], [0, 2], [0, 1], [0, 0], [0, 0], [0, 0], [0, 0], [0, 0], [0, 0]] (<class 'list'>)\n",
      "state --> {'step': 110, 'x': 0, 'y': 98.45000000000859, 'hspeed': 0, 'vspeed': -40.209999999999894, 'fuel': 132, 'angle': 0, 'power': 0, 'force': -3.711} (<class '__main__.State'>)\n",
      "state cost_of_state :> (pop()) --> 458 (<class 'int'>)\n"
     ]
    }
   ],
   "source": [
    "# 調出 vspeed -40.2 看這樣算不算通過？\n",
    "state = State(**state0.__dict__)  # init for ecah genome \n",
    "genes = []\n",
    "for i in range(8):\n",
    "    state.next(0,0);\n",
    "    genes.append([0,0])\n",
    "for i in range(9,99):\n",
    "    state.next(0,1);\n",
    "    genes.append([0,1])\n",
    "for i in [[0,1],[0,-1],[0,-1],[0,0],[0,0],[0,-1],[0,-1],[0,-1],[0,-1],[0,-1],]:\n",
    "    state.next(*i);\n",
    "    genes.append(i)\n",
    "genome, state = simulate_of_genome(genes)\n",
    "%f genome count --> \n",
    "%f genome_to_command_list :> (pop()) -->\n",
    "%f state -->\n",
    "%f state cost_of_state :> (pop()) -->"
   ]
  },
  {
   "cell_type": "code",
   "execution_count": null,
   "metadata": {},
   "outputs": [],
   "source": []
  },
  {
   "cell_type": "markdown",
   "metadata": {},
   "source": [
    "### 錄取 genome 供研究用"
   ]
  },
  {
   "cell_type": "raw",
   "metadata": {},
   "source": [
    "1. 故意用 安全著陸 的數據當起點，看 temperature 多少會怎樣，藉此測出 temperature 的性質。或許可以藉此訂出合理的 hyperparameters.\n",
    "2. 同上，但用兩個相鄰的 安全著陸 來測，看 temperature 能不能跨向好一點的 solution "
   ]
  },
  {
   "cell_type": "code",
   "execution_count": null,
   "metadata": {
    "scrolled": true
   },
   "outputs": [],
   "source": [
    "%%f \n",
    "\\ 模擬安全降落\n",
    "\n",
    "' genome [if] [] to genome [else] [] value genome [then] \n",
    "' state [if] [else] {} value state [then]\n",
    "\n",
    "state0 State :> (**pop().__dict__) to state\n",
    "\n",
    "9 [for] state :: next(0,0) genome :: append([0,0]) [next] \n",
    "91 9 - [for] state :: next(0,1) genome :: append([0,1]) [next] \n",
    "\n",
    "( 測試無誤 ) genome simulate_of_genome :> (pop()) dup :> [1] --> ==>\n",
    ".s        "
   ]
  },
  {
   "cell_type": "code",
   "execution_count": null,
   "metadata": {},
   "outputs": [],
   "source": []
  },
  {
   "cell_type": "code",
   "execution_count": 16,
   "metadata": {},
   "outputs": [
    {
     "name": "stdout",
     "output_type": "stream",
     "text": [
      "_ --> [[0, 1], [0, 1], [0, 1], [0, 1], [0, 1], [0, 0], [0, -1], [0, -1], [0, 1], [0, 1], [0, 0], [0, 1], [0, 1], [0, -1], [0, 1], [0, -1], [0, 0], [0, -1], [0, 0], [0, 0], [0, 1], [0, 1], [0, 0], [0, 1], [0, 1], [0, -1], [0, 0], [0, -1], [0, 0], [0, 1], [0, 1], [0, -1], [0, 1], [0, -1], [0, 0], [0, 1], [0, 0], [0, 0], [0, 0], [0, -1], [0, -1], [0, 1], [0, 1], [0, 0], [0, -1], [0, 0], [0, -1], [0, -1], [0, 0], [0, 0], [0, -1], [0, -1], [0, 0], [0, 1], [0, 0], [0, -1], [0, -1], [0, 1], [0, 0], [0, 0], [0, -1], [0, -1], [0, 1], [0, -1], [0, -1], [0, 1], [0, 1], [0, 1], [0, 1], [0, 1], [0, 1], [0, 1], [0, -1], [0, 1], [0, 1]] (<class 'list'>)\n",
      "__ --> {'step': 75, 'x': 0, 'y': 74.81249999999878, 'hspeed': 0, 'vspeed': -86.32499999999995, 'fuel': 308, 'angle': 0, 'power': 4, 'force': 0.28900000000000015} (<class '__main__.State'>)\n",
      "__ cost_of_state :> (pop()) --> 828 (<class 'int'>)\n"
     ]
    }
   ],
   "source": [
    "# 這組 genome 的 cost 原來是 208 分，竟然比 成功降落的 322 還要低！\n",
    "# 僅修正 cost_of_state() 的誤解，現在變成 828 分了。\n",
    "genome = [[0, 1], [0, 1], [0, 1], [0, 1], [0, 1], [0, 0], [0, -1], [0, -1], [0, 1], [0, 1], [0, 0], [0, 1], [0, 1], [0, -1], [0, 1], [0, -1], [0, 0], [0, -1], [0, 0], [0, 0], [0, 1], [0, 1], [0, 0], [0, 1], [0, 1], [0, -1], [0, 0], [0, -1], [0, 0], [0, 1], [0, 1], [0, -1], [0, 1], [0, -1], [0, 0], [0, 1], [0, 0], [0, 0], [0, 0], [0, -1], [0, -1], [0, 1], [0, 1], [0, 0], [0, -1], [0, 0], [0, -1], [0, -1], [0, 0], [0, 0], [0, -1], [0, -1], [0, 0], [0, 1], [0, 0], [0, -1], [0, -1], [0, 1], [0, 0], [0, 0], [0, -1], [0, -1], [0, 1], [0, -1], [0, -1], [0, 1], [0, 1], [0, 1], [0, 1], [0, 1], [0, 1], [0, 1], [0, -1], [0, 1], [0, 1], [0, 1], [0, 1], [0, 1], [0, 1], [0, 1], [0, 1], [0, 1], [0, 1], [0, 1], [0, 1], [0, 1], [0, 1], [0, 1], [0, 1], [0, 1], [0, 1]]\n",
    "_ , __ = simulate_of_genome(genome)\n",
    "%f _ -->\n",
    "%f __ -->\n",
    "%f __ cost_of_state :> (pop()) -->\n"
   ]
  },
  {
   "cell_type": "code",
   "execution_count": null,
   "metadata": {},
   "outputs": [],
   "source": []
  },
  {
   "cell_type": "code",
   "execution_count": 29,
   "metadata": {},
   "outputs": [
    {
     "data": {
      "text/plain": [
       "[1, 2, 3]"
      ]
     },
     "execution_count": 29,
     "metadata": {},
     "output_type": "execute_result"
    }
   ],
   "source": [
    "a = [1,2,3,4,5]\n",
    "a = a[:3]\n",
    "a"
   ]
  },
  {
   "cell_type": "code",
   "execution_count": 30,
   "metadata": {},
   "outputs": [
    {
     "data": {
      "text/plain": [
       "[1, 2, 3, 3]"
      ]
     },
     "execution_count": 30,
     "metadata": {},
     "output_type": "execute_result"
    }
   ],
   "source": [
    "a.append(a[-1])\n",
    "a"
   ]
  },
  {
   "cell_type": "code",
   "execution_count": null,
   "metadata": {},
   "outputs": [],
   "source": []
  },
  {
   "cell_type": "code",
   "execution_count": 30,
   "metadata": {},
   "outputs": [
    {
     "name": "stdout",
     "output_type": "stream",
     "text": [
      "B i n g o !\n",
      "iterations --> 1 (<class 'int'>)\n",
      "cost --> 390 (<class 'int'>)\n",
      "state --> {'step': 116, 'x': 0, 'y': -1180.6079999999897, 'hspeed': 0, 'vspeed': -40.475999999999836, 'fuel': 110, 'angle': 0, 'power': 4, 'force': 0.28900000000000015} (<class '__main__.State'>)\n"
     ]
    },
    {
     "data": {
      "text/plain": [
       "390"
      ]
     },
     "execution_count": 30,
     "metadata": {},
     "output_type": "execute_result"
    }
   ],
   "source": [
    "# 擾動【安全降落】用來測試 sa() 的容忍度，也就是【局部最佳】的範圍。\n",
    "# 發現 'y': -1180.6079999999897 也 bingo <--- 有問題\n",
    "%f bd*\n",
    "random.seed(100)\n",
    "_ = sample_genomes[\"安全降落\"][:-11]\n",
    "_.append([0,-1])\n",
    "genome, iterations, cost, state = sa(_)\n",
    "%f \\ genome count --> ==>\n",
    "%f iterations -->\n",
    "%f cost -->\n",
    "%f state -->\n",
    "cost_of_state(state)"
   ]
  },
  {
   "cell_type": "code",
   "execution_count": null,
   "metadata": {},
   "outputs": [],
   "source": []
  },
  {
   "cell_type": "code",
   "execution_count": null,
   "metadata": {},
   "outputs": [],
   "source": []
  },
  {
   "cell_type": "markdown",
   "metadata": {},
   "source": [
    "### 查看 genomes 之間的距離\n",
    "\n",
    "跨 epochs 記錄這些成績相近的 current & neighbout 然後查看它們之間的距離。好奇：同樣或成績近似的 vectors 會有環形分布的情形嗎？ --> Genomes 之間的距離怎麼樣也都在 4 ~ 11 之間，看不出蛋黃區、蛋白區的趨勢，作罷。"
   ]
  },
  {
   "cell_type": "code",
   "execution_count": 24,
   "metadata": {},
   "outputs": [
    {
     "name": "stdout",
     "output_type": "stream",
     "text": [
      "distance :> ([[0,0],[0,0]],[[0,1],[0,1]]) --> 1.4142135623730951 (<class 'numpy.float64'>)\n"
     ]
    }
   ],
   "source": [
    "# Get distance of two genomes where genomes are vectors  \n",
    "def distance(g1:GENOME, g2:GENOME):\n",
    "    def vector(genome): \n",
    "        a = [i[1] for i in genome]\n",
    "        assert len(a)<=200, 'Input genome length too long {}'.format(len(a))\n",
    "        for i in range(200-len(a)):\n",
    "            a.append(0)\n",
    "        return np.array(a)\n",
    "    return np.linalg.norm(vector(g1)-vector(g2))\n",
    "\n",
    "%f distance :> ([[0,0],[0,0]],[[0,1],[0,1]]) -->"
   ]
  },
  {
   "cell_type": "code",
   "execution_count": 27,
   "metadata": {
    "tags": []
   },
   "outputs": [],
   "source": [
    "%f bd* \\ _*_\n",
    "%f epoch :> ([[0,1]]) constant r1\n",
    "%f epoch :> ([[0,1]]) constant r2\n",
    "%f epoch :> ([[0,1]]) constant r3\n",
    "%f epoch :> ([[0,1]]) constant r4"
   ]
  },
  {
   "cell_type": "code",
   "execution_count": 37,
   "metadata": {
    "tags": []
   },
   "outputs": [],
   "source": [
    "%f epoch :> ([[0,0],[0,0],[0,0],[0,0],[0,0],[0,0],[0,0],[0,0],[0,0],[0,1],[0,1],[0,1],[0,1],[0,1],[0,1],[0,1],[0,1],[0,1],[0,1],[0,1],[0,1],[0,1],[0,1],[0,1],[0,1],[0,1],[0,1],[0,1],[0,1],[0,1],[0,1],[0,1],[0,1],[0,1],[0,1],[0,1],[0,1],[0,1],[0,1],[0,1],[0,1],[0,1],[0,1],[0,1],[0,1],[0,1],[0,1],[0,1],[0,1],[0,1],[0,1],[0,1],[0,1],[0,1],[0,1],[0,1],[0,1],[0,1],[0,1],[0,1],[0,1],[0,1],[0,1],[0,1],[0,1],[0,1],[0,1],[0,1],[0,1],[0,1],[0,1],[0,1],[0,1],[0,1],[0,1],[0,1],[0,1],[0,1],[0,1],[0,1],[0,1],[0,1],[0,1],[0,1],[0,1],[0,1],[0,1],[0,1],[0,1],[0,1],[0,1]]) constant ok1\n",
    "%f epoch :> ([[0,0],[0,0],[0,0],[0,0],[0,0],[0,0],[0,0],[0,0],[0,0],[0,1],[0,1],[0,1],[0,1],[0,1],[0,1],[0,1],[0,1],[0,1],[0,1],[0,1],[0,1],[0,1],[0,1],[0,1],[0,1],[0,1],[0,1],[0,1],[0,1],[0,1],[0,1],[0,1],[0,1],[0,1],[0,1],[0,1],[0,1],[0,1],[0,1],[0,1],[0,1],[0,1],[0,1],[0,1],[0,1],[0,1],[0,1],[0,1],[0,1],[0,1],[0,1],[0,1],[0,1],[0,1],[0,1],[0,1],[0,1],[0,1],[0,1],[0,1],[0,1],[0,1],[0,1],[0,1],[0,1],[0,1],[0,1],[0,1],[0,1],[0,1],[0,1],[0,1],[0,1],[0,1],[0,1],[0,1],[0,1],[0,1],[0,1],[0,1],[0,1],[0,-1],[0,-1],[0,-1],[0,-1],[0,-1],[0,-1],[0,-1]]) constant ok2"
   ]
  },
  {
   "cell_type": "code",
   "execution_count": 44,
   "metadata": {
    "collapsed": true,
    "jupyter": {
     "outputs_hidden": true
    },
    "tags": []
   },
   "outputs": [
    {
     "name": "stdout",
     "output_type": "stream",
     "text": [
      "{'cost': 1318, 'delta': -48, 'temperature': 9.0, 'exp': 'n/a'}\n",
      "{'cost': 1173, 'delta': -145, 'temperature': 9.0, 'exp': 'n/a'}\n",
      "{'cost': 854, 'delta': -319, 'temperature': 9.0, 'exp': 'n/a'}\n",
      "{'cost': 765, 'delta': -89, 'temperature': 9.0, 'exp': 'n/a'}\n",
      "{'cost': 724, 'delta': -41, 'temperature': 9.0, 'exp': 'n/a'}\n",
      "{'cost': 739, 'delta': 15, 'temperature': 9.0, 'exp': 0.19}\n",
      "{'cost': 739, 'delta': 0, 'temperature': 9.0, 'exp': 1.0}\n",
      "{'cost': 520, 'delta': -219, 'temperature': 9.0, 'exp': 'n/a'}\n",
      "{'cost': 531, 'delta': 11, 'temperature': 9.0, 'exp': 0.29}\n",
      "{'cost': 342, 'delta': -189, 'temperature': 9.0, 'exp': 'n/a'}\n",
      "{'cost': 316, 'delta': -26, 'temperature': 9.0, 'exp': 'n/a'}\n",
      "{'cost': 301, 'delta': -15, 'temperature': 9.0, 'exp': 'n/a'}\n",
      "{'cost': 249, 'delta': -52, 'temperature': 9.0, 'exp': 'n/a'}\n",
      "{'cost': 264, 'delta': 15, 'temperature': 9.0, 'exp': 0.19}\n",
      "{'cost': 264, 'delta': 0, 'temperature': 9.0, 'exp': 1.0}\n",
      "{'cost': 249, 'delta': -15, 'temperature': 9.0, 'exp': 'n/a'}\n",
      "{'cost': 249, 'delta': 0, 'temperature': 9.0, 'exp': 1.0}\n",
      "{'cost': 243, 'delta': -6, 'temperature': 9.0, 'exp': 'n/a'}\n",
      "B i n g o ! iterations:44 temperature:8.9 curent_cost:243\n",
      "{'cost': 249, 'delta': 6, 'temperature': 8.9, 'exp': 0.51}\n",
      "{'cost': 249, 'delta': 0, 'temperature': 8.9, 'exp': 1.0}\n",
      "{'cost': 249, 'delta': 0, 'temperature': 8.9, 'exp': 1.0}\n",
      "{'cost': 252, 'delta': 3, 'temperature': 8.9, 'exp': 0.71}\n",
      "B i n g o ! iterations:52 temperature:8.8 curent_cost:252\n",
      "{'cost': 247, 'delta': -5, 'temperature': 8.8, 'exp': 'n/a'}\n",
      "B i n g o ! iterations:53 temperature:8.7 curent_cost:247\n",
      "{'cost': 242, 'delta': -5, 'temperature': 8.7, 'exp': 'n/a'}\n",
      "B i n g o ! iterations:54 temperature:8.6 curent_cost:242\n",
      "B i n g o ! iterations:55 temperature:8.5 curent_cost:242\n",
      "B i n g o ! iterations:56 temperature:8.4 curent_cost:242\n",
      "{'cost': 241, 'delta': -1, 'temperature': 8.4, 'exp': 'n/a'}\n",
      "B i n g o ! iterations:57 temperature:8.3 curent_cost:241\n",
      "B i n g o ! iterations:58 temperature:8.2 curent_cost:241\n",
      "{'cost': 224, 'delta': -17, 'temperature': 8.2, 'exp': 'n/a'}\n",
      "B i n g o ! iterations:59 temperature:8.1 curent_cost:224\n",
      "{'cost': 212, 'delta': -12, 'temperature': 8.1, 'exp': 'n/a'}\n",
      "{'cost': 212, 'delta': 0, 'temperature': 8.1, 'exp': 1.0}\n",
      "{'cost': 212, 'delta': 0, 'temperature': 8.1, 'exp': 1.0}\n",
      "{'cost': 212, 'delta': 0, 'temperature': 8.1, 'exp': 1.0}\n",
      "{'cost': 212, 'delta': 0, 'temperature': 8.1, 'exp': 1.0}\n",
      "{'cost': 212, 'delta': 0, 'temperature': 8.1, 'exp': 1.0}\n",
      "{'cost': 201, 'delta': -11, 'temperature': 8.1, 'exp': 'n/a'}\n",
      "{'cost': 201, 'delta': 0, 'temperature': 8.1, 'exp': 1.0}\n",
      "{'cost': 201, 'delta': 0, 'temperature': 8.1, 'exp': 1.0}\n",
      "{'cost': 200, 'delta': -1, 'temperature': 8.1, 'exp': 'n/a'}\n",
      "B i n g o ! iterations:104 temperature:8.0 curent_cost:200\n",
      "B i n g o ! iterations:105 temperature:7.9 curent_cost:200\n",
      "{'cost': 190, 'delta': -10, 'temperature': 7.9, 'exp': 'n/a'}\n",
      "B i n g o ! iterations:106 temperature:7.8 curent_cost:190\n",
      "B i n g o ! iterations:107 temperature:7.7 curent_cost:190\n",
      "B i n g o ! iterations:108 temperature:7.6 curent_cost:190\n",
      "B i n g o ! iterations:109 temperature:7.5 curent_cost:190\n",
      "B i n g o ! iterations:110 temperature:7.4 curent_cost:190\n",
      "B i n g o ! iterations:111 temperature:7.3 curent_cost:190\n",
      "B i n g o ! iterations:112 temperature:7.2 curent_cost:190\n",
      "B i n g o ! iterations:113 temperature:7.1 curent_cost:190\n",
      "B i n g o ! iterations:114 temperature:7.0 curent_cost:190\n",
      "B i n g o ! iterations:115 temperature:6.9 curent_cost:190\n",
      "B i n g o ! iterations:116 temperature:6.8 curent_cost:190\n",
      "{'cost': 190, 'delta': 0, 'temperature': 6.8, 'exp': 1.0}\n",
      "B i n g o ! iterations:117 temperature:6.7 curent_cost:190\n",
      "B i n g o ! iterations:118 temperature:6.6 curent_cost:190\n",
      "B i n g o ! iterations:119 temperature:6.5 curent_cost:190\n",
      "B i n g o ! iterations:120 temperature:6.4 curent_cost:190\n",
      "B i n g o ! iterations:121 temperature:6.3 curent_cost:190\n",
      "B i n g o ! iterations:122 temperature:6.2 curent_cost:190\n",
      "B i n g o ! iterations:123 temperature:6.1 curent_cost:190\n",
      "B i n g o ! iterations:124 temperature:6.0 curent_cost:190\n",
      "B i n g o ! iterations:125 temperature:5.9 curent_cost:190\n",
      "B i n g o ! iterations:126 temperature:5.8 curent_cost:190\n",
      "B i n g o ! iterations:127 temperature:5.7 curent_cost:190\n",
      "B i n g o ! iterations:128 temperature:5.6 curent_cost:190\n",
      "B i n g o ! iterations:129 temperature:5.5 curent_cost:190\n",
      "{'cost': 190, 'delta': 0, 'temperature': 5.5, 'exp': 1.0}\n",
      "B i n g o ! iterations:130 temperature:5.4 curent_cost:190\n",
      "B i n g o ! iterations:131 temperature:5.3 curent_cost:190\n",
      "B i n g o ! iterations:132 temperature:5.2 curent_cost:190\n",
      "B i n g o ! iterations:133 temperature:5.1 curent_cost:190\n",
      "B i n g o ! iterations:134 temperature:5.0 curent_cost:190\n",
      "B i n g o ! iterations:135 temperature:4.9 curent_cost:190\n",
      "B i n g o ! iterations:136 temperature:4.8 curent_cost:190\n",
      "B i n g o ! iterations:137 temperature:4.7 curent_cost:190\n",
      "B i n g o ! iterations:138 temperature:4.6 curent_cost:190\n",
      "B i n g o ! iterations:139 temperature:4.5 curent_cost:190\n",
      "B i n g o ! iterations:140 temperature:4.4 curent_cost:190\n",
      "B i n g o ! iterations:141 temperature:4.3 curent_cost:190\n",
      "{'cost': 190, 'delta': 0, 'temperature': 4.3, 'exp': 1.0}\n",
      "B i n g o ! iterations:142 temperature:4.2 curent_cost:190\n",
      "B i n g o ! iterations:143 temperature:4.1 curent_cost:190\n",
      "B i n g o ! iterations:144 temperature:4.0 curent_cost:190\n",
      "B i n g o ! iterations:145 temperature:3.9 curent_cost:190\n",
      "B i n g o ! iterations:146 temperature:3.8 curent_cost:190\n",
      "B i n g o ! iterations:147 temperature:3.7 curent_cost:190\n",
      "{'cost': 196, 'delta': 6, 'temperature': 3.7, 'exp': 0.2}\n",
      "B i n g o ! iterations:148 temperature:3.6 curent_cost:196\n",
      "B i n g o ! iterations:149 temperature:3.5 curent_cost:196\n",
      "B i n g o ! iterations:150 temperature:3.4 curent_cost:196\n",
      "{'cost': 186, 'delta': -10, 'temperature': 3.4, 'exp': 'n/a'}\n",
      "B i n g o ! iterations:151 temperature:3.3 curent_cost:186\n",
      "B i n g o ! iterations:152 temperature:3.2 curent_cost:186\n",
      "B i n g o ! iterations:153 temperature:3.1 curent_cost:186\n",
      "B i n g o ! iterations:154 temperature:3.0 curent_cost:186\n",
      "B i n g o ! iterations:155 temperature:2.9 curent_cost:186\n",
      "B i n g o ! iterations:156 temperature:2.8 curent_cost:186\n",
      "B i n g o ! iterations:157 temperature:2.7 curent_cost:186\n",
      "B i n g o ! iterations:158 temperature:2.6 curent_cost:186\n",
      "B i n g o ! iterations:159 temperature:2.5 curent_cost:186\n",
      "B i n g o ! iterations:160 temperature:2.4 curent_cost:186\n",
      "B i n g o ! iterations:161 temperature:2.3 curent_cost:186\n",
      "B i n g o ! iterations:162 temperature:2.2 curent_cost:186\n",
      "{'cost': 186, 'delta': 0, 'temperature': 2.2, 'exp': 1.0}\n",
      "B i n g o ! iterations:163 temperature:2.1 curent_cost:186\n",
      "B i n g o ! iterations:164 temperature:2.0 curent_cost:186\n",
      "B i n g o ! iterations:165 temperature:1.9 curent_cost:186\n",
      "B i n g o ! iterations:166 temperature:1.8 curent_cost:186\n",
      "B i n g o ! iterations:167 temperature:1.7 curent_cost:186\n",
      "B i n g o ! iterations:168 temperature:1.6 curent_cost:186\n",
      "B i n g o ! iterations:169 temperature:1.5 curent_cost:186\n",
      "B i n g o ! iterations:170 temperature:1.4 curent_cost:186\n",
      "B i n g o ! iterations:171 temperature:1.3 curent_cost:186\n",
      "B i n g o ! iterations:172 temperature:1.2 curent_cost:186\n",
      "B i n g o ! iterations:173 temperature:1.1 curent_cost:186\n",
      "{'cost': 186, 'delta': 0, 'temperature': 1.1, 'exp': 1.0}\n",
      "B i n g o ! iterations:174 temperature:1.0 curent_cost:186\n",
      "B i n g o ! iterations:175 temperature:0.9 curent_cost:186\n",
      "B i n g o ! iterations:176 temperature:0.8 curent_cost:186\n",
      "B i n g o ! iterations:177 temperature:0.7 curent_cost:186\n",
      "B i n g o ! iterations:178 temperature:0.6 curent_cost:186\n",
      "B i n g o ! iterations:179 temperature:0.5 curent_cost:186\n",
      "B i n g o ! iterations:180 temperature:0.4 curent_cost:186\n",
      "B i n g o ! iterations:181 temperature:0.3 curent_cost:186\n",
      "B i n g o ! iterations:182 temperature:0.2 curent_cost:186\n",
      "B i n g o ! iterations:183 temperature:0.1 curent_cost:186\n",
      "B i n g o ! iterations:184 temperature:0.0 curent_cost:186\n"
     ]
    }
   ],
   "source": [
    "%f epoch :> ([[0,0],[0,0],[0,0],[0,0],[0,0],[0,0],[0,0],[0,0],[0,0],[0,0],[0,0],[0,0],[0,0],[0,0],[0,0],[0,0],[0,0],[0,0],[0,0],[0,0],[0,0],[0,0],[0,0],[0,0],[0,0],[0,0],[0,0],[0,0],[0,0],[0,0],[0,0],[0,0],[0,0],[0,0],[0,0],[0,0]]) constant freefall"
   ]
  },
  {
   "cell_type": "code",
   "execution_count": 30,
   "metadata": {},
   "outputs": [
    {
     "data": {
      "text/plain": [
       "7.280109889280518"
      ]
     },
     "execution_count": 30,
     "metadata": {},
     "output_type": "execute_result"
    }
   ],
   "source": [
    "distance(peforth.dictate('r1').pop()[0],peforth.dictate('r2').pop()[0])"
   ]
  },
  {
   "cell_type": "code",
   "execution_count": 42,
   "metadata": {},
   "outputs": [
    {
     "name": "stdout",
     "output_type": "stream",
     "text": [
      "r1 :> [0]  r2 :> [0] distance :> (pop(1),pop(0)) --> 7.280109889280518 (<class 'numpy.float64'>)\n",
      "r1 :> [0]  r3 :> [0] distance :> (pop(1),pop(0)) --> 8.18535277187245 (<class 'numpy.float64'>)\n",
      "r1 :> [0]  r4 :> [0] distance :> (pop(1),pop(0)) --> 8.54400374531753 (<class 'numpy.float64'>)\n",
      "r2 :> [0]  r3 :> [0] distance :> (pop(1),pop(0)) --> 8.717797887081348 (<class 'numpy.float64'>)\n",
      "r2 :> [0]  r4 :> [0] distance :> (pop(1),pop(0)) --> 9.38083151964686 (<class 'numpy.float64'>)\n",
      "r3 :> [0]  r4 :> [0] distance :> (pop(1),pop(0)) --> 10.295630140987 (<class 'numpy.float64'>)\n",
      "r1 :> [2] --> 213 (<class 'int'>)\n",
      "r2 :> [2] --> 257 (<class 'int'>)\n",
      "r3 :> [2] --> 223 (<class 'int'>)\n",
      "r4 :> [2] --> 305 (<class 'int'>)\n",
      "ok1 :> [2] --> 206 (<class 'int'>)\n",
      "ok2 :> [2] --> 186 (<class 'int'>)\n",
      "ok1 :> [0]  r1 :> [0] distance :> (pop(1),pop(0)) --> 7.54983443527075 (<class 'numpy.float64'>)\n",
      "ok1 :> [0]  r2 :> [0] distance :> (pop(1),pop(0)) --> 8.246211251235321 (<class 'numpy.float64'>)\n",
      "ok1 :> [0]  r3 :> [0] distance :> (pop(1),pop(0)) --> 9.591663046625438 (<class 'numpy.float64'>)\n",
      "ok1 :> [0]  r4 :> [0] distance :> (pop(1),pop(0)) --> 10.392304845413264 (<class 'numpy.float64'>)\n",
      "ok2 :> [0]  r1 :> [0] distance :> (pop(1),pop(0)) --> 5.5677643628300215 (<class 'numpy.float64'>)\n",
      "ok2 :> [0]  r2 :> [0] distance :> (pop(1),pop(0)) --> 7.211102550927978 (<class 'numpy.float64'>)\n",
      "ok2 :> [0]  r3 :> [0] distance :> (pop(1),pop(0)) --> 8.602325267042627 (<class 'numpy.float64'>)\n",
      "ok2 :> [0]  r4 :> [0] distance :> (pop(1),pop(0)) --> 8.831760866327848 (<class 'numpy.float64'>)\n",
      "ok1 :> [0]  ok2 :> [0] distance :> (pop(1),pop(0)) --> 7.483314773547883 (<class 'numpy.float64'>)\n"
     ]
    }
   ],
   "source": [
    "%f r1 :> [0]  r2 :> [0] distance :> (pop(1),pop(0)) -->\n",
    "%f r1 :> [0]  r3 :> [0] distance :> (pop(1),pop(0)) -->\n",
    "%f r1 :> [0]  r4 :> [0] distance :> (pop(1),pop(0)) -->\n",
    "%f r2 :> [0]  r3 :> [0] distance :> (pop(1),pop(0)) -->\n",
    "%f r2 :> [0]  r4 :> [0] distance :> (pop(1),pop(0)) -->\n",
    "%f r3 :> [0]  r4 :> [0] distance :> (pop(1),pop(0)) -->\n",
    "%f r1 :> [2] -->\n",
    "%f r2 :> [2] -->\n",
    "%f r3 :> [2] -->\n",
    "%f r4 :> [2] -->\n",
    "%f ok1 :> [2] -->\n",
    "%f ok2 :> [2] -->\n",
    "\n",
    "%f ok1 :> [0]  r1 :> [0] distance :> (pop(1),pop(0)) -->\n",
    "%f ok1 :> [0]  r2 :> [0] distance :> (pop(1),pop(0)) -->\n",
    "%f ok1 :> [0]  r3 :> [0] distance :> (pop(1),pop(0)) -->\n",
    "%f ok1 :> [0]  r4 :> [0] distance :> (pop(1),pop(0)) -->\n",
    "\n",
    "%f ok2 :> [0]  r1 :> [0] distance :> (pop(1),pop(0)) -->\n",
    "%f ok2 :> [0]  r2 :> [0] distance :> (pop(1),pop(0)) -->\n",
    "%f ok2 :> [0]  r3 :> [0] distance :> (pop(1),pop(0)) -->\n",
    "%f ok2 :> [0]  r4 :> [0] distance :> (pop(1),pop(0)) -->\n",
    "    \n",
    "%f ok1 :> [0]  ok2 :> [0] distance :> (pop(1),pop(0)) -->\n",
    "    "
   ]
  },
  {
   "cell_type": "code",
   "execution_count": 45,
   "metadata": {},
   "outputs": [
    {
     "name": "stdout",
     "output_type": "stream",
     "text": [
      "( 安全降落 vs 更成功 ) distance :> (pop(1),pop(0)) --> 5.5677643628300215 (<class 'numpy.float64'>)\n"
     ]
    }
   ],
   "source": [
    "%f py> [[0,0],[0,0],[0,0],[0,0],[0,0],[0,0],[0,0],[0,0],[0,0],[0,1],[0,1],[0,1],[0,1],[0,1],[0,1],[0,1],[0,1],[0,1],[0,1],[0,1],[0,1],[0,1],[0,1],[0,1],[0,1],[0,1],[0,1],[0,1],[0,1],[0,1],[0,1],[0,1],[0,1],[0,1],[0,1],[0,1],[0,1],[0,1],[0,1],[0,1],[0,1],[0,1],[0,1],[0,1],[0,1],[0,1],[0,1],[0,1],[0,1],[0,1],[0,1],[0,1],[0,1],[0,1],[0,1],[0,1],[0,1],[0,1],[0,1],[0,1],[0,1],[0,1],[0,1],[0,1],[0,1],[0,1],[0,1],[0,1],[0,1],[0,1],[0,1],[0,1],[0,1],[0,1],[0,1],[0,1],[0,1],[0,1],[0,1],[0,1],[0,1],[0,1],[0,1],[0,1],[0,1],[0,1],[0,1],[0,1],[0,1],[0,1],[0,1]]\n",
    "%f py> [[0,0],[0,0],[0,0],[0,0],[0,0],[0,0],[0,0],[0,0],[0,0],[0,1],[0,1],[0,1],[0,1],[0,1],[0,1],[0,1],[0,1],[0,1],[0,1],[0,1],[0,1],[0,1],[0,1],[0,1],[0,1],[0,1],[0,1],[0,1],[0,1],[0,1],[0,1],[0,1],[0,1],[0,1],[0,1],[0,1],[0,1],[0,1],[0,1],[0,1],[0,1],[0,1],[0,1],[0,1],[0,1],[0,1],[0,1],[0,1],[0,1],[0,1],[0,1],[0,1],[0,1],[0,1],[0,1],[0,1],[0,1],[0,1],[0,1],[0,1],[0,1],[0,1],[0,1],[0,1],[0,1],[0,1],[0,1],[0,1],[0,1],[0,1],[0,1],[0,1],[0,1],[0,1],[0,1],[0,1],[0,1],[0,1],[0,1],[0,1],[0,1],[0,-1],[0,-1],[0,-1],[0,-1],[0,-1],[0,-1],[0,-1]]\n",
    "%f ( 安全降落 vs 更成功 ) distance :> (pop(1),pop(0)) -->\n"
   ]
  },
  {
   "cell_type": "code",
   "execution_count": 46,
   "metadata": {},
   "outputs": [
    {
     "name": "stdout",
     "output_type": "stream",
     "text": [
      "( 安全降落 vs 自由落體 ) distance :> (pop(1),pop(0)) --> 9.055385138137417 (<class 'numpy.float64'>)\n"
     ]
    }
   ],
   "source": [
    "%f py> [[0,0],[0,0],[0,0],[0,0],[0,0],[0,0],[0,0],[0,0],[0,0],[0,1],[0,1],[0,1],[0,1],[0,1],[0,1],[0,1],[0,1],[0,1],[0,1],[0,1],[0,1],[0,1],[0,1],[0,1],[0,1],[0,1],[0,1],[0,1],[0,1],[0,1],[0,1],[0,1],[0,1],[0,1],[0,1],[0,1],[0,1],[0,1],[0,1],[0,1],[0,1],[0,1],[0,1],[0,1],[0,1],[0,1],[0,1],[0,1],[0,1],[0,1],[0,1],[0,1],[0,1],[0,1],[0,1],[0,1],[0,1],[0,1],[0,1],[0,1],[0,1],[0,1],[0,1],[0,1],[0,1],[0,1],[0,1],[0,1],[0,1],[0,1],[0,1],[0,1],[0,1],[0,1],[0,1],[0,1],[0,1],[0,1],[0,1],[0,1],[0,1],[0,1],[0,1],[0,1],[0,1],[0,1],[0,1],[0,1],[0,1],[0,1],[0,1]]\n",
    "%f py> [[0,0],[0,0],[0,0],[0,0],[0,0],[0,0],[0,0],[0,0],[0,0],[0,0],[0,0],[0,0],[0,0],[0,0],[0,0],[0,0],[0,0],[0,0],[0,0],[0,0],[0,0],[0,0],[0,0],[0,0],[0,0],[0,0],[0,0],[0,0],[0,0],[0,0],[0,0],[0,0],[0,0],[0,0],[0,0],[0,0]]\n",
    "%f ( 安全降落 vs 自由落體 ) distance :> (pop(1),pop(0)) -->"
   ]
  },
  {
   "cell_type": "code",
   "execution_count": null,
   "metadata": {},
   "outputs": [],
   "source": []
  },
  {
   "cell_type": "code",
   "execution_count": null,
   "metadata": {},
   "outputs": [],
   "source": []
  },
  {
   "cell_type": "markdown",
   "metadata": {},
   "source": [
    "### SA tested with a given genome"
   ]
  },
  {
   "cell_type": "code",
   "execution_count": null,
   "metadata": {},
   "outputs": [],
   "source": [
    "%f bd*\n",
    "%f sample_genomes :> [\"安全降落\"]\n",
    "# random.seed(100)\n",
    "genome, iterations, cost, state = sa(peforth.pop())\n",
    "\n",
    "%f \\ genome count --> ==>\n",
    "%f iterations -->\n",
    "%f cost -->\n",
    "%f state -->\n",
    "cost_of_state(state)"
   ]
  },
  {
   "cell_type": "code",
   "execution_count": null,
   "metadata": {},
   "outputs": [],
   "source": [
    "# 擾動【安全降落】用來測試 sa() 的容忍度，也就是【局部最佳】的範圍。\n",
    "# 發現 'y': -1180.6079999999897 也 bingo <--- 有問題\n",
    "%f bd*\n",
    "# random.seed(0)\n",
    "_ = copy.deepcopy(sample_genomes[\"安全降落\"])[:-21]\n",
    "_.append([0,-1])\n",
    "genome, iterations, cost, state = sa(_)\n",
    "%f genome count --> nip\n",
    "%f iterations -->\n",
    "%f cost -->\n",
    "%f state -->\n",
    "%f state cost_of_state :> (pop()) -->\n",
    "%f \\ genome genome_to_command_list :> (pop()) -->"
   ]
  },
  {
   "cell_type": "raw",
   "metadata": {},
   "source": [
    "這組 genome 值成績超好！！！\n",
    "{'cost': 531, 'delta': -15, 'temperature': 1.0, 'exp': 'n/a'}\n",
    "{'cost': 483, 'delta': -48, 'temperature': 1.0, 'exp': 'n/a'}\n",
    "{'cost': 457, 'delta': -26, 'temperature': 0.95, 'exp': 'n/a'}\n",
    "{'cost': 379, 'delta': -78, 'temperature': 0.95, 'exp': 'n/a'}\n",
    "{'cost': 198, 'delta': -181, 'temperature': 0.85, 'exp': 'n/a'}\n",
    "B i n g o !\n",
    "genome count --> 63 (<class 'int'>)\n",
    "genome count --> ==>\n",
    " [[0, 0], [0, 0], [0, 0], [0, 0], [0, 0], [0, 0], [0, 0], [0, 0], [0, 0], [0, 1], [0, -1], [0, 0], [0, 1], [0, 1], [0, 1], [0, 1], [0, 1], [0, 1], [0, 1], [0, 1], [0, 1], [0, 1], [0, 1], [0, 1], [0, 1], [0, 1], [0, 1], [0, 1], [0, 1], [0, 1], [0, 1], [0, 1], [0, 1], [0, 1], [0, 1], [0, 1], [0, 1], [0, 1], [0, 1], [0, 1], [0, 1], [0, 1], [0, 1], [0, 1], [0, 1], [0, 1], [0, 1], [0, 1], [0, 1], [0, 1], [0, 1], [0, 1], [0, 1], [0, 1], [0, 1], [0, 1], [0, 1], [0, 1], [0, 1], [0, -1], [0, 1], [0, 1], [0, 1]] (<class 'list'>)\n",
    "iterations --> 32 (<class 'int'>)\n",
    "cost --> 198 (<class 'int'>)\n",
    "state --> {'step': 63, 'x': 0, 'y': 88.52050000000307, 'hspeed': 0, 'vspeed': -35.792999999999914, 'fuel': 302, 'angle': 0, 'power': 4, 'force': 0.28900000000000015} (<class '__main__.State'>)\n",
    "state cost_of_state :> (pop()) --> 198 (<class 'int'>)\n",
    "genome genome_to_command_list :> (pop()) --> [[0, 0], [0, 0], [0, 0], [0, 0], [0, 0], [0, 0], [0, 0], [0, 0], [0, 0], [0, 1], [0, 0], [0, 0], [0, 1], [0, 2], [0, 3], [0, 4], [0, 4], [0, 4], [0, 4], [0, 4], [0, 4], [0, 4], [0, 4], [0, 4], [0, 4], [0, 4], [0, 4], [0, 4], [0, 4], [0, 4], [0, 4], [0, 4], [0, 4], [0, 4], [0, 4], [0, 4], [0, 4], [0, 4], [0, 4], [0, 4], [0, 4], [0, 4], [0, 4], [0, 4], [0, 4], [0, 4], [0, 4], [0, 4], [0, 4], [0, 4], [0, 4], [0, 4], [0, 4], [0, 4], [0, 4], [0, 4], [0, 4], [0, 4], [0, 4], [0, 3], [0, 4], [0, 4], [0, 4]] (<class 'list'>)"
   ]
  },
  {
   "cell_type": "code",
   "execution_count": null,
   "metadata": {},
   "outputs": [],
   "source": [
    "# Mars Lander Episode-1 for the web site\n",
    "import sys\n",
    "surface_n = int(input())  # the number of points used to draw the surface of Mars.\n",
    "land = []\n",
    "for i in range(surface_n):\n",
    "    land.append([int(j) for j in input().split()])\n",
    "print(f\"{land}\", file=sys.stderr)    \n",
    "genome = [[0, 0], [0, 0], [0, 0], [0, 0], [0, 0], [0, 0], [0, 0], [0, 0], [0, 0], [0, 0], [0, 0], [0, 0], [0, 1], [0, 2], [0, 3], [0, 3], [0, 3], [0, 4], [0, 4], [0, 3], [0, 4], [0, 4], [0, 4], [0, 4], [0, 4], [0, 4], [0, 4], [0, 4], [0, 4], [0, 4], [0, 4], [0, 4], [0, 4], [0, 4], [0, 4], [0, 4], [0, 4], [0, 4], [0, 4], [0, 4], [0, 4], [0, 4], [0, 4], [0, 4], [0, 4], [0, 4], [0, 4], [0, 4], [0, 4], [0, 4], [0, 4], [0, 4], [0, 4], [0, 4], [0, 4], [0, 4], [0, 4], [0, 4]]\n",
    "round = 0\n",
    "while True:\n",
    "    x, y, h_speed, v_speed, fuel, rotate, power = [int(i) for i in input().split()]\n",
    "    print(f\"0 {str(genome[round][1])}\")\n",
    "    round += 1\n",
    "# Result remains fuel 325 "
   ]
  },
  {
   "cell_type": "code",
   "execution_count": null,
   "metadata": {},
   "outputs": [],
   "source": [
    "[[int(j) for j in input().split()] for i in range(int(input()))]\n",
    "\n",
    "# Error vars\n",
    "prev_error = 0\n",
    "sum_error = 0\n",
    "\n",
    "# PID controller constants\n",
    "KP = 49\n",
    "KI = 1\n",
    "KD = 49\n",
    "TARGET_SPEED = -40.0\n",
    "\n",
    "while True:\n",
    "    X, Y, HS, VS, F, R, P = [int(i) for i in input().split()]\n",
    "    \n",
    "    # PID controller\n",
    "    error = TARGET_SPEED - VS\n",
    "    sum_error += error\n",
    "    prev_error = error\n",
    "    cmd = KP * error + KI * sum_error + KD * (error - prev_error)\n",
    "\n",
    "    print(0, int(min(max(cmd, 0), 4)))\n",
    "\n",
    "# result 314 "
   ]
  },
  {
   "cell_type": "code",
   "execution_count": null,
   "metadata": {},
   "outputs": [],
   "source": []
  }
 ],
 "metadata": {
  "kernelspec": {
   "display_name": "Python 3",
   "language": "python",
   "name": "python3"
  },
  "language_info": {
   "codemirror_mode": {
    "name": "ipython",
    "version": 3
   },
   "file_extension": ".py",
   "mimetype": "text/x-python",
   "name": "python",
   "nbconvert_exporter": "python",
   "pygments_lexer": "ipython3",
   "version": "3.7.8"
  }
 },
 "nbformat": 4,
 "nbformat_minor": 4
}
