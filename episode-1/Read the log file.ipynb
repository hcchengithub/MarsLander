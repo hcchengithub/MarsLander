{
 "cells": [
  {
   "cell_type": "markdown",
   "metadata": {},
   "source": [
    "# Read the log file"
   ]
  },
  {
   "cell_type": "code",
   "execution_count": 8,
   "metadata": {},
   "outputs": [
    {
     "name": "stdout",
     "output_type": "stream",
     "text": [
      "reDef data-file\n"
     ]
    }
   ],
   "source": [
    "# Read data file\n",
    "import peforth, re\n",
    "import numpy as np\n",
    "%f s\" 5.log\" readTextFile constant data-file // ( -- text ) entire data file \n",
    "# 1.log 是自由落體 "
   ]
  },
  {
   "cell_type": "code",
   "execution_count": 9,
   "metadata": {},
   "outputs": [
    {
     "name": "stdout",
     "output_type": "stream",
     "text": [
      "x :> [:4] --> ['X=2500m, Y=2500m, HSpeed=0m/s VSpeed=0m/s', 'X=2500m, Y=2498m, HSpeed=0m/s VSpeed=-4m/s', 'X=2500m, Y=2493m, HSpeed=0m/s VSpeed=-7m/s', 'X=2500m, Y=2484m, HSpeed=0m/s VSpeed=-10m/s'] (<class 'list'>)\n",
      "x 看前幾行\n",
      "\n",
      "y :> [:4] --> ['Fuel=500l, Angle=0°, Power=0 (0.0m/s2)', 'Fuel=500l, Angle=0°, Power=0 (0.0m/s2)', 'Fuel=500l, Angle=0°, Power=0 (0.0m/s2)', 'Fuel=499l, Angle=0°, Power=1 (1.0m/s2)'] (<class 'list'>)\n",
      "y 看前幾行\n",
      "\n",
      "c :> [:4] --> ['command 0 0', 'command 0 0', 'command 0 1', 'command 0 0'] (<class 'list'>)\n",
      "c 看前幾行\n",
      "\n",
      "x py> len(pop()) --> 64 (<class 'int'>)\n",
      "看有幾行\n",
      "\n",
      "y py> len(pop()) --> 64 (<class 'int'>)\n",
      "看有幾行\n",
      "\n",
      "c py> len(pop()) --> 63 (<class 'int'>)\n",
      "看有幾行，最後一個 command 之前就撞毀了，所以少了一個。\n",
      "\n"
     ]
    }
   ],
   "source": [
    "# 從整個檔案切開每行，只挑要的\n",
    "ss = [s for s in peforth.execute('data-file').pop().split('\\n')] \n",
    "x = [s for s in ss if (\"X=\" in s)]\n",
    "y = [s for s in ss if (\"Fuel=\" in s)]\n",
    "c = [s for s in ss if (\"command\" in s)]\n",
    "\n",
    "%f x :> [:4] --> # x 看前幾行\n",
    "%f y :> [:4] --> # y 看前幾行\n",
    "%f c :> [:4] --> # c 看前幾行\n",
    "    \n",
    "%f x py> len(pop()) --> # 看有幾行\n",
    "%f y py> len(pop()) --> # 看有幾行\n",
    "%f c py> len(pop()) --> # 看有幾行，最後一個 command 之前就撞毀了，所以少了一個。\n"
   ]
  },
  {
   "cell_type": "code",
   "execution_count": 10,
   "metadata": {},
   "outputs": [
    {
     "name": "stdout",
     "output_type": "stream",
     "text": [
      "xarray :> [:16] --> [2500, 2500, 0, 0, 2500, 2498, 0, -4, 2500, 2493, 0, -7, 2500, 2484, 0, -10] (<class 'list'>)\n",
      "xarray count nip --> 256 (<class 'int'>)\n"
     ]
    }
   ],
   "source": [
    "xarray = []\n",
    "for i in range(len(x)):\n",
    "    s = x[i]\n",
    "    m = re.match(r\"X=(?P<X>\\d+)\\D*(?P<Y>\\d+)\\D*?(?P<hspeed>-?\\d+)\\D*?(?P<vspeed>-?\\d+).*\", s)\n",
    "    xarray += m.groups()\n",
    "xarray = list(map(int,xarray))\n",
    "%f xarray :> [:16] -->\n",
    "%f xarray count nip -->    \n"
   ]
  },
  {
   "cell_type": "code",
   "execution_count": 11,
   "metadata": {},
   "outputs": [
    {
     "name": "stdout",
     "output_type": "stream",
     "text": [
      "yarray :> [:16] --> [500, 0, 0, 500, 0, 0, 500, 0, 0, 499, 0, 1, 499, 0, 0, 498] (<class 'list'>)\n",
      "yarray count nip --> 192 (<class 'int'>)\n"
     ]
    }
   ],
   "source": [
    "yarray = []\n",
    "for i in range(len(y)):\n",
    "    s = y[i]\n",
    "    m = re.match(r\"Fuel=(?P<fuel>\\d+)\\D*?(?P<angle>-?\\d+)\\D*(?P<power>\\d+).*\", s)\n",
    "    yarray += m.groups()\n",
    "yarray = list(map(int,yarray))\n",
    "%f yarray :> [:16] -->\n",
    "%f yarray count nip -->    "
   ]
  },
  {
   "cell_type": "code",
   "execution_count": 12,
   "metadata": {},
   "outputs": [
    {
     "name": "stdout",
     "output_type": "stream",
     "text": [
      "carray :> [:16] --> [0, 0, 0, 0, 0, 1, 0, 0, 0, 1, 0, 0, 0, 0, 0, 1] (<class 'list'>)\n",
      "carray count nip --> 128 (<class 'int'>)\n"
     ]
    }
   ],
   "source": [
    "carray = []\n",
    "for i in range(len(c)):\n",
    "    s = c[i]\n",
    "    m = re.match(r\"\\D*?(?P<rotate>\\d+)\\s+(?P<power>\\d+)\", s)\n",
    "    carray += m.groups()\n",
    "carray = list(map(int,carray))+[99,99]  # 最後一個補上撞毀的那次 command 讓矩陣完整\n",
    "%f carray :> [:16] -->\n",
    "%f carray count nip -->    "
   ]
  },
  {
   "cell_type": "raw",
   "metadata": {},
   "source": [
    "# 原因可能是本以為 p0[1] == flate ground 就是著地了，好像不夠精細，要考慮小數！\n",
    "# 有時很奇怪，要加補一個\n",
    "carray = np.vstack((carray,[[99,99]]))"
   ]
  },
  {
   "cell_type": "code",
   "execution_count": 13,
   "metadata": {},
   "outputs": [],
   "source": [
    "xarray = np.array(xarray).reshape([-1,4])\n",
    "yarray = np.array(yarray).reshape([-1,3])\n",
    "carray = np.array(carray).reshape([-1,2])"
   ]
  },
  {
   "cell_type": "code",
   "execution_count": 14,
   "metadata": {},
   "outputs": [
    {
     "name": "stdout",
     "output_type": "stream",
     "text": [
      "xarray count nip --> 64 (<class 'int'>)\n",
      "yarray count nip --> 64 (<class 'int'>)\n",
      "carray count nip --> 64 (<class 'int'>)\n"
     ]
    }
   ],
   "source": [
    "%f xarray count nip -->\n",
    "%f yarray count nip -->\n",
    "%f carray count nip -->"
   ]
  },
  {
   "cell_type": "markdown",
   "metadata": {},
   "source": [
    "### 以下是從 log 檔讀出來的數據 "
   ]
  },
  {
   "cell_type": "code",
   "execution_count": 15,
   "metadata": {},
   "outputs": [
    {
     "name": "stdout",
     "output_type": "stream",
     "text": [
      "a count nip --> 64 (<class 'int'>)\n",
      "X Y HSpeed VSpeed Fuel Angle Power Rotate Power 後兩個是下一步的 command\n",
      "\n"
     ]
    },
    {
     "data": {
      "text/plain": [
       "[(0, [2500, 2500, 0, 0, 500, 0, 0, 0, 0]),\n",
       " (1, [2500, 2498, 0, -4, 500, 0, 0, 0, 0]),\n",
       " (2, [2500, 2493, 0, -7, 500, 0, 0, 0, 1]),\n",
       " (3, [2500, 2484, 0, -10, 499, 0, 1, 0, 0]),\n",
       " (4, [2500, 2472, 0, -14, 499, 0, 0, 0, 1]),\n",
       " (5, [2500, 2457, 0, -17, 498, 0, 1, 0, 0]),\n",
       " (6, [2500, 2438, 0, -20, 498, 0, 0, 0, 0]),\n",
       " (7, [2500, 2416, 0, -24, 498, 0, 0, 0, 1]),\n",
       " (8, [2500, 2391, 0, -27, 497, 0, 1, 0, 0]),\n",
       " (9, [2500, 2362, 0, -30, 497, 0, 0, 0, 1]),\n",
       " (10, [2500, 2330, 0, -33, 496, 0, 1, 0, 0]),\n",
       " (11, [2500, 2295, 0, -37, 496, 0, 0, 0, 1]),\n",
       " (12, [2500, 2257, 0, -40, 495, 0, 1, 0, 2]),\n",
       " (13, [2500, 2217, 0, -41, 493, 0, 2, 0, 3]),\n",
       " (14, [2500, 2175, 0, -42, 490, 0, 3, 0, 4]),\n",
       " (15, [2500, 2134, 0, -42, 486, 0, 4, 0, 4]),\n",
       " (16, [2500, 2092, 0, -41, 482, 0, 4, 0, 3]),\n",
       " (17, [2500, 2050, 0, -42, 479, 0, 3, 0, 4]),\n",
       " (18, [2500, 2008, 0, -42, 475, 0, 4, 0, 3]),\n",
       " (19, [2500, 1966, 0, -43, 472, 0, 3, 0, 4]),\n",
       " (20, [2500, 1924, 0, -42, 468, 0, 4, 0, 3]),\n",
       " (21, [2500, 1881, 0, -43, 465, 0, 3, 0, 4]),\n",
       " (22, [2500, 1838, 0, -43, 461, 0, 4, 0, 3]),\n",
       " (23, [2500, 1795, 0, -43, 458, 0, 3, 0, 4]),\n",
       " (24, [2500, 1752, 0, -43, 454, 0, 4, 0, 4]),\n",
       " (25, [2500, 1709, 0, -43, 450, 0, 4, 0, 4]),\n",
       " (26, [2500, 1667, 0, -42, 446, 0, 4, 0, 4]),\n",
       " (27, [2500, 1624, 0, -42, 442, 0, 4, 0, 3]),\n",
       " (28, [2500, 1582, 0, -43, 439, 0, 3, 0, 4]),\n",
       " (29, [2500, 1539, 0, -43, 435, 0, 4, 0, 4]),\n",
       " (30, [2500, 1497, 0, -42, 431, 0, 4, 0, 4]),\n",
       " (31, [2500, 1454, 0, -42, 427, 0, 4, 0, 3]),\n",
       " (32, [2500, 1412, 0, -43, 424, 0, 3, 0, 4]),\n",
       " (33, [2500, 1369, 0, -42, 420, 0, 4, 0, 3]),\n",
       " (34, [2500, 1327, 0, -43, 417, 0, 3, 0, 4]),\n",
       " (35, [2500, 1284, 0, -43, 413, 0, 4, 0, 4]),\n",
       " (36, [2500, 1241, 0, -43, 409, 0, 4, 0, 3]),\n",
       " (37, [2500, 1198, 0, -43, 406, 0, 3, 0, 4]),\n",
       " (38, [2500, 1155, 0, -43, 402, 0, 4, 0, 4]),\n",
       " (39, [2500, 1112, 0, -43, 398, 0, 4, 0, 4]),\n",
       " (40, [2500, 1069, 0, -42, 394, 0, 4, 0, 4]),\n",
       " (41, [2500, 1027, 0, -42, 390, 0, 4, 0, 3]),\n",
       " (42, [2500, 984, 0, -43, 387, 0, 3, 0, 4]),\n",
       " (43, [2500, 942, 0, -43, 383, 0, 4, 0, 4]),\n",
       " (44, [2500, 899, 0, -42, 379, 0, 4, 0, 4]),\n",
       " (45, [2500, 857, 0, -42, 375, 0, 4, 0, 3]),\n",
       " (46, [2500, 815, 0, -43, 372, 0, 3, 0, 4]),\n",
       " (47, [2500, 772, 0, -42, 368, 0, 4, 0, 4]),\n",
       " (48, [2500, 730, 0, -42, 364, 0, 4, 0, 4]),\n",
       " (49, [2500, 688, 0, -42, 360, 0, 4, 0, 3]),\n",
       " (50, [2500, 646, 0, -43, 357, 0, 3, 0, 4]),\n",
       " (51, [2500, 603, 0, -42, 353, 0, 4, 0, 3]),\n",
       " (52, [2500, 561, 0, -43, 350, 0, 3, 0, 4]),\n",
       " (53, [2500, 518, 0, -43, 346, 0, 4, 0, 4]),\n",
       " (54, [2500, 475, 0, -42, 342, 0, 4, 0, 3]),\n",
       " (55, [2500, 433, 0, -43, 339, 0, 3, 0, 4]),\n",
       " (56, [2500, 390, 0, -43, 335, 0, 4, 0, 4]),\n",
       " (57, [2500, 347, 0, -43, 331, 0, 4, 0, 4]),\n",
       " (58, [2500, 305, 0, -42, 327, 0, 4, 0, 4]),\n",
       " (59, [2500, 263, 0, -42, 323, 0, 4, 0, 4]),\n",
       " (60, [2500, 221, 0, -42, 319, 0, 4, 0, 4]),\n",
       " (61, [2500, 179, 0, -41, 315, 0, 4, 0, 4]),\n",
       " (62, [2500, 138, 0, -41, 311, 0, 4, 0, 4]),\n",
       " (63, [2500, 100, 0, -41, 307, 0, 4, 99, 99])]"
      ]
     },
     "execution_count": 15,
     "metadata": {},
     "output_type": "execute_result"
    }
   ],
   "source": [
    "a = []\n",
    "for i in range(len(xarray)):\n",
    "    a.append(list(xarray[i]) + list(yarray[i]) + list(carray[i]))\n",
    "%f a count nip --> # X Y HSpeed VSpeed Fuel Angle Power Rotate Power 後兩個是下一步的 command \n",
    "[ (i,a[i]) for i in range(len(a))]\n",
    "    "
   ]
  },
  {
   "cell_type": "code",
   "execution_count": null,
   "metadata": {},
   "outputs": [],
   "source": []
  }
 ],
 "metadata": {
  "kernelspec": {
   "display_name": "Python 3",
   "language": "python",
   "name": "python3"
  },
  "language_info": {
   "codemirror_mode": {
    "name": "ipython",
    "version": 3
   },
   "file_extension": ".py",
   "mimetype": "text/x-python",
   "name": "python",
   "nbconvert_exporter": "python",
   "pygments_lexer": "ipython3",
   "version": "3.6.0"
  }
 },
 "nbformat": 4,
 "nbformat_minor": 2
}
